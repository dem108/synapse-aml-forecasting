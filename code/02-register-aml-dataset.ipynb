{
  "cells": [
    {
      "cell_type": "code",
      "source": [
        "from azureml.core.workspace import Workspace\n",
        "\n",
        "ws = Workspace.from_config()\n",
        "ws"
      ],
      "outputs": [
        {
          "output_type": "execute_result",
          "execution_count": 10,
          "data": {
            "text/plain": "Workspace.create(name='aml-handson-202001', subscription_id='154f8fe6-ae93-4e43-a3f0-de54d735024c', resource_group='rg202001-aml-handson')"
          },
          "metadata": {}
        }
      ],
      "execution_count": 10,
      "metadata": {
        "gather": {
          "logged": 1617806036719
        }
      }
    },
    {
      "cell_type": "code",
      "source": [
        "from azureml.core import Datastore, Dataset\n",
        "\n",
        "datastore = Datastore.get(ws, datastore_name='gen2_from_synapse_ai_korcen')\n",
        "\n",
        "datastore_paths = [(datastore, '/battery/transformed/dataset_rw3/**')]\n",
        "\n",
        "train_ds = Dataset.Tabular.from_parquet_files(path=datastore_paths, validate=True)"
      ],
      "outputs": [],
      "execution_count": 14,
      "metadata": {
        "gather": {
          "logged": 1617806076261
        }
      }
    },
    {
      "cell_type": "code",
      "source": [
        "train_ds = train_ds.register(workspace=ws,\n",
        "    name='forecast-automl-battery-capacity-rw3',\n",
        "    description='forecast-automl-battery-capacity-rw3',\n",
        "    create_new_version=True)"
      ],
      "outputs": [],
      "execution_count": 15,
      "metadata": {
        "gather": {
          "logged": 1617806077623
        }
      }
    },
    {
      "cell_type": "code",
      "source": [
        "train_ds"
      ],
      "outputs": [
        {
          "output_type": "execute_result",
          "execution_count": 16,
          "data": {
            "text/plain": "{\n  \"source\": [\n    \"('gen2_from_synapse_ai_korcen', 'battery/transformed/dataset_rw3/**')\"\n  ],\n  \"definition\": [\n    \"GetDatastoreFiles\",\n    \"ReadParquetFile\",\n    \"DropColumns\"\n  ],\n  \"registration\": {\n    \"id\": \"e9d8e439-15d2-46e1-ada9-85e65d659928\",\n    \"name\": \"forecast-automl-battery-capacity-rw3\",\n    \"version\": 3,\n    \"description\": \"forecast-automl-battery-capacity-rw3\",\n    \"workspace\": \"Workspace.create(name='aml-handson-202001', subscription_id='154f8fe6-ae93-4e43-a3f0-de54d735024c', resource_group='rg202001-aml-handson')\"\n  }\n}"
          },
          "metadata": {}
        }
      ],
      "execution_count": 16,
      "metadata": {
        "gather": {
          "logged": 1617806078378
        }
      }
    },
    {
      "cell_type": "code",
      "source": [],
      "outputs": [],
      "execution_count": null,
      "metadata": {}
    }
  ],
  "metadata": {
    "kernelspec": {
      "name": "python3-azureml",
      "language": "python",
      "display_name": "Python 3.6 - AzureML"
    },
    "language_info": {
      "name": "python",
      "version": "3.6.9",
      "mimetype": "text/x-python",
      "codemirror_mode": {
        "name": "ipython",
        "version": 3
      },
      "pygments_lexer": "ipython3",
      "nbconvert_exporter": "python",
      "file_extension": ".py"
    },
    "orig_nbformat": 2,
    "kernel_info": {
      "name": "python3-azureml"
    },
    "nteract": {
      "version": "nteract-front-end@1.0.0"
    },
    "microsoft": {
      "host": {
        "AzureML": {
          "notebookHasBeenCompleted": true
        }
      }
    }
  },
  "nbformat": 4,
  "nbformat_minor": 2
}