{
  "cells": [
    {
      "cell_type": "code",
      "execution_count": 10,
      "metadata": {
        "gather": {
          "logged": 1617806036719
        }
      },
      "outputs": [
        {
          "data": {
            "text/plain": "Workspace.create(name='aml-handson-202001', subscription_id='154f8fe6-ae93-4e43-a3f0-de54d735024c', resource_group='rg202001-aml-handson')"
          },
          "execution_count": 10,
          "metadata": {},
          "output_type": "execute_result"
        }
      ],
      "source": [
        "from azureml.core.workspace import Workspace\n",
        "\n",
        "ws = Workspace.from_config()\n",
        "\n",
        "# if outside of AML ws, run the following\n",
        "# ws = Workspace.get(\n",
        "#     name='name',\n",
        "#     subscription_id='subscription_id',\n",
        "#     resource_group='resource_group',\n",
        "# )\n",
        "\n",
        "ws"
      ]
    },
    {
      "cell_type": "code",
      "execution_count": 14,
      "metadata": {
        "gather": {
          "logged": 1617806076261
        }
      },
      "outputs": [],
      "source": [
        "from azureml.core import Datastore, Dataset\n",
        "\n",
        "datastore = Datastore.get(ws, datastore_name='gen2_from_synapse_ai_korcen')\n",
        "\n",
        "datastore_paths = [(datastore, '/battery/transformed/dataset_rw3/**')]\n",
        "\n",
        "train_ds = Dataset.Tabular.from_parquet_files(path=datastore_paths, validate=True)"
      ]
    },
    {
      "cell_type": "code",
      "execution_count": 15,
      "metadata": {
        "gather": {
          "logged": 1617806077623
        }
      },
      "outputs": [],
      "source": [
        "train_ds = train_ds.register(workspace=ws,\n",
        "    name='forecast-automl-battery-capacity-rw3',\n",
        "    description='forecast-automl-battery-capacity-rw3',\n",
        "    create_new_version=True)"
      ]
    },
    {
      "cell_type": "code",
      "execution_count": 16,
      "metadata": {
        "gather": {
          "logged": 1617806078378
        }
      },
      "outputs": [
        {
          "data": {
            "text/plain": "{\n  \"source\": [\n    \"('gen2_from_synapse_ai_korcen', 'battery/transformed/dataset_rw3/**')\"\n  ],\n  \"definition\": [\n    \"GetDatastoreFiles\",\n    \"ReadParquetFile\",\n    \"DropColumns\"\n  ],\n  \"registration\": {\n    \"id\": \"e9d8e439-15d2-46e1-ada9-85e65d659928\",\n    \"name\": \"forecast-automl-battery-capacity-rw3\",\n    \"version\": 3,\n    \"description\": \"forecast-automl-battery-capacity-rw3\",\n    \"workspace\": \"Workspace.create(name='aml-handson-202001', subscription_id='154f8fe6-ae93-4e43-a3f0-de54d735024c', resource_group='rg202001-aml-handson')\"\n  }\n}"
          },
          "execution_count": 16,
          "metadata": {},
          "output_type": "execute_result"
        }
      ],
      "source": [
        "train_ds"
      ]
    },
    {
      "cell_type": "code",
      "execution_count": null,
      "metadata": {},
      "outputs": [],
      "source": []
    }
  ],
  "metadata": {
    "kernel_info": {
      "name": "python3-azureml"
    },
    "kernelspec": {
      "display_name": "Python 3.6 - AzureML",
      "language": "python",
      "name": "python3-azureml"
    },
    "language_info": {
      "codemirror_mode": {
        "name": "ipython",
        "version": 3
      },
      "file_extension": ".py",
      "mimetype": "text/x-python",
      "name": "python",
      "nbconvert_exporter": "python",
      "pygments_lexer": "ipython3",
      "version": "3.6.9"
    },
    "microsoft": {
      "host": {
        "AzureML": {
          "notebookHasBeenCompleted": true
        }
      }
    },
    "nteract": {
      "version": "nteract-front-end@1.0.0"
    },
    "orig_nbformat": 2
  },
  "nbformat": 4,
  "nbformat_minor": 2
}