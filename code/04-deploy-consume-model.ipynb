{
  "cells": [
    {
      "cell_type": "markdown",
      "metadata": {},
      "source": [
        "## Deploy\n",
        "- With UI\n",
        "- With SDK\n",
        "\n",
        "## Test\n",
        "- With UI\n",
        "  - Use following values for testing\n",
        "\n",
        "    feature | value\n",
        "    ---|---\n",
        "    datetime | 2020-06-01 00:00:00,000000\n",
        "    unit | rw3\n",
        "    min_cycle | 2983825\n",
        "    avg_voltage | 4.2\n",
        "    avg_current |  -0.111\n",
        "    avg_temperature | -4094.09814\n",
        "- With SDK"
      ]
    },
    {
      "cell_type": "markdown",
      "metadata": {
        "nteract": {
          "transient": {
            "deleting": false
          }
        }
      },
      "source": [
        "처음에 데이터에서 test용으로 뒷 기간을 잘라내어 준비했어야 하나, 편의상 가상의 데이터로 테스트 수행.\r\n",
        "\r\n",
        "테스트 데이터는 특정 시점뿐만 아니라 기간 데이터로 진행해도 됨."
      ]
    },
    {
      "cell_type": "code",
      "execution_count": null,
      "metadata": {
        "collapsed": true,
        "jupyter": {
          "outputs_hidden": false,
          "source_hidden": false
        },
        "nteract": {
          "transient": {
            "deleting": false
          }
        }
      },
      "outputs": [],
      "source": [
        "from azureml.core import Workspace,Experiment,Run\r\n",
        "from azureml.widgets import RunDetails\r\n",
        "\r\n",
        "# get workspace\r\n",
        "ws = Workspace.from_config()"
      ]
    },
    {
      "cell_type": "markdown",
      "metadata": {
        "nteract": {
          "transient": {
            "deleting": false
          }
        }
      },
      "source": [
        "## Run from deployed endpoint"
      ]
    },
    {
      "cell_type": "code",
      "execution_count": 15,
      "metadata": {
        "collapsed": true,
        "gather": {
          "logged": 1617897542785
        },
        "jupyter": {
          "outputs_hidden": false,
          "source_hidden": false
        },
        "nteract": {
          "transient": {
            "deleting": false
          }
        }
      },
      "outputs": [
        {
          "data": {
            "text/plain": "AciWebservice(workspace=Workspace.create(name='aml-handson-202001', subscription_id='154f8fe6-ae93-4e43-a3f0-de54d735024c', resource_group='rg202001-aml-handson'), name=forecast-battery-capacity-svc1, image_id=None, compute_type=None, state=ACI, scoring_uri=None, tags=http://d1e0d051-00a7-4067-ad12-79ca78de11c5.koreacentral.azurecontainer.io/score, properties={}, created_by={'runId': 'AutoML_4525d39c-591a-459f-a4bf-bc3b43dafce4_47', 'hasInferenceSchema': 'True', 'hasHttps': 'False'})"
          },
          "execution_count": 15,
          "metadata": {},
          "output_type": "execute_result"
        }
      ],
      "source": [
        "svc = ws.webservices['forecast-battery-capacity-svc1']\r\n",
        "svc"
      ]
    },
    {
      "cell_type": "code",
      "execution_count": 19,
      "metadata": {
        "collapsed": true,
        "gather": {
          "logged": 1617897933817
        },
        "jupyter": {
          "outputs_hidden": false,
          "source_hidden": false
        },
        "nteract": {
          "transient": {
            "deleting": false
          }
        }
      },
      "outputs": [
        {
          "data": {
            "text/plain": "'{\"forecast\": [1.1155255427723416], \"index\": [{\"datetime\": 1590969600000, \"unit\": \"rw3\"}]}'"
          },
          "execution_count": 19,
          "metadata": {},
          "output_type": "execute_result"
        }
      ],
      "source": [
        "import json\r\n",
        "\r\n",
        "data = {\r\n",
        "    \"data\":\r\n",
        "    [\r\n",
        "        {\r\n",
        "            'datetime': \"2020-06-01 00:00:00,000000\",\r\n",
        "            'unit': \"rw3\",\r\n",
        "            'min_cycle': \"2983825\",\r\n",
        "            'avg_voltage': \"4.2\",\r\n",
        "            'avg_current': \"-0.111\",\r\n",
        "            'avg_temperature': \"-4094.09814\",\r\n",
        "        },\r\n",
        "    ],\r\n",
        "}\r\n",
        "\r\n",
        "test_sample = json.dumps(data)\r\n",
        "response = svc.run(input_data = test_sample)\r\n",
        "response"
      ]
    },
    {
      "cell_type": "markdown",
      "metadata": {
        "nteract": {
          "transient": {
            "deleting": false
          }
        }
      },
      "source": [
        "## Run from downloaded model (WIP)\n",
        "\n",
        "TODO: \n",
        "[SDK 참고](https://github.com/Azure/MachineLearningNotebooks/blob/master/how-to-use-azureml/automated-machine-learning/forecasting-orange-juice-sales/auto-ml-forecasting-orange-juice-sales.ipynb)하여 모델 다운로드 후 실제값과 예측값을 함께 시각해볼 수 있음."
      ]
    },
    {
      "cell_type": "code",
      "execution_count": 10,
      "metadata": {
        "collapsed": true,
        "gather": {
          "logged": 1617897061478
        },
        "jupyter": {
          "outputs_hidden": false,
          "source_hidden": false
        },
        "nteract": {
          "transient": {
            "deleting": false
          }
        }
      },
      "outputs": [],
      "source": [
        "model = ws.models['AutoML4525d39c547']"
      ]
    },
    {
      "cell_type": "code",
      "execution_count": 20,
      "metadata": {
        "collapsed": true,
        "gather": {
          "logged": 1617898069523
        },
        "jupyter": {
          "outputs_hidden": false,
          "source_hidden": false
        },
        "nteract": {
          "transient": {
            "deleting": false
          }
        }
      },
      "outputs": [
        {
          "data": {
            "text/plain": "'model.pkl'"
          },
          "execution_count": 20,
          "metadata": {},
          "output_type": "execute_result"
        }
      ],
      "source": [
        "model.download()"
      ]
    },
    {
      "cell_type": "code",
      "execution_count": 22,
      "metadata": {
        "collapsed": true,
        "gather": {
          "logged": 1617898179861
        },
        "jupyter": {
          "outputs_hidden": false,
          "source_hidden": false
        },
        "nteract": {
          "transient": {
            "deleting": false
          }
        }
      },
      "outputs": [],
      "source": [
        "import pickle\r\n",
        "model_file = open(\"model.pkl\", \"rb\")\r\n",
        "fitted_model = pickle.load(model_file)"
      ]
    },
    {
      "cell_type": "code",
      "execution_count": null,
      "metadata": {
        "collapsed": true,
        "jupyter": {
          "outputs_hidden": false,
          "source_hidden": false
        },
        "nteract": {
          "transient": {
            "deleting": false
          }
        }
      },
      "outputs": [],
      "source": [
        "# fitted_model.forecast()"
      ]
    }
  ],
  "metadata": {
    "kernel_info": {
      "name": "python3-azureml"
    },
    "kernelspec": {
      "display_name": "Python 3.7.10 64-bit ('automl-vision-37': conda)",
      "name": "python3710jvsc74a57bd092c47d26aa38dabf5418ab71af735c83b06503fc6f74891b051365aa7c9aeb5e"
    },
    "language_info": {
      "name": "python",
      "version": ""
    },
    "nteract": {
      "version": "nteract-front-end@1.0.0"
    },
    "orig_nbformat": 2
  },
  "nbformat": 4,
  "nbformat_minor": 2
}