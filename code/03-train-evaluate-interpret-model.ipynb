{
 "cells": [
  {
   "cell_type": "markdown",
   "metadata": {},
   "source": [
    "## Train\n",
    "- With UI\n",
    "- With SDK\n",
    "\n",
    "## Evaluate\n",
    "- With UI\n",
    "- With SDK\n",
    "\n",
    "## Interpret\n",
    "- With UI\n",
    "- With SDK"
   ]
  }
 ],
 "metadata": {
  "kernelspec": {
   "display_name": "Python 3.7.10 64-bit ('automl-vision-37': conda)",
   "name": "python3710jvsc74a57bd092c47d26aa38dabf5418ab71af735c83b06503fc6f74891b051365aa7c9aeb5e"
  },
  "language_info": {
   "name": "python",
   "version": ""
  },
  "orig_nbformat": 2
 },
 "nbformat": 4,
 "nbformat_minor": 2
}