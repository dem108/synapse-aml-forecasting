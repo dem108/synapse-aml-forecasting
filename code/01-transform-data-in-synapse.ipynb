{
  "cells": [
    {
      "cell_type": "markdown",
      "metadata": {
        "nteract": {
          "transient": {
            "deleting": false
          }
        }
      },
      "source": [
        "## Load data"
      ]
    },
    {
      "cell_type": "code",
      "execution_count": 53,
      "metadata": {
        "collapsed": true,
        "jupyter": {
          "outputs_hidden": false,
          "source_hidden": false
        },
        "nteract": {
          "transient": {
            "deleting": false
          }
        }
      },
      "outputs": [],
      "source": [
        "data_lake_account_name = 'synapseaikorcen'\r\n",
        "file_system_name = 'synapseaikorcen'"
      ]
    },
    {
      "cell_type": "code",
      "execution_count": 12,
      "metadata": {
        "collapsed": true,
        "jupyter": {
          "outputs_hidden": false,
          "source_hidden": false
        },
        "microsoft": {
          "language": "python"
        },
        "nteract": {
          "transient": {
            "deleting": false
          }
        }
      },
      "outputs": [],
      "source": [
        "%%pyspark\r\n",
        "\r\n",
        "for name in [\"RW3\", \"RW4\", \"RW5\", \"RW6\"]:\r\n",
        "    print(f\"start saving as table: {name}\")\r\n",
        "    spark.read.format(\"csv\").load(f\"abfss://{file_system_name}@{data_lake_account_name}.dfs.core.windows.net/battery/orig/{name}.csv\",sep = ',',header=True).write.mode(\"overwrite\").saveAsTable(f\"default.battery_orig_{name}\")\r\n",
        "    print(f\"finished saving as table: {name}\")\r\n"
      ]
    },
    {
      "cell_type": "code",
      "execution_count": 26,
      "metadata": {
        "collapsed": false,
        "jupyter": {
          "outputs_hidden": false,
          "source_hidden": false
        },
        "microsoft": {
          "language": "sparksql"
        },
        "nteract": {
          "transient": {
            "deleting": false
          }
        }
      },
      "outputs": [],
      "source": [
        "%%sql\r\n",
        "select * from battery_orig_rw3 limit 1000\r\n"
      ]
    },
    {
      "cell_type": "code",
      "execution_count": 57,
      "metadata": {
        "collapsed": false,
        "jupyter": {
          "outputs_hidden": false,
          "source_hidden": false
        },
        "microsoft": {
          "language": "sparksql"
        },
        "nteract": {
          "transient": {
            "deleting": false
          }
        }
      },
      "outputs": [],
      "source": [
        "%%sql\r\n",
        "select 'rw3', min(_c0) from battery_orig_rw3 where capacity <= 1.6\r\n",
        "union all\r\n",
        "select 'rw4', min(_c0) from battery_orig_rw4 where capacity <= 1.6\r\n",
        "union all\r\n",
        "select 'rw5', min(_c0) from battery_orig_rw5 where capacity <= 1.6\r\n",
        "union all\r\n",
        "select 'rw6', min(_c0) from battery_orig_rw6 where capacity <= 1.6\r\n"
      ]
    },
    {
      "cell_type": "code",
      "execution_count": 25,
      "metadata": {
        "collapsed": false,
        "jupyter": {
          "outputs_hidden": false,
          "source_hidden": false
        },
        "microsoft": {
          "language": "sparksql"
        },
        "nteract": {
          "transient": {
            "deleting": false
          }
        }
      },
      "outputs": [],
      "source": [
        "%%sql\r\n",
        "select * from battery_orig_rw3\r\n",
        "where _c0 between 1260000 and 1261000"
      ]
    },
    {
      "cell_type": "code",
      "execution_count": 69,
      "metadata": {
        "collapsed": false,
        "jupyter": {
          "outputs_hidden": false,
          "source_hidden": false
        },
        "microsoft": {
          "language": "sparksql"
        },
        "nteract": {
          "transient": {
            "deleting": false
          }
        }
      },
      "outputs": [],
      "source": [
        "%%sql\r\n",
        "select 'rw3' unit,\r\n",
        "\t\t_c0,\r\n",
        "        AVG(capacity) OVER (\r\n",
        "\t\t\tORDER BY _c0\r\n",
        "\t\t\tROWS BETWEEN 15 PRECEDING AND 15 FOLLOWING\r\n",
        "\t\t) MovAvg\r\n",
        " from battery_orig_rw3\r\n",
        "where _c0 between 1260000 and 1261000"
      ]
    },
    {
      "cell_type": "code",
      "execution_count": 20,
      "metadata": {
        "collapsed": false,
        "jupyter": {
          "outputs_hidden": false,
          "source_hidden": false
        },
        "microsoft": {
          "language": "sparksql"
        },
        "nteract": {
          "transient": {
            "deleting": false
          }
        }
      },
      "outputs": [],
      "source": [
        "%%sql\r\n",
        "select 'rw3' file, min(time), max(time), min(capacity), max(capacity), count(*) cnt from battery_orig_rw3\r\n",
        "union all\r\n",
        "select 'rw4' file, min(time), max(time), min(capacity), max(capacity), count(*) cnt from battery_orig_rw4\r\n",
        "union all\r\n",
        "select 'rw5' file, min(time), max(time), min(capacity), max(capacity), count(*) cnt from battery_orig_rw5\r\n",
        "union all\r\n",
        "select 'rw6' file, min(time), max(time), min(capacity), max(capacity), count(*) cnt from battery_orig_rw6"
      ]
    },
    {
      "cell_type": "markdown",
      "metadata": {
        "nteract": {
          "transient": {
            "deleting": false
          }
        }
      },
      "source": [
        "## Explore and transform data"
      ]
    },
    {
      "cell_type": "markdown",
      "metadata": {
        "nteract": {
          "transient": {
            "deleting": false
          }
        }
      },
      "source": [
        "### Try visualizing moving average "
      ]
    },
    {
      "cell_type": "code",
      "execution_count": 65,
      "metadata": {
        "collapsed": false,
        "jupyter": {
          "outputs_hidden": false,
          "source_hidden": false
        },
        "microsoft": {
          "language": "sparksql"
        },
        "nteract": {
          "transient": {
            "deleting": false
          }
        }
      },
      "outputs": [],
      "source": [
        "%%sql\r\n",
        "SELECT * FROM\r\n",
        "(\r\n",
        "\tSELECT\r\n",
        "\t\t'rw3' unit,\r\n",
        "\t\t_c0\r\n",
        "\t\t,AVG(capacity) OVER (\r\n",
        "\t\t\tORDER BY _c0\r\n",
        "\t\t\tROWS BETWEEN 15 PRECEDING AND 15 FOLLOWING\r\n",
        "\t\t) MovAvg\r\n",
        "\tFROM battery_orig_rw3\r\n",
        "\tWHERE _c0 < 1300000\r\n",
        "\r\n",
        "\tunion ALL\r\n",
        "\tSELECT\r\n",
        "\t\t'rw4' unit,\r\n",
        "\t\t_c0\r\n",
        "\t\t,AVG(capacity) OVER (\r\n",
        "\t\t\tORDER BY _c0\r\n",
        "\t\t\tROWS BETWEEN 15 PRECEDING AND 15 FOLLOWING\r\n",
        "\t\t) MovAvg\r\n",
        "\tFROM battery_orig_rw4\r\n",
        "\tWHERE _c0 < 1300000\r\n",
        "\t\r\n",
        "\tunion ALL\r\n",
        "\tSELECT\r\n",
        "\t\t'rw5' unit,\r\n",
        "\t\t_c0\r\n",
        "\t\t,AVG(capacity) OVER (\r\n",
        "\t\t\tORDER BY _c0\r\n",
        "\t\t\tROWS BETWEEN 15 PRECEDING AND 15 FOLLOWING\r\n",
        "\t\t) MovAvg\r\n",
        "\tFROM battery_orig_rw5\r\n",
        "\tWHERE _c0 < 1300000\r\n",
        "\t\r\n",
        "\tunion ALL\r\n",
        "\tSELECT\r\n",
        "\t\t'rw6' unit,\r\n",
        "\t\t_c0\r\n",
        "\t\t,AVG(capacity) OVER (\r\n",
        "\t\t\tORDER BY _c0\r\n",
        "\t\t\tROWS BETWEEN 15 PRECEDING AND 15 FOLLOWING\r\n",
        "\t\t) MovAvg\r\n",
        "\tFROM battery_orig_rw6\r\n",
        "\tWHERE _c0 < 1300000\r\n",
        ") a\r\n",
        "WHERE _c0 % (10000000 / 1000) = 0\r\n"
      ]
    },
    {
      "cell_type": "markdown",
      "metadata": {
        "nteract": {
          "transient": {
            "deleting": false
          }
        }
      },
      "source": [
        "### Observation\r\n",
        "\r\n",
        "- 31 Cycle 이동평균이 1.6 (기준치 2.0으로 봤을 때 80% 수준)에 도달하는 것은 128만 사이클보다 나중임.\r\n",
        "\r\n",
        "- 다만 이동평균을 고려하지 않으면 위에서 capacity < 1.6 인 min(_c0)에서 봤듯이 이보다 이전에 발생함."
      ]
    },
    {
      "cell_type": "markdown",
      "metadata": {
        "nteract": {
          "transient": {
            "deleting": false
          }
        }
      },
      "source": [
        "## Baseline 확인\r\n"
      ]
    },
    {
      "cell_type": "code",
      "execution_count": 67,
      "metadata": {
        "collapsed": false,
        "jupyter": {
          "outputs_hidden": false,
          "source_hidden": false
        },
        "microsoft": {
          "language": "sparksql"
        },
        "nteract": {
          "transient": {
            "deleting": false
          }
        }
      },
      "outputs": [],
      "source": [
        "%%sql\r\n",
        "SELECT 'rw3', capacity, * FROM battery_orig_rw3 WHERE _c0 = 0\r\n",
        "UNION ALL\r\n",
        "SELECT 'rw4', capacity, * FROM battery_orig_rw3 WHERE _c0 = 0\r\n",
        "UNION ALL\r\n",
        "SELECT 'rw5', capacity, * FROM battery_orig_rw3 WHERE _c0 = 0\r\n",
        "UNION ALL\r\n",
        "SELECT 'rw6', capacity, * FROM battery_orig_rw3 WHERE _c0 = 0\r\n"
      ]
    },
    {
      "cell_type": "markdown",
      "metadata": {
        "nteract": {
          "transient": {
            "deleting": false
          }
        }
      },
      "source": [
        "### Observation\r\n",
        "\r\n",
        "모두 같은 값이므로 지금은 고민하지 말고 상수 값으로 봄 "
      ]
    },
    {
      "cell_type": "code",
      "execution_count": 53,
      "metadata": {
        "collapsed": false,
        "jupyter": {
          "outputs_hidden": false,
          "source_hidden": false
        },
        "nteract": {
          "transient": {
            "deleting": false
          }
        }
      },
      "outputs": [],
      "source": [
        "import pandas as pd\r\n",
        "import numpy as np\r\n",
        "sql_statement = '''\r\n",
        "SELECT\r\n",
        "\t'rw3' unit,\r\n",
        "\t_c0\r\n",
        "\t,AVG(capacity) OVER (\r\n",
        "\t\tORDER BY _c0\r\n",
        "\t\tROWS BETWEEN 100 PRECEDING AND 100 FOLLOWING\r\n",
        "\t) FifteenCycleMovAvg\r\n",
        "FROM battery_orig_rw3\r\n",
        "WHERE _c0 < 5000\r\n",
        "\r\n",
        "union ALL\r\n",
        "SELECT\r\n",
        "\t'rw4' unit,\r\n",
        "\t_c0\r\n",
        "\t,AVG(capacity) OVER (\r\n",
        "\t\tORDER BY _c0\r\n",
        "\t\tROWS BETWEEN 100 PRECEDING AND 100 FOLLOWING\r\n",
        "\t) FifteenCycleMovAvg\r\n",
        "FROM battery_orig_rw4\r\n",
        "WHERE _c0 < 5000\r\n",
        "\r\n",
        "'''\r\n",
        "df_data = spark.sql(sql_statement).toPandas()\r\n",
        "display(df_data)\r\n"
      ]
    },
    {
      "cell_type": "markdown",
      "metadata": {
        "nteract": {
          "transient": {
            "deleting": false
          }
        }
      },
      "source": [
        "### Observation\r\n",
        "\r\n",
        "- 1000 사이클 이전에는 줄어들었다가 다시 원복되는 과정이 있는데, 이 구간에서도 fail를 예측해야 하는지? \r\n",
        "- 패턴이 다른 구간과 다르므로 이 구간의 예측이 불필요하다면 1000 사이클 이전은 제외하고 나머지 데이터만으로 진행하는 것이 괜찮을지? "
      ]
    },
    {
      "cell_type": "code",
      "execution_count": 91,
      "metadata": {
        "collapsed": true,
        "jupyter": {
          "outputs_hidden": false,
          "source_hidden": false
        },
        "nteract": {
          "transient": {
            "deleting": false
          }
        }
      },
      "outputs": [],
      "source": [
        "sql_statement = '''\r\n",
        "SELECT\r\n",
        "\t'rw3' unit, _c0 cycle, time, voltage, current, temperature, capacity\r\n",
        "FROM battery_orig_rw3\r\n",
        "'''\r\n",
        "df_data = spark.sql(sql_statement).toPandas()\r\n",
        "df_data.describe()"
      ]
    },
    {
      "cell_type": "code",
      "execution_count": 97,
      "metadata": {
        "collapsed": true,
        "jupyter": {
          "outputs_hidden": false,
          "source_hidden": false
        },
        "nteract": {
          "transient": {
            "deleting": false
          }
        }
      },
      "outputs": [],
      "source": [
        "df_data.min()"
      ]
    },
    {
      "cell_type": "code",
      "execution_count": 98,
      "metadata": {
        "collapsed": true,
        "jupyter": {
          "outputs_hidden": false,
          "source_hidden": false
        },
        "nteract": {
          "transient": {
            "deleting": false
          }
        }
      },
      "outputs": [],
      "source": [
        "df_data.max()"
      ]
    },
    {
      "cell_type": "markdown",
      "metadata": {
        "nteract": {
          "transient": {
            "deleting": false
          }
        }
      },
      "source": [
        "### time 컬럼의 속성 확인"
      ]
    },
    {
      "cell_type": "code",
      "execution_count": 77,
      "metadata": {
        "collapsed": false,
        "jupyter": {
          "outputs_hidden": false,
          "source_hidden": false
        },
        "microsoft": {
          "language": "sparksql"
        },
        "nteract": {
          "transient": {
            "deleting": false
          }
        }
      },
      "outputs": [],
      "source": [
        "%%sql \r\n",
        "select time, int(time) int_time, time - int(time) from battery_orig_rw3 limit 100"
      ]
    },
    {
      "cell_type": "code",
      "execution_count": 78,
      "metadata": {
        "collapsed": false,
        "jupyter": {
          "outputs_hidden": false,
          "source_hidden": false
        },
        "microsoft": {
          "language": "sparksql"
        },
        "nteract": {
          "transient": {
            "deleting": false
          }
        }
      },
      "outputs": [],
      "source": [
        "%%sql \r\n",
        "select distinct time - int(time) from battery_orig_rw3 limit 100"
      ]
    },
    {
      "cell_type": "code",
      "execution_count": 79,
      "metadata": {
        "collapsed": false,
        "jupyter": {
          "outputs_hidden": false,
          "source_hidden": false
        },
        "microsoft": {
          "language": "sparksql"
        },
        "nteract": {
          "transient": {
            "deleting": false
          }
        }
      },
      "outputs": [],
      "source": [
        "%%sql\r\n",
        "select count(distinct int(time)) from battery_orig_rw3\r\n"
      ]
    },
    {
      "cell_type": "code",
      "execution_count": 80,
      "metadata": {
        "collapsed": false,
        "jupyter": {
          "outputs_hidden": false,
          "source_hidden": false
        },
        "microsoft": {
          "language": "sparksql"
        },
        "nteract": {
          "transient": {
            "deleting": false
          }
        }
      },
      "outputs": [],
      "source": [
        "%%sql\r\n",
        "select count(distinct time) from battery_orig_rw3\r\n"
      ]
    },
    {
      "cell_type": "code",
      "execution_count": 85,
      "metadata": {
        "collapsed": false,
        "jupyter": {
          "outputs_hidden": false,
          "source_hidden": false
        },
        "microsoft": {
          "language": "sparksql"
        },
        "nteract": {
          "transient": {
            "deleting": false
          }
        }
      },
      "outputs": [],
      "source": [
        "%%sql\r\n",
        "select int_time, count(*)\r\n",
        "from \r\n",
        "(\r\n",
        "select time, int(time) int_time from battery_orig_rw3\r\n",
        ") a\r\n",
        "group by int_time\r\n",
        "having count(*) > 1\r\n",
        "limit 100"
      ]
    },
    {
      "cell_type": "code",
      "execution_count": 86,
      "metadata": {
        "collapsed": false,
        "jupyter": {
          "outputs_hidden": false,
          "source_hidden": false
        },
        "microsoft": {
          "language": "sparksql"
        },
        "nteract": {
          "transient": {
            "deleting": false
          }
        }
      },
      "outputs": [],
      "source": [
        "%%sql\r\n",
        "select * from battery_orig_rw3 where int(time) = 262183"
      ]
    },
    {
      "cell_type": "markdown",
      "metadata": {
        "nteract": {
          "transient": {
            "deleting": false
          }
        }
      },
      "source": [
        "## Observation\r\n",
        "\r\n",
        "- 위에서 볼 수 있듯이 한 사이클에 여러 값이 매우 가까운 time 값으로 존재할 수 있음\r\n",
        "- current값이 0인 경우도 있는데 평균으로 요약하면 왜곡이 될지??\r\n",
        "- 0이 누락된 값인지 실측이 0으로 된 건지 판단이 필요. 누락이라면 imputation이 필요할 수 있으나, 다른 레코드에서 음수도 있는 것을 보아 정상값일 수도 있음\r\n",
        "- 또는 이 4건을 1건으로 요약하지 말고 그대로 사용할 수도 있는지 봐야 함. 다만 이후 AutoML에서는 time이 키 값이 되어야 하므로 단수차이가 별도 값으로 표현되는지 봐야 함"
      ]
    },
    {
      "cell_type": "code",
      "execution_count": 99,
      "metadata": {
        "collapsed": false,
        "jupyter": {
          "outputs_hidden": false,
          "source_hidden": false
        },
        "microsoft": {
          "language": "sparksql"
        },
        "nteract": {
          "transient": {
            "deleting": false
          }
        }
      },
      "outputs": [],
      "source": [
        "%%sql\r\n",
        "select * from battery_orig_rw3 where int(time) = 792764"
      ]
    },
    {
      "cell_type": "markdown",
      "metadata": {
        "nteract": {
          "transient": {
            "deleting": false
          }
        }
      },
      "source": [
        "이 내용을 보면 int(time) 기준으로 평균으로 구해도 될 것 같아 보이기도 하나, current 0 자체가 의미 있는 데이터로 보여 요약 하지 않고 그대로 진행. "
      ]
    },
    {
      "cell_type": "markdown",
      "metadata": {
        "nteract": {
          "transient": {
            "deleting": false
          }
        }
      },
      "source": [
        "## Prepare data\r\n",
        "\r\n",
        "Automated ML Forecasting은 현재 Datetime 데이터를 기준으로 해야 하므로, time을 Base datetime 기준으로 변형하도록 함. 향후 결과 해석시에도 역으로 변형 필요함.\r\n",
        "time의 단위는 second로 봄 (NASA https://c3.nasa.gov/dashlink/resources/133/ 참고: 확인 필요)"
      ]
    },
    {
      "cell_type": "code",
      "execution_count": 49,
      "metadata": {
        "collapsed": false,
        "jupyter": {
          "outputs_hidden": false,
          "source_hidden": false
        },
        "nteract": {
          "transient": {
            "deleting": false
          }
        }
      },
      "outputs": [],
      "source": [
        "import pandas as pd\r\n",
        "import numpy as np\r\n",
        "sql_statement = '''\r\n",
        "SELECT from_unixtime(unix_timestamp(to_date(\"2020-01-01\")) + 1)\r\n",
        "'''\r\n",
        "\r\n",
        "df_data = spark.sql(sql_statement)\r\n",
        "display(df_data)\r\n",
        "# type(df_data)"
      ]
    },
    {
      "cell_type": "code",
      "execution_count": 50,
      "metadata": {
        "collapsed": false,
        "jupyter": {
          "outputs_hidden": false,
          "source_hidden": false
        },
        "nteract": {
          "transient": {
            "deleting": false
          }
        }
      },
      "outputs": [],
      "source": [
        "import pandas as pd\r\n",
        "import numpy as np\r\n",
        "sql_statement = '''\r\n",
        "SELECT\r\n",
        "\t'rw3' unit, _c0 cycle, time, voltage, current, temperature, capacity, from_unixtime(unix_timestamp(to_date(\"2020-01-01\")) + time) datetime\r\n",
        "FROM battery_orig_rw3\r\n",
        "WHERE _c0 < 200\r\n",
        "'''\r\n",
        "\r\n",
        "df_data = spark.sql(sql_statement)\r\n",
        "display(df_data)\r\n",
        "\r\n",
        "# with Pandas:\r\n",
        "\r\n",
        "# df_data = spark.sql(sql_statement).toPandas()\r\n",
        "\r\n",
        "# # print(df_data['time'])\r\n",
        "\r\n",
        "# df_data['datetime'] = df_data['time'].apply(cycle_to_datetime)\r\n",
        "# # print(df_data['datetime'])\r\n",
        "\r\n",
        "# # print(df_data['datetime'].apply(datetime_to_cycle))\r\n",
        "\r\n",
        "\r\n",
        "\r\n",
        "\r\n",
        "# # with Spark DataFrame\r\n",
        "# from pyspark.sql.functions import col\r\n",
        "\r\n",
        "\r\n",
        "# cycle_to_datetime = spark.udf.register(\"cycle_to_datetime\", cycle_to_datetime)\r\n",
        "\r\n",
        "# new_df = df_data.select(cycle_to_datetime(col(\"time\")))\r\n",
        "# display(new_df)\r\n",
        "\r\n",
        "\r\n",
        "\r\n",
        "# df_data = spark.sql(sql_statement)\r\n",
        "# df_data.withColumn('datetime', cycle_to_datetime(col('time')))\r\n",
        "\r\n",
        "# display(df_data)\r\n",
        "\r\n",
        "\r\n",
        "\r\n"
      ]
    },
    {
      "cell_type": "code",
      "execution_count": 51,
      "metadata": {
        "collapsed": true,
        "jupyter": {
          "outputs_hidden": false,
          "source_hidden": false
        },
        "nteract": {
          "transient": {
            "deleting": false
          }
        }
      },
      "outputs": [],
      "source": [
        "df_data.describe().show()"
      ]
    },
    {
      "cell_type": "markdown",
      "metadata": {
        "nteract": {
          "transient": {
            "deleting": false
          }
        }
      },
      "source": [
        "대용량이면 PySpark Dataframe으로 하는 것이 Pandas Dataframe보다 성능상 나음."
      ]
    },
    {
      "cell_type": "code",
      "execution_count": null,
      "metadata": {
        "collapsed": true,
        "jupyter": {
          "outputs_hidden": false,
          "source_hidden": false
        },
        "nteract": {
          "transient": {
            "deleting": false
          }
        }
      },
      "outputs": [],
      "source": [
        "# display(df_data['time'].apply(cycle_to_datetime))\r\n",
        "# display(df_data)\r\n",
        "\r\n",
        "\r\n",
        "# df_data['homeOwnership'] = df_data['homeOwnership'].replace('nan', np.nan).fillna(0)\r\n",
        "# df_data['isJointApplication'] = df_data['isJointApplication'].replace('nan', np.nan).fillna(0)\r\n",
        "\r\n",
        "\r\n",
        "# df_data['dtiRatio'] = df_data['dtiRatio'].astype(np.float32)\r\n",
        "# df_data['annualIncome'] = df_data['annualIncome'].astype(np.float32)\r\n",
        "# df_data['lengthCreditHistory'] = df_data['lengthCreditHistory'].astype(np.float32)\r\n",
        "# df_data['numTotalCreditLines'] = df_data['numTotalCreditLines'].astype(np.float32)\r\n",
        "# df_data['numOpenCreditLines'] = df_data['numOpenCreditLines'].astype(np.float32)\r\n",
        "# df_data['numOpenCreditLines1Year'] = df_data['numOpenCreditLines1Year'].astype(np.float32)\r\n",
        "# df_data['revolvingBalance'] = df_data['revolvingBalance'].astype(np.float32)\r\n",
        "# df_data['revolvingUtilizationRate'] = df_data['revolvingUtilizationRate'].astype(np.float32)\r\n",
        "# df_data['numDerogatoryRec'] = df_data['numDerogatoryRec'].astype(np.float32)\r\n",
        "# df_data['numDelinquency2Years'] = df_data['numDelinquency2Years'].astype(np.float32)\r\n",
        "# df_data['numChargeoff1year'] = df_data['numChargeoff1year'].astype(np.float32)\r\n",
        "# df_data['numInquiries6Mon'] = df_data['numInquiries6Mon'].astype(np.float32)\r\n",
        "# df_data['loanAmount'] = df_data['loanAmount'].astype(np.float32)\r\n",
        "# df_data['interestRate'] = df_data['interestRate'].astype(np.float32)\r\n",
        "# df_data['monthlyPayment'] = df_data['monthlyPayment'].astype(np.float32)\r\n",
        "\r\n",
        "# df_data['incomeVerified'] = df_data['incomeVerified'].astype(np.int64)\r\n",
        "# df_data['isJointApplication'] = df_data['isJointApplication'].astype(np.int64)\r\n",
        "\r\n",
        "# #df_data.columns\r\n",
        "\r\n",
        "# df_data = df_data.replace(float('nan'), None)\r\n",
        "\r\n",
        "# df_data_sp = spark.createDataFrame(df_data)\r\n",
        "# df_data_sp.write.mode(\"overwrite\").saveAsTable(\"default.creditrisk_data\")\r\n",
        "\r\n",
        "# # data_lake_account_name = 'ncsynapsews11acc'\r\n",
        "# # file_system_name = 'ncsynapsews11fs'\r\n",
        "# df_data_sp.coalesce(1).write.option('header', 'true').mode('overwrite').csv(f'abfss://{file_system_name}@{data_lake_account_name}.dfs.core.windows.net/creditrisk/automlprepareddata/')\r\n",
        "\r\n",
        "# drop_cols = ['memberId', 'loanId', 'date','grade']\r\n",
        "# df_data = df_data.drop(drop_cols, axis=1)"
      ]
    },
    {
      "cell_type": "markdown",
      "metadata": {
        "nteract": {
          "transient": {
            "deleting": false
          }
        }
      },
      "source": [
        "## Data Qualify check\r\n",
        "\r\n",
        "### Duplicate Index"
      ]
    },
    {
      "cell_type": "code",
      "execution_count": 56,
      "metadata": {
        "collapsed": true,
        "jupyter": {
          "outputs_hidden": false,
          "source_hidden": false
        },
        "nteract": {
          "transient": {
            "deleting": false
          }
        }
      },
      "outputs": [],
      "source": [
        "import pandas as pd\r\n",
        "import numpy as np\r\n",
        "sql_statement = '''\r\n",
        "SELECT 'rw3' unit, _c0 cycle, time, voltage, current, temperature, capacity, from_unixtime(unix_timestamp(to_date(\"2020-01-01\")) + time) datetime FROM battery_orig_rw3\r\n",
        "'''\r\n",
        "df_data = spark.sql(sql_statement)"
      ]
    },
    {
      "cell_type": "code",
      "execution_count": 60,
      "metadata": {
        "collapsed": true,
        "jupyter": {
          "outputs_hidden": false,
          "source_hidden": false
        },
        "nteract": {
          "transient": {
            "deleting": false
          }
        }
      },
      "outputs": [],
      "source": [
        "df1=df_data.groupBy(\"datetime\").count().filter(\"count > 1\")\r\n",
        "df1.show()"
      ]
    },
    {
      "cell_type": "code",
      "execution_count": 83,
      "metadata": {
        "collapsed": false,
        "jupyter": {
          "outputs_hidden": false,
          "source_hidden": false
        },
        "nteract": {
          "transient": {
            "deleting": false
          }
        }
      },
      "outputs": [],
      "source": [
        "import pandas as pd\r\n",
        "import numpy as np\r\n",
        "sql_statement = '''\r\n",
        "SELECT unix_timestamp(to_timestamp(\"2020-01-01 00:00:00.000000\")) + 2.6 \r\n",
        "'''\r\n",
        "df_data = spark.sql(sql_statement)\r\n",
        "display(df_data)\r\n",
        "\r\n",
        "# SELECT from_unixtime(unix_timestamp(to_timestamp(\"2020-01-01 00:00:00.000000\")) + 2.6, \"yyyy-MM-dd HH:mm:ss.SSSSSSS\") \r\n",
        "# "
      ]
    },
    {
      "cell_type": "markdown",
      "metadata": {
        "nteract": {
          "transient": {
            "deleting": false
          }
        }
      },
      "source": [
        "### Observation\r\n",
        "\r\n",
        "second 단위 이하로는 표현이 안되는 것 같음. 우선은 초 단위로 중복이 없도록 요약을 해야 하겠음."
      ]
    },
    {
      "cell_type": "code",
      "execution_count": 66,
      "metadata": {
        "collapsed": false,
        "jupyter": {
          "outputs_hidden": false,
          "source_hidden": false
        },
        "nteract": {
          "transient": {
            "deleting": false
          }
        }
      },
      "outputs": [],
      "source": [
        "import pandas as pd\r\n",
        "import numpy as np\r\n",
        "sql_statement = '''\r\n",
        "SELECT 'rw3' unit, _c0 cycle, time, voltage, current, temperature, capacity, from_unixtime(unix_timestamp(to_date(\"2020-01-01\")) + time) datetime FROM battery_orig_rw3\r\n",
        "WHERE from_unixtime(unix_timestamp(to_date(\"2020-01-01\")) + time) BETWEEN to_timestamp('2020-02-04 04:49:06') AND to_timestamp('2020-02-04 04:49:07')\r\n",
        "'''\r\n",
        "df_data = spark.sql(sql_statement)\r\n",
        "display(df_data)"
      ]
    },
    {
      "cell_type": "markdown",
      "metadata": {
        "nteract": {
          "transient": {
            "deleting": false
          }
        }
      },
      "source": [
        "### Remove Duplicate"
      ]
    },
    {
      "cell_type": "code",
      "execution_count": 98,
      "metadata": {
        "collapsed": false,
        "jupyter": {
          "outputs_hidden": false,
          "source_hidden": false
        },
        "nteract": {
          "transient": {
            "deleting": false
          }
        }
      },
      "outputs": [],
      "source": [
        "import pandas as pd\r\n",
        "import numpy as np\r\n",
        "sql_statement = '''\r\n",
        "\r\n",
        "SELECT unit, datetime, MIN(cycle) min_cycle, AVG(voltage) avg_voltage, AVG(current) avg_current, AVG(temperature) avg_temperature, AVG(capacity) avg_capacity\r\n",
        "FROM (\r\n",
        "    SELECT 'rw3' unit, _c0 cycle, time, voltage, current, temperature, capacity, from_unixtime(unix_timestamp(to_date(\"2020-01-01\")) + time) datetime\r\n",
        "    FROM battery_orig_rw3\r\n",
        "    /* WHERE from_unixtime(unix_timestamp(to_date(\"2020-01-01\")) + time) BETWEEN to_timestamp('2020-02-04 04:49:06') AND to_timestamp('2020-02-04 04:49:07') */\r\n",
        ") a\r\n",
        "GROUP BY unit, datetime\r\n",
        "ORDER BY 1, 2\r\n",
        "'''\r\n",
        "df_data = spark.sql(sql_statement)\r\n",
        "display(df_data)"
      ]
    },
    {
      "cell_type": "code",
      "execution_count": 100,
      "metadata": {
        "collapsed": true,
        "jupyter": {
          "outputs_hidden": false,
          "source_hidden": false
        },
        "nteract": {
          "transient": {
            "deleting": false
          }
        }
      },
      "outputs": [],
      "source": [
        "df1=df_data.groupBy(\"unit\", \"datetime\").count().filter(\"count > 1\")\r\n",
        "df1.show()"
      ]
    },
    {
      "cell_type": "markdown",
      "metadata": {
        "nteract": {
          "transient": {
            "deleting": false
          }
        }
      },
      "source": [
        "## Save transformed data\r\n"
      ]
    },
    {
      "cell_type": "code",
      "execution_count": 104,
      "metadata": {
        "collapsed": true,
        "jupyter": {
          "outputs_hidden": false,
          "source_hidden": false
        },
        "nteract": {
          "transient": {
            "deleting": false
          }
        }
      },
      "outputs": [],
      "source": [
        "import pandas as pd\r\n",
        "import numpy as np\r\n",
        "sql_statement = '''\r\n",
        "SELECT unit, datetime, MIN(cycle) min_cycle, AVG(voltage) avg_voltage, AVG(current) avg_current, AVG(temperature) avg_temperature, AVG(capacity) avg_capacity\r\n",
        "FROM (\r\n",
        "    SELECT 'rw3' unit, _c0 cycle, time, voltage, current, temperature, capacity, from_unixtime(unix_timestamp(to_date(\"2020-01-01\")) + time) datetime\r\n",
        "    FROM battery_orig_rw3\r\n",
        ") a\r\n",
        "GROUP BY unit, datetime\r\n",
        "\r\n",
        "UNION ALL\r\n",
        "\r\n",
        "SELECT unit, datetime, MIN(cycle) min_cycle, AVG(voltage) avg_voltage, AVG(current) avg_current, AVG(temperature) avg_temperature, AVG(capacity) avg_capacity\r\n",
        "FROM (\r\n",
        "    SELECT 'rw4' unit, _c0 cycle, time, voltage, current, temperature, capacity, from_unixtime(unix_timestamp(to_date(\"2020-01-01\")) + time) datetime\r\n",
        "    FROM battery_orig_rw4\r\n",
        ") a\r\n",
        "GROUP BY unit, datetime\r\n",
        "\r\n",
        "UNION ALL\r\n",
        "\r\n",
        "SELECT unit, datetime, MIN(cycle) min_cycle, AVG(voltage) avg_voltage, AVG(current) avg_current, AVG(temperature) avg_temperature, AVG(capacity) avg_capacity\r\n",
        "FROM (\r\n",
        "    SELECT 'rw5' unit, _c0 cycle, time, voltage, current, temperature, capacity, from_unixtime(unix_timestamp(to_date(\"2020-01-01\")) + time) datetime\r\n",
        "    FROM battery_orig_rw5\r\n",
        ") a\r\n",
        "GROUP BY unit, datetime\r\n",
        "\r\n",
        "UNION ALL\r\n",
        "\r\n",
        "SELECT unit, datetime, MIN(cycle) min_cycle, AVG(voltage) avg_voltage, AVG(current) avg_current, AVG(temperature) avg_temperature, AVG(capacity) avg_capacity\r\n",
        "FROM (\r\n",
        "    SELECT 'rw6' unit, _c0 cycle, time, voltage, current, temperature, capacity, from_unixtime(unix_timestamp(to_date(\"2020-01-01\")) + time) datetime\r\n",
        "    FROM battery_orig_rw6\r\n",
        ") a\r\n",
        "GROUP BY unit, datetime\r\n",
        "ORDER BY 1, 2\r\n",
        "'''\r\n",
        "df_data = spark.sql(sql_statement)\r\n",
        "df_data.write.format(\"parquet\").mode(\"overwrite\").save(f\"abfss://{file_system_name}@{data_lake_account_name}.dfs.core.windows.net/battery/transformed/dataset_all\")\r\n"
      ]
    },
    {
      "cell_type": "code",
      "execution_count": 101,
      "metadata": {
        "collapsed": true,
        "jupyter": {
          "outputs_hidden": false,
          "source_hidden": false
        },
        "nteract": {
          "transient": {
            "deleting": false
          }
        }
      },
      "outputs": [],
      "source": [
        "import pandas as pd\r\n",
        "import numpy as np\r\n",
        "sql_statement = '''\r\n",
        "SELECT unit, datetime, MIN(cycle) min_cycle, AVG(voltage) avg_voltage, AVG(current) avg_current, AVG(temperature) avg_temperature, AVG(capacity) avg_capacity\r\n",
        "FROM (\r\n",
        "    SELECT 'rw3' unit, _c0 cycle, time, voltage, current, temperature, capacity, from_unixtime(unix_timestamp(to_date(\"2020-01-01\")) + time) datetime\r\n",
        "    FROM battery_orig_rw3\r\n",
        ") a\r\n",
        "GROUP BY unit, datetime\r\n",
        "ORDER BY 1, 2\r\n",
        "'''\r\n",
        "df_data = spark.sql(sql_statement).write.format(\"parquet\").mode(\"overwrite\").save(f\"abfss://{file_system_name}@{data_lake_account_name}.dfs.core.windows.net/battery/transformed/dataset_rw3\")\r\n",
        "\r\n",
        "sql_statement = '''\r\n",
        "SELECT unit, datetime, MIN(cycle) min_cycle, AVG(voltage) avg_voltage, AVG(current) avg_current, AVG(temperature) avg_temperature, AVG(capacity) avg_capacity\r\n",
        "FROM (\r\n",
        "    SELECT 'rw4' unit, _c0 cycle, time, voltage, current, temperature, capacity, from_unixtime(unix_timestamp(to_date(\"2020-01-01\")) + time) datetime\r\n",
        "    FROM battery_orig_rw4\r\n",
        ") a\r\n",
        "GROUP BY unit, datetime\r\n",
        "ORDER BY 1, 2\r\n",
        "'''\r\n",
        "df_data = spark.sql(sql_statement).write.format(\"parquet\").mode(\"overwrite\").save(f\"abfss://{file_system_name}@{data_lake_account_name}.dfs.core.windows.net/battery/transformed/dataset_rw4\")\r\n",
        "\r\n",
        "sql_statement = '''\r\n",
        "SELECT unit, datetime, MIN(cycle) min_cycle, AVG(voltage) avg_voltage, AVG(current) avg_current, AVG(temperature) avg_temperature, AVG(capacity) avg_capacity\r\n",
        "FROM (\r\n",
        "    SELECT 'rw5' unit, _c0 cycle, time, voltage, current, temperature, capacity, from_unixtime(unix_timestamp(to_date(\"2020-01-01\")) + time) datetime\r\n",
        "    FROM battery_orig_rw5\r\n",
        ") a\r\n",
        "GROUP BY unit, datetime\r\n",
        "ORDER BY 1, 2\r\n",
        "'''\r\n",
        "df_data = spark.sql(sql_statement).write.format(\"parquet\").mode(\"overwrite\").save(f\"abfss://{file_system_name}@{data_lake_account_name}.dfs.core.windows.net/battery/transformed/dataset_rw5\")\r\n",
        "\r\n",
        "sql_statement = '''\r\n",
        "SELECT unit, datetime, MIN(cycle) min_cycle, AVG(voltage) avg_voltage, AVG(current) avg_current, AVG(temperature) avg_temperature, AVG(capacity) avg_capacity\r\n",
        "FROM (\r\n",
        "    SELECT 'rw6' unit, _c0 cycle, time, voltage, current, temperature, capacity, from_unixtime(unix_timestamp(to_date(\"2020-01-01\")) + time) datetime\r\n",
        "    FROM battery_orig_rw6\r\n",
        ") a\r\n",
        "GROUP BY unit, datetime\r\n",
        "ORDER BY 1, 2\r\n",
        "'''\r\n",
        "df_data = spark.sql(sql_statement).write.format(\"parquet\").mode(\"overwrite\").save(f\"abfss://{file_system_name}@{data_lake_account_name}.dfs.core.windows.net/battery/transformed/dataset_rw6\")\r\n"
      ]
    },
    {
      "cell_type": "code",
      "execution_count": 97,
      "metadata": {
        "collapsed": false,
        "jupyter": {
          "outputs_hidden": false,
          "source_hidden": false
        },
        "nteract": {
          "transient": {
            "deleting": false
          }
        }
      },
      "outputs": [],
      "source": [
        "import pandas as pd\r\n",
        "import numpy as np\r\n",
        "sql_statement = '''\r\n",
        "SELECT unit, datetime, MIN(cycle) min_cycle, AVG(voltage) avg_voltage, AVG(current) avg_current, AVG(temperature) avg_temperature, AVG(capacity) avg_capacity\r\n",
        "FROM (\r\n",
        "    SELECT 'rw3' unit, _c0 cycle, time, voltage, current, temperature, capacity, from_unixtime(unix_timestamp(to_date(\"2020-01-01\")) + time) datetime\r\n",
        "    FROM battery_orig_rw3\r\n",
        ") a\r\n",
        "GROUP BY unit, datetime\r\n",
        "ORDER BY 1, 2\r\n",
        "'''\r\n",
        "df_data = spark.sql(sql_statement)\r\n",
        "display(df_data)"
      ]
    },
    {
      "cell_type": "markdown",
      "metadata": {},
      "source": [
        "## 마지막 datetime 확인"
      ]
    },
    {
      "cell_type": "code",
      "execution_count": null,
      "metadata": {},
      "outputs": [],
      "source": [
        "import pandas as pd\n",
        "import numpy as np\n",
        "sql_statement = '''\n",
        "SELECT unit, MIN(datetime), MAX(datetime)\n",
        "FROM (\n",
        "\n",
        "    SELECT unit, datetime, MIN(cycle) min_cycle, AVG(voltage) avg_voltage, AVG(current) avg_current, AVG(temperature) avg_temperature, AVG(capacity) avg_capacity\n",
        "    FROM (\n",
        "        SELECT 'rw3' unit, _c0 cycle, time, voltage, current, temperature, capacity, from_unixtime(unix_timestamp(to_date(\"2020-01-01\")) + time) datetime\n",
        "        FROM battery_orig_rw3\n",
        "    ) a\n",
        "    GROUP BY unit, datetime\n",
        ") a\n",
        "GROUP BY unit\n",
        "ORDER BY 1\n",
        "'''\n",
        "df_data = spark.sql(sql_statement)\n",
        "display(df_data)"
      ]
    },
    {
      "cell_type": "code",
      "execution_count": null,
      "metadata": {},
      "outputs": [],
      "source": [
        "import pandas as pd\n",
        "import numpy as np\n",
        "sql_statement = '''\n",
        "SELECT unit, datetime, MIN(cycle) min_cycle, AVG(voltage) avg_voltage, AVG(current) avg_current, AVG(temperature) avg_temperature, AVG(capacity) avg_capacity\n",
        "FROM (\n",
        "    SELECT 'rw3' unit, _c0 cycle, time, voltage, current, temperature, capacity, from_unixtime(unix_timestamp(to_date(\"2020-01-01\")) + time) datetime\n",
        "    FROM battery_orig_rw3\n",
        "\n",
        "    WHERE from_unixtime(unix_timestamp(to_date(\"2020-01-01\")) + time) between '2020-05-31 02:00:00' and '2020-05-31 02:05:00'\n",
        ") a\n",
        "GROUP BY unit, datetime\n",
        "\n",
        "'''\n",
        "df_data = spark.sql(sql_statement)\n",
        "df_data.write.mode(\"overwrite\").saveAsTable(\"sample_for_test\")\n",
        "display(df_data)\n"
      ]
    },
    {
      "cell_type": "markdown",
      "metadata": {},
      "source": [
        "처음에 test 용 데이터를 별도로 떼두는 것이 맞음. 지금은 임시로 마지막 구간에서 일부 데이터 가져와서 시간을 이후로 조정해서 테스트에 활용"
      ]
    },
    {
      "cell_type": "markdown",
      "metadata": {
        "nteract": {
          "transient": {
            "deleting": false
          }
        }
      },
      "source": [
        "## Tips\r\n",
        "\r\n",
        "- check missing values (10 sec based)\r\n",
        "\r\n",
        "- play with rolloing windows of 10 sec\r\n",
        "\r\n",
        "- add a calculated column, difference_capaciy\r\n",
        "  - try to predict the above value\r\n",
        "  - accumulate prediction\r\n",
        "\r\n"
      ]
    }
  ],
  "metadata": {
    "kernelspec": {
      "display_name": "python",
      "name": "synapse_pyspark"
    },
    "language_info": {
      "name": "python"
    },
    "save_output": true,
    "synapse_widget": {
      "state": {
        "0dd9428d-009b-42cf-9b27-2a7a7f599212": {
          "persist_state": {
            "view": {
              "chartOptions": {
                "aggregationType": "count",
                "categoryFieldKeys": [
                  "unit"
                ],
                "chartType": "bar",
                "isStacked": false,
                "seriesFieldKeys": [
                  "unit"
                ]
              },
              "type": "details"
            }
          },
          "sync_state": {
            "isSummary": false,
            "language": "scala",
            "table": {
              "rows": [
                {
                  "capacity": "2.0089689889090265",
                  "current": "-2.002",
                  "cycle": "0",
                  "datetime": "2020-01-01 00:00:00",
                  "temperature": "21.14174",
                  "time": "0.04",
                  "unit": "rw3",
                  "voltage": "3.397"
                },
                {
                  "capacity": "2.0077280988698982",
                  "current": "-2.001",
                  "cycle": "1",
                  "datetime": "2020-01-01 00:00:10",
                  "temperature": "21.14174",
                  "time": "10.04",
                  "unit": "rw3",
                  "voltage": "3.532"
                },
                {
                  "capacity": "2.00923327071335",
                  "current": "-2.0",
                  "cycle": "2",
                  "datetime": "2020-01-01 00:00:20",
                  "temperature": "21.12617",
                  "time": "20.04",
                  "unit": "rw3",
                  "voltage": "3.599"
                },
                {
                  "capacity": "2.0083031409624734",
                  "current": "-2.0",
                  "cycle": "3",
                  "datetime": "2020-01-01 00:00:30",
                  "temperature": "21.11059",
                  "time": "30.04",
                  "unit": "rw3",
                  "voltage": "3.652"
                },
                {
                  "capacity": "2.007206363621342",
                  "current": "-2.0",
                  "cycle": "4",
                  "datetime": "2020-01-01 00:00:40",
                  "temperature": "21.11059",
                  "time": "40.04",
                  "unit": "rw3",
                  "voltage": "3.696"
                },
                {
                  "capacity": "2.0102305218737784",
                  "current": "-2.001",
                  "cycle": "5",
                  "datetime": "2020-01-01 00:00:50",
                  "temperature": "21.09502",
                  "time": "50.04",
                  "unit": "rw3",
                  "voltage": "3.733"
                },
                {
                  "capacity": "2.0075109830672977",
                  "current": "-1.999",
                  "cycle": "6",
                  "datetime": "2020-01-01 00:01:00",
                  "temperature": "21.06387",
                  "time": "60.04",
                  "unit": "rw3",
                  "voltage": "3.765"
                },
                {
                  "capacity": "2.005594417381059",
                  "current": "-1.999",
                  "cycle": "7",
                  "datetime": "2020-01-01 00:01:10",
                  "temperature": "21.0483",
                  "time": "70.03999999999999",
                  "unit": "rw3",
                  "voltage": "3.794"
                },
                {
                  "capacity": "2.0096654829732166",
                  "current": "-2.0",
                  "cycle": "8",
                  "datetime": "2020-01-01 00:01:20",
                  "temperature": "21.0483",
                  "time": "80.03999999999999",
                  "unit": "rw3",
                  "voltage": "3.819"
                },
                {
                  "capacity": "2.0092471935012286",
                  "current": "-2.0",
                  "cycle": "9",
                  "datetime": "2020-01-01 00:01:30",
                  "temperature": "21.0483",
                  "time": "90.03999999999999",
                  "unit": "rw3",
                  "voltage": "3.841"
                },
                {
                  "capacity": "2.0090274591885535",
                  "current": "-2.001",
                  "cycle": "10",
                  "datetime": "2020-01-01 00:01:40",
                  "temperature": "21.03273",
                  "time": "100.03999999999999",
                  "unit": "rw3",
                  "voltage": "3.861"
                },
                {
                  "capacity": "2.009659373773398",
                  "current": "-2.0",
                  "cycle": "11",
                  "datetime": "2020-01-01 00:01:50",
                  "temperature": "21.01715",
                  "time": "110.03999999999999",
                  "unit": "rw3",
                  "voltage": "3.879"
                },
                {
                  "capacity": "2.01003429332592",
                  "current": "-2.0",
                  "cycle": "12",
                  "datetime": "2020-01-01 00:02:00",
                  "temperature": "21.01715",
                  "time": "120.04",
                  "unit": "rw3",
                  "voltage": "3.896"
                },
                {
                  "capacity": "2.008823291345315",
                  "current": "-2.0",
                  "cycle": "13",
                  "datetime": "2020-01-01 00:02:10",
                  "temperature": "21.00158",
                  "time": "130.04",
                  "unit": "rw3",
                  "voltage": "3.91"
                },
                {
                  "capacity": "2.009304811889896",
                  "current": "-2.0",
                  "cycle": "14",
                  "datetime": "2020-01-01 00:02:20",
                  "temperature": "20.98601",
                  "time": "140.04",
                  "unit": "rw3",
                  "voltage": "3.922"
                },
                {
                  "capacity": "2.008684312233572",
                  "current": "-2.001",
                  "cycle": "15",
                  "datetime": "2020-01-01 00:02:30",
                  "temperature": "20.98601",
                  "time": "150.04",
                  "unit": "rw3",
                  "voltage": "3.932"
                },
                {
                  "capacity": "2.0082729475342793",
                  "current": "-2.0",
                  "cycle": "16",
                  "datetime": "2020-01-01 00:02:40",
                  "temperature": "20.98601",
                  "time": "160.04",
                  "unit": "rw3",
                  "voltage": "3.939"
                },
                {
                  "capacity": "2.009204031094366",
                  "current": "-2.0",
                  "cycle": "17",
                  "datetime": "2020-01-01 00:02:50",
                  "temperature": "20.98601",
                  "time": "170.04",
                  "unit": "rw3",
                  "voltage": "3.944"
                },
                {
                  "capacity": "2.0075745566505807",
                  "current": "-2.001",
                  "cycle": "18",
                  "datetime": "2020-01-01 00:03:00",
                  "temperature": "20.98601",
                  "time": "180.04",
                  "unit": "rw3",
                  "voltage": "3.949"
                },
                {
                  "capacity": "2.0093861352273317",
                  "current": "-2.0",
                  "cycle": "19",
                  "datetime": "2020-01-01 00:03:10",
                  "temperature": "20.98601",
                  "time": "190.04",
                  "unit": "rw3",
                  "voltage": "3.951"
                },
                {
                  "capacity": "2.0087433266251744",
                  "current": "-2.001",
                  "cycle": "20",
                  "datetime": "2020-01-01 00:03:20",
                  "temperature": "21.00158",
                  "time": "200.04",
                  "unit": "rw3",
                  "voltage": "3.954"
                },
                {
                  "capacity": "2.009581430956176",
                  "current": "-2.0",
                  "cycle": "21",
                  "datetime": "2020-01-01 00:03:30",
                  "temperature": "21.00158",
                  "time": "210.04",
                  "unit": "rw3",
                  "voltage": "3.956"
                },
                {
                  "capacity": "2.009409626598543",
                  "current": "-2.0",
                  "cycle": "22",
                  "datetime": "2020-01-01 00:03:40",
                  "temperature": "21.01715",
                  "time": "220.04",
                  "unit": "rw3",
                  "voltage": "3.957"
                },
                {
                  "capacity": "2.0091672319336973",
                  "current": "-2.0",
                  "cycle": "23",
                  "datetime": "2020-01-01 00:03:50",
                  "temperature": "21.03273",
                  "time": "230.04",
                  "unit": "rw3",
                  "voltage": "3.958"
                },
                {
                  "capacity": "2.0083083633269148",
                  "current": "-2.0",
                  "cycle": "24",
                  "datetime": "2020-01-01 00:04:00",
                  "temperature": "21.0483",
                  "time": "240.04",
                  "unit": "rw3",
                  "voltage": "3.96"
                },
                {
                  "capacity": "2.0082064219272753",
                  "current": "-2.0",
                  "cycle": "25",
                  "datetime": "2020-01-01 00:04:10",
                  "temperature": "21.06387",
                  "time": "250.04",
                  "unit": "rw3",
                  "voltage": "3.961"
                },
                {
                  "capacity": "2.0103821522060894",
                  "current": "-2.0",
                  "cycle": "26",
                  "datetime": "2020-01-01 00:04:20",
                  "temperature": "21.06387",
                  "time": "260.04",
                  "unit": "rw3",
                  "voltage": "3.962"
                },
                {
                  "capacity": "2.0098238019458243",
                  "current": "-2.0",
                  "cycle": "27",
                  "datetime": "2020-01-01 00:04:30",
                  "temperature": "21.07945",
                  "time": "270.04",
                  "unit": "rw3",
                  "voltage": "3.964"
                },
                {
                  "capacity": "2.008388586154135",
                  "current": "-2.0",
                  "cycle": "28",
                  "datetime": "2020-01-01 00:04:40",
                  "temperature": "21.09502",
                  "time": "280.04",
                  "unit": "rw3",
                  "voltage": "3.966"
                },
                {
                  "capacity": "2.009367566409996",
                  "current": "-2.0",
                  "cycle": "29",
                  "datetime": "2020-01-01 00:04:50",
                  "temperature": "21.12617",
                  "time": "290.04",
                  "unit": "rw3",
                  "voltage": "3.967"
                },
                {
                  "capacity": "2.0093374012931635",
                  "current": "-2.001",
                  "cycle": "30",
                  "datetime": "2020-01-01 00:05:00",
                  "temperature": "21.14174",
                  "time": "300.04",
                  "unit": "rw3",
                  "voltage": "3.969"
                },
                {
                  "capacity": "2.008904542317287",
                  "current": "-2.0",
                  "cycle": "31",
                  "datetime": "2020-01-01 00:05:10",
                  "temperature": "21.17289",
                  "time": "310.04",
                  "unit": "rw3",
                  "voltage": "3.97"
                },
                {
                  "capacity": "2.009847626447976",
                  "current": "-2.0",
                  "cycle": "32",
                  "datetime": "2020-01-01 00:05:20",
                  "temperature": "21.18846",
                  "time": "320.04",
                  "unit": "rw3",
                  "voltage": "3.972"
                },
                {
                  "capacity": "2.009115150177046",
                  "current": "-2.0",
                  "cycle": "33",
                  "datetime": "2020-01-01 00:05:30",
                  "temperature": "21.2196",
                  "time": "330.04",
                  "unit": "rw3",
                  "voltage": "3.974"
                },
                {
                  "capacity": "2.0079190919455536",
                  "current": "-2.0",
                  "cycle": "34",
                  "datetime": "2020-01-01 00:05:40",
                  "temperature": "21.25075",
                  "time": "340.04",
                  "unit": "rw3",
                  "voltage": "3.976"
                },
                {
                  "capacity": "2.010420732940683",
                  "current": "-2.001",
                  "cycle": "35",
                  "datetime": "2020-01-01 00:05:50",
                  "temperature": "21.26632",
                  "time": "350.04",
                  "unit": "rw3",
                  "voltage": "3.977"
                },
                {
                  "capacity": "2.008900711924636",
                  "current": "-2.0",
                  "cycle": "36",
                  "datetime": "2020-01-01 00:06:00",
                  "temperature": "21.29747",
                  "time": "360.04",
                  "unit": "rw3",
                  "voltage": "3.979"
                },
                {
                  "capacity": "2.008405358112677",
                  "current": "-2.001",
                  "cycle": "37",
                  "datetime": "2020-01-01 00:06:10",
                  "temperature": "21.32862",
                  "time": "370.04",
                  "unit": "rw3",
                  "voltage": "3.981"
                },
                {
                  "capacity": "2.0074015339065614",
                  "current": "-2.0",
                  "cycle": "38",
                  "datetime": "2020-01-01 00:06:20",
                  "temperature": "21.34419",
                  "time": "380.04",
                  "unit": "rw3",
                  "voltage": "3.983"
                },
                {
                  "capacity": "2.00866731230637",
                  "current": "-2.0",
                  "cycle": "39",
                  "datetime": "2020-01-01 00:06:30",
                  "temperature": "21.35976",
                  "time": "390.04",
                  "unit": "rw3",
                  "voltage": "3.985"
                },
                {
                  "capacity": "2.008143164177454",
                  "current": "-2.0",
                  "cycle": "40",
                  "datetime": "2020-01-01 00:06:40",
                  "temperature": "21.39091",
                  "time": "400.04",
                  "unit": "rw3",
                  "voltage": "3.986"
                },
                {
                  "capacity": "2.009800148702982",
                  "current": "-2.001",
                  "cycle": "41",
                  "datetime": "2020-01-01 00:06:50",
                  "temperature": "21.40648",
                  "time": "410.04",
                  "unit": "rw3",
                  "voltage": "3.988"
                },
                {
                  "capacity": "2.0089298872836294",
                  "current": "-2.0",
                  "cycle": "42",
                  "datetime": "2020-01-01 00:07:00",
                  "temperature": "21.42206",
                  "time": "420.04",
                  "unit": "rw3",
                  "voltage": "3.99"
                },
                {
                  "capacity": "2.009556181171019",
                  "current": "-2.0",
                  "cycle": "43",
                  "datetime": "2020-01-01 00:07:10",
                  "temperature": "21.4532",
                  "time": "430.04",
                  "unit": "rw3",
                  "voltage": "3.992"
                },
                {
                  "capacity": "2.0089663092163828",
                  "current": "-2.0",
                  "cycle": "44",
                  "datetime": "2020-01-01 00:07:20",
                  "temperature": "21.46878",
                  "time": "440.04",
                  "unit": "rw3",
                  "voltage": "3.994"
                },
                {
                  "capacity": "2.007759241130372",
                  "current": "-2.0",
                  "cycle": "45",
                  "datetime": "2020-01-01 00:07:30",
                  "temperature": "21.48435",
                  "time": "450.04",
                  "unit": "rw3",
                  "voltage": "3.995"
                },
                {
                  "capacity": "2.009480297810429",
                  "current": "-2.0",
                  "cycle": "46",
                  "datetime": "2020-01-01 00:07:40",
                  "temperature": "21.53107",
                  "time": "460.04",
                  "unit": "rw3",
                  "voltage": "3.997"
                },
                {
                  "capacity": "2.008325122098887",
                  "current": "-2.0",
                  "cycle": "47",
                  "datetime": "2020-01-01 00:07:50",
                  "temperature": "21.54664",
                  "time": "470.04",
                  "unit": "rw3",
                  "voltage": "3.999"
                },
                {
                  "capacity": "2.0091015628989",
                  "current": "-2.0",
                  "cycle": "48",
                  "datetime": "2020-01-01 00:08:00",
                  "temperature": "21.56222",
                  "time": "480.04",
                  "unit": "rw3",
                  "voltage": "4.001"
                },
                {
                  "capacity": "2.007054964155876",
                  "current": "-2.001",
                  "cycle": "49",
                  "datetime": "2020-01-01 00:08:10",
                  "temperature": "21.56222",
                  "time": "490.04",
                  "unit": "rw3",
                  "voltage": "4.002"
                },
                {
                  "capacity": "2.008592745246782",
                  "current": "-2.0",
                  "cycle": "50",
                  "datetime": "2020-01-01 00:08:20",
                  "temperature": "21.57779",
                  "time": "500.04",
                  "unit": "rw3",
                  "voltage": "4.004"
                },
                {
                  "capacity": "2.0090405484749074",
                  "current": "-2.0",
                  "cycle": "51",
                  "datetime": "2020-01-01 00:08:30",
                  "temperature": "21.60894",
                  "time": "510.04",
                  "unit": "rw3",
                  "voltage": "4.006"
                },
                {
                  "capacity": "2.008906357460925",
                  "current": "-2.0",
                  "cycle": "52",
                  "datetime": "2020-01-01 00:08:40",
                  "temperature": "21.64008",
                  "time": "520.04",
                  "unit": "rw3",
                  "voltage": "4.007"
                },
                {
                  "capacity": "2.010348389111732",
                  "current": "-2.0",
                  "cycle": "53",
                  "datetime": "2020-01-01 00:08:50",
                  "temperature": "21.67123",
                  "time": "530.04",
                  "unit": "rw3",
                  "voltage": "4.009"
                },
                {
                  "capacity": "2.0080025211927435",
                  "current": "-2.0",
                  "cycle": "54",
                  "datetime": "2020-01-01 00:09:00",
                  "temperature": "21.67123",
                  "time": "540.04",
                  "unit": "rw3",
                  "voltage": "4.01"
                },
                {
                  "capacity": "2.007172504219802",
                  "current": "-1.999",
                  "cycle": "55",
                  "datetime": "2020-01-01 00:09:10",
                  "temperature": "21.67123",
                  "time": "550.04",
                  "unit": "rw3",
                  "voltage": "4.012"
                },
                {
                  "capacity": "2.009140351353155",
                  "current": "-2.0",
                  "cycle": "56",
                  "datetime": "2020-01-01 00:09:20",
                  "temperature": "21.6868",
                  "time": "560.04",
                  "unit": "rw3",
                  "voltage": "4.013"
                },
                {
                  "capacity": "2.007360773887633",
                  "current": "-2.0",
                  "cycle": "57",
                  "datetime": "2020-01-01 00:09:30",
                  "temperature": "21.71795",
                  "time": "570.04",
                  "unit": "rw3",
                  "voltage": "4.015"
                },
                {
                  "capacity": "2.0092071818991184",
                  "current": "-2.0",
                  "cycle": "58",
                  "datetime": "2020-01-01 00:09:40",
                  "temperature": "21.73352",
                  "time": "580.04",
                  "unit": "rw3",
                  "voltage": "4.016"
                },
                {
                  "capacity": "2.0095460963575342",
                  "current": "-2.0",
                  "cycle": "59",
                  "datetime": "2020-01-01 00:09:50",
                  "temperature": "21.76467",
                  "time": "590.04",
                  "unit": "rw3",
                  "voltage": "4.018"
                },
                {
                  "capacity": "2.0107726843022107",
                  "current": "-2.0",
                  "cycle": "60",
                  "datetime": "2020-01-01 00:10:00",
                  "temperature": "21.76467",
                  "time": "600.04",
                  "unit": "rw3",
                  "voltage": "4.019"
                },
                {
                  "capacity": "2.0089371741372086",
                  "current": "-2.0",
                  "cycle": "61",
                  "datetime": "2020-01-01 00:10:10",
                  "temperature": "21.79581",
                  "time": "610.04",
                  "unit": "rw3",
                  "voltage": "4.02"
                },
                {
                  "capacity": "2.0108269160349983",
                  "current": "-2.0",
                  "cycle": "62",
                  "datetime": "2020-01-01 00:10:20",
                  "temperature": "21.81139",
                  "time": "620.04",
                  "unit": "rw3",
                  "voltage": "4.022"
                },
                {
                  "capacity": "2.0074106242600904",
                  "current": "-2.0",
                  "cycle": "63",
                  "datetime": "2020-01-01 00:10:30",
                  "temperature": "21.82696",
                  "time": "630.04",
                  "unit": "rw3",
                  "voltage": "4.023"
                },
                {
                  "capacity": "2.0099422476152524",
                  "current": "-2.0",
                  "cycle": "64",
                  "datetime": "2020-01-01 00:10:40",
                  "temperature": "21.85811",
                  "time": "640.04",
                  "unit": "rw3",
                  "voltage": "4.024"
                },
                {
                  "capacity": "2.0096399114939323",
                  "current": "-2.0",
                  "cycle": "65",
                  "datetime": "2020-01-01 00:10:50",
                  "temperature": "21.87368",
                  "time": "650.04",
                  "unit": "rw3",
                  "voltage": "4.025"
                },
                {
                  "capacity": "2.009305471328589",
                  "current": "-2.001",
                  "cycle": "66",
                  "datetime": "2020-01-01 00:11:00",
                  "temperature": "21.88925",
                  "time": "660.04",
                  "unit": "rw3",
                  "voltage": "4.026"
                },
                {
                  "capacity": "2.00992996322018",
                  "current": "-2.001",
                  "cycle": "67",
                  "datetime": "2020-01-01 00:11:10",
                  "temperature": "21.90483",
                  "time": "670.04",
                  "unit": "rw3",
                  "voltage": "4.028"
                },
                {
                  "capacity": "2.009768130979678",
                  "current": "-2.0",
                  "cycle": "68",
                  "datetime": "2020-01-01 00:11:20",
                  "temperature": "21.93597",
                  "time": "680.04",
                  "unit": "rw3",
                  "voltage": "4.029"
                },
                {
                  "capacity": "2.0090831699637124",
                  "current": "-2.0",
                  "cycle": "69",
                  "datetime": "2020-01-01 00:11:30",
                  "temperature": "21.96712",
                  "time": "690.04",
                  "unit": "rw3",
                  "voltage": "4.03"
                },
                {
                  "capacity": "2.0074931246290775",
                  "current": "-2.0",
                  "cycle": "70",
                  "datetime": "2020-01-01 00:11:40",
                  "temperature": "21.98269",
                  "time": "700.04",
                  "unit": "rw3",
                  "voltage": "4.031"
                },
                {
                  "capacity": "2.007898095799738",
                  "current": "-2.001",
                  "cycle": "71",
                  "datetime": "2020-01-01 00:11:50",
                  "temperature": "22.01384",
                  "time": "710.04",
                  "unit": "rw3",
                  "voltage": "4.032"
                },
                {
                  "capacity": "2.008323147447593",
                  "current": "-2.0",
                  "cycle": "72",
                  "datetime": "2020-01-01 00:12:00",
                  "temperature": "22.02941",
                  "time": "720.04",
                  "unit": "rw3",
                  "voltage": "4.033"
                },
                {
                  "capacity": "2.009630657297611",
                  "current": "-2.0",
                  "cycle": "73",
                  "datetime": "2020-01-01 00:12:10",
                  "temperature": "22.04499",
                  "time": "730.04",
                  "unit": "rw3",
                  "voltage": "4.034"
                },
                {
                  "capacity": "2.0085494071062935",
                  "current": "-2.0",
                  "cycle": "74",
                  "datetime": "2020-01-01 00:12:20",
                  "temperature": "22.07613",
                  "time": "740.04",
                  "unit": "rw3",
                  "voltage": "4.035"
                },
                {
                  "capacity": "2.0078517287817106",
                  "current": "-1.999",
                  "cycle": "75",
                  "datetime": "2020-01-01 00:12:30",
                  "temperature": "22.09171",
                  "time": "750.04",
                  "unit": "rw3",
                  "voltage": "4.036"
                },
                {
                  "capacity": "2.0086206429542472",
                  "current": "-2.001",
                  "cycle": "76",
                  "datetime": "2020-01-01 00:12:40",
                  "temperature": "22.10728",
                  "time": "760.04",
                  "unit": "rw3",
                  "voltage": "4.036"
                },
                {
                  "capacity": "2.0090426138075017",
                  "current": "-2.0",
                  "cycle": "77",
                  "datetime": "2020-01-01 00:12:50",
                  "temperature": "22.12285",
                  "time": "770.04",
                  "unit": "rw3",
                  "voltage": "4.037"
                },
                {
                  "capacity": "2.0092846319031312",
                  "current": "-2.001",
                  "cycle": "78",
                  "datetime": "2020-01-01 00:13:00",
                  "temperature": "22.13843",
                  "time": "780.04",
                  "unit": "rw3",
                  "voltage": "4.038"
                },
                {
                  "capacity": "2.0096117532462743",
                  "current": "-2.0",
                  "cycle": "79",
                  "datetime": "2020-01-01 00:13:10",
                  "temperature": "22.154",
                  "time": "790.04",
                  "unit": "rw3",
                  "voltage": "4.039"
                },
                {
                  "capacity": "2.0100258671080993",
                  "current": "-2.0",
                  "cycle": "80",
                  "datetime": "2020-01-01 00:13:20",
                  "temperature": "22.18515",
                  "time": "800.04",
                  "unit": "rw3",
                  "voltage": "4.04"
                },
                {
                  "capacity": "2.0097439985304657",
                  "current": "-2.0",
                  "cycle": "81",
                  "datetime": "2020-01-01 00:13:30",
                  "temperature": "22.20072",
                  "time": "810.04",
                  "unit": "rw3",
                  "voltage": "4.041"
                },
                {
                  "capacity": "2.008311840183511",
                  "current": "-2.0",
                  "cycle": "82",
                  "datetime": "2020-01-01 00:13:40",
                  "temperature": "22.23187",
                  "time": "820.04",
                  "unit": "rw3",
                  "voltage": "4.042"
                },
                {
                  "capacity": "2.0083353892535856",
                  "current": "-2.0",
                  "cycle": "83",
                  "datetime": "2020-01-01 00:13:50",
                  "temperature": "22.24744",
                  "time": "830.04",
                  "unit": "rw3",
                  "voltage": "4.043"
                },
                {
                  "capacity": "2.0077374349806814",
                  "current": "-2.001",
                  "cycle": "84",
                  "datetime": "2020-01-01 00:14:00",
                  "temperature": "22.26301",
                  "time": "840.04",
                  "unit": "rw3",
                  "voltage": "4.043"
                },
                {
                  "capacity": "2.0089732642797267",
                  "current": "-2.0",
                  "cycle": "85",
                  "datetime": "2020-01-01 00:14:10",
                  "temperature": "22.27859",
                  "time": "850.04",
                  "unit": "rw3",
                  "voltage": "4.044"
                },
                {
                  "capacity": "2.010487082038428",
                  "current": "-1.999",
                  "cycle": "86",
                  "datetime": "2020-01-01 00:14:20",
                  "temperature": "22.30973",
                  "time": "860.04",
                  "unit": "rw3",
                  "voltage": "4.045"
                },
                {
                  "capacity": "2.0089618494332524",
                  "current": "-2.0",
                  "cycle": "87",
                  "datetime": "2020-01-01 00:14:30",
                  "temperature": "22.32531",
                  "time": "870.04",
                  "unit": "rw3",
                  "voltage": "4.046"
                },
                {
                  "capacity": "2.008708985189067",
                  "current": "-1.999",
                  "cycle": "88",
                  "datetime": "2020-01-01 00:14:40",
                  "temperature": "22.34088",
                  "time": "880.04",
                  "unit": "rw3",
                  "voltage": "4.046"
                },
                {
                  "capacity": "2.0099285896222203",
                  "current": "-2.0",
                  "cycle": "89",
                  "datetime": "2020-01-01 00:14:50",
                  "temperature": "22.35645",
                  "time": "890.04",
                  "unit": "rw3",
                  "voltage": "4.047"
                },
                {
                  "capacity": "2.0097230925749616",
                  "current": "-2.0",
                  "cycle": "90",
                  "datetime": "2020-01-01 00:15:00",
                  "temperature": "22.37202",
                  "time": "900.04",
                  "unit": "rw3",
                  "voltage": "4.048"
                },
                {
                  "capacity": "2.009342783920913",
                  "current": "-2.0",
                  "cycle": "91",
                  "datetime": "2020-01-01 00:15:10",
                  "temperature": "22.3876",
                  "time": "910.04",
                  "unit": "rw3",
                  "voltage": "4.049"
                },
                {
                  "capacity": "2.0078117323697673",
                  "current": "-2.0",
                  "cycle": "92",
                  "datetime": "2020-01-01 00:15:20",
                  "temperature": "22.40317",
                  "time": "920.04",
                  "unit": "rw3",
                  "voltage": "4.049"
                },
                {
                  "capacity": "2.0090429467685875",
                  "current": "-2.0",
                  "cycle": "93",
                  "datetime": "2020-01-01 00:15:30",
                  "temperature": "22.41874",
                  "time": "930.04",
                  "unit": "rw3",
                  "voltage": "4.05"
                },
                {
                  "capacity": "2.010108374418964",
                  "current": "-2.0",
                  "cycle": "94",
                  "datetime": "2020-01-01 00:15:40",
                  "temperature": "22.44989",
                  "time": "940.04",
                  "unit": "rw3",
                  "voltage": "4.051"
                },
                {
                  "capacity": "2.009349446575241",
                  "current": "-2.0",
                  "cycle": "95",
                  "datetime": "2020-01-01 00:15:50",
                  "temperature": "22.48104",
                  "time": "950.04",
                  "unit": "rw3",
                  "voltage": "4.052"
                },
                {
                  "capacity": "2.0095332785704265",
                  "current": "-2.0",
                  "cycle": "96",
                  "datetime": "2020-01-01 00:16:00",
                  "temperature": "22.49661",
                  "time": "960.04",
                  "unit": "rw3",
                  "voltage": "4.052"
                },
                {
                  "capacity": "2.008555204648467",
                  "current": "-2.001",
                  "cycle": "97",
                  "datetime": "2020-01-01 00:16:10",
                  "temperature": "22.51218",
                  "time": "970.04",
                  "unit": "rw3",
                  "voltage": "4.053"
                },
                {
                  "capacity": "2.006842895539325",
                  "current": "-2.0",
                  "cycle": "98",
                  "datetime": "2020-01-01 00:16:20",
                  "temperature": "22.52776",
                  "time": "980.04",
                  "unit": "rw3",
                  "voltage": "4.054"
                },
                {
                  "capacity": "2.0088897603964524",
                  "current": "-2.0",
                  "cycle": "99",
                  "datetime": "2020-01-01 00:16:30",
                  "temperature": "22.54333",
                  "time": "990.04",
                  "unit": "rw3",
                  "voltage": "4.055"
                },
                {
                  "capacity": "2.009159895360417",
                  "current": "-2.0",
                  "cycle": "100",
                  "datetime": "2020-01-01 00:16:40",
                  "temperature": "22.57448",
                  "time": "1000.04",
                  "unit": "rw3",
                  "voltage": "4.055"
                },
                {
                  "capacity": "2.008277460713402",
                  "current": "-1.999",
                  "cycle": "101",
                  "datetime": "2020-01-01 00:16:50",
                  "temperature": "22.59005",
                  "time": "1010.04",
                  "unit": "rw3",
                  "voltage": "4.056"
                },
                {
                  "capacity": "2.0084150825438227",
                  "current": "-2.0",
                  "cycle": "102",
                  "datetime": "2020-01-01 00:17:00",
                  "temperature": "22.60562",
                  "time": "1020.04",
                  "unit": "rw3",
                  "voltage": "4.057"
                },
                {
                  "capacity": "2.0094405240381237",
                  "current": "-2.0",
                  "cycle": "103",
                  "datetime": "2020-01-01 00:17:10",
                  "temperature": "22.6212",
                  "time": "1030.04",
                  "unit": "rw3",
                  "voltage": "4.058"
                },
                {
                  "capacity": "2.0099181597487172",
                  "current": "-2.0",
                  "cycle": "104",
                  "datetime": "2020-01-01 00:17:20",
                  "temperature": "22.63677",
                  "time": "1040.04",
                  "unit": "rw3",
                  "voltage": "4.058"
                },
                {
                  "capacity": "2.0096068192425736",
                  "current": "-1.999",
                  "cycle": "105",
                  "datetime": "2020-01-01 00:17:30",
                  "temperature": "22.65234",
                  "time": "1050.04",
                  "unit": "rw3",
                  "voltage": "4.059"
                },
                {
                  "capacity": "2.00970213621715",
                  "current": "-2.0",
                  "cycle": "106",
                  "datetime": "2020-01-01 00:17:40",
                  "temperature": "22.66792",
                  "time": "1060.04",
                  "unit": "rw3",
                  "voltage": "4.06"
                },
                {
                  "capacity": "2.0075876822212053",
                  "current": "-2.0",
                  "cycle": "107",
                  "datetime": "2020-01-01 00:17:50",
                  "temperature": "22.68349",
                  "time": "1070.04",
                  "unit": "rw3",
                  "voltage": "4.06"
                },
                {
                  "capacity": "2.0103318230072302",
                  "current": "-2.0",
                  "cycle": "108",
                  "datetime": "2020-01-01 00:18:00",
                  "temperature": "22.69906",
                  "time": "1080.04",
                  "unit": "rw3",
                  "voltage": "4.061"
                },
                {
                  "capacity": "2.0072576943726124",
                  "current": "-2.0",
                  "cycle": "109",
                  "datetime": "2020-01-01 00:18:10",
                  "temperature": "22.73021",
                  "time": "1090.04",
                  "unit": "rw3",
                  "voltage": "4.062"
                },
                {
                  "capacity": "2.0091921569767575",
                  "current": "-2.0",
                  "cycle": "110",
                  "datetime": "2020-01-01 00:18:20",
                  "temperature": "22.73021",
                  "time": "1100.04",
                  "unit": "rw3",
                  "voltage": "4.062"
                },
                {
                  "capacity": "2.00907657568236",
                  "current": "-2.0",
                  "cycle": "111",
                  "datetime": "2020-01-01 00:18:30",
                  "temperature": "22.76135",
                  "time": "1110.04",
                  "unit": "rw3",
                  "voltage": "4.063"
                },
                {
                  "capacity": "2.0094924576258943",
                  "current": "-2.0",
                  "cycle": "112",
                  "datetime": "2020-01-01 00:18:40",
                  "temperature": "22.76135",
                  "time": "1120.04",
                  "unit": "rw3",
                  "voltage": "4.064"
                },
                {
                  "capacity": "2.0097028993004877",
                  "current": "-2.0",
                  "cycle": "113",
                  "datetime": "2020-01-01 00:18:50",
                  "temperature": "22.77693",
                  "time": "1130.04",
                  "unit": "rw3",
                  "voltage": "4.065"
                },
                {
                  "capacity": "2.0104644162646896",
                  "current": "-1.999",
                  "cycle": "114",
                  "datetime": "2020-01-01 00:19:00",
                  "temperature": "22.7925",
                  "time": "1140.04",
                  "unit": "rw3",
                  "voltage": "4.065"
                },
                {
                  "capacity": "2.0102340792225037",
                  "current": "-2.0",
                  "cycle": "115",
                  "datetime": "2020-01-01 00:19:10",
                  "temperature": "22.7925",
                  "time": "1150.04",
                  "unit": "rw3",
                  "voltage": "4.066"
                },
                {
                  "capacity": "2.009018818287047",
                  "current": "-2.0",
                  "cycle": "116",
                  "datetime": "2020-01-01 00:19:20",
                  "temperature": "22.80807",
                  "time": "1160.04",
                  "unit": "rw3",
                  "voltage": "4.067"
                },
                {
                  "capacity": "2.0109821618319548",
                  "current": "-2.0",
                  "cycle": "117",
                  "datetime": "2020-01-01 00:19:30",
                  "temperature": "22.82365",
                  "time": "1170.04",
                  "unit": "rw3",
                  "voltage": "4.068"
                },
                {
                  "capacity": "2.009599562519336",
                  "current": "-2.0",
                  "cycle": "118",
                  "datetime": "2020-01-01 00:19:40",
                  "temperature": "22.82365",
                  "time": "1180.04",
                  "unit": "rw3",
                  "voltage": "4.068"
                },
                {
                  "capacity": "2.010085025948761",
                  "current": "-2.0",
                  "cycle": "119",
                  "datetime": "2020-01-01 00:19:50",
                  "temperature": "22.8548",
                  "time": "1190.04",
                  "unit": "rw3",
                  "voltage": "4.069"
                },
                {
                  "capacity": "2.0094925927496097",
                  "current": "-2.0",
                  "cycle": "120",
                  "datetime": "2020-01-01 00:20:00",
                  "temperature": "22.87037",
                  "time": "1200.04",
                  "unit": "rw3",
                  "voltage": "4.07"
                },
                {
                  "capacity": "2.007943143929028",
                  "current": "-2.0",
                  "cycle": "121",
                  "datetime": "2020-01-01 00:20:10",
                  "temperature": "22.88594",
                  "time": "1210.04",
                  "unit": "rw3",
                  "voltage": "4.071"
                },
                {
                  "capacity": "2.0091347371205837",
                  "current": "-2.0",
                  "cycle": "122",
                  "datetime": "2020-01-01 00:20:20",
                  "temperature": "22.91709",
                  "time": "1220.04",
                  "unit": "rw3",
                  "voltage": "4.071"
                },
                {
                  "capacity": "2.0104378480560157",
                  "current": "-2.0",
                  "cycle": "123",
                  "datetime": "2020-01-01 00:20:30",
                  "temperature": "22.93266",
                  "time": "1230.04",
                  "unit": "rw3",
                  "voltage": "4.072"
                },
                {
                  "capacity": "2.0115630233295567",
                  "current": "-2.0",
                  "cycle": "124",
                  "datetime": "2020-01-01 00:20:40",
                  "temperature": "22.94823",
                  "time": "1240.04",
                  "unit": "rw3",
                  "voltage": "4.073"
                },
                {
                  "capacity": "2.008083179348027",
                  "current": "-2.0",
                  "cycle": "125",
                  "datetime": "2020-01-01 00:20:50",
                  "temperature": "22.97938",
                  "time": "1250.04",
                  "unit": "rw3",
                  "voltage": "4.074"
                },
                {
                  "capacity": "2.0079285432920946",
                  "current": "-1.999",
                  "cycle": "126",
                  "datetime": "2020-01-01 00:21:00",
                  "temperature": "22.97938",
                  "time": "1260.04",
                  "unit": "rw3",
                  "voltage": "4.074"
                },
                {
                  "capacity": "2.0079530593260064",
                  "current": "-2.0",
                  "cycle": "127",
                  "datetime": "2020-01-01 00:21:10",
                  "temperature": "22.99495",
                  "time": "1270.04",
                  "unit": "rw3",
                  "voltage": "4.075"
                },
                {
                  "capacity": "2.008863504624939",
                  "current": "-2.0",
                  "cycle": "128",
                  "datetime": "2020-01-01 00:21:20",
                  "temperature": "23.01053",
                  "time": "1280.04",
                  "unit": "rw3",
                  "voltage": "4.076"
                },
                {
                  "capacity": "2.0093077402816286",
                  "current": "-2.0",
                  "cycle": "129",
                  "datetime": "2020-01-01 00:21:30",
                  "temperature": "23.0261",
                  "time": "1290.04",
                  "unit": "rw3",
                  "voltage": "4.077"
                },
                {
                  "capacity": "2.009578603515456",
                  "current": "-2.0",
                  "cycle": "130",
                  "datetime": "2020-01-01 00:21:40",
                  "temperature": "23.04167",
                  "time": "1300.04",
                  "unit": "rw3",
                  "voltage": "4.078"
                },
                {
                  "capacity": "2.0093085161784456",
                  "current": "-2.0",
                  "cycle": "131",
                  "datetime": "2020-01-01 00:21:50",
                  "temperature": "23.07282",
                  "time": "1310.04",
                  "unit": "rw3",
                  "voltage": "4.078"
                },
                {
                  "capacity": "2.0081883503585445",
                  "current": "-2.0",
                  "cycle": "132",
                  "datetime": "2020-01-01 00:22:00",
                  "temperature": "23.08839",
                  "time": "1320.04",
                  "unit": "rw3",
                  "voltage": "4.079"
                },
                {
                  "capacity": "2.010095496704848",
                  "current": "-2.0",
                  "cycle": "133",
                  "datetime": "2020-01-01 00:22:10",
                  "temperature": "23.08839",
                  "time": "1330.04",
                  "unit": "rw3",
                  "voltage": "4.08"
                },
                {
                  "capacity": "2.0068392432139786",
                  "current": "-2.0",
                  "cycle": "134",
                  "datetime": "2020-01-01 00:22:20",
                  "temperature": "23.11954",
                  "time": "1340.04",
                  "unit": "rw3",
                  "voltage": "4.081"
                },
                {
                  "capacity": "2.0099707390517016",
                  "current": "-2.0",
                  "cycle": "135",
                  "datetime": "2020-01-01 00:22:30",
                  "temperature": "23.13511",
                  "time": "1350.04",
                  "unit": "rw3",
                  "voltage": "4.081"
                },
                {
                  "capacity": "2.010446028731373",
                  "current": "-2.0",
                  "cycle": "136",
                  "datetime": "2020-01-01 00:22:40",
                  "temperature": "23.16626",
                  "time": "1360.04",
                  "unit": "rw3",
                  "voltage": "4.082"
                },
                {
                  "capacity": "2.0089538906083826",
                  "current": "-2.0",
                  "cycle": "137",
                  "datetime": "2020-01-01 00:22:50",
                  "temperature": "23.16626",
                  "time": "1370.04",
                  "unit": "rw3",
                  "voltage": "4.083"
                },
                {
                  "capacity": "2.0095551736086246",
                  "current": "-2.0",
                  "cycle": "138",
                  "datetime": "2020-01-01 00:23:00",
                  "temperature": "23.19741",
                  "time": "1380.04",
                  "unit": "rw3",
                  "voltage": "4.084"
                },
                {
                  "capacity": "2.0087418256178453",
                  "current": "-2.0",
                  "cycle": "139",
                  "datetime": "2020-01-01 00:23:10",
                  "temperature": "23.21298",
                  "time": "1390.04",
                  "unit": "rw3",
                  "voltage": "4.085"
                },
                {
                  "capacity": "2.007700946163089",
                  "current": "-2.0",
                  "cycle": "140",
                  "datetime": "2020-01-01 00:23:20",
                  "temperature": "23.22855",
                  "time": "1400.04",
                  "unit": "rw3",
                  "voltage": "4.085"
                },
                {
                  "capacity": "2.0082836764525185",
                  "current": "-1.999",
                  "cycle": "141",
                  "datetime": "2020-01-01 00:23:30",
                  "temperature": "23.24413",
                  "time": "1410.04",
                  "unit": "rw3",
                  "voltage": "4.086"
                },
                {
                  "capacity": "2.010237220553825",
                  "current": "-2.0",
                  "cycle": "142",
                  "datetime": "2020-01-01 00:23:40",
                  "temperature": "23.27527",
                  "time": "1420.04",
                  "unit": "rw3",
                  "voltage": "4.087"
                },
                {
                  "capacity": "2.0081371174726192",
                  "current": "-2.0",
                  "cycle": "143",
                  "datetime": "2020-01-01 00:23:50",
                  "temperature": "23.29085",
                  "time": "1430.04",
                  "unit": "rw3",
                  "voltage": "4.088"
                },
                {
                  "capacity": "2.0104196221750965",
                  "current": "-2.0",
                  "cycle": "144",
                  "datetime": "2020-01-01 00:24:00",
                  "temperature": "23.30642",
                  "time": "1440.04",
                  "unit": "rw3",
                  "voltage": "4.089"
                },
                {
                  "capacity": "2.011829565176468",
                  "current": "-2.0",
                  "cycle": "145",
                  "datetime": "2020-01-01 00:24:10",
                  "temperature": "23.32199",
                  "time": "1450.04",
                  "unit": "rw3",
                  "voltage": "4.09"
                },
                {
                  "capacity": "2.0085716582906383",
                  "current": "-2.0",
                  "cycle": "146",
                  "datetime": "2020-01-01 00:24:20",
                  "temperature": "23.33757",
                  "time": "1460.04",
                  "unit": "rw3",
                  "voltage": "4.09"
                },
                {
                  "capacity": "2.0094336595254116",
                  "current": "-2.0",
                  "cycle": "147",
                  "datetime": "2020-01-01 00:24:30",
                  "temperature": "23.33757",
                  "time": "1470.04",
                  "unit": "rw3",
                  "voltage": "4.091"
                },
                {
                  "capacity": "2.008918676309511",
                  "current": "-2.0",
                  "cycle": "148",
                  "datetime": "2020-01-01 00:24:40",
                  "temperature": "23.35314",
                  "time": "1480.04",
                  "unit": "rw3",
                  "voltage": "4.092"
                },
                {
                  "capacity": "2.007101204855617",
                  "current": "-2.0",
                  "cycle": "149",
                  "datetime": "2020-01-01 00:24:50",
                  "temperature": "23.38428",
                  "time": "1490.04",
                  "unit": "rw3",
                  "voltage": "4.093"
                },
                {
                  "capacity": "2.0081188797373835",
                  "current": "-2.0",
                  "cycle": "150",
                  "datetime": "2020-01-01 00:25:00",
                  "temperature": "23.38428",
                  "time": "1500.04",
                  "unit": "rw3",
                  "voltage": "4.094"
                },
                {
                  "capacity": "2.009170031983728",
                  "current": "-2.0",
                  "cycle": "151",
                  "datetime": "2020-01-01 00:25:10",
                  "temperature": "23.38428",
                  "time": "1510.04",
                  "unit": "rw3",
                  "voltage": "4.095"
                },
                {
                  "capacity": "2.009709043770783",
                  "current": "-2.0",
                  "cycle": "152",
                  "datetime": "2020-01-01 00:25:20",
                  "temperature": "23.41543",
                  "time": "1520.04",
                  "unit": "rw3",
                  "voltage": "4.095"
                },
                {
                  "capacity": "2.0075278310731575",
                  "current": "-2.0",
                  "cycle": "153",
                  "datetime": "2020-01-01 00:25:30",
                  "temperature": "23.41543",
                  "time": "1530.04",
                  "unit": "rw3",
                  "voltage": "4.096"
                },
                {
                  "capacity": "2.0098610598634656",
                  "current": "-2.0",
                  "cycle": "154",
                  "datetime": "2020-01-01 00:25:40",
                  "temperature": "23.43101",
                  "time": "1540.04",
                  "unit": "rw3",
                  "voltage": "4.097"
                },
                {
                  "capacity": "2.0079618402791715",
                  "current": "-2.0",
                  "cycle": "155",
                  "datetime": "2020-01-01 00:25:50",
                  "temperature": "23.44658",
                  "time": "1550.04",
                  "unit": "rw3",
                  "voltage": "4.098"
                },
                {
                  "capacity": "2.007783422346907",
                  "current": "-2.0",
                  "cycle": "156",
                  "datetime": "2020-01-01 00:26:00",
                  "temperature": "23.44658",
                  "time": "1560.04",
                  "unit": "rw3",
                  "voltage": "4.099"
                },
                {
                  "capacity": "2.0090738360695033",
                  "current": "-2.0",
                  "cycle": "157",
                  "datetime": "2020-01-01 00:26:10",
                  "temperature": "23.44658",
                  "time": "1570.04",
                  "unit": "rw3",
                  "voltage": "4.1"
                },
                {
                  "capacity": "2.007978911731617",
                  "current": "-2.0",
                  "cycle": "158",
                  "datetime": "2020-01-01 00:26:20",
                  "temperature": "23.44658",
                  "time": "1580.04",
                  "unit": "rw3",
                  "voltage": "4.101"
                },
                {
                  "capacity": "2.008596109045541",
                  "current": "-2.0",
                  "cycle": "159",
                  "datetime": "2020-01-01 00:26:30",
                  "temperature": "23.46215",
                  "time": "1590.04",
                  "unit": "rw3",
                  "voltage": "4.102"
                },
                {
                  "capacity": "2.0107700365226537",
                  "current": "-2.001",
                  "cycle": "160",
                  "datetime": "2020-01-01 00:26:40",
                  "temperature": "23.47773",
                  "time": "1600.04",
                  "unit": "rw3",
                  "voltage": "4.102"
                },
                {
                  "capacity": "2.010759725337865",
                  "current": "-2.0",
                  "cycle": "161",
                  "datetime": "2020-01-01 00:26:50",
                  "temperature": "23.4933",
                  "time": "1610.04",
                  "unit": "rw3",
                  "voltage": "4.103"
                },
                {
                  "capacity": "2.008578587050852",
                  "current": "-2.0",
                  "cycle": "162",
                  "datetime": "2020-01-01 00:27:00",
                  "temperature": "23.52444",
                  "time": "1620.04",
                  "unit": "rw3",
                  "voltage": "4.104"
                },
                {
                  "capacity": "2.0095444148894726",
                  "current": "-2.0",
                  "cycle": "163",
                  "datetime": "2020-01-01 00:27:10",
                  "temperature": "23.52444",
                  "time": "1630.04",
                  "unit": "rw3",
                  "voltage": "4.105"
                },
                {
                  "capacity": "2.0109146053424345",
                  "current": "-2.0",
                  "cycle": "164",
                  "datetime": "2020-01-01 00:27:20",
                  "temperature": "23.54002",
                  "time": "1640.04",
                  "unit": "rw3",
                  "voltage": "4.106"
                },
                {
                  "capacity": "2.008799989955072",
                  "current": "-2.0",
                  "cycle": "165",
                  "datetime": "2020-01-01 00:27:30",
                  "temperature": "23.52444",
                  "time": "1650.04",
                  "unit": "rw3",
                  "voltage": "4.107"
                },
                {
                  "capacity": "2.009927216248718",
                  "current": "-2.0",
                  "cycle": "166",
                  "datetime": "2020-01-01 00:27:40",
                  "temperature": "23.55559",
                  "time": "1660.04",
                  "unit": "rw3",
                  "voltage": "4.108"
                },
                {
                  "capacity": "2.009705751669787",
                  "current": "-2.0",
                  "cycle": "167",
                  "datetime": "2020-01-01 00:27:50",
                  "temperature": "23.57116",
                  "time": "1670.04",
                  "unit": "rw3",
                  "voltage": "4.109"
                },
                {
                  "capacity": "2.0100128669593484",
                  "current": "-2.0",
                  "cycle": "168",
                  "datetime": "2020-01-01 00:28:00",
                  "temperature": "23.58674",
                  "time": "1680.04",
                  "unit": "rw3",
                  "voltage": "4.11"
                },
                {
                  "capacity": "2.009993372267192",
                  "current": "-1.999",
                  "cycle": "169",
                  "datetime": "2020-01-01 00:28:10",
                  "temperature": "23.58674",
                  "time": "1690.04",
                  "unit": "rw3",
                  "voltage": "4.111"
                },
                {
                  "capacity": "2.0094286723347317",
                  "current": "-2.001",
                  "cycle": "170",
                  "datetime": "2020-01-01 00:28:20",
                  "temperature": "23.61788",
                  "time": "1700.04",
                  "unit": "rw3",
                  "voltage": "4.112"
                },
                {
                  "capacity": "2.010015409649476",
                  "current": "-2.0",
                  "cycle": "171",
                  "datetime": "2020-01-01 00:28:30",
                  "temperature": "23.61788",
                  "time": "1710.04",
                  "unit": "rw3",
                  "voltage": "4.113"
                },
                {
                  "capacity": "2.0088076990488135",
                  "current": "-2.0",
                  "cycle": "172",
                  "datetime": "2020-01-01 00:28:40",
                  "temperature": "23.63346",
                  "time": "1720.04",
                  "unit": "rw3",
                  "voltage": "4.114"
                },
                {
                  "capacity": "2.0073624671919466",
                  "current": "-2.0",
                  "cycle": "173",
                  "datetime": "2020-01-01 00:28:50",
                  "temperature": "23.6646",
                  "time": "1730.04",
                  "unit": "rw3",
                  "voltage": "4.115"
                },
                {
                  "capacity": "2.0096798360352666",
                  "current": "-1.999",
                  "cycle": "174",
                  "datetime": "2020-01-01 00:29:00",
                  "temperature": "23.69575",
                  "time": "1740.04",
                  "unit": "rw3",
                  "voltage": "4.116"
                },
                {
                  "capacity": "2.0093866208829487",
                  "current": "-2.0",
                  "cycle": "175",
                  "datetime": "2020-01-01 00:29:10",
                  "temperature": "23.69575",
                  "time": "1750.04",
                  "unit": "rw3",
                  "voltage": "4.117"
                },
                {
                  "capacity": "2.0080107069930233",
                  "current": "-2.0",
                  "cycle": "176",
                  "datetime": "2020-01-01 00:29:20",
                  "temperature": "23.7269",
                  "time": "1760.04",
                  "unit": "rw3",
                  "voltage": "4.118"
                },
                {
                  "capacity": "2.0093889205428677",
                  "current": "-2.0",
                  "cycle": "177",
                  "datetime": "2020-01-01 00:29:30",
                  "temperature": "23.74247",
                  "time": "1770.04",
                  "unit": "rw3",
                  "voltage": "4.119"
                },
                {
                  "capacity": "2.0074322182662026",
                  "current": "-2.0",
                  "cycle": "178",
                  "datetime": "2020-01-01 00:29:40",
                  "temperature": "23.75804",
                  "time": "1780.04",
                  "unit": "rw3",
                  "voltage": "4.12"
                },
                {
                  "capacity": "2.009242317927237",
                  "current": "-2.0",
                  "cycle": "179",
                  "datetime": "2020-01-01 00:29:50",
                  "temperature": "23.80476",
                  "time": "1790.04",
                  "unit": "rw3",
                  "voltage": "4.121"
                },
                {
                  "capacity": "2.010431917181745",
                  "current": "-2.0",
                  "cycle": "180",
                  "datetime": "2020-01-01 00:30:00",
                  "temperature": "23.82034",
                  "time": "1800.04",
                  "unit": "rw3",
                  "voltage": "4.122"
                },
                {
                  "capacity": "2.0072935458327468",
                  "current": "-2.0",
                  "cycle": "181",
                  "datetime": "2020-01-01 00:30:10",
                  "temperature": "23.83591",
                  "time": "1810.04",
                  "unit": "rw3",
                  "voltage": "4.123"
                },
                {
                  "capacity": "2.008681466151064",
                  "current": "-1.999",
                  "cycle": "182",
                  "datetime": "2020-01-01 00:30:20",
                  "temperature": "23.86706",
                  "time": "1820.04",
                  "unit": "rw3",
                  "voltage": "4.124"
                },
                {
                  "capacity": "2.0066904866576496",
                  "current": "-2.001",
                  "cycle": "183",
                  "datetime": "2020-01-01 00:30:30",
                  "temperature": "23.88263",
                  "time": "1830.04",
                  "unit": "rw3",
                  "voltage": "4.126"
                },
                {
                  "capacity": "2.008334524493596",
                  "current": "-2.0",
                  "cycle": "184",
                  "datetime": "2020-01-01 00:30:40",
                  "temperature": "23.8982",
                  "time": "1840.04",
                  "unit": "rw3",
                  "voltage": "4.127"
                },
                {
                  "capacity": "2.0094095186179275",
                  "current": "-2.0",
                  "cycle": "185",
                  "datetime": "2020-01-01 00:30:50",
                  "temperature": "23.91377",
                  "time": "1850.04",
                  "unit": "rw3",
                  "voltage": "4.128"
                },
                {
                  "capacity": "2.0068442272616194",
                  "current": "-2.0",
                  "cycle": "186",
                  "datetime": "2020-01-01 00:31:00",
                  "temperature": "23.92935",
                  "time": "1860.04",
                  "unit": "rw3",
                  "voltage": "4.129"
                },
                {
                  "capacity": "2.0074185534275615",
                  "current": "-2.0",
                  "cycle": "187",
                  "datetime": "2020-01-01 00:31:10",
                  "temperature": "23.96049",
                  "time": "1870.04",
                  "unit": "rw3",
                  "voltage": "4.13"
                },
                {
                  "capacity": "2.008758712467414",
                  "current": "-2.001",
                  "cycle": "188",
                  "datetime": "2020-01-01 00:31:20",
                  "temperature": "23.96049",
                  "time": "1880.04",
                  "unit": "rw3",
                  "voltage": "4.131"
                },
                {
                  "capacity": "2.0079804575410103",
                  "current": "-1.999",
                  "cycle": "189",
                  "datetime": "2020-01-01 00:31:30",
                  "temperature": "23.99164",
                  "time": "1890.04",
                  "unit": "rw3",
                  "voltage": "4.132"
                },
                {
                  "capacity": "2.0098032292923795",
                  "current": "-2.0",
                  "cycle": "190",
                  "datetime": "2020-01-01 00:31:40",
                  "temperature": "24.02279",
                  "time": "1900.04",
                  "unit": "rw3",
                  "voltage": "4.133"
                },
                {
                  "capacity": "2.0079935336610517",
                  "current": "-2.0",
                  "cycle": "191",
                  "datetime": "2020-01-01 00:31:50",
                  "temperature": "24.03836",
                  "time": "1910.04",
                  "unit": "rw3",
                  "voltage": "4.134"
                },
                {
                  "capacity": "2.010810444775665",
                  "current": "-2.0",
                  "cycle": "192",
                  "datetime": "2020-01-01 00:32:00",
                  "temperature": "24.06951",
                  "time": "1920.04",
                  "unit": "rw3",
                  "voltage": "4.136"
                },
                {
                  "capacity": "2.006304329094707",
                  "current": "-1.999",
                  "cycle": "193",
                  "datetime": "2020-01-01 00:32:10",
                  "temperature": "24.10065",
                  "time": "1930.04",
                  "unit": "rw3",
                  "voltage": "4.137"
                },
                {
                  "capacity": "2.008735325808277",
                  "current": "-2.0",
                  "cycle": "194",
                  "datetime": "2020-01-01 00:32:20",
                  "temperature": "24.11623",
                  "time": "1940.04",
                  "unit": "rw3",
                  "voltage": "4.138"
                },
                {
                  "capacity": "2.0102836449989434",
                  "current": "-2.001",
                  "cycle": "195",
                  "datetime": "2020-01-01 00:32:30",
                  "temperature": "24.1318",
                  "time": "1950.04",
                  "unit": "rw3",
                  "voltage": "4.139"
                },
                {
                  "capacity": "2.0098165097509533",
                  "current": "-2.0",
                  "cycle": "196",
                  "datetime": "2020-01-01 00:32:40",
                  "temperature": "24.1318",
                  "time": "1960.04",
                  "unit": "rw3",
                  "voltage": "4.14"
                },
                {
                  "capacity": "2.009411956943488",
                  "current": "-2.0",
                  "cycle": "197",
                  "datetime": "2020-01-01 00:32:50",
                  "temperature": "24.14737",
                  "time": "1970.04",
                  "unit": "rw3",
                  "voltage": "4.141"
                },
                {
                  "capacity": "2.0061017081329915",
                  "current": "-1.999",
                  "cycle": "198",
                  "datetime": "2020-01-01 00:33:00",
                  "temperature": "24.17852",
                  "time": "1980.04",
                  "unit": "rw3",
                  "voltage": "4.143"
                },
                {
                  "capacity": "2.009715947899768",
                  "current": "-2.0",
                  "cycle": "199",
                  "datetime": "2020-01-01 00:33:10",
                  "temperature": "24.19409",
                  "time": "1990.04",
                  "unit": "rw3",
                  "voltage": "4.144"
                }
              ],
              "schema": {
                "capacity": "string",
                "current": "string",
                "cycle": "string",
                "datetime": "string",
                "temperature": "string",
                "time": "string",
                "unit": "string",
                "voltage": "string"
              }
            }
          },
          "type": "Synapse.DataFrame"
        },
        "27adbb62-0067-457d-8b7a-1cfa44dcd2fb": {
          "persist_state": {
            "view": {
              "chartOptions": {
                "aggregationType": "avg",
                "categoryFieldKeys": [
                  "_c0"
                ],
                "chartType": "line",
                "isStacked": false,
                "pivotFieldKey": "unit",
                "seriesFieldKeys": [
                  "FifteenCycleMovAvg"
                ]
              },
              "type": "details"
            }
          },
          "sync_state": {
            "isSummary": false,
            "language": "scala",
            "table": {
              "rows": [
                {
                  "FifteenCycleMovAvg": 2.0089199593759735,
                  "_c0": "0",
                  "unit": "rw3"
                },
                {
                  "FifteenCycleMovAvg": 2.0089268157674742,
                  "_c0": "1",
                  "unit": "rw3"
                },
                {
                  "FifteenCycleMovAvg": 2.0089106107053882,
                  "_c0": "10",
                  "unit": "rw3"
                },
                {
                  "FifteenCycleMovAvg": 2.0089054892615006,
                  "_c0": "100",
                  "unit": "rw3"
                },
                {
                  "FifteenCycleMovAvg": 2.008899201686355,
                  "_c0": "1000",
                  "unit": "rw3"
                },
                {
                  "FifteenCycleMovAvg": 2.0089038745136385,
                  "_c0": "1001",
                  "unit": "rw3"
                },
                {
                  "FifteenCycleMovAvg": 2.008898790704445,
                  "_c0": "1002",
                  "unit": "rw3"
                },
                {
                  "FifteenCycleMovAvg": 2.0089059133790164,
                  "_c0": "1003",
                  "unit": "rw3"
                },
                {
                  "FifteenCycleMovAvg": 2.0089088171350595,
                  "_c0": "1004",
                  "unit": "rw3"
                },
                {
                  "FifteenCycleMovAvg": 2.0089257390445163,
                  "_c0": "1005",
                  "unit": "rw3"
                },
                {
                  "FifteenCycleMovAvg": 2.0089267742043435,
                  "_c0": "1006",
                  "unit": "rw3"
                },
                {
                  "FifteenCycleMovAvg": 2.008922837676852,
                  "_c0": "1007",
                  "unit": "rw3"
                },
                {
                  "FifteenCycleMovAvg": 2.008939083261534,
                  "_c0": "1008",
                  "unit": "rw3"
                },
                {
                  "FifteenCycleMovAvg": 2.008945401599357,
                  "_c0": "1009",
                  "unit": "rw3"
                },
                {
                  "FifteenCycleMovAvg": 2.008947547298291,
                  "_c0": "101",
                  "unit": "rw3"
                },
                {
                  "FifteenCycleMovAvg": 2.0089569371354767,
                  "_c0": "1010",
                  "unit": "rw3"
                },
                {
                  "FifteenCycleMovAvg": 2.0089544871680007,
                  "_c0": "1011",
                  "unit": "rw3"
                },
                {
                  "FifteenCycleMovAvg": 2.008943208809617,
                  "_c0": "1012",
                  "unit": "rw3"
                },
                {
                  "FifteenCycleMovAvg": 2.0089468365830747,
                  "_c0": "1013",
                  "unit": "rw3"
                },
                {
                  "FifteenCycleMovAvg": 2.0089519515700713,
                  "_c0": "1014",
                  "unit": "rw3"
                },
                {
                  "FifteenCycleMovAvg": 2.008943958231109,
                  "_c0": "1015",
                  "unit": "rw3"
                },
                {
                  "FifteenCycleMovAvg": 2.008945015849636,
                  "_c0": "1016",
                  "unit": "rw3"
                },
                {
                  "FifteenCycleMovAvg": 2.0089418340045446,
                  "_c0": "1017",
                  "unit": "rw3"
                },
                {
                  "FifteenCycleMovAvg": 2.0089362694708623,
                  "_c0": "1018",
                  "unit": "rw3"
                },
                {
                  "FifteenCycleMovAvg": 2.0089371731293766,
                  "_c0": "1019",
                  "unit": "rw3"
                },
                {
                  "FifteenCycleMovAvg": 2.0089382794988446,
                  "_c0": "102",
                  "unit": "rw3"
                },
                {
                  "FifteenCycleMovAvg": 2.0089393906957502,
                  "_c0": "1020",
                  "unit": "rw3"
                },
                {
                  "FifteenCycleMovAvg": 2.008927626696135,
                  "_c0": "1021",
                  "unit": "rw3"
                },
                {
                  "FifteenCycleMovAvg": 2.0089219387980557,
                  "_c0": "1022",
                  "unit": "rw3"
                },
                {
                  "FifteenCycleMovAvg": 2.008919196572906,
                  "_c0": "1023",
                  "unit": "rw3"
                },
                {
                  "FifteenCycleMovAvg": 2.0089334546471944,
                  "_c0": "1024",
                  "unit": "rw3"
                },
                {
                  "FifteenCycleMovAvg": 2.008941115885136,
                  "_c0": "1025",
                  "unit": "rw3"
                },
                {
                  "FifteenCycleMovAvg": 2.008941260691039,
                  "_c0": "1026",
                  "unit": "rw3"
                },
                {
                  "FifteenCycleMovAvg": 2.008952349429313,
                  "_c0": "1027",
                  "unit": "rw3"
                },
                {
                  "FifteenCycleMovAvg": 2.0089417688384965,
                  "_c0": "1028",
                  "unit": "rw3"
                },
                {
                  "FifteenCycleMovAvg": 2.008941917543747,
                  "_c0": "1029",
                  "unit": "rw3"
                },
                {
                  "FifteenCycleMovAvg": 2.008945936084492,
                  "_c0": "103",
                  "unit": "rw3"
                },
                {
                  "FifteenCycleMovAvg": 2.008951952366577,
                  "_c0": "1030",
                  "unit": "rw3"
                },
                {
                  "FifteenCycleMovAvg": 2.0089536238488104,
                  "_c0": "1031",
                  "unit": "rw3"
                },
                {
                  "FifteenCycleMovAvg": 2.008961317655794,
                  "_c0": "1032",
                  "unit": "rw3"
                },
                {
                  "FifteenCycleMovAvg": 2.0089651936941437,
                  "_c0": "1033",
                  "unit": "rw3"
                },
                {
                  "FifteenCycleMovAvg": 2.0089610564867164,
                  "_c0": "1034",
                  "unit": "rw3"
                },
                {
                  "FifteenCycleMovAvg": 2.008958742632298,
                  "_c0": "1035",
                  "unit": "rw3"
                },
                {
                  "FifteenCycleMovAvg": 2.008962353038078,
                  "_c0": "1036",
                  "unit": "rw3"
                },
                {
                  "FifteenCycleMovAvg": 2.0089454781326657,
                  "_c0": "1037",
                  "unit": "rw3"
                },
                {
                  "FifteenCycleMovAvg": 2.008936783545939,
                  "_c0": "1038",
                  "unit": "rw3"
                },
                {
                  "FifteenCycleMovAvg": 2.0089448163404975,
                  "_c0": "1039",
                  "unit": "rw3"
                },
                {
                  "FifteenCycleMovAvg": 2.0089499385226595,
                  "_c0": "104",
                  "unit": "rw3"
                },
                {
                  "FifteenCycleMovAvg": 2.008942585873024,
                  "_c0": "1040",
                  "unit": "rw3"
                },
                {
                  "FifteenCycleMovAvg": 2.0089481017602533,
                  "_c0": "1041",
                  "unit": "rw3"
                },
                {
                  "FifteenCycleMovAvg": 2.0089496788323893,
                  "_c0": "1042",
                  "unit": "rw3"
                },
                {
                  "FifteenCycleMovAvg": 2.008938157077838,
                  "_c0": "1043",
                  "unit": "rw3"
                },
                {
                  "FifteenCycleMovAvg": 2.008949218400252,
                  "_c0": "1044",
                  "unit": "rw3"
                },
                {
                  "FifteenCycleMovAvg": 2.0089538919556764,
                  "_c0": "1045",
                  "unit": "rw3"
                },
                {
                  "FifteenCycleMovAvg": 2.0089610051228126,
                  "_c0": "1046",
                  "unit": "rw3"
                },
                {
                  "FifteenCycleMovAvg": 2.0089525941072472,
                  "_c0": "1047",
                  "unit": "rw3"
                },
                {
                  "FifteenCycleMovAvg": 2.0089602233949653,
                  "_c0": "1048",
                  "unit": "rw3"
                },
                {
                  "FifteenCycleMovAvg": 2.0089629118103227,
                  "_c0": "1049",
                  "unit": "rw3"
                },
                {
                  "FifteenCycleMovAvg": 2.0089723552345644,
                  "_c0": "105",
                  "unit": "rw3"
                },
                {
                  "FifteenCycleMovAvg": 2.0089657332759705,
                  "_c0": "1050",
                  "unit": "rw3"
                },
                {
                  "FifteenCycleMovAvg": 2.0089746429333233,
                  "_c0": "1051",
                  "unit": "rw3"
                },
                {
                  "FifteenCycleMovAvg": 2.0089617400609745,
                  "_c0": "1052",
                  "unit": "rw3"
                },
                {
                  "FifteenCycleMovAvg": 2.008964632990328,
                  "_c0": "1053",
                  "unit": "rw3"
                },
                {
                  "FifteenCycleMovAvg": 2.008960277341672,
                  "_c0": "1054",
                  "unit": "rw3"
                },
                {
                  "FifteenCycleMovAvg": 2.0089667141415726,
                  "_c0": "1055",
                  "unit": "rw3"
                },
                {
                  "FifteenCycleMovAvg": 2.008968098760017,
                  "_c0": "1056",
                  "unit": "rw3"
                },
                {
                  "FifteenCycleMovAvg": 2.0089656062446024,
                  "_c0": "1057",
                  "unit": "rw3"
                },
                {
                  "FifteenCycleMovAvg": 2.008964396023631,
                  "_c0": "1058",
                  "unit": "rw3"
                },
                {
                  "FifteenCycleMovAvg": 2.0089697273716145,
                  "_c0": "1059",
                  "unit": "rw3"
                },
                {
                  "FifteenCycleMovAvg": 2.0089771647354433,
                  "_c0": "106",
                  "unit": "rw3"
                },
                {
                  "FifteenCycleMovAvg": 2.0089816360328636,
                  "_c0": "1060",
                  "unit": "rw3"
                },
                {
                  "FifteenCycleMovAvg": 2.008986322767215,
                  "_c0": "1061",
                  "unit": "rw3"
                },
                {
                  "FifteenCycleMovAvg": 2.008980609660234,
                  "_c0": "1062",
                  "unit": "rw3"
                },
                {
                  "FifteenCycleMovAvg": 2.008976485850123,
                  "_c0": "1063",
                  "unit": "rw3"
                },
                {
                  "FifteenCycleMovAvg": 2.0089715235518284,
                  "_c0": "1064",
                  "unit": "rw3"
                },
                {
                  "FifteenCycleMovAvg": 2.0089731092615186,
                  "_c0": "1065",
                  "unit": "rw3"
                },
                {
                  "FifteenCycleMovAvg": 2.0089767920433057,
                  "_c0": "1066",
                  "unit": "rw3"
                },
                {
                  "FifteenCycleMovAvg": 2.0089744467168704,
                  "_c0": "1067",
                  "unit": "rw3"
                },
                {
                  "FifteenCycleMovAvg": 2.008988270063793,
                  "_c0": "1068",
                  "unit": "rw3"
                },
                {
                  "FifteenCycleMovAvg": 2.0089892008841037,
                  "_c0": "1069",
                  "unit": "rw3"
                },
                {
                  "FifteenCycleMovAvg": 2.0089893645161645,
                  "_c0": "107",
                  "unit": "rw3"
                },
                {
                  "FifteenCycleMovAvg": 2.0089850051299787,
                  "_c0": "1070",
                  "unit": "rw3"
                },
                {
                  "FifteenCycleMovAvg": 2.0089775489775943,
                  "_c0": "1071",
                  "unit": "rw3"
                },
                {
                  "FifteenCycleMovAvg": 2.008978310236295,
                  "_c0": "1072",
                  "unit": "rw3"
                },
                {
                  "FifteenCycleMovAvg": 2.0089710808462447,
                  "_c0": "1073",
                  "unit": "rw3"
                },
                {
                  "FifteenCycleMovAvg": 2.0089649062321877,
                  "_c0": "1074",
                  "unit": "rw3"
                },
                {
                  "FifteenCycleMovAvg": 2.008968359768614,
                  "_c0": "1075",
                  "unit": "rw3"
                },
                {
                  "FifteenCycleMovAvg": 2.0089669364448626,
                  "_c0": "1076",
                  "unit": "rw3"
                },
                {
                  "FifteenCycleMovAvg": 2.0089665290954257,
                  "_c0": "1077",
                  "unit": "rw3"
                },
                {
                  "FifteenCycleMovAvg": 2.0089656668233333,
                  "_c0": "1078",
                  "unit": "rw3"
                },
                {
                  "FifteenCycleMovAvg": 2.008965159259233,
                  "_c0": "1079",
                  "unit": "rw3"
                },
                {
                  "FifteenCycleMovAvg": 2.008975664480966,
                  "_c0": "108",
                  "unit": "rw3"
                },
                {
                  "FifteenCycleMovAvg": 2.008975767300274,
                  "_c0": "1080",
                  "unit": "rw3"
                },
                {
                  "FifteenCycleMovAvg": 2.0089783343986682,
                  "_c0": "1081",
                  "unit": "rw3"
                },
                {
                  "FifteenCycleMovAvg": 2.0089735123982515,
                  "_c0": "1082",
                  "unit": "rw3"
                },
                {
                  "FifteenCycleMovAvg": 2.0089737545342476,
                  "_c0": "1083",
                  "unit": "rw3"
                },
                {
                  "FifteenCycleMovAvg": 2.0089779406501673,
                  "_c0": "1084",
                  "unit": "rw3"
                },
                {
                  "FifteenCycleMovAvg": 2.0089739963057256,
                  "_c0": "1085",
                  "unit": "rw3"
                },
                {
                  "FifteenCycleMovAvg": 2.008977021041984,
                  "_c0": "1086",
                  "unit": "rw3"
                },
                {
                  "FifteenCycleMovAvg": 2.008978940296122,
                  "_c0": "1087",
                  "unit": "rw3"
                },
                {
                  "FifteenCycleMovAvg": 2.0089752752187238,
                  "_c0": "1088",
                  "unit": "rw3"
                },
                {
                  "FifteenCycleMovAvg": 2.0089749703067197,
                  "_c0": "1089",
                  "unit": "rw3"
                },
                {
                  "FifteenCycleMovAvg": 2.0089842810711445,
                  "_c0": "109",
                  "unit": "rw3"
                },
                {
                  "FifteenCycleMovAvg": 2.008985249278692,
                  "_c0": "1090",
                  "unit": "rw3"
                },
                {
                  "FifteenCycleMovAvg": 2.0089765595484814,
                  "_c0": "1091",
                  "unit": "rw3"
                },
                {
                  "FifteenCycleMovAvg": 2.0089801276483987,
                  "_c0": "1092",
                  "unit": "rw3"
                },
                {
                  "FifteenCycleMovAvg": 2.0089815375028586,
                  "_c0": "1093",
                  "unit": "rw3"
                },
                {
                  "FifteenCycleMovAvg": 2.008982282972518,
                  "_c0": "1094",
                  "unit": "rw3"
                },
                {
                  "FifteenCycleMovAvg": 2.0089863130875028,
                  "_c0": "1095",
                  "unit": "rw3"
                },
                {
                  "FifteenCycleMovAvg": 2.008982966953727,
                  "_c0": "1096",
                  "unit": "rw3"
                },
                {
                  "FifteenCycleMovAvg": 2.008972562422591,
                  "_c0": "1097",
                  "unit": "rw3"
                },
                {
                  "FifteenCycleMovAvg": 2.00895979718097,
                  "_c0": "1098",
                  "unit": "rw3"
                },
                {
                  "FifteenCycleMovAvg": 2.008947097909469,
                  "_c0": "1099",
                  "unit": "rw3"
                },
                {
                  "FifteenCycleMovAvg": 2.008957181924195,
                  "_c0": "11",
                  "unit": "rw3"
                },
                {
                  "FifteenCycleMovAvg": 2.008965432383405,
                  "_c0": "110",
                  "unit": "rw3"
                },
                {
                  "FifteenCycleMovAvg": 2.008969691405151,
                  "_c0": "1100",
                  "unit": "rw3"
                },
                {
                  "FifteenCycleMovAvg": 2.0089633453553324,
                  "_c0": "1101",
                  "unit": "rw3"
                },
                {
                  "FifteenCycleMovAvg": 2.008968902157311,
                  "_c0": "1102",
                  "unit": "rw3"
                },
                {
                  "FifteenCycleMovAvg": 2.008972278740009,
                  "_c0": "1103",
                  "unit": "rw3"
                },
                {
                  "FifteenCycleMovAvg": 2.0089699651486197,
                  "_c0": "1104",
                  "unit": "rw3"
                },
                {
                  "FifteenCycleMovAvg": 2.0089663217526597,
                  "_c0": "1105",
                  "unit": "rw3"
                },
                {
                  "FifteenCycleMovAvg": 2.008953435917627,
                  "_c0": "1106",
                  "unit": "rw3"
                },
                {
                  "FifteenCycleMovAvg": 2.0089634132986935,
                  "_c0": "1107",
                  "unit": "rw3"
                },
                {
                  "FifteenCycleMovAvg": 2.008979253487516,
                  "_c0": "1108",
                  "unit": "rw3"
                },
                {
                  "FifteenCycleMovAvg": 2.008994416078085,
                  "_c0": "1109",
                  "unit": "rw3"
                },
                {
                  "FifteenCycleMovAvg": 2.0089953080374237,
                  "_c0": "111",
                  "unit": "rw3"
                },
                {
                  "FifteenCycleMovAvg": 2.008998537141434,
                  "_c0": "1110",
                  "unit": "rw3"
                },
                {
                  "FifteenCycleMovAvg": 2.00899138406894,
                  "_c0": "1111",
                  "unit": "rw3"
                },
                {
                  "FifteenCycleMovAvg": 2.008989073764315,
                  "_c0": "1112",
                  "unit": "rw3"
                },
                {
                  "FifteenCycleMovAvg": 2.0089906493096406,
                  "_c0": "1113",
                  "unit": "rw3"
                },
                {
                  "FifteenCycleMovAvg": 2.0090018201711444,
                  "_c0": "1114",
                  "unit": "rw3"
                },
                {
                  "FifteenCycleMovAvg": 2.008999172593831,
                  "_c0": "1115",
                  "unit": "rw3"
                },
                {
                  "FifteenCycleMovAvg": 2.0090080524702327,
                  "_c0": "1116",
                  "unit": "rw3"
                },
                {
                  "FifteenCycleMovAvg": 2.0090020619196394,
                  "_c0": "1117",
                  "unit": "rw3"
                },
                {
                  "FifteenCycleMovAvg": 2.0089969396687155,
                  "_c0": "1118",
                  "unit": "rw3"
                },
                {
                  "FifteenCycleMovAvg": 2.008999380626009,
                  "_c0": "1119",
                  "unit": "rw3"
                },
                {
                  "FifteenCycleMovAvg": 2.0089903848623725,
                  "_c0": "112",
                  "unit": "rw3"
                },
                {
                  "FifteenCycleMovAvg": 2.0089882630977858,
                  "_c0": "1120",
                  "unit": "rw3"
                },
                {
                  "FifteenCycleMovAvg": 2.008988476801599,
                  "_c0": "1121",
                  "unit": "rw3"
                },
                {
                  "FifteenCycleMovAvg": 2.0089961764425635,
                  "_c0": "1122",
                  "unit": "rw3"
                },
                {
                  "FifteenCycleMovAvg": 2.0089967071393438,
                  "_c0": "1123",
                  "unit": "rw3"
                },
                {
                  "FifteenCycleMovAvg": 2.0089859480397383,
                  "_c0": "1124",
                  "unit": "rw3"
                },
                {
                  "FifteenCycleMovAvg": 2.008980622973313,
                  "_c0": "1125",
                  "unit": "rw3"
                },
                {
                  "FifteenCycleMovAvg": 2.008987040787413,
                  "_c0": "1126",
                  "unit": "rw3"
                },
                {
                  "FifteenCycleMovAvg": 2.008986025815451,
                  "_c0": "1127",
                  "unit": "rw3"
                },
                {
                  "FifteenCycleMovAvg": 2.008978968757838,
                  "_c0": "1128",
                  "unit": "rw3"
                },
                {
                  "FifteenCycleMovAvg": 2.0089794107385206,
                  "_c0": "1129",
                  "unit": "rw3"
                },
                {
                  "FifteenCycleMovAvg": 2.0089860793113825,
                  "_c0": "113",
                  "unit": "rw3"
                },
                {
                  "FifteenCycleMovAvg": 2.0089812508382447,
                  "_c0": "1130",
                  "unit": "rw3"
                },
                {
                  "FifteenCycleMovAvg": 2.008982905132483,
                  "_c0": "1131",
                  "unit": "rw3"
                },
                {
                  "FifteenCycleMovAvg": 2.008980769521821,
                  "_c0": "1132",
                  "unit": "rw3"
                },
                {
                  "FifteenCycleMovAvg": 2.00897235420161,
                  "_c0": "1133",
                  "unit": "rw3"
                },
                {
                  "FifteenCycleMovAvg": 2.008977056469584,
                  "_c0": "1134",
                  "unit": "rw3"
                },
                {
                  "FifteenCycleMovAvg": 2.0089687799933222,
                  "_c0": "1135",
                  "unit": "rw3"
                },
                {
                  "FifteenCycleMovAvg": 2.0089553971714347,
                  "_c0": "1136",
                  "unit": "rw3"
                },
                {
                  "FifteenCycleMovAvg": 2.008956594765246,
                  "_c0": "1137",
                  "unit": "rw3"
                },
                {
                  "FifteenCycleMovAvg": 2.0089662446557295,
                  "_c0": "1138",
                  "unit": "rw3"
                },
                {
                  "FifteenCycleMovAvg": 2.0089556988988964,
                  "_c0": "1139",
                  "unit": "rw3"
                },
                {
                  "FifteenCycleMovAvg": 2.0089690762551706,
                  "_c0": "114",
                  "unit": "rw3"
                },
                {
                  "FifteenCycleMovAvg": 2.0089595760662955,
                  "_c0": "1140",
                  "unit": "rw3"
                },
                {
                  "FifteenCycleMovAvg": 2.0089664046115785,
                  "_c0": "1141",
                  "unit": "rw3"
                },
                {
                  "FifteenCycleMovAvg": 2.0089627673608463,
                  "_c0": "1142",
                  "unit": "rw3"
                },
                {
                  "FifteenCycleMovAvg": 2.0089599586496973,
                  "_c0": "1143",
                  "unit": "rw3"
                },
                {
                  "FifteenCycleMovAvg": 2.008959302289722,
                  "_c0": "1144",
                  "unit": "rw3"
                },
                {
                  "FifteenCycleMovAvg": 2.0089674553308425,
                  "_c0": "1145",
                  "unit": "rw3"
                },
                {
                  "FifteenCycleMovAvg": 2.0089553000829863,
                  "_c0": "1146",
                  "unit": "rw3"
                },
                {
                  "FifteenCycleMovAvg": 2.008942912968481,
                  "_c0": "1147",
                  "unit": "rw3"
                },
                {
                  "FifteenCycleMovAvg": 2.0089385884681352,
                  "_c0": "1148",
                  "unit": "rw3"
                },
                {
                  "FifteenCycleMovAvg": 2.0089424574629677,
                  "_c0": "1149",
                  "unit": "rw3"
                },
                {
                  "FifteenCycleMovAvg": 2.008966429143762,
                  "_c0": "115",
                  "unit": "rw3"
                },
                {
                  "FifteenCycleMovAvg": 2.0089506049158214,
                  "_c0": "1150",
                  "unit": "rw3"
                },
                {
                  "FifteenCycleMovAvg": 2.0089465640991424,
                  "_c0": "1151",
                  "unit": "rw3"
                },
                {
                  "FifteenCycleMovAvg": 2.0089441755945683,
                  "_c0": "1152",
                  "unit": "rw3"
                },
                {
                  "FifteenCycleMovAvg": 2.0089445371230004,
                  "_c0": "1153",
                  "unit": "rw3"
                },
                {
                  "FifteenCycleMovAvg": 2.008951397602817,
                  "_c0": "1154",
                  "unit": "rw3"
                },
                {
                  "FifteenCycleMovAvg": 2.0089475527310885,
                  "_c0": "1155",
                  "unit": "rw3"
                },
                {
                  "FifteenCycleMovAvg": 2.008945275114741,
                  "_c0": "1156",
                  "unit": "rw3"
                },
                {
                  "FifteenCycleMovAvg": 2.0089442674556652,
                  "_c0": "1157",
                  "unit": "rw3"
                },
                {
                  "FifteenCycleMovAvg": 2.00893462062023,
                  "_c0": "1158",
                  "unit": "rw3"
                },
                {
                  "FifteenCycleMovAvg": 2.0089304056946284,
                  "_c0": "1159",
                  "unit": "rw3"
                },
                {
                  "FifteenCycleMovAvg": 2.0089272102785714,
                  "_c0": "116",
                  "unit": "rw3"
                },
                {
                  "FifteenCycleMovAvg": 2.0089280581904503,
                  "_c0": "1160",
                  "unit": "rw3"
                },
                {
                  "FifteenCycleMovAvg": 2.008922763680982,
                  "_c0": "1161",
                  "unit": "rw3"
                },
                {
                  "FifteenCycleMovAvg": 2.0089122287031307,
                  "_c0": "1162",
                  "unit": "rw3"
                },
                {
                  "FifteenCycleMovAvg": 2.008905874874761,
                  "_c0": "1163",
                  "unit": "rw3"
                },
                {
                  "FifteenCycleMovAvg": 2.0089010064265684,
                  "_c0": "1164",
                  "unit": "rw3"
                },
                {
                  "FifteenCycleMovAvg": 2.008905985765095,
                  "_c0": "1165",
                  "unit": "rw3"
                },
                {
                  "FifteenCycleMovAvg": 2.008892461153242,
                  "_c0": "1166",
                  "unit": "rw3"
                },
                {
                  "FifteenCycleMovAvg": 2.0088816689816733,
                  "_c0": "1167",
                  "unit": "rw3"
                },
                {
                  "FifteenCycleMovAvg": 2.0088712625519523,
                  "_c0": "1168",
                  "unit": "rw3"
                },
                {
                  "FifteenCycleMovAvg": 2.008873458469119,
                  "_c0": "1169",
                  "unit": "rw3"
                },
                {
                  "FifteenCycleMovAvg": 2.0088664799785416,
                  "_c0": "117",
                  "unit": "rw3"
                },
                {
                  "FifteenCycleMovAvg": 2.0088517404999386,
                  "_c0": "1170",
                  "unit": "rw3"
                },
                {
                  "FifteenCycleMovAvg": 2.008836594115254,
                  "_c0": "1171",
                  "unit": "rw3"
                },
                {
                  "FifteenCycleMovAvg": 2.0088341482715912,
                  "_c0": "1172",
                  "unit": "rw3"
                },
                {
                  "FifteenCycleMovAvg": 2.008828840836486,
                  "_c0": "1173",
                  "unit": "rw3"
                },
                {
                  "FifteenCycleMovAvg": 2.0088248677355796,
                  "_c0": "1174",
                  "unit": "rw3"
                },
                {
                  "FifteenCycleMovAvg": 2.008805101221035,
                  "_c0": "1175",
                  "unit": "rw3"
                },
                {
                  "FifteenCycleMovAvg": 2.008808570559792,
                  "_c0": "1176",
                  "unit": "rw3"
                },
                {
                  "FifteenCycleMovAvg": 2.0087950524761404,
                  "_c0": "1177",
                  "unit": "rw3"
                },
                {
                  "FifteenCycleMovAvg": 2.008801018177043,
                  "_c0": "1178",
                  "unit": "rw3"
                },
                {
                  "FifteenCycleMovAvg": 2.008801653331089,
                  "_c0": "1179",
                  "unit": "rw3"
                },
                {
                  "FifteenCycleMovAvg": 2.0087933635202275,
                  "_c0": "118",
                  "unit": "rw3"
                },
                {
                  "FifteenCycleMovAvg": 2.008804141970999,
                  "_c0": "1180",
                  "unit": "rw3"
                },
                {
                  "FifteenCycleMovAvg": 2.0088057307753115,
                  "_c0": "1181",
                  "unit": "rw3"
                },
                {
                  "FifteenCycleMovAvg": 2.0088084596725344,
                  "_c0": "1182",
                  "unit": "rw3"
                },
                {
                  "FifteenCycleMovAvg": 2.008808741412867,
                  "_c0": "1183",
                  "unit": "rw3"
                },
                {
                  "FifteenCycleMovAvg": 2.0088163942175945,
                  "_c0": "1184",
                  "unit": "rw3"
                },
                {
                  "FifteenCycleMovAvg": 2.0088084427626445,
                  "_c0": "1185",
                  "unit": "rw3"
                },
                {
                  "FifteenCycleMovAvg": 2.008798764906391,
                  "_c0": "1186",
                  "unit": "rw3"
                },
                {
                  "FifteenCycleMovAvg": 2.0087900366303657,
                  "_c0": "1187",
                  "unit": "rw3"
                },
                {
                  "FifteenCycleMovAvg": 2.008786670346533,
                  "_c0": "1188",
                  "unit": "rw3"
                },
                {
                  "FifteenCycleMovAvg": 2.00878855161949,
                  "_c0": "1189",
                  "unit": "rw3"
                },
                {
                  "FifteenCycleMovAvg": 2.008779123340281,
                  "_c0": "119",
                  "unit": "rw3"
                },
                {
                  "FifteenCycleMovAvg": 2.008772469577133,
                  "_c0": "1190",
                  "unit": "rw3"
                },
                {
                  "FifteenCycleMovAvg": 2.008764519296272,
                  "_c0": "1191",
                  "unit": "rw3"
                },
                {
                  "FifteenCycleMovAvg": 2.0087579303210865,
                  "_c0": "1192",
                  "unit": "rw3"
                },
                {
                  "FifteenCycleMovAvg": 2.008750170770034,
                  "_c0": "1193",
                  "unit": "rw3"
                },
                {
                  "FifteenCycleMovAvg": 2.0087498749972585,
                  "_c0": "1194",
                  "unit": "rw3"
                },
                {
                  "FifteenCycleMovAvg": 2.0087423973277825,
                  "_c0": "1195",
                  "unit": "rw3"
                },
                {
                  "FifteenCycleMovAvg": 2.008734837057296,
                  "_c0": "1196",
                  "unit": "rw3"
                },
                {
                  "FifteenCycleMovAvg": 2.008734902780358,
                  "_c0": "1197",
                  "unit": "rw3"
                },
                {
                  "FifteenCycleMovAvg": 2.008730825274892,
                  "_c0": "1198",
                  "unit": "rw3"
                },
                {
                  "FifteenCycleMovAvg": 2.008732019419388,
                  "_c0": "1199",
                  "unit": "rw3"
                },
                {
                  "FifteenCycleMovAvg": 2.0087372726952775,
                  "_c0": "12",
                  "unit": "rw3"
                },
                {
                  "FifteenCycleMovAvg": 2.0087401434455043,
                  "_c0": "120",
                  "unit": "rw3"
                },
                {
                  "FifteenCycleMovAvg": 2.0087369323219395,
                  "_c0": "1200",
                  "unit": "rw3"
                },
                {
                  "FifteenCycleMovAvg": 2.008733399690652,
                  "_c0": "1201",
                  "unit": "rw3"
                },
                {
                  "FifteenCycleMovAvg": 2.0087415064571115,
                  "_c0": "1202",
                  "unit": "rw3"
                },
                {
                  "FifteenCycleMovAvg": 2.0087407910931026,
                  "_c0": "1203",
                  "unit": "rw3"
                },
                {
                  "FifteenCycleMovAvg": 2.008731821307656,
                  "_c0": "1204",
                  "unit": "rw3"
                },
                {
                  "FifteenCycleMovAvg": 2.0087156621744775,
                  "_c0": "1205",
                  "unit": "rw3"
                },
                {
                  "FifteenCycleMovAvg": 2.0087121264711585,
                  "_c0": "1206",
                  "unit": "rw3"
                },
                {
                  "FifteenCycleMovAvg": 2.0087086854648852,
                  "_c0": "1207",
                  "unit": "rw3"
                },
                {
                  "FifteenCycleMovAvg": 2.0086935337187053,
                  "_c0": "1208",
                  "unit": "rw3"
                },
                {
                  "FifteenCycleMovAvg": 2.0086999980056515,
                  "_c0": "1209",
                  "unit": "rw3"
                },
                {
                  "FifteenCycleMovAvg": 2.0087030657208906,
                  "_c0": "121",
                  "unit": "rw3"
                },
                {
                  "FifteenCycleMovAvg": 2.008709816817384,
                  "_c0": "1210",
                  "unit": "rw3"
                },
                {
                  "FifteenCycleMovAvg": 2.008694626739652,
                  "_c0": "1211",
                  "unit": "rw3"
                },
                {
                  "FifteenCycleMovAvg": 2.0086994270143173,
                  "_c0": "1212",
                  "unit": "rw3"
                },
                {
                  "FifteenCycleMovAvg": 2.008686442278015,
                  "_c0": "1213",
                  "unit": "rw3"
                },
                {
                  "FifteenCycleMovAvg": 2.008673978365744,
                  "_c0": "1214",
                  "unit": "rw3"
                },
                {
                  "FifteenCycleMovAvg": 2.008673770464673,
                  "_c0": "1215",
                  "unit": "rw3"
                },
                {
                  "FifteenCycleMovAvg": 2.0086747994490035,
                  "_c0": "1216",
                  "unit": "rw3"
                },
                {
                  "FifteenCycleMovAvg": 2.008671138970281,
                  "_c0": "1217",
                  "unit": "rw3"
                },
                {
                  "FifteenCycleMovAvg": 2.008675938988925,
                  "_c0": "1218",
                  "unit": "rw3"
                },
                {
                  "FifteenCycleMovAvg": 2.0086794820603635,
                  "_c0": "1219",
                  "unit": "rw3"
                },
                {
                  "FifteenCycleMovAvg": 2.008675456746097,
                  "_c0": "122",
                  "unit": "rw3"
                },
                {
                  "FifteenCycleMovAvg": 2.00866950043464,
                  "_c0": "1220",
                  "unit": "rw3"
                },
                {
                  "FifteenCycleMovAvg": 2.0086704657777084,
                  "_c0": "1221",
                  "unit": "rw3"
                },
                {
                  "FifteenCycleMovAvg": 2.008657063869014,
                  "_c0": "1222",
                  "unit": "rw3"
                },
                {
                  "FifteenCycleMovAvg": 2.0086550359202557,
                  "_c0": "1223",
                  "unit": "rw3"
                },
                {
                  "FifteenCycleMovAvg": 2.0086558088660382,
                  "_c0": "1224",
                  "unit": "rw3"
                },
                {
                  "FifteenCycleMovAvg": 2.0086436857311014,
                  "_c0": "1225",
                  "unit": "rw3"
                },
                {
                  "FifteenCycleMovAvg": 2.008635511965774,
                  "_c0": "1226",
                  "unit": "rw3"
                },
                {
                  "FifteenCycleMovAvg": 2.008632224771353,
                  "_c0": "1227",
                  "unit": "rw3"
                },
                {
                  "FifteenCycleMovAvg": 2.008640993482799,
                  "_c0": "1228",
                  "unit": "rw3"
                },
                {
                  "FifteenCycleMovAvg": 2.0086408104122895,
                  "_c0": "1229",
                  "unit": "rw3"
                },
                {
                  "FifteenCycleMovAvg": 2.0086348569662054,
                  "_c0": "123",
                  "unit": "rw3"
                },
                {
                  "FifteenCycleMovAvg": 2.008626286984865,
                  "_c0": "1230",
                  "unit": "rw3"
                },
                {
                  "FifteenCycleMovAvg": 2.0086319405587507,
                  "_c0": "1231",
                  "unit": "rw3"
                },
                {
                  "FifteenCycleMovAvg": 2.0086225174429155,
                  "_c0": "1232",
                  "unit": "rw3"
                },
                {
                  "FifteenCycleMovAvg": 2.008634609212733,
                  "_c0": "1233",
                  "unit": "rw3"
                },
                {
                  "FifteenCycleMovAvg": 2.0086266704088964,
                  "_c0": "1234",
                  "unit": "rw3"
                },
                {
                  "FifteenCycleMovAvg": 2.008624540931663,
                  "_c0": "1235",
                  "unit": "rw3"
                },
                {
                  "FifteenCycleMovAvg": 2.008619348161835,
                  "_c0": "1236",
                  "unit": "rw3"
                },
                {
                  "FifteenCycleMovAvg": 2.0086167744800765,
                  "_c0": "1237",
                  "unit": "rw3"
                },
                {
                  "FifteenCycleMovAvg": 2.008615140789802,
                  "_c0": "1238",
                  "unit": "rw3"
                },
                {
                  "FifteenCycleMovAvg": 2.0086035438927423,
                  "_c0": "1239",
                  "unit": "rw3"
                },
                {
                  "FifteenCycleMovAvg": 2.00860468868315,
                  "_c0": "124",
                  "unit": "rw3"
                },
                {
                  "FifteenCycleMovAvg": 2.008592851586314,
                  "_c0": "1240",
                  "unit": "rw3"
                },
                {
                  "FifteenCycleMovAvg": 2.008580230410949,
                  "_c0": "1241",
                  "unit": "rw3"
                },
                {
                  "FifteenCycleMovAvg": 2.0085657792789853,
                  "_c0": "1242",
                  "unit": "rw3"
                },
                {
                  "FifteenCycleMovAvg": 2.0085723188649762,
                  "_c0": "1243",
                  "unit": "rw3"
                },
                {
                  "FifteenCycleMovAvg": 2.0085649377585413,
                  "_c0": "1244",
                  "unit": "rw3"
                },
                {
                  "FifteenCycleMovAvg": 2.008571462715185,
                  "_c0": "1245",
                  "unit": "rw3"
                },
                {
                  "FifteenCycleMovAvg": 2.0085654677789826,
                  "_c0": "1246",
                  "unit": "rw3"
                },
                {
                  "FifteenCycleMovAvg": 2.0085598384307253,
                  "_c0": "1247",
                  "unit": "rw3"
                },
                {
                  "FifteenCycleMovAvg": 2.008547377466536,
                  "_c0": "1248",
                  "unit": "rw3"
                },
                {
                  "FifteenCycleMovAvg": 2.0085293790457257,
                  "_c0": "1249",
                  "unit": "rw3"
                },
                {
                  "FifteenCycleMovAvg": 2.008517853799429,
                  "_c0": "125",
                  "unit": "rw3"
                },
                {
                  "FifteenCycleMovAvg": 2.008518098346456,
                  "_c0": "1250",
                  "unit": "rw3"
                },
                {
                  "FifteenCycleMovAvg": 2.0085168314691537,
                  "_c0": "1251",
                  "unit": "rw3"
                },
                {
                  "FifteenCycleMovAvg": 2.008522666468036,
                  "_c0": "1252",
                  "unit": "rw3"
                },
                {
                  "FifteenCycleMovAvg": 2.008515249296414,
                  "_c0": "1253",
                  "unit": "rw3"
                },
                {
                  "FifteenCycleMovAvg": 2.008523452624865,
                  "_c0": "1254",
                  "unit": "rw3"
                },
                {
                  "FifteenCycleMovAvg": 2.0085302486621623,
                  "_c0": "1255",
                  "unit": "rw3"
                },
                {
                  "FifteenCycleMovAvg": 2.008524183630101,
                  "_c0": "1256",
                  "unit": "rw3"
                },
                {
                  "FifteenCycleMovAvg": 2.00853013226269,
                  "_c0": "1257",
                  "unit": "rw3"
                },
                {
                  "FifteenCycleMovAvg": 2.008524081798908,
                  "_c0": "1258",
                  "unit": "rw3"
                },
                {
                  "FifteenCycleMovAvg": 2.0085159925221596,
                  "_c0": "1259",
                  "unit": "rw3"
                },
                {
                  "FifteenCycleMovAvg": 2.0085214751936595,
                  "_c0": "126",
                  "unit": "rw3"
                },
                {
                  "FifteenCycleMovAvg": 2.0085065123418917,
                  "_c0": "1260",
                  "unit": "rw3"
                },
                {
                  "FifteenCycleMovAvg": 2.0084998656173476,
                  "_c0": "1261",
                  "unit": "rw3"
                },
                {
                  "FifteenCycleMovAvg": 2.0084854261583893,
                  "_c0": "1262",
                  "unit": "rw3"
                },
                {
                  "FifteenCycleMovAvg": 2.0084801453172934,
                  "_c0": "1263",
                  "unit": "rw3"
                },
                {
                  "FifteenCycleMovAvg": 2.008473815633628,
                  "_c0": "1264",
                  "unit": "rw3"
                },
                {
                  "FifteenCycleMovAvg": 2.0084646201029135,
                  "_c0": "1265",
                  "unit": "rw3"
                },
                {
                  "FifteenCycleMovAvg": 2.00846500027835,
                  "_c0": "1266",
                  "unit": "rw3"
                },
                {
                  "FifteenCycleMovAvg": 2.008451316823925,
                  "_c0": "1267",
                  "unit": "rw3"
                },
                {
                  "FifteenCycleMovAvg": 2.0084439336649185,
                  "_c0": "1268",
                  "unit": "rw3"
                },
                {
                  "FifteenCycleMovAvg": 2.008448056134348,
                  "_c0": "1269",
                  "unit": "rw3"
                },
                {
                  "FifteenCycleMovAvg": 2.008455709503179,
                  "_c0": "127",
                  "unit": "rw3"
                },
                {
                  "FifteenCycleMovAvg": 2.0084395750338024,
                  "_c0": "1270",
                  "unit": "rw3"
                },
                {
                  "FifteenCycleMovAvg": 2.008438064910774,
                  "_c0": "1271",
                  "unit": "rw3"
                },
                {
                  "FifteenCycleMovAvg": 2.008441234453442,
                  "_c0": "1272",
                  "unit": "rw3"
                },
                {
                  "FifteenCycleMovAvg": 2.008438557363782,
                  "_c0": "1273",
                  "unit": "rw3"
                },
                {
                  "FifteenCycleMovAvg": 2.008434646105171,
                  "_c0": "1274",
                  "unit": "rw3"
                },
                {
                  "FifteenCycleMovAvg": 2.0084315235680394,
                  "_c0": "1275",
                  "unit": "rw3"
                },
                {
                  "FifteenCycleMovAvg": 2.0084338593130355,
                  "_c0": "1276",
                  "unit": "rw3"
                },
                {
                  "FifteenCycleMovAvg": 2.008433578574558,
                  "_c0": "1277",
                  "unit": "rw3"
                },
                {
                  "FifteenCycleMovAvg": 2.008444454680756,
                  "_c0": "1278",
                  "unit": "rw3"
                },
                {
                  "FifteenCycleMovAvg": 2.0084395608825214,
                  "_c0": "1279",
                  "unit": "rw3"
                },
                {
                  "FifteenCycleMovAvg": 2.0084495651833842,
                  "_c0": "128",
                  "unit": "rw3"
                },
                {
                  "FifteenCycleMovAvg": 2.00843795632649,
                  "_c0": "1280",
                  "unit": "rw3"
                },
                {
                  "FifteenCycleMovAvg": 2.008432596778364,
                  "_c0": "1281",
                  "unit": "rw3"
                },
                {
                  "FifteenCycleMovAvg": 2.0084249975788446,
                  "_c0": "1282",
                  "unit": "rw3"
                },
                {
                  "FifteenCycleMovAvg": 2.0084190772777757,
                  "_c0": "1283",
                  "unit": "rw3"
                },
                {
                  "FifteenCycleMovAvg": 2.0084086124950136,
                  "_c0": "1284",
                  "unit": "rw3"
                },
                {
                  "FifteenCycleMovAvg": 2.0084013514811367,
                  "_c0": "1285",
                  "unit": "rw3"
                },
                {
                  "FifteenCycleMovAvg": 2.0084080743683668,
                  "_c0": "1286",
                  "unit": "rw3"
                },
                {
                  "FifteenCycleMovAvg": 2.0083915402052606,
                  "_c0": "1287",
                  "unit": "rw3"
                },
                {
                  "FifteenCycleMovAvg": 2.008393328293644,
                  "_c0": "1288",
                  "unit": "rw3"
                },
                {
                  "FifteenCycleMovAvg": 2.008390956147835,
                  "_c0": "1289",
                  "unit": "rw3"
                },
                {
                  "FifteenCycleMovAvg": 2.0083884771258074,
                  "_c0": "129",
                  "unit": "rw3"
                },
                {
                  "FifteenCycleMovAvg": 2.0083702548438076,
                  "_c0": "1290",
                  "unit": "rw3"
                },
                {
                  "FifteenCycleMovAvg": 2.008373880693329,
                  "_c0": "1291",
                  "unit": "rw3"
                },
                {
                  "FifteenCycleMovAvg": 2.0083632043261153,
                  "_c0": "1292",
                  "unit": "rw3"
                },
                {
                  "FifteenCycleMovAvg": 2.0083688299567397,
                  "_c0": "1293",
                  "unit": "rw3"
                },
                {
                  "FifteenCycleMovAvg": 2.0083607481120533,
                  "_c0": "1294",
                  "unit": "rw3"
                },
                {
                  "FifteenCycleMovAvg": 2.0083479272258242,
                  "_c0": "1295",
                  "unit": "rw3"
                },
                {
                  "FifteenCycleMovAvg": 2.0083340816416535,
                  "_c0": "1296",
                  "unit": "rw3"
                },
                {
                  "FifteenCycleMovAvg": 2.008327432814474,
                  "_c0": "1297",
                  "unit": "rw3"
                },
                {
                  "FifteenCycleMovAvg": 2.0083255492718535,
                  "_c0": "1298",
                  "unit": "rw3"
                },
                {
                  "FifteenCycleMovAvg": 2.008322063618837,
                  "_c0": "1299",
                  "unit": "rw3"
                },
                {
                  "FifteenCycleMovAvg": 2.008323898966667,
                  "_c0": "13",
                  "unit": "rw3"
                },
                {
                  "FifteenCycleMovAvg": 2.0083173835935177,
                  "_c0": "130",
                  "unit": "rw3"
                },
                {
                  "FifteenCycleMovAvg": 2.008323659375512,
                  "_c0": "1300",
                  "unit": "rw3"
                },
                {
                  "FifteenCycleMovAvg": 2.008320585130906,
                  "_c0": "1301",
                  "unit": "rw3"
                },
                {
                  "FifteenCycleMovAvg": 2.00831849602859,
                  "_c0": "1302",
                  "unit": "rw3"
                },
                {
                  "FifteenCycleMovAvg": 2.0083041074150754,
                  "_c0": "1303",
                  "unit": "rw3"
                },
                {
                  "FifteenCycleMovAvg": 2.0082982437075687,
                  "_c0": "1304",
                  "unit": "rw3"
                },
                {
                  "FifteenCycleMovAvg": 2.008300592100795,
                  "_c0": "1305",
                  "unit": "rw3"
                },
                {
                  "FifteenCycleMovAvg": 2.008293447412715,
                  "_c0": "1306",
                  "unit": "rw3"
                },
                {
                  "FifteenCycleMovAvg": 2.0082830514116385,
                  "_c0": "1307",
                  "unit": "rw3"
                },
                {
                  "FifteenCycleMovAvg": 2.0082748528793806,
                  "_c0": "1308",
                  "unit": "rw3"
                },
                {
                  "FifteenCycleMovAvg": 2.0082774678660633,
                  "_c0": "1309",
                  "unit": "rw3"
                },
                {
                  "FifteenCycleMovAvg": 2.008275489347729,
                  "_c0": "131",
                  "unit": "rw3"
                },
                {
                  "FifteenCycleMovAvg": 2.0082661756748386,
                  "_c0": "1310",
                  "unit": "rw3"
                },
                {
                  "FifteenCycleMovAvg": 2.0082740897569615,
                  "_c0": "1311",
                  "unit": "rw3"
                },
                {
                  "FifteenCycleMovAvg": 2.0082746225065615,
                  "_c0": "1312",
                  "unit": "rw3"
                },
                {
                  "FifteenCycleMovAvg": 2.0082577258479,
                  "_c0": "1313",
                  "unit": "rw3"
                },
                {
                  "FifteenCycleMovAvg": 2.0082498068751637,
                  "_c0": "1314",
                  "unit": "rw3"
                },
                {
                  "FifteenCycleMovAvg": 2.0082437438812635,
                  "_c0": "1315",
                  "unit": "rw3"
                },
                {
                  "FifteenCycleMovAvg": 2.00824178570087,
                  "_c0": "1316",
                  "unit": "rw3"
                },
                {
                  "FifteenCycleMovAvg": 2.008231234817836,
                  "_c0": "1317",
                  "unit": "rw3"
                },
                {
                  "FifteenCycleMovAvg": 2.00822727410372,
                  "_c0": "1318",
                  "unit": "rw3"
                },
                {
                  "FifteenCycleMovAvg": 2.0082215740891907,
                  "_c0": "1319",
                  "unit": "rw3"
                },
                {
                  "FifteenCycleMovAvg": 2.008227511488606,
                  "_c0": "132",
                  "unit": "rw3"
                },
                {
                  "FifteenCycleMovAvg": 2.0082126441681107,
                  "_c0": "1320",
                  "unit": "rw3"
                },
                {
                  "FifteenCycleMovAvg": 2.0082124278805606,
                  "_c0": "1321",
                  "unit": "rw3"
                },
                {
                  "FifteenCycleMovAvg": 2.008206623665144,
                  "_c0": "1322",
                  "unit": "rw3"
                },
                {
                  "FifteenCycleMovAvg": 2.0081929075624134,
                  "_c0": "1323",
                  "unit": "rw3"
                },
                {
                  "FifteenCycleMovAvg": 2.008182738013617,
                  "_c0": "1324",
                  "unit": "rw3"
                },
                {
                  "FifteenCycleMovAvg": 2.0081737558830888,
                  "_c0": "1325",
                  "unit": "rw3"
                },
                {
                  "FifteenCycleMovAvg": 2.0081681261829707,
                  "_c0": "1326",
                  "unit": "rw3"
                },
                {
                  "FifteenCycleMovAvg": 2.0081581231106744,
                  "_c0": "1327",
                  "unit": "rw3"
                },
                {
                  "FifteenCycleMovAvg": 2.008168206751153,
                  "_c0": "1328",
                  "unit": "rw3"
                },
                {
                  "FifteenCycleMovAvg": 2.0081620697527334,
                  "_c0": "1329",
                  "unit": "rw3"
                },
                {
                  "FifteenCycleMovAvg": 2.008165213186528,
                  "_c0": "133",
                  "unit": "rw3"
                },
                {
                  "FifteenCycleMovAvg": 2.0081512739969716,
                  "_c0": "1330",
                  "unit": "rw3"
                },
                {
                  "FifteenCycleMovAvg": 2.0081583788530497,
                  "_c0": "1331",
                  "unit": "rw3"
                },
                {
                  "FifteenCycleMovAvg": 2.008146585685547,
                  "_c0": "1332",
                  "unit": "rw3"
                },
                {
                  "FifteenCycleMovAvg": 2.008150322758096,
                  "_c0": "1333",
                  "unit": "rw3"
                },
                {
                  "FifteenCycleMovAvg": 2.008150791178896,
                  "_c0": "1334",
                  "unit": "rw3"
                },
                {
                  "FifteenCycleMovAvg": 2.008141095367144,
                  "_c0": "1335",
                  "unit": "rw3"
                },
                {
                  "FifteenCycleMovAvg": 2.008142540879825,
                  "_c0": "1336",
                  "unit": "rw3"
                },
                {
                  "FifteenCycleMovAvg": 2.0081241356869013,
                  "_c0": "1337",
                  "unit": "rw3"
                },
                {
                  "FifteenCycleMovAvg": 2.00811344998467,
                  "_c0": "1338",
                  "unit": "rw3"
                },
                {
                  "FifteenCycleMovAvg": 2.0081131100786953,
                  "_c0": "1339",
                  "unit": "rw3"
                },
                {
                  "FifteenCycleMovAvg": 2.008114683418899,
                  "_c0": "134",
                  "unit": "rw3"
                },
                {
                  "FifteenCycleMovAvg": 2.008117041223332,
                  "_c0": "1340",
                  "unit": "rw3"
                },
                {
                  "FifteenCycleMovAvg": 2.0081102111548743,
                  "_c0": "1341",
                  "unit": "rw3"
                },
                {
                  "FifteenCycleMovAvg": 2.008117970565534,
                  "_c0": "1342",
                  "unit": "rw3"
                },
                {
                  "FifteenCycleMovAvg": 2.008126410588366,
                  "_c0": "1343",
                  "unit": "rw3"
                },
                {
                  "FifteenCycleMovAvg": 2.0081201908301933,
                  "_c0": "1344",
                  "unit": "rw3"
                },
                {
                  "FifteenCycleMovAvg": 2.008114443077375,
                  "_c0": "1345",
                  "unit": "rw3"
                },
                {
                  "FifteenCycleMovAvg": 2.008103248712726,
                  "_c0": "1346",
                  "unit": "rw3"
                },
                {
                  "FifteenCycleMovAvg": 2.008111291388368,
                  "_c0": "1347",
                  "unit": "rw3"
                },
                {
                  "FifteenCycleMovAvg": 2.0081135857195576,
                  "_c0": "1348",
                  "unit": "rw3"
                },
                {
                  "FifteenCycleMovAvg": 2.008116169094799,
                  "_c0": "1349",
                  "unit": "rw3"
                },
                {
                  "FifteenCycleMovAvg": 2.008126885020344,
                  "_c0": "135",
                  "unit": "rw3"
                },
                {
                  "FifteenCycleMovAvg": 2.0081267328602954,
                  "_c0": "1350",
                  "unit": "rw3"
                },
                {
                  "FifteenCycleMovAvg": 2.0081256267618603,
                  "_c0": "1351",
                  "unit": "rw3"
                },
                {
                  "FifteenCycleMovAvg": 2.008126063063131,
                  "_c0": "1352",
                  "unit": "rw3"
                },
                {
                  "FifteenCycleMovAvg": 2.00813277925287,
                  "_c0": "1353",
                  "unit": "rw3"
                },
                {
                  "FifteenCycleMovAvg": 2.0081258809204257,
                  "_c0": "1354",
                  "unit": "rw3"
                },
                {
                  "FifteenCycleMovAvg": 2.0081092947006347,
                  "_c0": "1355",
                  "unit": "rw3"
                },
                {
                  "FifteenCycleMovAvg": 2.008112771762664,
                  "_c0": "1356",
                  "unit": "rw3"
                },
                {
                  "FifteenCycleMovAvg": 2.008110436076581,
                  "_c0": "1357",
                  "unit": "rw3"
                },
                {
                  "FifteenCycleMovAvg": 2.0081087780638285,
                  "_c0": "1358",
                  "unit": "rw3"
                },
                {
                  "FifteenCycleMovAvg": 2.008099667866739,
                  "_c0": "1359",
                  "unit": "rw3"
                },
                {
                  "FifteenCycleMovAvg": 2.0081223997045416,
                  "_c0": "136",
                  "unit": "rw3"
                },
                {
                  "FifteenCycleMovAvg": 2.008120056380094,
                  "_c0": "1360",
                  "unit": "rw3"
                },
                {
                  "FifteenCycleMovAvg": 2.0081031288347395,
                  "_c0": "1361",
                  "unit": "rw3"
                },
                {
                  "FifteenCycleMovAvg": 2.0081056184174035,
                  "_c0": "1362",
                  "unit": "rw3"
                },
                {
                  "FifteenCycleMovAvg": 2.0080988559888504,
                  "_c0": "1363",
                  "unit": "rw3"
                },
                {
                  "FifteenCycleMovAvg": 2.0080911286890335,
                  "_c0": "1364",
                  "unit": "rw3"
                },
                {
                  "FifteenCycleMovAvg": 2.008077135982404,
                  "_c0": "1365",
                  "unit": "rw3"
                },
                {
                  "FifteenCycleMovAvg": 2.008069931165523,
                  "_c0": "1366",
                  "unit": "rw3"
                },
                {
                  "FifteenCycleMovAvg": 2.0080722230790573,
                  "_c0": "1367",
                  "unit": "rw3"
                },
                {
                  "FifteenCycleMovAvg": 2.0080753412364705,
                  "_c0": "1368",
                  "unit": "rw3"
                },
                {
                  "FifteenCycleMovAvg": 2.0080777927059335,
                  "_c0": "1369",
                  "unit": "rw3"
                },
                {
                  "FifteenCycleMovAvg": 2.0080763381750923,
                  "_c0": "137",
                  "unit": "rw3"
                },
                {
                  "FifteenCycleMovAvg": 2.0080788201279196,
                  "_c0": "1370",
                  "unit": "rw3"
                },
                {
                  "FifteenCycleMovAvg": 2.008081730429332,
                  "_c0": "1371",
                  "unit": "rw3"
                },
                {
                  "FifteenCycleMovAvg": 2.0080775433733518,
                  "_c0": "1372",
                  "unit": "rw3"
                },
                {
                  "FifteenCycleMovAvg": 2.0080706997928317,
                  "_c0": "1373",
                  "unit": "rw3"
                },
                {
                  "FifteenCycleMovAvg": 2.00806904232599,
                  "_c0": "1374",
                  "unit": "rw3"
                },
                {
                  "FifteenCycleMovAvg": 2.00806993838308,
                  "_c0": "1375",
                  "unit": "rw3"
                },
                {
                  "FifteenCycleMovAvg": 2.0080743028944803,
                  "_c0": "1376",
                  "unit": "rw3"
                },
                {
                  "FifteenCycleMovAvg": 2.0080710674581077,
                  "_c0": "1377",
                  "unit": "rw3"
                },
                {
                  "FifteenCycleMovAvg": 2.0080735465341717,
                  "_c0": "1378",
                  "unit": "rw3"
                },
                {
                  "FifteenCycleMovAvg": 2.00806986078504,
                  "_c0": "1379",
                  "unit": "rw3"
                },
                {
                  "FifteenCycleMovAvg": 2.0080730448028428,
                  "_c0": "138",
                  "unit": "rw3"
                },
                {
                  "FifteenCycleMovAvg": 2.0080672494134246,
                  "_c0": "1380",
                  "unit": "rw3"
                },
                {
                  "FifteenCycleMovAvg": 2.008062344424269,
                  "_c0": "1381",
                  "unit": "rw3"
                },
                {
                  "FifteenCycleMovAvg": 2.0080554662954087,
                  "_c0": "1382",
                  "unit": "rw3"
                },
                {
                  "FifteenCycleMovAvg": 2.008050127141039,
                  "_c0": "1383",
                  "unit": "rw3"
                },
                {
                  "FifteenCycleMovAvg": 2.008047405509087,
                  "_c0": "1384",
                  "unit": "rw3"
                },
                {
                  "FifteenCycleMovAvg": 2.008043892542499,
                  "_c0": "1385",
                  "unit": "rw3"
                },
                {
                  "FifteenCycleMovAvg": 2.0080452253261636,
                  "_c0": "1386",
                  "unit": "rw3"
                },
                {
                  "FifteenCycleMovAvg": 2.0080493188448503,
                  "_c0": "1387",
                  "unit": "rw3"
                },
                {
                  "FifteenCycleMovAvg": 2.0080437303263547,
                  "_c0": "1388",
                  "unit": "rw3"
                },
                {
                  "FifteenCycleMovAvg": 2.008047827782469,
                  "_c0": "1389",
                  "unit": "rw3"
                },
                {
                  "FifteenCycleMovAvg": 2.0080554746763593,
                  "_c0": "139",
                  "unit": "rw3"
                },
                {
                  "FifteenCycleMovAvg": 2.008042505798636,
                  "_c0": "1390",
                  "unit": "rw3"
                },
                {
                  "FifteenCycleMovAvg": 2.008024636192577,
                  "_c0": "1391",
                  "unit": "rw3"
                },
                {
                  "FifteenCycleMovAvg": 2.008004987541474,
                  "_c0": "1392",
                  "unit": "rw3"
                },
                {
                  "FifteenCycleMovAvg": 2.0080164494338715,
                  "_c0": "1393",
                  "unit": "rw3"
                },
                {
                  "FifteenCycleMovAvg": 2.0080018088058265,
                  "_c0": "1394",
                  "unit": "rw3"
                },
                {
                  "FifteenCycleMovAvg": 2.008014469847368,
                  "_c0": "1395",
                  "unit": "rw3"
                },
                {
                  "FifteenCycleMovAvg": 2.0080141676735868,
                  "_c0": "1396",
                  "unit": "rw3"
                },
                {
                  "FifteenCycleMovAvg": 2.0080010047674732,
                  "_c0": "1397",
                  "unit": "rw3"
                },
                {
                  "FifteenCycleMovAvg": 2.0079961868372576,
                  "_c0": "1398",
                  "unit": "rw3"
                },
                {
                  "FifteenCycleMovAvg": 2.0079983052378974,
                  "_c0": "1399",
                  "unit": "rw3"
                },
                {
                  "FifteenCycleMovAvg": 2.0079964192147877,
                  "_c0": "14",
                  "unit": "rw3"
                },
                {
                  "FifteenCycleMovAvg": 2.007996374417134,
                  "_c0": "140",
                  "unit": "rw3"
                },
                {
                  "FifteenCycleMovAvg": 2.007999683806084,
                  "_c0": "1400",
                  "unit": "rw3"
                },
                {
                  "FifteenCycleMovAvg": 2.0079882163758564,
                  "_c0": "1401",
                  "unit": "rw3"
                },
                {
                  "FifteenCycleMovAvg": 2.007983662461402,
                  "_c0": "1402",
                  "unit": "rw3"
                },
                {
                  "FifteenCycleMovAvg": 2.0079839166999087,
                  "_c0": "1403",
                  "unit": "rw3"
                },
                {
                  "FifteenCycleMovAvg": 2.007974050848504,
                  "_c0": "1404",
                  "unit": "rw3"
                },
                {
                  "FifteenCycleMovAvg": 2.007977302062158,
                  "_c0": "1405",
                  "unit": "rw3"
                },
                {
                  "FifteenCycleMovAvg": 2.0079787070448853,
                  "_c0": "1406",
                  "unit": "rw3"
                },
                {
                  "FifteenCycleMovAvg": 2.00797957662412,
                  "_c0": "1407",
                  "unit": "rw3"
                },
                {
                  "FifteenCycleMovAvg": 2.0079675178864558,
                  "_c0": "1408",
                  "unit": "rw3"
                },
                {
                  "FifteenCycleMovAvg": 2.00796390054585,
                  "_c0": "1409",
                  "unit": "rw3"
                },
                {
                  "FifteenCycleMovAvg": 2.0079539765887895,
                  "_c0": "141",
                  "unit": "rw3"
                },
                {
                  "FifteenCycleMovAvg": 2.0079491424448794,
                  "_c0": "1410",
                  "unit": "rw3"
                },
                {
                  "FifteenCycleMovAvg": 2.007951108574322,
                  "_c0": "1411",
                  "unit": "rw3"
                },
                {
                  "FifteenCycleMovAvg": 2.0079471416062065,
                  "_c0": "1412",
                  "unit": "rw3"
                },
                {
                  "FifteenCycleMovAvg": 2.007950509212216,
                  "_c0": "1413",
                  "unit": "rw3"
                },
                {
                  "FifteenCycleMovAvg": 2.0079457606024644,
                  "_c0": "1414",
                  "unit": "rw3"
                },
                {
                  "FifteenCycleMovAvg": 2.0079374665035408,
                  "_c0": "1415",
                  "unit": "rw3"
                },
                {
                  "FifteenCycleMovAvg": 2.0079394963375945,
                  "_c0": "1416",
                  "unit": "rw3"
                },
                {
                  "FifteenCycleMovAvg": 2.00793220938829,
                  "_c0": "1417",
                  "unit": "rw3"
                },
                {
                  "FifteenCycleMovAvg": 2.0079284000217164,
                  "_c0": "1418",
                  "unit": "rw3"
                },
                {
                  "FifteenCycleMovAvg": 2.007922045967644,
                  "_c0": "1419",
                  "unit": "rw3"
                },
                {
                  "FifteenCycleMovAvg": 2.0079356714361576,
                  "_c0": "142",
                  "unit": "rw3"
                },
                {
                  "FifteenCycleMovAvg": 2.0079230828797314,
                  "_c0": "1420",
                  "unit": "rw3"
                },
                {
                  "FifteenCycleMovAvg": 2.007926856962588,
                  "_c0": "1421",
                  "unit": "rw3"
                },
                {
                  "FifteenCycleMovAvg": 2.0079258896915158,
                  "_c0": "1422",
                  "unit": "rw3"
                },
                {
                  "FifteenCycleMovAvg": 2.0079237052207843,
                  "_c0": "1423",
                  "unit": "rw3"
                },
                {
                  "FifteenCycleMovAvg": 2.0079127697096113,
                  "_c0": "1424",
                  "unit": "rw3"
                },
                {
                  "FifteenCycleMovAvg": 2.0079090775215858,
                  "_c0": "1425",
                  "unit": "rw3"
                },
                {
                  "FifteenCycleMovAvg": 2.0079070848023925,
                  "_c0": "1426",
                  "unit": "rw3"
                },
                {
                  "FifteenCycleMovAvg": 2.0079040585914454,
                  "_c0": "1427",
                  "unit": "rw3"
                },
                {
                  "FifteenCycleMovAvg": 2.007904273969403,
                  "_c0": "1428",
                  "unit": "rw3"
                },
                {
                  "FifteenCycleMovAvg": 2.007912009277458,
                  "_c0": "1429",
                  "unit": "rw3"
                },
                {
                  "FifteenCycleMovAvg": 2.0079213520662016,
                  "_c0": "143",
                  "unit": "rw3"
                },
                {
                  "FifteenCycleMovAvg": 2.0079236676721037,
                  "_c0": "1430",
                  "unit": "rw3"
                },
                {
                  "FifteenCycleMovAvg": 2.0079114346058606,
                  "_c0": "1431",
                  "unit": "rw3"
                },
                {
                  "FifteenCycleMovAvg": 2.0079167104066697,
                  "_c0": "1432",
                  "unit": "rw3"
                },
                {
                  "FifteenCycleMovAvg": 2.007911166606659,
                  "_c0": "1433",
                  "unit": "rw3"
                },
                {
                  "FifteenCycleMovAvg": 2.0079009235211203,
                  "_c0": "1434",
                  "unit": "rw3"
                },
                {
                  "FifteenCycleMovAvg": 2.007897463436595,
                  "_c0": "1435",
                  "unit": "rw3"
                },
                {
                  "FifteenCycleMovAvg": 2.0078891204319658,
                  "_c0": "1436",
                  "unit": "rw3"
                },
                {
                  "FifteenCycleMovAvg": 2.007896896685497,
                  "_c0": "1437",
                  "unit": "rw3"
                },
                {
                  "FifteenCycleMovAvg": 2.007890695705759,
                  "_c0": "1438",
                  "unit": "rw3"
                },
                {
                  "FifteenCycleMovAvg": 2.0078996773587336,
                  "_c0": "1439",
                  "unit": "rw3"
                },
                {
                  "FifteenCycleMovAvg": 2.007901424016951,
                  "_c0": "144",
                  "unit": "rw3"
                },
                {
                  "FifteenCycleMovAvg": 2.007886560909018,
                  "_c0": "1440",
                  "unit": "rw3"
                },
                {
                  "FifteenCycleMovAvg": 2.007882882642728,
                  "_c0": "1441",
                  "unit": "rw3"
                },
                {
                  "FifteenCycleMovAvg": 2.0078760954136734,
                  "_c0": "1442",
                  "unit": "rw3"
                },
                {
                  "FifteenCycleMovAvg": 2.0078732872219813,
                  "_c0": "1443",
                  "unit": "rw3"
                },
                {
                  "FifteenCycleMovAvg": 2.00787960930553,
                  "_c0": "1444",
                  "unit": "rw3"
                },
                {
                  "FifteenCycleMovAvg": 2.0078752794799177,
                  "_c0": "1445",
                  "unit": "rw3"
                },
                {
                  "FifteenCycleMovAvg": 2.0078719120521105,
                  "_c0": "1446",
                  "unit": "rw3"
                },
                {
                  "FifteenCycleMovAvg": 2.00786869758928,
                  "_c0": "1447",
                  "unit": "rw3"
                },
                {
                  "FifteenCycleMovAvg": 2.0078653285107824,
                  "_c0": "1448",
                  "unit": "rw3"
                },
                {
                  "FifteenCycleMovAvg": 2.007864223043806,
                  "_c0": "1449",
                  "unit": "rw3"
                },
                {
                  "FifteenCycleMovAvg": 2.007868154306339,
                  "_c0": "145",
                  "unit": "rw3"
                },
                {
                  "FifteenCycleMovAvg": 2.0078624701628542,
                  "_c0": "1450",
                  "unit": "rw3"
                },
                {
                  "FifteenCycleMovAvg": 2.0078654006669012,
                  "_c0": "1451",
                  "unit": "rw3"
                },
                {
                  "FifteenCycleMovAvg": 2.007858116176492,
                  "_c0": "1452",
                  "unit": "rw3"
                },
                {
                  "FifteenCycleMovAvg": 2.007853080318554,
                  "_c0": "1453",
                  "unit": "rw3"
                },
                {
                  "FifteenCycleMovAvg": 2.0078496449642382,
                  "_c0": "1454",
                  "unit": "rw3"
                },
                {
                  "FifteenCycleMovAvg": 2.0078645654341205,
                  "_c0": "1455",
                  "unit": "rw3"
                },
                {
                  "FifteenCycleMovAvg": 2.0078643287381137,
                  "_c0": "1456",
                  "unit": "rw3"
                },
                {
                  "FifteenCycleMovAvg": 2.007854044548754,
                  "_c0": "1457",
                  "unit": "rw3"
                },
                {
                  "FifteenCycleMovAvg": 2.0078470809133058,
                  "_c0": "1458",
                  "unit": "rw3"
                },
                {
                  "FifteenCycleMovAvg": 2.0078283193384845,
                  "_c0": "1459",
                  "unit": "rw3"
                },
                {
                  "FifteenCycleMovAvg": 2.0078345146196734,
                  "_c0": "146",
                  "unit": "rw3"
                },
                {
                  "FifteenCycleMovAvg": 2.0078259369123574,
                  "_c0": "1460",
                  "unit": "rw3"
                },
                {
                  "FifteenCycleMovAvg": 2.007831385311089,
                  "_c0": "1461",
                  "unit": "rw3"
                },
                {
                  "FifteenCycleMovAvg": 2.0078212856051705,
                  "_c0": "1462",
                  "unit": "rw3"
                },
                {
                  "FifteenCycleMovAvg": 2.007824162035756,
                  "_c0": "1463",
                  "unit": "rw3"
                },
                {
                  "FifteenCycleMovAvg": 2.0078138821929628,
                  "_c0": "1464",
                  "unit": "rw3"
                },
                {
                  "FifteenCycleMovAvg": 2.007816164572415,
                  "_c0": "1465",
                  "unit": "rw3"
                },
                {
                  "FifteenCycleMovAvg": 2.007809748917137,
                  "_c0": "1466",
                  "unit": "rw3"
                },
                {
                  "FifteenCycleMovAvg": 2.0077963134092305,
                  "_c0": "1467",
                  "unit": "rw3"
                },
                {
                  "FifteenCycleMovAvg": 2.007807830888446,
                  "_c0": "1468",
                  "unit": "rw3"
                },
                {
                  "FifteenCycleMovAvg": 2.0078061048198124,
                  "_c0": "1469",
                  "unit": "rw3"
                },
                {
                  "FifteenCycleMovAvg": 2.0077966144951795,
                  "_c0": "147",
                  "unit": "rw3"
                },
                {
                  "FifteenCycleMovAvg": 2.0077895037017597,
                  "_c0": "1470",
                  "unit": "rw3"
                },
                {
                  "FifteenCycleMovAvg": 2.007796923369483,
                  "_c0": "1471",
                  "unit": "rw3"
                },
                {
                  "FifteenCycleMovAvg": 2.007794480455688,
                  "_c0": "1472",
                  "unit": "rw3"
                },
                {
                  "FifteenCycleMovAvg": 2.0077950000216713,
                  "_c0": "1473",
                  "unit": "rw3"
                },
                {
                  "FifteenCycleMovAvg": 2.0077866673426743,
                  "_c0": "1474",
                  "unit": "rw3"
                },
                {
                  "FifteenCycleMovAvg": 2.007796103903967,
                  "_c0": "1475",
                  "unit": "rw3"
                },
                {
                  "FifteenCycleMovAvg": 2.0077946909717532,
                  "_c0": "1476",
                  "unit": "rw3"
                },
                {
                  "FifteenCycleMovAvg": 2.007799057878045,
                  "_c0": "1477",
                  "unit": "rw3"
                },
                {
                  "FifteenCycleMovAvg": 2.007794769541816,
                  "_c0": "1478",
                  "unit": "rw3"
                },
                {
                  "FifteenCycleMovAvg": 2.007780560254003,
                  "_c0": "1479",
                  "unit": "rw3"
                },
                {
                  "FifteenCycleMovAvg": 2.0077875996879953,
                  "_c0": "148",
                  "unit": "rw3"
                },
                {
                  "FifteenCycleMovAvg": 2.0077813807496296,
                  "_c0": "1480",
                  "unit": "rw3"
                },
                {
                  "FifteenCycleMovAvg": 2.0077755109922246,
                  "_c0": "1481",
                  "unit": "rw3"
                },
                {
                  "FifteenCycleMovAvg": 2.007765492152664,
                  "_c0": "1482",
                  "unit": "rw3"
                },
                {
                  "FifteenCycleMovAvg": 2.0077541328009687,
                  "_c0": "1483",
                  "unit": "rw3"
                },
                {
                  "FifteenCycleMovAvg": 2.007753346983751,
                  "_c0": "1484",
                  "unit": "rw3"
                },
                {
                  "FifteenCycleMovAvg": 2.00775289193731,
                  "_c0": "1485",
                  "unit": "rw3"
                },
                {
                  "FifteenCycleMovAvg": 2.0077518123905413,
                  "_c0": "1486",
                  "unit": "rw3"
                },
                {
                  "FifteenCycleMovAvg": 2.007751533795471,
                  "_c0": "1487",
                  "unit": "rw3"
                },
                {
                  "FifteenCycleMovAvg": 2.0077401561360935,
                  "_c0": "1488",
                  "unit": "rw3"
                },
                {
                  "FifteenCycleMovAvg": 2.0077472890858967,
                  "_c0": "1489",
                  "unit": "rw3"
                },
                {
                  "FifteenCycleMovAvg": 2.007749263043216,
                  "_c0": "149",
                  "unit": "rw3"
                },
                {
                  "FifteenCycleMovAvg": 2.007735169658452,
                  "_c0": "1490",
                  "unit": "rw3"
                },
                {
                  "FifteenCycleMovAvg": 2.0077340615386694,
                  "_c0": "1491",
                  "unit": "rw3"
                },
                {
                  "FifteenCycleMovAvg": 2.007740942693853,
                  "_c0": "1492",
                  "unit": "rw3"
                },
                {
                  "FifteenCycleMovAvg": 2.007721831361004,
                  "_c0": "1493",
                  "unit": "rw3"
                },
                {
                  "FifteenCycleMovAvg": 2.0077106291793387,
                  "_c0": "1494",
                  "unit": "rw3"
                },
                {
                  "FifteenCycleMovAvg": 2.00772391387442,
                  "_c0": "1495",
                  "unit": "rw3"
                },
                {
                  "FifteenCycleMovAvg": 2.0077320888918457,
                  "_c0": "1496",
                  "unit": "rw3"
                },
                {
                  "FifteenCycleMovAvg": 2.007730428114494,
                  "_c0": "1497",
                  "unit": "rw3"
                },
                {
                  "FifteenCycleMovAvg": 2.007723893507287,
                  "_c0": "1498",
                  "unit": "rw3"
                },
                {
                  "FifteenCycleMovAvg": 2.0077438846110236,
                  "_c0": "1499",
                  "unit": "rw3"
                },
                {
                  "FifteenCycleMovAvg": 2.0077486818915986,
                  "_c0": "15",
                  "unit": "rw3"
                },
                {
                  "FifteenCycleMovAvg": 2.007749023817939,
                  "_c0": "150",
                  "unit": "rw3"
                },
                {
                  "FifteenCycleMovAvg": 2.007747596280731,
                  "_c0": "1500",
                  "unit": "rw3"
                },
                {
                  "FifteenCycleMovAvg": 2.007755320960268,
                  "_c0": "1501",
                  "unit": "rw3"
                },
                {
                  "FifteenCycleMovAvg": 2.0077566637992357,
                  "_c0": "1502",
                  "unit": "rw3"
                },
                {
                  "FifteenCycleMovAvg": 2.007760128446214,
                  "_c0": "1503",
                  "unit": "rw3"
                },
                {
                  "FifteenCycleMovAvg": 2.0077592658406984,
                  "_c0": "1504",
                  "unit": "rw3"
                },
                {
                  "FifteenCycleMovAvg": 2.007766112800523,
                  "_c0": "1505",
                  "unit": "rw3"
                },
                {
                  "FifteenCycleMovAvg": 2.0077674924485125,
                  "_c0": "1506",
                  "unit": "rw3"
                },
                {
                  "FifteenCycleMovAvg": 2.0077686372978336,
                  "_c0": "1507",
                  "unit": "rw3"
                },
                {
                  "FifteenCycleMovAvg": 2.007768791029933,
                  "_c0": "1508",
                  "unit": "rw3"
                },
                {
                  "FifteenCycleMovAvg": 2.007770516038759,
                  "_c0": "1509",
                  "unit": "rw3"
                },
                {
                  "FifteenCycleMovAvg": 2.0077874505745594,
                  "_c0": "151",
                  "unit": "rw3"
                },
                {
                  "FifteenCycleMovAvg": 2.007776982465157,
                  "_c0": "1510",
                  "unit": "rw3"
                },
                {
                  "FifteenCycleMovAvg": 2.0077656044027057,
                  "_c0": "1511",
                  "unit": "rw3"
                },
                {
                  "FifteenCycleMovAvg": 2.007767302140863,
                  "_c0": "1512",
                  "unit": "rw3"
                },
                {
                  "FifteenCycleMovAvg": 2.0077691299636724,
                  "_c0": "1513",
                  "unit": "rw3"
                },
                {
                  "FifteenCycleMovAvg": 2.007751284086191,
                  "_c0": "1514",
                  "unit": "rw3"
                },
                {
                  "FifteenCycleMovAvg": 2.0077357771463866,
                  "_c0": "1515",
                  "unit": "rw3"
                },
                {
                  "FifteenCycleMovAvg": 2.0077282704467754,
                  "_c0": "1516",
                  "unit": "rw3"
                },
                {
                  "FifteenCycleMovAvg": 2.0077166313992696,
                  "_c0": "1517",
                  "unit": "rw3"
                },
                {
                  "FifteenCycleMovAvg": 2.007724655196498,
                  "_c0": "1518",
                  "unit": "rw3"
                },
                {
                  "FifteenCycleMovAvg": 2.0077278807434684,
                  "_c0": "1519",
                  "unit": "rw3"
                },
                {
                  "FifteenCycleMovAvg": 2.007739140166887,
                  "_c0": "152",
                  "unit": "rw3"
                },
                {
                  "FifteenCycleMovAvg": 2.0077332567451256,
                  "_c0": "1520",
                  "unit": "rw3"
                },
                {
                  "FifteenCycleMovAvg": 2.007737343112799,
                  "_c0": "1521",
                  "unit": "rw3"
                },
                {
                  "FifteenCycleMovAvg": 2.0077398468519894,
                  "_c0": "1522",
                  "unit": "rw3"
                },
                {
                  "FifteenCycleMovAvg": 2.0077281986685094,
                  "_c0": "1523",
                  "unit": "rw3"
                },
                {
                  "FifteenCycleMovAvg": 2.0077177953087664,
                  "_c0": "1524",
                  "unit": "rw3"
                },
                {
                  "FifteenCycleMovAvg": 2.007722081963419,
                  "_c0": "1525",
                  "unit": "rw3"
                },
                {
                  "FifteenCycleMovAvg": 2.00772139948472,
                  "_c0": "1526",
                  "unit": "rw3"
                },
                {
                  "FifteenCycleMovAvg": 2.007722731961269,
                  "_c0": "1527",
                  "unit": "rw3"
                },
                {
                  "FifteenCycleMovAvg": 2.0077165894005367,
                  "_c0": "1528",
                  "unit": "rw3"
                },
                {
                  "FifteenCycleMovAvg": 2.0077166212291155,
                  "_c0": "1529",
                  "unit": "rw3"
                },
                {
                  "FifteenCycleMovAvg": 2.0077232286830884,
                  "_c0": "153",
                  "unit": "rw3"
                },
                {
                  "FifteenCycleMovAvg": 2.007697742780926,
                  "_c0": "1530",
                  "unit": "rw3"
                },
                {
                  "FifteenCycleMovAvg": 2.007698284315641,
                  "_c0": "1531",
                  "unit": "rw3"
                },
                {
                  "FifteenCycleMovAvg": 2.0077041867311523,
                  "_c0": "1532",
                  "unit": "rw3"
                },
                {
                  "FifteenCycleMovAvg": 2.0076950445384507,
                  "_c0": "1533",
                  "unit": "rw3"
                },
                {
                  "FifteenCycleMovAvg": 2.00768799258848,
                  "_c0": "1534",
                  "unit": "rw3"
                },
                {
                  "FifteenCycleMovAvg": 2.007678675233231,
                  "_c0": "1535",
                  "unit": "rw3"
                },
                {
                  "FifteenCycleMovAvg": 2.007683287221616,
                  "_c0": "1536",
                  "unit": "rw3"
                },
                {
                  "FifteenCycleMovAvg": 2.0076804256446144,
                  "_c0": "1537",
                  "unit": "rw3"
                },
                {
                  "FifteenCycleMovAvg": 2.007675961858544,
                  "_c0": "1538",
                  "unit": "rw3"
                },
                {
                  "FifteenCycleMovAvg": 2.007683409987845,
                  "_c0": "1539",
                  "unit": "rw3"
                },
                {
                  "FifteenCycleMovAvg": 2.00768888039665,
                  "_c0": "154",
                  "unit": "rw3"
                },
                {
                  "FifteenCycleMovAvg": 2.007662855650628,
                  "_c0": "1540",
                  "unit": "rw3"
                },
                {
                  "FifteenCycleMovAvg": 2.0076680888585394,
                  "_c0": "1541",
                  "unit": "rw3"
                },
                {
                  "FifteenCycleMovAvg": 2.007682923986263,
                  "_c0": "1542",
                  "unit": "rw3"
                },
                {
                  "FifteenCycleMovAvg": 2.0076733288480555,
                  "_c0": "1543",
                  "unit": "rw3"
                },
                {
                  "FifteenCycleMovAvg": 2.007670777222429,
                  "_c0": "1544",
                  "unit": "rw3"
                },
                {
                  "FifteenCycleMovAvg": 2.007659693504797,
                  "_c0": "1545",
                  "unit": "rw3"
                },
                {
                  "FifteenCycleMovAvg": 2.007657654612544,
                  "_c0": "1546",
                  "unit": "rw3"
                },
                {
                  "FifteenCycleMovAvg": 2.0076546415260923,
                  "_c0": "1547",
                  "unit": "rw3"
                },
                {
                  "FifteenCycleMovAvg": 2.0076513070837954,
                  "_c0": "1548",
                  "unit": "rw3"
                },
                {
                  "FifteenCycleMovAvg": 2.007648387108975,
                  "_c0": "1549",
                  "unit": "rw3"
                },
                {
                  "FifteenCycleMovAvg": 2.007658625125121,
                  "_c0": "155",
                  "unit": "rw3"
                },
                {
                  "FifteenCycleMovAvg": 2.007653100725103,
                  "_c0": "1550",
                  "unit": "rw3"
                },
                {
                  "FifteenCycleMovAvg": 2.00764140182815,
                  "_c0": "1551",
                  "unit": "rw3"
                },
                {
                  "FifteenCycleMovAvg": 2.0076272305192515,
                  "_c0": "1552",
                  "unit": "rw3"
                },
                {
                  "FifteenCycleMovAvg": 2.007643220785056,
                  "_c0": "1553",
                  "unit": "rw3"
                },
                {
                  "FifteenCycleMovAvg": 2.0076406568555156,
                  "_c0": "1554",
                  "unit": "rw3"
                },
                {
                  "FifteenCycleMovAvg": 2.0076380954750164,
                  "_c0": "1555",
                  "unit": "rw3"
                },
                {
                  "FifteenCycleMovAvg": 2.007636045653192,
                  "_c0": "1556",
                  "unit": "rw3"
                },
                {
                  "FifteenCycleMovAvg": 2.0076193706733125,
                  "_c0": "1557",
                  "unit": "rw3"
                },
                {
                  "FifteenCycleMovAvg": 2.007616475584604,
                  "_c0": "1558",
                  "unit": "rw3"
                },
                {
                  "FifteenCycleMovAvg": 2.007607338465617,
                  "_c0": "1559",
                  "unit": "rw3"
                },
                {
                  "FifteenCycleMovAvg": 2.0076137435225214,
                  "_c0": "156",
                  "unit": "rw3"
                },
                {
                  "FifteenCycleMovAvg": 2.007595601065275,
                  "_c0": "1560",
                  "unit": "rw3"
                },
                {
                  "FifteenCycleMovAvg": 2.007588553731996,
                  "_c0": "1561",
                  "unit": "rw3"
                },
                {
                  "FifteenCycleMovAvg": 2.0075856843726885,
                  "_c0": "1562",
                  "unit": "rw3"
                },
                {
                  "FifteenCycleMovAvg": 2.0075777542959083,
                  "_c0": "1563",
                  "unit": "rw3"
                },
                {
                  "FifteenCycleMovAvg": 2.0075766892801714,
                  "_c0": "1564",
                  "unit": "rw3"
                },
                {
                  "FifteenCycleMovAvg": 2.00757282013623,
                  "_c0": "1565",
                  "unit": "rw3"
                },
                {
                  "FifteenCycleMovAvg": 2.0075693590142913,
                  "_c0": "1566",
                  "unit": "rw3"
                },
                {
                  "FifteenCycleMovAvg": 2.0075648956156407,
                  "_c0": "1567",
                  "unit": "rw3"
                },
                {
                  "FifteenCycleMovAvg": 2.007553524878872,
                  "_c0": "1568",
                  "unit": "rw3"
                },
                {
                  "FifteenCycleMovAvg": 2.007552948906862,
                  "_c0": "1569",
                  "unit": "rw3"
                },
                {
                  "FifteenCycleMovAvg": 2.007557102612138,
                  "_c0": "157",
                  "unit": "rw3"
                },
                {
                  "FifteenCycleMovAvg": 2.0075515471360617,
                  "_c0": "1570",
                  "unit": "rw3"
                },
                {
                  "FifteenCycleMovAvg": 2.0075505164391396,
                  "_c0": "1571",
                  "unit": "rw3"
                },
                {
                  "FifteenCycleMovAvg": 2.007563173680072,
                  "_c0": "1572",
                  "unit": "rw3"
                },
                {
                  "FifteenCycleMovAvg": 2.0075642254596384,
                  "_c0": "1573",
                  "unit": "rw3"
                },
                {
                  "FifteenCycleMovAvg": 2.0075641708167633,
                  "_c0": "1574",
                  "unit": "rw3"
                },
                {
                  "FifteenCycleMovAvg": 2.007557989921164,
                  "_c0": "1575",
                  "unit": "rw3"
                },
                {
                  "FifteenCycleMovAvg": 2.0075489928221124,
                  "_c0": "1576",
                  "unit": "rw3"
                },
                {
                  "FifteenCycleMovAvg": 2.007546888123376,
                  "_c0": "1577",
                  "unit": "rw3"
                },
                {
                  "FifteenCycleMovAvg": 2.0075604774087523,
                  "_c0": "1578",
                  "unit": "rw3"
                },
                {
                  "FifteenCycleMovAvg": 2.0075525476082277,
                  "_c0": "1579",
                  "unit": "rw3"
                },
                {
                  "FifteenCycleMovAvg": 2.007555219589819,
                  "_c0": "158",
                  "unit": "rw3"
                },
                {
                  "FifteenCycleMovAvg": 2.007557573405071,
                  "_c0": "1580",
                  "unit": "rw3"
                },
                {
                  "FifteenCycleMovAvg": 2.0075453988021117,
                  "_c0": "1581",
                  "unit": "rw3"
                },
                {
                  "FifteenCycleMovAvg": 2.0075389999231557,
                  "_c0": "1582",
                  "unit": "rw3"
                },
                {
                  "FifteenCycleMovAvg": 2.00754207148941,
                  "_c0": "1583",
                  "unit": "rw3"
                },
                {
                  "FifteenCycleMovAvg": 2.007534046886222,
                  "_c0": "1584",
                  "unit": "rw3"
                },
                {
                  "FifteenCycleMovAvg": 2.0075344798674672,
                  "_c0": "1585",
                  "unit": "rw3"
                },
                {
                  "FifteenCycleMovAvg": 2.00754380360812,
                  "_c0": "1586",
                  "unit": "rw3"
                },
                {
                  "FifteenCycleMovAvg": 2.007541195619329,
                  "_c0": "1587",
                  "unit": "rw3"
                },
                {
                  "FifteenCycleMovAvg": 2.0075388282831104,
                  "_c0": "1588",
                  "unit": "rw3"
                },
                {
                  "FifteenCycleMovAvg": 2.007534311638886,
                  "_c0": "1589",
                  "unit": "rw3"
                },
                {
                  "FifteenCycleMovAvg": 2.007549440825189,
                  "_c0": "159",
                  "unit": "rw3"
                },
                {
                  "FifteenCycleMovAvg": 2.007540148957348,
                  "_c0": "1590",
                  "unit": "rw3"
                },
                {
                  "FifteenCycleMovAvg": 2.0075304135580665,
                  "_c0": "1591",
                  "unit": "rw3"
                },
                {
                  "FifteenCycleMovAvg": 2.00752604979147,
                  "_c0": "1592",
                  "unit": "rw3"
                },
                {
                  "FifteenCycleMovAvg": 2.007512488088182,
                  "_c0": "1593",
                  "unit": "rw3"
                },
                {
                  "FifteenCycleMovAvg": 2.007505099577632,
                  "_c0": "1594",
                  "unit": "rw3"
                },
                {
                  "FifteenCycleMovAvg": 2.007491137059552,
                  "_c0": "1595",
                  "unit": "rw3"
                },
                {
                  "FifteenCycleMovAvg": 2.007486439401996,
                  "_c0": "1596",
                  "unit": "rw3"
                },
                {
                  "FifteenCycleMovAvg": 2.0074984287631894,
                  "_c0": "1597",
                  "unit": "rw3"
                },
                {
                  "FifteenCycleMovAvg": 2.0074907046640447,
                  "_c0": "1598",
                  "unit": "rw3"
                },
                {
                  "FifteenCycleMovAvg": 2.007486342619228,
                  "_c0": "1599",
                  "unit": "rw3"
                },
                {
                  "FifteenCycleMovAvg": 2.0074966899036997,
                  "_c0": "16",
                  "unit": "rw3"
                },
                {
                  "FifteenCycleMovAvg": 2.007497495975852,
                  "_c0": "160",
                  "unit": "rw3"
                },
                {
                  "FifteenCycleMovAvg": 2.0074853782437247,
                  "_c0": "1600",
                  "unit": "rw3"
                },
                {
                  "FifteenCycleMovAvg": 2.007484149089003,
                  "_c0": "1601",
                  "unit": "rw3"
                },
                {
                  "FifteenCycleMovAvg": 2.0074770230565413,
                  "_c0": "1602",
                  "unit": "rw3"
                },
                {
                  "FifteenCycleMovAvg": 2.0074742618771917,
                  "_c0": "1603",
                  "unit": "rw3"
                },
                {
                  "FifteenCycleMovAvg": 2.0074750155795846,
                  "_c0": "1604",
                  "unit": "rw3"
                },
                {
                  "FifteenCycleMovAvg": 2.007477377861644,
                  "_c0": "1605",
                  "unit": "rw3"
                },
                {
                  "FifteenCycleMovAvg": 2.00748062980798,
                  "_c0": "1606",
                  "unit": "rw3"
                },
                {
                  "FifteenCycleMovAvg": 2.0074698337953563,
                  "_c0": "1607",
                  "unit": "rw3"
                },
                {
                  "FifteenCycleMovAvg": 2.007466260954353,
                  "_c0": "1608",
                  "unit": "rw3"
                },
                {
                  "FifteenCycleMovAvg": 2.007469580742844,
                  "_c0": "1609",
                  "unit": "rw3"
                },
                {
                  "FifteenCycleMovAvg": 2.007478631515381,
                  "_c0": "161",
                  "unit": "rw3"
                },
                {
                  "FifteenCycleMovAvg": 2.0074745771858584,
                  "_c0": "1610",
                  "unit": "rw3"
                },
                {
                  "FifteenCycleMovAvg": 2.0074778904922335,
                  "_c0": "1611",
                  "unit": "rw3"
                },
                {
                  "FifteenCycleMovAvg": 2.007475446671168,
                  "_c0": "1612",
                  "unit": "rw3"
                },
                {
                  "FifteenCycleMovAvg": 2.0074647032019977,
                  "_c0": "1613",
                  "unit": "rw3"
                },
                {
                  "FifteenCycleMovAvg": 2.0074584070069927,
                  "_c0": "1614",
                  "unit": "rw3"
                },
                {
                  "FifteenCycleMovAvg": 2.0074683249540257,
                  "_c0": "1615",
                  "unit": "rw3"
                },
                {
                  "FifteenCycleMovAvg": 2.007462295033738,
                  "_c0": "1616",
                  "unit": "rw3"
                },
                {
                  "FifteenCycleMovAvg": 2.0074647942950112,
                  "_c0": "1617",
                  "unit": "rw3"
                },
                {
                  "FifteenCycleMovAvg": 2.007446839246435,
                  "_c0": "1618",
                  "unit": "rw3"
                },
                {
                  "FifteenCycleMovAvg": 2.0074423538879618,
                  "_c0": "1619",
                  "unit": "rw3"
                },
                {
                  "FifteenCycleMovAvg": 2.0074450220134357,
                  "_c0": "162",
                  "unit": "rw3"
                },
                {
                  "FifteenCycleMovAvg": 2.0074394882382856,
                  "_c0": "1620",
                  "unit": "rw3"
                },
                {
                  "FifteenCycleMovAvg": 2.007439536373625,
                  "_c0": "1621",
                  "unit": "rw3"
                },
                {
                  "FifteenCycleMovAvg": 2.0074411228968736,
                  "_c0": "1622",
                  "unit": "rw3"
                },
                {
                  "FifteenCycleMovAvg": 2.007444815462762,
                  "_c0": "1623",
                  "unit": "rw3"
                },
                {
                  "FifteenCycleMovAvg": 2.0074526919566114,
                  "_c0": "1624",
                  "unit": "rw3"
                },
                {
                  "FifteenCycleMovAvg": 2.007453155304624,
                  "_c0": "1625",
                  "unit": "rw3"
                },
                {
                  "FifteenCycleMovAvg": 2.0074498578478375,
                  "_c0": "1626",
                  "unit": "rw3"
                },
                {
                  "FifteenCycleMovAvg": 2.007437816287321,
                  "_c0": "1627",
                  "unit": "rw3"
                },
                {
                  "FifteenCycleMovAvg": 2.007439653869991,
                  "_c0": "1628",
                  "unit": "rw3"
                },
                {
                  "FifteenCycleMovAvg": 2.0074478803008255,
                  "_c0": "1629",
                  "unit": "rw3"
                },
                {
                  "FifteenCycleMovAvg": 2.007453616823222,
                  "_c0": "163",
                  "unit": "rw3"
                },
                {
                  "FifteenCycleMovAvg": 2.007436685968526,
                  "_c0": "1630",
                  "unit": "rw3"
                },
                {
                  "FifteenCycleMovAvg": 2.0074270427206113,
                  "_c0": "1631",
                  "unit": "rw3"
                },
                {
                  "FifteenCycleMovAvg": 2.0074326687689266,
                  "_c0": "1632",
                  "unit": "rw3"
                },
                {
                  "FifteenCycleMovAvg": 2.007426702497431,
                  "_c0": "1633",
                  "unit": "rw3"
                },
                {
                  "FifteenCycleMovAvg": 2.0074327676838966,
                  "_c0": "1634",
                  "unit": "rw3"
                },
                {
                  "FifteenCycleMovAvg": 2.007429234439336,
                  "_c0": "1635",
                  "unit": "rw3"
                },
                {
                  "FifteenCycleMovAvg": 2.007417252893316,
                  "_c0": "1636",
                  "unit": "rw3"
                },
                {
                  "FifteenCycleMovAvg": 2.0074129610020406,
                  "_c0": "1637",
                  "unit": "rw3"
                },
                {
                  "FifteenCycleMovAvg": 2.007410586940526,
                  "_c0": "1638",
                  "unit": "rw3"
                },
                {
                  "FifteenCycleMovAvg": 2.007404678222,
                  "_c0": "1639",
                  "unit": "rw3"
                },
                {
                  "FifteenCycleMovAvg": 2.0074100198349227,
                  "_c0": "164",
                  "unit": "rw3"
                },
                {
                  "FifteenCycleMovAvg": 2.007400027992549,
                  "_c0": "1640",
                  "unit": "rw3"
                },
                {
                  "FifteenCycleMovAvg": 2.007401177193742,
                  "_c0": "1641",
                  "unit": "rw3"
                },
                {
                  "FifteenCycleMovAvg": 2.0073983095268373,
                  "_c0": "1642",
                  "unit": "rw3"
                },
                {
                  "FifteenCycleMovAvg": 2.0074021844988845,
                  "_c0": "1643",
                  "unit": "rw3"
                },
                {
                  "FifteenCycleMovAvg": 2.00739486001638,
                  "_c0": "1644",
                  "unit": "rw3"
                },
                {
                  "FifteenCycleMovAvg": 2.007398495663424,
                  "_c0": "1645",
                  "unit": "rw3"
                },
                {
                  "FifteenCycleMovAvg": 2.0073945029595732,
                  "_c0": "1646",
                  "unit": "rw3"
                },
                {
                  "FifteenCycleMovAvg": 2.00739138841125,
                  "_c0": "1647",
                  "unit": "rw3"
                },
                {
                  "FifteenCycleMovAvg": 2.0073891330705305,
                  "_c0": "1648",
                  "unit": "rw3"
                },
                {
                  "FifteenCycleMovAvg": 2.0073897676569072,
                  "_c0": "1649",
                  "unit": "rw3"
                },
                {
                  "FifteenCycleMovAvg": 2.007397285377815,
                  "_c0": "165",
                  "unit": "rw3"
                },
                {
                  "FifteenCycleMovAvg": 2.0073910375347235,
                  "_c0": "1650",
                  "unit": "rw3"
                },
                {
                  "FifteenCycleMovAvg": 2.007377234658199,
                  "_c0": "1651",
                  "unit": "rw3"
                },
                {
                  "FifteenCycleMovAvg": 2.007371545246786,
                  "_c0": "1652",
                  "unit": "rw3"
                },
                {
                  "FifteenCycleMovAvg": 2.007356854994539,
                  "_c0": "1653",
                  "unit": "rw3"
                },
                {
                  "FifteenCycleMovAvg": 2.007343880995218,
                  "_c0": "1654",
                  "unit": "rw3"
                },
                {
                  "FifteenCycleMovAvg": 2.0073413431314697,
                  "_c0": "1655",
                  "unit": "rw3"
                },
                {
                  "FifteenCycleMovAvg": 2.0073313659535867,
                  "_c0": "1656",
                  "unit": "rw3"
                },
                {
                  "FifteenCycleMovAvg": 2.007327935491577,
                  "_c0": "1657",
                  "unit": "rw3"
                },
                {
                  "FifteenCycleMovAvg": 2.0073263324109036,
                  "_c0": "1658",
                  "unit": "rw3"
                },
                {
                  "FifteenCycleMovAvg": 2.0073232186862104,
                  "_c0": "1659",
                  "unit": "rw3"
                },
                {
                  "FifteenCycleMovAvg": 2.007334816016547,
                  "_c0": "166",
                  "unit": "rw3"
                },
                {
                  "FifteenCycleMovAvg": 2.0073269796274498,
                  "_c0": "1660",
                  "unit": "rw3"
                },
                {
                  "FifteenCycleMovAvg": 2.0073168909889683,
                  "_c0": "1661",
                  "unit": "rw3"
                },
                {
                  "FifteenCycleMovAvg": 2.0073160710801417,
                  "_c0": "1662",
                  "unit": "rw3"
                },
                {
                  "FifteenCycleMovAvg": 2.00731340797536,
                  "_c0": "1663",
                  "unit": "rw3"
                },
                {
                  "FifteenCycleMovAvg": 2.007322547292368,
                  "_c0": "1664",
                  "unit": "rw3"
                },
                {
                  "FifteenCycleMovAvg": 2.00731396551183,
                  "_c0": "1665",
                  "unit": "rw3"
                },
                {
                  "FifteenCycleMovAvg": 2.0073146405372566,
                  "_c0": "1666",
                  "unit": "rw3"
                },
                {
                  "FifteenCycleMovAvg": 2.007316133565275,
                  "_c0": "1667",
                  "unit": "rw3"
                },
                {
                  "FifteenCycleMovAvg": 2.0073112906484223,
                  "_c0": "1668",
                  "unit": "rw3"
                },
                {
                  "FifteenCycleMovAvg": 2.0073175827502254,
                  "_c0": "1669",
                  "unit": "rw3"
                },
                {
                  "FifteenCycleMovAvg": 2.007314762697786,
                  "_c0": "167",
                  "unit": "rw3"
                },
                {
                  "FifteenCycleMovAvg": 2.0073085415155165,
                  "_c0": "1670",
                  "unit": "rw3"
                },
                {
                  "FifteenCycleMovAvg": 2.0073131840133627,
                  "_c0": "1671",
                  "unit": "rw3"
                },
                {
                  "FifteenCycleMovAvg": 2.0073117195265398,
                  "_c0": "1672",
                  "unit": "rw3"
                },
                {
                  "FifteenCycleMovAvg": 2.007299921354963,
                  "_c0": "1673",
                  "unit": "rw3"
                },
                {
                  "FifteenCycleMovAvg": 2.007304591646364,
                  "_c0": "1674",
                  "unit": "rw3"
                },
                {
                  "FifteenCycleMovAvg": 2.007303442693605,
                  "_c0": "1675",
                  "unit": "rw3"
                },
                {
                  "FifteenCycleMovAvg": 2.007293243187275,
                  "_c0": "1676",
                  "unit": "rw3"
                },
                {
                  "FifteenCycleMovAvg": 2.0072841674467647,
                  "_c0": "1677",
                  "unit": "rw3"
                },
                {
                  "FifteenCycleMovAvg": 2.007280583047417,
                  "_c0": "1678",
                  "unit": "rw3"
                },
                {
                  "FifteenCycleMovAvg": 2.007290024944785,
                  "_c0": "1679",
                  "unit": "rw3"
                },
                {
                  "FifteenCycleMovAvg": 2.007291670720691,
                  "_c0": "168",
                  "unit": "rw3"
                },
                {
                  "FifteenCycleMovAvg": 2.0072777669192066,
                  "_c0": "1680",
                  "unit": "rw3"
                },
                {
                  "FifteenCycleMovAvg": 2.0072738611259777,
                  "_c0": "1681",
                  "unit": "rw3"
                },
                {
                  "FifteenCycleMovAvg": 2.007270576464556,
                  "_c0": "1682",
                  "unit": "rw3"
                },
                {
                  "FifteenCycleMovAvg": 2.0072507875360293,
                  "_c0": "1683",
                  "unit": "rw3"
                },
                {
                  "FifteenCycleMovAvg": 2.007246107607117,
                  "_c0": "1684",
                  "unit": "rw3"
                },
                {
                  "FifteenCycleMovAvg": 2.007242175408186,
                  "_c0": "1685",
                  "unit": "rw3"
                },
                {
                  "FifteenCycleMovAvg": 2.0072456831230414,
                  "_c0": "1686",
                  "unit": "rw3"
                },
                {
                  "FifteenCycleMovAvg": 2.0072411531750864,
                  "_c0": "1687",
                  "unit": "rw3"
                },
                {
                  "FifteenCycleMovAvg": 2.007236835671284,
                  "_c0": "1688",
                  "unit": "rw3"
                },
                {
                  "FifteenCycleMovAvg": 2.0072207044000785,
                  "_c0": "1689",
                  "unit": "rw3"
                },
                {
                  "FifteenCycleMovAvg": 2.007226973368461,
                  "_c0": "169",
                  "unit": "rw3"
                },
                {
                  "FifteenCycleMovAvg": 2.0072196252465773,
                  "_c0": "1690",
                  "unit": "rw3"
                },
                {
                  "FifteenCycleMovAvg": 2.0071990108736077,
                  "_c0": "1691",
                  "unit": "rw3"
                },
                {
                  "FifteenCycleMovAvg": 2.0071949817676353,
                  "_c0": "1692",
                  "unit": "rw3"
                },
                {
                  "FifteenCycleMovAvg": 2.007187011537716,
                  "_c0": "1693",
                  "unit": "rw3"
                },
                {
                  "FifteenCycleMovAvg": 2.0071827943582603,
                  "_c0": "1694",
                  "unit": "rw3"
                },
                {
                  "FifteenCycleMovAvg": 2.0071762658465566,
                  "_c0": "1695",
                  "unit": "rw3"
                },
                {
                  "FifteenCycleMovAvg": 2.0071796904405246,
                  "_c0": "1696",
                  "unit": "rw3"
                },
                {
                  "FifteenCycleMovAvg": 2.007179048718896,
                  "_c0": "1697",
                  "unit": "rw3"
                },
                {
                  "FifteenCycleMovAvg": 2.0071721657470842,
                  "_c0": "1698",
                  "unit": "rw3"
                },
                {
                  "FifteenCycleMovAvg": 2.007167918616652,
                  "_c0": "1699",
                  "unit": "rw3"
                },
                {
                  "FifteenCycleMovAvg": 2.0071757002982222,
                  "_c0": "17",
                  "unit": "rw3"
                },
                {
                  "FifteenCycleMovAvg": 2.0071729645454517,
                  "_c0": "170",
                  "unit": "rw3"
                },
                {
                  "FifteenCycleMovAvg": 2.0071500948289405,
                  "_c0": "1700",
                  "unit": "rw3"
                },
                {
                  "FifteenCycleMovAvg": 2.007153472728912,
                  "_c0": "1701",
                  "unit": "rw3"
                },
                {
                  "FifteenCycleMovAvg": 2.007143274469461,
                  "_c0": "1702",
                  "unit": "rw3"
                },
                {
                  "FifteenCycleMovAvg": 2.007142788773256,
                  "_c0": "1703",
                  "unit": "rw3"
                },
                {
                  "FifteenCycleMovAvg": 2.0071418244255614,
                  "_c0": "1704",
                  "unit": "rw3"
                },
                {
                  "FifteenCycleMovAvg": 2.007139533419621,
                  "_c0": "1705",
                  "unit": "rw3"
                },
                {
                  "FifteenCycleMovAvg": 2.007135105517212,
                  "_c0": "1706",
                  "unit": "rw3"
                },
                {
                  "FifteenCycleMovAvg": 2.0071307995081367,
                  "_c0": "1707",
                  "unit": "rw3"
                },
                {
                  "FifteenCycleMovAvg": 2.0071341071625106,
                  "_c0": "1708",
                  "unit": "rw3"
                },
                {
                  "FifteenCycleMovAvg": 2.007131598859846,
                  "_c0": "1709",
                  "unit": "rw3"
                },
                {
                  "FifteenCycleMovAvg": 2.007149089502312,
                  "_c0": "171",
                  "unit": "rw3"
                },
                {
                  "FifteenCycleMovAvg": 2.0071342020641607,
                  "_c0": "1710",
                  "unit": "rw3"
                },
                {
                  "FifteenCycleMovAvg": 2.0071416223171967,
                  "_c0": "1711",
                  "unit": "rw3"
                },
                {
                  "FifteenCycleMovAvg": 2.0071384195635,
                  "_c0": "1712",
                  "unit": "rw3"
                },
                {
                  "FifteenCycleMovAvg": 2.007131367906443,
                  "_c0": "1713",
                  "unit": "rw3"
                },
                {
                  "FifteenCycleMovAvg": 2.0071297186722994,
                  "_c0": "1714",
                  "unit": "rw3"
                },
                {
                  "FifteenCycleMovAvg": 2.007135879698629,
                  "_c0": "1715",
                  "unit": "rw3"
                },
                {
                  "FifteenCycleMovAvg": 2.007144614409167,
                  "_c0": "1716",
                  "unit": "rw3"
                },
                {
                  "FifteenCycleMovAvg": 2.007142002686815,
                  "_c0": "1717",
                  "unit": "rw3"
                },
                {
                  "FifteenCycleMovAvg": 2.0071405459913385,
                  "_c0": "1718",
                  "unit": "rw3"
                },
                {
                  "FifteenCycleMovAvg": 2.007138139031673,
                  "_c0": "1719",
                  "unit": "rw3"
                },
                {
                  "FifteenCycleMovAvg": 2.007136607610491,
                  "_c0": "172",
                  "unit": "rw3"
                },
                {
                  "FifteenCycleMovAvg": 2.0071107562729544,
                  "_c0": "1720",
                  "unit": "rw3"
                },
                {
                  "FifteenCycleMovAvg": 2.007116937208971,
                  "_c0": "1721",
                  "unit": "rw3"
                },
                {
                  "FifteenCycleMovAvg": 2.0071139983089035,
                  "_c0": "1722",
                  "unit": "rw3"
                },
                {
                  "FifteenCycleMovAvg": 2.007093557449644,
                  "_c0": "1723",
                  "unit": "rw3"
                },
                {
                  "FifteenCycleMovAvg": 2.007093785555373,
                  "_c0": "1724",
                  "unit": "rw3"
                },
                {
                  "FifteenCycleMovAvg": 2.0070956821810606,
                  "_c0": "1725",
                  "unit": "rw3"
                },
                {
                  "FifteenCycleMovAvg": 2.007108812987289,
                  "_c0": "1726",
                  "unit": "rw3"
                },
                {
                  "FifteenCycleMovAvg": 2.0071048541592256,
                  "_c0": "1727",
                  "unit": "rw3"
                },
                {
                  "FifteenCycleMovAvg": 2.00710246449074,
                  "_c0": "1728",
                  "unit": "rw3"
                },
                {
                  "FifteenCycleMovAvg": 2.0071011744646508,
                  "_c0": "1729",
                  "unit": "rw3"
                },
                {
                  "FifteenCycleMovAvg": 2.0070993127121914,
                  "_c0": "173",
                  "unit": "rw3"
                },
                {
                  "FifteenCycleMovAvg": 2.0070829107273753,
                  "_c0": "1730",
                  "unit": "rw3"
                },
                {
                  "FifteenCycleMovAvg": 2.007078595039211,
                  "_c0": "1731",
                  "unit": "rw3"
                },
                {
                  "FifteenCycleMovAvg": 2.0070692095130958,
                  "_c0": "1732",
                  "unit": "rw3"
                },
                {
                  "FifteenCycleMovAvg": 2.007078086216993,
                  "_c0": "1733",
                  "unit": "rw3"
                },
                {
                  "FifteenCycleMovAvg": 2.0070643489262934,
                  "_c0": "1734",
                  "unit": "rw3"
                },
                {
                  "FifteenCycleMovAvg": 2.007062794462771,
                  "_c0": "1735",
                  "unit": "rw3"
                },
                {
                  "FifteenCycleMovAvg": 2.007065714454763,
                  "_c0": "1736",
                  "unit": "rw3"
                },
                {
                  "FifteenCycleMovAvg": 2.00705672851805,
                  "_c0": "1737",
                  "unit": "rw3"
                },
                {
                  "FifteenCycleMovAvg": 2.0070647903327505,
                  "_c0": "1738",
                  "unit": "rw3"
                },
                {
                  "FifteenCycleMovAvg": 2.007071930777412,
                  "_c0": "1739",
                  "unit": "rw3"
                },
                {
                  "FifteenCycleMovAvg": 2.007072083938577,
                  "_c0": "174",
                  "unit": "rw3"
                },
                {
                  "FifteenCycleMovAvg": 2.007052298196229,
                  "_c0": "1740",
                  "unit": "rw3"
                },
                {
                  "FifteenCycleMovAvg": 2.007054229423081,
                  "_c0": "1741",
                  "unit": "rw3"
                },
                {
                  "FifteenCycleMovAvg": 2.007050883829455,
                  "_c0": "1742",
                  "unit": "rw3"
                },
                {
                  "FifteenCycleMovAvg": 2.0070442410669,
                  "_c0": "1743",
                  "unit": "rw3"
                },
                {
                  "FifteenCycleMovAvg": 2.0070449487140083,
                  "_c0": "1744",
                  "unit": "rw3"
                },
                {
                  "FifteenCycleMovAvg": 2.007043519248367,
                  "_c0": "1745",
                  "unit": "rw3"
                },
                {
                  "FifteenCycleMovAvg": 2.0070451058955063,
                  "_c0": "1746",
                  "unit": "rw3"
                },
                {
                  "FifteenCycleMovAvg": 2.0070452172781206,
                  "_c0": "1747",
                  "unit": "rw3"
                },
                {
                  "FifteenCycleMovAvg": 2.007048935110256,
                  "_c0": "1748",
                  "unit": "rw3"
                },
                {
                  "FifteenCycleMovAvg": 2.0070500502129422,
                  "_c0": "1749",
                  "unit": "rw3"
                },
                {
                  "FifteenCycleMovAvg": 2.007051739394021,
                  "_c0": "175",
                  "unit": "rw3"
                },
                {
                  "FifteenCycleMovAvg": 2.0070363542239744,
                  "_c0": "1750",
                  "unit": "rw3"
                },
                {
                  "FifteenCycleMovAvg": 2.0070341459369905,
                  "_c0": "1751",
                  "unit": "rw3"
                },
                {
                  "FifteenCycleMovAvg": 2.007026178777568,
                  "_c0": "1752",
                  "unit": "rw3"
                },
                {
                  "FifteenCycleMovAvg": 2.0070232939359665,
                  "_c0": "1753",
                  "unit": "rw3"
                },
                {
                  "FifteenCycleMovAvg": 2.0070187409297144,
                  "_c0": "1754",
                  "unit": "rw3"
                },
                {
                  "FifteenCycleMovAvg": 2.0070089841173018,
                  "_c0": "1755",
                  "unit": "rw3"
                },
                {
                  "FifteenCycleMovAvg": 2.007008012701854,
                  "_c0": "1756",
                  "unit": "rw3"
                },
                {
                  "FifteenCycleMovAvg": 2.0070037536492964,
                  "_c0": "1757",
                  "unit": "rw3"
                },
                {
                  "FifteenCycleMovAvg": 2.007005015027547,
                  "_c0": "1758",
                  "unit": "rw3"
                },
                {
                  "FifteenCycleMovAvg": 2.0069943968116766,
                  "_c0": "1759",
                  "unit": "rw3"
                },
                {
                  "FifteenCycleMovAvg": 2.007009992888002,
                  "_c0": "176",
                  "unit": "rw3"
                },
                {
                  "FifteenCycleMovAvg": 2.006992165115101,
                  "_c0": "1760",
                  "unit": "rw3"
                },
                {
                  "FifteenCycleMovAvg": 2.006991509705153,
                  "_c0": "1761",
                  "unit": "rw3"
                },
                {
                  "FifteenCycleMovAvg": 2.006990874898841,
                  "_c0": "1762",
                  "unit": "rw3"
                },
                {
                  "FifteenCycleMovAvg": 2.00698469363877,
                  "_c0": "1763",
                  "unit": "rw3"
                },
                {
                  "FifteenCycleMovAvg": 2.0069905379509927,
                  "_c0": "1764",
                  "unit": "rw3"
                },
                {
                  "FifteenCycleMovAvg": 2.006991612787384,
                  "_c0": "1765",
                  "unit": "rw3"
                },
                {
                  "FifteenCycleMovAvg": 2.0069899941280998,
                  "_c0": "1766",
                  "unit": "rw3"
                },
                {
                  "FifteenCycleMovAvg": 2.006984807688589,
                  "_c0": "1767",
                  "unit": "rw3"
                },
                {
                  "FifteenCycleMovAvg": 2.0069856146847647,
                  "_c0": "1768",
                  "unit": "rw3"
                },
                {
                  "FifteenCycleMovAvg": 2.0069735544618883,
                  "_c0": "1769",
                  "unit": "rw3"
                },
                {
                  "FifteenCycleMovAvg": 2.006971321965469,
                  "_c0": "177",
                  "unit": "rw3"
                },
                {
                  "FifteenCycleMovAvg": 2.0069478656288315,
                  "_c0": "1770",
                  "unit": "rw3"
                },
                {
                  "FifteenCycleMovAvg": 2.0069511835795453,
                  "_c0": "1771",
                  "unit": "rw3"
                },
                {
                  "FifteenCycleMovAvg": 2.0069637471455564,
                  "_c0": "1772",
                  "unit": "rw3"
                },
                {
                  "FifteenCycleMovAvg": 2.00695289634125,
                  "_c0": "1773",
                  "unit": "rw3"
                },
                {
                  "FifteenCycleMovAvg": 2.0069476034177463,
                  "_c0": "1774",
                  "unit": "rw3"
                },
                {
                  "FifteenCycleMovAvg": 2.0069389486088025,
                  "_c0": "1775",
                  "unit": "rw3"
                },
                {
                  "FifteenCycleMovAvg": 2.0069355216407945,
                  "_c0": "1776",
                  "unit": "rw3"
                },
                {
                  "FifteenCycleMovAvg": 2.006927379434848,
                  "_c0": "1777",
                  "unit": "rw3"
                },
                {
                  "FifteenCycleMovAvg": 2.006914309609207,
                  "_c0": "1778",
                  "unit": "rw3"
                },
                {
                  "FifteenCycleMovAvg": 2.006910420706442,
                  "_c0": "1779",
                  "unit": "rw3"
                },
                {
                  "FifteenCycleMovAvg": 2.0069143082619445,
                  "_c0": "178",
                  "unit": "rw3"
                },
                {
                  "FifteenCycleMovAvg": 2.0069033885982526,
                  "_c0": "1780",
                  "unit": "rw3"
                },
                {
                  "FifteenCycleMovAvg": 2.006904449396464,
                  "_c0": "1781",
                  "unit": "rw3"
                },
                {
                  "FifteenCycleMovAvg": 2.0069084067229044,
                  "_c0": "1782",
                  "unit": "rw3"
                },
                {
                  "FifteenCycleMovAvg": 2.0069063843352786,
                  "_c0": "1783",
                  "unit": "rw3"
                },
                {
                  "FifteenCycleMovAvg": 2.0068983363061474,
                  "_c0": "1784",
                  "unit": "rw3"
                },
                {
                  "FifteenCycleMovAvg": 2.006900908966449,
                  "_c0": "1785",
                  "unit": "rw3"
                },
                {
                  "FifteenCycleMovAvg": 2.0068928207417245,
                  "_c0": "1786",
                  "unit": "rw3"
                },
                {
                  "FifteenCycleMovAvg": 2.0068887365173627,
                  "_c0": "1787",
                  "unit": "rw3"
                },
                {
                  "FifteenCycleMovAvg": 2.00688638200191,
                  "_c0": "1788",
                  "unit": "rw3"
                },
                {
                  "FifteenCycleMovAvg": 2.0068819771752304,
                  "_c0": "1789",
                  "unit": "rw3"
                },
                {
                  "FifteenCycleMovAvg": 2.0068921239196524,
                  "_c0": "179",
                  "unit": "rw3"
                },
                {
                  "FifteenCycleMovAvg": 2.0068739361081347,
                  "_c0": "1790",
                  "unit": "rw3"
                },
                {
                  "FifteenCycleMovAvg": 2.006849818430587,
                  "_c0": "1791",
                  "unit": "rw3"
                },
                {
                  "FifteenCycleMovAvg": 2.0068455588716825,
                  "_c0": "1792",
                  "unit": "rw3"
                },
                {
                  "FifteenCycleMovAvg": 2.006833175834795,
                  "_c0": "1793",
                  "unit": "rw3"
                },
                {
                  "FifteenCycleMovAvg": 2.006835056068298,
                  "_c0": "1794",
                  "unit": "rw3"
                },
                {
                  "FifteenCycleMovAvg": 2.006830536293107,
                  "_c0": "1795",
                  "unit": "rw3"
                },
                {
                  "FifteenCycleMovAvg": 2.0068277555416736,
                  "_c0": "1796",
                  "unit": "rw3"
                },
                {
                  "FifteenCycleMovAvg": 2.0068240742327212,
                  "_c0": "1797",
                  "unit": "rw3"
                },
                {
                  "FifteenCycleMovAvg": 2.0068177386481745,
                  "_c0": "1798",
                  "unit": "rw3"
                },
                {
                  "FifteenCycleMovAvg": 2.006815037194367,
                  "_c0": "1799",
                  "unit": "rw3"
                },
                {
                  "FifteenCycleMovAvg": 2.0068231702751915,
                  "_c0": "18",
                  "unit": "rw3"
                },
                {
                  "FifteenCycleMovAvg": 2.0068132661502553,
                  "_c0": "180",
                  "unit": "rw3"
                },
                {
                  "FifteenCycleMovAvg": 2.006801701690775,
                  "_c0": "1800",
                  "unit": "rw3"
                },
                {
                  "FifteenCycleMovAvg": 2.006801075249277,
                  "_c0": "1801",
                  "unit": "rw3"
                },
                {
                  "FifteenCycleMovAvg": 2.006796127758308,
                  "_c0": "1802",
                  "unit": "rw3"
                },
                {
                  "FifteenCycleMovAvg": 2.006789963733305,
                  "_c0": "1803",
                  "unit": "rw3"
                },
                {
                  "FifteenCycleMovAvg": 2.006787375879227,
                  "_c0": "1804",
                  "unit": "rw3"
                },
                {
                  "FifteenCycleMovAvg": 2.0067867554037777,
                  "_c0": "1805",
                  "unit": "rw3"
                },
                {
                  "FifteenCycleMovAvg": 2.0067702016304882,
                  "_c0": "1806",
                  "unit": "rw3"
                },
                {
                  "FifteenCycleMovAvg": 2.0067742491138336,
                  "_c0": "1807",
                  "unit": "rw3"
                },
                {
                  "FifteenCycleMovAvg": 2.006787220322168,
                  "_c0": "1808",
                  "unit": "rw3"
                },
                {
                  "FifteenCycleMovAvg": 2.0067941333193127,
                  "_c0": "1809",
                  "unit": "rw3"
                },
                {
                  "FifteenCycleMovAvg": 2.0068040903192688,
                  "_c0": "181",
                  "unit": "rw3"
                },
                {
                  "FifteenCycleMovAvg": 2.0067882242844393,
                  "_c0": "1810",
                  "unit": "rw3"
                },
                {
                  "FifteenCycleMovAvg": 2.00678914649344,
                  "_c0": "1811",
                  "unit": "rw3"
                },
                {
                  "FifteenCycleMovAvg": 2.0067854634843774,
                  "_c0": "1812",
                  "unit": "rw3"
                },
                {
                  "FifteenCycleMovAvg": 2.006785114923122,
                  "_c0": "1813",
                  "unit": "rw3"
                },
                {
                  "FifteenCycleMovAvg": 2.0067802804039307,
                  "_c0": "1814",
                  "unit": "rw3"
                },
                {
                  "FifteenCycleMovAvg": 2.006763939779654,
                  "_c0": "1815",
                  "unit": "rw3"
                },
                {
                  "FifteenCycleMovAvg": 2.006763006057151,
                  "_c0": "1816",
                  "unit": "rw3"
                },
                {
                  "FifteenCycleMovAvg": 2.006757482808489,
                  "_c0": "1817",
                  "unit": "rw3"
                },
                {
                  "FifteenCycleMovAvg": 2.0067578379412705,
                  "_c0": "1818",
                  "unit": "rw3"
                },
                {
                  "FifteenCycleMovAvg": 2.006751987648161,
                  "_c0": "1819",
                  "unit": "rw3"
                },
                {
                  "FifteenCycleMovAvg": 2.0067636770932333,
                  "_c0": "182",
                  "unit": "rw3"
                },
                {
                  "FifteenCycleMovAvg": 2.00675430036576,
                  "_c0": "1820",
                  "unit": "rw3"
                },
                {
                  "FifteenCycleMovAvg": 2.00676100767552,
                  "_c0": "1821",
                  "unit": "rw3"
                },
                {
                  "FifteenCycleMovAvg": 2.006754367859523,
                  "_c0": "1822",
                  "unit": "rw3"
                },
                {
                  "FifteenCycleMovAvg": 2.006744795419765,
                  "_c0": "1823",
                  "unit": "rw3"
                },
                {
                  "FifteenCycleMovAvg": 2.0067464331475584,
                  "_c0": "1824",
                  "unit": "rw3"
                },
                {
                  "FifteenCycleMovAvg": 2.0067441896432596,
                  "_c0": "1825",
                  "unit": "rw3"
                },
                {
                  "FifteenCycleMovAvg": 2.0067429906015355,
                  "_c0": "1826",
                  "unit": "rw3"
                },
                {
                  "FifteenCycleMovAvg": 2.0067310382807917,
                  "_c0": "1827",
                  "unit": "rw3"
                },
                {
                  "FifteenCycleMovAvg": 2.0067408307680585,
                  "_c0": "1828",
                  "unit": "rw3"
                },
                {
                  "FifteenCycleMovAvg": 2.006747098197131,
                  "_c0": "1829",
                  "unit": "rw3"
                },
                {
                  "FifteenCycleMovAvg": 2.0067608733819906,
                  "_c0": "183",
                  "unit": "rw3"
                },
                {
                  "FifteenCycleMovAvg": 2.00674959414909,
                  "_c0": "1830",
                  "unit": "rw3"
                },
                {
                  "FifteenCycleMovAvg": 2.006748408563441,
                  "_c0": "1831",
                  "unit": "rw3"
                },
                {
                  "FifteenCycleMovAvg": 2.0067535961049137,
                  "_c0": "1832",
                  "unit": "rw3"
                },
                {
                  "FifteenCycleMovAvg": 2.006752612193594,
                  "_c0": "1833",
                  "unit": "rw3"
                },
                {
                  "FifteenCycleMovAvg": 2.0067446872689874,
                  "_c0": "1834",
                  "unit": "rw3"
                },
                {
                  "FifteenCycleMovAvg": 2.006747062109407,
                  "_c0": "1835",
                  "unit": "rw3"
                },
                {
                  "FifteenCycleMovAvg": 2.0067461862973888,
                  "_c0": "1836",
                  "unit": "rw3"
                },
                {
                  "FifteenCycleMovAvg": 2.0067410673197976,
                  "_c0": "1837",
                  "unit": "rw3"
                },
                {
                  "FifteenCycleMovAvg": 2.0067472601547327,
                  "_c0": "1838",
                  "unit": "rw3"
                },
                {
                  "FifteenCycleMovAvg": 2.006742140178347,
                  "_c0": "1839",
                  "unit": "rw3"
                },
                {
                  "FifteenCycleMovAvg": 2.0067451210657845,
                  "_c0": "184",
                  "unit": "rw3"
                },
                {
                  "FifteenCycleMovAvg": 2.006728178764506,
                  "_c0": "1840",
                  "unit": "rw3"
                },
                {
                  "FifteenCycleMovAvg": 2.006724285635233,
                  "_c0": "1841",
                  "unit": "rw3"
                },
                {
                  "FifteenCycleMovAvg": 2.006721585612615,
                  "_c0": "1842",
                  "unit": "rw3"
                },
                {
                  "FifteenCycleMovAvg": 2.0067283299483947,
                  "_c0": "1843",
                  "unit": "rw3"
                },
                {
                  "FifteenCycleMovAvg": 2.006722532692789,
                  "_c0": "1844",
                  "unit": "rw3"
                },
                {
                  "FifteenCycleMovAvg": 2.0067157300865204,
                  "_c0": "1845",
                  "unit": "rw3"
                },
                {
                  "FifteenCycleMovAvg": 2.006714549116571,
                  "_c0": "1846",
                  "unit": "rw3"
                },
                {
                  "FifteenCycleMovAvg": 2.0067131948516277,
                  "_c0": "1847",
                  "unit": "rw3"
                },
                {
                  "FifteenCycleMovAvg": 2.0067108134550047,
                  "_c0": "1848",
                  "unit": "rw3"
                },
                {
                  "FifteenCycleMovAvg": 2.0067097010473263,
                  "_c0": "1849",
                  "unit": "rw3"
                },
                {
                  "FifteenCycleMovAvg": 2.0067171620100437,
                  "_c0": "185",
                  "unit": "rw3"
                },
                {
                  "FifteenCycleMovAvg": 2.0067056464743636,
                  "_c0": "1850",
                  "unit": "rw3"
                },
                {
                  "FifteenCycleMovAvg": 2.0066970436850786,
                  "_c0": "1851",
                  "unit": "rw3"
                },
                {
                  "FifteenCycleMovAvg": 2.006698997082826,
                  "_c0": "1852",
                  "unit": "rw3"
                },
                {
                  "FifteenCycleMovAvg": 2.0066902311722985,
                  "_c0": "1853",
                  "unit": "rw3"
                },
                {
                  "FifteenCycleMovAvg": 2.006700223186044,
                  "_c0": "1854",
                  "unit": "rw3"
                },
                {
                  "FifteenCycleMovAvg": 2.0066942778570693,
                  "_c0": "1855",
                  "unit": "rw3"
                },
                {
                  "FifteenCycleMovAvg": 2.0067028471846426,
                  "_c0": "1856",
                  "unit": "rw3"
                },
                {
                  "FifteenCycleMovAvg": 2.0067062369398863,
                  "_c0": "1857",
                  "unit": "rw3"
                },
                {
                  "FifteenCycleMovAvg": 2.0066987725173164,
                  "_c0": "1858",
                  "unit": "rw3"
                },
                {
                  "FifteenCycleMovAvg": 2.006692180553088,
                  "_c0": "1859",
                  "unit": "rw3"
                },
                {
                  "FifteenCycleMovAvg": 2.0067015961121686,
                  "_c0": "186",
                  "unit": "rw3"
                },
                {
                  "FifteenCycleMovAvg": 2.0066838448571573,
                  "_c0": "1860",
                  "unit": "rw3"
                },
                {
                  "FifteenCycleMovAvg": 2.006676451576155,
                  "_c0": "1861",
                  "unit": "rw3"
                },
                {
                  "FifteenCycleMovAvg": 2.0066761776778685,
                  "_c0": "1862",
                  "unit": "rw3"
                },
                {
                  "FifteenCycleMovAvg": 2.0066764913228186,
                  "_c0": "1863",
                  "unit": "rw3"
                },
                {
                  "FifteenCycleMovAvg": 2.006677062823452,
                  "_c0": "1864",
                  "unit": "rw3"
                },
                {
                  "FifteenCycleMovAvg": 2.0066700307216054,
                  "_c0": "1865",
                  "unit": "rw3"
                },
                {
                  "FifteenCycleMovAvg": 2.006662685799473,
                  "_c0": "1866",
                  "unit": "rw3"
                },
                {
                  "FifteenCycleMovAvg": 2.0066571620730134,
                  "_c0": "1867",
                  "unit": "rw3"
                },
                {
                  "FifteenCycleMovAvg": 2.006659983511658,
                  "_c0": "1868",
                  "unit": "rw3"
                },
                {
                  "FifteenCycleMovAvg": 2.006662887913364,
                  "_c0": "1869",
                  "unit": "rw3"
                },
                {
                  "FifteenCycleMovAvg": 2.006687191099292,
                  "_c0": "187",
                  "unit": "rw3"
                },
                {
                  "FifteenCycleMovAvg": 2.006679946288453,
                  "_c0": "1870",
                  "unit": "rw3"
                },
                {
                  "FifteenCycleMovAvg": 2.00667851522123,
                  "_c0": "1871",
                  "unit": "rw3"
                },
                {
                  "FifteenCycleMovAvg": 2.0066730602471323,
                  "_c0": "1872",
                  "unit": "rw3"
                },
                {
                  "FifteenCycleMovAvg": 2.006673157674508,
                  "_c0": "1873",
                  "unit": "rw3"
                },
                {
                  "FifteenCycleMovAvg": 2.00669095873704,
                  "_c0": "1874",
                  "unit": "rw3"
                },
                {
                  "FifteenCycleMovAvg": 2.006680756938519,
                  "_c0": "1875",
                  "unit": "rw3"
                },
                {
                  "FifteenCycleMovAvg": 2.0066931252008775,
                  "_c0": "1876",
                  "unit": "rw3"
                },
                {
                  "FifteenCycleMovAvg": 2.0066837958029993,
                  "_c0": "1877",
                  "unit": "rw3"
                },
                {
                  "FifteenCycleMovAvg": 2.006683733768111,
                  "_c0": "1878",
                  "unit": "rw3"
                },
                {
                  "FifteenCycleMovAvg": 2.0066900786129227,
                  "_c0": "1879",
                  "unit": "rw3"
                },
                {
                  "FifteenCycleMovAvg": 2.0067107250371725,
                  "_c0": "188",
                  "unit": "rw3"
                },
                {
                  "FifteenCycleMovAvg": 2.00669571830582,
                  "_c0": "1880",
                  "unit": "rw3"
                },
                {
                  "FifteenCycleMovAvg": 2.0066927274163073,
                  "_c0": "1881",
                  "unit": "rw3"
                },
                {
                  "FifteenCycleMovAvg": 2.006695686134687,
                  "_c0": "1882",
                  "unit": "rw3"
                },
                {
                  "FifteenCycleMovAvg": 2.006688140319096,
                  "_c0": "1883",
                  "unit": "rw3"
                },
                {
                  "FifteenCycleMovAvg": 2.006686356591878,
                  "_c0": "1884",
                  "unit": "rw3"
                },
                {
                  "FifteenCycleMovAvg": 2.0066844188757345,
                  "_c0": "1885",
                  "unit": "rw3"
                },
                {
                  "FifteenCycleMovAvg": 2.0066762928898405,
                  "_c0": "1886",
                  "unit": "rw3"
                },
                {
                  "FifteenCycleMovAvg": 2.0066787960538277,
                  "_c0": "1887",
                  "unit": "rw3"
                },
                {
                  "FifteenCycleMovAvg": 2.0066657943588213,
                  "_c0": "1888",
                  "unit": "rw3"
                },
                {
                  "FifteenCycleMovAvg": 2.0066579365658694,
                  "_c0": "1889",
                  "unit": "rw3"
                },
                {
                  "FifteenCycleMovAvg": 2.006649588947839,
                  "_c0": "189",
                  "unit": "rw3"
                },
                {
                  "FifteenCycleMovAvg": 2.0066405270663767,
                  "_c0": "1890",
                  "unit": "rw3"
                },
                {
                  "FifteenCycleMovAvg": 2.0066160556095887,
                  "_c0": "1891",
                  "unit": "rw3"
                },
                {
                  "FifteenCycleMovAvg": 2.006611806792728,
                  "_c0": "1892",
                  "unit": "rw3"
                },
                {
                  "FifteenCycleMovAvg": 2.006616922792607,
                  "_c0": "1893",
                  "unit": "rw3"
                },
                {
                  "FifteenCycleMovAvg": 2.0066163193166604,
                  "_c0": "1894",
                  "unit": "rw3"
                },
                {
                  "FifteenCycleMovAvg": 2.0066171227239256,
                  "_c0": "1895",
                  "unit": "rw3"
                },
                {
                  "FifteenCycleMovAvg": 2.0066149816545296,
                  "_c0": "1896",
                  "unit": "rw3"
                },
                {
                  "FifteenCycleMovAvg": 2.0066088690337556,
                  "_c0": "1897",
                  "unit": "rw3"
                },
                {
                  "FifteenCycleMovAvg": 2.006594397102482,
                  "_c0": "1898",
                  "unit": "rw3"
                },
                {
                  "FifteenCycleMovAvg": 2.0065931823306173,
                  "_c0": "1899",
                  "unit": "rw3"
                }
              ],
              "schema": {
                "FifteenCycleMovAvg": "double",
                "_c0": "string",
                "unit": "string"
              }
            }
          },
          "type": "Synapse.DataFrame"
        },
        "4fc57358-343e-4102-a55a-ff4160a37431": {
          "persist_state": {
            "view": {
              "chartOptions": {
                "aggregationType": "sum",
                "categoryFieldKeys": [
                  "unit"
                ],
                "chartType": "bar",
                "isStacked": false,
                "seriesFieldKeys": [
                  "avg_voltage"
                ]
              },
              "type": "details"
            }
          },
          "sync_state": {
            "isSummary": false,
            "language": "scala",
            "table": {
              "rows": [
                {
                  "avg_capacity": 2.0089689889090265,
                  "avg_current": -2.002,
                  "avg_temperature": 21.14174,
                  "avg_voltage": 3.397,
                  "datetime": "2020-01-01 00:00:00",
                  "min_cycle": "0",
                  "unit": "rw3"
                },
                {
                  "avg_capacity": 2.0077280988698982,
                  "avg_current": -2.001,
                  "avg_temperature": 21.14174,
                  "avg_voltage": 3.532,
                  "datetime": "2020-01-01 00:00:10",
                  "min_cycle": "1",
                  "unit": "rw3"
                },
                {
                  "avg_capacity": 2.00923327071335,
                  "avg_current": -2,
                  "avg_temperature": 21.12617,
                  "avg_voltage": 3.599,
                  "datetime": "2020-01-01 00:00:20",
                  "min_cycle": "2",
                  "unit": "rw3"
                },
                {
                  "avg_capacity": 2.0083031409624734,
                  "avg_current": -2,
                  "avg_temperature": 21.11059,
                  "avg_voltage": 3.652,
                  "datetime": "2020-01-01 00:00:30",
                  "min_cycle": "3",
                  "unit": "rw3"
                },
                {
                  "avg_capacity": 2.007206363621342,
                  "avg_current": -2,
                  "avg_temperature": 21.11059,
                  "avg_voltage": 3.696,
                  "datetime": "2020-01-01 00:00:40",
                  "min_cycle": "4",
                  "unit": "rw3"
                },
                {
                  "avg_capacity": 2.0102305218737784,
                  "avg_current": -2.001,
                  "avg_temperature": 21.09502,
                  "avg_voltage": 3.733,
                  "datetime": "2020-01-01 00:00:50",
                  "min_cycle": "5",
                  "unit": "rw3"
                },
                {
                  "avg_capacity": 2.0075109830672977,
                  "avg_current": -1.999,
                  "avg_temperature": 21.06387,
                  "avg_voltage": 3.765,
                  "datetime": "2020-01-01 00:01:00",
                  "min_cycle": "6",
                  "unit": "rw3"
                },
                {
                  "avg_capacity": 2.005594417381059,
                  "avg_current": -1.999,
                  "avg_temperature": 21.0483,
                  "avg_voltage": 3.794,
                  "datetime": "2020-01-01 00:01:10",
                  "min_cycle": "7",
                  "unit": "rw3"
                },
                {
                  "avg_capacity": 2.0096654829732166,
                  "avg_current": -2,
                  "avg_temperature": 21.0483,
                  "avg_voltage": 3.819,
                  "datetime": "2020-01-01 00:01:20",
                  "min_cycle": "8",
                  "unit": "rw3"
                },
                {
                  "avg_capacity": 2.0092471935012286,
                  "avg_current": -2,
                  "avg_temperature": 21.0483,
                  "avg_voltage": 3.841,
                  "datetime": "2020-01-01 00:01:30",
                  "min_cycle": "9",
                  "unit": "rw3"
                },
                {
                  "avg_capacity": 2.0090274591885535,
                  "avg_current": -2.001,
                  "avg_temperature": 21.03273,
                  "avg_voltage": 3.861,
                  "datetime": "2020-01-01 00:01:40",
                  "min_cycle": "10",
                  "unit": "rw3"
                },
                {
                  "avg_capacity": 2.009659373773398,
                  "avg_current": -2,
                  "avg_temperature": 21.01715,
                  "avg_voltage": 3.879,
                  "datetime": "2020-01-01 00:01:50",
                  "min_cycle": "11",
                  "unit": "rw3"
                },
                {
                  "avg_capacity": 2.01003429332592,
                  "avg_current": -2,
                  "avg_temperature": 21.01715,
                  "avg_voltage": 3.896,
                  "datetime": "2020-01-01 00:02:00",
                  "min_cycle": "12",
                  "unit": "rw3"
                },
                {
                  "avg_capacity": 2.008823291345315,
                  "avg_current": -2,
                  "avg_temperature": 21.00158,
                  "avg_voltage": 3.91,
                  "datetime": "2020-01-01 00:02:10",
                  "min_cycle": "13",
                  "unit": "rw3"
                },
                {
                  "avg_capacity": 2.009304811889896,
                  "avg_current": -2,
                  "avg_temperature": 20.98601,
                  "avg_voltage": 3.922,
                  "datetime": "2020-01-01 00:02:20",
                  "min_cycle": "14",
                  "unit": "rw3"
                },
                {
                  "avg_capacity": 2.008684312233572,
                  "avg_current": -2.001,
                  "avg_temperature": 20.98601,
                  "avg_voltage": 3.932,
                  "datetime": "2020-01-01 00:02:30",
                  "min_cycle": "15",
                  "unit": "rw3"
                },
                {
                  "avg_capacity": 2.0082729475342793,
                  "avg_current": -2,
                  "avg_temperature": 20.98601,
                  "avg_voltage": 3.939,
                  "datetime": "2020-01-01 00:02:40",
                  "min_cycle": "16",
                  "unit": "rw3"
                },
                {
                  "avg_capacity": 2.009204031094366,
                  "avg_current": -2,
                  "avg_temperature": 20.98601,
                  "avg_voltage": 3.944,
                  "datetime": "2020-01-01 00:02:50",
                  "min_cycle": "17",
                  "unit": "rw3"
                },
                {
                  "avg_capacity": 2.0075745566505807,
                  "avg_current": -2.001,
                  "avg_temperature": 20.98601,
                  "avg_voltage": 3.949,
                  "datetime": "2020-01-01 00:03:00",
                  "min_cycle": "18",
                  "unit": "rw3"
                },
                {
                  "avg_capacity": 2.0093861352273317,
                  "avg_current": -2,
                  "avg_temperature": 20.98601,
                  "avg_voltage": 3.951,
                  "datetime": "2020-01-01 00:03:10",
                  "min_cycle": "19",
                  "unit": "rw3"
                },
                {
                  "avg_capacity": 2.0087433266251744,
                  "avg_current": -2.001,
                  "avg_temperature": 21.00158,
                  "avg_voltage": 3.954,
                  "datetime": "2020-01-01 00:03:20",
                  "min_cycle": "20",
                  "unit": "rw3"
                },
                {
                  "avg_capacity": 2.009581430956176,
                  "avg_current": -2,
                  "avg_temperature": 21.00158,
                  "avg_voltage": 3.956,
                  "datetime": "2020-01-01 00:03:30",
                  "min_cycle": "21",
                  "unit": "rw3"
                },
                {
                  "avg_capacity": 2.009409626598543,
                  "avg_current": -2,
                  "avg_temperature": 21.01715,
                  "avg_voltage": 3.957,
                  "datetime": "2020-01-01 00:03:40",
                  "min_cycle": "22",
                  "unit": "rw3"
                },
                {
                  "avg_capacity": 2.0091672319336973,
                  "avg_current": -2,
                  "avg_temperature": 21.03273,
                  "avg_voltage": 3.958,
                  "datetime": "2020-01-01 00:03:50",
                  "min_cycle": "23",
                  "unit": "rw3"
                },
                {
                  "avg_capacity": 2.0083083633269148,
                  "avg_current": -2,
                  "avg_temperature": 21.0483,
                  "avg_voltage": 3.96,
                  "datetime": "2020-01-01 00:04:00",
                  "min_cycle": "24",
                  "unit": "rw3"
                },
                {
                  "avg_capacity": 2.0082064219272753,
                  "avg_current": -2,
                  "avg_temperature": 21.06387,
                  "avg_voltage": 3.961,
                  "datetime": "2020-01-01 00:04:10",
                  "min_cycle": "25",
                  "unit": "rw3"
                },
                {
                  "avg_capacity": 2.0103821522060894,
                  "avg_current": -2,
                  "avg_temperature": 21.06387,
                  "avg_voltage": 3.962,
                  "datetime": "2020-01-01 00:04:20",
                  "min_cycle": "26",
                  "unit": "rw3"
                },
                {
                  "avg_capacity": 2.0098238019458243,
                  "avg_current": -2,
                  "avg_temperature": 21.07945,
                  "avg_voltage": 3.964,
                  "datetime": "2020-01-01 00:04:30",
                  "min_cycle": "27",
                  "unit": "rw3"
                },
                {
                  "avg_capacity": 2.008388586154135,
                  "avg_current": -2,
                  "avg_temperature": 21.09502,
                  "avg_voltage": 3.966,
                  "datetime": "2020-01-01 00:04:40",
                  "min_cycle": "28",
                  "unit": "rw3"
                },
                {
                  "avg_capacity": 2.009367566409996,
                  "avg_current": -2,
                  "avg_temperature": 21.12617,
                  "avg_voltage": 3.967,
                  "datetime": "2020-01-01 00:04:50",
                  "min_cycle": "29",
                  "unit": "rw3"
                },
                {
                  "avg_capacity": 2.0093374012931635,
                  "avg_current": -2.001,
                  "avg_temperature": 21.14174,
                  "avg_voltage": 3.969,
                  "datetime": "2020-01-01 00:05:00",
                  "min_cycle": "30",
                  "unit": "rw3"
                },
                {
                  "avg_capacity": 2.008904542317287,
                  "avg_current": -2,
                  "avg_temperature": 21.17289,
                  "avg_voltage": 3.97,
                  "datetime": "2020-01-01 00:05:10",
                  "min_cycle": "31",
                  "unit": "rw3"
                },
                {
                  "avg_capacity": 2.009847626447976,
                  "avg_current": -2,
                  "avg_temperature": 21.18846,
                  "avg_voltage": 3.972,
                  "datetime": "2020-01-01 00:05:20",
                  "min_cycle": "32",
                  "unit": "rw3"
                },
                {
                  "avg_capacity": 2.009115150177046,
                  "avg_current": -2,
                  "avg_temperature": 21.2196,
                  "avg_voltage": 3.974,
                  "datetime": "2020-01-01 00:05:30",
                  "min_cycle": "33",
                  "unit": "rw3"
                },
                {
                  "avg_capacity": 2.0079190919455536,
                  "avg_current": -2,
                  "avg_temperature": 21.25075,
                  "avg_voltage": 3.976,
                  "datetime": "2020-01-01 00:05:40",
                  "min_cycle": "34",
                  "unit": "rw3"
                },
                {
                  "avg_capacity": 2.010420732940683,
                  "avg_current": -2.001,
                  "avg_temperature": 21.26632,
                  "avg_voltage": 3.977,
                  "datetime": "2020-01-01 00:05:50",
                  "min_cycle": "35",
                  "unit": "rw3"
                },
                {
                  "avg_capacity": 2.008900711924636,
                  "avg_current": -2,
                  "avg_temperature": 21.29747,
                  "avg_voltage": 3.979,
                  "datetime": "2020-01-01 00:06:00",
                  "min_cycle": "36",
                  "unit": "rw3"
                },
                {
                  "avg_capacity": 2.008405358112677,
                  "avg_current": -2.001,
                  "avg_temperature": 21.32862,
                  "avg_voltage": 3.981,
                  "datetime": "2020-01-01 00:06:10",
                  "min_cycle": "37",
                  "unit": "rw3"
                },
                {
                  "avg_capacity": 2.0074015339065614,
                  "avg_current": -2,
                  "avg_temperature": 21.34419,
                  "avg_voltage": 3.983,
                  "datetime": "2020-01-01 00:06:20",
                  "min_cycle": "38",
                  "unit": "rw3"
                },
                {
                  "avg_capacity": 2.00866731230637,
                  "avg_current": -2,
                  "avg_temperature": 21.35976,
                  "avg_voltage": 3.985,
                  "datetime": "2020-01-01 00:06:30",
                  "min_cycle": "39",
                  "unit": "rw3"
                },
                {
                  "avg_capacity": 2.008143164177454,
                  "avg_current": -2,
                  "avg_temperature": 21.39091,
                  "avg_voltage": 3.986,
                  "datetime": "2020-01-01 00:06:40",
                  "min_cycle": "40",
                  "unit": "rw3"
                },
                {
                  "avg_capacity": 2.009800148702982,
                  "avg_current": -2.001,
                  "avg_temperature": 21.40648,
                  "avg_voltage": 3.988,
                  "datetime": "2020-01-01 00:06:50",
                  "min_cycle": "41",
                  "unit": "rw3"
                },
                {
                  "avg_capacity": 2.0089298872836294,
                  "avg_current": -2,
                  "avg_temperature": 21.42206,
                  "avg_voltage": 3.99,
                  "datetime": "2020-01-01 00:07:00",
                  "min_cycle": "42",
                  "unit": "rw3"
                },
                {
                  "avg_capacity": 2.009556181171019,
                  "avg_current": -2,
                  "avg_temperature": 21.4532,
                  "avg_voltage": 3.992,
                  "datetime": "2020-01-01 00:07:10",
                  "min_cycle": "43",
                  "unit": "rw3"
                },
                {
                  "avg_capacity": 2.0089663092163828,
                  "avg_current": -2,
                  "avg_temperature": 21.46878,
                  "avg_voltage": 3.994,
                  "datetime": "2020-01-01 00:07:20",
                  "min_cycle": "44",
                  "unit": "rw3"
                },
                {
                  "avg_capacity": 2.007759241130372,
                  "avg_current": -2,
                  "avg_temperature": 21.48435,
                  "avg_voltage": 3.995,
                  "datetime": "2020-01-01 00:07:30",
                  "min_cycle": "45",
                  "unit": "rw3"
                },
                {
                  "avg_capacity": 2.009480297810429,
                  "avg_current": -2,
                  "avg_temperature": 21.53107,
                  "avg_voltage": 3.997,
                  "datetime": "2020-01-01 00:07:40",
                  "min_cycle": "46",
                  "unit": "rw3"
                },
                {
                  "avg_capacity": 2.008325122098887,
                  "avg_current": -2,
                  "avg_temperature": 21.54664,
                  "avg_voltage": 3.999,
                  "datetime": "2020-01-01 00:07:50",
                  "min_cycle": "47",
                  "unit": "rw3"
                },
                {
                  "avg_capacity": 2.0091015628989,
                  "avg_current": -2,
                  "avg_temperature": 21.56222,
                  "avg_voltage": 4.001,
                  "datetime": "2020-01-01 00:08:00",
                  "min_cycle": "48",
                  "unit": "rw3"
                },
                {
                  "avg_capacity": 2.007054964155876,
                  "avg_current": -2.001,
                  "avg_temperature": 21.56222,
                  "avg_voltage": 4.002,
                  "datetime": "2020-01-01 00:08:10",
                  "min_cycle": "49",
                  "unit": "rw3"
                },
                {
                  "avg_capacity": 2.008592745246782,
                  "avg_current": -2,
                  "avg_temperature": 21.57779,
                  "avg_voltage": 4.004,
                  "datetime": "2020-01-01 00:08:20",
                  "min_cycle": "50",
                  "unit": "rw3"
                },
                {
                  "avg_capacity": 2.0090405484749074,
                  "avg_current": -2,
                  "avg_temperature": 21.60894,
                  "avg_voltage": 4.006,
                  "datetime": "2020-01-01 00:08:30",
                  "min_cycle": "51",
                  "unit": "rw3"
                },
                {
                  "avg_capacity": 2.008906357460925,
                  "avg_current": -2,
                  "avg_temperature": 21.64008,
                  "avg_voltage": 4.007,
                  "datetime": "2020-01-01 00:08:40",
                  "min_cycle": "52",
                  "unit": "rw3"
                },
                {
                  "avg_capacity": 2.010348389111732,
                  "avg_current": -2,
                  "avg_temperature": 21.67123,
                  "avg_voltage": 4.009,
                  "datetime": "2020-01-01 00:08:50",
                  "min_cycle": "53",
                  "unit": "rw3"
                },
                {
                  "avg_capacity": 2.0080025211927435,
                  "avg_current": -2,
                  "avg_temperature": 21.67123,
                  "avg_voltage": 4.01,
                  "datetime": "2020-01-01 00:09:00",
                  "min_cycle": "54",
                  "unit": "rw3"
                },
                {
                  "avg_capacity": 2.007172504219802,
                  "avg_current": -1.999,
                  "avg_temperature": 21.67123,
                  "avg_voltage": 4.012,
                  "datetime": "2020-01-01 00:09:10",
                  "min_cycle": "55",
                  "unit": "rw3"
                },
                {
                  "avg_capacity": 2.009140351353155,
                  "avg_current": -2,
                  "avg_temperature": 21.6868,
                  "avg_voltage": 4.013,
                  "datetime": "2020-01-01 00:09:20",
                  "min_cycle": "56",
                  "unit": "rw3"
                },
                {
                  "avg_capacity": 2.007360773887633,
                  "avg_current": -2,
                  "avg_temperature": 21.71795,
                  "avg_voltage": 4.015,
                  "datetime": "2020-01-01 00:09:30",
                  "min_cycle": "57",
                  "unit": "rw3"
                },
                {
                  "avg_capacity": 2.0092071818991184,
                  "avg_current": -2,
                  "avg_temperature": 21.73352,
                  "avg_voltage": 4.016,
                  "datetime": "2020-01-01 00:09:40",
                  "min_cycle": "58",
                  "unit": "rw3"
                },
                {
                  "avg_capacity": 2.0095460963575342,
                  "avg_current": -2,
                  "avg_temperature": 21.76467,
                  "avg_voltage": 4.018,
                  "datetime": "2020-01-01 00:09:50",
                  "min_cycle": "59",
                  "unit": "rw3"
                },
                {
                  "avg_capacity": 2.0107726843022107,
                  "avg_current": -2,
                  "avg_temperature": 21.76467,
                  "avg_voltage": 4.019,
                  "datetime": "2020-01-01 00:10:00",
                  "min_cycle": "60",
                  "unit": "rw3"
                },
                {
                  "avg_capacity": 2.0089371741372086,
                  "avg_current": -2,
                  "avg_temperature": 21.79581,
                  "avg_voltage": 4.02,
                  "datetime": "2020-01-01 00:10:10",
                  "min_cycle": "61",
                  "unit": "rw3"
                },
                {
                  "avg_capacity": 2.0108269160349983,
                  "avg_current": -2,
                  "avg_temperature": 21.81139,
                  "avg_voltage": 4.022,
                  "datetime": "2020-01-01 00:10:20",
                  "min_cycle": "62",
                  "unit": "rw3"
                },
                {
                  "avg_capacity": 2.0074106242600904,
                  "avg_current": -2,
                  "avg_temperature": 21.82696,
                  "avg_voltage": 4.023,
                  "datetime": "2020-01-01 00:10:30",
                  "min_cycle": "63",
                  "unit": "rw3"
                },
                {
                  "avg_capacity": 2.0099422476152524,
                  "avg_current": -2,
                  "avg_temperature": 21.85811,
                  "avg_voltage": 4.024,
                  "datetime": "2020-01-01 00:10:40",
                  "min_cycle": "64",
                  "unit": "rw3"
                },
                {
                  "avg_capacity": 2.0096399114939323,
                  "avg_current": -2,
                  "avg_temperature": 21.87368,
                  "avg_voltage": 4.025,
                  "datetime": "2020-01-01 00:10:50",
                  "min_cycle": "65",
                  "unit": "rw3"
                },
                {
                  "avg_capacity": 2.009305471328589,
                  "avg_current": -2.001,
                  "avg_temperature": 21.88925,
                  "avg_voltage": 4.026,
                  "datetime": "2020-01-01 00:11:00",
                  "min_cycle": "66",
                  "unit": "rw3"
                },
                {
                  "avg_capacity": 2.00992996322018,
                  "avg_current": -2.001,
                  "avg_temperature": 21.90483,
                  "avg_voltage": 4.028,
                  "datetime": "2020-01-01 00:11:10",
                  "min_cycle": "67",
                  "unit": "rw3"
                },
                {
                  "avg_capacity": 2.009768130979678,
                  "avg_current": -2,
                  "avg_temperature": 21.93597,
                  "avg_voltage": 4.029,
                  "datetime": "2020-01-01 00:11:20",
                  "min_cycle": "68",
                  "unit": "rw3"
                },
                {
                  "avg_capacity": 2.0090831699637124,
                  "avg_current": -2,
                  "avg_temperature": 21.96712,
                  "avg_voltage": 4.03,
                  "datetime": "2020-01-01 00:11:30",
                  "min_cycle": "69",
                  "unit": "rw3"
                },
                {
                  "avg_capacity": 2.0074931246290775,
                  "avg_current": -2,
                  "avg_temperature": 21.98269,
                  "avg_voltage": 4.031,
                  "datetime": "2020-01-01 00:11:40",
                  "min_cycle": "70",
                  "unit": "rw3"
                },
                {
                  "avg_capacity": 2.007898095799738,
                  "avg_current": -2.001,
                  "avg_temperature": 22.01384,
                  "avg_voltage": 4.032,
                  "datetime": "2020-01-01 00:11:50",
                  "min_cycle": "71",
                  "unit": "rw3"
                },
                {
                  "avg_capacity": 2.008323147447593,
                  "avg_current": -2,
                  "avg_temperature": 22.02941,
                  "avg_voltage": 4.033,
                  "datetime": "2020-01-01 00:12:00",
                  "min_cycle": "72",
                  "unit": "rw3"
                },
                {
                  "avg_capacity": 2.009630657297611,
                  "avg_current": -2,
                  "avg_temperature": 22.04499,
                  "avg_voltage": 4.034,
                  "datetime": "2020-01-01 00:12:10",
                  "min_cycle": "73",
                  "unit": "rw3"
                },
                {
                  "avg_capacity": 2.0085494071062935,
                  "avg_current": -2,
                  "avg_temperature": 22.07613,
                  "avg_voltage": 4.035,
                  "datetime": "2020-01-01 00:12:20",
                  "min_cycle": "74",
                  "unit": "rw3"
                },
                {
                  "avg_capacity": 2.0078517287817106,
                  "avg_current": -1.999,
                  "avg_temperature": 22.09171,
                  "avg_voltage": 4.036,
                  "datetime": "2020-01-01 00:12:30",
                  "min_cycle": "75",
                  "unit": "rw3"
                },
                {
                  "avg_capacity": 2.0086206429542472,
                  "avg_current": -2.001,
                  "avg_temperature": 22.10728,
                  "avg_voltage": 4.036,
                  "datetime": "2020-01-01 00:12:40",
                  "min_cycle": "76",
                  "unit": "rw3"
                },
                {
                  "avg_capacity": 2.0090426138075017,
                  "avg_current": -2,
                  "avg_temperature": 22.12285,
                  "avg_voltage": 4.037,
                  "datetime": "2020-01-01 00:12:50",
                  "min_cycle": "77",
                  "unit": "rw3"
                },
                {
                  "avg_capacity": 2.0092846319031312,
                  "avg_current": -2.001,
                  "avg_temperature": 22.13843,
                  "avg_voltage": 4.038,
                  "datetime": "2020-01-01 00:13:00",
                  "min_cycle": "78",
                  "unit": "rw3"
                },
                {
                  "avg_capacity": 2.0096117532462743,
                  "avg_current": -2,
                  "avg_temperature": 22.154,
                  "avg_voltage": 4.039,
                  "datetime": "2020-01-01 00:13:10",
                  "min_cycle": "79",
                  "unit": "rw3"
                },
                {
                  "avg_capacity": 2.0100258671080993,
                  "avg_current": -2,
                  "avg_temperature": 22.18515,
                  "avg_voltage": 4.04,
                  "datetime": "2020-01-01 00:13:20",
                  "min_cycle": "80",
                  "unit": "rw3"
                },
                {
                  "avg_capacity": 2.0097439985304657,
                  "avg_current": -2,
                  "avg_temperature": 22.20072,
                  "avg_voltage": 4.041,
                  "datetime": "2020-01-01 00:13:30",
                  "min_cycle": "81",
                  "unit": "rw3"
                },
                {
                  "avg_capacity": 2.008311840183511,
                  "avg_current": -2,
                  "avg_temperature": 22.23187,
                  "avg_voltage": 4.042,
                  "datetime": "2020-01-01 00:13:40",
                  "min_cycle": "82",
                  "unit": "rw3"
                },
                {
                  "avg_capacity": 2.0083353892535856,
                  "avg_current": -2,
                  "avg_temperature": 22.24744,
                  "avg_voltage": 4.043,
                  "datetime": "2020-01-01 00:13:50",
                  "min_cycle": "83",
                  "unit": "rw3"
                },
                {
                  "avg_capacity": 2.0077374349806814,
                  "avg_current": -2.001,
                  "avg_temperature": 22.26301,
                  "avg_voltage": 4.043,
                  "datetime": "2020-01-01 00:14:00",
                  "min_cycle": "84",
                  "unit": "rw3"
                },
                {
                  "avg_capacity": 2.0089732642797267,
                  "avg_current": -2,
                  "avg_temperature": 22.27859,
                  "avg_voltage": 4.044,
                  "datetime": "2020-01-01 00:14:10",
                  "min_cycle": "85",
                  "unit": "rw3"
                },
                {
                  "avg_capacity": 2.010487082038428,
                  "avg_current": -1.999,
                  "avg_temperature": 22.30973,
                  "avg_voltage": 4.045,
                  "datetime": "2020-01-01 00:14:20",
                  "min_cycle": "86",
                  "unit": "rw3"
                },
                {
                  "avg_capacity": 2.0089618494332524,
                  "avg_current": -2,
                  "avg_temperature": 22.32531,
                  "avg_voltage": 4.046,
                  "datetime": "2020-01-01 00:14:30",
                  "min_cycle": "87",
                  "unit": "rw3"
                },
                {
                  "avg_capacity": 2.008708985189067,
                  "avg_current": -1.999,
                  "avg_temperature": 22.34088,
                  "avg_voltage": 4.046,
                  "datetime": "2020-01-01 00:14:40",
                  "min_cycle": "88",
                  "unit": "rw3"
                },
                {
                  "avg_capacity": 2.0099285896222203,
                  "avg_current": -2,
                  "avg_temperature": 22.35645,
                  "avg_voltage": 4.047,
                  "datetime": "2020-01-01 00:14:50",
                  "min_cycle": "89",
                  "unit": "rw3"
                },
                {
                  "avg_capacity": 2.0097230925749616,
                  "avg_current": -2,
                  "avg_temperature": 22.37202,
                  "avg_voltage": 4.048,
                  "datetime": "2020-01-01 00:15:00",
                  "min_cycle": "90",
                  "unit": "rw3"
                },
                {
                  "avg_capacity": 2.009342783920913,
                  "avg_current": -2,
                  "avg_temperature": 22.3876,
                  "avg_voltage": 4.049,
                  "datetime": "2020-01-01 00:15:10",
                  "min_cycle": "91",
                  "unit": "rw3"
                },
                {
                  "avg_capacity": 2.0078117323697673,
                  "avg_current": -2,
                  "avg_temperature": 22.40317,
                  "avg_voltage": 4.049,
                  "datetime": "2020-01-01 00:15:20",
                  "min_cycle": "92",
                  "unit": "rw3"
                },
                {
                  "avg_capacity": 2.0090429467685875,
                  "avg_current": -2,
                  "avg_temperature": 22.41874,
                  "avg_voltage": 4.05,
                  "datetime": "2020-01-01 00:15:30",
                  "min_cycle": "93",
                  "unit": "rw3"
                },
                {
                  "avg_capacity": 2.010108374418964,
                  "avg_current": -2,
                  "avg_temperature": 22.44989,
                  "avg_voltage": 4.051,
                  "datetime": "2020-01-01 00:15:40",
                  "min_cycle": "94",
                  "unit": "rw3"
                },
                {
                  "avg_capacity": 2.009349446575241,
                  "avg_current": -2,
                  "avg_temperature": 22.48104,
                  "avg_voltage": 4.052,
                  "datetime": "2020-01-01 00:15:50",
                  "min_cycle": "95",
                  "unit": "rw3"
                },
                {
                  "avg_capacity": 2.0095332785704265,
                  "avg_current": -2,
                  "avg_temperature": 22.49661,
                  "avg_voltage": 4.052,
                  "datetime": "2020-01-01 00:16:00",
                  "min_cycle": "96",
                  "unit": "rw3"
                },
                {
                  "avg_capacity": 2.008555204648467,
                  "avg_current": -2.001,
                  "avg_temperature": 22.51218,
                  "avg_voltage": 4.053,
                  "datetime": "2020-01-01 00:16:10",
                  "min_cycle": "97",
                  "unit": "rw3"
                },
                {
                  "avg_capacity": 2.006842895539325,
                  "avg_current": -2,
                  "avg_temperature": 22.52776,
                  "avg_voltage": 4.054,
                  "datetime": "2020-01-01 00:16:20",
                  "min_cycle": "98",
                  "unit": "rw3"
                },
                {
                  "avg_capacity": 2.0088897603964524,
                  "avg_current": -2,
                  "avg_temperature": 22.54333,
                  "avg_voltage": 4.055,
                  "datetime": "2020-01-01 00:16:30",
                  "min_cycle": "99",
                  "unit": "rw3"
                },
                {
                  "avg_capacity": 2.009159895360417,
                  "avg_current": -2,
                  "avg_temperature": 22.57448,
                  "avg_voltage": 4.055,
                  "datetime": "2020-01-01 00:16:40",
                  "min_cycle": "100",
                  "unit": "rw3"
                },
                {
                  "avg_capacity": 2.008277460713402,
                  "avg_current": -1.999,
                  "avg_temperature": 22.59005,
                  "avg_voltage": 4.056,
                  "datetime": "2020-01-01 00:16:50",
                  "min_cycle": "101",
                  "unit": "rw3"
                },
                {
                  "avg_capacity": 2.0084150825438227,
                  "avg_current": -2,
                  "avg_temperature": 22.60562,
                  "avg_voltage": 4.057,
                  "datetime": "2020-01-01 00:17:00",
                  "min_cycle": "102",
                  "unit": "rw3"
                },
                {
                  "avg_capacity": 2.0094405240381237,
                  "avg_current": -2,
                  "avg_temperature": 22.6212,
                  "avg_voltage": 4.058,
                  "datetime": "2020-01-01 00:17:10",
                  "min_cycle": "103",
                  "unit": "rw3"
                },
                {
                  "avg_capacity": 2.0099181597487172,
                  "avg_current": -2,
                  "avg_temperature": 22.63677,
                  "avg_voltage": 4.058,
                  "datetime": "2020-01-01 00:17:20",
                  "min_cycle": "104",
                  "unit": "rw3"
                },
                {
                  "avg_capacity": 2.0096068192425736,
                  "avg_current": -1.999,
                  "avg_temperature": 22.65234,
                  "avg_voltage": 4.059,
                  "datetime": "2020-01-01 00:17:30",
                  "min_cycle": "105",
                  "unit": "rw3"
                },
                {
                  "avg_capacity": 2.00970213621715,
                  "avg_current": -2,
                  "avg_temperature": 22.66792,
                  "avg_voltage": 4.06,
                  "datetime": "2020-01-01 00:17:40",
                  "min_cycle": "106",
                  "unit": "rw3"
                },
                {
                  "avg_capacity": 2.0075876822212053,
                  "avg_current": -2,
                  "avg_temperature": 22.68349,
                  "avg_voltage": 4.06,
                  "datetime": "2020-01-01 00:17:50",
                  "min_cycle": "107",
                  "unit": "rw3"
                },
                {
                  "avg_capacity": 2.0103318230072302,
                  "avg_current": -2,
                  "avg_temperature": 22.69906,
                  "avg_voltage": 4.061,
                  "datetime": "2020-01-01 00:18:00",
                  "min_cycle": "108",
                  "unit": "rw3"
                },
                {
                  "avg_capacity": 2.0072576943726124,
                  "avg_current": -2,
                  "avg_temperature": 22.73021,
                  "avg_voltage": 4.062,
                  "datetime": "2020-01-01 00:18:10",
                  "min_cycle": "109",
                  "unit": "rw3"
                },
                {
                  "avg_capacity": 2.0091921569767575,
                  "avg_current": -2,
                  "avg_temperature": 22.73021,
                  "avg_voltage": 4.062,
                  "datetime": "2020-01-01 00:18:20",
                  "min_cycle": "110",
                  "unit": "rw3"
                },
                {
                  "avg_capacity": 2.00907657568236,
                  "avg_current": -2,
                  "avg_temperature": 22.76135,
                  "avg_voltage": 4.063,
                  "datetime": "2020-01-01 00:18:30",
                  "min_cycle": "111",
                  "unit": "rw3"
                },
                {
                  "avg_capacity": 2.0094924576258943,
                  "avg_current": -2,
                  "avg_temperature": 22.76135,
                  "avg_voltage": 4.064,
                  "datetime": "2020-01-01 00:18:40",
                  "min_cycle": "112",
                  "unit": "rw3"
                },
                {
                  "avg_capacity": 2.0097028993004877,
                  "avg_current": -2,
                  "avg_temperature": 22.77693,
                  "avg_voltage": 4.065,
                  "datetime": "2020-01-01 00:18:50",
                  "min_cycle": "113",
                  "unit": "rw3"
                },
                {
                  "avg_capacity": 2.0104644162646896,
                  "avg_current": -1.999,
                  "avg_temperature": 22.7925,
                  "avg_voltage": 4.065,
                  "datetime": "2020-01-01 00:19:00",
                  "min_cycle": "114",
                  "unit": "rw3"
                },
                {
                  "avg_capacity": 2.0102340792225037,
                  "avg_current": -2,
                  "avg_temperature": 22.7925,
                  "avg_voltage": 4.066,
                  "datetime": "2020-01-01 00:19:10",
                  "min_cycle": "115",
                  "unit": "rw3"
                },
                {
                  "avg_capacity": 2.009018818287047,
                  "avg_current": -2,
                  "avg_temperature": 22.80807,
                  "avg_voltage": 4.067,
                  "datetime": "2020-01-01 00:19:20",
                  "min_cycle": "116",
                  "unit": "rw3"
                },
                {
                  "avg_capacity": 2.0109821618319548,
                  "avg_current": -2,
                  "avg_temperature": 22.82365,
                  "avg_voltage": 4.068,
                  "datetime": "2020-01-01 00:19:30",
                  "min_cycle": "117",
                  "unit": "rw3"
                },
                {
                  "avg_capacity": 2.009599562519336,
                  "avg_current": -2,
                  "avg_temperature": 22.82365,
                  "avg_voltage": 4.068,
                  "datetime": "2020-01-01 00:19:40",
                  "min_cycle": "118",
                  "unit": "rw3"
                },
                {
                  "avg_capacity": 2.010085025948761,
                  "avg_current": -2,
                  "avg_temperature": 22.8548,
                  "avg_voltage": 4.069,
                  "datetime": "2020-01-01 00:19:50",
                  "min_cycle": "119",
                  "unit": "rw3"
                },
                {
                  "avg_capacity": 2.0094925927496097,
                  "avg_current": -2,
                  "avg_temperature": 22.87037,
                  "avg_voltage": 4.07,
                  "datetime": "2020-01-01 00:20:00",
                  "min_cycle": "120",
                  "unit": "rw3"
                },
                {
                  "avg_capacity": 2.007943143929028,
                  "avg_current": -2,
                  "avg_temperature": 22.88594,
                  "avg_voltage": 4.071,
                  "datetime": "2020-01-01 00:20:10",
                  "min_cycle": "121",
                  "unit": "rw3"
                },
                {
                  "avg_capacity": 2.0091347371205837,
                  "avg_current": -2,
                  "avg_temperature": 22.91709,
                  "avg_voltage": 4.071,
                  "datetime": "2020-01-01 00:20:20",
                  "min_cycle": "122",
                  "unit": "rw3"
                },
                {
                  "avg_capacity": 2.0104378480560157,
                  "avg_current": -2,
                  "avg_temperature": 22.93266,
                  "avg_voltage": 4.072,
                  "datetime": "2020-01-01 00:20:30",
                  "min_cycle": "123",
                  "unit": "rw3"
                },
                {
                  "avg_capacity": 2.0115630233295567,
                  "avg_current": -2,
                  "avg_temperature": 22.94823,
                  "avg_voltage": 4.073,
                  "datetime": "2020-01-01 00:20:40",
                  "min_cycle": "124",
                  "unit": "rw3"
                },
                {
                  "avg_capacity": 2.008083179348027,
                  "avg_current": -2,
                  "avg_temperature": 22.97938,
                  "avg_voltage": 4.074,
                  "datetime": "2020-01-01 00:20:50",
                  "min_cycle": "125",
                  "unit": "rw3"
                },
                {
                  "avg_capacity": 2.0079285432920946,
                  "avg_current": -1.999,
                  "avg_temperature": 22.97938,
                  "avg_voltage": 4.074,
                  "datetime": "2020-01-01 00:21:00",
                  "min_cycle": "126",
                  "unit": "rw3"
                },
                {
                  "avg_capacity": 2.0079530593260064,
                  "avg_current": -2,
                  "avg_temperature": 22.99495,
                  "avg_voltage": 4.075,
                  "datetime": "2020-01-01 00:21:10",
                  "min_cycle": "127",
                  "unit": "rw3"
                },
                {
                  "avg_capacity": 2.008863504624939,
                  "avg_current": -2,
                  "avg_temperature": 23.01053,
                  "avg_voltage": 4.076,
                  "datetime": "2020-01-01 00:21:20",
                  "min_cycle": "128",
                  "unit": "rw3"
                },
                {
                  "avg_capacity": 2.0093077402816286,
                  "avg_current": -2,
                  "avg_temperature": 23.0261,
                  "avg_voltage": 4.077,
                  "datetime": "2020-01-01 00:21:30",
                  "min_cycle": "129",
                  "unit": "rw3"
                },
                {
                  "avg_capacity": 2.009578603515456,
                  "avg_current": -2,
                  "avg_temperature": 23.04167,
                  "avg_voltage": 4.078,
                  "datetime": "2020-01-01 00:21:40",
                  "min_cycle": "130",
                  "unit": "rw3"
                },
                {
                  "avg_capacity": 2.0093085161784456,
                  "avg_current": -2,
                  "avg_temperature": 23.07282,
                  "avg_voltage": 4.078,
                  "datetime": "2020-01-01 00:21:50",
                  "min_cycle": "131",
                  "unit": "rw3"
                },
                {
                  "avg_capacity": 2.0081883503585445,
                  "avg_current": -2,
                  "avg_temperature": 23.08839,
                  "avg_voltage": 4.079,
                  "datetime": "2020-01-01 00:22:00",
                  "min_cycle": "132",
                  "unit": "rw3"
                },
                {
                  "avg_capacity": 2.010095496704848,
                  "avg_current": -2,
                  "avg_temperature": 23.08839,
                  "avg_voltage": 4.08,
                  "datetime": "2020-01-01 00:22:10",
                  "min_cycle": "133",
                  "unit": "rw3"
                },
                {
                  "avg_capacity": 2.0068392432139786,
                  "avg_current": -2,
                  "avg_temperature": 23.11954,
                  "avg_voltage": 4.081,
                  "datetime": "2020-01-01 00:22:20",
                  "min_cycle": "134",
                  "unit": "rw3"
                },
                {
                  "avg_capacity": 2.0099707390517016,
                  "avg_current": -2,
                  "avg_temperature": 23.13511,
                  "avg_voltage": 4.081,
                  "datetime": "2020-01-01 00:22:30",
                  "min_cycle": "135",
                  "unit": "rw3"
                },
                {
                  "avg_capacity": 2.010446028731373,
                  "avg_current": -2,
                  "avg_temperature": 23.16626,
                  "avg_voltage": 4.082,
                  "datetime": "2020-01-01 00:22:40",
                  "min_cycle": "136",
                  "unit": "rw3"
                },
                {
                  "avg_capacity": 2.0089538906083826,
                  "avg_current": -2,
                  "avg_temperature": 23.16626,
                  "avg_voltage": 4.083,
                  "datetime": "2020-01-01 00:22:50",
                  "min_cycle": "137",
                  "unit": "rw3"
                },
                {
                  "avg_capacity": 2.0095551736086246,
                  "avg_current": -2,
                  "avg_temperature": 23.19741,
                  "avg_voltage": 4.084,
                  "datetime": "2020-01-01 00:23:00",
                  "min_cycle": "138",
                  "unit": "rw3"
                },
                {
                  "avg_capacity": 2.0087418256178453,
                  "avg_current": -2,
                  "avg_temperature": 23.21298,
                  "avg_voltage": 4.085,
                  "datetime": "2020-01-01 00:23:10",
                  "min_cycle": "139",
                  "unit": "rw3"
                },
                {
                  "avg_capacity": 2.007700946163089,
                  "avg_current": -2,
                  "avg_temperature": 23.22855,
                  "avg_voltage": 4.085,
                  "datetime": "2020-01-01 00:23:20",
                  "min_cycle": "140",
                  "unit": "rw3"
                },
                {
                  "avg_capacity": 2.0082836764525185,
                  "avg_current": -1.999,
                  "avg_temperature": 23.24413,
                  "avg_voltage": 4.086,
                  "datetime": "2020-01-01 00:23:30",
                  "min_cycle": "141",
                  "unit": "rw3"
                },
                {
                  "avg_capacity": 2.010237220553825,
                  "avg_current": -2,
                  "avg_temperature": 23.27527,
                  "avg_voltage": 4.087,
                  "datetime": "2020-01-01 00:23:40",
                  "min_cycle": "142",
                  "unit": "rw3"
                },
                {
                  "avg_capacity": 2.0081371174726192,
                  "avg_current": -2,
                  "avg_temperature": 23.29085,
                  "avg_voltage": 4.088,
                  "datetime": "2020-01-01 00:23:50",
                  "min_cycle": "143",
                  "unit": "rw3"
                },
                {
                  "avg_capacity": 2.0104196221750965,
                  "avg_current": -2,
                  "avg_temperature": 23.30642,
                  "avg_voltage": 4.089,
                  "datetime": "2020-01-01 00:24:00",
                  "min_cycle": "144",
                  "unit": "rw3"
                },
                {
                  "avg_capacity": 2.011829565176468,
                  "avg_current": -2,
                  "avg_temperature": 23.32199,
                  "avg_voltage": 4.09,
                  "datetime": "2020-01-01 00:24:10",
                  "min_cycle": "145",
                  "unit": "rw3"
                },
                {
                  "avg_capacity": 2.0085716582906383,
                  "avg_current": -2,
                  "avg_temperature": 23.33757,
                  "avg_voltage": 4.09,
                  "datetime": "2020-01-01 00:24:20",
                  "min_cycle": "146",
                  "unit": "rw3"
                },
                {
                  "avg_capacity": 2.0094336595254116,
                  "avg_current": -2,
                  "avg_temperature": 23.33757,
                  "avg_voltage": 4.091,
                  "datetime": "2020-01-01 00:24:30",
                  "min_cycle": "147",
                  "unit": "rw3"
                },
                {
                  "avg_capacity": 2.008918676309511,
                  "avg_current": -2,
                  "avg_temperature": 23.35314,
                  "avg_voltage": 4.092,
                  "datetime": "2020-01-01 00:24:40",
                  "min_cycle": "148",
                  "unit": "rw3"
                },
                {
                  "avg_capacity": 2.007101204855617,
                  "avg_current": -2,
                  "avg_temperature": 23.38428,
                  "avg_voltage": 4.093,
                  "datetime": "2020-01-01 00:24:50",
                  "min_cycle": "149",
                  "unit": "rw3"
                },
                {
                  "avg_capacity": 2.0081188797373835,
                  "avg_current": -2,
                  "avg_temperature": 23.38428,
                  "avg_voltage": 4.094,
                  "datetime": "2020-01-01 00:25:00",
                  "min_cycle": "150",
                  "unit": "rw3"
                },
                {
                  "avg_capacity": 2.009170031983728,
                  "avg_current": -2,
                  "avg_temperature": 23.38428,
                  "avg_voltage": 4.095,
                  "datetime": "2020-01-01 00:25:10",
                  "min_cycle": "151",
                  "unit": "rw3"
                },
                {
                  "avg_capacity": 2.009709043770783,
                  "avg_current": -2,
                  "avg_temperature": 23.41543,
                  "avg_voltage": 4.095,
                  "datetime": "2020-01-01 00:25:20",
                  "min_cycle": "152",
                  "unit": "rw3"
                },
                {
                  "avg_capacity": 2.0075278310731575,
                  "avg_current": -2,
                  "avg_temperature": 23.41543,
                  "avg_voltage": 4.096,
                  "datetime": "2020-01-01 00:25:30",
                  "min_cycle": "153",
                  "unit": "rw3"
                },
                {
                  "avg_capacity": 2.0098610598634656,
                  "avg_current": -2,
                  "avg_temperature": 23.43101,
                  "avg_voltage": 4.097,
                  "datetime": "2020-01-01 00:25:40",
                  "min_cycle": "154",
                  "unit": "rw3"
                },
                {
                  "avg_capacity": 2.0079618402791715,
                  "avg_current": -2,
                  "avg_temperature": 23.44658,
                  "avg_voltage": 4.098,
                  "datetime": "2020-01-01 00:25:50",
                  "min_cycle": "155",
                  "unit": "rw3"
                },
                {
                  "avg_capacity": 2.007783422346907,
                  "avg_current": -2,
                  "avg_temperature": 23.44658,
                  "avg_voltage": 4.099,
                  "datetime": "2020-01-01 00:26:00",
                  "min_cycle": "156",
                  "unit": "rw3"
                },
                {
                  "avg_capacity": 2.0090738360695033,
                  "avg_current": -2,
                  "avg_temperature": 23.44658,
                  "avg_voltage": 4.1,
                  "datetime": "2020-01-01 00:26:10",
                  "min_cycle": "157",
                  "unit": "rw3"
                },
                {
                  "avg_capacity": 2.007978911731617,
                  "avg_current": -2,
                  "avg_temperature": 23.44658,
                  "avg_voltage": 4.101,
                  "datetime": "2020-01-01 00:26:20",
                  "min_cycle": "158",
                  "unit": "rw3"
                },
                {
                  "avg_capacity": 2.008596109045541,
                  "avg_current": -2,
                  "avg_temperature": 23.46215,
                  "avg_voltage": 4.102,
                  "datetime": "2020-01-01 00:26:30",
                  "min_cycle": "159",
                  "unit": "rw3"
                },
                {
                  "avg_capacity": 2.0107700365226537,
                  "avg_current": -2.001,
                  "avg_temperature": 23.47773,
                  "avg_voltage": 4.102,
                  "datetime": "2020-01-01 00:26:40",
                  "min_cycle": "160",
                  "unit": "rw3"
                },
                {
                  "avg_capacity": 2.010759725337865,
                  "avg_current": -2,
                  "avg_temperature": 23.4933,
                  "avg_voltage": 4.103,
                  "datetime": "2020-01-01 00:26:50",
                  "min_cycle": "161",
                  "unit": "rw3"
                },
                {
                  "avg_capacity": 2.008578587050852,
                  "avg_current": -2,
                  "avg_temperature": 23.52444,
                  "avg_voltage": 4.104,
                  "datetime": "2020-01-01 00:27:00",
                  "min_cycle": "162",
                  "unit": "rw3"
                },
                {
                  "avg_capacity": 2.0095444148894726,
                  "avg_current": -2,
                  "avg_temperature": 23.52444,
                  "avg_voltage": 4.105,
                  "datetime": "2020-01-01 00:27:10",
                  "min_cycle": "163",
                  "unit": "rw3"
                },
                {
                  "avg_capacity": 2.0109146053424345,
                  "avg_current": -2,
                  "avg_temperature": 23.54002,
                  "avg_voltage": 4.106,
                  "datetime": "2020-01-01 00:27:20",
                  "min_cycle": "164",
                  "unit": "rw3"
                },
                {
                  "avg_capacity": 2.008799989955072,
                  "avg_current": -2,
                  "avg_temperature": 23.52444,
                  "avg_voltage": 4.107,
                  "datetime": "2020-01-01 00:27:30",
                  "min_cycle": "165",
                  "unit": "rw3"
                },
                {
                  "avg_capacity": 2.009927216248718,
                  "avg_current": -2,
                  "avg_temperature": 23.55559,
                  "avg_voltage": 4.108,
                  "datetime": "2020-01-01 00:27:40",
                  "min_cycle": "166",
                  "unit": "rw3"
                },
                {
                  "avg_capacity": 2.009705751669787,
                  "avg_current": -2,
                  "avg_temperature": 23.57116,
                  "avg_voltage": 4.109,
                  "datetime": "2020-01-01 00:27:50",
                  "min_cycle": "167",
                  "unit": "rw3"
                },
                {
                  "avg_capacity": 2.0100128669593484,
                  "avg_current": -2,
                  "avg_temperature": 23.58674,
                  "avg_voltage": 4.11,
                  "datetime": "2020-01-01 00:28:00",
                  "min_cycle": "168",
                  "unit": "rw3"
                },
                {
                  "avg_capacity": 2.009993372267192,
                  "avg_current": -1.999,
                  "avg_temperature": 23.58674,
                  "avg_voltage": 4.111,
                  "datetime": "2020-01-01 00:28:10",
                  "min_cycle": "169",
                  "unit": "rw3"
                },
                {
                  "avg_capacity": 2.0094286723347317,
                  "avg_current": -2.001,
                  "avg_temperature": 23.61788,
                  "avg_voltage": 4.112,
                  "datetime": "2020-01-01 00:28:20",
                  "min_cycle": "170",
                  "unit": "rw3"
                },
                {
                  "avg_capacity": 2.010015409649476,
                  "avg_current": -2,
                  "avg_temperature": 23.61788,
                  "avg_voltage": 4.113,
                  "datetime": "2020-01-01 00:28:30",
                  "min_cycle": "171",
                  "unit": "rw3"
                },
                {
                  "avg_capacity": 2.0088076990488135,
                  "avg_current": -2,
                  "avg_temperature": 23.63346,
                  "avg_voltage": 4.114,
                  "datetime": "2020-01-01 00:28:40",
                  "min_cycle": "172",
                  "unit": "rw3"
                },
                {
                  "avg_capacity": 2.0073624671919466,
                  "avg_current": -2,
                  "avg_temperature": 23.6646,
                  "avg_voltage": 4.115,
                  "datetime": "2020-01-01 00:28:50",
                  "min_cycle": "173",
                  "unit": "rw3"
                },
                {
                  "avg_capacity": 2.0096798360352666,
                  "avg_current": -1.999,
                  "avg_temperature": 23.69575,
                  "avg_voltage": 4.116,
                  "datetime": "2020-01-01 00:29:00",
                  "min_cycle": "174",
                  "unit": "rw3"
                },
                {
                  "avg_capacity": 2.0093866208829487,
                  "avg_current": -2,
                  "avg_temperature": 23.69575,
                  "avg_voltage": 4.117,
                  "datetime": "2020-01-01 00:29:10",
                  "min_cycle": "175",
                  "unit": "rw3"
                },
                {
                  "avg_capacity": 2.0080107069930233,
                  "avg_current": -2,
                  "avg_temperature": 23.7269,
                  "avg_voltage": 4.118,
                  "datetime": "2020-01-01 00:29:20",
                  "min_cycle": "176",
                  "unit": "rw3"
                },
                {
                  "avg_capacity": 2.0093889205428677,
                  "avg_current": -2,
                  "avg_temperature": 23.74247,
                  "avg_voltage": 4.119,
                  "datetime": "2020-01-01 00:29:30",
                  "min_cycle": "177",
                  "unit": "rw3"
                },
                {
                  "avg_capacity": 2.0074322182662026,
                  "avg_current": -2,
                  "avg_temperature": 23.75804,
                  "avg_voltage": 4.12,
                  "datetime": "2020-01-01 00:29:40",
                  "min_cycle": "178",
                  "unit": "rw3"
                },
                {
                  "avg_capacity": 2.009242317927237,
                  "avg_current": -2,
                  "avg_temperature": 23.80476,
                  "avg_voltage": 4.121,
                  "datetime": "2020-01-01 00:29:50",
                  "min_cycle": "179",
                  "unit": "rw3"
                },
                {
                  "avg_capacity": 2.010431917181745,
                  "avg_current": -2,
                  "avg_temperature": 23.82034,
                  "avg_voltage": 4.122,
                  "datetime": "2020-01-01 00:30:00",
                  "min_cycle": "180",
                  "unit": "rw3"
                },
                {
                  "avg_capacity": 2.0072935458327468,
                  "avg_current": -2,
                  "avg_temperature": 23.83591,
                  "avg_voltage": 4.123,
                  "datetime": "2020-01-01 00:30:10",
                  "min_cycle": "181",
                  "unit": "rw3"
                },
                {
                  "avg_capacity": 2.008681466151064,
                  "avg_current": -1.999,
                  "avg_temperature": 23.86706,
                  "avg_voltage": 4.124,
                  "datetime": "2020-01-01 00:30:20",
                  "min_cycle": "182",
                  "unit": "rw3"
                },
                {
                  "avg_capacity": 2.0066904866576496,
                  "avg_current": -2.001,
                  "avg_temperature": 23.88263,
                  "avg_voltage": 4.126,
                  "datetime": "2020-01-01 00:30:30",
                  "min_cycle": "183",
                  "unit": "rw3"
                },
                {
                  "avg_capacity": 2.008334524493596,
                  "avg_current": -2,
                  "avg_temperature": 23.8982,
                  "avg_voltage": 4.127,
                  "datetime": "2020-01-01 00:30:40",
                  "min_cycle": "184",
                  "unit": "rw3"
                },
                {
                  "avg_capacity": 2.0094095186179275,
                  "avg_current": -2,
                  "avg_temperature": 23.91377,
                  "avg_voltage": 4.128,
                  "datetime": "2020-01-01 00:30:50",
                  "min_cycle": "185",
                  "unit": "rw3"
                },
                {
                  "avg_capacity": 2.0068442272616194,
                  "avg_current": -2,
                  "avg_temperature": 23.92935,
                  "avg_voltage": 4.129,
                  "datetime": "2020-01-01 00:31:00",
                  "min_cycle": "186",
                  "unit": "rw3"
                },
                {
                  "avg_capacity": 2.0074185534275615,
                  "avg_current": -2,
                  "avg_temperature": 23.96049,
                  "avg_voltage": 4.13,
                  "datetime": "2020-01-01 00:31:10",
                  "min_cycle": "187",
                  "unit": "rw3"
                },
                {
                  "avg_capacity": 2.008758712467414,
                  "avg_current": -2.001,
                  "avg_temperature": 23.96049,
                  "avg_voltage": 4.131,
                  "datetime": "2020-01-01 00:31:20",
                  "min_cycle": "188",
                  "unit": "rw3"
                },
                {
                  "avg_capacity": 2.0079804575410103,
                  "avg_current": -1.999,
                  "avg_temperature": 23.99164,
                  "avg_voltage": 4.132,
                  "datetime": "2020-01-01 00:31:30",
                  "min_cycle": "189",
                  "unit": "rw3"
                },
                {
                  "avg_capacity": 2.0098032292923795,
                  "avg_current": -2,
                  "avg_temperature": 24.02279,
                  "avg_voltage": 4.133,
                  "datetime": "2020-01-01 00:31:40",
                  "min_cycle": "190",
                  "unit": "rw3"
                },
                {
                  "avg_capacity": 2.0079935336610517,
                  "avg_current": -2,
                  "avg_temperature": 24.03836,
                  "avg_voltage": 4.134,
                  "datetime": "2020-01-01 00:31:50",
                  "min_cycle": "191",
                  "unit": "rw3"
                },
                {
                  "avg_capacity": 2.010810444775665,
                  "avg_current": -2,
                  "avg_temperature": 24.06951,
                  "avg_voltage": 4.136,
                  "datetime": "2020-01-01 00:32:00",
                  "min_cycle": "192",
                  "unit": "rw3"
                },
                {
                  "avg_capacity": 2.006304329094707,
                  "avg_current": -1.999,
                  "avg_temperature": 24.10065,
                  "avg_voltage": 4.137,
                  "datetime": "2020-01-01 00:32:10",
                  "min_cycle": "193",
                  "unit": "rw3"
                },
                {
                  "avg_capacity": 2.008735325808277,
                  "avg_current": -2,
                  "avg_temperature": 24.11623,
                  "avg_voltage": 4.138,
                  "datetime": "2020-01-01 00:32:20",
                  "min_cycle": "194",
                  "unit": "rw3"
                },
                {
                  "avg_capacity": 2.0102836449989434,
                  "avg_current": -2.001,
                  "avg_temperature": 24.1318,
                  "avg_voltage": 4.139,
                  "datetime": "2020-01-01 00:32:30",
                  "min_cycle": "195",
                  "unit": "rw3"
                },
                {
                  "avg_capacity": 2.0098165097509533,
                  "avg_current": -2,
                  "avg_temperature": 24.1318,
                  "avg_voltage": 4.14,
                  "datetime": "2020-01-01 00:32:40",
                  "min_cycle": "196",
                  "unit": "rw3"
                },
                {
                  "avg_capacity": 2.009411956943488,
                  "avg_current": -2,
                  "avg_temperature": 24.14737,
                  "avg_voltage": 4.141,
                  "datetime": "2020-01-01 00:32:50",
                  "min_cycle": "197",
                  "unit": "rw3"
                },
                {
                  "avg_capacity": 2.0061017081329915,
                  "avg_current": -1.999,
                  "avg_temperature": 24.17852,
                  "avg_voltage": 4.143,
                  "datetime": "2020-01-01 00:33:00",
                  "min_cycle": "198",
                  "unit": "rw3"
                },
                {
                  "avg_capacity": 2.009715947899768,
                  "avg_current": -2,
                  "avg_temperature": 24.19409,
                  "avg_voltage": 4.144,
                  "datetime": "2020-01-01 00:33:10",
                  "min_cycle": "199",
                  "unit": "rw3"
                },
                {
                  "avg_capacity": 2.0075541264070376,
                  "avg_current": -2,
                  "avg_temperature": 24.19409,
                  "avg_voltage": 4.145,
                  "datetime": "2020-01-01 00:33:20",
                  "min_cycle": "200",
                  "unit": "rw3"
                },
                {
                  "avg_capacity": 2.0070473948406398,
                  "avg_current": -2,
                  "avg_temperature": 24.22524,
                  "avg_voltage": 4.146,
                  "datetime": "2020-01-01 00:33:30",
                  "min_cycle": "201",
                  "unit": "rw3"
                },
                {
                  "avg_capacity": 2.0081890101728788,
                  "avg_current": -2.001,
                  "avg_temperature": 24.20967,
                  "avg_voltage": 4.148,
                  "datetime": "2020-01-01 00:33:40",
                  "min_cycle": "202",
                  "unit": "rw3"
                },
                {
                  "avg_capacity": 2.0083628439647376,
                  "avg_current": -2,
                  "avg_temperature": 24.22524,
                  "avg_voltage": 4.149,
                  "datetime": "2020-01-01 00:33:50",
                  "min_cycle": "203",
                  "unit": "rw3"
                },
                {
                  "avg_capacity": 2.0089716810224756,
                  "avg_current": -2.001,
                  "avg_temperature": 24.22524,
                  "avg_voltage": 4.15,
                  "datetime": "2020-01-01 00:34:00",
                  "min_cycle": "204",
                  "unit": "rw3"
                },
                {
                  "avg_capacity": 2.0105192013463844,
                  "avg_current": -2.001,
                  "avg_temperature": 24.25639,
                  "avg_voltage": 4.151,
                  "datetime": "2020-01-01 00:34:10",
                  "min_cycle": "205",
                  "unit": "rw3"
                },
                {
                  "avg_capacity": 2.00804509541931,
                  "avg_current": -2,
                  "avg_temperature": 24.25639,
                  "avg_voltage": 4.153,
                  "datetime": "2020-01-01 00:34:20",
                  "min_cycle": "206",
                  "unit": "rw3"
                },
                {
                  "avg_capacity": 2.0077899249898414,
                  "avg_current": -2,
                  "avg_temperature": 24.25639,
                  "avg_voltage": 4.154,
                  "datetime": "2020-01-01 00:34:30",
                  "min_cycle": "207",
                  "unit": "rw3"
                },
                {
                  "avg_capacity": 2.007410635179473,
                  "avg_current": -2,
                  "avg_temperature": 24.27196,
                  "avg_voltage": 4.155,
                  "datetime": "2020-01-01 00:34:40",
                  "min_cycle": "208",
                  "unit": "rw3"
                },
                {
                  "avg_capacity": 2.0079241941084587,
                  "avg_current": -2,
                  "avg_temperature": 24.30311,
                  "avg_voltage": 4.157,
                  "datetime": "2020-01-01 00:34:50",
                  "min_cycle": "209",
                  "unit": "rw3"
                },
                {
                  "avg_capacity": 2.0109362181743746,
                  "avg_current": -2,
                  "avg_temperature": 24.30311,
                  "avg_voltage": 4.158,
                  "datetime": "2020-01-01 00:35:00",
                  "min_cycle": "210",
                  "unit": "rw3"
                },
                {
                  "avg_capacity": 2.0094045678292454,
                  "avg_current": -1.999,
                  "avg_temperature": 24.33425,
                  "avg_voltage": 4.159,
                  "datetime": "2020-01-01 00:35:10",
                  "min_cycle": "211",
                  "unit": "rw3"
                },
                {
                  "avg_capacity": 2.009892849759895,
                  "avg_current": -2,
                  "avg_temperature": 24.33425,
                  "avg_voltage": 4.161,
                  "datetime": "2020-01-01 00:35:20",
                  "min_cycle": "212",
                  "unit": "rw3"
                },
                {
                  "avg_capacity": 2.0090194701421322,
                  "avg_current": -2,
                  "avg_temperature": 24.34983,
                  "avg_voltage": 4.162,
                  "datetime": "2020-01-01 00:35:30",
                  "min_cycle": "213",
                  "unit": "rw3"
                },
                {
                  "avg_capacity": 2.0102172720686964,
                  "avg_current": -2,
                  "avg_temperature": 24.3654,
                  "avg_voltage": 4.163,
                  "datetime": "2020-01-01 00:35:40",
                  "min_cycle": "214",
                  "unit": "rw3"
                },
                {
                  "avg_capacity": 2.0116543098862216,
                  "avg_current": -2,
                  "avg_temperature": 24.38097,
                  "avg_voltage": 4.165,
                  "datetime": "2020-01-01 00:35:50",
                  "min_cycle": "215",
                  "unit": "rw3"
                },
                {
                  "avg_capacity": 2.010494479850355,
                  "avg_current": -2,
                  "avg_temperature": 24.39655,
                  "avg_voltage": 4.166,
                  "datetime": "2020-01-01 00:36:00",
                  "min_cycle": "216",
                  "unit": "rw3"
                },
                {
                  "avg_capacity": 2.0088843591637673,
                  "avg_current": -1.999,
                  "avg_temperature": 24.41212,
                  "avg_voltage": 4.168,
                  "datetime": "2020-01-01 00:36:10",
                  "min_cycle": "217",
                  "unit": "rw3"
                },
                {
                  "avg_capacity": 2.0090358439765157,
                  "avg_current": -2,
                  "avg_temperature": 24.42769,
                  "avg_voltage": 4.169,
                  "datetime": "2020-01-01 00:36:20",
                  "min_cycle": "218",
                  "unit": "rw3"
                },
                {
                  "avg_capacity": 2.0089755533711844,
                  "avg_current": -2,
                  "avg_temperature": 24.44327,
                  "avg_voltage": 4.17,
                  "datetime": "2020-01-01 00:36:30",
                  "min_cycle": "219",
                  "unit": "rw3"
                },
                {
                  "avg_capacity": 2.008618888661092,
                  "avg_current": -2,
                  "avg_temperature": 24.45884,
                  "avg_voltage": 4.172,
                  "datetime": "2020-01-01 00:36:40",
                  "min_cycle": "220",
                  "unit": "rw3"
                },
                {
                  "avg_capacity": 2.007332472344736,
                  "avg_current": -2,
                  "avg_temperature": 24.47441,
                  "avg_voltage": 4.173,
                  "datetime": "2020-01-01 00:36:50",
                  "min_cycle": "221",
                  "unit": "rw3"
                },
                {
                  "avg_capacity": 2.0072709879830617,
                  "avg_current": -2,
                  "avg_temperature": 24.50556,
                  "avg_voltage": 4.175,
                  "datetime": "2020-01-01 00:37:00",
                  "min_cycle": "222",
                  "unit": "rw3"
                },
                {
                  "avg_capacity": 2.008518777480406,
                  "avg_current": -2,
                  "avg_temperature": 24.48999,
                  "avg_voltage": 4.176,
                  "datetime": "2020-01-01 00:37:10",
                  "min_cycle": "223",
                  "unit": "rw3"
                },
                {
                  "avg_capacity": 2.0090562783029418,
                  "avg_current": -2,
                  "avg_temperature": 24.52113,
                  "avg_voltage": 4.178,
                  "datetime": "2020-01-01 00:37:20",
                  "min_cycle": "224",
                  "unit": "rw3"
                },
                {
                  "avg_capacity": 2.0097685294541563,
                  "avg_current": -2,
                  "avg_temperature": 24.53671,
                  "avg_voltage": 4.179,
                  "datetime": "2020-01-01 00:37:30",
                  "min_cycle": "225",
                  "unit": "rw3"
                },
                {
                  "avg_capacity": 2.0085141732886824,
                  "avg_current": -2,
                  "avg_temperature": 24.55228,
                  "avg_voltage": 4.181,
                  "datetime": "2020-01-01 00:37:40",
                  "min_cycle": "226",
                  "unit": "rw3"
                },
                {
                  "avg_capacity": 2.0092608735651662,
                  "avg_current": -2,
                  "avg_temperature": 24.56785,
                  "avg_voltage": 4.182,
                  "datetime": "2020-01-01 00:37:50",
                  "min_cycle": "227",
                  "unit": "rw3"
                },
                {
                  "avg_capacity": 2.008528796321562,
                  "avg_current": -1.999,
                  "avg_temperature": 24.56785,
                  "avg_voltage": 4.184,
                  "datetime": "2020-01-01 00:38:00",
                  "min_cycle": "228",
                  "unit": "rw3"
                },
                {
                  "avg_capacity": 2.0094699546882033,
                  "avg_current": -2,
                  "avg_temperature": 24.599,
                  "avg_voltage": 4.185,
                  "datetime": "2020-01-01 00:38:10",
                  "min_cycle": "229",
                  "unit": "rw3"
                },
                {
                  "avg_capacity": 2.0090287737762265,
                  "avg_current": -1.999,
                  "avg_temperature": 24.61457,
                  "avg_voltage": 4.187,
                  "datetime": "2020-01-01 00:38:20",
                  "min_cycle": "230",
                  "unit": "rw3"
                },
                {
                  "avg_capacity": 2.0100487540296403,
                  "avg_current": -2,
                  "avg_temperature": 24.63014,
                  "avg_voltage": 4.188,
                  "datetime": "2020-01-01 00:38:30",
                  "min_cycle": "231",
                  "unit": "rw3"
                },
                {
                  "avg_capacity": 2.0094882649396015,
                  "avg_current": -1.999,
                  "avg_temperature": 24.64572,
                  "avg_voltage": 4.19,
                  "datetime": "2020-01-01 00:38:40",
                  "min_cycle": "232",
                  "unit": "rw3"
                },
                {
                  "avg_capacity": 2.009964235859591,
                  "avg_current": -1.999,
                  "avg_temperature": 24.67686,
                  "avg_voltage": 4.192,
                  "datetime": "2020-01-01 00:38:50",
                  "min_cycle": "233",
                  "unit": "rw3"
                },
                {
                  "avg_capacity": 2.009431508845627,
                  "avg_current": -2,
                  "avg_temperature": 24.67686,
                  "avg_voltage": 4.193,
                  "datetime": "2020-01-01 00:39:00",
                  "min_cycle": "234",
                  "unit": "rw3"
                },
                {
                  "avg_capacity": 2.0102658353721847,
                  "avg_current": -2,
                  "avg_temperature": 24.69244,
                  "avg_voltage": 4.195,
                  "datetime": "2020-01-01 00:39:10",
                  "min_cycle": "235",
                  "unit": "rw3"
                },
                {
                  "avg_capacity": 2.0076722263348477,
                  "avg_current": -2,
                  "avg_temperature": 24.70801,
                  "avg_voltage": 4.196,
                  "datetime": "2020-01-01 00:39:20",
                  "min_cycle": "236",
                  "unit": "rw3"
                },
                {
                  "avg_capacity": 2.0090471634462794,
                  "avg_current": -2,
                  "avg_temperature": 24.73916,
                  "avg_voltage": 4.198,
                  "datetime": "2020-01-01 00:39:30",
                  "min_cycle": "237",
                  "unit": "rw3"
                },
                {
                  "avg_capacity": 2.008031268615584,
                  "avg_current": -2,
                  "avg_temperature": 24.73916,
                  "avg_voltage": 4.2,
                  "datetime": "2020-01-01 00:39:40",
                  "min_cycle": "238",
                  "unit": "rw3"
                },
                {
                  "avg_capacity": 2.0093554002802825,
                  "avg_current": -1.986,
                  "avg_temperature": 24.7703,
                  "avg_voltage": 4.2,
                  "datetime": "2020-01-01 00:39:50",
                  "min_cycle": "239",
                  "unit": "rw3"
                },
                {
                  "avg_capacity": 2.0075535697763542,
                  "avg_current": -1.968,
                  "avg_temperature": 24.78588,
                  "avg_voltage": 4.2,
                  "datetime": "2020-01-01 00:40:00",
                  "min_cycle": "240",
                  "unit": "rw3"
                },
                {
                  "avg_capacity": 2.0077831046303136,
                  "avg_current": -1.952,
                  "avg_temperature": 24.80145,
                  "avg_voltage": 4.2,
                  "datetime": "2020-01-01 00:40:10",
                  "min_cycle": "241",
                  "unit": "rw3"
                },
                {
                  "avg_capacity": 2.00764186053876,
                  "avg_current": -1.938,
                  "avg_temperature": 24.8326,
                  "avg_voltage": 4.2,
                  "datetime": "2020-01-01 00:40:20",
                  "min_cycle": "242",
                  "unit": "rw3"
                },
                {
                  "avg_capacity": 2.009056872251494,
                  "avg_current": -1.925,
                  "avg_temperature": 24.86374,
                  "avg_voltage": 4.2,
                  "datetime": "2020-01-01 00:40:30",
                  "min_cycle": "243",
                  "unit": "rw3"
                },
                {
                  "avg_capacity": 2.0080196419219254,
                  "avg_current": -1.913,
                  "avg_temperature": 24.87932,
                  "avg_voltage": 4.2,
                  "datetime": "2020-01-01 00:40:40",
                  "min_cycle": "244",
                  "unit": "rw3"
                },
                {
                  "avg_capacity": 2.0088854449827585,
                  "avg_current": -1.899,
                  "avg_temperature": 24.87932,
                  "avg_voltage": 4.2,
                  "datetime": "2020-01-01 00:40:50",
                  "min_cycle": "245",
                  "unit": "rw3"
                },
                {
                  "avg_capacity": 2.007648574166243,
                  "avg_current": -1.885,
                  "avg_temperature": 24.91046,
                  "avg_voltage": 4.2,
                  "datetime": "2020-01-01 00:41:00",
                  "min_cycle": "246",
                  "unit": "rw3"
                },
                {
                  "avg_capacity": 2.0079539605589236,
                  "avg_current": -1.874,
                  "avg_temperature": 24.91046,
                  "avg_voltage": 4.2,
                  "datetime": "2020-01-01 00:41:10",
                  "min_cycle": "247",
                  "unit": "rw3"
                },
                {
                  "avg_capacity": 2.008153060089694,
                  "avg_current": -1.861,
                  "avg_temperature": 24.91046,
                  "avg_voltage": 4.2,
                  "datetime": "2020-01-01 00:41:20",
                  "min_cycle": "248",
                  "unit": "rw3"
                },
                {
                  "avg_capacity": 2.008137250879964,
                  "avg_current": -1.848,
                  "avg_temperature": 24.94161,
                  "avg_voltage": 4.2,
                  "datetime": "2020-01-01 00:41:30",
                  "min_cycle": "249",
                  "unit": "rw3"
                },
                {
                  "avg_capacity": 2.007585859716964,
                  "avg_current": -1.838,
                  "avg_temperature": 24.94161,
                  "avg_voltage": 4.2,
                  "datetime": "2020-01-01 00:41:40",
                  "min_cycle": "250",
                  "unit": "rw3"
                },
                {
                  "avg_capacity": 2.0097512430794495,
                  "avg_current": -1.826,
                  "avg_temperature": 24.94161,
                  "avg_voltage": 4.2,
                  "datetime": "2020-01-01 00:41:50",
                  "min_cycle": "251",
                  "unit": "rw3"
                },
                {
                  "avg_capacity": 2.008988177889702,
                  "avg_current": -1.812,
                  "avg_temperature": 24.94161,
                  "avg_voltage": 4.2,
                  "datetime": "2020-01-01 00:42:00",
                  "min_cycle": "252",
                  "unit": "rw3"
                },
                {
                  "avg_capacity": 2.0085183792348515,
                  "avg_current": -1.8,
                  "avg_temperature": 24.92603,
                  "avg_voltage": 4.2,
                  "datetime": "2020-01-01 00:42:10",
                  "min_cycle": "253",
                  "unit": "rw3"
                },
                {
                  "avg_capacity": 2.009537631293179,
                  "avg_current": -1.789,
                  "avg_temperature": 24.94161,
                  "avg_voltage": 4.2,
                  "datetime": "2020-01-01 00:42:20",
                  "min_cycle": "254",
                  "unit": "rw3"
                },
                {
                  "avg_capacity": 2.0094995952465164,
                  "avg_current": -1.776,
                  "avg_temperature": 24.94161,
                  "avg_voltage": 4.2,
                  "datetime": "2020-01-01 00:42:30",
                  "min_cycle": "255",
                  "unit": "rw3"
                },
                {
                  "avg_capacity": 2.007961198814675,
                  "avg_current": -1.764,
                  "avg_temperature": 24.95718,
                  "avg_voltage": 4.2,
                  "datetime": "2020-01-01 00:42:40",
                  "min_cycle": "256",
                  "unit": "rw3"
                },
                {
                  "avg_capacity": 2.0082623171478757,
                  "avg_current": -1.752,
                  "avg_temperature": 24.94161,
                  "avg_voltage": 4.2,
                  "datetime": "2020-01-01 00:42:50",
                  "min_cycle": "257",
                  "unit": "rw3"
                },
                {
                  "avg_capacity": 2.0084816496681293,
                  "avg_current": -1.74,
                  "avg_temperature": 24.94161,
                  "avg_voltage": 4.2,
                  "datetime": "2020-01-01 00:43:00",
                  "min_cycle": "258",
                  "unit": "rw3"
                },
                {
                  "avg_capacity": 2.0093330078562084,
                  "avg_current": -1.728,
                  "avg_temperature": 24.94161,
                  "avg_voltage": 4.2,
                  "datetime": "2020-01-01 00:43:10",
                  "min_cycle": "259",
                  "unit": "rw3"
                },
                {
                  "avg_capacity": 2.0080375625755558,
                  "avg_current": -1.716,
                  "avg_temperature": 24.92603,
                  "avg_voltage": 4.2,
                  "datetime": "2020-01-01 00:43:20",
                  "min_cycle": "260",
                  "unit": "rw3"
                },
                {
                  "avg_capacity": 2.0098214691126453,
                  "avg_current": -1.704,
                  "avg_temperature": 24.92603,
                  "avg_voltage": 4.2,
                  "datetime": "2020-01-01 00:43:30",
                  "min_cycle": "261",
                  "unit": "rw3"
                },
                {
                  "avg_capacity": 2.0084206337762907,
                  "avg_current": -1.692,
                  "avg_temperature": 24.94161,
                  "avg_voltage": 4.2,
                  "datetime": "2020-01-01 00:43:40",
                  "min_cycle": "262",
                  "unit": "rw3"
                },
                {
                  "avg_capacity": 2.008014185285036,
                  "avg_current": -1.679,
                  "avg_temperature": 24.92603,
                  "avg_voltage": 4.2,
                  "datetime": "2020-01-01 00:43:50",
                  "min_cycle": "263",
                  "unit": "rw3"
                },
                {
                  "avg_capacity": 2.00870741944517,
                  "avg_current": -1.67,
                  "avg_temperature": 24.92603,
                  "avg_voltage": 4.2,
                  "datetime": "2020-01-01 00:44:00",
                  "min_cycle": "264",
                  "unit": "rw3"
                },
                {
                  "avg_capacity": 2.009171512732835,
                  "avg_current": -1.657,
                  "avg_temperature": 24.92603,
                  "avg_voltage": 4.2,
                  "datetime": "2020-01-01 00:44:10",
                  "min_cycle": "265",
                  "unit": "rw3"
                },
                {
                  "avg_capacity": 2.008577710160848,
                  "avg_current": -1.645,
                  "avg_temperature": 24.92603,
                  "avg_voltage": 4.2,
                  "datetime": "2020-01-01 00:44:20",
                  "min_cycle": "266",
                  "unit": "rw3"
                },
                {
                  "avg_capacity": 2.0103045877332693,
                  "avg_current": -1.633,
                  "avg_temperature": 24.92603,
                  "avg_voltage": 4.2,
                  "datetime": "2020-01-01 00:44:30",
                  "min_cycle": "267",
                  "unit": "rw3"
                },
                {
                  "avg_capacity": 2.0090095791929654,
                  "avg_current": -1.621,
                  "avg_temperature": 24.92603,
                  "avg_voltage": 4.2,
                  "datetime": "2020-01-01 00:44:40",
                  "min_cycle": "268",
                  "unit": "rw3"
                },
                {
                  "avg_capacity": 2.0101585254162107,
                  "avg_current": -1.61,
                  "avg_temperature": 24.91046,
                  "avg_voltage": 4.2,
                  "datetime": "2020-01-01 00:44:50",
                  "min_cycle": "269",
                  "unit": "rw3"
                },
                {
                  "avg_capacity": 2.0084746204926343,
                  "avg_current": -1.599,
                  "avg_temperature": 24.91046,
                  "avg_voltage": 4.2,
                  "datetime": "2020-01-01 00:45:00",
                  "min_cycle": "270",
                  "unit": "rw3"
                },
                {
                  "avg_capacity": 2.009006576349592,
                  "avg_current": -1.586,
                  "avg_temperature": 24.92603,
                  "avg_voltage": 4.2,
                  "datetime": "2020-01-01 00:45:10",
                  "min_cycle": "271",
                  "unit": "rw3"
                },
                {
                  "avg_capacity": 2.009379399340347,
                  "avg_current": -1.575,
                  "avg_temperature": 24.92603,
                  "avg_voltage": 4.2,
                  "datetime": "2020-01-01 00:45:20",
                  "min_cycle": "272",
                  "unit": "rw3"
                },
                {
                  "avg_capacity": 2.009008192292307,
                  "avg_current": -1.563,
                  "avg_temperature": 24.92603,
                  "avg_voltage": 4.2,
                  "datetime": "2020-01-01 00:45:30",
                  "min_cycle": "273",
                  "unit": "rw3"
                },
                {
                  "avg_capacity": 2.0088990132497986,
                  "avg_current": -1.553,
                  "avg_temperature": 24.91046,
                  "avg_voltage": 4.2,
                  "datetime": "2020-01-01 00:45:40",
                  "min_cycle": "274",
                  "unit": "rw3"
                },
                {
                  "avg_capacity": 2.0091946801250966,
                  "avg_current": -1.541,
                  "avg_temperature": 24.89489,
                  "avg_voltage": 4.2,
                  "datetime": "2020-01-01 00:45:50",
                  "min_cycle": "275",
                  "unit": "rw3"
                },
                {
                  "avg_capacity": 2.009252234208436,
                  "avg_current": -1.529,
                  "avg_temperature": 24.89489,
                  "avg_voltage": 4.2,
                  "datetime": "2020-01-01 00:46:00",
                  "min_cycle": "276",
                  "unit": "rw3"
                },
                {
                  "avg_capacity": 2.0099142849955647,
                  "avg_current": -1.517,
                  "avg_temperature": 24.86374,
                  "avg_voltage": 4.2,
                  "datetime": "2020-01-01 00:46:10",
                  "min_cycle": "277",
                  "unit": "rw3"
                },
                {
                  "avg_capacity": 2.00956373001893,
                  "avg_current": -1.508,
                  "avg_temperature": 24.86374,
                  "avg_voltage": 4.2,
                  "datetime": "2020-01-01 00:46:20",
                  "min_cycle": "278",
                  "unit": "rw3"
                },
                {
                  "avg_capacity": 2.007203757996349,
                  "avg_current": -1.496,
                  "avg_temperature": 24.86374,
                  "avg_voltage": 4.2,
                  "datetime": "2020-01-01 00:46:30",
                  "min_cycle": "279",
                  "unit": "rw3"
                },
                {
                  "avg_capacity": 2.00902242810909,
                  "avg_current": -1.484,
                  "avg_temperature": 24.86374,
                  "avg_voltage": 4.2,
                  "datetime": "2020-01-01 00:46:40",
                  "min_cycle": "280",
                  "unit": "rw3"
                },
                {
                  "avg_capacity": 2.0107661813080724,
                  "avg_current": -1.474,
                  "avg_temperature": 24.86374,
                  "avg_voltage": 4.2,
                  "datetime": "2020-01-01 00:46:50",
                  "min_cycle": "281",
                  "unit": "rw3"
                },
                {
                  "avg_capacity": 2.01028083184652,
                  "avg_current": -1.462,
                  "avg_temperature": 24.84817,
                  "avg_voltage": 4.2,
                  "datetime": "2020-01-01 00:47:00",
                  "min_cycle": "282",
                  "unit": "rw3"
                },
                {
                  "avg_capacity": 2.0098390847879264,
                  "avg_current": -1.452,
                  "avg_temperature": 24.8326,
                  "avg_voltage": 4.2,
                  "datetime": "2020-01-01 00:47:10",
                  "min_cycle": "283",
                  "unit": "rw3"
                },
                {
                  "avg_capacity": 2.009471059475995,
                  "avg_current": -1.442,
                  "avg_temperature": 24.81702,
                  "avg_voltage": 4.2,
                  "datetime": "2020-01-01 00:47:20",
                  "min_cycle": "284",
                  "unit": "rw3"
                },
                {
                  "avg_capacity": 2.009262019062202,
                  "avg_current": -1.429,
                  "avg_temperature": 24.80145,
                  "avg_voltage": 4.2,
                  "datetime": "2020-01-01 00:47:30",
                  "min_cycle": "285",
                  "unit": "rw3"
                },
                {
                  "avg_capacity": 2.007469845660478,
                  "avg_current": -1.418,
                  "avg_temperature": 24.78588,
                  "avg_voltage": 4.2,
                  "datetime": "2020-01-01 00:47:40",
                  "min_cycle": "286",
                  "unit": "rw3"
                },
                {
                  "avg_capacity": 2.0086858839534623,
                  "avg_current": -1.408,
                  "avg_temperature": 24.7703,
                  "avg_voltage": 4.2,
                  "datetime": "2020-01-01 00:47:50",
                  "min_cycle": "287",
                  "unit": "rw3"
                },
                {
                  "avg_capacity": 2.0101616826083015,
                  "avg_current": -1.397,
                  "avg_temperature": 24.7703,
                  "avg_voltage": 4.2,
                  "datetime": "2020-01-01 00:48:00",
                  "min_cycle": "288",
                  "unit": "rw3"
                },
                {
                  "avg_capacity": 2.008307810785618,
                  "avg_current": -1.387,
                  "avg_temperature": 24.73916,
                  "avg_voltage": 4.2,
                  "datetime": "2020-01-01 00:48:10",
                  "min_cycle": "289",
                  "unit": "rw3"
                },
                {
                  "avg_capacity": 2.0085002049311047,
                  "avg_current": -1.376,
                  "avg_temperature": 24.70801,
                  "avg_voltage": 4.2,
                  "datetime": "2020-01-01 00:48:20",
                  "min_cycle": "290",
                  "unit": "rw3"
                },
                {
                  "avg_capacity": 2.009937832321802,
                  "avg_current": -1.367,
                  "avg_temperature": 24.69244,
                  "avg_voltage": 4.2,
                  "datetime": "2020-01-01 00:48:30",
                  "min_cycle": "291",
                  "unit": "rw3"
                },
                {
                  "avg_capacity": 2.008194543817308,
                  "avg_current": -1.356,
                  "avg_temperature": 24.69244,
                  "avg_voltage": 4.2,
                  "datetime": "2020-01-01 00:48:40",
                  "min_cycle": "292",
                  "unit": "rw3"
                },
                {
                  "avg_capacity": 2.00955359200883,
                  "avg_current": -1.346,
                  "avg_temperature": 24.67686,
                  "avg_voltage": 4.2,
                  "datetime": "2020-01-01 00:48:50",
                  "min_cycle": "293",
                  "unit": "rw3"
                },
                {
                  "avg_capacity": 2.0100321200435074,
                  "avg_current": -1.335,
                  "avg_temperature": 24.66129,
                  "avg_voltage": 4.2,
                  "datetime": "2020-01-01 00:49:00",
                  "min_cycle": "294",
                  "unit": "rw3"
                },
                {
                  "avg_capacity": 2.0094861889300857,
                  "avg_current": -1.324,
                  "avg_temperature": 24.64572,
                  "avg_voltage": 4.2,
                  "datetime": "2020-01-01 00:49:10",
                  "min_cycle": "295",
                  "unit": "rw3"
                },
                {
                  "avg_capacity": 2.0095996859714487,
                  "avg_current": -1.315,
                  "avg_temperature": 24.64572,
                  "avg_voltage": 4.2,
                  "datetime": "2020-01-01 00:49:20",
                  "min_cycle": "296",
                  "unit": "rw3"
                },
                {
                  "avg_capacity": 2.0094201703812318,
                  "avg_current": -1.304,
                  "avg_temperature": 24.61457,
                  "avg_voltage": 4.2,
                  "datetime": "2020-01-01 00:49:30",
                  "min_cycle": "297",
                  "unit": "rw3"
                },
                {
                  "avg_capacity": 2.007460743676942,
                  "avg_current": -1.292,
                  "avg_temperature": 24.599,
                  "avg_voltage": 4.2,
                  "datetime": "2020-01-01 00:49:40",
                  "min_cycle": "298",
                  "unit": "rw3"
                },
                {
                  "avg_capacity": 2.0085529328248777,
                  "avg_current": -1.283,
                  "avg_temperature": 24.58343,
                  "avg_voltage": 4.2,
                  "datetime": "2020-01-01 00:49:50",
                  "min_cycle": "299",
                  "unit": "rw3"
                },
                {
                  "avg_capacity": 2.0089962953899154,
                  "avg_current": -1.273,
                  "avg_temperature": 24.56785,
                  "avg_voltage": 4.2,
                  "datetime": "2020-01-01 00:50:00",
                  "min_cycle": "300",
                  "unit": "rw3"
                },
                {
                  "avg_capacity": 2.01002937845205,
                  "avg_current": -1.263,
                  "avg_temperature": 24.55228,
                  "avg_voltage": 4.2,
                  "datetime": "2020-01-01 00:50:10",
                  "min_cycle": "301",
                  "unit": "rw3"
                },
                {
                  "avg_capacity": 2.009604837619086,
                  "avg_current": -1.254,
                  "avg_temperature": 24.55228,
                  "avg_voltage": 4.2,
                  "datetime": "2020-01-01 00:50:20",
                  "min_cycle": "302",
                  "unit": "rw3"
                },
                {
                  "avg_capacity": 2.0087483942141455,
                  "avg_current": -1.244,
                  "avg_temperature": 24.55228,
                  "avg_voltage": 4.2,
                  "datetime": "2020-01-01 00:50:30",
                  "min_cycle": "303",
                  "unit": "rw3"
                },
                {
                  "avg_capacity": 2.007296740929039,
                  "avg_current": -1.234,
                  "avg_temperature": 24.53671,
                  "avg_voltage": 4.2,
                  "datetime": "2020-01-01 00:50:40",
                  "min_cycle": "304",
                  "unit": "rw3"
                },
                {
                  "avg_capacity": 2.0098428246255584,
                  "avg_current": -1.223,
                  "avg_temperature": 24.52113,
                  "avg_voltage": 4.2,
                  "datetime": "2020-01-01 00:50:50",
                  "min_cycle": "305",
                  "unit": "rw3"
                },
                {
                  "avg_capacity": 2.0085699103501287,
                  "avg_current": -1.215,
                  "avg_temperature": 24.50556,
                  "avg_voltage": 4.2,
                  "datetime": "2020-01-01 00:51:00",
                  "min_cycle": "306",
                  "unit": "rw3"
                },
                {
                  "avg_capacity": 2.010132051899016,
                  "avg_current": -1.205,
                  "avg_temperature": 24.48999,
                  "avg_voltage": 4.2,
                  "datetime": "2020-01-01 00:51:10",
                  "min_cycle": "307",
                  "unit": "rw3"
                },
                {
                  "avg_capacity": 2.0083418850974613,
                  "avg_current": -1.195,
                  "avg_temperature": 24.45884,
                  "avg_voltage": 4.2,
                  "datetime": "2020-01-01 00:51:20",
                  "min_cycle": "308",
                  "unit": "rw3"
                },
                {
                  "avg_capacity": 2.00777838492014,
                  "avg_current": -1.186,
                  "avg_temperature": 24.42769,
                  "avg_voltage": 4.2,
                  "datetime": "2020-01-01 00:51:30",
                  "min_cycle": "309",
                  "unit": "rw3"
                },
                {
                  "avg_capacity": 2.0087394338317393,
                  "avg_current": -1.176,
                  "avg_temperature": 24.42769,
                  "avg_voltage": 4.2,
                  "datetime": "2020-01-01 00:51:40",
                  "min_cycle": "310",
                  "unit": "rw3"
                },
                {
                  "avg_capacity": 2.0088431171941434,
                  "avg_current": -1.168,
                  "avg_temperature": 24.41212,
                  "avg_voltage": 4.2,
                  "datetime": "2020-01-01 00:51:50",
                  "min_cycle": "311",
                  "unit": "rw3"
                },
                {
                  "avg_capacity": 2.008698633123073,
                  "avg_current": -1.158,
                  "avg_temperature": 24.38097,
                  "avg_voltage": 4.2,
                  "datetime": "2020-01-01 00:52:00",
                  "min_cycle": "312",
                  "unit": "rw3"
                },
                {
                  "avg_capacity": 2.0097841889583603,
                  "avg_current": -1.148,
                  "avg_temperature": 24.34983,
                  "avg_voltage": 4.2,
                  "datetime": "2020-01-01 00:52:10",
                  "min_cycle": "313",
                  "unit": "rw3"
                },
                {
                  "avg_capacity": 2.0085924187181385,
                  "avg_current": -1.14,
                  "avg_temperature": 24.33425,
                  "avg_voltage": 4.2,
                  "datetime": "2020-01-01 00:52:20",
                  "min_cycle": "314",
                  "unit": "rw3"
                },
                {
                  "avg_capacity": 2.00860572357344,
                  "avg_current": -1.131,
                  "avg_temperature": 24.30311,
                  "avg_voltage": 4.2,
                  "datetime": "2020-01-01 00:52:30",
                  "min_cycle": "315",
                  "unit": "rw3"
                },
                {
                  "avg_capacity": 2.009672749311279,
                  "avg_current": -1.122,
                  "avg_temperature": 24.30311,
                  "avg_voltage": 4.2,
                  "datetime": "2020-01-01 00:52:40",
                  "min_cycle": "316",
                  "unit": "rw3"
                },
                {
                  "avg_capacity": 2.0085968296084125,
                  "avg_current": -1.113,
                  "avg_temperature": 24.30311,
                  "avg_voltage": 4.2,
                  "datetime": "2020-01-01 00:52:50",
                  "min_cycle": "317",
                  "unit": "rw3"
                },
                {
                  "avg_capacity": 2.0099410973384053,
                  "avg_current": -1.104,
                  "avg_temperature": 24.28753,
                  "avg_voltage": 4.2,
                  "datetime": "2020-01-01 00:53:00",
                  "min_cycle": "318",
                  "unit": "rw3"
                },
                {
                  "avg_capacity": 2.0098041936907944,
                  "avg_current": -1.096,
                  "avg_temperature": 24.27196,
                  "avg_voltage": 4.2,
                  "datetime": "2020-01-01 00:53:10",
                  "min_cycle": "319",
                  "unit": "rw3"
                },
                {
                  "avg_capacity": 2.0081011487570684,
                  "avg_current": -1.087,
                  "avg_temperature": 24.27196,
                  "avg_voltage": 4.2,
                  "datetime": "2020-01-01 00:53:20",
                  "min_cycle": "320",
                  "unit": "rw3"
                },
                {
                  "avg_capacity": 2.0102015828219137,
                  "avg_current": -1.079,
                  "avg_temperature": 24.24081,
                  "avg_voltage": 4.2,
                  "datetime": "2020-01-01 00:53:30",
                  "min_cycle": "321",
                  "unit": "rw3"
                },
                {
                  "avg_capacity": 2.009536464431007,
                  "avg_current": -1.069,
                  "avg_temperature": 24.22524,
                  "avg_voltage": 4.2,
                  "datetime": "2020-01-01 00:53:40",
                  "min_cycle": "322",
                  "unit": "rw3"
                },
                {
                  "avg_capacity": 2.0087918831909004,
                  "avg_current": -1.061,
                  "avg_temperature": 24.22524,
                  "avg_voltage": 4.2,
                  "datetime": "2020-01-01 00:53:50",
                  "min_cycle": "323",
                  "unit": "rw3"
                },
                {
                  "avg_capacity": 2.0082315901340837,
                  "avg_current": -1.053,
                  "avg_temperature": 24.19409,
                  "avg_voltage": 4.2,
                  "datetime": "2020-01-01 00:54:00",
                  "min_cycle": "324",
                  "unit": "rw3"
                },
                {
                  "avg_capacity": 2.010265745747708,
                  "avg_current": -1.044,
                  "avg_temperature": 24.17852,
                  "avg_voltage": 4.2,
                  "datetime": "2020-01-01 00:54:10",
                  "min_cycle": "325",
                  "unit": "rw3"
                },
                {
                  "avg_capacity": 2.008655283485148,
                  "avg_current": -1.035,
                  "avg_temperature": 24.1318,
                  "avg_voltage": 4.2,
                  "datetime": "2020-01-01 00:54:20",
                  "min_cycle": "326",
                  "unit": "rw3"
                },
                {
                  "avg_capacity": 2.0076232096463507,
                  "avg_current": -1.026,
                  "avg_temperature": 24.08508,
                  "avg_voltage": 4.2,
                  "datetime": "2020-01-01 00:54:30",
                  "min_cycle": "327",
                  "unit": "rw3"
                },
                {
                  "avg_capacity": 2.010828987651758,
                  "avg_current": -1.02,
                  "avg_temperature": 24.05393,
                  "avg_voltage": 4.2,
                  "datetime": "2020-01-01 00:54:40",
                  "min_cycle": "328",
                  "unit": "rw3"
                },
                {
                  "avg_capacity": 2.009761112544695,
                  "avg_current": -1.011,
                  "avg_temperature": 24.03836,
                  "avg_voltage": 4.2,
                  "datetime": "2020-01-01 00:54:50",
                  "min_cycle": "329",
                  "unit": "rw3"
                },
                {
                  "avg_capacity": 2.007674615539193,
                  "avg_current": -1.003,
                  "avg_temperature": 23.99164,
                  "avg_voltage": 4.2,
                  "datetime": "2020-01-01 00:55:00",
                  "min_cycle": "330",
                  "unit": "rw3"
                },
                {
                  "avg_capacity": 2.0078904330641345,
                  "avg_current": -0.995,
                  "avg_temperature": 23.96049,
                  "avg_voltage": 4.2,
                  "datetime": "2020-01-01 00:55:10",
                  "min_cycle": "331",
                  "unit": "rw3"
                },
                {
                  "avg_capacity": 2.0092539274895205,
                  "avg_current": -0.986,
                  "avg_temperature": 23.92935,
                  "avg_voltage": 4.2,
                  "datetime": "2020-01-01 00:55:20",
                  "min_cycle": "332",
                  "unit": "rw3"
                },
                {
                  "avg_capacity": 2.0081956185904657,
                  "avg_current": -0.98,
                  "avg_temperature": 23.8982,
                  "avg_voltage": 4.2,
                  "datetime": "2020-01-01 00:55:30",
                  "min_cycle": "333",
                  "unit": "rw3"
                },
                {
                  "avg_capacity": 2.009321020568299,
                  "avg_current": -0.971,
                  "avg_temperature": 23.88263,
                  "avg_voltage": 4.2,
                  "datetime": "2020-01-01 00:55:40",
                  "min_cycle": "334",
                  "unit": "rw3"
                },
                {
                  "avg_capacity": 2.008656998486205,
                  "avg_current": -0.965,
                  "avg_temperature": 23.85148,
                  "avg_voltage": 4.2,
                  "datetime": "2020-01-01 00:55:50",
                  "min_cycle": "335",
                  "unit": "rw3"
                },
                {
                  "avg_capacity": 2.0088271983314456,
                  "avg_current": -0.956,
                  "avg_temperature": 23.82034,
                  "avg_voltage": 4.2,
                  "datetime": "2020-01-01 00:56:00",
                  "min_cycle": "336",
                  "unit": "rw3"
                },
                {
                  "avg_capacity": 2.006581573738006,
                  "avg_current": -0.95,
                  "avg_temperature": 23.80476,
                  "avg_voltage": 4.2,
                  "datetime": "2020-01-01 00:56:10",
                  "min_cycle": "337",
                  "unit": "rw3"
                },
                {
                  "avg_capacity": 2.0070414693689447,
                  "avg_current": -0.942,
                  "avg_temperature": 23.77362,
                  "avg_voltage": 4.2,
                  "datetime": "2020-01-01 00:56:20",
                  "min_cycle": "338",
                  "unit": "rw3"
                },
                {
                  "avg_capacity": 2.007491687906972,
                  "avg_current": -0.934,
                  "avg_temperature": 23.74247,
                  "avg_voltage": 4.2,
                  "datetime": "2020-01-01 00:56:30",
                  "min_cycle": "339",
                  "unit": "rw3"
                },
                {
                  "avg_capacity": 2.0095120244782696,
                  "avg_current": -0.926,
                  "avg_temperature": 23.7269,
                  "avg_voltage": 4.2,
                  "datetime": "2020-01-01 00:56:40",
                  "min_cycle": "340",
                  "unit": "rw3"
                },
                {
                  "avg_capacity": 2.0087825160401933,
                  "avg_current": -0.919,
                  "avg_temperature": 23.71132,
                  "avg_voltage": 4.2,
                  "datetime": "2020-01-01 00:56:50",
                  "min_cycle": "341",
                  "unit": "rw3"
                },
                {
                  "avg_capacity": 2.0075186568272994,
                  "avg_current": -0.911,
                  "avg_temperature": 23.69575,
                  "avg_voltage": 4.2,
                  "datetime": "2020-01-01 00:57:00",
                  "min_cycle": "342",
                  "unit": "rw3"
                },
                {
                  "avg_capacity": 2.008127780338014,
                  "avg_current": -0.904,
                  "avg_temperature": 23.68018,
                  "avg_voltage": 4.2,
                  "datetime": "2020-01-01 00:57:10",
                  "min_cycle": "343",
                  "unit": "rw3"
                },
                {
                  "avg_capacity": 2.0084254113642737,
                  "avg_current": -0.897,
                  "avg_temperature": 23.6646,
                  "avg_voltage": 4.2,
                  "datetime": "2020-01-01 00:57:20",
                  "min_cycle": "344",
                  "unit": "rw3"
                },
                {
                  "avg_capacity": 2.0070864432017115,
                  "avg_current": -0.891,
                  "avg_temperature": 23.64903,
                  "avg_voltage": 4.2,
                  "datetime": "2020-01-01 00:57:30",
                  "min_cycle": "345",
                  "unit": "rw3"
                },
                {
                  "avg_capacity": 2.006248824740936,
                  "avg_current": -0.883,
                  "avg_temperature": 23.64903,
                  "avg_voltage": 4.2,
                  "datetime": "2020-01-01 00:57:40",
                  "min_cycle": "346",
                  "unit": "rw3"
                },
                {
                  "avg_capacity": 2.00841943269535,
                  "avg_current": -0.876,
                  "avg_temperature": 23.63346,
                  "avg_voltage": 4.2,
                  "datetime": "2020-01-01 00:57:50",
                  "min_cycle": "347",
                  "unit": "rw3"
                },
                {
                  "avg_capacity": 2.008695320505418,
                  "avg_current": -0.869,
                  "avg_temperature": 23.60231,
                  "avg_voltage": 4.2,
                  "datetime": "2020-01-01 00:58:00",
                  "min_cycle": "348",
                  "unit": "rw3"
                },
                {
                  "avg_capacity": 2.0087731151589274,
                  "avg_current": -0.861,
                  "avg_temperature": 23.58674,
                  "avg_voltage": 4.2,
                  "datetime": "2020-01-01 00:58:10",
                  "min_cycle": "349",
                  "unit": "rw3"
                },
                {
                  "avg_capacity": 2.0085934667169845,
                  "avg_current": -0.855,
                  "avg_temperature": 23.57116,
                  "avg_voltage": 4.2,
                  "datetime": "2020-01-01 00:58:20",
                  "min_cycle": "350",
                  "unit": "rw3"
                },
                {
                  "avg_capacity": 2.0076247324956946,
                  "avg_current": -0.847,
                  "avg_temperature": 23.57116,
                  "avg_voltage": 4.2,
                  "datetime": "2020-01-01 00:58:30",
                  "min_cycle": "351",
                  "unit": "rw3"
                },
                {
                  "avg_capacity": 2.00985098761267,
                  "avg_current": -0.842,
                  "avg_temperature": 23.54002,
                  "avg_voltage": 4.2,
                  "datetime": "2020-01-01 00:58:40",
                  "min_cycle": "352",
                  "unit": "rw3"
                },
                {
                  "avg_capacity": 2.0104781868939217,
                  "avg_current": -0.834,
                  "avg_temperature": 23.50887,
                  "avg_voltage": 4.2,
                  "datetime": "2020-01-01 00:58:50",
                  "min_cycle": "353",
                  "unit": "rw3"
                },
                {
                  "avg_capacity": 2.008369061870666,
                  "avg_current": -0.827,
                  "avg_temperature": 23.4933,
                  "avg_voltage": 4.2,
                  "datetime": "2020-01-01 00:59:00",
                  "min_cycle": "354",
                  "unit": "rw3"
                },
                {
                  "avg_capacity": 2.008895860617518,
                  "avg_current": -0.821,
                  "avg_temperature": 23.47773,
                  "avg_voltage": 4.2,
                  "datetime": "2020-01-01 00:59:10",
                  "min_cycle": "355",
                  "unit": "rw3"
                },
                {
                  "avg_capacity": 2.008193660997641,
                  "avg_current": -0.816,
                  "avg_temperature": 23.46215,
                  "avg_voltage": 4.2,
                  "datetime": "2020-01-01 00:59:20",
                  "min_cycle": "356",
                  "unit": "rw3"
                },
                {
                  "avg_capacity": 2.0087279325940477,
                  "avg_current": -0.808,
                  "avg_temperature": 23.44658,
                  "avg_voltage": 4.2,
                  "datetime": "2020-01-01 00:59:30",
                  "min_cycle": "357",
                  "unit": "rw3"
                },
                {
                  "avg_capacity": 2.0081281277096186,
                  "avg_current": -0.801,
                  "avg_temperature": 23.41543,
                  "avg_voltage": 4.2,
                  "datetime": "2020-01-01 00:59:40",
                  "min_cycle": "358",
                  "unit": "rw3"
                },
                {
                  "avg_capacity": 2.007953585022134,
                  "avg_current": -0.795,
                  "avg_temperature": 23.39986,
                  "avg_voltage": 4.2,
                  "datetime": "2020-01-01 00:59:50",
                  "min_cycle": "359",
                  "unit": "rw3"
                },
                {
                  "avg_capacity": 2.0086128578187497,
                  "avg_current": -0.79,
                  "avg_temperature": 23.38428,
                  "avg_voltage": 4.2,
                  "datetime": "2020-01-01 01:00:00",
                  "min_cycle": "360",
                  "unit": "rw3"
                },
                {
                  "avg_capacity": 2.0096054477193492,
                  "avg_current": -0.782,
                  "avg_temperature": 23.36871,
                  "avg_voltage": 4.2,
                  "datetime": "2020-01-01 01:00:10",
                  "min_cycle": "361",
                  "unit": "rw3"
                },
                {
                  "avg_capacity": 2.007791267212006,
                  "avg_current": -0.777,
                  "avg_temperature": 23.33757,
                  "avg_voltage": 4.2,
                  "datetime": "2020-01-01 01:00:20",
                  "min_cycle": "362",
                  "unit": "rw3"
                },
                {
                  "avg_capacity": 2.0081072233416073,
                  "avg_current": -0.769,
                  "avg_temperature": 23.32199,
                  "avg_voltage": 4.2,
                  "datetime": "2020-01-01 01:00:30",
                  "min_cycle": "363",
                  "unit": "rw3"
                },
                {
                  "avg_capacity": 2.007037956409932,
                  "avg_current": -0.765,
                  "avg_temperature": 23.30642,
                  "avg_voltage": 4.2,
                  "datetime": "2020-01-01 01:00:40",
                  "min_cycle": "364",
                  "unit": "rw3"
                },
                {
                  "avg_capacity": 2.0085343511655935,
                  "avg_current": -0.759,
                  "avg_temperature": 23.29085,
                  "avg_voltage": 4.2,
                  "datetime": "2020-01-01 01:00:50",
                  "min_cycle": "365",
                  "unit": "rw3"
                },
                {
                  "avg_capacity": 2.0080611144457747,
                  "avg_current": -0.754,
                  "avg_temperature": 23.29085,
                  "avg_voltage": 4.2,
                  "datetime": "2020-01-01 01:01:00",
                  "min_cycle": "366",
                  "unit": "rw3"
                },
                {
                  "avg_capacity": 2.0099004190852594,
                  "avg_current": -0.747,
                  "avg_temperature": 23.27527,
                  "avg_voltage": 4.2,
                  "datetime": "2020-01-01 01:01:10",
                  "min_cycle": "367",
                  "unit": "rw3"
                },
                {
                  "avg_capacity": 2.0074494937741494,
                  "avg_current": -0.74,
                  "avg_temperature": 23.24413,
                  "avg_voltage": 4.2,
                  "datetime": "2020-01-01 01:01:20",
                  "min_cycle": "368",
                  "unit": "rw3"
                },
                {
                  "avg_capacity": 2.007115996730634,
                  "avg_current": -0.734,
                  "avg_temperature": 23.22855,
                  "avg_voltage": 4.2,
                  "datetime": "2020-01-01 01:01:30",
                  "min_cycle": "369",
                  "unit": "rw3"
                },
                {
                  "avg_capacity": 2.0087427929549486,
                  "avg_current": -0.731,
                  "avg_temperature": 23.19741,
                  "avg_voltage": 4.2,
                  "datetime": "2020-01-01 01:01:40",
                  "min_cycle": "370",
                  "unit": "rw3"
                },
                {
                  "avg_capacity": 2.0089038516343467,
                  "avg_current": -0.723,
                  "avg_temperature": 23.18183,
                  "avg_voltage": 4.2,
                  "datetime": "2020-01-01 01:01:50",
                  "min_cycle": "371",
                  "unit": "rw3"
                },
                {
                  "avg_capacity": 2.0112006264483906,
                  "avg_current": -0.717,
                  "avg_temperature": 23.15069,
                  "avg_voltage": 4.2,
                  "datetime": "2020-01-01 01:02:00",
                  "min_cycle": "372",
                  "unit": "rw3"
                },
                {
                  "avg_capacity": 2.0097719513661474,
                  "avg_current": -0.712,
                  "avg_temperature": 23.15069,
                  "avg_voltage": 4.2,
                  "datetime": "2020-01-01 01:02:10",
                  "min_cycle": "373",
                  "unit": "rw3"
                },
                {
                  "avg_capacity": 2.008407388539433,
                  "avg_current": -0.709,
                  "avg_temperature": 23.11954,
                  "avg_voltage": 4.2,
                  "datetime": "2020-01-01 01:02:20",
                  "min_cycle": "374",
                  "unit": "rw3"
                },
                {
                  "avg_capacity": 2.0112817906285385,
                  "avg_current": -0.702,
                  "avg_temperature": 23.08839,
                  "avg_voltage": 4.2,
                  "datetime": "2020-01-01 01:02:30",
                  "min_cycle": "375",
                  "unit": "rw3"
                },
                {
                  "avg_capacity": 2.008165586579005,
                  "avg_current": -0.697,
                  "avg_temperature": 23.07282,
                  "avg_voltage": 4.2,
                  "datetime": "2020-01-01 01:02:40",
                  "min_cycle": "376",
                  "unit": "rw3"
                },
                {
                  "avg_capacity": 2.0111175015808462,
                  "avg_current": -0.69,
                  "avg_temperature": 23.05725,
                  "avg_voltage": 4.2,
                  "datetime": "2020-01-01 01:02:50",
                  "min_cycle": "377",
                  "unit": "rw3"
                },
                {
                  "avg_capacity": 2.0089879368842576,
                  "avg_current": -0.685,
                  "avg_temperature": 23.04167,
                  "avg_voltage": 4.2,
                  "datetime": "2020-01-01 01:03:00",
                  "min_cycle": "378",
                  "unit": "rw3"
                },
                {
                  "avg_capacity": 2.009578706334719,
                  "avg_current": -0.679,
                  "avg_temperature": 23.04167,
                  "avg_voltage": 4.2,
                  "datetime": "2020-01-01 01:03:10",
                  "min_cycle": "379",
                  "unit": "rw3"
                },
                {
                  "avg_capacity": 2.0102626993459554,
                  "avg_current": -0.673,
                  "avg_temperature": 23.01053,
                  "avg_voltage": 4.2,
                  "datetime": "2020-01-01 01:03:20",
                  "min_cycle": "380",
                  "unit": "rw3"
                },
                {
                  "avg_capacity": 2.0085413676666275,
                  "avg_current": -0.669,
                  "avg_temperature": 23.01053,
                  "avg_voltage": 4.2,
                  "datetime": "2020-01-01 01:03:30",
                  "min_cycle": "381",
                  "unit": "rw3"
                },
                {
                  "avg_capacity": 2.0110378096978914,
                  "avg_current": -0.663,
                  "avg_temperature": 22.97938,
                  "avg_voltage": 4.2,
                  "datetime": "2020-01-01 01:03:40",
                  "min_cycle": "382",
                  "unit": "rw3"
                },
                {
                  "avg_capacity": 2.009965452628932,
                  "avg_current": -0.657,
                  "avg_temperature": 22.94823,
                  "avg_voltage": 4.2,
                  "datetime": "2020-01-01 01:03:50",
                  "min_cycle": "383",
                  "unit": "rw3"
                },
                {
                  "avg_capacity": 2.0081787589287874,
                  "avg_current": -0.652,
                  "avg_temperature": 22.94823,
                  "avg_voltage": 4.2,
                  "datetime": "2020-01-01 01:04:00",
                  "min_cycle": "384",
                  "unit": "rw3"
                },
                {
                  "avg_capacity": 2.0089261592413528,
                  "avg_current": -0.648,
                  "avg_temperature": 22.91709,
                  "avg_voltage": 4.2,
                  "datetime": "2020-01-01 01:04:10",
                  "min_cycle": "385",
                  "unit": "rw3"
                },
                {
                  "avg_capacity": 2.0081965912299418,
                  "avg_current": -0.641,
                  "avg_temperature": 22.88594,
                  "avg_voltage": 4.2,
                  "datetime": "2020-01-01 01:04:20",
                  "min_cycle": "386",
                  "unit": "rw3"
                },
                {
                  "avg_capacity": 2.008982527491214,
                  "avg_current": -0.638,
                  "avg_temperature": 22.87037,
                  "avg_voltage": 4.2,
                  "datetime": "2020-01-01 01:04:30",
                  "min_cycle": "387",
                  "unit": "rw3"
                },
                {
                  "avg_capacity": 2.0087720571220773,
                  "avg_current": -0.631,
                  "avg_temperature": 22.83922,
                  "avg_voltage": 4.2,
                  "datetime": "2020-01-01 01:04:40",
                  "min_cycle": "388",
                  "unit": "rw3"
                },
                {
                  "avg_capacity": 2.0091544786149744,
                  "avg_current": -0.628,
                  "avg_temperature": 22.80807,
                  "avg_voltage": 4.2,
                  "datetime": "2020-01-01 01:04:50",
                  "min_cycle": "389",
                  "unit": "rw3"
                },
                {
                  "avg_capacity": 2.008889740363059,
                  "avg_current": -0.623,
                  "avg_temperature": 22.80807,
                  "avg_voltage": 4.2,
                  "datetime": "2020-01-01 01:05:00",
                  "min_cycle": "390",
                  "unit": "rw3"
                },
                {
                  "avg_capacity": 2.0079412550746523,
                  "avg_current": -0.619,
                  "avg_temperature": 22.7925,
                  "avg_voltage": 4.2,
                  "datetime": "2020-01-01 01:05:10",
                  "min_cycle": "391",
                  "unit": "rw3"
                },
                {
                  "avg_capacity": 2.0095102782489094,
                  "avg_current": -0.612,
                  "avg_temperature": 22.76135,
                  "avg_voltage": 4.2,
                  "datetime": "2020-01-01 01:05:20",
                  "min_cycle": "392",
                  "unit": "rw3"
                },
                {
                  "avg_capacity": 2.007233765907434,
                  "avg_current": -0.608,
                  "avg_temperature": 22.76135,
                  "avg_voltage": 4.2,
                  "datetime": "2020-01-01 01:05:30",
                  "min_cycle": "393",
                  "unit": "rw3"
                },
                {
                  "avg_capacity": 2.0084479383103946,
                  "avg_current": -0.605,
                  "avg_temperature": 22.73021,
                  "avg_voltage": 4.2,
                  "datetime": "2020-01-01 01:05:40",
                  "min_cycle": "394",
                  "unit": "rw3"
                },
                {
                  "avg_capacity": 2.007620741420206,
                  "avg_current": -0.6,
                  "avg_temperature": 22.71464,
                  "avg_voltage": 4.2,
                  "datetime": "2020-01-01 01:05:50",
                  "min_cycle": "395",
                  "unit": "rw3"
                },
                {
                  "avg_capacity": 2.009461353184901,
                  "avg_current": -0.594,
                  "avg_temperature": 22.68349,
                  "avg_voltage": 4.2,
                  "datetime": "2020-01-01 01:06:00",
                  "min_cycle": "396",
                  "unit": "rw3"
                },
                {
                  "avg_capacity": 2.008872470857013,
                  "avg_current": -0.59,
                  "avg_temperature": 22.66792,
                  "avg_voltage": 4.2,
                  "datetime": "2020-01-01 01:06:10",
                  "min_cycle": "397",
                  "unit": "rw3"
                },
                {
                  "avg_capacity": 2.0092583497393344,
                  "avg_current": -0.584,
                  "avg_temperature": 22.66792,
                  "avg_voltage": 4.2,
                  "datetime": "2020-01-01 01:06:20",
                  "min_cycle": "398",
                  "unit": "rw3"
                },
                {
                  "avg_capacity": 2.010742751074414,
                  "avg_current": -0.582,
                  "avg_temperature": 22.65234,
                  "avg_voltage": 4.2,
                  "datetime": "2020-01-01 01:06:30",
                  "min_cycle": "399",
                  "unit": "rw3"
                },
                {
                  "avg_capacity": 2.008605319066399,
                  "avg_current": -0.576,
                  "avg_temperature": 22.60562,
                  "avg_voltage": 4.2,
                  "datetime": "2020-01-01 01:06:40",
                  "min_cycle": "400",
                  "unit": "rw3"
                },
                {
                  "avg_capacity": 2.008195313281708,
                  "avg_current": -0.572,
                  "avg_temperature": 22.59005,
                  "avg_voltage": 4.2,
                  "datetime": "2020-01-01 01:06:50",
                  "min_cycle": "401",
                  "unit": "rw3"
                },
                {
                  "avg_capacity": 2.008421537213956,
                  "avg_current": -0.569,
                  "avg_temperature": 22.57448,
                  "avg_voltage": 4.2,
                  "datetime": "2020-01-01 01:07:00",
                  "min_cycle": "402",
                  "unit": "rw3"
                },
                {
                  "avg_capacity": 2.0088855602206994,
                  "avg_current": -0.563,
                  "avg_temperature": 22.5589,
                  "avg_voltage": 4.2,
                  "datetime": "2020-01-01 01:07:10",
                  "min_cycle": "403",
                  "unit": "rw3"
                },
                {
                  "avg_capacity": 2.0093935036450814,
                  "avg_current": -0.558,
                  "avg_temperature": 22.5589,
                  "avg_voltage": 4.2,
                  "datetime": "2020-01-01 01:07:20",
                  "min_cycle": "404",
                  "unit": "rw3"
                },
                {
                  "avg_capacity": 2.0108317213827203,
                  "avg_current": -0.555,
                  "avg_temperature": 22.52776,
                  "avg_voltage": 4.2,
                  "datetime": "2020-01-01 01:07:30",
                  "min_cycle": "405",
                  "unit": "rw3"
                },
                {
                  "avg_capacity": 2.0087255694600135,
                  "avg_current": -0.551,
                  "avg_temperature": 22.51218,
                  "avg_voltage": 4.2,
                  "datetime": "2020-01-01 01:07:40",
                  "min_cycle": "406",
                  "unit": "rw3"
                },
                {
                  "avg_capacity": 2.0055101210236956,
                  "avg_current": -0.545,
                  "avg_temperature": 22.49661,
                  "avg_voltage": 4.2,
                  "datetime": "2020-01-01 01:07:50",
                  "min_cycle": "407",
                  "unit": "rw3"
                },
                {
                  "avg_capacity": 2.0097855530221262,
                  "avg_current": -0.542,
                  "avg_temperature": 22.46546,
                  "avg_voltage": 4.2,
                  "datetime": "2020-01-01 01:08:00",
                  "min_cycle": "408",
                  "unit": "rw3"
                },
                {
                  "avg_capacity": 2.0061837979587733,
                  "avg_current": -0.537,
                  "avg_temperature": 22.44989,
                  "avg_voltage": 4.2,
                  "datetime": "2020-01-01 01:08:10",
                  "min_cycle": "409",
                  "unit": "rw3"
                },
                {
                  "avg_capacity": 2.0101589927955095,
                  "avg_current": -0.534,
                  "avg_temperature": 22.43432,
                  "avg_voltage": 4.2,
                  "datetime": "2020-01-01 01:08:20",
                  "min_cycle": "410",
                  "unit": "rw3"
                },
                {
                  "avg_capacity": 2.008552499260371,
                  "avg_current": -0.528,
                  "avg_temperature": 22.40317,
                  "avg_voltage": 4.2,
                  "datetime": "2020-01-01 01:08:30",
                  "min_cycle": "411",
                  "unit": "rw3"
                },
                {
                  "avg_capacity": 2.0090283823442343,
                  "avg_current": -0.525,
                  "avg_temperature": 22.40317,
                  "avg_voltage": 4.2,
                  "datetime": "2020-01-01 01:08:40",
                  "min_cycle": "412",
                  "unit": "rw3"
                },
                {
                  "avg_capacity": 2.0081101535956978,
                  "avg_current": -0.521,
                  "avg_temperature": 22.37202,
                  "avg_voltage": 4.2,
                  "datetime": "2020-01-01 01:08:50",
                  "min_cycle": "413",
                  "unit": "rw3"
                },
                {
                  "avg_capacity": 2.0109939960636725,
                  "avg_current": -0.518,
                  "avg_temperature": 22.35645,
                  "avg_voltage": 4.2,
                  "datetime": "2020-01-01 01:09:00",
                  "min_cycle": "414",
                  "unit": "rw3"
                },
                {
                  "avg_capacity": 2.010807085596666,
                  "avg_current": -0.511,
                  "avg_temperature": 22.34088,
                  "avg_voltage": 4.2,
                  "datetime": "2020-01-01 01:09:10",
                  "min_cycle": "415",
                  "unit": "rw3"
                },
                {
                  "avg_capacity": 2.0083144896187455,
                  "avg_current": -0.51,
                  "avg_temperature": 22.30973,
                  "avg_voltage": 4.2,
                  "datetime": "2020-01-01 01:09:20",
                  "min_cycle": "416",
                  "unit": "rw3"
                },
                {
                  "avg_capacity": 2.008743781940132,
                  "avg_current": -0.507,
                  "avg_temperature": 22.29416,
                  "avg_voltage": 4.2,
                  "datetime": "2020-01-01 01:09:30",
                  "min_cycle": "417",
                  "unit": "rw3"
                },
                {
                  "avg_capacity": 2.0092285518428885,
                  "avg_current": -0.503,
                  "avg_temperature": 22.29416,
                  "avg_voltage": 4.2,
                  "datetime": "2020-01-01 01:09:40",
                  "min_cycle": "418",
                  "unit": "rw3"
                },
                {
                  "avg_capacity": 2.0081901433336307,
                  "avg_current": -0.499,
                  "avg_temperature": 22.27859,
                  "avg_voltage": 4.2,
                  "datetime": "2020-01-01 01:09:50",
                  "min_cycle": "419",
                  "unit": "rw3"
                },
                {
                  "avg_capacity": 2.0101030401111997,
                  "avg_current": -0.496,
                  "avg_temperature": 22.26301,
                  "avg_voltage": 4.2,
                  "datetime": "2020-01-01 01:10:00",
                  "min_cycle": "420",
                  "unit": "rw3"
                },
                {
                  "avg_capacity": 2.009541407200826,
                  "avg_current": -0.492,
                  "avg_temperature": 22.26301,
                  "avg_voltage": 4.2,
                  "datetime": "2020-01-01 01:10:10",
                  "min_cycle": "421",
                  "unit": "rw3"
                },
                {
                  "avg_capacity": 2.0089372482637464,
                  "avg_current": -0.488,
                  "avg_temperature": 22.24744,
                  "avg_voltage": 4.2,
                  "datetime": "2020-01-01 01:10:20",
                  "min_cycle": "422",
                  "unit": "rw3"
                },
                {
                  "avg_capacity": 2.008098316042495,
                  "avg_current": -0.483,
                  "avg_temperature": 22.24744,
                  "avg_voltage": 4.2,
                  "datetime": "2020-01-01 01:10:30",
                  "min_cycle": "423",
                  "unit": "rw3"
                },
                {
                  "avg_capacity": 2.008178743175442,
                  "avg_current": -0.479,
                  "avg_temperature": 22.23187,
                  "avg_voltage": 4.2,
                  "datetime": "2020-01-01 01:10:40",
                  "min_cycle": "424",
                  "unit": "rw3"
                },
                {
                  "avg_capacity": 2.0088149730403115,
                  "avg_current": -0.478,
                  "avg_temperature": 22.21629,
                  "avg_voltage": 4.2,
                  "datetime": "2020-01-01 01:10:50",
                  "min_cycle": "425",
                  "unit": "rw3"
                },
                {
                  "avg_capacity": 2.01070590042787,
                  "avg_current": -0.473,
                  "avg_temperature": 22.21629,
                  "avg_voltage": 4.2,
                  "datetime": "2020-01-01 01:11:00",
                  "min_cycle": "426",
                  "unit": "rw3"
                },
                {
                  "avg_capacity": 2.0093505441282664,
                  "avg_current": -0.469,
                  "avg_temperature": 22.21629,
                  "avg_voltage": 4.2,
                  "datetime": "2020-01-01 01:11:10",
                  "min_cycle": "427",
                  "unit": "rw3"
                },
                {
                  "avg_capacity": 2.008871624814541,
                  "avg_current": -0.465,
                  "avg_temperature": 22.21629,
                  "avg_voltage": 4.2,
                  "datetime": "2020-01-01 01:11:20",
                  "min_cycle": "428",
                  "unit": "rw3"
                },
                {
                  "avg_capacity": 2.00989595187186,
                  "avg_current": -0.46,
                  "avg_temperature": 22.21629,
                  "avg_voltage": 4.2,
                  "datetime": "2020-01-01 01:11:30",
                  "min_cycle": "429",
                  "unit": "rw3"
                },
                {
                  "avg_capacity": 2.008925226742573,
                  "avg_current": -0.458,
                  "avg_temperature": 22.20072,
                  "avg_voltage": 4.2,
                  "datetime": "2020-01-01 01:11:40",
                  "min_cycle": "430",
                  "unit": "rw3"
                },
                {
                  "avg_capacity": 2.009464532232854,
                  "avg_current": -0.457,
                  "avg_temperature": 22.20072,
                  "avg_voltage": 4.2,
                  "datetime": "2020-01-01 01:11:50",
                  "min_cycle": "431",
                  "unit": "rw3"
                },
                {
                  "avg_capacity": 2.008577607061747,
                  "avg_current": -0.453,
                  "avg_temperature": 22.18515,
                  "avg_voltage": 4.2,
                  "datetime": "2020-01-01 01:12:00",
                  "min_cycle": "432",
                  "unit": "rw3"
                },
                {
                  "avg_capacity": 2.007249818443199,
                  "avg_current": -0.448,
                  "avg_temperature": 22.154,
                  "avg_voltage": 4.2,
                  "datetime": "2020-01-01 01:12:10",
                  "min_cycle": "433",
                  "unit": "rw3"
                },
                {
                  "avg_capacity": 2.009780429615081,
                  "avg_current": -0.446,
                  "avg_temperature": 22.13843,
                  "avg_voltage": 4.2,
                  "datetime": "2020-01-01 01:12:20",
                  "min_cycle": "434",
                  "unit": "rw3"
                },
                {
                  "avg_capacity": 2.0094567349577255,
                  "avg_current": -0.442,
                  "avg_temperature": 22.12285,
                  "avg_voltage": 4.2,
                  "datetime": "2020-01-01 01:12:30",
                  "min_cycle": "435",
                  "unit": "rw3"
                },
                {
                  "avg_capacity": 2.008934090272601,
                  "avg_current": -0.44,
                  "avg_temperature": 22.12285,
                  "avg_voltage": 4.2,
                  "datetime": "2020-01-01 01:12:40",
                  "min_cycle": "436",
                  "unit": "rw3"
                },
                {
                  "avg_capacity": 2.010748892596907,
                  "avg_current": -0.435,
                  "avg_temperature": 22.12285,
                  "avg_voltage": 4.2,
                  "datetime": "2020-01-01 01:12:50",
                  "min_cycle": "437",
                  "unit": "rw3"
                },
                {
                  "avg_capacity": 2.0070603507394513,
                  "avg_current": -0.433,
                  "avg_temperature": 22.09171,
                  "avg_voltage": 4.2,
                  "datetime": "2020-01-01 01:13:00",
                  "min_cycle": "438",
                  "unit": "rw3"
                },
                {
                  "avg_capacity": 2.009785480882952,
                  "avg_current": -0.428,
                  "avg_temperature": 22.07613,
                  "avg_voltage": 4.2,
                  "datetime": "2020-01-01 01:13:10",
                  "min_cycle": "439",
                  "unit": "rw3"
                },
                {
                  "avg_capacity": 2.008918991800926,
                  "avg_current": -0.427,
                  "avg_temperature": 22.06056,
                  "avg_voltage": 4.2,
                  "datetime": "2020-01-01 01:13:20",
                  "min_cycle": "440",
                  "unit": "rw3"
                },
                {
                  "avg_capacity": 2.0099387799218125,
                  "avg_current": -0.422,
                  "avg_temperature": 22.04499,
                  "avg_voltage": 4.2,
                  "datetime": "2020-01-01 01:13:30",
                  "min_cycle": "441",
                  "unit": "rw3"
                },
                {
                  "avg_capacity": 2.008594060821198,
                  "avg_current": -0.42,
                  "avg_temperature": 22.02941,
                  "avg_voltage": 4.2,
                  "datetime": "2020-01-01 01:13:40",
                  "min_cycle": "442",
                  "unit": "rw3"
                },
                {
                  "avg_capacity": 2.009760980379998,
                  "avg_current": -0.417,
                  "avg_temperature": 22.01384,
                  "avg_voltage": 4.2,
                  "datetime": "2020-01-01 01:13:50",
                  "min_cycle": "443",
                  "unit": "rw3"
                },
                {
                  "avg_capacity": 2.008546794273216,
                  "avg_current": -0.415,
                  "avg_temperature": 21.99827,
                  "avg_voltage": 4.2,
                  "datetime": "2020-01-01 01:14:00",
                  "min_cycle": "444",
                  "unit": "rw3"
                },
                {
                  "avg_capacity": 2.0088625871138954,
                  "avg_current": -0.411,
                  "avg_temperature": 21.98269,
                  "avg_voltage": 4.2,
                  "datetime": "2020-01-01 01:14:10",
                  "min_cycle": "445",
                  "unit": "rw3"
                },
                {
                  "avg_capacity": 2.0087009662249535,
                  "avg_current": -0.408,
                  "avg_temperature": 21.96712,
                  "avg_voltage": 4.2,
                  "datetime": "2020-01-01 01:14:20",
                  "min_cycle": "446",
                  "unit": "rw3"
                },
                {
                  "avg_capacity": 2.0095819274561775,
                  "avg_current": -0.405,
                  "avg_temperature": 21.96712,
                  "avg_voltage": 4.2,
                  "datetime": "2020-01-01 01:14:30",
                  "min_cycle": "447",
                  "unit": "rw3"
                },
                {
                  "avg_capacity": 2.008232347693316,
                  "avg_current": -0.402,
                  "avg_temperature": 21.95155,
                  "avg_voltage": 4.2,
                  "datetime": "2020-01-01 01:14:40",
                  "min_cycle": "448",
                  "unit": "rw3"
                },
                {
                  "avg_capacity": 2.0085692456841513,
                  "avg_current": -0.398,
                  "avg_temperature": 21.93597,
                  "avg_voltage": 4.2,
                  "datetime": "2020-01-01 01:14:50",
                  "min_cycle": "449",
                  "unit": "rw3"
                },
                {
                  "avg_capacity": 2.008319147478482,
                  "avg_current": -0.396,
                  "avg_temperature": 21.9204,
                  "avg_voltage": 4.2,
                  "datetime": "2020-01-01 01:15:00",
                  "min_cycle": "450",
                  "unit": "rw3"
                },
                {
                  "avg_capacity": 2.009992547884684,
                  "avg_current": -0.395,
                  "avg_temperature": 21.88925,
                  "avg_voltage": 4.2,
                  "datetime": "2020-01-01 01:15:10",
                  "min_cycle": "451",
                  "unit": "rw3"
                },
                {
                  "avg_capacity": 2.0084327962382855,
                  "avg_current": -0.39,
                  "avg_temperature": 21.87368,
                  "avg_voltage": 4.2,
                  "datetime": "2020-01-01 01:15:20",
                  "min_cycle": "452",
                  "unit": "rw3"
                },
                {
                  "avg_capacity": 2.0087073839396044,
                  "avg_current": -0.387,
                  "avg_temperature": 21.84254,
                  "avg_voltage": 4.2,
                  "datetime": "2020-01-01 01:15:30",
                  "min_cycle": "453",
                  "unit": "rw3"
                },
                {
                  "avg_capacity": 2.0097978017137614,
                  "avg_current": -0.385,
                  "avg_temperature": 21.82696,
                  "avg_voltage": 4.2,
                  "datetime": "2020-01-01 01:15:40",
                  "min_cycle": "454",
                  "unit": "rw3"
                },
                {
                  "avg_capacity": 2.008396897345257,
                  "avg_current": -0.381,
                  "avg_temperature": 21.79581,
                  "avg_voltage": 4.2,
                  "datetime": "2020-01-01 01:15:50",
                  "min_cycle": "455",
                  "unit": "rw3"
                },
                {
                  "avg_capacity": 2.009376701881802,
                  "avg_current": -0.379,
                  "avg_temperature": 21.78024,
                  "avg_voltage": 4.2,
                  "datetime": "2020-01-01 01:16:00",
                  "min_cycle": "456",
                  "unit": "rw3"
                },
                {
                  "avg_capacity": 2.0085842769008506,
                  "avg_current": -0.375,
                  "avg_temperature": 21.78024,
                  "avg_voltage": 4.2,
                  "datetime": "2020-01-01 01:16:10",
                  "min_cycle": "457",
                  "unit": "rw3"
                },
                {
                  "avg_capacity": 2.006828280024817,
                  "avg_current": -0.374,
                  "avg_temperature": 21.78024,
                  "avg_voltage": 4.2,
                  "datetime": "2020-01-01 01:16:20",
                  "min_cycle": "458",
                  "unit": "rw3"
                },
                {
                  "avg_capacity": 2.008060802912647,
                  "avg_current": -0.37,
                  "avg_temperature": 21.76467,
                  "avg_voltage": 4.2,
                  "datetime": "2020-01-01 01:16:30",
                  "min_cycle": "459",
                  "unit": "rw3"
                },
                {
                  "avg_capacity": 2.008530384899107,
                  "avg_current": -0.368,
                  "avg_temperature": 21.73352,
                  "avg_voltage": 4.2,
                  "datetime": "2020-01-01 01:16:40",
                  "min_cycle": "460",
                  "unit": "rw3"
                },
                {
                  "avg_capacity": 2.0071042067156646,
                  "avg_current": -0.367,
                  "avg_temperature": 21.71795,
                  "avg_voltage": 4.2,
                  "datetime": "2020-01-01 01:16:50",
                  "min_cycle": "461",
                  "unit": "rw3"
                },
                {
                  "avg_capacity": 2.00886393894614,
                  "avg_current": -0.364,
                  "avg_temperature": 21.71795,
                  "avg_voltage": 4.2,
                  "datetime": "2020-01-01 01:17:00",
                  "min_cycle": "462",
                  "unit": "rw3"
                },
                {
                  "avg_capacity": 2.0090420285449953,
                  "avg_current": -0.361,
                  "avg_temperature": 21.70238,
                  "avg_voltage": 4.2,
                  "datetime": "2020-01-01 01:17:10",
                  "min_cycle": "463",
                  "unit": "rw3"
                },
                {
                  "avg_capacity": 2.00767941400334,
                  "avg_current": -0.358,
                  "avg_temperature": 21.6868,
                  "avg_voltage": 4.2,
                  "datetime": "2020-01-01 01:17:20",
                  "min_cycle": "464",
                  "unit": "rw3"
                },
                {
                  "avg_capacity": 2.0084778362479567,
                  "avg_current": -0.356,
                  "avg_temperature": 21.67123,
                  "avg_voltage": 4.2,
                  "datetime": "2020-01-01 01:17:30",
                  "min_cycle": "465",
                  "unit": "rw3"
                },
                {
                  "avg_capacity": 2.0085655493566366,
                  "avg_current": -0.352,
                  "avg_temperature": 21.65565,
                  "avg_voltage": 4.2,
                  "datetime": "2020-01-01 01:17:40",
                  "min_cycle": "466",
                  "unit": "rw3"
                },
                {
                  "avg_capacity": 2.008843452705343,
                  "avg_current": -0.35,
                  "avg_temperature": 21.64008,
                  "avg_voltage": 4.2,
                  "datetime": "2020-01-01 01:17:50",
                  "min_cycle": "467",
                  "unit": "rw3"
                },
                {
                  "avg_capacity": 2.010241166117503,
                  "avg_current": -0.348,
                  "avg_temperature": 21.64008,
                  "avg_voltage": 4.2,
                  "datetime": "2020-01-01 01:18:00",
                  "min_cycle": "468",
                  "unit": "rw3"
                },
                {
                  "avg_capacity": 2.009026346148502,
                  "avg_current": -0.346,
                  "avg_temperature": 21.62451,
                  "avg_voltage": 4.2,
                  "datetime": "2020-01-01 01:18:10",
                  "min_cycle": "469",
                  "unit": "rw3"
                },
                {
                  "avg_capacity": 2.0102267104883946,
                  "avg_current": -0.343,
                  "avg_temperature": 21.62451,
                  "avg_voltage": 4.2,
                  "datetime": "2020-01-01 01:18:20",
                  "min_cycle": "470",
                  "unit": "rw3"
                },
                {
                  "avg_capacity": 2.008123646219824,
                  "avg_current": -0.342,
                  "avg_temperature": 21.60894,
                  "avg_voltage": 4.2,
                  "datetime": "2020-01-01 01:18:30",
                  "min_cycle": "471",
                  "unit": "rw3"
                },
                {
                  "avg_capacity": 2.0089957995254775,
                  "avg_current": -0.34,
                  "avg_temperature": 21.59336,
                  "avg_voltage": 4.2,
                  "datetime": "2020-01-01 01:18:40",
                  "min_cycle": "472",
                  "unit": "rw3"
                },
                {
                  "avg_capacity": 2.0086477743974562,
                  "avg_current": -0.337,
                  "avg_temperature": 21.57779,
                  "avg_voltage": 4.2,
                  "datetime": "2020-01-01 01:18:50",
                  "min_cycle": "473",
                  "unit": "rw3"
                },
                {
                  "avg_capacity": 2.0088327572431783,
                  "avg_current": -0.334,
                  "avg_temperature": 21.57779,
                  "avg_voltage": 4.2,
                  "datetime": "2020-01-01 01:19:00",
                  "min_cycle": "474",
                  "unit": "rw3"
                },
                {
                  "avg_capacity": 2.009345559821396,
                  "avg_current": -0.331,
                  "avg_temperature": 21.56222,
                  "avg_voltage": 4.2,
                  "datetime": "2020-01-01 01:19:10",
                  "min_cycle": "475",
                  "unit": "rw3"
                },
                {
                  "avg_capacity": 2.00813612607114,
                  "avg_current": -0.33,
                  "avg_temperature": 21.54664,
                  "avg_voltage": 4.2,
                  "datetime": "2020-01-01 01:19:20",
                  "min_cycle": "476",
                  "unit": "rw3"
                },
                {
                  "avg_capacity": 2.01028529626264,
                  "avg_current": -0.328,
                  "avg_temperature": 21.53107,
                  "avg_voltage": 4.2,
                  "datetime": "2020-01-01 01:19:30",
                  "min_cycle": "477",
                  "unit": "rw3"
                },
                {
                  "avg_capacity": 2.0092540609009024,
                  "avg_current": -0.326,
                  "avg_temperature": 21.53107,
                  "avg_voltage": 4.2,
                  "datetime": "2020-01-01 01:19:40",
                  "min_cycle": "478",
                  "unit": "rw3"
                },
                {
                  "avg_capacity": 2.01055893983439,
                  "avg_current": -0.323,
                  "avg_temperature": 21.5155,
                  "avg_voltage": 4.2,
                  "datetime": "2020-01-01 01:19:50",
                  "min_cycle": "479",
                  "unit": "rw3"
                },
                {
                  "avg_capacity": 2.008556353214444,
                  "avg_current": -0.32,
                  "avg_temperature": 21.5155,
                  "avg_voltage": 4.2,
                  "datetime": "2020-01-01 01:20:00",
                  "min_cycle": "480",
                  "unit": "rw3"
                },
                {
                  "avg_capacity": 2.0080101624226097,
                  "avg_current": -0.319,
                  "avg_temperature": 21.49992,
                  "avg_voltage": 4.2,
                  "datetime": "2020-01-01 01:20:10",
                  "min_cycle": "481",
                  "unit": "rw3"
                },
                {
                  "avg_capacity": 2.008106385191679,
                  "avg_current": -0.316,
                  "avg_temperature": 21.49992,
                  "avg_voltage": 4.2,
                  "datetime": "2020-01-01 01:20:20",
                  "min_cycle": "482",
                  "unit": "rw3"
                },
                {
                  "avg_capacity": 2.006896349272946,
                  "avg_current": -0.314,
                  "avg_temperature": 21.49992,
                  "avg_voltage": 4.2,
                  "datetime": "2020-01-01 01:20:30",
                  "min_cycle": "483",
                  "unit": "rw3"
                },
                {
                  "avg_capacity": 2.011264516206958,
                  "avg_current": -0.313,
                  "avg_temperature": 21.4532,
                  "avg_voltage": 4.2,
                  "datetime": "2020-01-01 01:20:40",
                  "min_cycle": "484",
                  "unit": "rw3"
                },
                {
                  "avg_capacity": 2.0081559104178197,
                  "avg_current": -0.311,
                  "avg_temperature": 21.4532,
                  "avg_voltage": 4.2,
                  "datetime": "2020-01-01 01:20:50",
                  "min_cycle": "485",
                  "unit": "rw3"
                },
                {
                  "avg_capacity": 2.0101810651716456,
                  "avg_current": -0.308,
                  "avg_temperature": 21.43763,
                  "avg_voltage": 4.2,
                  "datetime": "2020-01-01 01:21:00",
                  "min_cycle": "486",
                  "unit": "rw3"
                },
                {
                  "avg_capacity": 2.009123063384328,
                  "avg_current": -0.305,
                  "avg_temperature": 21.42206,
                  "avg_voltage": 4.2,
                  "datetime": "2020-01-01 01:21:10",
                  "min_cycle": "487",
                  "unit": "rw3"
                },
                {
                  "avg_capacity": 2.008413451546405,
                  "avg_current": -0.305,
                  "avg_temperature": 21.40648,
                  "avg_voltage": 4.2,
                  "datetime": "2020-01-01 01:21:20",
                  "min_cycle": "488",
                  "unit": "rw3"
                },
                {
                  "avg_capacity": 2.0096657685612715,
                  "avg_current": -0.301,
                  "avg_temperature": 21.40648,
                  "avg_voltage": 4.2,
                  "datetime": "2020-01-01 01:21:30",
                  "min_cycle": "489",
                  "unit": "rw3"
                },
                {
                  "avg_capacity": 2.00879682119008,
                  "avg_current": -0.299,
                  "avg_temperature": 21.39091,
                  "avg_voltage": 4.2,
                  "datetime": "2020-01-01 01:21:40",
                  "min_cycle": "490",
                  "unit": "rw3"
                },
                {
                  "avg_capacity": 2.0086256827581432,
                  "avg_current": -0.298,
                  "avg_temperature": 21.39091,
                  "avg_voltage": 4.2,
                  "datetime": "2020-01-01 01:21:50",
                  "min_cycle": "491",
                  "unit": "rw3"
                },
                {
                  "avg_capacity": 2.0086917360895993,
                  "avg_current": -0.295,
                  "avg_temperature": 21.35976,
                  "avg_voltage": 4.2,
                  "datetime": "2020-01-01 01:22:00",
                  "min_cycle": "492",
                  "unit": "rw3"
                },
                {
                  "avg_capacity": 2.00852955343194,
                  "avg_current": -0.294,
                  "avg_temperature": 21.37534,
                  "avg_voltage": 4.2,
                  "datetime": "2020-01-01 01:22:10",
                  "min_cycle": "493",
                  "unit": "rw3"
                },
                {
                  "avg_capacity": 2.0096473214432056,
                  "avg_current": -0.292,
                  "avg_temperature": 21.35976,
                  "avg_voltage": 4.2,
                  "datetime": "2020-01-01 01:22:20",
                  "min_cycle": "494",
                  "unit": "rw3"
                },
                {
                  "avg_capacity": 2.0091001812082028,
                  "avg_current": -0.289,
                  "avg_temperature": 21.34419,
                  "avg_voltage": 4.2,
                  "datetime": "2020-01-01 01:22:30",
                  "min_cycle": "495",
                  "unit": "rw3"
                },
                {
                  "avg_capacity": 2.0083128816557436,
                  "avg_current": -0.287,
                  "avg_temperature": 21.34419,
                  "avg_voltage": 4.2,
                  "datetime": "2020-01-01 01:22:40",
                  "min_cycle": "496",
                  "unit": "rw3"
                },
                {
                  "avg_capacity": 2.0088245862862615,
                  "avg_current": -0.285,
                  "avg_temperature": 21.32862,
                  "avg_voltage": 4.2,
                  "datetime": "2020-01-01 01:22:50",
                  "min_cycle": "497",
                  "unit": "rw3"
                },
                {
                  "avg_capacity": 2.008695522664199,
                  "avg_current": -0.285,
                  "avg_temperature": 21.32862,
                  "avg_voltage": 4.2,
                  "datetime": "2020-01-01 01:23:00",
                  "min_cycle": "498",
                  "unit": "rw3"
                },
                {
                  "avg_capacity": 2.00854350441434,
                  "avg_current": -0.281,
                  "avg_temperature": 21.31304,
                  "avg_voltage": 4.2,
                  "datetime": "2020-01-01 01:23:10",
                  "min_cycle": "499",
                  "unit": "rw3"
                },
                {
                  "avg_capacity": 2.0073879027123045,
                  "avg_current": -0.281,
                  "avg_temperature": 21.29747,
                  "avg_voltage": 4.2,
                  "datetime": "2020-01-01 01:23:20",
                  "min_cycle": "500",
                  "unit": "rw3"
                },
                {
                  "avg_capacity": 2.0085625054867977,
                  "avg_current": -0.278,
                  "avg_temperature": 21.2819,
                  "avg_voltage": 4.2,
                  "datetime": "2020-01-01 01:23:30",
                  "min_cycle": "501",
                  "unit": "rw3"
                },
                {
                  "avg_capacity": 2.0097820627102934,
                  "avg_current": -0.275,
                  "avg_temperature": 21.26632,
                  "avg_voltage": 4.2,
                  "datetime": "2020-01-01 01:23:40",
                  "min_cycle": "502",
                  "unit": "rw3"
                },
                {
                  "avg_capacity": 2.008759147800784,
                  "avg_current": -0.274,
                  "avg_temperature": 21.2819,
                  "avg_voltage": 4.2,
                  "datetime": "2020-01-01 01:23:50",
                  "min_cycle": "503",
                  "unit": "rw3"
                },
                {
                  "avg_capacity": 2.009535576026192,
                  "avg_current": -0.273,
                  "avg_temperature": 21.26632,
                  "avg_voltage": 4.2,
                  "datetime": "2020-01-01 01:24:00",
                  "min_cycle": "504",
                  "unit": "rw3"
                },
                {
                  "avg_capacity": 2.008209747432038,
                  "avg_current": -0.271,
                  "avg_temperature": 21.26632,
                  "avg_voltage": 4.2,
                  "datetime": "2020-01-01 01:24:10",
                  "min_cycle": "505",
                  "unit": "rw3"
                },
                {
                  "avg_capacity": 2.0091871986564547,
                  "avg_current": -0.269,
                  "avg_temperature": 21.25075,
                  "avg_voltage": 4.2,
                  "datetime": "2020-01-01 01:24:20",
                  "min_cycle": "506",
                  "unit": "rw3"
                },
                {
                  "avg_capacity": 2.0079716182674754,
                  "avg_current": -0.267,
                  "avg_temperature": 21.23518,
                  "avg_voltage": 4.2,
                  "datetime": "2020-01-01 01:24:30",
                  "min_cycle": "507",
                  "unit": "rw3"
                },
                {
                  "avg_capacity": 2.0088361317888213,
                  "avg_current": -0.267,
                  "avg_temperature": 21.23518,
                  "avg_voltage": 4.2,
                  "datetime": "2020-01-01 01:24:40",
                  "min_cycle": "508",
                  "unit": "rw3"
                },
                {
                  "avg_capacity": 2.0081618758389603,
                  "avg_current": -0.264,
                  "avg_temperature": 21.2196,
                  "avg_voltage": 4.2,
                  "datetime": "2020-01-01 01:24:50",
                  "min_cycle": "509",
                  "unit": "rw3"
                },
                {
                  "avg_capacity": 2.009735809674159,
                  "avg_current": -0.262,
                  "avg_temperature": 21.2196,
                  "avg_voltage": 4.2,
                  "datetime": "2020-01-01 01:25:00",
                  "min_cycle": "510",
                  "unit": "rw3"
                },
                {
                  "avg_capacity": 2.008039420376567,
                  "avg_current": -0.261,
                  "avg_temperature": 21.2196,
                  "avg_voltage": 4.2,
                  "datetime": "2020-01-01 01:25:10",
                  "min_cycle": "511",
                  "unit": "rw3"
                },
                {
                  "avg_capacity": 2.009228628178983,
                  "avg_current": -0.259,
                  "avg_temperature": 21.20403,
                  "avg_voltage": 4.2,
                  "datetime": "2020-01-01 01:25:20",
                  "min_cycle": "512",
                  "unit": "rw3"
                },
                {
                  "avg_capacity": 2.0100167766099077,
                  "avg_current": -0.257,
                  "avg_temperature": 21.18846,
                  "avg_voltage": 4.2,
                  "datetime": "2020-01-01 01:25:30",
                  "min_cycle": "513",
                  "unit": "rw3"
                },
                {
                  "avg_capacity": 2.010247818505554,
                  "avg_current": -0.255,
                  "avg_temperature": 21.18846,
                  "avg_voltage": 4.2,
                  "datetime": "2020-01-01 01:25:40",
                  "min_cycle": "514",
                  "unit": "rw3"
                },
                {
                  "avg_capacity": 2.0067164570994076,
                  "avg_current": -0.254,
                  "avg_temperature": 21.17289,
                  "avg_voltage": 4.2,
                  "datetime": "2020-01-01 01:25:50",
                  "min_cycle": "515",
                  "unit": "rw3"
                },
                {
                  "avg_capacity": 2.009608213535595,
                  "avg_current": -0.253,
                  "avg_temperature": 21.15731,
                  "avg_voltage": 4.2,
                  "datetime": "2020-01-01 01:26:00",
                  "min_cycle": "516",
                  "unit": "rw3"
                },
                {
                  "avg_capacity": 2.010535756055964,
                  "avg_current": -0.251,
                  "avg_temperature": 21.15731,
                  "avg_voltage": 4.2,
                  "datetime": "2020-01-01 01:26:10",
                  "min_cycle": "517",
                  "unit": "rw3"
                },
                {
                  "avg_capacity": 2.0079012094557536,
                  "avg_current": -0.249,
                  "avg_temperature": 21.14174,
                  "avg_voltage": 4.2,
                  "datetime": "2020-01-01 01:26:20",
                  "min_cycle": "518",
                  "unit": "rw3"
                },
                {
                  "avg_capacity": 2.007486225382942,
                  "avg_current": -0.248,
                  "avg_temperature": 21.14174,
                  "avg_voltage": 4.2,
                  "datetime": "2020-01-01 01:26:30",
                  "min_cycle": "519",
                  "unit": "rw3"
                },
                {
                  "avg_capacity": 2.0084907913796908,
                  "avg_current": -0.246,
                  "avg_temperature": 21.12617,
                  "avg_voltage": 4.2,
                  "datetime": "2020-01-01 01:26:40",
                  "min_cycle": "520",
                  "unit": "rw3"
                },
                {
                  "avg_capacity": 2.0101220546609753,
                  "avg_current": -0.244,
                  "avg_temperature": 21.12617,
                  "avg_voltage": 4.2,
                  "datetime": "2020-01-01 01:26:50",
                  "min_cycle": "521",
                  "unit": "rw3"
                },
                {
                  "avg_capacity": 2.008171878456803,
                  "avg_current": -0.243,
                  "avg_temperature": 21.12617,
                  "avg_voltage": 4.2,
                  "datetime": "2020-01-01 01:27:00",
                  "min_cycle": "522",
                  "unit": "rw3"
                },
                {
                  "avg_capacity": 2.0105291179597784,
                  "avg_current": -0.24,
                  "avg_temperature": 21.11059,
                  "avg_voltage": 4.2,
                  "datetime": "2020-01-01 01:27:10",
                  "min_cycle": "523",
                  "unit": "rw3"
                },
                {
                  "avg_capacity": 2.010017279313262,
                  "avg_current": -0.24,
                  "avg_temperature": 21.11059,
                  "avg_voltage": 4.2,
                  "datetime": "2020-01-01 01:27:20",
                  "min_cycle": "524",
                  "unit": "rw3"
                },
                {
                  "avg_capacity": 2.008842535825702,
                  "avg_current": -0.238,
                  "avg_temperature": 21.09502,
                  "avg_voltage": 4.2,
                  "datetime": "2020-01-01 01:27:30",
                  "min_cycle": "525",
                  "unit": "rw3"
                },
                {
                  "avg_capacity": 2.0073216911523084,
                  "avg_current": -0.236,
                  "avg_temperature": 21.09502,
                  "avg_voltage": 4.2,
                  "datetime": "2020-01-01 01:27:40",
                  "min_cycle": "526",
                  "unit": "rw3"
                },
                {
                  "avg_capacity": 2.0079336540002286,
                  "avg_current": -0.236,
                  "avg_temperature": 21.09502,
                  "avg_voltage": 4.2,
                  "datetime": "2020-01-01 01:27:50",
                  "min_cycle": "527",
                  "unit": "rw3"
                },
                {
                  "avg_capacity": 2.0097490161533713,
                  "avg_current": -0.233,
                  "avg_temperature": 21.07945,
                  "avg_voltage": 4.2,
                  "datetime": "2020-01-01 01:28:00",
                  "min_cycle": "528",
                  "unit": "rw3"
                },
                {
                  "avg_capacity": 2.009188177946342,
                  "avg_current": -0.231,
                  "avg_temperature": 21.07945,
                  "avg_voltage": 4.2,
                  "datetime": "2020-01-01 01:28:10",
                  "min_cycle": "529",
                  "unit": "rw3"
                },
                {
                  "avg_capacity": 2.008226675980201,
                  "avg_current": -0.229,
                  "avg_temperature": 21.07945,
                  "avg_voltage": 4.2,
                  "datetime": "2020-01-01 01:28:20",
                  "min_cycle": "530",
                  "unit": "rw3"
                },
                {
                  "avg_capacity": 2.008201986430876,
                  "avg_current": -0.228,
                  "avg_temperature": 21.0483,
                  "avg_voltage": 4.2,
                  "datetime": "2020-01-01 01:28:30",
                  "min_cycle": "531",
                  "unit": "rw3"
                },
                {
                  "avg_capacity": 2.008629063629337,
                  "avg_current": -0.227,
                  "avg_temperature": 21.0483,
                  "avg_voltage": 4.2,
                  "datetime": "2020-01-01 01:28:40",
                  "min_cycle": "532",
                  "unit": "rw3"
                },
                {
                  "avg_capacity": 2.009178982443056,
                  "avg_current": -0.227,
                  "avg_temperature": 21.0483,
                  "avg_voltage": 4.2,
                  "datetime": "2020-01-01 01:28:50",
                  "min_cycle": "533",
                  "unit": "rw3"
                },
                {
                  "avg_capacity": 2.0086949160162972,
                  "avg_current": -0.224,
                  "avg_temperature": 21.03273,
                  "avg_voltage": 4.2,
                  "datetime": "2020-01-01 01:29:00",
                  "min_cycle": "534",
                  "unit": "rw3"
                },
                {
                  "avg_capacity": 2.0106828683444236,
                  "avg_current": -0.223,
                  "avg_temperature": 21.0483,
                  "avg_voltage": 4.2,
                  "datetime": "2020-01-01 01:29:10",
                  "min_cycle": "535",
                  "unit": "rw3"
                },
                {
                  "avg_capacity": 2.008277331894499,
                  "avg_current": -0.223,
                  "avg_temperature": 21.03273,
                  "avg_voltage": 4.2,
                  "datetime": "2020-01-01 01:29:20",
                  "min_cycle": "536",
                  "unit": "rw3"
                },
                {
                  "avg_capacity": 2.0104827699169805,
                  "avg_current": -0.221,
                  "avg_temperature": 21.01715,
                  "avg_voltage": 4.2,
                  "datetime": "2020-01-01 01:29:30",
                  "min_cycle": "537",
                  "unit": "rw3"
                },
                {
                  "avg_capacity": 2.0097554124082246,
                  "avg_current": -0.219,
                  "avg_temperature": 21.01715,
                  "avg_voltage": 4.2,
                  "datetime": "2020-01-01 01:29:40",
                  "min_cycle": "538",
                  "unit": "rw3"
                },
                {
                  "avg_capacity": 2.0087618934877267,
                  "avg_current": -0.217,
                  "avg_temperature": 21.00158,
                  "avg_voltage": 4.2,
                  "datetime": "2020-01-01 01:29:50",
                  "min_cycle": "539",
                  "unit": "rw3"
                },
                {
                  "avg_capacity": 2.00937260761473,
                  "avg_current": -0.215,
                  "avg_temperature": 20.97043,
                  "avg_voltage": 4.2,
                  "datetime": "2020-01-01 01:30:00",
                  "min_cycle": "540",
                  "unit": "rw3"
                },
                {
                  "avg_capacity": 2.008341361045653,
                  "avg_current": -0.215,
                  "avg_temperature": 20.95486,
                  "avg_voltage": 4.2,
                  "datetime": "2020-01-01 01:30:10",
                  "min_cycle": "541",
                  "unit": "rw3"
                },
                {
                  "avg_capacity": 2.0097594281553453,
                  "avg_current": -0.214,
                  "avg_temperature": 20.92371,
                  "avg_voltage": 4.2,
                  "datetime": "2020-01-01 01:30:20",
                  "min_cycle": "542",
                  "unit": "rw3"
                },
                {
                  "avg_capacity": 2.009624387658717,
                  "avg_current": -0.211,
                  "avg_temperature": 20.92371,
                  "avg_voltage": 4.2,
                  "datetime": "2020-01-01 01:30:30",
                  "min_cycle": "543",
                  "unit": "rw3"
                },
                {
                  "avg_capacity": 2.010222362030226,
                  "avg_current": -0.21,
                  "avg_temperature": 20.90814,
                  "avg_voltage": 4.2,
                  "datetime": "2020-01-01 01:30:40",
                  "min_cycle": "544",
                  "unit": "rw3"
                },
                {
                  "avg_capacity": 2.009144141579788,
                  "avg_current": -0.211,
                  "avg_temperature": 20.89257,
                  "avg_voltage": 4.2,
                  "datetime": "2020-01-01 01:30:50",
                  "min_cycle": "545",
                  "unit": "rw3"
                },
                {
                  "avg_capacity": 2.007051331625732,
                  "avg_current": -0.208,
                  "avg_temperature": 20.87699,
                  "avg_voltage": 4.2,
                  "datetime": "2020-01-01 01:31:00",
                  "min_cycle": "546",
                  "unit": "rw3"
                },
                {
                  "avg_capacity": 2.0086475228269425,
                  "avg_current": -0.206,
                  "avg_temperature": 20.86142,
                  "avg_voltage": 4.2,
                  "datetime": "2020-01-01 01:31:10",
                  "min_cycle": "547",
                  "unit": "rw3"
                },
                {
                  "avg_capacity": 2.007528139634788,
                  "avg_current": -0.205,
                  "avg_temperature": 20.84585,
                  "avg_voltage": 4.2,
                  "datetime": "2020-01-01 01:31:20",
                  "min_cycle": "548",
                  "unit": "rw3"
                },
                {
                  "avg_capacity": 2.0079604645405533,
                  "avg_current": -0.204,
                  "avg_temperature": 20.83027,
                  "avg_voltage": 4.2,
                  "datetime": "2020-01-01 01:31:30",
                  "min_cycle": "549",
                  "unit": "rw3"
                },
                {
                  "avg_capacity": 2.007742085670359,
                  "avg_current": -0.202,
                  "avg_temperature": 20.83027,
                  "avg_voltage": 4.2,
                  "datetime": "2020-01-01 01:31:40",
                  "min_cycle": "550",
                  "unit": "rw3"
                },
                {
                  "avg_capacity": 2.007689583946385,
                  "avg_current": -0.201,
                  "avg_temperature": 20.8147,
                  "avg_voltage": 4.2,
                  "datetime": "2020-01-01 01:31:50",
                  "min_cycle": "551",
                  "unit": "rw3"
                },
                {
                  "avg_capacity": 2.010265108299935,
                  "avg_current": -0.201,
                  "avg_temperature": 20.8147,
                  "avg_voltage": 4.2,
                  "datetime": "2020-01-01 01:32:00",
                  "min_cycle": "552",
                  "unit": "rw3"
                },
                {
                  "avg_capacity": 2.009810215708782,
                  "avg_current": -0.2,
                  "avg_temperature": 20.79913,
                  "avg_voltage": 4.2,
                  "datetime": "2020-01-01 01:32:10",
                  "min_cycle": "553",
                  "unit": "rw3"
                },
                {
                  "avg_capacity": 2.0068642117931677,
                  "avg_current": -0.197,
                  "avg_temperature": 20.79913,
                  "avg_voltage": 4.2,
                  "datetime": "2020-01-01 01:32:20",
                  "min_cycle": "554",
                  "unit": "rw3"
                },
                {
                  "avg_capacity": 2.0098427354012585,
                  "avg_current": -0.197,
                  "avg_temperature": 20.76798,
                  "avg_voltage": 4.2,
                  "datetime": "2020-01-01 01:32:30",
                  "min_cycle": "555",
                  "unit": "rw3"
                },
                {
                  "avg_capacity": 2.0092365892824664,
                  "avg_current": -0.196,
                  "avg_temperature": 20.76798,
                  "avg_voltage": 4.2,
                  "datetime": "2020-01-01 01:32:40",
                  "min_cycle": "556",
                  "unit": "rw3"
                },
                {
                  "avg_capacity": 2.0084281755089783,
                  "avg_current": -0.195,
                  "avg_temperature": 20.76798,
                  "avg_voltage": 4.2,
                  "datetime": "2020-01-01 01:32:50",
                  "min_cycle": "557",
                  "unit": "rw3"
                },
                {
                  "avg_capacity": 2.0103433794981345,
                  "avg_current": -0.192,
                  "avg_temperature": 20.76798,
                  "avg_voltage": 4.2,
                  "datetime": "2020-01-01 01:33:00",
                  "min_cycle": "558",
                  "unit": "rw3"
                },
                {
                  "avg_capacity": 2.008729626750201,
                  "avg_current": -0.192,
                  "avg_temperature": 20.76798,
                  "avg_voltage": 4.2,
                  "datetime": "2020-01-01 01:33:10",
                  "min_cycle": "559",
                  "unit": "rw3"
                },
                {
                  "avg_capacity": 2.0090391687843976,
                  "avg_current": -0.19,
                  "avg_temperature": 20.75241,
                  "avg_voltage": 4.2,
                  "datetime": "2020-01-01 01:33:20",
                  "min_cycle": "560",
                  "unit": "rw3"
                },
                {
                  "avg_capacity": 2.0081125113849394,
                  "avg_current": -0.19,
                  "avg_temperature": 20.76798,
                  "avg_voltage": 4.2,
                  "datetime": "2020-01-01 01:33:30",
                  "min_cycle": "561",
                  "unit": "rw3"
                },
                {
                  "avg_capacity": 2.008540141245426,
                  "avg_current": -0.188,
                  "avg_temperature": 20.75241,
                  "avg_voltage": 4.2,
                  "datetime": "2020-01-01 01:33:40",
                  "min_cycle": "562",
                  "unit": "rw3"
                },
                {
                  "avg_capacity": 2.0075278091017688,
                  "avg_current": -0.188,
                  "avg_temperature": 20.75241,
                  "avg_voltage": 4.2,
                  "datetime": "2020-01-01 01:33:50",
                  "min_cycle": "563",
                  "unit": "rw3"
                },
                {
                  "avg_capacity": 2.0089746672634177,
                  "avg_current": -0.186,
                  "avg_temperature": 20.75241,
                  "avg_voltage": 4.2,
                  "datetime": "2020-01-01 01:34:00",
                  "min_cycle": "564",
                  "unit": "rw3"
                },
                {
                  "avg_capacity": 2.009208177873957,
                  "avg_current": -0.185,
                  "avg_temperature": 20.76798,
                  "avg_voltage": 4.2,
                  "datetime": "2020-01-01 01:34:10",
                  "min_cycle": "565",
                  "unit": "rw3"
                },
                {
                  "avg_capacity": 2.0078207377680464,
                  "avg_current": -0.184,
                  "avg_temperature": 20.76798,
                  "avg_voltage": 4.2,
                  "datetime": "2020-01-01 01:34:20",
                  "min_cycle": "566",
                  "unit": "rw3"
                },
                {
                  "avg_capacity": 2.011811700285655,
                  "avg_current": -0.183,
                  "avg_temperature": 20.75241,
                  "avg_voltage": 4.2,
                  "datetime": "2020-01-01 01:34:30",
                  "min_cycle": "567",
                  "unit": "rw3"
                },
                {
                  "avg_capacity": 2.0102416318756853,
                  "avg_current": -0.182,
                  "avg_temperature": 20.75241,
                  "avg_voltage": 4.2,
                  "datetime": "2020-01-01 01:34:40",
                  "min_cycle": "568",
                  "unit": "rw3"
                },
                {
                  "avg_capacity": 2.0083875450176905,
                  "avg_current": -0.18,
                  "avg_temperature": 20.75241,
                  "avg_voltage": 4.2,
                  "datetime": "2020-01-01 01:34:50",
                  "min_cycle": "569",
                  "unit": "rw3"
                },
                {
                  "avg_capacity": 2.0103879919092797,
                  "avg_current": -0.179,
                  "avg_temperature": 20.73683,
                  "avg_voltage": 4.2,
                  "datetime": "2020-01-01 01:35:00",
                  "min_cycle": "570",
                  "unit": "rw3"
                },
                {
                  "avg_capacity": 2.0096810432935532,
                  "avg_current": -0.178,
                  "avg_temperature": 20.75241,
                  "avg_voltage": 4.2,
                  "datetime": "2020-01-01 01:35:10",
                  "min_cycle": "571",
                  "unit": "rw3"
                },
                {
                  "avg_capacity": 2.008694993304277,
                  "avg_current": -0.178,
                  "avg_temperature": 20.75241,
                  "avg_voltage": 4.2,
                  "datetime": "2020-01-01 01:35:20",
                  "min_cycle": "572",
                  "unit": "rw3"
                },
                {
                  "avg_capacity": 2.0086083515375304,
                  "avg_current": -0.176,
                  "avg_temperature": 20.75241,
                  "avg_voltage": 4.2,
                  "datetime": "2020-01-01 01:35:30",
                  "min_cycle": "573",
                  "unit": "rw3"
                },
                {
                  "avg_capacity": 2.008898248664751,
                  "avg_current": -0.175,
                  "avg_temperature": 20.73683,
                  "avg_voltage": 4.2,
                  "datetime": "2020-01-01 01:35:40",
                  "min_cycle": "574",
                  "unit": "rw3"
                },
                {
                  "avg_capacity": 2.00885605521318,
                  "avg_current": -0.174,
                  "avg_temperature": 20.73683,
                  "avg_voltage": 4.2,
                  "datetime": "2020-01-01 01:35:50",
                  "min_cycle": "575",
                  "unit": "rw3"
                },
                {
                  "avg_capacity": 2.0091997082633766,
                  "avg_current": -0.172,
                  "avg_temperature": 20.72126,
                  "avg_voltage": 4.2,
                  "datetime": "2020-01-01 01:36:00",
                  "min_cycle": "576",
                  "unit": "rw3"
                },
                {
                  "avg_capacity": 2.00977902277103,
                  "avg_current": -0.17,
                  "avg_temperature": 20.70569,
                  "avg_voltage": 4.2,
                  "datetime": "2020-01-01 01:36:10",
                  "min_cycle": "577",
                  "unit": "rw3"
                },
                {
                  "avg_capacity": 2.0082665169161613,
                  "avg_current": -0.17,
                  "avg_temperature": 20.69011,
                  "avg_voltage": 4.2,
                  "datetime": "2020-01-01 01:36:20",
                  "min_cycle": "578",
                  "unit": "rw3"
                },
                {
                  "avg_capacity": 2.0097956180725585,
                  "avg_current": -0.169,
                  "avg_temperature": 20.69011,
                  "avg_voltage": 4.2,
                  "datetime": "2020-01-01 01:36:30",
                  "min_cycle": "579",
                  "unit": "rw3"
                },
                {
                  "avg_capacity": 2.0088249498543247,
                  "avg_current": -0.169,
                  "avg_temperature": 20.67454,
                  "avg_voltage": 4.2,
                  "datetime": "2020-01-01 01:36:40",
                  "min_cycle": "580",
                  "unit": "rw3"
                },
                {
                  "avg_capacity": 2.0081395612507333,
                  "avg_current": -0.168,
                  "avg_temperature": 20.67454,
                  "avg_voltage": 4.2,
                  "datetime": "2020-01-01 01:36:50",
                  "min_cycle": "581",
                  "unit": "rw3"
                },
                {
                  "avg_capacity": 2.009670093092583,
                  "avg_current": -0.167,
                  "avg_temperature": 20.67454,
                  "avg_voltage": 4.2,
                  "datetime": "2020-01-01 01:37:00",
                  "min_cycle": "582",
                  "unit": "rw3"
                },
                {
                  "avg_capacity": 2.0096432892572706,
                  "avg_current": -0.165,
                  "avg_temperature": 20.67454,
                  "avg_voltage": 4.2,
                  "datetime": "2020-01-01 01:37:10",
                  "min_cycle": "583",
                  "unit": "rw3"
                },
                {
                  "avg_capacity": 2.010059079841511,
                  "avg_current": -0.165,
                  "avg_temperature": 20.67454,
                  "avg_voltage": 4.2,
                  "datetime": "2020-01-01 01:37:20",
                  "min_cycle": "584",
                  "unit": "rw3"
                },
                {
                  "avg_capacity": 2.009169604130085,
                  "avg_current": -0.165,
                  "avg_temperature": 20.65897,
                  "avg_voltage": 4.2,
                  "datetime": "2020-01-01 01:37:30",
                  "min_cycle": "585",
                  "unit": "rw3"
                },
                {
                  "avg_capacity": 2.0093282515569895,
                  "avg_current": -0.162,
                  "avg_temperature": 20.65897,
                  "avg_voltage": 4.2,
                  "datetime": "2020-01-01 01:37:40",
                  "min_cycle": "586",
                  "unit": "rw3"
                },
                {
                  "avg_capacity": 2.0084400277946783,
                  "avg_current": -0.163,
                  "avg_temperature": 20.65897,
                  "avg_voltage": 4.2,
                  "datetime": "2020-01-01 01:37:50",
                  "min_cycle": "587",
                  "unit": "rw3"
                },
                {
                  "avg_capacity": 2.0065200080812633,
                  "avg_current": -0.16,
                  "avg_temperature": 20.65897,
                  "avg_voltage": 4.2,
                  "datetime": "2020-01-01 01:38:00",
                  "min_cycle": "588",
                  "unit": "rw3"
                },
                {
                  "avg_capacity": 2.0087593658409664,
                  "avg_current": -0.16,
                  "avg_temperature": 20.65897,
                  "avg_voltage": 4.2,
                  "datetime": "2020-01-01 01:38:10",
                  "min_cycle": "589",
                  "unit": "rw3"
                },
                {
                  "avg_capacity": 2.0097103389291737,
                  "avg_current": -0.159,
                  "avg_temperature": 20.64339,
                  "avg_voltage": 4.2,
                  "datetime": "2020-01-01 01:38:20",
                  "min_cycle": "590",
                  "unit": "rw3"
                },
                {
                  "avg_capacity": 2.0086322791495648,
                  "avg_current": -0.157,
                  "avg_temperature": 20.64339,
                  "avg_voltage": 4.2,
                  "datetime": "2020-01-01 01:38:30",
                  "min_cycle": "591",
                  "unit": "rw3"
                },
                {
                  "avg_capacity": 2.009335070466597,
                  "avg_current": -0.157,
                  "avg_temperature": 20.64339,
                  "avg_voltage": 4.2,
                  "datetime": "2020-01-01 01:38:40",
                  "min_cycle": "592",
                  "unit": "rw3"
                },
                {
                  "avg_capacity": 2.009008379843857,
                  "avg_current": -0.156,
                  "avg_temperature": 20.64339,
                  "avg_voltage": 4.2,
                  "datetime": "2020-01-01 01:38:50",
                  "min_cycle": "593",
                  "unit": "rw3"
                },
                {
                  "avg_capacity": 2.0069300131780934,
                  "avg_current": -0.155,
                  "avg_temperature": 20.64339,
                  "avg_voltage": 4.2,
                  "datetime": "2020-01-01 01:39:00",
                  "min_cycle": "594",
                  "unit": "rw3"
                },
                {
                  "avg_capacity": 2.0067258113843005,
                  "avg_current": -0.155,
                  "avg_temperature": 20.62782,
                  "avg_voltage": 4.2,
                  "datetime": "2020-01-01 01:39:10",
                  "min_cycle": "595",
                  "unit": "rw3"
                },
                {
                  "avg_capacity": 2.0095518273818165,
                  "avg_current": -0.153,
                  "avg_temperature": 20.62782,
                  "avg_voltage": 4.2,
                  "datetime": "2020-01-01 01:39:20",
                  "min_cycle": "596",
                  "unit": "rw3"
                },
                {
                  "avg_capacity": 2.0080820229087593,
                  "avg_current": -0.154,
                  "avg_temperature": 20.62782,
                  "avg_voltage": 4.2,
                  "datetime": "2020-01-01 01:39:30",
                  "min_cycle": "597",
                  "unit": "rw3"
                },
                {
                  "avg_capacity": 2.008958808193492,
                  "avg_current": -0.152,
                  "avg_temperature": 20.61225,
                  "avg_voltage": 4.2,
                  "datetime": "2020-01-01 01:39:40",
                  "min_cycle": "598",
                  "unit": "rw3"
                },
                {
                  "avg_capacity": 2.0078718327966065,
                  "avg_current": -0.151,
                  "avg_temperature": 20.61225,
                  "avg_voltage": 4.2,
                  "datetime": "2020-01-01 01:39:50",
                  "min_cycle": "599",
                  "unit": "rw3"
                },
                {
                  "avg_capacity": 2.009880569344084,
                  "avg_current": -0.149,
                  "avg_temperature": 20.61225,
                  "avg_voltage": 4.2,
                  "datetime": "2020-01-01 01:40:00",
                  "min_cycle": "600",
                  "unit": "rw3"
                },
                {
                  "avg_capacity": 2.0099541366157654,
                  "avg_current": -0.149,
                  "avg_temperature": 20.61225,
                  "avg_voltage": 4.2,
                  "datetime": "2020-01-01 01:40:10",
                  "min_cycle": "601",
                  "unit": "rw3"
                },
                {
                  "avg_capacity": 2.0085544515104656,
                  "avg_current": -0.149,
                  "avg_temperature": 20.61225,
                  "avg_voltage": 4.2,
                  "datetime": "2020-01-01 01:40:20",
                  "min_cycle": "602",
                  "unit": "rw3"
                },
                {
                  "avg_capacity": 2.0106071788332964,
                  "avg_current": -0.147,
                  "avg_temperature": 20.59667,
                  "avg_voltage": 4.2,
                  "datetime": "2020-01-01 01:40:30",
                  "min_cycle": "603",
                  "unit": "rw3"
                },
                {
                  "avg_capacity": 2.009360189978708,
                  "avg_current": -0.146,
                  "avg_temperature": 20.61225,
                  "avg_voltage": 4.2,
                  "datetime": "2020-01-01 01:40:40",
                  "min_cycle": "604",
                  "unit": "rw3"
                },
                {
                  "avg_capacity": 2.0077940594513035,
                  "avg_current": -0.146,
                  "avg_temperature": 20.59667,
                  "avg_voltage": 4.2,
                  "datetime": "2020-01-01 01:40:50",
                  "min_cycle": "605",
                  "unit": "rw3"
                },
                {
                  "avg_capacity": 2.009773571611651,
                  "avg_current": -0.144,
                  "avg_temperature": 20.59667,
                  "avg_voltage": 4.2,
                  "datetime": "2020-01-01 01:41:00",
                  "min_cycle": "606",
                  "unit": "rw3"
                },
                {
                  "avg_capacity": 2.007340643161276,
                  "avg_current": -0.145,
                  "avg_temperature": 20.5811,
                  "avg_voltage": 4.2,
                  "datetime": "2020-01-01 01:41:10",
                  "min_cycle": "607",
                  "unit": "rw3"
                },
                {
                  "avg_capacity": 2.008989381416316,
                  "avg_current": -0.142,
                  "avg_temperature": 20.5811,
                  "avg_voltage": 4.2,
                  "datetime": "2020-01-01 01:41:20",
                  "min_cycle": "608",
                  "unit": "rw3"
                },
                {
                  "avg_capacity": 2.0079184557642185,
                  "avg_current": -0.141,
                  "avg_temperature": 20.56553,
                  "avg_voltage": 4.2,
                  "datetime": "2020-01-01 01:41:30",
                  "min_cycle": "609",
                  "unit": "rw3"
                },
                {
                  "avg_capacity": 2.0075100252768965,
                  "avg_current": -0.141,
                  "avg_temperature": 20.56553,
                  "avg_voltage": 4.2,
                  "datetime": "2020-01-01 01:41:40",
                  "min_cycle": "610",
                  "unit": "rw3"
                },
                {
                  "avg_capacity": 2.009608747662416,
                  "avg_current": -0.14,
                  "avg_temperature": 20.56553,
                  "avg_voltage": 4.2,
                  "datetime": "2020-01-01 01:41:50",
                  "min_cycle": "611",
                  "unit": "rw3"
                },
                {
                  "avg_capacity": 2.0093509074247162,
                  "avg_current": -0.139,
                  "avg_temperature": 20.56553,
                  "avg_voltage": 4.2,
                  "datetime": "2020-01-01 01:42:00",
                  "min_cycle": "612",
                  "unit": "rw3"
                },
                {
                  "avg_capacity": 2.0094827046561488,
                  "avg_current": -0.139,
                  "avg_temperature": 20.56553,
                  "avg_voltage": 4.2,
                  "datetime": "2020-01-01 01:42:10",
                  "min_cycle": "613",
                  "unit": "rw3"
                },
                {
                  "avg_capacity": 2.0088918025114855,
                  "avg_current": -0.138,
                  "avg_temperature": 20.54996,
                  "avg_voltage": 4.2,
                  "datetime": "2020-01-01 01:42:20",
                  "min_cycle": "614",
                  "unit": "rw3"
                },
                {
                  "avg_capacity": 2.0088768839466438,
                  "avg_current": -0.138,
                  "avg_temperature": 20.54996,
                  "avg_voltage": 4.2,
                  "datetime": "2020-01-01 01:42:30",
                  "min_cycle": "615",
                  "unit": "rw3"
                },
                {
                  "avg_capacity": 2.0092620086649875,
                  "avg_current": -0.137,
                  "avg_temperature": 20.54996,
                  "avg_voltage": 4.2,
                  "datetime": "2020-01-01 01:42:40",
                  "min_cycle": "616",
                  "unit": "rw3"
                },
                {
                  "avg_capacity": 2.0081966435954293,
                  "avg_current": -0.137,
                  "avg_temperature": 20.54996,
                  "avg_voltage": 4.2,
                  "datetime": "2020-01-01 01:42:50",
                  "min_cycle": "617",
                  "unit": "rw3"
                },
                {
                  "avg_capacity": 2.0106584110601893,
                  "avg_current": -0.135,
                  "avg_temperature": 20.53438,
                  "avg_voltage": 4.2,
                  "datetime": "2020-01-01 01:43:00",
                  "min_cycle": "618",
                  "unit": "rw3"
                },
                {
                  "avg_capacity": 2.0082534272078205,
                  "avg_current": -0.134,
                  "avg_temperature": 20.53438,
                  "avg_voltage": 4.2,
                  "datetime": "2020-01-01 01:43:10",
                  "min_cycle": "619",
                  "unit": "rw3"
                },
                {
                  "avg_capacity": 2.0081229884436422,
                  "avg_current": -0.135,
                  "avg_temperature": 20.53438,
                  "avg_voltage": 4.2,
                  "datetime": "2020-01-01 01:43:20",
                  "min_cycle": "620",
                  "unit": "rw3"
                },
                {
                  "avg_capacity": 2.0087511946712615,
                  "avg_current": -0.132,
                  "avg_temperature": 20.51881,
                  "avg_voltage": 4.2,
                  "datetime": "2020-01-01 01:43:30",
                  "min_cycle": "621",
                  "unit": "rw3"
                },
                {
                  "avg_capacity": 2.0076201033492573,
                  "avg_current": -0.132,
                  "avg_temperature": 20.51881,
                  "avg_voltage": 4.2,
                  "datetime": "2020-01-01 01:43:40",
                  "min_cycle": "622",
                  "unit": "rw3"
                },
                {
                  "avg_capacity": 2.007976653595623,
                  "avg_current": -0.132,
                  "avg_temperature": 20.51881,
                  "avg_voltage": 4.2,
                  "datetime": "2020-01-01 01:43:50",
                  "min_cycle": "623",
                  "unit": "rw3"
                },
                {
                  "avg_capacity": 2.0094876000169877,
                  "avg_current": -0.13,
                  "avg_temperature": 20.51881,
                  "avg_voltage": 4.2,
                  "datetime": "2020-01-01 01:44:00",
                  "min_cycle": "624",
                  "unit": "rw3"
                },
                {
                  "avg_capacity": 2.008275604179698,
                  "avg_current": -0.13,
                  "avg_temperature": 20.51881,
                  "avg_voltage": 4.2,
                  "datetime": "2020-01-01 01:44:10",
                  "min_cycle": "625",
                  "unit": "rw3"
                },
                {
                  "avg_capacity": 2.0094986411692846,
                  "avg_current": -0.128,
                  "avg_temperature": 20.50323,
                  "avg_voltage": 4.2,
                  "datetime": "2020-01-01 01:44:20",
                  "min_cycle": "626",
                  "unit": "rw3"
                },
                {
                  "avg_capacity": 2.0068054166456544,
                  "avg_current": -0.128,
                  "avg_temperature": 20.48766,
                  "avg_voltage": 4.2,
                  "datetime": "2020-01-01 01:44:30",
                  "min_cycle": "627",
                  "unit": "rw3"
                },
                {
                  "avg_capacity": 2.00992012157131,
                  "avg_current": -0.127,
                  "avg_temperature": 20.50323,
                  "avg_voltage": 4.2,
                  "datetime": "2020-01-01 01:44:40",
                  "min_cycle": "628",
                  "unit": "rw3"
                },
                {
                  "avg_capacity": 2.008474536063588,
                  "avg_current": -0.127,
                  "avg_temperature": 20.47209,
                  "avg_voltage": 4.2,
                  "datetime": "2020-01-01 01:44:50",
                  "min_cycle": "629",
                  "unit": "rw3"
                },
                {
                  "avg_capacity": 2.0090464980430984,
                  "avg_current": -0.125,
                  "avg_temperature": 20.48766,
                  "avg_voltage": 4.2,
                  "datetime": "2020-01-01 01:45:00",
                  "min_cycle": "630",
                  "unit": "rw3"
                },
                {
                  "avg_capacity": 2.0090268351032545,
                  "avg_current": -0.125,
                  "avg_temperature": 20.48766,
                  "avg_voltage": 4.2,
                  "datetime": "2020-01-01 01:45:10",
                  "min_cycle": "631",
                  "unit": "rw3"
                },
                {
                  "avg_capacity": 2.0077334774855795,
                  "avg_current": -0.124,
                  "avg_temperature": 20.48766,
                  "avg_voltage": 4.2,
                  "datetime": "2020-01-01 01:45:20",
                  "min_cycle": "632",
                  "unit": "rw3"
                },
                {
                  "avg_capacity": 2.008477258110761,
                  "avg_current": -0.122,
                  "avg_temperature": 20.48766,
                  "avg_voltage": 4.2,
                  "datetime": "2020-01-01 01:45:30",
                  "min_cycle": "633",
                  "unit": "rw3"
                },
                {
                  "avg_capacity": 2.0079728145835354,
                  "avg_current": -0.124,
                  "avg_temperature": 20.48766,
                  "avg_voltage": 4.2,
                  "datetime": "2020-01-01 01:45:40",
                  "min_cycle": "634",
                  "unit": "rw3"
                },
                {
                  "avg_capacity": 2.0093695304678305,
                  "avg_current": -0.122,
                  "avg_temperature": 20.48766,
                  "avg_voltage": 4.2,
                  "datetime": "2020-01-01 01:45:50",
                  "min_cycle": "635",
                  "unit": "rw3"
                },
                {
                  "avg_capacity": 2.007541006996144,
                  "avg_current": -0.121,
                  "avg_temperature": 20.48766,
                  "avg_voltage": 4.2,
                  "datetime": "2020-01-01 01:46:00",
                  "min_cycle": "636",
                  "unit": "rw3"
                },
                {
                  "avg_capacity": 2.0085464033253198,
                  "avg_current": -0.121,
                  "avg_temperature": 20.47209,
                  "avg_voltage": 4.2,
                  "datetime": "2020-01-01 01:46:10",
                  "min_cycle": "637",
                  "unit": "rw3"
                },
                {
                  "avg_capacity": 2.0082225635386988,
                  "avg_current": -0.121,
                  "avg_temperature": 20.47209,
                  "avg_voltage": 4.2,
                  "datetime": "2020-01-01 01:46:20",
                  "min_cycle": "638",
                  "unit": "rw3"
                },
                {
                  "avg_capacity": 2.009910788616689,
                  "avg_current": -0.119,
                  "avg_temperature": 20.47209,
                  "avg_voltage": 4.2,
                  "datetime": "2020-01-01 01:46:30",
                  "min_cycle": "639",
                  "unit": "rw3"
                },
                {
                  "avg_capacity": 2.0090524592379264,
                  "avg_current": -0.12,
                  "avg_temperature": 20.45652,
                  "avg_voltage": 4.2,
                  "datetime": "2020-01-01 01:46:40",
                  "min_cycle": "640",
                  "unit": "rw3"
                },
                {
                  "avg_capacity": 2.0080085170772217,
                  "avg_current": -0.117,
                  "avg_temperature": 20.47209,
                  "avg_voltage": 4.2,
                  "datetime": "2020-01-01 01:46:50",
                  "min_cycle": "641",
                  "unit": "rw3"
                },
                {
                  "avg_capacity": 2.009063335498932,
                  "avg_current": -0.117,
                  "avg_temperature": 20.47209,
                  "avg_voltage": 4.2,
                  "datetime": "2020-01-01 01:47:00",
                  "min_cycle": "642",
                  "unit": "rw3"
                },
                {
                  "avg_capacity": 2.0085996276656486,
                  "avg_current": -0.116,
                  "avg_temperature": 20.48766,
                  "avg_voltage": 4.2,
                  "datetime": "2020-01-01 01:47:10",
                  "min_cycle": "643",
                  "unit": "rw3"
                },
                {
                  "avg_capacity": 2.007187626496253,
                  "avg_current": -0.116,
                  "avg_temperature": 20.48766,
                  "avg_voltage": 4.2,
                  "datetime": "2020-01-01 01:47:20",
                  "min_cycle": "644",
                  "unit": "rw3"
                },
                {
                  "avg_capacity": 2.009592424018038,
                  "avg_current": -0.114,
                  "avg_temperature": 20.50323,
                  "avg_voltage": 4.2,
                  "datetime": "2020-01-01 01:47:30",
                  "min_cycle": "645",
                  "unit": "rw3"
                },
                {
                  "avg_capacity": 2.010309607025166,
                  "avg_current": -0.114,
                  "avg_temperature": 20.50323,
                  "avg_voltage": 4.2,
                  "datetime": "2020-01-01 01:47:40",
                  "min_cycle": "646",
                  "unit": "rw3"
                },
                {
                  "avg_capacity": 2.0100912915472935,
                  "avg_current": -0.114,
                  "avg_temperature": 20.50323,
                  "avg_voltage": 4.2,
                  "datetime": "2020-01-01 01:47:50",
                  "min_cycle": "647",
                  "unit": "rw3"
                },
                {
                  "avg_capacity": 2.008609799221222,
                  "avg_current": -0.113,
                  "avg_temperature": 20.50323,
                  "avg_voltage": 4.2,
                  "datetime": "2020-01-01 01:48:00",
                  "min_cycle": "648",
                  "unit": "rw3"
                },
                {
                  "avg_capacity": 2.009326268478265,
                  "avg_current": -0.112,
                  "avg_temperature": 20.51881,
                  "avg_voltage": 4.2,
                  "datetime": "2020-01-01 01:48:10",
                  "min_cycle": "649",
                  "unit": "rw3"
                },
                {
                  "avg_capacity": 2.008958992415449,
                  "avg_current": -0.111,
                  "avg_temperature": 20.51881,
                  "avg_voltage": 4.2,
                  "datetime": "2020-01-01 01:48:20",
                  "min_cycle": "650",
                  "unit": "rw3"
                },
                {
                  "avg_capacity": 2.008840602161833,
                  "avg_current": -0.111,
                  "avg_temperature": 20.51881,
                  "avg_voltage": 4.2,
                  "datetime": "2020-01-01 01:48:30",
                  "min_cycle": "651",
                  "unit": "rw3"
                },
                {
                  "avg_capacity": 2.0069166993295027,
                  "avg_current": -0.111,
                  "avg_temperature": 20.53438,
                  "avg_voltage": 4.2,
                  "datetime": "2020-01-01 01:48:40",
                  "min_cycle": "652",
                  "unit": "rw3"
                },
                {
                  "avg_capacity": 2.008739170997971,
                  "avg_current": -0.112,
                  "avg_temperature": 20.54996,
                  "avg_voltage": 4.2,
                  "datetime": "2020-01-01 01:48:50",
                  "min_cycle": "653",
                  "unit": "rw3"
                },
                {
                  "avg_capacity": 2.011316595932776,
                  "avg_current": -0.109,
                  "avg_temperature": 20.53438,
                  "avg_voltage": 4.2,
                  "datetime": "2020-01-01 01:49:00",
                  "min_cycle": "654",
                  "unit": "rw3"
                },
                {
                  "avg_capacity": 2.0078437750025397,
                  "avg_current": -0.11,
                  "avg_temperature": 20.54996,
                  "avg_voltage": 4.2,
                  "datetime": "2020-01-01 01:49:10",
                  "min_cycle": "655",
                  "unit": "rw3"
                },
                {
                  "avg_capacity": 2.0087669281977356,
                  "avg_current": -0.109,
                  "avg_temperature": 20.53438,
                  "avg_voltage": 4.2,
                  "datetime": "2020-01-01 01:49:20",
                  "min_cycle": "656",
                  "unit": "rw3"
                },
                {
                  "avg_capacity": 2.0089085589921827,
                  "avg_current": -0.108,
                  "avg_temperature": 20.53438,
                  "avg_voltage": 4.2,
                  "datetime": "2020-01-01 01:49:30",
                  "min_cycle": "657",
                  "unit": "rw3"
                },
                {
                  "avg_capacity": 2.008605353985369,
                  "avg_current": -0.107,
                  "avg_temperature": 20.53438,
                  "avg_voltage": 4.2,
                  "datetime": "2020-01-01 01:49:40",
                  "min_cycle": "658",
                  "unit": "rw3"
                },
                {
                  "avg_capacity": 2.0085809961134675,
                  "avg_current": -0.106,
                  "avg_temperature": 20.51881,
                  "avg_voltage": 4.2,
                  "datetime": "2020-01-01 01:49:50",
                  "min_cycle": "659",
                  "unit": "rw3"
                },
                {
                  "avg_capacity": 2.0078532376372378,
                  "avg_current": -0.107,
                  "avg_temperature": 20.51881,
                  "avg_voltage": 4.2,
                  "datetime": "2020-01-01 01:50:00",
                  "min_cycle": "660",
                  "unit": "rw3"
                },
                {
                  "avg_capacity": 2.0074855977514527,
                  "avg_current": -0.106,
                  "avg_temperature": 20.53438,
                  "avg_voltage": 4.2,
                  "datetime": "2020-01-01 01:50:10",
                  "min_cycle": "661",
                  "unit": "rw3"
                },
                {
                  "avg_capacity": 2.0093484740583336,
                  "avg_current": -0.105,
                  "avg_temperature": 20.53438,
                  "avg_voltage": 4.2,
                  "datetime": "2020-01-01 01:50:20",
                  "min_cycle": "662",
                  "unit": "rw3"
                },
                {
                  "avg_capacity": 2.009287159550074,
                  "avg_current": -0.104,
                  "avg_temperature": 20.53438,
                  "avg_voltage": 4.2,
                  "datetime": "2020-01-01 01:50:30",
                  "min_cycle": "663",
                  "unit": "rw3"
                },
                {
                  "avg_capacity": 2.008340909937258,
                  "avg_current": -0.103,
                  "avg_temperature": 20.51881,
                  "avg_voltage": 4.2,
                  "datetime": "2020-01-01 01:50:40",
                  "min_cycle": "664",
                  "unit": "rw3"
                },
                {
                  "avg_capacity": 2.00807532945485,
                  "avg_current": -0.102,
                  "avg_temperature": 20.53438,
                  "avg_voltage": 4.2,
                  "datetime": "2020-01-01 01:50:50",
                  "min_cycle": "665",
                  "unit": "rw3"
                },
                {
                  "avg_capacity": 2.0084379577733675,
                  "avg_current": -0.102,
                  "avg_temperature": 20.51881,
                  "avg_voltage": 4.2,
                  "datetime": "2020-01-01 01:51:00",
                  "min_cycle": "666",
                  "unit": "rw3"
                },
                {
                  "avg_capacity": 2.0084808777262837,
                  "avg_current": -0.102,
                  "avg_temperature": 20.51881,
                  "avg_voltage": 4.2,
                  "datetime": "2020-01-01 01:51:10",
                  "min_cycle": "667",
                  "unit": "rw3"
                },
                {
                  "avg_capacity": 2.0098066772814027,
                  "avg_current": -0.101,
                  "avg_temperature": 20.51881,
                  "avg_voltage": 4.2,
                  "datetime": "2020-01-01 01:51:20",
                  "min_cycle": "668",
                  "unit": "rw3"
                },
                {
                  "avg_capacity": 2.009150152993154,
                  "avg_current": -0.1,
                  "avg_temperature": 20.50323,
                  "avg_voltage": 4.2,
                  "datetime": "2020-01-01 01:51:30",
                  "min_cycle": "669",
                  "unit": "rw3"
                },
                {
                  "avg_capacity": 2.008305525724506,
                  "avg_current": -0.099,
                  "avg_temperature": 20.50323,
                  "avg_voltage": 4.2,
                  "datetime": "2020-01-01 01:51:40",
                  "min_cycle": "670",
                  "unit": "rw3"
                },
                {
                  "avg_capacity": 2.008286879892297,
                  "avg_current": -0.098,
                  "avg_temperature": 20.48766,
                  "avg_voltage": 4.2,
                  "datetime": "2020-01-01 01:51:50",
                  "min_cycle": "671",
                  "unit": "rw3"
                },
                {
                  "avg_capacity": 2.009182795932647,
                  "avg_current": -0.098,
                  "avg_temperature": 20.50323,
                  "avg_voltage": 4.2,
                  "datetime": "2020-01-01 01:52:00",
                  "min_cycle": "672",
                  "unit": "rw3"
                },
                {
                  "avg_capacity": 2.009137515395691,
                  "avg_current": -0.098,
                  "avg_temperature": 20.48766,
                  "avg_voltage": 4.2,
                  "datetime": "2020-01-01 01:52:10",
                  "min_cycle": "673",
                  "unit": "rw3"
                },
                {
                  "avg_capacity": 2.009663011921441,
                  "avg_current": -0.096,
                  "avg_temperature": 20.48766,
                  "avg_voltage": 4.2,
                  "datetime": "2020-01-01 01:52:20",
                  "min_cycle": "674",
                  "unit": "rw3"
                },
                {
                  "avg_capacity": 2.0085934967969146,
                  "avg_current": -0.096,
                  "avg_temperature": 20.47209,
                  "avg_voltage": 4.2,
                  "datetime": "2020-01-01 01:52:30",
                  "min_cycle": "675",
                  "unit": "rw3"
                },
                {
                  "avg_capacity": 2.0084087059225806,
                  "avg_current": -0.097,
                  "avg_temperature": 20.47209,
                  "avg_voltage": 4.2,
                  "datetime": "2020-01-01 01:52:40",
                  "min_cycle": "676",
                  "unit": "rw3"
                },
                {
                  "avg_capacity": 2.008983895561079,
                  "avg_current": -0.096,
                  "avg_temperature": 20.48766,
                  "avg_voltage": 4.2,
                  "datetime": "2020-01-01 01:52:50",
                  "min_cycle": "677",
                  "unit": "rw3"
                },
                {
                  "avg_capacity": 2.0099199926193183,
                  "avg_current": -0.096,
                  "avg_temperature": 20.48766,
                  "avg_voltage": 4.2,
                  "datetime": "2020-01-01 01:53:00",
                  "min_cycle": "678",
                  "unit": "rw3"
                },
                {
                  "avg_capacity": 2.0089777563890276,
                  "avg_current": -0.095,
                  "avg_temperature": 20.48766,
                  "avg_voltage": 4.2,
                  "datetime": "2020-01-01 01:53:10",
                  "min_cycle": "679",
                  "unit": "rw3"
                },
                {
                  "avg_capacity": 2.00729145254033,
                  "avg_current": -0.094,
                  "avg_temperature": 20.48766,
                  "avg_voltage": 4.2,
                  "datetime": "2020-01-01 01:53:20",
                  "min_cycle": "680",
                  "unit": "rw3"
                },
                {
                  "avg_capacity": 2.0083360161081307,
                  "avg_current": -0.094,
                  "avg_temperature": 20.50323,
                  "avg_voltage": 4.2,
                  "datetime": "2020-01-01 01:53:30",
                  "min_cycle": "681",
                  "unit": "rw3"
                },
                {
                  "avg_capacity": 2.0083447041443465,
                  "avg_current": -0.093,
                  "avg_temperature": 20.50323,
                  "avg_voltage": 4.2,
                  "datetime": "2020-01-01 01:53:40",
                  "min_cycle": "682",
                  "unit": "rw3"
                },
                {
                  "avg_capacity": 2.009798938597306,
                  "avg_current": -0.094,
                  "avg_temperature": 20.50323,
                  "avg_voltage": 4.2,
                  "datetime": "2020-01-01 01:53:50",
                  "min_cycle": "683",
                  "unit": "rw3"
                },
                {
                  "avg_capacity": 2.0100395602764998,
                  "avg_current": -0.093,
                  "avg_temperature": 20.50323,
                  "avg_voltage": 4.2,
                  "datetime": "2020-01-01 01:54:00",
                  "min_cycle": "684",
                  "unit": "rw3"
                },
                {
                  "avg_capacity": 2.008179599947224,
                  "avg_current": -0.093,
                  "avg_temperature": 20.47209,
                  "avg_voltage": 4.2,
                  "datetime": "2020-01-01 01:54:10",
                  "min_cycle": "685",
                  "unit": "rw3"
                },
                {
                  "avg_capacity": 2.0102085438416277,
                  "avg_current": -0.091,
                  "avg_temperature": 20.48766,
                  "avg_voltage": 4.2,
                  "datetime": "2020-01-01 01:54:20",
                  "min_cycle": "686",
                  "unit": "rw3"
                },
                {
                  "avg_capacity": 2.010328680009211,
                  "avg_current": -0.091,
                  "avg_temperature": 20.48766,
                  "avg_voltage": 4.2,
                  "datetime": "2020-01-01 01:54:30",
                  "min_cycle": "687",
                  "unit": "rw3"
                },
                {
                  "avg_capacity": 2.0083262079956983,
                  "avg_current": -0.091,
                  "avg_temperature": 20.47209,
                  "avg_voltage": 4.2,
                  "datetime": "2020-01-01 01:54:40",
                  "min_cycle": "688",
                  "unit": "rw3"
                },
                {
                  "avg_capacity": 2.008489798801527,
                  "avg_current": -0.091,
                  "avg_temperature": 20.47209,
                  "avg_voltage": 4.2,
                  "datetime": "2020-01-01 01:54:50",
                  "min_cycle": "689",
                  "unit": "rw3"
                },
                {
                  "avg_capacity": 2.008854977424214,
                  "avg_current": -0.09,
                  "avg_temperature": 20.47209,
                  "avg_voltage": 4.2,
                  "datetime": "2020-01-01 01:55:00",
                  "min_cycle": "690",
                  "unit": "rw3"
                },
                {
                  "avg_capacity": 2.009045650812259,
                  "avg_current": -0.09,
                  "avg_temperature": 20.47209,
                  "avg_voltage": 4.2,
                  "datetime": "2020-01-01 01:55:10",
                  "min_cycle": "691",
                  "unit": "rw3"
                },
                {
                  "avg_capacity": 2.009861536090761,
                  "avg_current": -0.089,
                  "avg_temperature": 20.47209,
                  "avg_voltage": 4.2,
                  "datetime": "2020-01-01 01:55:20",
                  "min_cycle": "692",
                  "unit": "rw3"
                },
                {
                  "avg_capacity": 2.00883262957131,
                  "avg_current": -0.088,
                  "avg_temperature": 20.47209,
                  "avg_voltage": 4.2,
                  "datetime": "2020-01-01 01:55:30",
                  "min_cycle": "693",
                  "unit": "rw3"
                },
                {
                  "avg_capacity": 2.0098923122251833,
                  "avg_current": -0.088,
                  "avg_temperature": 20.47209,
                  "avg_voltage": 4.2,
                  "datetime": "2020-01-01 01:55:40",
                  "min_cycle": "694",
                  "unit": "rw3"
                },
                {
                  "avg_capacity": 2.007294274422439,
                  "avg_current": -0.087,
                  "avg_temperature": 20.45652,
                  "avg_voltage": 4.2,
                  "datetime": "2020-01-01 01:55:50",
                  "min_cycle": "695",
                  "unit": "rw3"
                },
                {
                  "avg_capacity": 2.0092937981005377,
                  "avg_current": -0.085,
                  "avg_temperature": 20.44094,
                  "avg_voltage": 4.2,
                  "datetime": "2020-01-01 01:56:00",
                  "min_cycle": "696",
                  "unit": "rw3"
                },
                {
                  "avg_capacity": 2.0105037810822677,
                  "avg_current": -0.086,
                  "avg_temperature": 20.45652,
                  "avg_voltage": 4.2,
                  "datetime": "2020-01-01 01:56:10",
                  "min_cycle": "697",
                  "unit": "rw3"
                },
                {
                  "avg_capacity": 2.007365638368387,
                  "avg_current": -0.087,
                  "avg_temperature": 20.45652,
                  "avg_voltage": 4.2,
                  "datetime": "2020-01-01 01:56:20",
                  "min_cycle": "698",
                  "unit": "rw3"
                },
                {
                  "avg_capacity": 2.0076221460948043,
                  "avg_current": -0.086,
                  "avg_temperature": 20.45652,
                  "avg_voltage": 4.2,
                  "datetime": "2020-01-01 01:56:30",
                  "min_cycle": "699",
                  "unit": "rw3"
                },
                {
                  "avg_capacity": 2.011029510351735,
                  "avg_current": -0.085,
                  "avg_temperature": 20.45652,
                  "avg_voltage": 4.2,
                  "datetime": "2020-01-01 01:56:40",
                  "min_cycle": "700",
                  "unit": "rw3"
                },
                {
                  "avg_capacity": 2.009217888556897,
                  "avg_current": -0.084,
                  "avg_temperature": 20.47209,
                  "avg_voltage": 4.2,
                  "datetime": "2020-01-01 01:56:50",
                  "min_cycle": "701",
                  "unit": "rw3"
                },
                {
                  "avg_capacity": 2.008384235228955,
                  "avg_current": -0.083,
                  "avg_temperature": 20.48766,
                  "avg_voltage": 4.2,
                  "datetime": "2020-01-01 01:57:00",
                  "min_cycle": "702",
                  "unit": "rw3"
                },
                {
                  "avg_capacity": 2.009349885106003,
                  "avg_current": -0.084,
                  "avg_temperature": 20.47209,
                  "avg_voltage": 4.2,
                  "datetime": "2020-01-01 01:57:10",
                  "min_cycle": "703",
                  "unit": "rw3"
                },
                {
                  "avg_capacity": 2.008810761709763,
                  "avg_current": -0.082,
                  "avg_temperature": 20.45652,
                  "avg_voltage": 4.2,
                  "datetime": "2020-01-01 01:57:20",
                  "min_cycle": "704",
                  "unit": "rw3"
                },
                {
                  "avg_capacity": 2.007542310260372,
                  "avg_current": -0.083,
                  "avg_temperature": 20.47209,
                  "avg_voltage": 4.2,
                  "datetime": "2020-01-01 01:57:30",
                  "min_cycle": "705",
                  "unit": "rw3"
                },
                {
                  "avg_capacity": 2.0093452469659794,
                  "avg_current": -0.081,
                  "avg_temperature": 20.45652,
                  "avg_voltage": 4.2,
                  "datetime": "2020-01-01 01:57:40",
                  "min_cycle": "706",
                  "unit": "rw3"
                },
                {
                  "avg_capacity": 2.010776266244198,
                  "avg_current": -0.081,
                  "avg_temperature": 20.45652,
                  "avg_voltage": 4.2,
                  "datetime": "2020-01-01 01:57:50",
                  "min_cycle": "707",
                  "unit": "rw3"
                },
                {
                  "avg_capacity": 2.008338831300179,
                  "avg_current": -0.081,
                  "avg_temperature": 20.47209,
                  "avg_voltage": 4.2,
                  "datetime": "2020-01-01 01:58:00",
                  "min_cycle": "708",
                  "unit": "rw3"
                },
                {
                  "avg_capacity": 2.0099505072728863,
                  "avg_current": -0.082,
                  "avg_temperature": 20.45652,
                  "avg_voltage": 4.2,
                  "datetime": "2020-01-01 01:58:10",
                  "min_cycle": "709",
                  "unit": "rw3"
                },
                {
                  "avg_capacity": 2.0080206591845813,
                  "avg_current": -0.081,
                  "avg_temperature": 20.47209,
                  "avg_voltage": 4.2,
                  "datetime": "2020-01-01 01:58:20",
                  "min_cycle": "710",
                  "unit": "rw3"
                },
                {
                  "avg_capacity": 2.0090164159828356,
                  "avg_current": -0.08,
                  "avg_temperature": 20.48766,
                  "avg_voltage": 4.2,
                  "datetime": "2020-01-01 01:58:30",
                  "min_cycle": "711",
                  "unit": "rw3"
                },
                {
                  "avg_capacity": 2.0085666876848283,
                  "avg_current": -0.08,
                  "avg_temperature": 20.47209,
                  "avg_voltage": 4.2,
                  "datetime": "2020-01-01 01:58:40",
                  "min_cycle": "712",
                  "unit": "rw3"
                },
                {
                  "avg_capacity": 2.0072222294686735,
                  "avg_current": -0.079,
                  "avg_temperature": 20.47209,
                  "avg_voltage": 4.2,
                  "datetime": "2020-01-01 01:58:50",
                  "min_cycle": "713",
                  "unit": "rw3"
                },
                {
                  "avg_capacity": 2.0102080628891015,
                  "avg_current": -0.079,
                  "avg_temperature": 20.47209,
                  "avg_voltage": 4.2,
                  "datetime": "2020-01-01 01:59:00",
                  "min_cycle": "714",
                  "unit": "rw3"
                },
                {
                  "avg_capacity": 2.008082626364562,
                  "avg_current": -0.079,
                  "avg_temperature": 20.47209,
                  "avg_voltage": 4.2,
                  "datetime": "2020-01-01 01:59:10",
                  "min_cycle": "715",
                  "unit": "rw3"
                },
                {
                  "avg_capacity": 2.0085199528281357,
                  "avg_current": -0.077,
                  "avg_temperature": 20.47209,
                  "avg_voltage": 4.2,
                  "datetime": "2020-01-01 01:59:20",
                  "min_cycle": "716",
                  "unit": "rw3"
                },
                {
                  "avg_capacity": 2.009805802359595,
                  "avg_current": -0.079,
                  "avg_temperature": 20.45652,
                  "avg_voltage": 4.2,
                  "datetime": "2020-01-01 01:59:30",
                  "min_cycle": "717",
                  "unit": "rw3"
                },
                {
                  "avg_capacity": 2.0087830965052884,
                  "avg_current": -0.078,
                  "avg_temperature": 20.47209,
                  "avg_voltage": 4.2,
                  "datetime": "2020-01-01 01:59:40",
                  "min_cycle": "718",
                  "unit": "rw3"
                },
                {
                  "avg_capacity": 2.008852020534264,
                  "avg_current": -0.077,
                  "avg_temperature": 20.45652,
                  "avg_voltage": 4.2,
                  "datetime": "2020-01-01 01:59:50",
                  "min_cycle": "719",
                  "unit": "rw3"
                },
                {
                  "avg_capacity": 2.0112130631384497,
                  "avg_current": -0.076,
                  "avg_temperature": 20.47209,
                  "avg_voltage": 4.2,
                  "datetime": "2020-01-01 02:00:00",
                  "min_cycle": "720",
                  "unit": "rw3"
                },
                {
                  "avg_capacity": 2.0084332327321803,
                  "avg_current": -0.075,
                  "avg_temperature": 20.45652,
                  "avg_voltage": 4.2,
                  "datetime": "2020-01-01 02:00:10",
                  "min_cycle": "721",
                  "unit": "rw3"
                },
                {
                  "avg_capacity": 2.008231258577428,
                  "avg_current": -0.076,
                  "avg_temperature": 20.45652,
                  "avg_voltage": 4.2,
                  "datetime": "2020-01-01 02:00:20",
                  "min_cycle": "722",
                  "unit": "rw3"
                },
                {
                  "avg_capacity": 2.010618483048972,
                  "avg_current": -0.075,
                  "avg_temperature": 20.45652,
                  "avg_voltage": 4.2,
                  "datetime": "2020-01-01 02:00:30",
                  "min_cycle": "723",
                  "unit": "rw3"
                },
                {
                  "avg_capacity": 2.0095176277301,
                  "avg_current": -0.075,
                  "avg_temperature": 20.47209,
                  "avg_voltage": 4.2,
                  "datetime": "2020-01-01 02:00:40",
                  "min_cycle": "724",
                  "unit": "rw3"
                },
                {
                  "avg_capacity": 2.008715962443893,
                  "avg_current": -0.075,
                  "avg_temperature": 20.47209,
                  "avg_voltage": 4.2,
                  "datetime": "2020-01-01 02:00:50",
                  "min_cycle": "725",
                  "unit": "rw3"
                },
                {
                  "avg_capacity": 2.0099096678135364,
                  "avg_current": -0.074,
                  "avg_temperature": 20.47209,
                  "avg_voltage": 4.2,
                  "datetime": "2020-01-01 02:01:00",
                  "min_cycle": "726",
                  "unit": "rw3"
                },
                {
                  "avg_capacity": 2.0094327474804206,
                  "avg_current": -0.075,
                  "avg_temperature": 20.47209,
                  "avg_voltage": 4.2,
                  "datetime": "2020-01-01 02:01:10",
                  "min_cycle": "727",
                  "unit": "rw3"
                },
                {
                  "avg_capacity": 2.0109886685170233,
                  "avg_current": -0.074,
                  "avg_temperature": 20.47209,
                  "avg_voltage": 4.2,
                  "datetime": "2020-01-01 02:01:20",
                  "min_cycle": "728",
                  "unit": "rw3"
                },
                {
                  "avg_capacity": 2.00785489493867,
                  "avg_current": -0.073,
                  "avg_temperature": 20.47209,
                  "avg_voltage": 4.2,
                  "datetime": "2020-01-01 02:01:30",
                  "min_cycle": "729",
                  "unit": "rw3"
                },
                {
                  "avg_capacity": 2.0100819688117193,
                  "avg_current": -0.073,
                  "avg_temperature": 20.47209,
                  "avg_voltage": 4.2,
                  "datetime": "2020-01-01 02:01:40",
                  "min_cycle": "730",
                  "unit": "rw3"
                },
                {
                  "avg_capacity": 2.009652343064348,
                  "avg_current": -0.073,
                  "avg_temperature": 20.47209,
                  "avg_voltage": 4.2,
                  "datetime": "2020-01-01 02:01:50",
                  "min_cycle": "731",
                  "unit": "rw3"
                },
                {
                  "avg_capacity": 2.0074501602642334,
                  "avg_current": -0.072,
                  "avg_temperature": 20.47209,
                  "avg_voltage": 4.2,
                  "datetime": "2020-01-01 02:02:00",
                  "min_cycle": "732",
                  "unit": "rw3"
                },
                {
                  "avg_capacity": 2.0089455987451914,
                  "avg_current": -0.072,
                  "avg_temperature": 20.47209,
                  "avg_voltage": 4.2,
                  "datetime": "2020-01-01 02:02:10",
                  "min_cycle": "733",
                  "unit": "rw3"
                },
                {
                  "avg_capacity": 2.007697896553102,
                  "avg_current": -0.07,
                  "avg_temperature": 20.48766,
                  "avg_voltage": 4.2,
                  "datetime": "2020-01-01 02:02:20",
                  "min_cycle": "734",
                  "unit": "rw3"
                },
                {
                  "avg_capacity": 2.009663791161072,
                  "avg_current": -0.07,
                  "avg_temperature": 20.48766,
                  "avg_voltage": 4.2,
                  "datetime": "2020-01-01 02:02:30",
                  "min_cycle": "735",
                  "unit": "rw3"
                },
                {
                  "avg_capacity": 2.0094996883104272,
                  "avg_current": -0.07,
                  "avg_temperature": 20.48766,
                  "avg_voltage": 4.2,
                  "datetime": "2020-01-01 02:02:40",
                  "min_cycle": "736",
                  "unit": "rw3"
                },
                {
                  "avg_capacity": 2.0088821398344354,
                  "avg_current": -0.07,
                  "avg_temperature": 20.47209,
                  "avg_voltage": 4.2,
                  "datetime": "2020-01-01 02:02:50",
                  "min_cycle": "737",
                  "unit": "rw3"
                },
                {
                  "avg_capacity": 2.010597529853241,
                  "avg_current": -0.07,
                  "avg_temperature": 20.48766,
                  "avg_voltage": 4.2,
                  "datetime": "2020-01-01 02:03:00",
                  "min_cycle": "738",
                  "unit": "rw3"
                },
                {
                  "avg_capacity": 2.0081797586545225,
                  "avg_current": -0.07,
                  "avg_temperature": 20.48766,
                  "avg_voltage": 4.2,
                  "datetime": "2020-01-01 02:03:10",
                  "min_cycle": "739",
                  "unit": "rw3"
                },
                {
                  "avg_capacity": 2.0076736725084112,
                  "avg_current": -0.07,
                  "avg_temperature": 20.48766,
                  "avg_voltage": 4.2,
                  "datetime": "2020-01-01 02:03:20",
                  "min_cycle": "740",
                  "unit": "rw3"
                },
                {
                  "avg_capacity": 2.0097853093503137,
                  "avg_current": -0.069,
                  "avg_temperature": 20.48766,
                  "avg_voltage": 4.2,
                  "datetime": "2020-01-01 02:03:30",
                  "min_cycle": "741",
                  "unit": "rw3"
                },
                {
                  "avg_capacity": 2.011525557466296,
                  "avg_current": -0.069,
                  "avg_temperature": 20.48766,
                  "avg_voltage": 4.2,
                  "datetime": "2020-01-01 02:03:40",
                  "min_cycle": "742",
                  "unit": "rw3"
                },
                {
                  "avg_capacity": 2.0095226174386367,
                  "avg_current": -0.068,
                  "avg_temperature": 20.48766,
                  "avg_voltage": 4.2,
                  "datetime": "2020-01-01 02:03:50",
                  "min_cycle": "743",
                  "unit": "rw3"
                },
                {
                  "avg_capacity": 2.0075670882197136,
                  "avg_current": -0.068,
                  "avg_temperature": 20.48766,
                  "avg_voltage": 4.2,
                  "datetime": "2020-01-01 02:04:00",
                  "min_cycle": "744",
                  "unit": "rw3"
                },
                {
                  "avg_capacity": 2.0071714416716593,
                  "avg_current": -0.067,
                  "avg_temperature": 20.50323,
                  "avg_voltage": 4.2,
                  "datetime": "2020-01-01 02:04:10",
                  "min_cycle": "745",
                  "unit": "rw3"
                },
                {
                  "avg_capacity": 2.0097972271855795,
                  "avg_current": -0.066,
                  "avg_temperature": 20.50323,
                  "avg_voltage": 4.2,
                  "datetime": "2020-01-01 02:04:20",
                  "min_cycle": "746",
                  "unit": "rw3"
                },
                {
                  "avg_capacity": 2.0112919572585506,
                  "avg_current": -0.067,
                  "avg_temperature": 20.48766,
                  "avg_voltage": 4.2,
                  "datetime": "2020-01-01 02:04:30",
                  "min_cycle": "747",
                  "unit": "rw3"
                },
                {
                  "avg_capacity": 2.008813844114276,
                  "avg_current": -0.066,
                  "avg_temperature": 20.48766,
                  "avg_voltage": 4.2,
                  "datetime": "2020-01-01 02:04:40",
                  "min_cycle": "748",
                  "unit": "rw3"
                },
                {
                  "avg_capacity": 2.008932329555188,
                  "avg_current": -0.067,
                  "avg_temperature": 20.50323,
                  "avg_voltage": 4.2,
                  "datetime": "2020-01-01 02:04:50",
                  "min_cycle": "749",
                  "unit": "rw3"
                },
                {
                  "avg_capacity": 2.0080524803921325,
                  "avg_current": -0.065,
                  "avg_temperature": 20.50323,
                  "avg_voltage": 4.2,
                  "datetime": "2020-01-01 02:05:00",
                  "min_cycle": "750",
                  "unit": "rw3"
                },
                {
                  "avg_capacity": 2.007664581504942,
                  "avg_current": -0.066,
                  "avg_temperature": 20.50323,
                  "avg_voltage": 4.2,
                  "datetime": "2020-01-01 02:05:10",
                  "min_cycle": "751",
                  "unit": "rw3"
                },
                {
                  "avg_capacity": 2.0096250310180386,
                  "avg_current": -0.065,
                  "avg_temperature": 20.51881,
                  "avg_voltage": 4.2,
                  "datetime": "2020-01-01 02:05:20",
                  "min_cycle": "752",
                  "unit": "rw3"
                },
                {
                  "avg_capacity": 2.0091646102899348,
                  "avg_current": -0.063,
                  "avg_temperature": 20.53438,
                  "avg_voltage": 4.2,
                  "datetime": "2020-01-01 02:05:30",
                  "min_cycle": "753",
                  "unit": "rw3"
                },
                {
                  "avg_capacity": 2.0096848646811747,
                  "avg_current": -0.064,
                  "avg_temperature": 20.51881,
                  "avg_voltage": 4.2,
                  "datetime": "2020-01-01 02:05:40",
                  "min_cycle": "754",
                  "unit": "rw3"
                },
                {
                  "avg_capacity": 2.009389193323796,
                  "avg_current": -0.064,
                  "avg_temperature": 20.50323,
                  "avg_voltage": 4.2,
                  "datetime": "2020-01-01 02:05:50",
                  "min_cycle": "755",
                  "unit": "rw3"
                },
                {
                  "avg_capacity": 2.0083807915484955,
                  "avg_current": -0.063,
                  "avg_temperature": 20.51881,
                  "avg_voltage": 4.2,
                  "datetime": "2020-01-01 02:06:00",
                  "min_cycle": "756",
                  "unit": "rw3"
                },
                {
                  "avg_capacity": 2.0084695302791378,
                  "avg_current": -0.063,
                  "avg_temperature": 20.50323,
                  "avg_voltage": 4.2,
                  "datetime": "2020-01-01 02:06:10",
                  "min_cycle": "757",
                  "unit": "rw3"
                },
                {
                  "avg_capacity": 2.0111931252173396,
                  "avg_current": -0.064,
                  "avg_temperature": 20.51881,
                  "avg_voltage": 4.2,
                  "datetime": "2020-01-01 02:06:20",
                  "min_cycle": "758",
                  "unit": "rw3"
                },
                {
                  "avg_capacity": 2.0108758650099143,
                  "avg_current": -0.062,
                  "avg_temperature": 20.50323,
                  "avg_voltage": 4.2,
                  "datetime": "2020-01-01 02:06:30",
                  "min_cycle": "759",
                  "unit": "rw3"
                },
                {
                  "avg_capacity": 2.0072872952036436,
                  "avg_current": -0.063,
                  "avg_temperature": 20.51881,
                  "avg_voltage": 4.2,
                  "datetime": "2020-01-01 02:06:40",
                  "min_cycle": "760",
                  "unit": "rw3"
                },
                {
                  "avg_capacity": 2.0073420432897304,
                  "avg_current": -0.062,
                  "avg_temperature": 20.51881,
                  "avg_voltage": 4.2,
                  "datetime": "2020-01-01 02:06:50",
                  "min_cycle": "761",
                  "unit": "rw3"
                },
                {
                  "avg_capacity": 2.0099797048285764,
                  "avg_current": -0.061,
                  "avg_temperature": 20.51881,
                  "avg_voltage": 4.2,
                  "datetime": "2020-01-01 02:07:00",
                  "min_cycle": "762",
                  "unit": "rw3"
                },
                {
                  "avg_capacity": 2.0103971593341283,
                  "avg_current": -0.062,
                  "avg_temperature": 20.51881,
                  "avg_voltage": 4.2,
                  "datetime": "2020-01-01 02:07:10",
                  "min_cycle": "763",
                  "unit": "rw3"
                },
                {
                  "avg_capacity": 2.010382519822615,
                  "avg_current": -0.061,
                  "avg_temperature": 20.53438,
                  "avg_voltage": 4.2,
                  "datetime": "2020-01-01 02:07:20",
                  "min_cycle": "764",
                  "unit": "rw3"
                },
                {
                  "avg_capacity": 2.0094839466057337,
                  "avg_current": -0.061,
                  "avg_temperature": 20.53438,
                  "avg_voltage": 4.2,
                  "datetime": "2020-01-01 02:07:30",
                  "min_cycle": "765",
                  "unit": "rw3"
                },
                {
                  "avg_capacity": 2.009191258350813,
                  "avg_current": -0.061,
                  "avg_temperature": 20.53438,
                  "avg_voltage": 4.2,
                  "datetime": "2020-01-01 02:07:40",
                  "min_cycle": "766",
                  "unit": "rw3"
                },
                {
                  "avg_capacity": 2.0074801013636874,
                  "avg_current": -0.061,
                  "avg_temperature": 20.53438,
                  "avg_voltage": 4.2,
                  "datetime": "2020-01-01 02:07:50",
                  "min_cycle": "767",
                  "unit": "rw3"
                },
                {
                  "avg_capacity": 2.0088417774485494,
                  "avg_current": -0.06,
                  "avg_temperature": 20.54996,
                  "avg_voltage": 4.2,
                  "datetime": "2020-01-01 02:08:00",
                  "min_cycle": "768",
                  "unit": "rw3"
                },
                {
                  "avg_capacity": 2.0091524948188213,
                  "avg_current": -0.06,
                  "avg_temperature": 20.54996,
                  "avg_voltage": 4.2,
                  "datetime": "2020-01-01 02:08:10",
                  "min_cycle": "769",
                  "unit": "rw3"
                },
                {
                  "avg_capacity": 2.010250885698018,
                  "avg_current": -0.059,
                  "avg_temperature": 20.53438,
                  "avg_voltage": 4.2,
                  "datetime": "2020-01-01 02:08:20",
                  "min_cycle": "770",
                  "unit": "rw3"
                },
                {
                  "avg_capacity": 2.009208761827397,
                  "avg_current": -0.059,
                  "avg_temperature": 20.54996,
                  "avg_voltage": 4.2,
                  "datetime": "2020-01-01 02:08:30",
                  "min_cycle": "771",
                  "unit": "rw3"
                },
                {
                  "avg_capacity": 2.008361485285364,
                  "avg_current": -0.059,
                  "avg_temperature": 20.53438,
                  "avg_voltage": 4.2,
                  "datetime": "2020-01-01 02:08:40",
                  "min_cycle": "772",
                  "unit": "rw3"
                },
                {
                  "avg_capacity": 2.0100421084304556,
                  "avg_current": -0.059,
                  "avg_temperature": 20.51881,
                  "avg_voltage": 4.2,
                  "datetime": "2020-01-01 02:08:50",
                  "min_cycle": "773",
                  "unit": "rw3"
                },
                {
                  "avg_capacity": 2.0091412645874183,
                  "avg_current": -0.059,
                  "avg_temperature": 20.50323,
                  "avg_voltage": 4.2,
                  "datetime": "2020-01-01 02:09:00",
                  "min_cycle": "774",
                  "unit": "rw3"
                },
                {
                  "avg_capacity": 2.008312031409589,
                  "avg_current": -0.058,
                  "avg_temperature": 20.51881,
                  "avg_voltage": 4.2,
                  "datetime": "2020-01-01 02:09:10",
                  "min_cycle": "775",
                  "unit": "rw3"
                },
                {
                  "avg_capacity": 2.0087605578836474,
                  "avg_current": -0.057,
                  "avg_temperature": 20.50323,
                  "avg_voltage": 4.2,
                  "datetime": "2020-01-01 02:09:20",
                  "min_cycle": "776",
                  "unit": "rw3"
                },
                {
                  "avg_capacity": 2.0086492560992064,
                  "avg_current": -0.056,
                  "avg_temperature": 20.48766,
                  "avg_voltage": 4.2,
                  "datetime": "2020-01-01 02:09:30",
                  "min_cycle": "777",
                  "unit": "rw3"
                },
                {
                  "avg_capacity": 2.0067955832346613,
                  "avg_current": -0.056,
                  "avg_temperature": 20.48766,
                  "avg_voltage": 4.2,
                  "datetime": "2020-01-01 02:09:40",
                  "min_cycle": "778",
                  "unit": "rw3"
                },
                {
                  "avg_capacity": 2.008565438272673,
                  "avg_current": -0.057,
                  "avg_temperature": 20.48766,
                  "avg_voltage": 4.2,
                  "datetime": "2020-01-01 02:09:50",
                  "min_cycle": "779",
                  "unit": "rw3"
                },
                {
                  "avg_capacity": 2.0091837651840394,
                  "avg_current": -0.056,
                  "avg_temperature": 20.47209,
                  "avg_voltage": 4.2,
                  "datetime": "2020-01-01 02:10:00",
                  "min_cycle": "780",
                  "unit": "rw3"
                },
                {
                  "avg_capacity": 2.010836056794866,
                  "avg_current": -0.055,
                  "avg_temperature": 20.45652,
                  "avg_voltage": 4.2,
                  "datetime": "2020-01-01 02:10:10",
                  "min_cycle": "781",
                  "unit": "rw3"
                },
                {
                  "avg_capacity": 2.0104605272686706,
                  "avg_current": -0.054,
                  "avg_temperature": 20.45652,
                  "avg_voltage": 4.2,
                  "datetime": "2020-01-01 02:10:20",
                  "min_cycle": "782",
                  "unit": "rw3"
                },
                {
                  "avg_capacity": 2.0084542490610606,
                  "avg_current": -0.056,
                  "avg_temperature": 20.45652,
                  "avg_voltage": 4.2,
                  "datetime": "2020-01-01 02:10:30",
                  "min_cycle": "783",
                  "unit": "rw3"
                },
                {
                  "avg_capacity": 2.008747382883834,
                  "avg_current": -0.055,
                  "avg_temperature": 20.47209,
                  "avg_voltage": 4.2,
                  "datetime": "2020-01-01 02:10:40",
                  "min_cycle": "784",
                  "unit": "rw3"
                },
                {
                  "avg_capacity": 2.010366645153995,
                  "avg_current": -0.055,
                  "avg_temperature": 20.45652,
                  "avg_voltage": 4.2,
                  "datetime": "2020-01-01 02:10:50",
                  "min_cycle": "785",
                  "unit": "rw3"
                },
                {
                  "avg_capacity": 2.0091471691469964,
                  "avg_current": -0.054,
                  "avg_temperature": 20.45652,
                  "avg_voltage": 4.2,
                  "datetime": "2020-01-01 02:11:00",
                  "min_cycle": "786",
                  "unit": "rw3"
                },
                {
                  "avg_capacity": 2.009739392161647,
                  "avg_current": -0.053,
                  "avg_temperature": 20.47209,
                  "avg_voltage": 4.2,
                  "datetime": "2020-01-01 02:11:10",
                  "min_cycle": "787",
                  "unit": "rw3"
                },
                {
                  "avg_capacity": 2.009091008962041,
                  "avg_current": -0.054,
                  "avg_temperature": 20.45652,
                  "avg_voltage": 4.2,
                  "datetime": "2020-01-01 02:11:20",
                  "min_cycle": "788",
                  "unit": "rw3"
                },
                {
                  "avg_capacity": 2.006908385492588,
                  "avg_current": -0.055,
                  "avg_temperature": 20.45652,
                  "avg_voltage": 4.2,
                  "datetime": "2020-01-01 02:11:30",
                  "min_cycle": "789",
                  "unit": "rw3"
                },
                {
                  "avg_capacity": 2.007997660874725,
                  "avg_current": -0.053,
                  "avg_temperature": 20.45652,
                  "avg_voltage": 4.2,
                  "datetime": "2020-01-01 02:11:40",
                  "min_cycle": "790",
                  "unit": "rw3"
                },
                {
                  "avg_capacity": 2.0080332069070126,
                  "avg_current": -0.053,
                  "avg_temperature": 20.45652,
                  "avg_voltage": 4.2,
                  "datetime": "2020-01-01 02:11:50",
                  "min_cycle": "791",
                  "unit": "rw3"
                },
                {
                  "avg_capacity": 2.0083025368521707,
                  "avg_current": -0.052,
                  "avg_temperature": 20.45652,
                  "avg_voltage": 4.2,
                  "datetime": "2020-01-01 02:12:00",
                  "min_cycle": "792",
                  "unit": "rw3"
                },
                {
                  "avg_capacity": 2.0087616597227718,
                  "avg_current": -0.052,
                  "avg_temperature": 20.45652,
                  "avg_voltage": 4.2,
                  "datetime": "2020-01-01 02:12:10",
                  "min_cycle": "793",
                  "unit": "rw3"
                },
                {
                  "avg_capacity": 2.0088724888332217,
                  "avg_current": -0.053,
                  "avg_temperature": 20.45652,
                  "avg_voltage": 4.2,
                  "datetime": "2020-01-01 02:12:20",
                  "min_cycle": "794",
                  "unit": "rw3"
                },
                {
                  "avg_capacity": 2.0084724734149604,
                  "avg_current": -0.052,
                  "avg_temperature": 20.45652,
                  "avg_voltage": 4.2,
                  "datetime": "2020-01-01 02:12:30",
                  "min_cycle": "795",
                  "unit": "rw3"
                },
                {
                  "avg_capacity": 2.0078147902420693,
                  "avg_current": -0.053,
                  "avg_temperature": 20.47209,
                  "avg_voltage": 4.2,
                  "datetime": "2020-01-01 02:12:40",
                  "min_cycle": "796",
                  "unit": "rw3"
                },
                {
                  "avg_capacity": 2.008008423520757,
                  "avg_current": -0.052,
                  "avg_temperature": 20.47209,
                  "avg_voltage": 4.2,
                  "datetime": "2020-01-01 02:12:50",
                  "min_cycle": "797",
                  "unit": "rw3"
                },
                {
                  "avg_capacity": 2.0076493245684874,
                  "avg_current": -0.051,
                  "avg_temperature": 20.47209,
                  "avg_voltage": 4.2,
                  "datetime": "2020-01-01 02:13:00",
                  "min_cycle": "798",
                  "unit": "rw3"
                },
                {
                  "avg_capacity": 2.0089128807510725,
                  "avg_current": -0.052,
                  "avg_temperature": 20.47209,
                  "avg_voltage": 4.2,
                  "datetime": "2020-01-01 02:13:10",
                  "min_cycle": "799",
                  "unit": "rw3"
                },
                {
                  "avg_capacity": 2.007841656624127,
                  "avg_current": -0.051,
                  "avg_temperature": 20.48766,
                  "avg_voltage": 4.2,
                  "datetime": "2020-01-01 02:13:20",
                  "min_cycle": "800",
                  "unit": "rw3"
                },
                {
                  "avg_capacity": 2.0083577306953977,
                  "avg_current": -0.052,
                  "avg_temperature": 20.48766,
                  "avg_voltage": 4.2,
                  "datetime": "2020-01-01 02:13:30",
                  "min_cycle": "801",
                  "unit": "rw3"
                },
                {
                  "avg_capacity": 2.00858594766052,
                  "avg_current": -0.05,
                  "avg_temperature": 20.47209,
                  "avg_voltage": 4.2,
                  "datetime": "2020-01-01 02:13:40",
                  "min_cycle": "802",
                  "unit": "rw3"
                },
                {
                  "avg_capacity": 2.0099061990180984,
                  "avg_current": -0.049,
                  "avg_temperature": 20.47209,
                  "avg_voltage": 4.2,
                  "datetime": "2020-01-01 02:13:50",
                  "min_cycle": "803",
                  "unit": "rw3"
                },
                {
                  "avg_capacity": 2.0084270092523995,
                  "avg_current": -0.049,
                  "avg_temperature": 20.48766,
                  "avg_voltage": 4.2,
                  "datetime": "2020-01-01 02:14:00",
                  "min_cycle": "804",
                  "unit": "rw3"
                },
                {
                  "avg_capacity": 2.0096293259051023,
                  "avg_current": -0.05,
                  "avg_temperature": 20.48766,
                  "avg_voltage": 4.2,
                  "datetime": "2020-01-01 02:14:10",
                  "min_cycle": "805",
                  "unit": "rw3"
                },
                {
                  "avg_capacity": 2.009388317926597,
                  "avg_current": -0.049,
                  "avg_temperature": 20.50323,
                  "avg_voltage": 4.2,
                  "datetime": "2020-01-01 02:14:20",
                  "min_cycle": "806",
                  "unit": "rw3"
                },
                {
                  "avg_capacity": 2.00955533067574,
                  "avg_current": -0.049,
                  "avg_temperature": 20.48766,
                  "avg_voltage": 4.2,
                  "datetime": "2020-01-01 02:14:30",
                  "min_cycle": "807",
                  "unit": "rw3"
                },
                {
                  "avg_capacity": 2.011465652616365,
                  "avg_current": -0.049,
                  "avg_temperature": 20.48766,
                  "avg_voltage": 4.2,
                  "datetime": "2020-01-01 02:14:40",
                  "min_cycle": "808",
                  "unit": "rw3"
                },
                {
                  "avg_capacity": 2.0075591579198546,
                  "avg_current": -0.049,
                  "avg_temperature": 20.48766,
                  "avg_voltage": 4.2,
                  "datetime": "2020-01-01 02:14:50",
                  "min_cycle": "809",
                  "unit": "rw3"
                },
                {
                  "avg_capacity": 2.009041347228354,
                  "avg_current": -0.048,
                  "avg_temperature": 20.50323,
                  "avg_voltage": 4.2,
                  "datetime": "2020-01-01 02:15:00",
                  "min_cycle": "810",
                  "unit": "rw3"
                },
                {
                  "avg_capacity": 2.009413585642332,
                  "avg_current": -0.048,
                  "avg_temperature": 20.51881,
                  "avg_voltage": 4.2,
                  "datetime": "2020-01-01 02:15:10",
                  "min_cycle": "811",
                  "unit": "rw3"
                },
                {
                  "avg_capacity": 2.008294979466867,
                  "avg_current": -0.049,
                  "avg_temperature": 20.50323,
                  "avg_voltage": 4.2,
                  "datetime": "2020-01-01 02:15:20",
                  "min_cycle": "812",
                  "unit": "rw3"
                },
                {
                  "avg_capacity": 2.0071084832114447,
                  "avg_current": -0.048,
                  "avg_temperature": 20.50323,
                  "avg_voltage": 4.2,
                  "datetime": "2020-01-01 02:15:30",
                  "min_cycle": "813",
                  "unit": "rw3"
                },
                {
                  "avg_capacity": 2.0094623090353436,
                  "avg_current": -0.047,
                  "avg_temperature": 20.50323,
                  "avg_voltage": 4.2,
                  "datetime": "2020-01-01 02:15:40",
                  "min_cycle": "814",
                  "unit": "rw3"
                },
                {
                  "avg_capacity": 2.0075908675065035,
                  "avg_current": -0.047,
                  "avg_temperature": 20.50323,
                  "avg_voltage": 4.2,
                  "datetime": "2020-01-01 02:15:50",
                  "min_cycle": "815",
                  "unit": "rw3"
                },
                {
                  "avg_capacity": 2.0076220512267073,
                  "avg_current": -0.048,
                  "avg_temperature": 20.50323,
                  "avg_voltage": 4.2,
                  "datetime": "2020-01-01 02:16:00",
                  "min_cycle": "816",
                  "unit": "rw3"
                },
                {
                  "avg_capacity": 2.008792410733008,
                  "avg_current": -0.047,
                  "avg_temperature": 20.51881,
                  "avg_voltage": 4.2,
                  "datetime": "2020-01-01 02:16:10",
                  "min_cycle": "817",
                  "unit": "rw3"
                },
                {
                  "avg_capacity": 2.0090880066198347,
                  "avg_current": -0.048,
                  "avg_temperature": 20.50323,
                  "avg_voltage": 4.2,
                  "datetime": "2020-01-01 02:16:20",
                  "min_cycle": "818",
                  "unit": "rw3"
                },
                {
                  "avg_capacity": 2.0095139347848208,
                  "avg_current": -0.046,
                  "avg_temperature": 20.50323,
                  "avg_voltage": 4.2,
                  "datetime": "2020-01-01 02:16:30",
                  "min_cycle": "819",
                  "unit": "rw3"
                },
                {
                  "avg_capacity": 2.0088058202871024,
                  "avg_current": -0.046,
                  "avg_temperature": 20.50323,
                  "avg_voltage": 4.2,
                  "datetime": "2020-01-01 02:16:40",
                  "min_cycle": "820",
                  "unit": "rw3"
                },
                {
                  "avg_capacity": 2.010484986844172,
                  "avg_current": -0.047,
                  "avg_temperature": 20.50323,
                  "avg_voltage": 4.2,
                  "datetime": "2020-01-01 02:16:50",
                  "min_cycle": "821",
                  "unit": "rw3"
                },
                {
                  "avg_capacity": 2.0087273847091347,
                  "avg_current": -0.045,
                  "avg_temperature": 20.48766,
                  "avg_voltage": 4.2,
                  "datetime": "2020-01-01 02:17:00",
                  "min_cycle": "822",
                  "unit": "rw3"
                },
                {
                  "avg_capacity": 2.0105595189996404,
                  "avg_current": -0.047,
                  "avg_temperature": 20.50323,
                  "avg_voltage": 4.2,
                  "datetime": "2020-01-01 02:17:10",
                  "min_cycle": "823",
                  "unit": "rw3"
                },
                {
                  "avg_capacity": 2.0095956516932785,
                  "avg_current": -0.045,
                  "avg_temperature": 20.50323,
                  "avg_voltage": 4.2,
                  "datetime": "2020-01-01 02:17:20",
                  "min_cycle": "824",
                  "unit": "rw3"
                },
                {
                  "avg_capacity": 2.0082566863243976,
                  "avg_current": -0.045,
                  "avg_temperature": 20.51881,
                  "avg_voltage": 4.2,
                  "datetime": "2020-01-01 02:17:30",
                  "min_cycle": "825",
                  "unit": "rw3"
                },
                {
                  "avg_capacity": 2.0115896226892587,
                  "avg_current": -0.045,
                  "avg_temperature": 20.51881,
                  "avg_voltage": 4.2,
                  "datetime": "2020-01-01 02:17:40",
                  "min_cycle": "826",
                  "unit": "rw3"
                },
                {
                  "avg_capacity": 2.0077107817057898,
                  "avg_current": -0.044,
                  "avg_temperature": 20.53438,
                  "avg_voltage": 4.2,
                  "datetime": "2020-01-01 02:17:50",
                  "min_cycle": "827",
                  "unit": "rw3"
                },
                {
                  "avg_capacity": 2.0098831034728653,
                  "avg_current": -0.045,
                  "avg_temperature": 20.51881,
                  "avg_voltage": 4.2,
                  "datetime": "2020-01-01 02:18:00",
                  "min_cycle": "828",
                  "unit": "rw3"
                },
                {
                  "avg_capacity": 2.0085932046203623,
                  "avg_current": -0.045,
                  "avg_temperature": 20.51881,
                  "avg_voltage": 4.2,
                  "datetime": "2020-01-01 02:18:10",
                  "min_cycle": "829",
                  "unit": "rw3"
                },
                {
                  "avg_capacity": 2.007640478355573,
                  "avg_current": -0.044,
                  "avg_temperature": 20.51881,
                  "avg_voltage": 4.2,
                  "datetime": "2020-01-01 02:18:20",
                  "min_cycle": "830",
                  "unit": "rw3"
                },
                {
                  "avg_capacity": 2.0101087464418623,
                  "avg_current": -0.044,
                  "avg_temperature": 20.51881,
                  "avg_voltage": 4.2,
                  "datetime": "2020-01-01 02:18:30",
                  "min_cycle": "831",
                  "unit": "rw3"
                },
                {
                  "avg_capacity": 2.009289324878318,
                  "avg_current": -0.045,
                  "avg_temperature": 20.51881,
                  "avg_voltage": 4.2,
                  "datetime": "2020-01-01 02:18:40",
                  "min_cycle": "832",
                  "unit": "rw3"
                },
                {
                  "avg_capacity": 2.0082862390515395,
                  "avg_current": -0.043,
                  "avg_temperature": 20.51881,
                  "avg_voltage": 4.2,
                  "datetime": "2020-01-01 02:18:50",
                  "min_cycle": "833",
                  "unit": "rw3"
                },
                {
                  "avg_capacity": 2.008730628279743,
                  "avg_current": -0.044,
                  "avg_temperature": 20.53438,
                  "avg_voltage": 4.2,
                  "datetime": "2020-01-01 02:19:00",
                  "min_cycle": "834",
                  "unit": "rw3"
                },
                {
                  "avg_capacity": 2.009914573955919,
                  "avg_current": -0.044,
                  "avg_temperature": 20.51881,
                  "avg_voltage": 4.2,
                  "datetime": "2020-01-01 02:19:10",
                  "min_cycle": "835",
                  "unit": "rw3"
                },
                {
                  "avg_capacity": 2.0088979429853286,
                  "avg_current": -0.042,
                  "avg_temperature": 20.53438,
                  "avg_voltage": 4.2,
                  "datetime": "2020-01-01 02:19:20",
                  "min_cycle": "836",
                  "unit": "rw3"
                },
                {
                  "avg_capacity": 2.0064160348466022,
                  "avg_current": -0.042,
                  "avg_temperature": 20.53438,
                  "avg_voltage": 4.2,
                  "datetime": "2020-01-01 02:19:30",
                  "min_cycle": "837",
                  "unit": "rw3"
                },
                {
                  "avg_capacity": 2.008600353381467,
                  "avg_current": -0.042,
                  "avg_temperature": 20.53438,
                  "avg_voltage": 4.2,
                  "datetime": "2020-01-01 02:19:40",
                  "min_cycle": "838",
                  "unit": "rw3"
                },
                {
                  "avg_capacity": 2.0090648948272554,
                  "avg_current": -0.042,
                  "avg_temperature": 20.53438,
                  "avg_voltage": 4.2,
                  "datetime": "2020-01-01 02:19:50",
                  "min_cycle": "839",
                  "unit": "rw3"
                },
                {
                  "avg_capacity": 2.010440544119417,
                  "avg_current": -0.042,
                  "avg_temperature": 20.51881,
                  "avg_voltage": 4.2,
                  "datetime": "2020-01-01 02:20:00",
                  "min_cycle": "840",
                  "unit": "rw3"
                },
                {
                  "avg_capacity": 2.007855579549217,
                  "avg_current": -0.043,
                  "avg_temperature": 20.51881,
                  "avg_voltage": 4.2,
                  "datetime": "2020-01-01 02:20:10",
                  "min_cycle": "841",
                  "unit": "rw3"
                },
                {
                  "avg_capacity": 2.008855630076914,
                  "avg_current": -0.041,
                  "avg_temperature": 20.51881,
                  "avg_voltage": 4.2,
                  "datetime": "2020-01-01 02:20:20",
                  "min_cycle": "842",
                  "unit": "rw3"
                },
                {
                  "avg_capacity": 2.0074467013971025,
                  "avg_current": -0.041,
                  "avg_temperature": 20.51881,
                  "avg_voltage": 4.2,
                  "datetime": "2020-01-01 02:20:30",
                  "min_cycle": "843",
                  "unit": "rw3"
                },
                {
                  "avg_capacity": 2.010288893354273,
                  "avg_current": -0.04,
                  "avg_temperature": 20.51881,
                  "avg_voltage": 4.2,
                  "datetime": "2020-01-01 02:20:40",
                  "min_cycle": "844",
                  "unit": "rw3"
                },
                {
                  "avg_capacity": 2.0082007184418305,
                  "avg_current": -0.041,
                  "avg_temperature": 20.51881,
                  "avg_voltage": 4.2,
                  "datetime": "2020-01-01 02:20:50",
                  "min_cycle": "845",
                  "unit": "rw3"
                },
                {
                  "avg_capacity": 2.007552949881195,
                  "avg_current": -0.041,
                  "avg_temperature": 20.51881,
                  "avg_voltage": 4.2,
                  "datetime": "2020-01-01 02:21:00",
                  "min_cycle": "846",
                  "unit": "rw3"
                },
                {
                  "avg_capacity": 2.007555068251566,
                  "avg_current": -0.041,
                  "avg_temperature": 20.51881,
                  "avg_voltage": 4.2,
                  "datetime": "2020-01-01 02:21:10",
                  "min_cycle": "847",
                  "unit": "rw3"
                },
                {
                  "avg_capacity": 2.0105014836917348,
                  "avg_current": -0.039,
                  "avg_temperature": 20.51881,
                  "avg_voltage": 4.2,
                  "datetime": "2020-01-01 02:21:20",
                  "min_cycle": "848",
                  "unit": "rw3"
                },
                {
                  "avg_capacity": 2.008750475194084,
                  "avg_current": -0.041,
                  "avg_temperature": 20.50323,
                  "avg_voltage": 4.2,
                  "datetime": "2020-01-01 02:21:30",
                  "min_cycle": "849",
                  "unit": "rw3"
                },
                {
                  "avg_capacity": 2.008603224286771,
                  "avg_current": -0.04,
                  "avg_temperature": 20.51881,
                  "avg_voltage": 4.2,
                  "datetime": "2020-01-01 02:21:40",
                  "min_cycle": "850",
                  "unit": "rw3"
                },
                {
                  "avg_capacity": 2.0089993107096076,
                  "avg_current": -0.04,
                  "avg_temperature": 20.50323,
                  "avg_voltage": 4.2,
                  "datetime": "2020-01-01 02:21:50",
                  "min_cycle": "851",
                  "unit": "rw3"
                },
                {
                  "avg_capacity": 2.010685860621734,
                  "avg_current": -0.039,
                  "avg_temperature": 20.51881,
                  "avg_voltage": 4.2,
                  "datetime": "2020-01-01 02:22:00",
                  "min_cycle": "852",
                  "unit": "rw3"
                },
                {
                  "avg_capacity": 2.008210133205946,
                  "avg_current": -0.038,
                  "avg_temperature": 20.51881,
                  "avg_voltage": 4.2,
                  "datetime": "2020-01-01 02:22:10",
                  "min_cycle": "853",
                  "unit": "rw3"
                },
                {
                  "avg_capacity": 2.006957547961036,
                  "avg_current": -0.039,
                  "avg_temperature": 20.51881,
                  "avg_voltage": 4.2,
                  "datetime": "2020-01-01 02:22:20",
                  "min_cycle": "854",
                  "unit": "rw3"
                },
                {
                  "avg_capacity": 2.0112785563265523,
                  "avg_current": -0.039,
                  "avg_temperature": 20.51881,
                  "avg_voltage": 4.2,
                  "datetime": "2020-01-01 02:22:30",
                  "min_cycle": "855",
                  "unit": "rw3"
                },
                {
                  "avg_capacity": 2.0083207543740813,
                  "avg_current": -0.039,
                  "avg_temperature": 20.51881,
                  "avg_voltage": 4.2,
                  "datetime": "2020-01-01 02:22:40",
                  "min_cycle": "856",
                  "unit": "rw3"
                },
                {
                  "avg_capacity": 2.007801053467411,
                  "avg_current": -0.039,
                  "avg_temperature": 20.51881,
                  "avg_voltage": 4.2,
                  "datetime": "2020-01-01 02:22:50",
                  "min_cycle": "857",
                  "unit": "rw3"
                },
                {
                  "avg_capacity": 2.0095926745517643,
                  "avg_current": -0.038,
                  "avg_temperature": 20.51881,
                  "avg_voltage": 4.2,
                  "datetime": "2020-01-01 02:23:00",
                  "min_cycle": "858",
                  "unit": "rw3"
                },
                {
                  "avg_capacity": 2.009391879470536,
                  "avg_current": -0.038,
                  "avg_temperature": 20.51881,
                  "avg_voltage": 4.2,
                  "datetime": "2020-01-01 02:23:10",
                  "min_cycle": "859",
                  "unit": "rw3"
                },
                {
                  "avg_capacity": 2.008149296471317,
                  "avg_current": -0.038,
                  "avg_temperature": 20.51881,
                  "avg_voltage": 4.2,
                  "datetime": "2020-01-01 02:23:20",
                  "min_cycle": "860",
                  "unit": "rw3"
                },
                {
                  "avg_capacity": 2.0114560885571815,
                  "avg_current": -0.038,
                  "avg_temperature": 20.51881,
                  "avg_voltage": 4.2,
                  "datetime": "2020-01-01 02:23:30",
                  "min_cycle": "861",
                  "unit": "rw3"
                },
                {
                  "avg_capacity": 2.00921292501551,
                  "avg_current": -0.038,
                  "avg_temperature": 20.53438,
                  "avg_voltage": 4.2,
                  "datetime": "2020-01-01 02:23:40",
                  "min_cycle": "862",
                  "unit": "rw3"
                },
                {
                  "avg_capacity": 2.0088121841018465,
                  "avg_current": -0.038,
                  "avg_temperature": 20.51881,
                  "avg_voltage": 4.2,
                  "datetime": "2020-01-01 02:23:50",
                  "min_cycle": "863",
                  "unit": "rw3"
                },
                {
                  "avg_capacity": 2.0088057067906733,
                  "avg_current": -0.037,
                  "avg_temperature": 20.51881,
                  "avg_voltage": 4.2,
                  "datetime": "2020-01-01 02:24:00",
                  "min_cycle": "864",
                  "unit": "rw3"
                },
                {
                  "avg_capacity": 2.0086079130937353,
                  "avg_current": -0.037,
                  "avg_temperature": 20.51881,
                  "avg_voltage": 4.2,
                  "datetime": "2020-01-01 02:24:10",
                  "min_cycle": "865",
                  "unit": "rw3"
                },
                {
                  "avg_capacity": 2.0075620251393085,
                  "avg_current": -0.038,
                  "avg_temperature": 20.53438,
                  "avg_voltage": 4.2,
                  "datetime": "2020-01-01 02:24:20",
                  "min_cycle": "866",
                  "unit": "rw3"
                },
                {
                  "avg_capacity": 2.0111431146968517,
                  "avg_current": -0.037,
                  "avg_temperature": 20.53438,
                  "avg_voltage": 4.2,
                  "datetime": "2020-01-01 02:24:30",
                  "min_cycle": "867",
                  "unit": "rw3"
                },
                {
                  "avg_capacity": 2.0080830693115828,
                  "avg_current": -0.036,
                  "avg_temperature": 20.53438,
                  "avg_voltage": 4.2,
                  "datetime": "2020-01-01 02:24:40",
                  "min_cycle": "868",
                  "unit": "rw3"
                },
                {
                  "avg_capacity": 2.0069053828887276,
                  "avg_current": -0.035,
                  "avg_temperature": 20.53438,
                  "avg_voltage": 4.2,
                  "datetime": "2020-01-01 02:24:50",
                  "min_cycle": "869",
                  "unit": "rw3"
                },
                {
                  "avg_capacity": 2.007744176631992,
                  "avg_current": -0.037,
                  "avg_temperature": 20.51881,
                  "avg_voltage": 4.2,
                  "datetime": "2020-01-01 02:25:00",
                  "min_cycle": "870",
                  "unit": "rw3"
                },
                {
                  "avg_capacity": 2.0107154583135913,
                  "avg_current": -0.036,
                  "avg_temperature": 20.53438,
                  "avg_voltage": 4.2,
                  "datetime": "2020-01-01 02:25:10",
                  "min_cycle": "871",
                  "unit": "rw3"
                },
                {
                  "avg_capacity": 2.0075019795839513,
                  "avg_current": -0.036,
                  "avg_temperature": 20.53438,
                  "avg_voltage": 4.2,
                  "datetime": "2020-01-01 02:25:20",
                  "min_cycle": "872",
                  "unit": "rw3"
                },
                {
                  "avg_capacity": 2.0100103516160575,
                  "avg_current": -0.035,
                  "avg_temperature": 20.53438,
                  "avg_voltage": 4.2,
                  "datetime": "2020-01-01 02:25:30",
                  "min_cycle": "873",
                  "unit": "rw3"
                },
                {
                  "avg_capacity": 2.008888703864088,
                  "avg_current": -0.035,
                  "avg_temperature": 20.51881,
                  "avg_voltage": 4.2,
                  "datetime": "2020-01-01 02:25:40",
                  "min_cycle": "874",
                  "unit": "rw3"
                },
                {
                  "avg_capacity": 2.009593714530725,
                  "avg_current": -0.035,
                  "avg_temperature": 20.53438,
                  "avg_voltage": 4.2,
                  "datetime": "2020-01-01 02:25:50",
                  "min_cycle": "875",
                  "unit": "rw3"
                },
                {
                  "avg_capacity": 2.0068993336879664,
                  "avg_current": -0.035,
                  "avg_temperature": 20.53438,
                  "avg_voltage": 4.2,
                  "datetime": "2020-01-01 02:26:00",
                  "min_cycle": "876",
                  "unit": "rw3"
                },
                {
                  "avg_capacity": 2.0082744222394053,
                  "avg_current": -0.035,
                  "avg_temperature": 20.51881,
                  "avg_voltage": 4.2,
                  "datetime": "2020-01-01 02:26:10",
                  "min_cycle": "877",
                  "unit": "rw3"
                },
                {
                  "avg_capacity": 2.0098402241240207,
                  "avg_current": -0.036,
                  "avg_temperature": 20.53438,
                  "avg_voltage": 4.2,
                  "datetime": "2020-01-01 02:26:20",
                  "min_cycle": "878",
                  "unit": "rw3"
                },
                {
                  "avg_capacity": 2.0091595699790403,
                  "avg_current": -0.036,
                  "avg_temperature": 20.53438,
                  "avg_voltage": 4.2,
                  "datetime": "2020-01-01 02:26:30",
                  "min_cycle": "879",
                  "unit": "rw3"
                },
                {
                  "avg_capacity": 2.008009084449237,
                  "avg_current": -0.033,
                  "avg_temperature": 20.53438,
                  "avg_voltage": 4.2,
                  "datetime": "2020-01-01 02:26:40",
                  "min_cycle": "880",
                  "unit": "rw3"
                },
                {
                  "avg_capacity": 2.009438148946364,
                  "avg_current": -0.035,
                  "avg_temperature": 20.54996,
                  "avg_voltage": 4.2,
                  "datetime": "2020-01-01 02:26:50",
                  "min_cycle": "881",
                  "unit": "rw3"
                },
                {
                  "avg_capacity": 2.008930207346006,
                  "avg_current": -0.033,
                  "avg_temperature": 20.54996,
                  "avg_voltage": 4.2,
                  "datetime": "2020-01-01 02:27:00",
                  "min_cycle": "882",
                  "unit": "rw3"
                },
                {
                  "avg_capacity": 2.009325289739737,
                  "avg_current": -0.034,
                  "avg_temperature": 20.56553,
                  "avg_voltage": 4.2,
                  "datetime": "2020-01-01 02:27:10",
                  "min_cycle": "883",
                  "unit": "rw3"
                },
                {
                  "avg_capacity": 2.010257602525891,
                  "avg_current": -0.034,
                  "avg_temperature": 20.56553,
                  "avg_voltage": 4.2,
                  "datetime": "2020-01-01 02:27:20",
                  "min_cycle": "884",
                  "unit": "rw3"
                },
                {
                  "avg_capacity": 2.009507163546269,
                  "avg_current": -0.034,
                  "avg_temperature": 20.5811,
                  "avg_voltage": 4.2,
                  "datetime": "2020-01-01 02:27:30",
                  "min_cycle": "885",
                  "unit": "rw3"
                },
                {
                  "avg_capacity": 2.008599545103775,
                  "avg_current": -0.034,
                  "avg_temperature": 20.59667,
                  "avg_voltage": 4.2,
                  "datetime": "2020-01-01 02:27:40",
                  "min_cycle": "886",
                  "unit": "rw3"
                },
                {
                  "avg_capacity": 2.0082077085866232,
                  "avg_current": -0.034,
                  "avg_temperature": 20.59667,
                  "avg_voltage": 4.2,
                  "datetime": "2020-01-01 02:27:50",
                  "min_cycle": "887",
                  "unit": "rw3"
                },
                {
                  "avg_capacity": 2.0084537974059042,
                  "avg_current": -0.034,
                  "avg_temperature": 20.59667,
                  "avg_voltage": 4.2,
                  "datetime": "2020-01-01 02:28:00",
                  "min_cycle": "888",
                  "unit": "rw3"
                },
                {
                  "avg_capacity": 2.0089362648469464,
                  "avg_current": -0.033,
                  "avg_temperature": 20.59667,
                  "avg_voltage": 4.2,
                  "datetime": "2020-01-01 02:28:10",
                  "min_cycle": "889",
                  "unit": "rw3"
                },
                {
                  "avg_capacity": 2.007764271659151,
                  "avg_current": -0.033,
                  "avg_temperature": 20.59667,
                  "avg_voltage": 4.2,
                  "datetime": "2020-01-01 02:28:20",
                  "min_cycle": "890",
                  "unit": "rw3"
                },
                {
                  "avg_capacity": 2.0098722121657104,
                  "avg_current": -0.033,
                  "avg_temperature": 20.61225,
                  "avg_voltage": 4.2,
                  "datetime": "2020-01-01 02:28:30",
                  "min_cycle": "891",
                  "unit": "rw3"
                },
                {
                  "avg_capacity": 2.010265750533428,
                  "avg_current": -0.032,
                  "avg_temperature": 20.59667,
                  "avg_voltage": 4.2,
                  "datetime": "2020-01-01 02:28:40",
                  "min_cycle": "892",
                  "unit": "rw3"
                },
                {
                  "avg_capacity": 2.0083464224306073,
                  "avg_current": -0.032,
                  "avg_temperature": 20.61225,
                  "avg_voltage": 4.2,
                  "datetime": "2020-01-01 02:28:50",
                  "min_cycle": "893",
                  "unit": "rw3"
                },
                {
                  "avg_capacity": 2.0094228785024577,
                  "avg_current": -0.032,
                  "avg_temperature": 20.61225,
                  "avg_voltage": 4.2,
                  "datetime": "2020-01-01 02:29:00",
                  "min_cycle": "894",
                  "unit": "rw3"
                },
                {
                  "avg_capacity": 2.009491372141629,
                  "avg_current": -0.033,
                  "avg_temperature": 20.62782,
                  "avg_voltage": 4.2,
                  "datetime": "2020-01-01 02:29:10",
                  "min_cycle": "895",
                  "unit": "rw3"
                },
                {
                  "avg_capacity": 2.007772074630914,
                  "avg_current": -0.032,
                  "avg_temperature": 20.62782,
                  "avg_voltage": 4.2,
                  "datetime": "2020-01-01 02:29:20",
                  "min_cycle": "896",
                  "unit": "rw3"
                },
                {
                  "avg_capacity": 2.008428099381386,
                  "avg_current": -0.032,
                  "avg_temperature": 20.62782,
                  "avg_voltage": 4.2,
                  "datetime": "2020-01-01 02:29:30",
                  "min_cycle": "897",
                  "unit": "rw3"
                },
                {
                  "avg_capacity": 2.009168082371572,
                  "avg_current": -0.032,
                  "avg_temperature": 20.64339,
                  "avg_voltage": 4.2,
                  "datetime": "2020-01-01 02:29:40",
                  "min_cycle": "898",
                  "unit": "rw3"
                },
                {
                  "avg_capacity": 2.009767807437915,
                  "avg_current": -0.032,
                  "avg_temperature": 20.64339,
                  "avg_voltage": 4.2,
                  "datetime": "2020-01-01 02:29:50",
                  "min_cycle": "899",
                  "unit": "rw3"
                },
                {
                  "avg_capacity": 2.008543793495559,
                  "avg_current": -0.031,
                  "avg_temperature": 20.64339,
                  "avg_voltage": 4.2,
                  "datetime": "2020-01-01 02:30:00",
                  "min_cycle": "900",
                  "unit": "rw3"
                },
                {
                  "avg_capacity": 2.010125966651913,
                  "avg_current": -0.031,
                  "avg_temperature": 20.64339,
                  "avg_voltage": 4.2,
                  "datetime": "2020-01-01 02:30:10",
                  "min_cycle": "901",
                  "unit": "rw3"
                },
                {
                  "avg_capacity": 2.0092997019127563,
                  "avg_current": -0.031,
                  "avg_temperature": 20.64339,
                  "avg_voltage": 4.2,
                  "datetime": "2020-01-01 02:30:20",
                  "min_cycle": "902",
                  "unit": "rw3"
                },
                {
                  "avg_capacity": 2.0091911554507136,
                  "avg_current": -0.031,
                  "avg_temperature": 20.64339,
                  "avg_voltage": 4.2,
                  "datetime": "2020-01-01 02:30:30",
                  "min_cycle": "903",
                  "unit": "rw3"
                },
                {
                  "avg_capacity": 2.0090107105477726,
                  "avg_current": -0.03,
                  "avg_temperature": 20.64339,
                  "avg_voltage": 4.2,
                  "datetime": "2020-01-01 02:30:40",
                  "min_cycle": "904",
                  "unit": "rw3"
                },
                {
                  "avg_capacity": 2.0085952017960573,
                  "avg_current": -0.031,
                  "avg_temperature": 20.65897,
                  "avg_voltage": 4.2,
                  "datetime": "2020-01-01 02:30:50",
                  "min_cycle": "905",
                  "unit": "rw3"
                },
                {
                  "avg_capacity": 2.00803080258952,
                  "avg_current": -0.031,
                  "avg_temperature": 20.65897,
                  "avg_voltage": 4.2,
                  "datetime": "2020-01-01 02:31:00",
                  "min_cycle": "906",
                  "unit": "rw3"
                },
                {
                  "avg_capacity": 2.007411813965609,
                  "avg_current": -0.031,
                  "avg_temperature": 20.65897,
                  "avg_voltage": 4.2,
                  "datetime": "2020-01-01 02:31:10",
                  "min_cycle": "907",
                  "unit": "rw3"
                },
                {
                  "avg_capacity": 2.0078430808803374,
                  "avg_current": -0.031,
                  "avg_temperature": 20.67454,
                  "avg_voltage": 4.2,
                  "datetime": "2020-01-01 02:31:20",
                  "min_cycle": "908",
                  "unit": "rw3"
                },
                {
                  "avg_capacity": 2.0095840400491722,
                  "avg_current": -0.03,
                  "avg_temperature": 20.65897,
                  "avg_voltage": 4.2,
                  "datetime": "2020-01-01 02:31:30",
                  "min_cycle": "909",
                  "unit": "rw3"
                },
                {
                  "avg_capacity": 2.0092206521333558,
                  "avg_current": -0.031,
                  "avg_temperature": 20.65897,
                  "avg_voltage": 4.2,
                  "datetime": "2020-01-01 02:31:40",
                  "min_cycle": "910",
                  "unit": "rw3"
                },
                {
                  "avg_capacity": 2.008034006013759,
                  "avg_current": -0.03,
                  "avg_temperature": 20.65897,
                  "avg_voltage": 4.2,
                  "datetime": "2020-01-01 02:31:50",
                  "min_cycle": "911",
                  "unit": "rw3"
                },
                {
                  "avg_capacity": 2.0077716774328893,
                  "avg_current": -0.03,
                  "avg_temperature": 20.65897,
                  "avg_voltage": 4.2,
                  "datetime": "2020-01-01 02:32:00",
                  "min_cycle": "912",
                  "unit": "rw3"
                },
                {
                  "avg_capacity": 2.009253369637534,
                  "avg_current": -0.03,
                  "avg_temperature": 20.65897,
                  "avg_voltage": 4.2,
                  "datetime": "2020-01-01 02:32:10",
                  "min_cycle": "913",
                  "unit": "rw3"
                },
                {
                  "avg_capacity": 2.010692193445802,
                  "avg_current": -0.03,
                  "avg_temperature": 20.65897,
                  "avg_voltage": 4.2,
                  "datetime": "2020-01-01 02:32:20",
                  "min_cycle": "914",
                  "unit": "rw3"
                },
                {
                  "avg_capacity": 2.007717717811133,
                  "avg_current": -0.03,
                  "avg_temperature": 20.67454,
                  "avg_voltage": 4.2,
                  "datetime": "2020-01-01 02:32:30",
                  "min_cycle": "915",
                  "unit": "rw3"
                },
                {
                  "avg_capacity": 2.0091111528375456,
                  "avg_current": -0.03,
                  "avg_temperature": 20.67454,
                  "avg_voltage": 4.2,
                  "datetime": "2020-01-01 02:32:40",
                  "min_cycle": "916",
                  "unit": "rw3"
                },
                {
                  "avg_capacity": 2.0078691724291047,
                  "avg_current": -0.029,
                  "avg_temperature": 20.65897,
                  "avg_voltage": 4.2,
                  "datetime": "2020-01-01 02:32:50",
                  "min_cycle": "917",
                  "unit": "rw3"
                },
                {
                  "avg_capacity": 2.008253724609212,
                  "avg_current": -0.03,
                  "avg_temperature": 20.65897,
                  "avg_voltage": 4.2,
                  "datetime": "2020-01-01 02:33:00",
                  "min_cycle": "918",
                  "unit": "rw3"
                },
                {
                  "avg_capacity": 2.007531204932452,
                  "avg_current": -0.03,
                  "avg_temperature": 20.65897,
                  "avg_voltage": 4.2,
                  "datetime": "2020-01-01 02:33:10",
                  "min_cycle": "919",
                  "unit": "rw3"
                },
                {
                  "avg_capacity": 2.0086567126298935,
                  "avg_current": -0.028,
                  "avg_temperature": 20.65897,
                  "avg_voltage": 4.2,
                  "datetime": "2020-01-01 02:33:20",
                  "min_cycle": "920",
                  "unit": "rw3"
                },
                {
                  "avg_capacity": 2.0080854193773034,
                  "avg_current": -0.028,
                  "avg_temperature": 20.64339,
                  "avg_voltage": 4.2,
                  "datetime": "2020-01-01 02:33:30",
                  "min_cycle": "921",
                  "unit": "rw3"
                },
                {
                  "avg_capacity": 2.008805024675981,
                  "avg_current": -0.028,
                  "avg_temperature": 20.64339,
                  "avg_voltage": 4.2,
                  "datetime": "2020-01-01 02:33:40",
                  "min_cycle": "922",
                  "unit": "rw3"
                },
                {
                  "avg_capacity": 2.0085001054838947,
                  "avg_current": -0.027,
                  "avg_temperature": 20.64339,
                  "avg_voltage": 4.2,
                  "datetime": "2020-01-01 02:33:50",
                  "min_cycle": "923",
                  "unit": "rw3"
                },
                {
                  "avg_capacity": 2.0090637906442774,
                  "avg_current": -0.027,
                  "avg_temperature": 20.65897,
                  "avg_voltage": 4.2,
                  "datetime": "2020-01-01 02:34:00",
                  "min_cycle": "924",
                  "unit": "rw3"
                },
                {
                  "avg_capacity": 2.007155426784872,
                  "avg_current": -0.028,
                  "avg_temperature": 20.65897,
                  "avg_voltage": 4.2,
                  "datetime": "2020-01-01 02:34:10",
                  "min_cycle": "925",
                  "unit": "rw3"
                },
                {
                  "avg_capacity": 2.009280313569762,
                  "avg_current": -0.027,
                  "avg_temperature": 20.64339,
                  "avg_voltage": 4.2,
                  "datetime": "2020-01-01 02:34:20",
                  "min_cycle": "926",
                  "unit": "rw3"
                },
                {
                  "avg_capacity": 2.009690228212765,
                  "avg_current": -0.028,
                  "avg_temperature": 20.65897,
                  "avg_voltage": 4.2,
                  "datetime": "2020-01-01 02:34:30",
                  "min_cycle": "927",
                  "unit": "rw3"
                },
                {
                  "avg_capacity": 2.0092982799110874,
                  "avg_current": -0.028,
                  "avg_temperature": 20.64339,
                  "avg_voltage": 4.2,
                  "datetime": "2020-01-01 02:34:40",
                  "min_cycle": "928",
                  "unit": "rw3"
                },
                {
                  "avg_capacity": 2.009259926187496,
                  "avg_current": -0.028,
                  "avg_temperature": 20.65897,
                  "avg_voltage": 4.2,
                  "datetime": "2020-01-01 02:34:50",
                  "min_cycle": "929",
                  "unit": "rw3"
                },
                {
                  "avg_capacity": 2.0089764496399876,
                  "avg_current": -0.028,
                  "avg_temperature": 20.64339,
                  "avg_voltage": 4.2,
                  "datetime": "2020-01-01 02:35:00",
                  "min_cycle": "930",
                  "unit": "rw3"
                },
                {
                  "avg_capacity": 2.0079273987981705,
                  "avg_current": -0.028,
                  "avg_temperature": 20.65897,
                  "avg_voltage": 4.2,
                  "datetime": "2020-01-01 02:35:10",
                  "min_cycle": "931",
                  "unit": "rw3"
                },
                {
                  "avg_capacity": 2.008164107800653,
                  "avg_current": -0.027,
                  "avg_temperature": 20.65897,
                  "avg_voltage": 4.2,
                  "datetime": "2020-01-01 02:35:20",
                  "min_cycle": "932",
                  "unit": "rw3"
                },
                {
                  "avg_capacity": 2.009082936168097,
                  "avg_current": -0.027,
                  "avg_temperature": 20.65897,
                  "avg_voltage": 4.2,
                  "datetime": "2020-01-01 02:35:30",
                  "min_cycle": "933",
                  "unit": "rw3"
                },
                {
                  "avg_capacity": 2.0091170939790053,
                  "avg_current": -0.027,
                  "avg_temperature": 20.64339,
                  "avg_voltage": 4.2,
                  "datetime": "2020-01-01 02:35:40",
                  "min_cycle": "934",
                  "unit": "rw3"
                },
                {
                  "avg_capacity": 2.009660246428419,
                  "avg_current": -0.027,
                  "avg_temperature": 20.64339,
                  "avg_voltage": 4.2,
                  "datetime": "2020-01-01 02:35:50",
                  "min_cycle": "935",
                  "unit": "rw3"
                },
                {
                  "avg_capacity": 2.008995816962674,
                  "avg_current": -0.027,
                  "avg_temperature": 20.64339,
                  "avg_voltage": 4.2,
                  "datetime": "2020-01-01 02:36:00",
                  "min_cycle": "936",
                  "unit": "rw3"
                },
                {
                  "avg_capacity": 2.010031100129631,
                  "avg_current": -0.027,
                  "avg_temperature": 20.62782,
                  "avg_voltage": 4.2,
                  "datetime": "2020-01-01 02:36:10",
                  "min_cycle": "937",
                  "unit": "rw3"
                },
                {
                  "avg_capacity": 2.0095669977919797,
                  "avg_current": -0.026,
                  "avg_temperature": 20.64339,
                  "avg_voltage": 4.2,
                  "datetime": "2020-01-01 02:36:20",
                  "min_cycle": "938",
                  "unit": "rw3"
                },
                {
                  "avg_capacity": 2.0099778126183723,
                  "avg_current": -0.026,
                  "avg_temperature": 20.64339,
                  "avg_voltage": 4.2,
                  "datetime": "2020-01-01 02:36:30",
                  "min_cycle": "939",
                  "unit": "rw3"
                },
                {
                  "avg_capacity": 2.008225186376213,
                  "avg_current": -0.025,
                  "avg_temperature": 20.62782,
                  "avg_voltage": 4.2,
                  "datetime": "2020-01-01 02:36:40",
                  "min_cycle": "940",
                  "unit": "rw3"
                },
                {
                  "avg_capacity": 2.009487429596015,
                  "avg_current": -0.025,
                  "avg_temperature": 20.62782,
                  "avg_voltage": 4.2,
                  "datetime": "2020-01-01 02:36:50",
                  "min_cycle": "941",
                  "unit": "rw3"
                },
                {
                  "avg_capacity": 2.009619510781066,
                  "avg_current": -0.027,
                  "avg_temperature": 20.64339,
                  "avg_voltage": 4.2,
                  "datetime": "2020-01-01 02:37:00",
                  "min_cycle": "942",
                  "unit": "rw3"
                },
                {
                  "avg_capacity": 2.011379443296872,
                  "avg_current": -0.025,
                  "avg_temperature": 20.62782,
                  "avg_voltage": 4.2,
                  "datetime": "2020-01-01 02:37:10",
                  "min_cycle": "943",
                  "unit": "rw3"
                },
                {
                  "avg_capacity": 2.0093037550500923,
                  "avg_current": -0.026,
                  "avg_temperature": 20.64339,
                  "avg_voltage": 4.2,
                  "datetime": "2020-01-01 02:37:20",
                  "min_cycle": "944",
                  "unit": "rw3"
                },
                {
                  "avg_capacity": 2.0089106110609674,
                  "avg_current": -0.026,
                  "avg_temperature": 20.64339,
                  "avg_voltage": 4.2,
                  "datetime": "2020-01-01 02:37:30",
                  "min_cycle": "945",
                  "unit": "rw3"
                },
                {
                  "avg_capacity": 2.009960689138417,
                  "avg_current": -0.026,
                  "avg_temperature": 20.64339,
                  "avg_voltage": 4.2,
                  "datetime": "2020-01-01 02:37:40",
                  "min_cycle": "946",
                  "unit": "rw3"
                },
                {
                  "avg_capacity": 2.0085571915714535,
                  "avg_current": -0.025,
                  "avg_temperature": 20.64339,
                  "avg_voltage": 4.2,
                  "datetime": "2020-01-01 02:37:50",
                  "min_cycle": "947",
                  "unit": "rw3"
                },
                {
                  "avg_capacity": 2.0094538429479156,
                  "avg_current": -0.025,
                  "avg_temperature": 20.62782,
                  "avg_voltage": 4.2,
                  "datetime": "2020-01-01 02:38:00",
                  "min_cycle": "948",
                  "unit": "rw3"
                },
                {
                  "avg_capacity": 2.008544915426945,
                  "avg_current": -0.025,
                  "avg_temperature": 20.64339,
                  "avg_voltage": 4.2,
                  "datetime": "2020-01-01 02:38:10",
                  "min_cycle": "949",
                  "unit": "rw3"
                },
                {
                  "avg_capacity": 2.0097609259062517,
                  "avg_current": -0.025,
                  "avg_temperature": 20.64339,
                  "avg_voltage": 4.2,
                  "datetime": "2020-01-01 02:38:20",
                  "min_cycle": "950",
                  "unit": "rw3"
                },
                {
                  "avg_capacity": 2.0080447694920225,
                  "avg_current": -0.025,
                  "avg_temperature": 20.64339,
                  "avg_voltage": 4.2,
                  "datetime": "2020-01-01 02:38:30",
                  "min_cycle": "951",
                  "unit": "rw3"
                },
                {
                  "avg_capacity": 2.007846871223019,
                  "avg_current": -0.025,
                  "avg_temperature": 20.65897,
                  "avg_voltage": 4.2,
                  "datetime": "2020-01-01 02:38:40",
                  "min_cycle": "952",
                  "unit": "rw3"
                },
                {
                  "avg_capacity": 2.0068920292558627,
                  "avg_current": -0.023,
                  "avg_temperature": 20.67454,
                  "avg_voltage": 4.2,
                  "datetime": "2020-01-01 02:38:50",
                  "min_cycle": "953",
                  "unit": "rw3"
                },
                {
                  "avg_capacity": 2.0088616319885064,
                  "avg_current": -0.025,
                  "avg_temperature": 20.65897,
                  "avg_voltage": 4.2,
                  "datetime": "2020-01-01 02:39:00",
                  "min_cycle": "954",
                  "unit": "rw3"
                },
                {
                  "avg_capacity": 2.008519593496641,
                  "avg_current": -0.024,
                  "avg_temperature": 20.65897,
                  "avg_voltage": 4.2,
                  "datetime": "2020-01-01 02:39:10",
                  "min_cycle": "955",
                  "unit": "rw3"
                },
                {
                  "avg_capacity": 2.0064175514451015,
                  "avg_current": -0.025,
                  "avg_temperature": 20.65897,
                  "avg_voltage": 4.2,
                  "datetime": "2020-01-01 02:39:20",
                  "min_cycle": "956",
                  "unit": "rw3"
                },
                {
                  "avg_capacity": 2.0065937044548354,
                  "avg_current": -0.025,
                  "avg_temperature": 20.65897,
                  "avg_voltage": 4.2,
                  "datetime": "2020-01-01 02:39:30",
                  "min_cycle": "957",
                  "unit": "rw3"
                },
                {
                  "avg_capacity": 2.009322887390655,
                  "avg_current": -0.024,
                  "avg_temperature": 20.65897,
                  "avg_voltage": 4.2,
                  "datetime": "2020-01-01 02:39:40",
                  "min_cycle": "958",
                  "unit": "rw3"
                },
                {
                  "avg_capacity": 2.0081255059658694,
                  "avg_current": -0.024,
                  "avg_temperature": 20.65897,
                  "avg_voltage": 4.2,
                  "datetime": "2020-01-01 02:39:50",
                  "min_cycle": "959",
                  "unit": "rw3"
                },
                {
                  "avg_capacity": 2.0086939364667686,
                  "avg_current": -0.024,
                  "avg_temperature": 20.65897,
                  "avg_voltage": 4.2,
                  "datetime": "2020-01-01 02:40:00",
                  "min_cycle": "960",
                  "unit": "rw3"
                },
                {
                  "avg_capacity": 2.009960090498538,
                  "avg_current": -0.023,
                  "avg_temperature": 20.65897,
                  "avg_voltage": 4.2,
                  "datetime": "2020-01-01 02:40:10",
                  "min_cycle": "961",
                  "unit": "rw3"
                },
                {
                  "avg_capacity": 2.009461324308006,
                  "avg_current": -0.024,
                  "avg_temperature": 20.65897,
                  "avg_voltage": 4.2,
                  "datetime": "2020-01-01 02:40:20",
                  "min_cycle": "962",
                  "unit": "rw3"
                },
                {
                  "avg_capacity": 2.0085481787149067,
                  "avg_current": -0.024,
                  "avg_temperature": 20.65897,
                  "avg_voltage": 4.2,
                  "datetime": "2020-01-01 02:40:30",
                  "min_cycle": "963",
                  "unit": "rw3"
                },
                {
                  "avg_capacity": 2.0078771415605354,
                  "avg_current": -0.024,
                  "avg_temperature": 20.67454,
                  "avg_voltage": 4.2,
                  "datetime": "2020-01-01 02:40:40",
                  "min_cycle": "964",
                  "unit": "rw3"
                },
                {
                  "avg_capacity": 2.009283134028264,
                  "avg_current": -0.023,
                  "avg_temperature": 20.65897,
                  "avg_voltage": 4.2,
                  "datetime": "2020-01-01 02:40:50",
                  "min_cycle": "965",
                  "unit": "rw3"
                },
                {
                  "avg_capacity": 2.0109425096150972,
                  "avg_current": -0.023,
                  "avg_temperature": 20.65897,
                  "avg_voltage": 4.2,
                  "datetime": "2020-01-01 02:41:00",
                  "min_cycle": "966",
                  "unit": "rw3"
                },
                {
                  "avg_capacity": 2.0102237211069762,
                  "avg_current": -0.024,
                  "avg_temperature": 20.65897,
                  "avg_voltage": 4.2,
                  "datetime": "2020-01-01 02:41:10",
                  "min_cycle": "967",
                  "unit": "rw3"
                },
                {
                  "avg_capacity": 2.0086985377507043,
                  "avg_current": -0.023,
                  "avg_temperature": 20.65897,
                  "avg_voltage": 4.2,
                  "datetime": "2020-01-01 02:41:20",
                  "min_cycle": "968",
                  "unit": "rw3"
                },
                {
                  "avg_capacity": 2.009313940676943,
                  "avg_current": -0.023,
                  "avg_temperature": 20.67454,
                  "avg_voltage": 4.2,
                  "datetime": "2020-01-01 02:41:30",
                  "min_cycle": "969",
                  "unit": "rw3"
                },
                {
                  "avg_capacity": 2.0073522824994887,
                  "avg_current": -0.022,
                  "avg_temperature": 20.65897,
                  "avg_voltage": 4.2,
                  "datetime": "2020-01-01 02:41:40",
                  "min_cycle": "970",
                  "unit": "rw3"
                },
                {
                  "avg_capacity": 2.0073168480358112,
                  "avg_current": -0.023,
                  "avg_temperature": 20.65897,
                  "avg_voltage": 4.2,
                  "datetime": "2020-01-01 02:41:50",
                  "min_cycle": "971",
                  "unit": "rw3"
                },
                {
                  "avg_capacity": 2.008945800630989,
                  "avg_current": -0.023,
                  "avg_temperature": 20.64339,
                  "avg_voltage": 4.2,
                  "datetime": "2020-01-01 02:42:00",
                  "min_cycle": "972",
                  "unit": "rw3"
                },
                {
                  "avg_capacity": 2.0101046456986853,
                  "avg_current": -0.021,
                  "avg_temperature": 20.65897,
                  "avg_voltage": 4.2,
                  "datetime": "2020-01-01 02:42:10",
                  "min_cycle": "973",
                  "unit": "rw3"
                },
                {
                  "avg_capacity": 2.0101652301598536,
                  "avg_current": -0.022,
                  "avg_temperature": 20.65897,
                  "avg_voltage": 4.2,
                  "datetime": "2020-01-01 02:42:20",
                  "min_cycle": "974",
                  "unit": "rw3"
                },
                {
                  "avg_capacity": 2.0078169524607823,
                  "avg_current": -0.022,
                  "avg_temperature": 20.65897,
                  "avg_voltage": 4.2,
                  "datetime": "2020-01-01 02:42:30",
                  "min_cycle": "975",
                  "unit": "rw3"
                },
                {
                  "avg_capacity": 2.008584900079175,
                  "avg_current": -0.022,
                  "avg_temperature": 20.65897,
                  "avg_voltage": 4.2,
                  "datetime": "2020-01-01 02:42:40",
                  "min_cycle": "976",
                  "unit": "rw3"
                },
                {
                  "avg_capacity": 2.006830950141234,
                  "avg_current": -0.021,
                  "avg_temperature": 20.65897,
                  "avg_voltage": 4.2,
                  "datetime": "2020-01-01 02:42:50",
                  "min_cycle": "977",
                  "unit": "rw3"
                },
                {
                  "avg_capacity": 2.009144824652766,
                  "avg_current": -0.023,
                  "avg_temperature": 20.64339,
                  "avg_voltage": 4.2,
                  "datetime": "2020-01-01 02:43:00",
                  "min_cycle": "978",
                  "unit": "rw3"
                },
                {
                  "avg_capacity": 2.009174022408526,
                  "avg_current": -0.023,
                  "avg_temperature": 20.64339,
                  "avg_voltage": 4.2,
                  "datetime": "2020-01-01 02:43:10",
                  "min_cycle": "979",
                  "unit": "rw3"
                },
                {
                  "avg_capacity": 2.0104989496049726,
                  "avg_current": -0.022,
                  "avg_temperature": 20.65897,
                  "avg_voltage": 4.2,
                  "datetime": "2020-01-01 02:43:20",
                  "min_cycle": "980",
                  "unit": "rw3"
                },
                {
                  "avg_capacity": 2.0083857220570107,
                  "avg_current": -0.022,
                  "avg_temperature": 20.65897,
                  "avg_voltage": 4.2,
                  "datetime": "2020-01-01 02:43:30",
                  "min_cycle": "981",
                  "unit": "rw3"
                },
                {
                  "avg_capacity": 2.0096992178637727,
                  "avg_current": -0.022,
                  "avg_temperature": 20.67454,
                  "avg_voltage": 4.2,
                  "datetime": "2020-01-01 02:43:40",
                  "min_cycle": "982",
                  "unit": "rw3"
                },
                {
                  "avg_capacity": 2.0094150074851065,
                  "avg_current": -0.022,
                  "avg_temperature": 20.67454,
                  "avg_voltage": 4.2,
                  "datetime": "2020-01-01 02:43:50",
                  "min_cycle": "983",
                  "unit": "rw3"
                },
                {
                  "avg_capacity": 2.009824378868875,
                  "avg_current": -0.022,
                  "avg_temperature": 20.65897,
                  "avg_voltage": 4.2,
                  "datetime": "2020-01-01 02:44:00",
                  "min_cycle": "984",
                  "unit": "rw3"
                },
                {
                  "avg_capacity": 2.0104998789415243,
                  "avg_current": -0.022,
                  "avg_temperature": 20.67454,
                  "avg_voltage": 4.2,
                  "datetime": "2020-01-01 02:44:10",
                  "min_cycle": "985",
                  "unit": "rw3"
                },
                {
                  "avg_capacity": 2.0106108621802092,
                  "avg_current": -0.021,
                  "avg_temperature": 20.67454,
                  "avg_voltage": 4.2,
                  "datetime": "2020-01-01 02:44:20",
                  "min_cycle": "986",
                  "unit": "rw3"
                },
                {
                  "avg_capacity": 2.0073615076618228,
                  "avg_current": -0.022,
                  "avg_temperature": 20.67454,
                  "avg_voltage": 4.2,
                  "datetime": "2020-01-01 02:44:30",
                  "min_cycle": "987",
                  "unit": "rw3"
                },
                {
                  "avg_capacity": 2.008766450658929,
                  "avg_current": -0.022,
                  "avg_temperature": 20.67454,
                  "avg_voltage": 4.2,
                  "datetime": "2020-01-01 02:44:40",
                  "min_cycle": "988",
                  "unit": "rw3"
                },
                {
                  "avg_capacity": 2.0105613808655725,
                  "avg_current": -0.022,
                  "avg_temperature": 20.67454,
                  "avg_voltage": 4.2,
                  "datetime": "2020-01-01 02:44:50",
                  "min_cycle": "989",
                  "unit": "rw3"
                },
                {
                  "avg_capacity": 2.0085868021154165,
                  "avg_current": -0.02,
                  "avg_temperature": 20.67454,
                  "avg_voltage": 4.2,
                  "datetime": "2020-01-01 02:45:00",
                  "min_cycle": "990",
                  "unit": "rw3"
                },
                {
                  "avg_capacity": 2.009437714107103,
                  "avg_current": -0.021,
                  "avg_temperature": 20.69011,
                  "avg_voltage": 4.2,
                  "datetime": "2020-01-01 02:45:10",
                  "min_cycle": "991",
                  "unit": "rw3"
                },
                {
                  "avg_capacity": 2.009178986856501,
                  "avg_current": -0.02,
                  "avg_temperature": 20.67454,
                  "avg_voltage": 4.2,
                  "datetime": "2020-01-01 02:45:20",
                  "min_cycle": "992",
                  "unit": "rw3"
                },
                {
                  "avg_capacity": 2.008087333583943,
                  "avg_current": -0.02,
                  "avg_temperature": 20.67454,
                  "avg_voltage": 4.2,
                  "datetime": "2020-01-01 02:45:30",
                  "min_cycle": "993",
                  "unit": "rw3"
                },
                {
                  "avg_capacity": 2.009218814337134,
                  "avg_current": -0.021,
                  "avg_temperature": 20.67454,
                  "avg_voltage": 4.2,
                  "datetime": "2020-01-01 02:45:40",
                  "min_cycle": "994",
                  "unit": "rw3"
                },
                {
                  "avg_capacity": 2.0095415767033526,
                  "avg_current": -0.021,
                  "avg_temperature": 20.65897,
                  "avg_voltage": 4.2,
                  "datetime": "2020-01-01 02:45:50",
                  "min_cycle": "995",
                  "unit": "rw3"
                },
                {
                  "avg_capacity": 2.0098184535631973,
                  "avg_current": -0.02,
                  "avg_temperature": 20.65897,
                  "avg_voltage": 4.2,
                  "datetime": "2020-01-01 02:46:00",
                  "min_cycle": "996",
                  "unit": "rw3"
                },
                {
                  "avg_capacity": 2.009205186656789,
                  "avg_current": -0.02,
                  "avg_temperature": 20.67454,
                  "avg_voltage": 4.2,
                  "datetime": "2020-01-01 02:46:10",
                  "min_cycle": "997",
                  "unit": "rw3"
                },
                {
                  "avg_capacity": 2.0109523275446497,
                  "avg_current": -0.02,
                  "avg_temperature": 20.67454,
                  "avg_voltage": 4.2,
                  "datetime": "2020-01-01 02:46:20",
                  "min_cycle": "998",
                  "unit": "rw3"
                },
                {
                  "avg_capacity": 2.010324267803652,
                  "avg_current": -0.021,
                  "avg_temperature": 20.67454,
                  "avg_voltage": 4.2,
                  "datetime": "2020-01-01 02:46:30",
                  "min_cycle": "999",
                  "unit": "rw3"
                },
                {
                  "avg_capacity": 2.007752641823832,
                  "avg_current": -0.02,
                  "avg_temperature": 20.67454,
                  "avg_voltage": 4.2,
                  "datetime": "2020-01-01 02:46:40",
                  "min_cycle": "1000",
                  "unit": "rw3"
                }
              ],
              "schema": {
                "avg_capacity": "double",
                "avg_current": "double",
                "avg_temperature": "double",
                "avg_voltage": "double",
                "datetime": "string",
                "min_cycle": "string",
                "unit": "string"
              }
            }
          },
          "type": "Synapse.DataFrame"
        },
        "743f0316-d1cd-428f-94c0-75072ed9524a": {
          "persist_state": {
            "view": {
              "chartOptions": {
                "aggregationType": "count",
                "categoryFieldKeys": [
                  "from_unixtime((unix_timestamp(to_date('2020-01-01'), yyyy-MM-dd HH:mm:ss) + CAST(1 AS BIGINT)), yyyy-MM-dd HH:mm:ss)"
                ],
                "chartType": "bar",
                "isStacked": false,
                "seriesFieldKeys": [
                  "from_unixtime((unix_timestamp(to_date('2020-01-01'), yyyy-MM-dd HH:mm:ss) + CAST(1 AS BIGINT)), yyyy-MM-dd HH:mm:ss)"
                ]
              },
              "type": "details"
            }
          },
          "sync_state": {
            "isSummary": false,
            "language": "scala",
            "table": {
              "rows": [
                {
                  "from_unixtime((unix_timestamp(to_date('2020-01-01'), yyyy-MM-dd HH:mm:ss) + CAST(1 AS BIGINT)), yyyy-MM-dd HH:mm:ss)": "2020-01-01 00:00:01"
                }
              ],
              "schema": {
                "from_unixtime((unix_timestamp(to_date('2020-01-01'), yyyy-MM-dd HH:mm:ss) + CAST(1 AS BIGINT)), yyyy-MM-dd HH:mm:ss)": "string"
              }
            }
          },
          "type": "Synapse.DataFrame"
        },
        "867d8317-e229-46dc-96c1-fa2866c788a2": {
          "persist_state": {
            "view": {
              "chartOptions": {
                "aggregationType": "sum",
                "categoryFieldKeys": [],
                "chartType": "bar",
                "isStacked": false,
                "seriesFieldKeys": [
                  "(CAST(CAST(unix_timestamp(to_timestamp('2020-01-01 00:00:00.000000'), yyyy-MM-dd HH:mm:ss) AS DECIMAL(20,0)) AS DECIMAL(22,1)) + CAST(2.6 AS DECIMAL(22,1)))"
                ]
              },
              "type": "details"
            }
          },
          "sync_state": {
            "isSummary": false,
            "language": "scala",
            "table": {
              "rows": [
                {
                  "(CAST(CAST(unix_timestamp(to_timestamp('2020-01-01 00:00:00.000000'), yyyy-MM-dd HH:mm:ss) AS DECIMAL(20,0)) AS DECIMAL(22,1)) + CAST(2.6 AS DECIMAL(22,1)))": 1577836802.6
                }
              ],
              "schema": {
                "(CAST(CAST(unix_timestamp(to_timestamp('2020-01-01 00:00:00.000000'), yyyy-MM-dd HH:mm:ss) AS DECIMAL(20,0)) AS DECIMAL(22,1)) + CAST(2.6 AS DECIMAL(22,1)))": "decimal"
              }
            }
          },
          "type": "Synapse.DataFrame"
        },
        "ae9f193b-5160-4774-ab20-f6255efd8cce": {
          "persist_state": {
            "view": {
              "chartOptions": {
                "aggregationType": "sum",
                "categoryFieldKeys": [
                  "unit"
                ],
                "chartType": "bar",
                "isStacked": false,
                "seriesFieldKeys": [
                  "avg_voltage"
                ]
              },
              "type": "details"
            }
          },
          "sync_state": {
            "isSummary": false,
            "language": "scala",
            "table": {
              "rows": [
                {
                  "avg_capacity": 2.0089689889090265,
                  "avg_current": -2.002,
                  "avg_temperature": 21.14174,
                  "avg_voltage": 3.397,
                  "datetime": "2020-01-01 00:00:00",
                  "min_cycle": "0",
                  "unit": "rw3"
                },
                {
                  "avg_capacity": 2.0077280988698982,
                  "avg_current": -2.001,
                  "avg_temperature": 21.14174,
                  "avg_voltage": 3.532,
                  "datetime": "2020-01-01 00:00:10",
                  "min_cycle": "1",
                  "unit": "rw3"
                },
                {
                  "avg_capacity": 2.00923327071335,
                  "avg_current": -2,
                  "avg_temperature": 21.12617,
                  "avg_voltage": 3.599,
                  "datetime": "2020-01-01 00:00:20",
                  "min_cycle": "2",
                  "unit": "rw3"
                },
                {
                  "avg_capacity": 2.0083031409624734,
                  "avg_current": -2,
                  "avg_temperature": 21.11059,
                  "avg_voltage": 3.652,
                  "datetime": "2020-01-01 00:00:30",
                  "min_cycle": "3",
                  "unit": "rw3"
                },
                {
                  "avg_capacity": 2.007206363621342,
                  "avg_current": -2,
                  "avg_temperature": 21.11059,
                  "avg_voltage": 3.696,
                  "datetime": "2020-01-01 00:00:40",
                  "min_cycle": "4",
                  "unit": "rw3"
                },
                {
                  "avg_capacity": 2.0102305218737784,
                  "avg_current": -2.001,
                  "avg_temperature": 21.09502,
                  "avg_voltage": 3.733,
                  "datetime": "2020-01-01 00:00:50",
                  "min_cycle": "5",
                  "unit": "rw3"
                },
                {
                  "avg_capacity": 2.0075109830672977,
                  "avg_current": -1.999,
                  "avg_temperature": 21.06387,
                  "avg_voltage": 3.765,
                  "datetime": "2020-01-01 00:01:00",
                  "min_cycle": "6",
                  "unit": "rw3"
                },
                {
                  "avg_capacity": 2.005594417381059,
                  "avg_current": -1.999,
                  "avg_temperature": 21.0483,
                  "avg_voltage": 3.794,
                  "datetime": "2020-01-01 00:01:10",
                  "min_cycle": "7",
                  "unit": "rw3"
                },
                {
                  "avg_capacity": 2.0096654829732166,
                  "avg_current": -2,
                  "avg_temperature": 21.0483,
                  "avg_voltage": 3.819,
                  "datetime": "2020-01-01 00:01:20",
                  "min_cycle": "8",
                  "unit": "rw3"
                },
                {
                  "avg_capacity": 2.0092471935012286,
                  "avg_current": -2,
                  "avg_temperature": 21.0483,
                  "avg_voltage": 3.841,
                  "datetime": "2020-01-01 00:01:30",
                  "min_cycle": "9",
                  "unit": "rw3"
                },
                {
                  "avg_capacity": 2.0090274591885535,
                  "avg_current": -2.001,
                  "avg_temperature": 21.03273,
                  "avg_voltage": 3.861,
                  "datetime": "2020-01-01 00:01:40",
                  "min_cycle": "10",
                  "unit": "rw3"
                },
                {
                  "avg_capacity": 2.009659373773398,
                  "avg_current": -2,
                  "avg_temperature": 21.01715,
                  "avg_voltage": 3.879,
                  "datetime": "2020-01-01 00:01:50",
                  "min_cycle": "11",
                  "unit": "rw3"
                },
                {
                  "avg_capacity": 2.01003429332592,
                  "avg_current": -2,
                  "avg_temperature": 21.01715,
                  "avg_voltage": 3.896,
                  "datetime": "2020-01-01 00:02:00",
                  "min_cycle": "12",
                  "unit": "rw3"
                },
                {
                  "avg_capacity": 2.008823291345315,
                  "avg_current": -2,
                  "avg_temperature": 21.00158,
                  "avg_voltage": 3.91,
                  "datetime": "2020-01-01 00:02:10",
                  "min_cycle": "13",
                  "unit": "rw3"
                },
                {
                  "avg_capacity": 2.009304811889896,
                  "avg_current": -2,
                  "avg_temperature": 20.98601,
                  "avg_voltage": 3.922,
                  "datetime": "2020-01-01 00:02:20",
                  "min_cycle": "14",
                  "unit": "rw3"
                },
                {
                  "avg_capacity": 2.008684312233572,
                  "avg_current": -2.001,
                  "avg_temperature": 20.98601,
                  "avg_voltage": 3.932,
                  "datetime": "2020-01-01 00:02:30",
                  "min_cycle": "15",
                  "unit": "rw3"
                },
                {
                  "avg_capacity": 2.0082729475342793,
                  "avg_current": -2,
                  "avg_temperature": 20.98601,
                  "avg_voltage": 3.939,
                  "datetime": "2020-01-01 00:02:40",
                  "min_cycle": "16",
                  "unit": "rw3"
                },
                {
                  "avg_capacity": 2.009204031094366,
                  "avg_current": -2,
                  "avg_temperature": 20.98601,
                  "avg_voltage": 3.944,
                  "datetime": "2020-01-01 00:02:50",
                  "min_cycle": "17",
                  "unit": "rw3"
                },
                {
                  "avg_capacity": 2.0075745566505807,
                  "avg_current": -2.001,
                  "avg_temperature": 20.98601,
                  "avg_voltage": 3.949,
                  "datetime": "2020-01-01 00:03:00",
                  "min_cycle": "18",
                  "unit": "rw3"
                },
                {
                  "avg_capacity": 2.0093861352273317,
                  "avg_current": -2,
                  "avg_temperature": 20.98601,
                  "avg_voltage": 3.951,
                  "datetime": "2020-01-01 00:03:10",
                  "min_cycle": "19",
                  "unit": "rw3"
                },
                {
                  "avg_capacity": 2.0087433266251744,
                  "avg_current": -2.001,
                  "avg_temperature": 21.00158,
                  "avg_voltage": 3.954,
                  "datetime": "2020-01-01 00:03:20",
                  "min_cycle": "20",
                  "unit": "rw3"
                },
                {
                  "avg_capacity": 2.009581430956176,
                  "avg_current": -2,
                  "avg_temperature": 21.00158,
                  "avg_voltage": 3.956,
                  "datetime": "2020-01-01 00:03:30",
                  "min_cycle": "21",
                  "unit": "rw3"
                },
                {
                  "avg_capacity": 2.009409626598543,
                  "avg_current": -2,
                  "avg_temperature": 21.01715,
                  "avg_voltage": 3.957,
                  "datetime": "2020-01-01 00:03:40",
                  "min_cycle": "22",
                  "unit": "rw3"
                },
                {
                  "avg_capacity": 2.0091672319336973,
                  "avg_current": -2,
                  "avg_temperature": 21.03273,
                  "avg_voltage": 3.958,
                  "datetime": "2020-01-01 00:03:50",
                  "min_cycle": "23",
                  "unit": "rw3"
                },
                {
                  "avg_capacity": 2.0083083633269148,
                  "avg_current": -2,
                  "avg_temperature": 21.0483,
                  "avg_voltage": 3.96,
                  "datetime": "2020-01-01 00:04:00",
                  "min_cycle": "24",
                  "unit": "rw3"
                },
                {
                  "avg_capacity": 2.0082064219272753,
                  "avg_current": -2,
                  "avg_temperature": 21.06387,
                  "avg_voltage": 3.961,
                  "datetime": "2020-01-01 00:04:10",
                  "min_cycle": "25",
                  "unit": "rw3"
                },
                {
                  "avg_capacity": 2.0103821522060894,
                  "avg_current": -2,
                  "avg_temperature": 21.06387,
                  "avg_voltage": 3.962,
                  "datetime": "2020-01-01 00:04:20",
                  "min_cycle": "26",
                  "unit": "rw3"
                },
                {
                  "avg_capacity": 2.0098238019458243,
                  "avg_current": -2,
                  "avg_temperature": 21.07945,
                  "avg_voltage": 3.964,
                  "datetime": "2020-01-01 00:04:30",
                  "min_cycle": "27",
                  "unit": "rw3"
                },
                {
                  "avg_capacity": 2.008388586154135,
                  "avg_current": -2,
                  "avg_temperature": 21.09502,
                  "avg_voltage": 3.966,
                  "datetime": "2020-01-01 00:04:40",
                  "min_cycle": "28",
                  "unit": "rw3"
                },
                {
                  "avg_capacity": 2.009367566409996,
                  "avg_current": -2,
                  "avg_temperature": 21.12617,
                  "avg_voltage": 3.967,
                  "datetime": "2020-01-01 00:04:50",
                  "min_cycle": "29",
                  "unit": "rw3"
                },
                {
                  "avg_capacity": 2.0093374012931635,
                  "avg_current": -2.001,
                  "avg_temperature": 21.14174,
                  "avg_voltage": 3.969,
                  "datetime": "2020-01-01 00:05:00",
                  "min_cycle": "30",
                  "unit": "rw3"
                },
                {
                  "avg_capacity": 2.008904542317287,
                  "avg_current": -2,
                  "avg_temperature": 21.17289,
                  "avg_voltage": 3.97,
                  "datetime": "2020-01-01 00:05:10",
                  "min_cycle": "31",
                  "unit": "rw3"
                },
                {
                  "avg_capacity": 2.009847626447976,
                  "avg_current": -2,
                  "avg_temperature": 21.18846,
                  "avg_voltage": 3.972,
                  "datetime": "2020-01-01 00:05:20",
                  "min_cycle": "32",
                  "unit": "rw3"
                },
                {
                  "avg_capacity": 2.009115150177046,
                  "avg_current": -2,
                  "avg_temperature": 21.2196,
                  "avg_voltage": 3.974,
                  "datetime": "2020-01-01 00:05:30",
                  "min_cycle": "33",
                  "unit": "rw3"
                },
                {
                  "avg_capacity": 2.0079190919455536,
                  "avg_current": -2,
                  "avg_temperature": 21.25075,
                  "avg_voltage": 3.976,
                  "datetime": "2020-01-01 00:05:40",
                  "min_cycle": "34",
                  "unit": "rw3"
                },
                {
                  "avg_capacity": 2.010420732940683,
                  "avg_current": -2.001,
                  "avg_temperature": 21.26632,
                  "avg_voltage": 3.977,
                  "datetime": "2020-01-01 00:05:50",
                  "min_cycle": "35",
                  "unit": "rw3"
                },
                {
                  "avg_capacity": 2.008900711924636,
                  "avg_current": -2,
                  "avg_temperature": 21.29747,
                  "avg_voltage": 3.979,
                  "datetime": "2020-01-01 00:06:00",
                  "min_cycle": "36",
                  "unit": "rw3"
                },
                {
                  "avg_capacity": 2.008405358112677,
                  "avg_current": -2.001,
                  "avg_temperature": 21.32862,
                  "avg_voltage": 3.981,
                  "datetime": "2020-01-01 00:06:10",
                  "min_cycle": "37",
                  "unit": "rw3"
                },
                {
                  "avg_capacity": 2.0074015339065614,
                  "avg_current": -2,
                  "avg_temperature": 21.34419,
                  "avg_voltage": 3.983,
                  "datetime": "2020-01-01 00:06:20",
                  "min_cycle": "38",
                  "unit": "rw3"
                },
                {
                  "avg_capacity": 2.00866731230637,
                  "avg_current": -2,
                  "avg_temperature": 21.35976,
                  "avg_voltage": 3.985,
                  "datetime": "2020-01-01 00:06:30",
                  "min_cycle": "39",
                  "unit": "rw3"
                },
                {
                  "avg_capacity": 2.008143164177454,
                  "avg_current": -2,
                  "avg_temperature": 21.39091,
                  "avg_voltage": 3.986,
                  "datetime": "2020-01-01 00:06:40",
                  "min_cycle": "40",
                  "unit": "rw3"
                },
                {
                  "avg_capacity": 2.009800148702982,
                  "avg_current": -2.001,
                  "avg_temperature": 21.40648,
                  "avg_voltage": 3.988,
                  "datetime": "2020-01-01 00:06:50",
                  "min_cycle": "41",
                  "unit": "rw3"
                },
                {
                  "avg_capacity": 2.0089298872836294,
                  "avg_current": -2,
                  "avg_temperature": 21.42206,
                  "avg_voltage": 3.99,
                  "datetime": "2020-01-01 00:07:00",
                  "min_cycle": "42",
                  "unit": "rw3"
                },
                {
                  "avg_capacity": 2.009556181171019,
                  "avg_current": -2,
                  "avg_temperature": 21.4532,
                  "avg_voltage": 3.992,
                  "datetime": "2020-01-01 00:07:10",
                  "min_cycle": "43",
                  "unit": "rw3"
                },
                {
                  "avg_capacity": 2.0089663092163828,
                  "avg_current": -2,
                  "avg_temperature": 21.46878,
                  "avg_voltage": 3.994,
                  "datetime": "2020-01-01 00:07:20",
                  "min_cycle": "44",
                  "unit": "rw3"
                },
                {
                  "avg_capacity": 2.007759241130372,
                  "avg_current": -2,
                  "avg_temperature": 21.48435,
                  "avg_voltage": 3.995,
                  "datetime": "2020-01-01 00:07:30",
                  "min_cycle": "45",
                  "unit": "rw3"
                },
                {
                  "avg_capacity": 2.009480297810429,
                  "avg_current": -2,
                  "avg_temperature": 21.53107,
                  "avg_voltage": 3.997,
                  "datetime": "2020-01-01 00:07:40",
                  "min_cycle": "46",
                  "unit": "rw3"
                },
                {
                  "avg_capacity": 2.008325122098887,
                  "avg_current": -2,
                  "avg_temperature": 21.54664,
                  "avg_voltage": 3.999,
                  "datetime": "2020-01-01 00:07:50",
                  "min_cycle": "47",
                  "unit": "rw3"
                },
                {
                  "avg_capacity": 2.0091015628989,
                  "avg_current": -2,
                  "avg_temperature": 21.56222,
                  "avg_voltage": 4.001,
                  "datetime": "2020-01-01 00:08:00",
                  "min_cycle": "48",
                  "unit": "rw3"
                },
                {
                  "avg_capacity": 2.007054964155876,
                  "avg_current": -2.001,
                  "avg_temperature": 21.56222,
                  "avg_voltage": 4.002,
                  "datetime": "2020-01-01 00:08:10",
                  "min_cycle": "49",
                  "unit": "rw3"
                },
                {
                  "avg_capacity": 2.008592745246782,
                  "avg_current": -2,
                  "avg_temperature": 21.57779,
                  "avg_voltage": 4.004,
                  "datetime": "2020-01-01 00:08:20",
                  "min_cycle": "50",
                  "unit": "rw3"
                },
                {
                  "avg_capacity": 2.0090405484749074,
                  "avg_current": -2,
                  "avg_temperature": 21.60894,
                  "avg_voltage": 4.006,
                  "datetime": "2020-01-01 00:08:30",
                  "min_cycle": "51",
                  "unit": "rw3"
                },
                {
                  "avg_capacity": 2.008906357460925,
                  "avg_current": -2,
                  "avg_temperature": 21.64008,
                  "avg_voltage": 4.007,
                  "datetime": "2020-01-01 00:08:40",
                  "min_cycle": "52",
                  "unit": "rw3"
                },
                {
                  "avg_capacity": 2.010348389111732,
                  "avg_current": -2,
                  "avg_temperature": 21.67123,
                  "avg_voltage": 4.009,
                  "datetime": "2020-01-01 00:08:50",
                  "min_cycle": "53",
                  "unit": "rw3"
                },
                {
                  "avg_capacity": 2.0080025211927435,
                  "avg_current": -2,
                  "avg_temperature": 21.67123,
                  "avg_voltage": 4.01,
                  "datetime": "2020-01-01 00:09:00",
                  "min_cycle": "54",
                  "unit": "rw3"
                },
                {
                  "avg_capacity": 2.007172504219802,
                  "avg_current": -1.999,
                  "avg_temperature": 21.67123,
                  "avg_voltage": 4.012,
                  "datetime": "2020-01-01 00:09:10",
                  "min_cycle": "55",
                  "unit": "rw3"
                },
                {
                  "avg_capacity": 2.009140351353155,
                  "avg_current": -2,
                  "avg_temperature": 21.6868,
                  "avg_voltage": 4.013,
                  "datetime": "2020-01-01 00:09:20",
                  "min_cycle": "56",
                  "unit": "rw3"
                },
                {
                  "avg_capacity": 2.007360773887633,
                  "avg_current": -2,
                  "avg_temperature": 21.71795,
                  "avg_voltage": 4.015,
                  "datetime": "2020-01-01 00:09:30",
                  "min_cycle": "57",
                  "unit": "rw3"
                },
                {
                  "avg_capacity": 2.0092071818991184,
                  "avg_current": -2,
                  "avg_temperature": 21.73352,
                  "avg_voltage": 4.016,
                  "datetime": "2020-01-01 00:09:40",
                  "min_cycle": "58",
                  "unit": "rw3"
                },
                {
                  "avg_capacity": 2.0095460963575342,
                  "avg_current": -2,
                  "avg_temperature": 21.76467,
                  "avg_voltage": 4.018,
                  "datetime": "2020-01-01 00:09:50",
                  "min_cycle": "59",
                  "unit": "rw3"
                },
                {
                  "avg_capacity": 2.0107726843022107,
                  "avg_current": -2,
                  "avg_temperature": 21.76467,
                  "avg_voltage": 4.019,
                  "datetime": "2020-01-01 00:10:00",
                  "min_cycle": "60",
                  "unit": "rw3"
                },
                {
                  "avg_capacity": 2.0089371741372086,
                  "avg_current": -2,
                  "avg_temperature": 21.79581,
                  "avg_voltage": 4.02,
                  "datetime": "2020-01-01 00:10:10",
                  "min_cycle": "61",
                  "unit": "rw3"
                },
                {
                  "avg_capacity": 2.0108269160349983,
                  "avg_current": -2,
                  "avg_temperature": 21.81139,
                  "avg_voltage": 4.022,
                  "datetime": "2020-01-01 00:10:20",
                  "min_cycle": "62",
                  "unit": "rw3"
                },
                {
                  "avg_capacity": 2.0074106242600904,
                  "avg_current": -2,
                  "avg_temperature": 21.82696,
                  "avg_voltage": 4.023,
                  "datetime": "2020-01-01 00:10:30",
                  "min_cycle": "63",
                  "unit": "rw3"
                },
                {
                  "avg_capacity": 2.0099422476152524,
                  "avg_current": -2,
                  "avg_temperature": 21.85811,
                  "avg_voltage": 4.024,
                  "datetime": "2020-01-01 00:10:40",
                  "min_cycle": "64",
                  "unit": "rw3"
                },
                {
                  "avg_capacity": 2.0096399114939323,
                  "avg_current": -2,
                  "avg_temperature": 21.87368,
                  "avg_voltage": 4.025,
                  "datetime": "2020-01-01 00:10:50",
                  "min_cycle": "65",
                  "unit": "rw3"
                },
                {
                  "avg_capacity": 2.009305471328589,
                  "avg_current": -2.001,
                  "avg_temperature": 21.88925,
                  "avg_voltage": 4.026,
                  "datetime": "2020-01-01 00:11:00",
                  "min_cycle": "66",
                  "unit": "rw3"
                },
                {
                  "avg_capacity": 2.00992996322018,
                  "avg_current": -2.001,
                  "avg_temperature": 21.90483,
                  "avg_voltage": 4.028,
                  "datetime": "2020-01-01 00:11:10",
                  "min_cycle": "67",
                  "unit": "rw3"
                },
                {
                  "avg_capacity": 2.009768130979678,
                  "avg_current": -2,
                  "avg_temperature": 21.93597,
                  "avg_voltage": 4.029,
                  "datetime": "2020-01-01 00:11:20",
                  "min_cycle": "68",
                  "unit": "rw3"
                },
                {
                  "avg_capacity": 2.0090831699637124,
                  "avg_current": -2,
                  "avg_temperature": 21.96712,
                  "avg_voltage": 4.03,
                  "datetime": "2020-01-01 00:11:30",
                  "min_cycle": "69",
                  "unit": "rw3"
                },
                {
                  "avg_capacity": 2.0074931246290775,
                  "avg_current": -2,
                  "avg_temperature": 21.98269,
                  "avg_voltage": 4.031,
                  "datetime": "2020-01-01 00:11:40",
                  "min_cycle": "70",
                  "unit": "rw3"
                },
                {
                  "avg_capacity": 2.007898095799738,
                  "avg_current": -2.001,
                  "avg_temperature": 22.01384,
                  "avg_voltage": 4.032,
                  "datetime": "2020-01-01 00:11:50",
                  "min_cycle": "71",
                  "unit": "rw3"
                },
                {
                  "avg_capacity": 2.008323147447593,
                  "avg_current": -2,
                  "avg_temperature": 22.02941,
                  "avg_voltage": 4.033,
                  "datetime": "2020-01-01 00:12:00",
                  "min_cycle": "72",
                  "unit": "rw3"
                },
                {
                  "avg_capacity": 2.009630657297611,
                  "avg_current": -2,
                  "avg_temperature": 22.04499,
                  "avg_voltage": 4.034,
                  "datetime": "2020-01-01 00:12:10",
                  "min_cycle": "73",
                  "unit": "rw3"
                },
                {
                  "avg_capacity": 2.0085494071062935,
                  "avg_current": -2,
                  "avg_temperature": 22.07613,
                  "avg_voltage": 4.035,
                  "datetime": "2020-01-01 00:12:20",
                  "min_cycle": "74",
                  "unit": "rw3"
                },
                {
                  "avg_capacity": 2.0078517287817106,
                  "avg_current": -1.999,
                  "avg_temperature": 22.09171,
                  "avg_voltage": 4.036,
                  "datetime": "2020-01-01 00:12:30",
                  "min_cycle": "75",
                  "unit": "rw3"
                },
                {
                  "avg_capacity": 2.0086206429542472,
                  "avg_current": -2.001,
                  "avg_temperature": 22.10728,
                  "avg_voltage": 4.036,
                  "datetime": "2020-01-01 00:12:40",
                  "min_cycle": "76",
                  "unit": "rw3"
                },
                {
                  "avg_capacity": 2.0090426138075017,
                  "avg_current": -2,
                  "avg_temperature": 22.12285,
                  "avg_voltage": 4.037,
                  "datetime": "2020-01-01 00:12:50",
                  "min_cycle": "77",
                  "unit": "rw3"
                },
                {
                  "avg_capacity": 2.0092846319031312,
                  "avg_current": -2.001,
                  "avg_temperature": 22.13843,
                  "avg_voltage": 4.038,
                  "datetime": "2020-01-01 00:13:00",
                  "min_cycle": "78",
                  "unit": "rw3"
                },
                {
                  "avg_capacity": 2.0096117532462743,
                  "avg_current": -2,
                  "avg_temperature": 22.154,
                  "avg_voltage": 4.039,
                  "datetime": "2020-01-01 00:13:10",
                  "min_cycle": "79",
                  "unit": "rw3"
                },
                {
                  "avg_capacity": 2.0100258671080993,
                  "avg_current": -2,
                  "avg_temperature": 22.18515,
                  "avg_voltage": 4.04,
                  "datetime": "2020-01-01 00:13:20",
                  "min_cycle": "80",
                  "unit": "rw3"
                },
                {
                  "avg_capacity": 2.0097439985304657,
                  "avg_current": -2,
                  "avg_temperature": 22.20072,
                  "avg_voltage": 4.041,
                  "datetime": "2020-01-01 00:13:30",
                  "min_cycle": "81",
                  "unit": "rw3"
                },
                {
                  "avg_capacity": 2.008311840183511,
                  "avg_current": -2,
                  "avg_temperature": 22.23187,
                  "avg_voltage": 4.042,
                  "datetime": "2020-01-01 00:13:40",
                  "min_cycle": "82",
                  "unit": "rw3"
                },
                {
                  "avg_capacity": 2.0083353892535856,
                  "avg_current": -2,
                  "avg_temperature": 22.24744,
                  "avg_voltage": 4.043,
                  "datetime": "2020-01-01 00:13:50",
                  "min_cycle": "83",
                  "unit": "rw3"
                },
                {
                  "avg_capacity": 2.0077374349806814,
                  "avg_current": -2.001,
                  "avg_temperature": 22.26301,
                  "avg_voltage": 4.043,
                  "datetime": "2020-01-01 00:14:00",
                  "min_cycle": "84",
                  "unit": "rw3"
                },
                {
                  "avg_capacity": 2.0089732642797267,
                  "avg_current": -2,
                  "avg_temperature": 22.27859,
                  "avg_voltage": 4.044,
                  "datetime": "2020-01-01 00:14:10",
                  "min_cycle": "85",
                  "unit": "rw3"
                },
                {
                  "avg_capacity": 2.010487082038428,
                  "avg_current": -1.999,
                  "avg_temperature": 22.30973,
                  "avg_voltage": 4.045,
                  "datetime": "2020-01-01 00:14:20",
                  "min_cycle": "86",
                  "unit": "rw3"
                },
                {
                  "avg_capacity": 2.0089618494332524,
                  "avg_current": -2,
                  "avg_temperature": 22.32531,
                  "avg_voltage": 4.046,
                  "datetime": "2020-01-01 00:14:30",
                  "min_cycle": "87",
                  "unit": "rw3"
                },
                {
                  "avg_capacity": 2.008708985189067,
                  "avg_current": -1.999,
                  "avg_temperature": 22.34088,
                  "avg_voltage": 4.046,
                  "datetime": "2020-01-01 00:14:40",
                  "min_cycle": "88",
                  "unit": "rw3"
                },
                {
                  "avg_capacity": 2.0099285896222203,
                  "avg_current": -2,
                  "avg_temperature": 22.35645,
                  "avg_voltage": 4.047,
                  "datetime": "2020-01-01 00:14:50",
                  "min_cycle": "89",
                  "unit": "rw3"
                },
                {
                  "avg_capacity": 2.0097230925749616,
                  "avg_current": -2,
                  "avg_temperature": 22.37202,
                  "avg_voltage": 4.048,
                  "datetime": "2020-01-01 00:15:00",
                  "min_cycle": "90",
                  "unit": "rw3"
                },
                {
                  "avg_capacity": 2.009342783920913,
                  "avg_current": -2,
                  "avg_temperature": 22.3876,
                  "avg_voltage": 4.049,
                  "datetime": "2020-01-01 00:15:10",
                  "min_cycle": "91",
                  "unit": "rw3"
                },
                {
                  "avg_capacity": 2.0078117323697673,
                  "avg_current": -2,
                  "avg_temperature": 22.40317,
                  "avg_voltage": 4.049,
                  "datetime": "2020-01-01 00:15:20",
                  "min_cycle": "92",
                  "unit": "rw3"
                },
                {
                  "avg_capacity": 2.0090429467685875,
                  "avg_current": -2,
                  "avg_temperature": 22.41874,
                  "avg_voltage": 4.05,
                  "datetime": "2020-01-01 00:15:30",
                  "min_cycle": "93",
                  "unit": "rw3"
                },
                {
                  "avg_capacity": 2.010108374418964,
                  "avg_current": -2,
                  "avg_temperature": 22.44989,
                  "avg_voltage": 4.051,
                  "datetime": "2020-01-01 00:15:40",
                  "min_cycle": "94",
                  "unit": "rw3"
                },
                {
                  "avg_capacity": 2.009349446575241,
                  "avg_current": -2,
                  "avg_temperature": 22.48104,
                  "avg_voltage": 4.052,
                  "datetime": "2020-01-01 00:15:50",
                  "min_cycle": "95",
                  "unit": "rw3"
                },
                {
                  "avg_capacity": 2.0095332785704265,
                  "avg_current": -2,
                  "avg_temperature": 22.49661,
                  "avg_voltage": 4.052,
                  "datetime": "2020-01-01 00:16:00",
                  "min_cycle": "96",
                  "unit": "rw3"
                },
                {
                  "avg_capacity": 2.008555204648467,
                  "avg_current": -2.001,
                  "avg_temperature": 22.51218,
                  "avg_voltage": 4.053,
                  "datetime": "2020-01-01 00:16:10",
                  "min_cycle": "97",
                  "unit": "rw3"
                },
                {
                  "avg_capacity": 2.006842895539325,
                  "avg_current": -2,
                  "avg_temperature": 22.52776,
                  "avg_voltage": 4.054,
                  "datetime": "2020-01-01 00:16:20",
                  "min_cycle": "98",
                  "unit": "rw3"
                },
                {
                  "avg_capacity": 2.0088897603964524,
                  "avg_current": -2,
                  "avg_temperature": 22.54333,
                  "avg_voltage": 4.055,
                  "datetime": "2020-01-01 00:16:30",
                  "min_cycle": "99",
                  "unit": "rw3"
                },
                {
                  "avg_capacity": 2.009159895360417,
                  "avg_current": -2,
                  "avg_temperature": 22.57448,
                  "avg_voltage": 4.055,
                  "datetime": "2020-01-01 00:16:40",
                  "min_cycle": "100",
                  "unit": "rw3"
                },
                {
                  "avg_capacity": 2.008277460713402,
                  "avg_current": -1.999,
                  "avg_temperature": 22.59005,
                  "avg_voltage": 4.056,
                  "datetime": "2020-01-01 00:16:50",
                  "min_cycle": "101",
                  "unit": "rw3"
                },
                {
                  "avg_capacity": 2.0084150825438227,
                  "avg_current": -2,
                  "avg_temperature": 22.60562,
                  "avg_voltage": 4.057,
                  "datetime": "2020-01-01 00:17:00",
                  "min_cycle": "102",
                  "unit": "rw3"
                },
                {
                  "avg_capacity": 2.0094405240381237,
                  "avg_current": -2,
                  "avg_temperature": 22.6212,
                  "avg_voltage": 4.058,
                  "datetime": "2020-01-01 00:17:10",
                  "min_cycle": "103",
                  "unit": "rw3"
                },
                {
                  "avg_capacity": 2.0099181597487172,
                  "avg_current": -2,
                  "avg_temperature": 22.63677,
                  "avg_voltage": 4.058,
                  "datetime": "2020-01-01 00:17:20",
                  "min_cycle": "104",
                  "unit": "rw3"
                },
                {
                  "avg_capacity": 2.0096068192425736,
                  "avg_current": -1.999,
                  "avg_temperature": 22.65234,
                  "avg_voltage": 4.059,
                  "datetime": "2020-01-01 00:17:30",
                  "min_cycle": "105",
                  "unit": "rw3"
                },
                {
                  "avg_capacity": 2.00970213621715,
                  "avg_current": -2,
                  "avg_temperature": 22.66792,
                  "avg_voltage": 4.06,
                  "datetime": "2020-01-01 00:17:40",
                  "min_cycle": "106",
                  "unit": "rw3"
                },
                {
                  "avg_capacity": 2.0075876822212053,
                  "avg_current": -2,
                  "avg_temperature": 22.68349,
                  "avg_voltage": 4.06,
                  "datetime": "2020-01-01 00:17:50",
                  "min_cycle": "107",
                  "unit": "rw3"
                },
                {
                  "avg_capacity": 2.0103318230072302,
                  "avg_current": -2,
                  "avg_temperature": 22.69906,
                  "avg_voltage": 4.061,
                  "datetime": "2020-01-01 00:18:00",
                  "min_cycle": "108",
                  "unit": "rw3"
                },
                {
                  "avg_capacity": 2.0072576943726124,
                  "avg_current": -2,
                  "avg_temperature": 22.73021,
                  "avg_voltage": 4.062,
                  "datetime": "2020-01-01 00:18:10",
                  "min_cycle": "109",
                  "unit": "rw3"
                },
                {
                  "avg_capacity": 2.0091921569767575,
                  "avg_current": -2,
                  "avg_temperature": 22.73021,
                  "avg_voltage": 4.062,
                  "datetime": "2020-01-01 00:18:20",
                  "min_cycle": "110",
                  "unit": "rw3"
                },
                {
                  "avg_capacity": 2.00907657568236,
                  "avg_current": -2,
                  "avg_temperature": 22.76135,
                  "avg_voltage": 4.063,
                  "datetime": "2020-01-01 00:18:30",
                  "min_cycle": "111",
                  "unit": "rw3"
                },
                {
                  "avg_capacity": 2.0094924576258943,
                  "avg_current": -2,
                  "avg_temperature": 22.76135,
                  "avg_voltage": 4.064,
                  "datetime": "2020-01-01 00:18:40",
                  "min_cycle": "112",
                  "unit": "rw3"
                },
                {
                  "avg_capacity": 2.0097028993004877,
                  "avg_current": -2,
                  "avg_temperature": 22.77693,
                  "avg_voltage": 4.065,
                  "datetime": "2020-01-01 00:18:50",
                  "min_cycle": "113",
                  "unit": "rw3"
                },
                {
                  "avg_capacity": 2.0104644162646896,
                  "avg_current": -1.999,
                  "avg_temperature": 22.7925,
                  "avg_voltage": 4.065,
                  "datetime": "2020-01-01 00:19:00",
                  "min_cycle": "114",
                  "unit": "rw3"
                },
                {
                  "avg_capacity": 2.0102340792225037,
                  "avg_current": -2,
                  "avg_temperature": 22.7925,
                  "avg_voltage": 4.066,
                  "datetime": "2020-01-01 00:19:10",
                  "min_cycle": "115",
                  "unit": "rw3"
                },
                {
                  "avg_capacity": 2.009018818287047,
                  "avg_current": -2,
                  "avg_temperature": 22.80807,
                  "avg_voltage": 4.067,
                  "datetime": "2020-01-01 00:19:20",
                  "min_cycle": "116",
                  "unit": "rw3"
                },
                {
                  "avg_capacity": 2.0109821618319548,
                  "avg_current": -2,
                  "avg_temperature": 22.82365,
                  "avg_voltage": 4.068,
                  "datetime": "2020-01-01 00:19:30",
                  "min_cycle": "117",
                  "unit": "rw3"
                },
                {
                  "avg_capacity": 2.009599562519336,
                  "avg_current": -2,
                  "avg_temperature": 22.82365,
                  "avg_voltage": 4.068,
                  "datetime": "2020-01-01 00:19:40",
                  "min_cycle": "118",
                  "unit": "rw3"
                },
                {
                  "avg_capacity": 2.010085025948761,
                  "avg_current": -2,
                  "avg_temperature": 22.8548,
                  "avg_voltage": 4.069,
                  "datetime": "2020-01-01 00:19:50",
                  "min_cycle": "119",
                  "unit": "rw3"
                },
                {
                  "avg_capacity": 2.0094925927496097,
                  "avg_current": -2,
                  "avg_temperature": 22.87037,
                  "avg_voltage": 4.07,
                  "datetime": "2020-01-01 00:20:00",
                  "min_cycle": "120",
                  "unit": "rw3"
                },
                {
                  "avg_capacity": 2.007943143929028,
                  "avg_current": -2,
                  "avg_temperature": 22.88594,
                  "avg_voltage": 4.071,
                  "datetime": "2020-01-01 00:20:10",
                  "min_cycle": "121",
                  "unit": "rw3"
                },
                {
                  "avg_capacity": 2.0091347371205837,
                  "avg_current": -2,
                  "avg_temperature": 22.91709,
                  "avg_voltage": 4.071,
                  "datetime": "2020-01-01 00:20:20",
                  "min_cycle": "122",
                  "unit": "rw3"
                },
                {
                  "avg_capacity": 2.0104378480560157,
                  "avg_current": -2,
                  "avg_temperature": 22.93266,
                  "avg_voltage": 4.072,
                  "datetime": "2020-01-01 00:20:30",
                  "min_cycle": "123",
                  "unit": "rw3"
                },
                {
                  "avg_capacity": 2.0115630233295567,
                  "avg_current": -2,
                  "avg_temperature": 22.94823,
                  "avg_voltage": 4.073,
                  "datetime": "2020-01-01 00:20:40",
                  "min_cycle": "124",
                  "unit": "rw3"
                },
                {
                  "avg_capacity": 2.008083179348027,
                  "avg_current": -2,
                  "avg_temperature": 22.97938,
                  "avg_voltage": 4.074,
                  "datetime": "2020-01-01 00:20:50",
                  "min_cycle": "125",
                  "unit": "rw3"
                },
                {
                  "avg_capacity": 2.0079285432920946,
                  "avg_current": -1.999,
                  "avg_temperature": 22.97938,
                  "avg_voltage": 4.074,
                  "datetime": "2020-01-01 00:21:00",
                  "min_cycle": "126",
                  "unit": "rw3"
                },
                {
                  "avg_capacity": 2.0079530593260064,
                  "avg_current": -2,
                  "avg_temperature": 22.99495,
                  "avg_voltage": 4.075,
                  "datetime": "2020-01-01 00:21:10",
                  "min_cycle": "127",
                  "unit": "rw3"
                },
                {
                  "avg_capacity": 2.008863504624939,
                  "avg_current": -2,
                  "avg_temperature": 23.01053,
                  "avg_voltage": 4.076,
                  "datetime": "2020-01-01 00:21:20",
                  "min_cycle": "128",
                  "unit": "rw3"
                },
                {
                  "avg_capacity": 2.0093077402816286,
                  "avg_current": -2,
                  "avg_temperature": 23.0261,
                  "avg_voltage": 4.077,
                  "datetime": "2020-01-01 00:21:30",
                  "min_cycle": "129",
                  "unit": "rw3"
                },
                {
                  "avg_capacity": 2.009578603515456,
                  "avg_current": -2,
                  "avg_temperature": 23.04167,
                  "avg_voltage": 4.078,
                  "datetime": "2020-01-01 00:21:40",
                  "min_cycle": "130",
                  "unit": "rw3"
                },
                {
                  "avg_capacity": 2.0093085161784456,
                  "avg_current": -2,
                  "avg_temperature": 23.07282,
                  "avg_voltage": 4.078,
                  "datetime": "2020-01-01 00:21:50",
                  "min_cycle": "131",
                  "unit": "rw3"
                },
                {
                  "avg_capacity": 2.0081883503585445,
                  "avg_current": -2,
                  "avg_temperature": 23.08839,
                  "avg_voltage": 4.079,
                  "datetime": "2020-01-01 00:22:00",
                  "min_cycle": "132",
                  "unit": "rw3"
                },
                {
                  "avg_capacity": 2.010095496704848,
                  "avg_current": -2,
                  "avg_temperature": 23.08839,
                  "avg_voltage": 4.08,
                  "datetime": "2020-01-01 00:22:10",
                  "min_cycle": "133",
                  "unit": "rw3"
                },
                {
                  "avg_capacity": 2.0068392432139786,
                  "avg_current": -2,
                  "avg_temperature": 23.11954,
                  "avg_voltage": 4.081,
                  "datetime": "2020-01-01 00:22:20",
                  "min_cycle": "134",
                  "unit": "rw3"
                },
                {
                  "avg_capacity": 2.0099707390517016,
                  "avg_current": -2,
                  "avg_temperature": 23.13511,
                  "avg_voltage": 4.081,
                  "datetime": "2020-01-01 00:22:30",
                  "min_cycle": "135",
                  "unit": "rw3"
                },
                {
                  "avg_capacity": 2.010446028731373,
                  "avg_current": -2,
                  "avg_temperature": 23.16626,
                  "avg_voltage": 4.082,
                  "datetime": "2020-01-01 00:22:40",
                  "min_cycle": "136",
                  "unit": "rw3"
                },
                {
                  "avg_capacity": 2.0089538906083826,
                  "avg_current": -2,
                  "avg_temperature": 23.16626,
                  "avg_voltage": 4.083,
                  "datetime": "2020-01-01 00:22:50",
                  "min_cycle": "137",
                  "unit": "rw3"
                },
                {
                  "avg_capacity": 2.0095551736086246,
                  "avg_current": -2,
                  "avg_temperature": 23.19741,
                  "avg_voltage": 4.084,
                  "datetime": "2020-01-01 00:23:00",
                  "min_cycle": "138",
                  "unit": "rw3"
                },
                {
                  "avg_capacity": 2.0087418256178453,
                  "avg_current": -2,
                  "avg_temperature": 23.21298,
                  "avg_voltage": 4.085,
                  "datetime": "2020-01-01 00:23:10",
                  "min_cycle": "139",
                  "unit": "rw3"
                },
                {
                  "avg_capacity": 2.007700946163089,
                  "avg_current": -2,
                  "avg_temperature": 23.22855,
                  "avg_voltage": 4.085,
                  "datetime": "2020-01-01 00:23:20",
                  "min_cycle": "140",
                  "unit": "rw3"
                },
                {
                  "avg_capacity": 2.0082836764525185,
                  "avg_current": -1.999,
                  "avg_temperature": 23.24413,
                  "avg_voltage": 4.086,
                  "datetime": "2020-01-01 00:23:30",
                  "min_cycle": "141",
                  "unit": "rw3"
                },
                {
                  "avg_capacity": 2.010237220553825,
                  "avg_current": -2,
                  "avg_temperature": 23.27527,
                  "avg_voltage": 4.087,
                  "datetime": "2020-01-01 00:23:40",
                  "min_cycle": "142",
                  "unit": "rw3"
                },
                {
                  "avg_capacity": 2.0081371174726192,
                  "avg_current": -2,
                  "avg_temperature": 23.29085,
                  "avg_voltage": 4.088,
                  "datetime": "2020-01-01 00:23:50",
                  "min_cycle": "143",
                  "unit": "rw3"
                },
                {
                  "avg_capacity": 2.0104196221750965,
                  "avg_current": -2,
                  "avg_temperature": 23.30642,
                  "avg_voltage": 4.089,
                  "datetime": "2020-01-01 00:24:00",
                  "min_cycle": "144",
                  "unit": "rw3"
                },
                {
                  "avg_capacity": 2.011829565176468,
                  "avg_current": -2,
                  "avg_temperature": 23.32199,
                  "avg_voltage": 4.09,
                  "datetime": "2020-01-01 00:24:10",
                  "min_cycle": "145",
                  "unit": "rw3"
                },
                {
                  "avg_capacity": 2.0085716582906383,
                  "avg_current": -2,
                  "avg_temperature": 23.33757,
                  "avg_voltage": 4.09,
                  "datetime": "2020-01-01 00:24:20",
                  "min_cycle": "146",
                  "unit": "rw3"
                },
                {
                  "avg_capacity": 2.0094336595254116,
                  "avg_current": -2,
                  "avg_temperature": 23.33757,
                  "avg_voltage": 4.091,
                  "datetime": "2020-01-01 00:24:30",
                  "min_cycle": "147",
                  "unit": "rw3"
                },
                {
                  "avg_capacity": 2.008918676309511,
                  "avg_current": -2,
                  "avg_temperature": 23.35314,
                  "avg_voltage": 4.092,
                  "datetime": "2020-01-01 00:24:40",
                  "min_cycle": "148",
                  "unit": "rw3"
                },
                {
                  "avg_capacity": 2.007101204855617,
                  "avg_current": -2,
                  "avg_temperature": 23.38428,
                  "avg_voltage": 4.093,
                  "datetime": "2020-01-01 00:24:50",
                  "min_cycle": "149",
                  "unit": "rw3"
                },
                {
                  "avg_capacity": 2.0081188797373835,
                  "avg_current": -2,
                  "avg_temperature": 23.38428,
                  "avg_voltage": 4.094,
                  "datetime": "2020-01-01 00:25:00",
                  "min_cycle": "150",
                  "unit": "rw3"
                },
                {
                  "avg_capacity": 2.009170031983728,
                  "avg_current": -2,
                  "avg_temperature": 23.38428,
                  "avg_voltage": 4.095,
                  "datetime": "2020-01-01 00:25:10",
                  "min_cycle": "151",
                  "unit": "rw3"
                },
                {
                  "avg_capacity": 2.009709043770783,
                  "avg_current": -2,
                  "avg_temperature": 23.41543,
                  "avg_voltage": 4.095,
                  "datetime": "2020-01-01 00:25:20",
                  "min_cycle": "152",
                  "unit": "rw3"
                },
                {
                  "avg_capacity": 2.0075278310731575,
                  "avg_current": -2,
                  "avg_temperature": 23.41543,
                  "avg_voltage": 4.096,
                  "datetime": "2020-01-01 00:25:30",
                  "min_cycle": "153",
                  "unit": "rw3"
                },
                {
                  "avg_capacity": 2.0098610598634656,
                  "avg_current": -2,
                  "avg_temperature": 23.43101,
                  "avg_voltage": 4.097,
                  "datetime": "2020-01-01 00:25:40",
                  "min_cycle": "154",
                  "unit": "rw3"
                },
                {
                  "avg_capacity": 2.0079618402791715,
                  "avg_current": -2,
                  "avg_temperature": 23.44658,
                  "avg_voltage": 4.098,
                  "datetime": "2020-01-01 00:25:50",
                  "min_cycle": "155",
                  "unit": "rw3"
                },
                {
                  "avg_capacity": 2.007783422346907,
                  "avg_current": -2,
                  "avg_temperature": 23.44658,
                  "avg_voltage": 4.099,
                  "datetime": "2020-01-01 00:26:00",
                  "min_cycle": "156",
                  "unit": "rw3"
                },
                {
                  "avg_capacity": 2.0090738360695033,
                  "avg_current": -2,
                  "avg_temperature": 23.44658,
                  "avg_voltage": 4.1,
                  "datetime": "2020-01-01 00:26:10",
                  "min_cycle": "157",
                  "unit": "rw3"
                },
                {
                  "avg_capacity": 2.007978911731617,
                  "avg_current": -2,
                  "avg_temperature": 23.44658,
                  "avg_voltage": 4.101,
                  "datetime": "2020-01-01 00:26:20",
                  "min_cycle": "158",
                  "unit": "rw3"
                },
                {
                  "avg_capacity": 2.008596109045541,
                  "avg_current": -2,
                  "avg_temperature": 23.46215,
                  "avg_voltage": 4.102,
                  "datetime": "2020-01-01 00:26:30",
                  "min_cycle": "159",
                  "unit": "rw3"
                },
                {
                  "avg_capacity": 2.0107700365226537,
                  "avg_current": -2.001,
                  "avg_temperature": 23.47773,
                  "avg_voltage": 4.102,
                  "datetime": "2020-01-01 00:26:40",
                  "min_cycle": "160",
                  "unit": "rw3"
                },
                {
                  "avg_capacity": 2.010759725337865,
                  "avg_current": -2,
                  "avg_temperature": 23.4933,
                  "avg_voltage": 4.103,
                  "datetime": "2020-01-01 00:26:50",
                  "min_cycle": "161",
                  "unit": "rw3"
                },
                {
                  "avg_capacity": 2.008578587050852,
                  "avg_current": -2,
                  "avg_temperature": 23.52444,
                  "avg_voltage": 4.104,
                  "datetime": "2020-01-01 00:27:00",
                  "min_cycle": "162",
                  "unit": "rw3"
                },
                {
                  "avg_capacity": 2.0095444148894726,
                  "avg_current": -2,
                  "avg_temperature": 23.52444,
                  "avg_voltage": 4.105,
                  "datetime": "2020-01-01 00:27:10",
                  "min_cycle": "163",
                  "unit": "rw3"
                },
                {
                  "avg_capacity": 2.0109146053424345,
                  "avg_current": -2,
                  "avg_temperature": 23.54002,
                  "avg_voltage": 4.106,
                  "datetime": "2020-01-01 00:27:20",
                  "min_cycle": "164",
                  "unit": "rw3"
                },
                {
                  "avg_capacity": 2.008799989955072,
                  "avg_current": -2,
                  "avg_temperature": 23.52444,
                  "avg_voltage": 4.107,
                  "datetime": "2020-01-01 00:27:30",
                  "min_cycle": "165",
                  "unit": "rw3"
                },
                {
                  "avg_capacity": 2.009927216248718,
                  "avg_current": -2,
                  "avg_temperature": 23.55559,
                  "avg_voltage": 4.108,
                  "datetime": "2020-01-01 00:27:40",
                  "min_cycle": "166",
                  "unit": "rw3"
                },
                {
                  "avg_capacity": 2.009705751669787,
                  "avg_current": -2,
                  "avg_temperature": 23.57116,
                  "avg_voltage": 4.109,
                  "datetime": "2020-01-01 00:27:50",
                  "min_cycle": "167",
                  "unit": "rw3"
                },
                {
                  "avg_capacity": 2.0100128669593484,
                  "avg_current": -2,
                  "avg_temperature": 23.58674,
                  "avg_voltage": 4.11,
                  "datetime": "2020-01-01 00:28:00",
                  "min_cycle": "168",
                  "unit": "rw3"
                },
                {
                  "avg_capacity": 2.009993372267192,
                  "avg_current": -1.999,
                  "avg_temperature": 23.58674,
                  "avg_voltage": 4.111,
                  "datetime": "2020-01-01 00:28:10",
                  "min_cycle": "169",
                  "unit": "rw3"
                },
                {
                  "avg_capacity": 2.0094286723347317,
                  "avg_current": -2.001,
                  "avg_temperature": 23.61788,
                  "avg_voltage": 4.112,
                  "datetime": "2020-01-01 00:28:20",
                  "min_cycle": "170",
                  "unit": "rw3"
                },
                {
                  "avg_capacity": 2.010015409649476,
                  "avg_current": -2,
                  "avg_temperature": 23.61788,
                  "avg_voltage": 4.113,
                  "datetime": "2020-01-01 00:28:30",
                  "min_cycle": "171",
                  "unit": "rw3"
                },
                {
                  "avg_capacity": 2.0088076990488135,
                  "avg_current": -2,
                  "avg_temperature": 23.63346,
                  "avg_voltage": 4.114,
                  "datetime": "2020-01-01 00:28:40",
                  "min_cycle": "172",
                  "unit": "rw3"
                },
                {
                  "avg_capacity": 2.0073624671919466,
                  "avg_current": -2,
                  "avg_temperature": 23.6646,
                  "avg_voltage": 4.115,
                  "datetime": "2020-01-01 00:28:50",
                  "min_cycle": "173",
                  "unit": "rw3"
                },
                {
                  "avg_capacity": 2.0096798360352666,
                  "avg_current": -1.999,
                  "avg_temperature": 23.69575,
                  "avg_voltage": 4.116,
                  "datetime": "2020-01-01 00:29:00",
                  "min_cycle": "174",
                  "unit": "rw3"
                },
                {
                  "avg_capacity": 2.0093866208829487,
                  "avg_current": -2,
                  "avg_temperature": 23.69575,
                  "avg_voltage": 4.117,
                  "datetime": "2020-01-01 00:29:10",
                  "min_cycle": "175",
                  "unit": "rw3"
                },
                {
                  "avg_capacity": 2.0080107069930233,
                  "avg_current": -2,
                  "avg_temperature": 23.7269,
                  "avg_voltage": 4.118,
                  "datetime": "2020-01-01 00:29:20",
                  "min_cycle": "176",
                  "unit": "rw3"
                },
                {
                  "avg_capacity": 2.0093889205428677,
                  "avg_current": -2,
                  "avg_temperature": 23.74247,
                  "avg_voltage": 4.119,
                  "datetime": "2020-01-01 00:29:30",
                  "min_cycle": "177",
                  "unit": "rw3"
                },
                {
                  "avg_capacity": 2.0074322182662026,
                  "avg_current": -2,
                  "avg_temperature": 23.75804,
                  "avg_voltage": 4.12,
                  "datetime": "2020-01-01 00:29:40",
                  "min_cycle": "178",
                  "unit": "rw3"
                },
                {
                  "avg_capacity": 2.009242317927237,
                  "avg_current": -2,
                  "avg_temperature": 23.80476,
                  "avg_voltage": 4.121,
                  "datetime": "2020-01-01 00:29:50",
                  "min_cycle": "179",
                  "unit": "rw3"
                },
                {
                  "avg_capacity": 2.010431917181745,
                  "avg_current": -2,
                  "avg_temperature": 23.82034,
                  "avg_voltage": 4.122,
                  "datetime": "2020-01-01 00:30:00",
                  "min_cycle": "180",
                  "unit": "rw3"
                },
                {
                  "avg_capacity": 2.0072935458327468,
                  "avg_current": -2,
                  "avg_temperature": 23.83591,
                  "avg_voltage": 4.123,
                  "datetime": "2020-01-01 00:30:10",
                  "min_cycle": "181",
                  "unit": "rw3"
                },
                {
                  "avg_capacity": 2.008681466151064,
                  "avg_current": -1.999,
                  "avg_temperature": 23.86706,
                  "avg_voltage": 4.124,
                  "datetime": "2020-01-01 00:30:20",
                  "min_cycle": "182",
                  "unit": "rw3"
                },
                {
                  "avg_capacity": 2.0066904866576496,
                  "avg_current": -2.001,
                  "avg_temperature": 23.88263,
                  "avg_voltage": 4.126,
                  "datetime": "2020-01-01 00:30:30",
                  "min_cycle": "183",
                  "unit": "rw3"
                },
                {
                  "avg_capacity": 2.008334524493596,
                  "avg_current": -2,
                  "avg_temperature": 23.8982,
                  "avg_voltage": 4.127,
                  "datetime": "2020-01-01 00:30:40",
                  "min_cycle": "184",
                  "unit": "rw3"
                },
                {
                  "avg_capacity": 2.0094095186179275,
                  "avg_current": -2,
                  "avg_temperature": 23.91377,
                  "avg_voltage": 4.128,
                  "datetime": "2020-01-01 00:30:50",
                  "min_cycle": "185",
                  "unit": "rw3"
                },
                {
                  "avg_capacity": 2.0068442272616194,
                  "avg_current": -2,
                  "avg_temperature": 23.92935,
                  "avg_voltage": 4.129,
                  "datetime": "2020-01-01 00:31:00",
                  "min_cycle": "186",
                  "unit": "rw3"
                },
                {
                  "avg_capacity": 2.0074185534275615,
                  "avg_current": -2,
                  "avg_temperature": 23.96049,
                  "avg_voltage": 4.13,
                  "datetime": "2020-01-01 00:31:10",
                  "min_cycle": "187",
                  "unit": "rw3"
                },
                {
                  "avg_capacity": 2.008758712467414,
                  "avg_current": -2.001,
                  "avg_temperature": 23.96049,
                  "avg_voltage": 4.131,
                  "datetime": "2020-01-01 00:31:20",
                  "min_cycle": "188",
                  "unit": "rw3"
                },
                {
                  "avg_capacity": 2.0079804575410103,
                  "avg_current": -1.999,
                  "avg_temperature": 23.99164,
                  "avg_voltage": 4.132,
                  "datetime": "2020-01-01 00:31:30",
                  "min_cycle": "189",
                  "unit": "rw3"
                },
                {
                  "avg_capacity": 2.0098032292923795,
                  "avg_current": -2,
                  "avg_temperature": 24.02279,
                  "avg_voltage": 4.133,
                  "datetime": "2020-01-01 00:31:40",
                  "min_cycle": "190",
                  "unit": "rw3"
                },
                {
                  "avg_capacity": 2.0079935336610517,
                  "avg_current": -2,
                  "avg_temperature": 24.03836,
                  "avg_voltage": 4.134,
                  "datetime": "2020-01-01 00:31:50",
                  "min_cycle": "191",
                  "unit": "rw3"
                },
                {
                  "avg_capacity": 2.010810444775665,
                  "avg_current": -2,
                  "avg_temperature": 24.06951,
                  "avg_voltage": 4.136,
                  "datetime": "2020-01-01 00:32:00",
                  "min_cycle": "192",
                  "unit": "rw3"
                },
                {
                  "avg_capacity": 2.006304329094707,
                  "avg_current": -1.999,
                  "avg_temperature": 24.10065,
                  "avg_voltage": 4.137,
                  "datetime": "2020-01-01 00:32:10",
                  "min_cycle": "193",
                  "unit": "rw3"
                },
                {
                  "avg_capacity": 2.008735325808277,
                  "avg_current": -2,
                  "avg_temperature": 24.11623,
                  "avg_voltage": 4.138,
                  "datetime": "2020-01-01 00:32:20",
                  "min_cycle": "194",
                  "unit": "rw3"
                },
                {
                  "avg_capacity": 2.0102836449989434,
                  "avg_current": -2.001,
                  "avg_temperature": 24.1318,
                  "avg_voltage": 4.139,
                  "datetime": "2020-01-01 00:32:30",
                  "min_cycle": "195",
                  "unit": "rw3"
                },
                {
                  "avg_capacity": 2.0098165097509533,
                  "avg_current": -2,
                  "avg_temperature": 24.1318,
                  "avg_voltage": 4.14,
                  "datetime": "2020-01-01 00:32:40",
                  "min_cycle": "196",
                  "unit": "rw3"
                },
                {
                  "avg_capacity": 2.009411956943488,
                  "avg_current": -2,
                  "avg_temperature": 24.14737,
                  "avg_voltage": 4.141,
                  "datetime": "2020-01-01 00:32:50",
                  "min_cycle": "197",
                  "unit": "rw3"
                },
                {
                  "avg_capacity": 2.0061017081329915,
                  "avg_current": -1.999,
                  "avg_temperature": 24.17852,
                  "avg_voltage": 4.143,
                  "datetime": "2020-01-01 00:33:00",
                  "min_cycle": "198",
                  "unit": "rw3"
                },
                {
                  "avg_capacity": 2.009715947899768,
                  "avg_current": -2,
                  "avg_temperature": 24.19409,
                  "avg_voltage": 4.144,
                  "datetime": "2020-01-01 00:33:10",
                  "min_cycle": "199",
                  "unit": "rw3"
                },
                {
                  "avg_capacity": 2.0075541264070376,
                  "avg_current": -2,
                  "avg_temperature": 24.19409,
                  "avg_voltage": 4.145,
                  "datetime": "2020-01-01 00:33:20",
                  "min_cycle": "200",
                  "unit": "rw3"
                },
                {
                  "avg_capacity": 2.0070473948406398,
                  "avg_current": -2,
                  "avg_temperature": 24.22524,
                  "avg_voltage": 4.146,
                  "datetime": "2020-01-01 00:33:30",
                  "min_cycle": "201",
                  "unit": "rw3"
                },
                {
                  "avg_capacity": 2.0081890101728788,
                  "avg_current": -2.001,
                  "avg_temperature": 24.20967,
                  "avg_voltage": 4.148,
                  "datetime": "2020-01-01 00:33:40",
                  "min_cycle": "202",
                  "unit": "rw3"
                },
                {
                  "avg_capacity": 2.0083628439647376,
                  "avg_current": -2,
                  "avg_temperature": 24.22524,
                  "avg_voltage": 4.149,
                  "datetime": "2020-01-01 00:33:50",
                  "min_cycle": "203",
                  "unit": "rw3"
                },
                {
                  "avg_capacity": 2.0089716810224756,
                  "avg_current": -2.001,
                  "avg_temperature": 24.22524,
                  "avg_voltage": 4.15,
                  "datetime": "2020-01-01 00:34:00",
                  "min_cycle": "204",
                  "unit": "rw3"
                },
                {
                  "avg_capacity": 2.0105192013463844,
                  "avg_current": -2.001,
                  "avg_temperature": 24.25639,
                  "avg_voltage": 4.151,
                  "datetime": "2020-01-01 00:34:10",
                  "min_cycle": "205",
                  "unit": "rw3"
                },
                {
                  "avg_capacity": 2.00804509541931,
                  "avg_current": -2,
                  "avg_temperature": 24.25639,
                  "avg_voltage": 4.153,
                  "datetime": "2020-01-01 00:34:20",
                  "min_cycle": "206",
                  "unit": "rw3"
                },
                {
                  "avg_capacity": 2.0077899249898414,
                  "avg_current": -2,
                  "avg_temperature": 24.25639,
                  "avg_voltage": 4.154,
                  "datetime": "2020-01-01 00:34:30",
                  "min_cycle": "207",
                  "unit": "rw3"
                },
                {
                  "avg_capacity": 2.007410635179473,
                  "avg_current": -2,
                  "avg_temperature": 24.27196,
                  "avg_voltage": 4.155,
                  "datetime": "2020-01-01 00:34:40",
                  "min_cycle": "208",
                  "unit": "rw3"
                },
                {
                  "avg_capacity": 2.0079241941084587,
                  "avg_current": -2,
                  "avg_temperature": 24.30311,
                  "avg_voltage": 4.157,
                  "datetime": "2020-01-01 00:34:50",
                  "min_cycle": "209",
                  "unit": "rw3"
                },
                {
                  "avg_capacity": 2.0109362181743746,
                  "avg_current": -2,
                  "avg_temperature": 24.30311,
                  "avg_voltage": 4.158,
                  "datetime": "2020-01-01 00:35:00",
                  "min_cycle": "210",
                  "unit": "rw3"
                },
                {
                  "avg_capacity": 2.0094045678292454,
                  "avg_current": -1.999,
                  "avg_temperature": 24.33425,
                  "avg_voltage": 4.159,
                  "datetime": "2020-01-01 00:35:10",
                  "min_cycle": "211",
                  "unit": "rw3"
                },
                {
                  "avg_capacity": 2.009892849759895,
                  "avg_current": -2,
                  "avg_temperature": 24.33425,
                  "avg_voltage": 4.161,
                  "datetime": "2020-01-01 00:35:20",
                  "min_cycle": "212",
                  "unit": "rw3"
                },
                {
                  "avg_capacity": 2.0090194701421322,
                  "avg_current": -2,
                  "avg_temperature": 24.34983,
                  "avg_voltage": 4.162,
                  "datetime": "2020-01-01 00:35:30",
                  "min_cycle": "213",
                  "unit": "rw3"
                },
                {
                  "avg_capacity": 2.0102172720686964,
                  "avg_current": -2,
                  "avg_temperature": 24.3654,
                  "avg_voltage": 4.163,
                  "datetime": "2020-01-01 00:35:40",
                  "min_cycle": "214",
                  "unit": "rw3"
                },
                {
                  "avg_capacity": 2.0116543098862216,
                  "avg_current": -2,
                  "avg_temperature": 24.38097,
                  "avg_voltage": 4.165,
                  "datetime": "2020-01-01 00:35:50",
                  "min_cycle": "215",
                  "unit": "rw3"
                },
                {
                  "avg_capacity": 2.010494479850355,
                  "avg_current": -2,
                  "avg_temperature": 24.39655,
                  "avg_voltage": 4.166,
                  "datetime": "2020-01-01 00:36:00",
                  "min_cycle": "216",
                  "unit": "rw3"
                },
                {
                  "avg_capacity": 2.0088843591637673,
                  "avg_current": -1.999,
                  "avg_temperature": 24.41212,
                  "avg_voltage": 4.168,
                  "datetime": "2020-01-01 00:36:10",
                  "min_cycle": "217",
                  "unit": "rw3"
                },
                {
                  "avg_capacity": 2.0090358439765157,
                  "avg_current": -2,
                  "avg_temperature": 24.42769,
                  "avg_voltage": 4.169,
                  "datetime": "2020-01-01 00:36:20",
                  "min_cycle": "218",
                  "unit": "rw3"
                },
                {
                  "avg_capacity": 2.0089755533711844,
                  "avg_current": -2,
                  "avg_temperature": 24.44327,
                  "avg_voltage": 4.17,
                  "datetime": "2020-01-01 00:36:30",
                  "min_cycle": "219",
                  "unit": "rw3"
                },
                {
                  "avg_capacity": 2.008618888661092,
                  "avg_current": -2,
                  "avg_temperature": 24.45884,
                  "avg_voltage": 4.172,
                  "datetime": "2020-01-01 00:36:40",
                  "min_cycle": "220",
                  "unit": "rw3"
                },
                {
                  "avg_capacity": 2.007332472344736,
                  "avg_current": -2,
                  "avg_temperature": 24.47441,
                  "avg_voltage": 4.173,
                  "datetime": "2020-01-01 00:36:50",
                  "min_cycle": "221",
                  "unit": "rw3"
                },
                {
                  "avg_capacity": 2.0072709879830617,
                  "avg_current": -2,
                  "avg_temperature": 24.50556,
                  "avg_voltage": 4.175,
                  "datetime": "2020-01-01 00:37:00",
                  "min_cycle": "222",
                  "unit": "rw3"
                },
                {
                  "avg_capacity": 2.008518777480406,
                  "avg_current": -2,
                  "avg_temperature": 24.48999,
                  "avg_voltage": 4.176,
                  "datetime": "2020-01-01 00:37:10",
                  "min_cycle": "223",
                  "unit": "rw3"
                },
                {
                  "avg_capacity": 2.0090562783029418,
                  "avg_current": -2,
                  "avg_temperature": 24.52113,
                  "avg_voltage": 4.178,
                  "datetime": "2020-01-01 00:37:20",
                  "min_cycle": "224",
                  "unit": "rw3"
                },
                {
                  "avg_capacity": 2.0097685294541563,
                  "avg_current": -2,
                  "avg_temperature": 24.53671,
                  "avg_voltage": 4.179,
                  "datetime": "2020-01-01 00:37:30",
                  "min_cycle": "225",
                  "unit": "rw3"
                },
                {
                  "avg_capacity": 2.0085141732886824,
                  "avg_current": -2,
                  "avg_temperature": 24.55228,
                  "avg_voltage": 4.181,
                  "datetime": "2020-01-01 00:37:40",
                  "min_cycle": "226",
                  "unit": "rw3"
                },
                {
                  "avg_capacity": 2.0092608735651662,
                  "avg_current": -2,
                  "avg_temperature": 24.56785,
                  "avg_voltage": 4.182,
                  "datetime": "2020-01-01 00:37:50",
                  "min_cycle": "227",
                  "unit": "rw3"
                },
                {
                  "avg_capacity": 2.008528796321562,
                  "avg_current": -1.999,
                  "avg_temperature": 24.56785,
                  "avg_voltage": 4.184,
                  "datetime": "2020-01-01 00:38:00",
                  "min_cycle": "228",
                  "unit": "rw3"
                },
                {
                  "avg_capacity": 2.0094699546882033,
                  "avg_current": -2,
                  "avg_temperature": 24.599,
                  "avg_voltage": 4.185,
                  "datetime": "2020-01-01 00:38:10",
                  "min_cycle": "229",
                  "unit": "rw3"
                },
                {
                  "avg_capacity": 2.0090287737762265,
                  "avg_current": -1.999,
                  "avg_temperature": 24.61457,
                  "avg_voltage": 4.187,
                  "datetime": "2020-01-01 00:38:20",
                  "min_cycle": "230",
                  "unit": "rw3"
                },
                {
                  "avg_capacity": 2.0100487540296403,
                  "avg_current": -2,
                  "avg_temperature": 24.63014,
                  "avg_voltage": 4.188,
                  "datetime": "2020-01-01 00:38:30",
                  "min_cycle": "231",
                  "unit": "rw3"
                },
                {
                  "avg_capacity": 2.0094882649396015,
                  "avg_current": -1.999,
                  "avg_temperature": 24.64572,
                  "avg_voltage": 4.19,
                  "datetime": "2020-01-01 00:38:40",
                  "min_cycle": "232",
                  "unit": "rw3"
                },
                {
                  "avg_capacity": 2.009964235859591,
                  "avg_current": -1.999,
                  "avg_temperature": 24.67686,
                  "avg_voltage": 4.192,
                  "datetime": "2020-01-01 00:38:50",
                  "min_cycle": "233",
                  "unit": "rw3"
                },
                {
                  "avg_capacity": 2.009431508845627,
                  "avg_current": -2,
                  "avg_temperature": 24.67686,
                  "avg_voltage": 4.193,
                  "datetime": "2020-01-01 00:39:00",
                  "min_cycle": "234",
                  "unit": "rw3"
                },
                {
                  "avg_capacity": 2.0102658353721847,
                  "avg_current": -2,
                  "avg_temperature": 24.69244,
                  "avg_voltage": 4.195,
                  "datetime": "2020-01-01 00:39:10",
                  "min_cycle": "235",
                  "unit": "rw3"
                },
                {
                  "avg_capacity": 2.0076722263348477,
                  "avg_current": -2,
                  "avg_temperature": 24.70801,
                  "avg_voltage": 4.196,
                  "datetime": "2020-01-01 00:39:20",
                  "min_cycle": "236",
                  "unit": "rw3"
                },
                {
                  "avg_capacity": 2.0090471634462794,
                  "avg_current": -2,
                  "avg_temperature": 24.73916,
                  "avg_voltage": 4.198,
                  "datetime": "2020-01-01 00:39:30",
                  "min_cycle": "237",
                  "unit": "rw3"
                },
                {
                  "avg_capacity": 2.008031268615584,
                  "avg_current": -2,
                  "avg_temperature": 24.73916,
                  "avg_voltage": 4.2,
                  "datetime": "2020-01-01 00:39:40",
                  "min_cycle": "238",
                  "unit": "rw3"
                },
                {
                  "avg_capacity": 2.0093554002802825,
                  "avg_current": -1.986,
                  "avg_temperature": 24.7703,
                  "avg_voltage": 4.2,
                  "datetime": "2020-01-01 00:39:50",
                  "min_cycle": "239",
                  "unit": "rw3"
                },
                {
                  "avg_capacity": 2.0075535697763542,
                  "avg_current": -1.968,
                  "avg_temperature": 24.78588,
                  "avg_voltage": 4.2,
                  "datetime": "2020-01-01 00:40:00",
                  "min_cycle": "240",
                  "unit": "rw3"
                },
                {
                  "avg_capacity": 2.0077831046303136,
                  "avg_current": -1.952,
                  "avg_temperature": 24.80145,
                  "avg_voltage": 4.2,
                  "datetime": "2020-01-01 00:40:10",
                  "min_cycle": "241",
                  "unit": "rw3"
                },
                {
                  "avg_capacity": 2.00764186053876,
                  "avg_current": -1.938,
                  "avg_temperature": 24.8326,
                  "avg_voltage": 4.2,
                  "datetime": "2020-01-01 00:40:20",
                  "min_cycle": "242",
                  "unit": "rw3"
                },
                {
                  "avg_capacity": 2.009056872251494,
                  "avg_current": -1.925,
                  "avg_temperature": 24.86374,
                  "avg_voltage": 4.2,
                  "datetime": "2020-01-01 00:40:30",
                  "min_cycle": "243",
                  "unit": "rw3"
                },
                {
                  "avg_capacity": 2.0080196419219254,
                  "avg_current": -1.913,
                  "avg_temperature": 24.87932,
                  "avg_voltage": 4.2,
                  "datetime": "2020-01-01 00:40:40",
                  "min_cycle": "244",
                  "unit": "rw3"
                },
                {
                  "avg_capacity": 2.0088854449827585,
                  "avg_current": -1.899,
                  "avg_temperature": 24.87932,
                  "avg_voltage": 4.2,
                  "datetime": "2020-01-01 00:40:50",
                  "min_cycle": "245",
                  "unit": "rw3"
                },
                {
                  "avg_capacity": 2.007648574166243,
                  "avg_current": -1.885,
                  "avg_temperature": 24.91046,
                  "avg_voltage": 4.2,
                  "datetime": "2020-01-01 00:41:00",
                  "min_cycle": "246",
                  "unit": "rw3"
                },
                {
                  "avg_capacity": 2.0079539605589236,
                  "avg_current": -1.874,
                  "avg_temperature": 24.91046,
                  "avg_voltage": 4.2,
                  "datetime": "2020-01-01 00:41:10",
                  "min_cycle": "247",
                  "unit": "rw3"
                },
                {
                  "avg_capacity": 2.008153060089694,
                  "avg_current": -1.861,
                  "avg_temperature": 24.91046,
                  "avg_voltage": 4.2,
                  "datetime": "2020-01-01 00:41:20",
                  "min_cycle": "248",
                  "unit": "rw3"
                },
                {
                  "avg_capacity": 2.008137250879964,
                  "avg_current": -1.848,
                  "avg_temperature": 24.94161,
                  "avg_voltage": 4.2,
                  "datetime": "2020-01-01 00:41:30",
                  "min_cycle": "249",
                  "unit": "rw3"
                },
                {
                  "avg_capacity": 2.007585859716964,
                  "avg_current": -1.838,
                  "avg_temperature": 24.94161,
                  "avg_voltage": 4.2,
                  "datetime": "2020-01-01 00:41:40",
                  "min_cycle": "250",
                  "unit": "rw3"
                },
                {
                  "avg_capacity": 2.0097512430794495,
                  "avg_current": -1.826,
                  "avg_temperature": 24.94161,
                  "avg_voltage": 4.2,
                  "datetime": "2020-01-01 00:41:50",
                  "min_cycle": "251",
                  "unit": "rw3"
                },
                {
                  "avg_capacity": 2.008988177889702,
                  "avg_current": -1.812,
                  "avg_temperature": 24.94161,
                  "avg_voltage": 4.2,
                  "datetime": "2020-01-01 00:42:00",
                  "min_cycle": "252",
                  "unit": "rw3"
                },
                {
                  "avg_capacity": 2.0085183792348515,
                  "avg_current": -1.8,
                  "avg_temperature": 24.92603,
                  "avg_voltage": 4.2,
                  "datetime": "2020-01-01 00:42:10",
                  "min_cycle": "253",
                  "unit": "rw3"
                },
                {
                  "avg_capacity": 2.009537631293179,
                  "avg_current": -1.789,
                  "avg_temperature": 24.94161,
                  "avg_voltage": 4.2,
                  "datetime": "2020-01-01 00:42:20",
                  "min_cycle": "254",
                  "unit": "rw3"
                },
                {
                  "avg_capacity": 2.0094995952465164,
                  "avg_current": -1.776,
                  "avg_temperature": 24.94161,
                  "avg_voltage": 4.2,
                  "datetime": "2020-01-01 00:42:30",
                  "min_cycle": "255",
                  "unit": "rw3"
                },
                {
                  "avg_capacity": 2.007961198814675,
                  "avg_current": -1.764,
                  "avg_temperature": 24.95718,
                  "avg_voltage": 4.2,
                  "datetime": "2020-01-01 00:42:40",
                  "min_cycle": "256",
                  "unit": "rw3"
                },
                {
                  "avg_capacity": 2.0082623171478757,
                  "avg_current": -1.752,
                  "avg_temperature": 24.94161,
                  "avg_voltage": 4.2,
                  "datetime": "2020-01-01 00:42:50",
                  "min_cycle": "257",
                  "unit": "rw3"
                },
                {
                  "avg_capacity": 2.0084816496681293,
                  "avg_current": -1.74,
                  "avg_temperature": 24.94161,
                  "avg_voltage": 4.2,
                  "datetime": "2020-01-01 00:43:00",
                  "min_cycle": "258",
                  "unit": "rw3"
                },
                {
                  "avg_capacity": 2.0093330078562084,
                  "avg_current": -1.728,
                  "avg_temperature": 24.94161,
                  "avg_voltage": 4.2,
                  "datetime": "2020-01-01 00:43:10",
                  "min_cycle": "259",
                  "unit": "rw3"
                },
                {
                  "avg_capacity": 2.0080375625755558,
                  "avg_current": -1.716,
                  "avg_temperature": 24.92603,
                  "avg_voltage": 4.2,
                  "datetime": "2020-01-01 00:43:20",
                  "min_cycle": "260",
                  "unit": "rw3"
                },
                {
                  "avg_capacity": 2.0098214691126453,
                  "avg_current": -1.704,
                  "avg_temperature": 24.92603,
                  "avg_voltage": 4.2,
                  "datetime": "2020-01-01 00:43:30",
                  "min_cycle": "261",
                  "unit": "rw3"
                },
                {
                  "avg_capacity": 2.0084206337762907,
                  "avg_current": -1.692,
                  "avg_temperature": 24.94161,
                  "avg_voltage": 4.2,
                  "datetime": "2020-01-01 00:43:40",
                  "min_cycle": "262",
                  "unit": "rw3"
                },
                {
                  "avg_capacity": 2.008014185285036,
                  "avg_current": -1.679,
                  "avg_temperature": 24.92603,
                  "avg_voltage": 4.2,
                  "datetime": "2020-01-01 00:43:50",
                  "min_cycle": "263",
                  "unit": "rw3"
                },
                {
                  "avg_capacity": 2.00870741944517,
                  "avg_current": -1.67,
                  "avg_temperature": 24.92603,
                  "avg_voltage": 4.2,
                  "datetime": "2020-01-01 00:44:00",
                  "min_cycle": "264",
                  "unit": "rw3"
                },
                {
                  "avg_capacity": 2.009171512732835,
                  "avg_current": -1.657,
                  "avg_temperature": 24.92603,
                  "avg_voltage": 4.2,
                  "datetime": "2020-01-01 00:44:10",
                  "min_cycle": "265",
                  "unit": "rw3"
                },
                {
                  "avg_capacity": 2.008577710160848,
                  "avg_current": -1.645,
                  "avg_temperature": 24.92603,
                  "avg_voltage": 4.2,
                  "datetime": "2020-01-01 00:44:20",
                  "min_cycle": "266",
                  "unit": "rw3"
                },
                {
                  "avg_capacity": 2.0103045877332693,
                  "avg_current": -1.633,
                  "avg_temperature": 24.92603,
                  "avg_voltage": 4.2,
                  "datetime": "2020-01-01 00:44:30",
                  "min_cycle": "267",
                  "unit": "rw3"
                },
                {
                  "avg_capacity": 2.0090095791929654,
                  "avg_current": -1.621,
                  "avg_temperature": 24.92603,
                  "avg_voltage": 4.2,
                  "datetime": "2020-01-01 00:44:40",
                  "min_cycle": "268",
                  "unit": "rw3"
                },
                {
                  "avg_capacity": 2.0101585254162107,
                  "avg_current": -1.61,
                  "avg_temperature": 24.91046,
                  "avg_voltage": 4.2,
                  "datetime": "2020-01-01 00:44:50",
                  "min_cycle": "269",
                  "unit": "rw3"
                },
                {
                  "avg_capacity": 2.0084746204926343,
                  "avg_current": -1.599,
                  "avg_temperature": 24.91046,
                  "avg_voltage": 4.2,
                  "datetime": "2020-01-01 00:45:00",
                  "min_cycle": "270",
                  "unit": "rw3"
                },
                {
                  "avg_capacity": 2.009006576349592,
                  "avg_current": -1.586,
                  "avg_temperature": 24.92603,
                  "avg_voltage": 4.2,
                  "datetime": "2020-01-01 00:45:10",
                  "min_cycle": "271",
                  "unit": "rw3"
                },
                {
                  "avg_capacity": 2.009379399340347,
                  "avg_current": -1.575,
                  "avg_temperature": 24.92603,
                  "avg_voltage": 4.2,
                  "datetime": "2020-01-01 00:45:20",
                  "min_cycle": "272",
                  "unit": "rw3"
                },
                {
                  "avg_capacity": 2.009008192292307,
                  "avg_current": -1.563,
                  "avg_temperature": 24.92603,
                  "avg_voltage": 4.2,
                  "datetime": "2020-01-01 00:45:30",
                  "min_cycle": "273",
                  "unit": "rw3"
                },
                {
                  "avg_capacity": 2.0088990132497986,
                  "avg_current": -1.553,
                  "avg_temperature": 24.91046,
                  "avg_voltage": 4.2,
                  "datetime": "2020-01-01 00:45:40",
                  "min_cycle": "274",
                  "unit": "rw3"
                },
                {
                  "avg_capacity": 2.0091946801250966,
                  "avg_current": -1.541,
                  "avg_temperature": 24.89489,
                  "avg_voltage": 4.2,
                  "datetime": "2020-01-01 00:45:50",
                  "min_cycle": "275",
                  "unit": "rw3"
                },
                {
                  "avg_capacity": 2.009252234208436,
                  "avg_current": -1.529,
                  "avg_temperature": 24.89489,
                  "avg_voltage": 4.2,
                  "datetime": "2020-01-01 00:46:00",
                  "min_cycle": "276",
                  "unit": "rw3"
                },
                {
                  "avg_capacity": 2.0099142849955647,
                  "avg_current": -1.517,
                  "avg_temperature": 24.86374,
                  "avg_voltage": 4.2,
                  "datetime": "2020-01-01 00:46:10",
                  "min_cycle": "277",
                  "unit": "rw3"
                },
                {
                  "avg_capacity": 2.00956373001893,
                  "avg_current": -1.508,
                  "avg_temperature": 24.86374,
                  "avg_voltage": 4.2,
                  "datetime": "2020-01-01 00:46:20",
                  "min_cycle": "278",
                  "unit": "rw3"
                },
                {
                  "avg_capacity": 2.007203757996349,
                  "avg_current": -1.496,
                  "avg_temperature": 24.86374,
                  "avg_voltage": 4.2,
                  "datetime": "2020-01-01 00:46:30",
                  "min_cycle": "279",
                  "unit": "rw3"
                },
                {
                  "avg_capacity": 2.00902242810909,
                  "avg_current": -1.484,
                  "avg_temperature": 24.86374,
                  "avg_voltage": 4.2,
                  "datetime": "2020-01-01 00:46:40",
                  "min_cycle": "280",
                  "unit": "rw3"
                },
                {
                  "avg_capacity": 2.0107661813080724,
                  "avg_current": -1.474,
                  "avg_temperature": 24.86374,
                  "avg_voltage": 4.2,
                  "datetime": "2020-01-01 00:46:50",
                  "min_cycle": "281",
                  "unit": "rw3"
                },
                {
                  "avg_capacity": 2.01028083184652,
                  "avg_current": -1.462,
                  "avg_temperature": 24.84817,
                  "avg_voltage": 4.2,
                  "datetime": "2020-01-01 00:47:00",
                  "min_cycle": "282",
                  "unit": "rw3"
                },
                {
                  "avg_capacity": 2.0098390847879264,
                  "avg_current": -1.452,
                  "avg_temperature": 24.8326,
                  "avg_voltage": 4.2,
                  "datetime": "2020-01-01 00:47:10",
                  "min_cycle": "283",
                  "unit": "rw3"
                },
                {
                  "avg_capacity": 2.009471059475995,
                  "avg_current": -1.442,
                  "avg_temperature": 24.81702,
                  "avg_voltage": 4.2,
                  "datetime": "2020-01-01 00:47:20",
                  "min_cycle": "284",
                  "unit": "rw3"
                },
                {
                  "avg_capacity": 2.009262019062202,
                  "avg_current": -1.429,
                  "avg_temperature": 24.80145,
                  "avg_voltage": 4.2,
                  "datetime": "2020-01-01 00:47:30",
                  "min_cycle": "285",
                  "unit": "rw3"
                },
                {
                  "avg_capacity": 2.007469845660478,
                  "avg_current": -1.418,
                  "avg_temperature": 24.78588,
                  "avg_voltage": 4.2,
                  "datetime": "2020-01-01 00:47:40",
                  "min_cycle": "286",
                  "unit": "rw3"
                },
                {
                  "avg_capacity": 2.0086858839534623,
                  "avg_current": -1.408,
                  "avg_temperature": 24.7703,
                  "avg_voltage": 4.2,
                  "datetime": "2020-01-01 00:47:50",
                  "min_cycle": "287",
                  "unit": "rw3"
                },
                {
                  "avg_capacity": 2.0101616826083015,
                  "avg_current": -1.397,
                  "avg_temperature": 24.7703,
                  "avg_voltage": 4.2,
                  "datetime": "2020-01-01 00:48:00",
                  "min_cycle": "288",
                  "unit": "rw3"
                },
                {
                  "avg_capacity": 2.008307810785618,
                  "avg_current": -1.387,
                  "avg_temperature": 24.73916,
                  "avg_voltage": 4.2,
                  "datetime": "2020-01-01 00:48:10",
                  "min_cycle": "289",
                  "unit": "rw3"
                },
                {
                  "avg_capacity": 2.0085002049311047,
                  "avg_current": -1.376,
                  "avg_temperature": 24.70801,
                  "avg_voltage": 4.2,
                  "datetime": "2020-01-01 00:48:20",
                  "min_cycle": "290",
                  "unit": "rw3"
                },
                {
                  "avg_capacity": 2.009937832321802,
                  "avg_current": -1.367,
                  "avg_temperature": 24.69244,
                  "avg_voltage": 4.2,
                  "datetime": "2020-01-01 00:48:30",
                  "min_cycle": "291",
                  "unit": "rw3"
                },
                {
                  "avg_capacity": 2.008194543817308,
                  "avg_current": -1.356,
                  "avg_temperature": 24.69244,
                  "avg_voltage": 4.2,
                  "datetime": "2020-01-01 00:48:40",
                  "min_cycle": "292",
                  "unit": "rw3"
                },
                {
                  "avg_capacity": 2.00955359200883,
                  "avg_current": -1.346,
                  "avg_temperature": 24.67686,
                  "avg_voltage": 4.2,
                  "datetime": "2020-01-01 00:48:50",
                  "min_cycle": "293",
                  "unit": "rw3"
                },
                {
                  "avg_capacity": 2.0100321200435074,
                  "avg_current": -1.335,
                  "avg_temperature": 24.66129,
                  "avg_voltage": 4.2,
                  "datetime": "2020-01-01 00:49:00",
                  "min_cycle": "294",
                  "unit": "rw3"
                },
                {
                  "avg_capacity": 2.0094861889300857,
                  "avg_current": -1.324,
                  "avg_temperature": 24.64572,
                  "avg_voltage": 4.2,
                  "datetime": "2020-01-01 00:49:10",
                  "min_cycle": "295",
                  "unit": "rw3"
                },
                {
                  "avg_capacity": 2.0095996859714487,
                  "avg_current": -1.315,
                  "avg_temperature": 24.64572,
                  "avg_voltage": 4.2,
                  "datetime": "2020-01-01 00:49:20",
                  "min_cycle": "296",
                  "unit": "rw3"
                },
                {
                  "avg_capacity": 2.0094201703812318,
                  "avg_current": -1.304,
                  "avg_temperature": 24.61457,
                  "avg_voltage": 4.2,
                  "datetime": "2020-01-01 00:49:30",
                  "min_cycle": "297",
                  "unit": "rw3"
                },
                {
                  "avg_capacity": 2.007460743676942,
                  "avg_current": -1.292,
                  "avg_temperature": 24.599,
                  "avg_voltage": 4.2,
                  "datetime": "2020-01-01 00:49:40",
                  "min_cycle": "298",
                  "unit": "rw3"
                },
                {
                  "avg_capacity": 2.0085529328248777,
                  "avg_current": -1.283,
                  "avg_temperature": 24.58343,
                  "avg_voltage": 4.2,
                  "datetime": "2020-01-01 00:49:50",
                  "min_cycle": "299",
                  "unit": "rw3"
                },
                {
                  "avg_capacity": 2.0089962953899154,
                  "avg_current": -1.273,
                  "avg_temperature": 24.56785,
                  "avg_voltage": 4.2,
                  "datetime": "2020-01-01 00:50:00",
                  "min_cycle": "300",
                  "unit": "rw3"
                },
                {
                  "avg_capacity": 2.01002937845205,
                  "avg_current": -1.263,
                  "avg_temperature": 24.55228,
                  "avg_voltage": 4.2,
                  "datetime": "2020-01-01 00:50:10",
                  "min_cycle": "301",
                  "unit": "rw3"
                },
                {
                  "avg_capacity": 2.009604837619086,
                  "avg_current": -1.254,
                  "avg_temperature": 24.55228,
                  "avg_voltage": 4.2,
                  "datetime": "2020-01-01 00:50:20",
                  "min_cycle": "302",
                  "unit": "rw3"
                },
                {
                  "avg_capacity": 2.0087483942141455,
                  "avg_current": -1.244,
                  "avg_temperature": 24.55228,
                  "avg_voltage": 4.2,
                  "datetime": "2020-01-01 00:50:30",
                  "min_cycle": "303",
                  "unit": "rw3"
                },
                {
                  "avg_capacity": 2.007296740929039,
                  "avg_current": -1.234,
                  "avg_temperature": 24.53671,
                  "avg_voltage": 4.2,
                  "datetime": "2020-01-01 00:50:40",
                  "min_cycle": "304",
                  "unit": "rw3"
                },
                {
                  "avg_capacity": 2.0098428246255584,
                  "avg_current": -1.223,
                  "avg_temperature": 24.52113,
                  "avg_voltage": 4.2,
                  "datetime": "2020-01-01 00:50:50",
                  "min_cycle": "305",
                  "unit": "rw3"
                },
                {
                  "avg_capacity": 2.0085699103501287,
                  "avg_current": -1.215,
                  "avg_temperature": 24.50556,
                  "avg_voltage": 4.2,
                  "datetime": "2020-01-01 00:51:00",
                  "min_cycle": "306",
                  "unit": "rw3"
                },
                {
                  "avg_capacity": 2.010132051899016,
                  "avg_current": -1.205,
                  "avg_temperature": 24.48999,
                  "avg_voltage": 4.2,
                  "datetime": "2020-01-01 00:51:10",
                  "min_cycle": "307",
                  "unit": "rw3"
                },
                {
                  "avg_capacity": 2.0083418850974613,
                  "avg_current": -1.195,
                  "avg_temperature": 24.45884,
                  "avg_voltage": 4.2,
                  "datetime": "2020-01-01 00:51:20",
                  "min_cycle": "308",
                  "unit": "rw3"
                },
                {
                  "avg_capacity": 2.00777838492014,
                  "avg_current": -1.186,
                  "avg_temperature": 24.42769,
                  "avg_voltage": 4.2,
                  "datetime": "2020-01-01 00:51:30",
                  "min_cycle": "309",
                  "unit": "rw3"
                },
                {
                  "avg_capacity": 2.0087394338317393,
                  "avg_current": -1.176,
                  "avg_temperature": 24.42769,
                  "avg_voltage": 4.2,
                  "datetime": "2020-01-01 00:51:40",
                  "min_cycle": "310",
                  "unit": "rw3"
                },
                {
                  "avg_capacity": 2.0088431171941434,
                  "avg_current": -1.168,
                  "avg_temperature": 24.41212,
                  "avg_voltage": 4.2,
                  "datetime": "2020-01-01 00:51:50",
                  "min_cycle": "311",
                  "unit": "rw3"
                },
                {
                  "avg_capacity": 2.008698633123073,
                  "avg_current": -1.158,
                  "avg_temperature": 24.38097,
                  "avg_voltage": 4.2,
                  "datetime": "2020-01-01 00:52:00",
                  "min_cycle": "312",
                  "unit": "rw3"
                },
                {
                  "avg_capacity": 2.0097841889583603,
                  "avg_current": -1.148,
                  "avg_temperature": 24.34983,
                  "avg_voltage": 4.2,
                  "datetime": "2020-01-01 00:52:10",
                  "min_cycle": "313",
                  "unit": "rw3"
                },
                {
                  "avg_capacity": 2.0085924187181385,
                  "avg_current": -1.14,
                  "avg_temperature": 24.33425,
                  "avg_voltage": 4.2,
                  "datetime": "2020-01-01 00:52:20",
                  "min_cycle": "314",
                  "unit": "rw3"
                },
                {
                  "avg_capacity": 2.00860572357344,
                  "avg_current": -1.131,
                  "avg_temperature": 24.30311,
                  "avg_voltage": 4.2,
                  "datetime": "2020-01-01 00:52:30",
                  "min_cycle": "315",
                  "unit": "rw3"
                },
                {
                  "avg_capacity": 2.009672749311279,
                  "avg_current": -1.122,
                  "avg_temperature": 24.30311,
                  "avg_voltage": 4.2,
                  "datetime": "2020-01-01 00:52:40",
                  "min_cycle": "316",
                  "unit": "rw3"
                },
                {
                  "avg_capacity": 2.0085968296084125,
                  "avg_current": -1.113,
                  "avg_temperature": 24.30311,
                  "avg_voltage": 4.2,
                  "datetime": "2020-01-01 00:52:50",
                  "min_cycle": "317",
                  "unit": "rw3"
                },
                {
                  "avg_capacity": 2.0099410973384053,
                  "avg_current": -1.104,
                  "avg_temperature": 24.28753,
                  "avg_voltage": 4.2,
                  "datetime": "2020-01-01 00:53:00",
                  "min_cycle": "318",
                  "unit": "rw3"
                },
                {
                  "avg_capacity": 2.0098041936907944,
                  "avg_current": -1.096,
                  "avg_temperature": 24.27196,
                  "avg_voltage": 4.2,
                  "datetime": "2020-01-01 00:53:10",
                  "min_cycle": "319",
                  "unit": "rw3"
                },
                {
                  "avg_capacity": 2.0081011487570684,
                  "avg_current": -1.087,
                  "avg_temperature": 24.27196,
                  "avg_voltage": 4.2,
                  "datetime": "2020-01-01 00:53:20",
                  "min_cycle": "320",
                  "unit": "rw3"
                },
                {
                  "avg_capacity": 2.0102015828219137,
                  "avg_current": -1.079,
                  "avg_temperature": 24.24081,
                  "avg_voltage": 4.2,
                  "datetime": "2020-01-01 00:53:30",
                  "min_cycle": "321",
                  "unit": "rw3"
                },
                {
                  "avg_capacity": 2.009536464431007,
                  "avg_current": -1.069,
                  "avg_temperature": 24.22524,
                  "avg_voltage": 4.2,
                  "datetime": "2020-01-01 00:53:40",
                  "min_cycle": "322",
                  "unit": "rw3"
                },
                {
                  "avg_capacity": 2.0087918831909004,
                  "avg_current": -1.061,
                  "avg_temperature": 24.22524,
                  "avg_voltage": 4.2,
                  "datetime": "2020-01-01 00:53:50",
                  "min_cycle": "323",
                  "unit": "rw3"
                },
                {
                  "avg_capacity": 2.0082315901340837,
                  "avg_current": -1.053,
                  "avg_temperature": 24.19409,
                  "avg_voltage": 4.2,
                  "datetime": "2020-01-01 00:54:00",
                  "min_cycle": "324",
                  "unit": "rw3"
                },
                {
                  "avg_capacity": 2.010265745747708,
                  "avg_current": -1.044,
                  "avg_temperature": 24.17852,
                  "avg_voltage": 4.2,
                  "datetime": "2020-01-01 00:54:10",
                  "min_cycle": "325",
                  "unit": "rw3"
                },
                {
                  "avg_capacity": 2.008655283485148,
                  "avg_current": -1.035,
                  "avg_temperature": 24.1318,
                  "avg_voltage": 4.2,
                  "datetime": "2020-01-01 00:54:20",
                  "min_cycle": "326",
                  "unit": "rw3"
                },
                {
                  "avg_capacity": 2.0076232096463507,
                  "avg_current": -1.026,
                  "avg_temperature": 24.08508,
                  "avg_voltage": 4.2,
                  "datetime": "2020-01-01 00:54:30",
                  "min_cycle": "327",
                  "unit": "rw3"
                },
                {
                  "avg_capacity": 2.010828987651758,
                  "avg_current": -1.02,
                  "avg_temperature": 24.05393,
                  "avg_voltage": 4.2,
                  "datetime": "2020-01-01 00:54:40",
                  "min_cycle": "328",
                  "unit": "rw3"
                },
                {
                  "avg_capacity": 2.009761112544695,
                  "avg_current": -1.011,
                  "avg_temperature": 24.03836,
                  "avg_voltage": 4.2,
                  "datetime": "2020-01-01 00:54:50",
                  "min_cycle": "329",
                  "unit": "rw3"
                },
                {
                  "avg_capacity": 2.007674615539193,
                  "avg_current": -1.003,
                  "avg_temperature": 23.99164,
                  "avg_voltage": 4.2,
                  "datetime": "2020-01-01 00:55:00",
                  "min_cycle": "330",
                  "unit": "rw3"
                },
                {
                  "avg_capacity": 2.0078904330641345,
                  "avg_current": -0.995,
                  "avg_temperature": 23.96049,
                  "avg_voltage": 4.2,
                  "datetime": "2020-01-01 00:55:10",
                  "min_cycle": "331",
                  "unit": "rw3"
                },
                {
                  "avg_capacity": 2.0092539274895205,
                  "avg_current": -0.986,
                  "avg_temperature": 23.92935,
                  "avg_voltage": 4.2,
                  "datetime": "2020-01-01 00:55:20",
                  "min_cycle": "332",
                  "unit": "rw3"
                },
                {
                  "avg_capacity": 2.0081956185904657,
                  "avg_current": -0.98,
                  "avg_temperature": 23.8982,
                  "avg_voltage": 4.2,
                  "datetime": "2020-01-01 00:55:30",
                  "min_cycle": "333",
                  "unit": "rw3"
                },
                {
                  "avg_capacity": 2.009321020568299,
                  "avg_current": -0.971,
                  "avg_temperature": 23.88263,
                  "avg_voltage": 4.2,
                  "datetime": "2020-01-01 00:55:40",
                  "min_cycle": "334",
                  "unit": "rw3"
                },
                {
                  "avg_capacity": 2.008656998486205,
                  "avg_current": -0.965,
                  "avg_temperature": 23.85148,
                  "avg_voltage": 4.2,
                  "datetime": "2020-01-01 00:55:50",
                  "min_cycle": "335",
                  "unit": "rw3"
                },
                {
                  "avg_capacity": 2.0088271983314456,
                  "avg_current": -0.956,
                  "avg_temperature": 23.82034,
                  "avg_voltage": 4.2,
                  "datetime": "2020-01-01 00:56:00",
                  "min_cycle": "336",
                  "unit": "rw3"
                },
                {
                  "avg_capacity": 2.006581573738006,
                  "avg_current": -0.95,
                  "avg_temperature": 23.80476,
                  "avg_voltage": 4.2,
                  "datetime": "2020-01-01 00:56:10",
                  "min_cycle": "337",
                  "unit": "rw3"
                },
                {
                  "avg_capacity": 2.0070414693689447,
                  "avg_current": -0.942,
                  "avg_temperature": 23.77362,
                  "avg_voltage": 4.2,
                  "datetime": "2020-01-01 00:56:20",
                  "min_cycle": "338",
                  "unit": "rw3"
                },
                {
                  "avg_capacity": 2.007491687906972,
                  "avg_current": -0.934,
                  "avg_temperature": 23.74247,
                  "avg_voltage": 4.2,
                  "datetime": "2020-01-01 00:56:30",
                  "min_cycle": "339",
                  "unit": "rw3"
                },
                {
                  "avg_capacity": 2.0095120244782696,
                  "avg_current": -0.926,
                  "avg_temperature": 23.7269,
                  "avg_voltage": 4.2,
                  "datetime": "2020-01-01 00:56:40",
                  "min_cycle": "340",
                  "unit": "rw3"
                },
                {
                  "avg_capacity": 2.0087825160401933,
                  "avg_current": -0.919,
                  "avg_temperature": 23.71132,
                  "avg_voltage": 4.2,
                  "datetime": "2020-01-01 00:56:50",
                  "min_cycle": "341",
                  "unit": "rw3"
                },
                {
                  "avg_capacity": 2.0075186568272994,
                  "avg_current": -0.911,
                  "avg_temperature": 23.69575,
                  "avg_voltage": 4.2,
                  "datetime": "2020-01-01 00:57:00",
                  "min_cycle": "342",
                  "unit": "rw3"
                },
                {
                  "avg_capacity": 2.008127780338014,
                  "avg_current": -0.904,
                  "avg_temperature": 23.68018,
                  "avg_voltage": 4.2,
                  "datetime": "2020-01-01 00:57:10",
                  "min_cycle": "343",
                  "unit": "rw3"
                },
                {
                  "avg_capacity": 2.0084254113642737,
                  "avg_current": -0.897,
                  "avg_temperature": 23.6646,
                  "avg_voltage": 4.2,
                  "datetime": "2020-01-01 00:57:20",
                  "min_cycle": "344",
                  "unit": "rw3"
                },
                {
                  "avg_capacity": 2.0070864432017115,
                  "avg_current": -0.891,
                  "avg_temperature": 23.64903,
                  "avg_voltage": 4.2,
                  "datetime": "2020-01-01 00:57:30",
                  "min_cycle": "345",
                  "unit": "rw3"
                },
                {
                  "avg_capacity": 2.006248824740936,
                  "avg_current": -0.883,
                  "avg_temperature": 23.64903,
                  "avg_voltage": 4.2,
                  "datetime": "2020-01-01 00:57:40",
                  "min_cycle": "346",
                  "unit": "rw3"
                },
                {
                  "avg_capacity": 2.00841943269535,
                  "avg_current": -0.876,
                  "avg_temperature": 23.63346,
                  "avg_voltage": 4.2,
                  "datetime": "2020-01-01 00:57:50",
                  "min_cycle": "347",
                  "unit": "rw3"
                },
                {
                  "avg_capacity": 2.008695320505418,
                  "avg_current": -0.869,
                  "avg_temperature": 23.60231,
                  "avg_voltage": 4.2,
                  "datetime": "2020-01-01 00:58:00",
                  "min_cycle": "348",
                  "unit": "rw3"
                },
                {
                  "avg_capacity": 2.0087731151589274,
                  "avg_current": -0.861,
                  "avg_temperature": 23.58674,
                  "avg_voltage": 4.2,
                  "datetime": "2020-01-01 00:58:10",
                  "min_cycle": "349",
                  "unit": "rw3"
                },
                {
                  "avg_capacity": 2.0085934667169845,
                  "avg_current": -0.855,
                  "avg_temperature": 23.57116,
                  "avg_voltage": 4.2,
                  "datetime": "2020-01-01 00:58:20",
                  "min_cycle": "350",
                  "unit": "rw3"
                },
                {
                  "avg_capacity": 2.0076247324956946,
                  "avg_current": -0.847,
                  "avg_temperature": 23.57116,
                  "avg_voltage": 4.2,
                  "datetime": "2020-01-01 00:58:30",
                  "min_cycle": "351",
                  "unit": "rw3"
                },
                {
                  "avg_capacity": 2.00985098761267,
                  "avg_current": -0.842,
                  "avg_temperature": 23.54002,
                  "avg_voltage": 4.2,
                  "datetime": "2020-01-01 00:58:40",
                  "min_cycle": "352",
                  "unit": "rw3"
                },
                {
                  "avg_capacity": 2.0104781868939217,
                  "avg_current": -0.834,
                  "avg_temperature": 23.50887,
                  "avg_voltage": 4.2,
                  "datetime": "2020-01-01 00:58:50",
                  "min_cycle": "353",
                  "unit": "rw3"
                },
                {
                  "avg_capacity": 2.008369061870666,
                  "avg_current": -0.827,
                  "avg_temperature": 23.4933,
                  "avg_voltage": 4.2,
                  "datetime": "2020-01-01 00:59:00",
                  "min_cycle": "354",
                  "unit": "rw3"
                },
                {
                  "avg_capacity": 2.008895860617518,
                  "avg_current": -0.821,
                  "avg_temperature": 23.47773,
                  "avg_voltage": 4.2,
                  "datetime": "2020-01-01 00:59:10",
                  "min_cycle": "355",
                  "unit": "rw3"
                },
                {
                  "avg_capacity": 2.008193660997641,
                  "avg_current": -0.816,
                  "avg_temperature": 23.46215,
                  "avg_voltage": 4.2,
                  "datetime": "2020-01-01 00:59:20",
                  "min_cycle": "356",
                  "unit": "rw3"
                },
                {
                  "avg_capacity": 2.0087279325940477,
                  "avg_current": -0.808,
                  "avg_temperature": 23.44658,
                  "avg_voltage": 4.2,
                  "datetime": "2020-01-01 00:59:30",
                  "min_cycle": "357",
                  "unit": "rw3"
                },
                {
                  "avg_capacity": 2.0081281277096186,
                  "avg_current": -0.801,
                  "avg_temperature": 23.41543,
                  "avg_voltage": 4.2,
                  "datetime": "2020-01-01 00:59:40",
                  "min_cycle": "358",
                  "unit": "rw3"
                },
                {
                  "avg_capacity": 2.007953585022134,
                  "avg_current": -0.795,
                  "avg_temperature": 23.39986,
                  "avg_voltage": 4.2,
                  "datetime": "2020-01-01 00:59:50",
                  "min_cycle": "359",
                  "unit": "rw3"
                },
                {
                  "avg_capacity": 2.0086128578187497,
                  "avg_current": -0.79,
                  "avg_temperature": 23.38428,
                  "avg_voltage": 4.2,
                  "datetime": "2020-01-01 01:00:00",
                  "min_cycle": "360",
                  "unit": "rw3"
                },
                {
                  "avg_capacity": 2.0096054477193492,
                  "avg_current": -0.782,
                  "avg_temperature": 23.36871,
                  "avg_voltage": 4.2,
                  "datetime": "2020-01-01 01:00:10",
                  "min_cycle": "361",
                  "unit": "rw3"
                },
                {
                  "avg_capacity": 2.007791267212006,
                  "avg_current": -0.777,
                  "avg_temperature": 23.33757,
                  "avg_voltage": 4.2,
                  "datetime": "2020-01-01 01:00:20",
                  "min_cycle": "362",
                  "unit": "rw3"
                },
                {
                  "avg_capacity": 2.0081072233416073,
                  "avg_current": -0.769,
                  "avg_temperature": 23.32199,
                  "avg_voltage": 4.2,
                  "datetime": "2020-01-01 01:00:30",
                  "min_cycle": "363",
                  "unit": "rw3"
                },
                {
                  "avg_capacity": 2.007037956409932,
                  "avg_current": -0.765,
                  "avg_temperature": 23.30642,
                  "avg_voltage": 4.2,
                  "datetime": "2020-01-01 01:00:40",
                  "min_cycle": "364",
                  "unit": "rw3"
                },
                {
                  "avg_capacity": 2.0085343511655935,
                  "avg_current": -0.759,
                  "avg_temperature": 23.29085,
                  "avg_voltage": 4.2,
                  "datetime": "2020-01-01 01:00:50",
                  "min_cycle": "365",
                  "unit": "rw3"
                },
                {
                  "avg_capacity": 2.0080611144457747,
                  "avg_current": -0.754,
                  "avg_temperature": 23.29085,
                  "avg_voltage": 4.2,
                  "datetime": "2020-01-01 01:01:00",
                  "min_cycle": "366",
                  "unit": "rw3"
                },
                {
                  "avg_capacity": 2.0099004190852594,
                  "avg_current": -0.747,
                  "avg_temperature": 23.27527,
                  "avg_voltage": 4.2,
                  "datetime": "2020-01-01 01:01:10",
                  "min_cycle": "367",
                  "unit": "rw3"
                },
                {
                  "avg_capacity": 2.0074494937741494,
                  "avg_current": -0.74,
                  "avg_temperature": 23.24413,
                  "avg_voltage": 4.2,
                  "datetime": "2020-01-01 01:01:20",
                  "min_cycle": "368",
                  "unit": "rw3"
                },
                {
                  "avg_capacity": 2.007115996730634,
                  "avg_current": -0.734,
                  "avg_temperature": 23.22855,
                  "avg_voltage": 4.2,
                  "datetime": "2020-01-01 01:01:30",
                  "min_cycle": "369",
                  "unit": "rw3"
                },
                {
                  "avg_capacity": 2.0087427929549486,
                  "avg_current": -0.731,
                  "avg_temperature": 23.19741,
                  "avg_voltage": 4.2,
                  "datetime": "2020-01-01 01:01:40",
                  "min_cycle": "370",
                  "unit": "rw3"
                },
                {
                  "avg_capacity": 2.0089038516343467,
                  "avg_current": -0.723,
                  "avg_temperature": 23.18183,
                  "avg_voltage": 4.2,
                  "datetime": "2020-01-01 01:01:50",
                  "min_cycle": "371",
                  "unit": "rw3"
                },
                {
                  "avg_capacity": 2.0112006264483906,
                  "avg_current": -0.717,
                  "avg_temperature": 23.15069,
                  "avg_voltage": 4.2,
                  "datetime": "2020-01-01 01:02:00",
                  "min_cycle": "372",
                  "unit": "rw3"
                },
                {
                  "avg_capacity": 2.0097719513661474,
                  "avg_current": -0.712,
                  "avg_temperature": 23.15069,
                  "avg_voltage": 4.2,
                  "datetime": "2020-01-01 01:02:10",
                  "min_cycle": "373",
                  "unit": "rw3"
                },
                {
                  "avg_capacity": 2.008407388539433,
                  "avg_current": -0.709,
                  "avg_temperature": 23.11954,
                  "avg_voltage": 4.2,
                  "datetime": "2020-01-01 01:02:20",
                  "min_cycle": "374",
                  "unit": "rw3"
                },
                {
                  "avg_capacity": 2.0112817906285385,
                  "avg_current": -0.702,
                  "avg_temperature": 23.08839,
                  "avg_voltage": 4.2,
                  "datetime": "2020-01-01 01:02:30",
                  "min_cycle": "375",
                  "unit": "rw3"
                },
                {
                  "avg_capacity": 2.008165586579005,
                  "avg_current": -0.697,
                  "avg_temperature": 23.07282,
                  "avg_voltage": 4.2,
                  "datetime": "2020-01-01 01:02:40",
                  "min_cycle": "376",
                  "unit": "rw3"
                },
                {
                  "avg_capacity": 2.0111175015808462,
                  "avg_current": -0.69,
                  "avg_temperature": 23.05725,
                  "avg_voltage": 4.2,
                  "datetime": "2020-01-01 01:02:50",
                  "min_cycle": "377",
                  "unit": "rw3"
                },
                {
                  "avg_capacity": 2.0089879368842576,
                  "avg_current": -0.685,
                  "avg_temperature": 23.04167,
                  "avg_voltage": 4.2,
                  "datetime": "2020-01-01 01:03:00",
                  "min_cycle": "378",
                  "unit": "rw3"
                },
                {
                  "avg_capacity": 2.009578706334719,
                  "avg_current": -0.679,
                  "avg_temperature": 23.04167,
                  "avg_voltage": 4.2,
                  "datetime": "2020-01-01 01:03:10",
                  "min_cycle": "379",
                  "unit": "rw3"
                },
                {
                  "avg_capacity": 2.0102626993459554,
                  "avg_current": -0.673,
                  "avg_temperature": 23.01053,
                  "avg_voltage": 4.2,
                  "datetime": "2020-01-01 01:03:20",
                  "min_cycle": "380",
                  "unit": "rw3"
                },
                {
                  "avg_capacity": 2.0085413676666275,
                  "avg_current": -0.669,
                  "avg_temperature": 23.01053,
                  "avg_voltage": 4.2,
                  "datetime": "2020-01-01 01:03:30",
                  "min_cycle": "381",
                  "unit": "rw3"
                },
                {
                  "avg_capacity": 2.0110378096978914,
                  "avg_current": -0.663,
                  "avg_temperature": 22.97938,
                  "avg_voltage": 4.2,
                  "datetime": "2020-01-01 01:03:40",
                  "min_cycle": "382",
                  "unit": "rw3"
                },
                {
                  "avg_capacity": 2.009965452628932,
                  "avg_current": -0.657,
                  "avg_temperature": 22.94823,
                  "avg_voltage": 4.2,
                  "datetime": "2020-01-01 01:03:50",
                  "min_cycle": "383",
                  "unit": "rw3"
                },
                {
                  "avg_capacity": 2.0081787589287874,
                  "avg_current": -0.652,
                  "avg_temperature": 22.94823,
                  "avg_voltage": 4.2,
                  "datetime": "2020-01-01 01:04:00",
                  "min_cycle": "384",
                  "unit": "rw3"
                },
                {
                  "avg_capacity": 2.0089261592413528,
                  "avg_current": -0.648,
                  "avg_temperature": 22.91709,
                  "avg_voltage": 4.2,
                  "datetime": "2020-01-01 01:04:10",
                  "min_cycle": "385",
                  "unit": "rw3"
                },
                {
                  "avg_capacity": 2.0081965912299418,
                  "avg_current": -0.641,
                  "avg_temperature": 22.88594,
                  "avg_voltage": 4.2,
                  "datetime": "2020-01-01 01:04:20",
                  "min_cycle": "386",
                  "unit": "rw3"
                },
                {
                  "avg_capacity": 2.008982527491214,
                  "avg_current": -0.638,
                  "avg_temperature": 22.87037,
                  "avg_voltage": 4.2,
                  "datetime": "2020-01-01 01:04:30",
                  "min_cycle": "387",
                  "unit": "rw3"
                },
                {
                  "avg_capacity": 2.0087720571220773,
                  "avg_current": -0.631,
                  "avg_temperature": 22.83922,
                  "avg_voltage": 4.2,
                  "datetime": "2020-01-01 01:04:40",
                  "min_cycle": "388",
                  "unit": "rw3"
                },
                {
                  "avg_capacity": 2.0091544786149744,
                  "avg_current": -0.628,
                  "avg_temperature": 22.80807,
                  "avg_voltage": 4.2,
                  "datetime": "2020-01-01 01:04:50",
                  "min_cycle": "389",
                  "unit": "rw3"
                },
                {
                  "avg_capacity": 2.008889740363059,
                  "avg_current": -0.623,
                  "avg_temperature": 22.80807,
                  "avg_voltage": 4.2,
                  "datetime": "2020-01-01 01:05:00",
                  "min_cycle": "390",
                  "unit": "rw3"
                },
                {
                  "avg_capacity": 2.0079412550746523,
                  "avg_current": -0.619,
                  "avg_temperature": 22.7925,
                  "avg_voltage": 4.2,
                  "datetime": "2020-01-01 01:05:10",
                  "min_cycle": "391",
                  "unit": "rw3"
                },
                {
                  "avg_capacity": 2.0095102782489094,
                  "avg_current": -0.612,
                  "avg_temperature": 22.76135,
                  "avg_voltage": 4.2,
                  "datetime": "2020-01-01 01:05:20",
                  "min_cycle": "392",
                  "unit": "rw3"
                },
                {
                  "avg_capacity": 2.007233765907434,
                  "avg_current": -0.608,
                  "avg_temperature": 22.76135,
                  "avg_voltage": 4.2,
                  "datetime": "2020-01-01 01:05:30",
                  "min_cycle": "393",
                  "unit": "rw3"
                },
                {
                  "avg_capacity": 2.0084479383103946,
                  "avg_current": -0.605,
                  "avg_temperature": 22.73021,
                  "avg_voltage": 4.2,
                  "datetime": "2020-01-01 01:05:40",
                  "min_cycle": "394",
                  "unit": "rw3"
                },
                {
                  "avg_capacity": 2.007620741420206,
                  "avg_current": -0.6,
                  "avg_temperature": 22.71464,
                  "avg_voltage": 4.2,
                  "datetime": "2020-01-01 01:05:50",
                  "min_cycle": "395",
                  "unit": "rw3"
                },
                {
                  "avg_capacity": 2.009461353184901,
                  "avg_current": -0.594,
                  "avg_temperature": 22.68349,
                  "avg_voltage": 4.2,
                  "datetime": "2020-01-01 01:06:00",
                  "min_cycle": "396",
                  "unit": "rw3"
                },
                {
                  "avg_capacity": 2.008872470857013,
                  "avg_current": -0.59,
                  "avg_temperature": 22.66792,
                  "avg_voltage": 4.2,
                  "datetime": "2020-01-01 01:06:10",
                  "min_cycle": "397",
                  "unit": "rw3"
                },
                {
                  "avg_capacity": 2.0092583497393344,
                  "avg_current": -0.584,
                  "avg_temperature": 22.66792,
                  "avg_voltage": 4.2,
                  "datetime": "2020-01-01 01:06:20",
                  "min_cycle": "398",
                  "unit": "rw3"
                },
                {
                  "avg_capacity": 2.010742751074414,
                  "avg_current": -0.582,
                  "avg_temperature": 22.65234,
                  "avg_voltage": 4.2,
                  "datetime": "2020-01-01 01:06:30",
                  "min_cycle": "399",
                  "unit": "rw3"
                },
                {
                  "avg_capacity": 2.008605319066399,
                  "avg_current": -0.576,
                  "avg_temperature": 22.60562,
                  "avg_voltage": 4.2,
                  "datetime": "2020-01-01 01:06:40",
                  "min_cycle": "400",
                  "unit": "rw3"
                },
                {
                  "avg_capacity": 2.008195313281708,
                  "avg_current": -0.572,
                  "avg_temperature": 22.59005,
                  "avg_voltage": 4.2,
                  "datetime": "2020-01-01 01:06:50",
                  "min_cycle": "401",
                  "unit": "rw3"
                },
                {
                  "avg_capacity": 2.008421537213956,
                  "avg_current": -0.569,
                  "avg_temperature": 22.57448,
                  "avg_voltage": 4.2,
                  "datetime": "2020-01-01 01:07:00",
                  "min_cycle": "402",
                  "unit": "rw3"
                },
                {
                  "avg_capacity": 2.0088855602206994,
                  "avg_current": -0.563,
                  "avg_temperature": 22.5589,
                  "avg_voltage": 4.2,
                  "datetime": "2020-01-01 01:07:10",
                  "min_cycle": "403",
                  "unit": "rw3"
                },
                {
                  "avg_capacity": 2.0093935036450814,
                  "avg_current": -0.558,
                  "avg_temperature": 22.5589,
                  "avg_voltage": 4.2,
                  "datetime": "2020-01-01 01:07:20",
                  "min_cycle": "404",
                  "unit": "rw3"
                },
                {
                  "avg_capacity": 2.0108317213827203,
                  "avg_current": -0.555,
                  "avg_temperature": 22.52776,
                  "avg_voltage": 4.2,
                  "datetime": "2020-01-01 01:07:30",
                  "min_cycle": "405",
                  "unit": "rw3"
                },
                {
                  "avg_capacity": 2.0087255694600135,
                  "avg_current": -0.551,
                  "avg_temperature": 22.51218,
                  "avg_voltage": 4.2,
                  "datetime": "2020-01-01 01:07:40",
                  "min_cycle": "406",
                  "unit": "rw3"
                },
                {
                  "avg_capacity": 2.0055101210236956,
                  "avg_current": -0.545,
                  "avg_temperature": 22.49661,
                  "avg_voltage": 4.2,
                  "datetime": "2020-01-01 01:07:50",
                  "min_cycle": "407",
                  "unit": "rw3"
                },
                {
                  "avg_capacity": 2.0097855530221262,
                  "avg_current": -0.542,
                  "avg_temperature": 22.46546,
                  "avg_voltage": 4.2,
                  "datetime": "2020-01-01 01:08:00",
                  "min_cycle": "408",
                  "unit": "rw3"
                },
                {
                  "avg_capacity": 2.0061837979587733,
                  "avg_current": -0.537,
                  "avg_temperature": 22.44989,
                  "avg_voltage": 4.2,
                  "datetime": "2020-01-01 01:08:10",
                  "min_cycle": "409",
                  "unit": "rw3"
                },
                {
                  "avg_capacity": 2.0101589927955095,
                  "avg_current": -0.534,
                  "avg_temperature": 22.43432,
                  "avg_voltage": 4.2,
                  "datetime": "2020-01-01 01:08:20",
                  "min_cycle": "410",
                  "unit": "rw3"
                },
                {
                  "avg_capacity": 2.008552499260371,
                  "avg_current": -0.528,
                  "avg_temperature": 22.40317,
                  "avg_voltage": 4.2,
                  "datetime": "2020-01-01 01:08:30",
                  "min_cycle": "411",
                  "unit": "rw3"
                },
                {
                  "avg_capacity": 2.0090283823442343,
                  "avg_current": -0.525,
                  "avg_temperature": 22.40317,
                  "avg_voltage": 4.2,
                  "datetime": "2020-01-01 01:08:40",
                  "min_cycle": "412",
                  "unit": "rw3"
                },
                {
                  "avg_capacity": 2.0081101535956978,
                  "avg_current": -0.521,
                  "avg_temperature": 22.37202,
                  "avg_voltage": 4.2,
                  "datetime": "2020-01-01 01:08:50",
                  "min_cycle": "413",
                  "unit": "rw3"
                },
                {
                  "avg_capacity": 2.0109939960636725,
                  "avg_current": -0.518,
                  "avg_temperature": 22.35645,
                  "avg_voltage": 4.2,
                  "datetime": "2020-01-01 01:09:00",
                  "min_cycle": "414",
                  "unit": "rw3"
                },
                {
                  "avg_capacity": 2.010807085596666,
                  "avg_current": -0.511,
                  "avg_temperature": 22.34088,
                  "avg_voltage": 4.2,
                  "datetime": "2020-01-01 01:09:10",
                  "min_cycle": "415",
                  "unit": "rw3"
                },
                {
                  "avg_capacity": 2.0083144896187455,
                  "avg_current": -0.51,
                  "avg_temperature": 22.30973,
                  "avg_voltage": 4.2,
                  "datetime": "2020-01-01 01:09:20",
                  "min_cycle": "416",
                  "unit": "rw3"
                },
                {
                  "avg_capacity": 2.008743781940132,
                  "avg_current": -0.507,
                  "avg_temperature": 22.29416,
                  "avg_voltage": 4.2,
                  "datetime": "2020-01-01 01:09:30",
                  "min_cycle": "417",
                  "unit": "rw3"
                },
                {
                  "avg_capacity": 2.0092285518428885,
                  "avg_current": -0.503,
                  "avg_temperature": 22.29416,
                  "avg_voltage": 4.2,
                  "datetime": "2020-01-01 01:09:40",
                  "min_cycle": "418",
                  "unit": "rw3"
                },
                {
                  "avg_capacity": 2.0081901433336307,
                  "avg_current": -0.499,
                  "avg_temperature": 22.27859,
                  "avg_voltage": 4.2,
                  "datetime": "2020-01-01 01:09:50",
                  "min_cycle": "419",
                  "unit": "rw3"
                },
                {
                  "avg_capacity": 2.0101030401111997,
                  "avg_current": -0.496,
                  "avg_temperature": 22.26301,
                  "avg_voltage": 4.2,
                  "datetime": "2020-01-01 01:10:00",
                  "min_cycle": "420",
                  "unit": "rw3"
                },
                {
                  "avg_capacity": 2.009541407200826,
                  "avg_current": -0.492,
                  "avg_temperature": 22.26301,
                  "avg_voltage": 4.2,
                  "datetime": "2020-01-01 01:10:10",
                  "min_cycle": "421",
                  "unit": "rw3"
                },
                {
                  "avg_capacity": 2.0089372482637464,
                  "avg_current": -0.488,
                  "avg_temperature": 22.24744,
                  "avg_voltage": 4.2,
                  "datetime": "2020-01-01 01:10:20",
                  "min_cycle": "422",
                  "unit": "rw3"
                },
                {
                  "avg_capacity": 2.008098316042495,
                  "avg_current": -0.483,
                  "avg_temperature": 22.24744,
                  "avg_voltage": 4.2,
                  "datetime": "2020-01-01 01:10:30",
                  "min_cycle": "423",
                  "unit": "rw3"
                },
                {
                  "avg_capacity": 2.008178743175442,
                  "avg_current": -0.479,
                  "avg_temperature": 22.23187,
                  "avg_voltage": 4.2,
                  "datetime": "2020-01-01 01:10:40",
                  "min_cycle": "424",
                  "unit": "rw3"
                },
                {
                  "avg_capacity": 2.0088149730403115,
                  "avg_current": -0.478,
                  "avg_temperature": 22.21629,
                  "avg_voltage": 4.2,
                  "datetime": "2020-01-01 01:10:50",
                  "min_cycle": "425",
                  "unit": "rw3"
                },
                {
                  "avg_capacity": 2.01070590042787,
                  "avg_current": -0.473,
                  "avg_temperature": 22.21629,
                  "avg_voltage": 4.2,
                  "datetime": "2020-01-01 01:11:00",
                  "min_cycle": "426",
                  "unit": "rw3"
                },
                {
                  "avg_capacity": 2.0093505441282664,
                  "avg_current": -0.469,
                  "avg_temperature": 22.21629,
                  "avg_voltage": 4.2,
                  "datetime": "2020-01-01 01:11:10",
                  "min_cycle": "427",
                  "unit": "rw3"
                },
                {
                  "avg_capacity": 2.008871624814541,
                  "avg_current": -0.465,
                  "avg_temperature": 22.21629,
                  "avg_voltage": 4.2,
                  "datetime": "2020-01-01 01:11:20",
                  "min_cycle": "428",
                  "unit": "rw3"
                },
                {
                  "avg_capacity": 2.00989595187186,
                  "avg_current": -0.46,
                  "avg_temperature": 22.21629,
                  "avg_voltage": 4.2,
                  "datetime": "2020-01-01 01:11:30",
                  "min_cycle": "429",
                  "unit": "rw3"
                },
                {
                  "avg_capacity": 2.008925226742573,
                  "avg_current": -0.458,
                  "avg_temperature": 22.20072,
                  "avg_voltage": 4.2,
                  "datetime": "2020-01-01 01:11:40",
                  "min_cycle": "430",
                  "unit": "rw3"
                },
                {
                  "avg_capacity": 2.009464532232854,
                  "avg_current": -0.457,
                  "avg_temperature": 22.20072,
                  "avg_voltage": 4.2,
                  "datetime": "2020-01-01 01:11:50",
                  "min_cycle": "431",
                  "unit": "rw3"
                },
                {
                  "avg_capacity": 2.008577607061747,
                  "avg_current": -0.453,
                  "avg_temperature": 22.18515,
                  "avg_voltage": 4.2,
                  "datetime": "2020-01-01 01:12:00",
                  "min_cycle": "432",
                  "unit": "rw3"
                },
                {
                  "avg_capacity": 2.007249818443199,
                  "avg_current": -0.448,
                  "avg_temperature": 22.154,
                  "avg_voltage": 4.2,
                  "datetime": "2020-01-01 01:12:10",
                  "min_cycle": "433",
                  "unit": "rw3"
                },
                {
                  "avg_capacity": 2.009780429615081,
                  "avg_current": -0.446,
                  "avg_temperature": 22.13843,
                  "avg_voltage": 4.2,
                  "datetime": "2020-01-01 01:12:20",
                  "min_cycle": "434",
                  "unit": "rw3"
                },
                {
                  "avg_capacity": 2.0094567349577255,
                  "avg_current": -0.442,
                  "avg_temperature": 22.12285,
                  "avg_voltage": 4.2,
                  "datetime": "2020-01-01 01:12:30",
                  "min_cycle": "435",
                  "unit": "rw3"
                },
                {
                  "avg_capacity": 2.008934090272601,
                  "avg_current": -0.44,
                  "avg_temperature": 22.12285,
                  "avg_voltage": 4.2,
                  "datetime": "2020-01-01 01:12:40",
                  "min_cycle": "436",
                  "unit": "rw3"
                },
                {
                  "avg_capacity": 2.010748892596907,
                  "avg_current": -0.435,
                  "avg_temperature": 22.12285,
                  "avg_voltage": 4.2,
                  "datetime": "2020-01-01 01:12:50",
                  "min_cycle": "437",
                  "unit": "rw3"
                },
                {
                  "avg_capacity": 2.0070603507394513,
                  "avg_current": -0.433,
                  "avg_temperature": 22.09171,
                  "avg_voltage": 4.2,
                  "datetime": "2020-01-01 01:13:00",
                  "min_cycle": "438",
                  "unit": "rw3"
                },
                {
                  "avg_capacity": 2.009785480882952,
                  "avg_current": -0.428,
                  "avg_temperature": 22.07613,
                  "avg_voltage": 4.2,
                  "datetime": "2020-01-01 01:13:10",
                  "min_cycle": "439",
                  "unit": "rw3"
                },
                {
                  "avg_capacity": 2.008918991800926,
                  "avg_current": -0.427,
                  "avg_temperature": 22.06056,
                  "avg_voltage": 4.2,
                  "datetime": "2020-01-01 01:13:20",
                  "min_cycle": "440",
                  "unit": "rw3"
                },
                {
                  "avg_capacity": 2.0099387799218125,
                  "avg_current": -0.422,
                  "avg_temperature": 22.04499,
                  "avg_voltage": 4.2,
                  "datetime": "2020-01-01 01:13:30",
                  "min_cycle": "441",
                  "unit": "rw3"
                },
                {
                  "avg_capacity": 2.008594060821198,
                  "avg_current": -0.42,
                  "avg_temperature": 22.02941,
                  "avg_voltage": 4.2,
                  "datetime": "2020-01-01 01:13:40",
                  "min_cycle": "442",
                  "unit": "rw3"
                },
                {
                  "avg_capacity": 2.009760980379998,
                  "avg_current": -0.417,
                  "avg_temperature": 22.01384,
                  "avg_voltage": 4.2,
                  "datetime": "2020-01-01 01:13:50",
                  "min_cycle": "443",
                  "unit": "rw3"
                },
                {
                  "avg_capacity": 2.008546794273216,
                  "avg_current": -0.415,
                  "avg_temperature": 21.99827,
                  "avg_voltage": 4.2,
                  "datetime": "2020-01-01 01:14:00",
                  "min_cycle": "444",
                  "unit": "rw3"
                },
                {
                  "avg_capacity": 2.0088625871138954,
                  "avg_current": -0.411,
                  "avg_temperature": 21.98269,
                  "avg_voltage": 4.2,
                  "datetime": "2020-01-01 01:14:10",
                  "min_cycle": "445",
                  "unit": "rw3"
                },
                {
                  "avg_capacity": 2.0087009662249535,
                  "avg_current": -0.408,
                  "avg_temperature": 21.96712,
                  "avg_voltage": 4.2,
                  "datetime": "2020-01-01 01:14:20",
                  "min_cycle": "446",
                  "unit": "rw3"
                },
                {
                  "avg_capacity": 2.0095819274561775,
                  "avg_current": -0.405,
                  "avg_temperature": 21.96712,
                  "avg_voltage": 4.2,
                  "datetime": "2020-01-01 01:14:30",
                  "min_cycle": "447",
                  "unit": "rw3"
                },
                {
                  "avg_capacity": 2.008232347693316,
                  "avg_current": -0.402,
                  "avg_temperature": 21.95155,
                  "avg_voltage": 4.2,
                  "datetime": "2020-01-01 01:14:40",
                  "min_cycle": "448",
                  "unit": "rw3"
                },
                {
                  "avg_capacity": 2.0085692456841513,
                  "avg_current": -0.398,
                  "avg_temperature": 21.93597,
                  "avg_voltage": 4.2,
                  "datetime": "2020-01-01 01:14:50",
                  "min_cycle": "449",
                  "unit": "rw3"
                },
                {
                  "avg_capacity": 2.008319147478482,
                  "avg_current": -0.396,
                  "avg_temperature": 21.9204,
                  "avg_voltage": 4.2,
                  "datetime": "2020-01-01 01:15:00",
                  "min_cycle": "450",
                  "unit": "rw3"
                },
                {
                  "avg_capacity": 2.009992547884684,
                  "avg_current": -0.395,
                  "avg_temperature": 21.88925,
                  "avg_voltage": 4.2,
                  "datetime": "2020-01-01 01:15:10",
                  "min_cycle": "451",
                  "unit": "rw3"
                },
                {
                  "avg_capacity": 2.0084327962382855,
                  "avg_current": -0.39,
                  "avg_temperature": 21.87368,
                  "avg_voltage": 4.2,
                  "datetime": "2020-01-01 01:15:20",
                  "min_cycle": "452",
                  "unit": "rw3"
                },
                {
                  "avg_capacity": 2.0087073839396044,
                  "avg_current": -0.387,
                  "avg_temperature": 21.84254,
                  "avg_voltage": 4.2,
                  "datetime": "2020-01-01 01:15:30",
                  "min_cycle": "453",
                  "unit": "rw3"
                },
                {
                  "avg_capacity": 2.0097978017137614,
                  "avg_current": -0.385,
                  "avg_temperature": 21.82696,
                  "avg_voltage": 4.2,
                  "datetime": "2020-01-01 01:15:40",
                  "min_cycle": "454",
                  "unit": "rw3"
                },
                {
                  "avg_capacity": 2.008396897345257,
                  "avg_current": -0.381,
                  "avg_temperature": 21.79581,
                  "avg_voltage": 4.2,
                  "datetime": "2020-01-01 01:15:50",
                  "min_cycle": "455",
                  "unit": "rw3"
                },
                {
                  "avg_capacity": 2.009376701881802,
                  "avg_current": -0.379,
                  "avg_temperature": 21.78024,
                  "avg_voltage": 4.2,
                  "datetime": "2020-01-01 01:16:00",
                  "min_cycle": "456",
                  "unit": "rw3"
                },
                {
                  "avg_capacity": 2.0085842769008506,
                  "avg_current": -0.375,
                  "avg_temperature": 21.78024,
                  "avg_voltage": 4.2,
                  "datetime": "2020-01-01 01:16:10",
                  "min_cycle": "457",
                  "unit": "rw3"
                },
                {
                  "avg_capacity": 2.006828280024817,
                  "avg_current": -0.374,
                  "avg_temperature": 21.78024,
                  "avg_voltage": 4.2,
                  "datetime": "2020-01-01 01:16:20",
                  "min_cycle": "458",
                  "unit": "rw3"
                },
                {
                  "avg_capacity": 2.008060802912647,
                  "avg_current": -0.37,
                  "avg_temperature": 21.76467,
                  "avg_voltage": 4.2,
                  "datetime": "2020-01-01 01:16:30",
                  "min_cycle": "459",
                  "unit": "rw3"
                },
                {
                  "avg_capacity": 2.008530384899107,
                  "avg_current": -0.368,
                  "avg_temperature": 21.73352,
                  "avg_voltage": 4.2,
                  "datetime": "2020-01-01 01:16:40",
                  "min_cycle": "460",
                  "unit": "rw3"
                },
                {
                  "avg_capacity": 2.0071042067156646,
                  "avg_current": -0.367,
                  "avg_temperature": 21.71795,
                  "avg_voltage": 4.2,
                  "datetime": "2020-01-01 01:16:50",
                  "min_cycle": "461",
                  "unit": "rw3"
                },
                {
                  "avg_capacity": 2.00886393894614,
                  "avg_current": -0.364,
                  "avg_temperature": 21.71795,
                  "avg_voltage": 4.2,
                  "datetime": "2020-01-01 01:17:00",
                  "min_cycle": "462",
                  "unit": "rw3"
                },
                {
                  "avg_capacity": 2.0090420285449953,
                  "avg_current": -0.361,
                  "avg_temperature": 21.70238,
                  "avg_voltage": 4.2,
                  "datetime": "2020-01-01 01:17:10",
                  "min_cycle": "463",
                  "unit": "rw3"
                },
                {
                  "avg_capacity": 2.00767941400334,
                  "avg_current": -0.358,
                  "avg_temperature": 21.6868,
                  "avg_voltage": 4.2,
                  "datetime": "2020-01-01 01:17:20",
                  "min_cycle": "464",
                  "unit": "rw3"
                },
                {
                  "avg_capacity": 2.0084778362479567,
                  "avg_current": -0.356,
                  "avg_temperature": 21.67123,
                  "avg_voltage": 4.2,
                  "datetime": "2020-01-01 01:17:30",
                  "min_cycle": "465",
                  "unit": "rw3"
                },
                {
                  "avg_capacity": 2.0085655493566366,
                  "avg_current": -0.352,
                  "avg_temperature": 21.65565,
                  "avg_voltage": 4.2,
                  "datetime": "2020-01-01 01:17:40",
                  "min_cycle": "466",
                  "unit": "rw3"
                },
                {
                  "avg_capacity": 2.008843452705343,
                  "avg_current": -0.35,
                  "avg_temperature": 21.64008,
                  "avg_voltage": 4.2,
                  "datetime": "2020-01-01 01:17:50",
                  "min_cycle": "467",
                  "unit": "rw3"
                },
                {
                  "avg_capacity": 2.010241166117503,
                  "avg_current": -0.348,
                  "avg_temperature": 21.64008,
                  "avg_voltage": 4.2,
                  "datetime": "2020-01-01 01:18:00",
                  "min_cycle": "468",
                  "unit": "rw3"
                },
                {
                  "avg_capacity": 2.009026346148502,
                  "avg_current": -0.346,
                  "avg_temperature": 21.62451,
                  "avg_voltage": 4.2,
                  "datetime": "2020-01-01 01:18:10",
                  "min_cycle": "469",
                  "unit": "rw3"
                },
                {
                  "avg_capacity": 2.0102267104883946,
                  "avg_current": -0.343,
                  "avg_temperature": 21.62451,
                  "avg_voltage": 4.2,
                  "datetime": "2020-01-01 01:18:20",
                  "min_cycle": "470",
                  "unit": "rw3"
                },
                {
                  "avg_capacity": 2.008123646219824,
                  "avg_current": -0.342,
                  "avg_temperature": 21.60894,
                  "avg_voltage": 4.2,
                  "datetime": "2020-01-01 01:18:30",
                  "min_cycle": "471",
                  "unit": "rw3"
                },
                {
                  "avg_capacity": 2.0089957995254775,
                  "avg_current": -0.34,
                  "avg_temperature": 21.59336,
                  "avg_voltage": 4.2,
                  "datetime": "2020-01-01 01:18:40",
                  "min_cycle": "472",
                  "unit": "rw3"
                },
                {
                  "avg_capacity": 2.0086477743974562,
                  "avg_current": -0.337,
                  "avg_temperature": 21.57779,
                  "avg_voltage": 4.2,
                  "datetime": "2020-01-01 01:18:50",
                  "min_cycle": "473",
                  "unit": "rw3"
                },
                {
                  "avg_capacity": 2.0088327572431783,
                  "avg_current": -0.334,
                  "avg_temperature": 21.57779,
                  "avg_voltage": 4.2,
                  "datetime": "2020-01-01 01:19:00",
                  "min_cycle": "474",
                  "unit": "rw3"
                },
                {
                  "avg_capacity": 2.009345559821396,
                  "avg_current": -0.331,
                  "avg_temperature": 21.56222,
                  "avg_voltage": 4.2,
                  "datetime": "2020-01-01 01:19:10",
                  "min_cycle": "475",
                  "unit": "rw3"
                },
                {
                  "avg_capacity": 2.00813612607114,
                  "avg_current": -0.33,
                  "avg_temperature": 21.54664,
                  "avg_voltage": 4.2,
                  "datetime": "2020-01-01 01:19:20",
                  "min_cycle": "476",
                  "unit": "rw3"
                },
                {
                  "avg_capacity": 2.01028529626264,
                  "avg_current": -0.328,
                  "avg_temperature": 21.53107,
                  "avg_voltage": 4.2,
                  "datetime": "2020-01-01 01:19:30",
                  "min_cycle": "477",
                  "unit": "rw3"
                },
                {
                  "avg_capacity": 2.0092540609009024,
                  "avg_current": -0.326,
                  "avg_temperature": 21.53107,
                  "avg_voltage": 4.2,
                  "datetime": "2020-01-01 01:19:40",
                  "min_cycle": "478",
                  "unit": "rw3"
                },
                {
                  "avg_capacity": 2.01055893983439,
                  "avg_current": -0.323,
                  "avg_temperature": 21.5155,
                  "avg_voltage": 4.2,
                  "datetime": "2020-01-01 01:19:50",
                  "min_cycle": "479",
                  "unit": "rw3"
                },
                {
                  "avg_capacity": 2.008556353214444,
                  "avg_current": -0.32,
                  "avg_temperature": 21.5155,
                  "avg_voltage": 4.2,
                  "datetime": "2020-01-01 01:20:00",
                  "min_cycle": "480",
                  "unit": "rw3"
                },
                {
                  "avg_capacity": 2.0080101624226097,
                  "avg_current": -0.319,
                  "avg_temperature": 21.49992,
                  "avg_voltage": 4.2,
                  "datetime": "2020-01-01 01:20:10",
                  "min_cycle": "481",
                  "unit": "rw3"
                },
                {
                  "avg_capacity": 2.008106385191679,
                  "avg_current": -0.316,
                  "avg_temperature": 21.49992,
                  "avg_voltage": 4.2,
                  "datetime": "2020-01-01 01:20:20",
                  "min_cycle": "482",
                  "unit": "rw3"
                },
                {
                  "avg_capacity": 2.006896349272946,
                  "avg_current": -0.314,
                  "avg_temperature": 21.49992,
                  "avg_voltage": 4.2,
                  "datetime": "2020-01-01 01:20:30",
                  "min_cycle": "483",
                  "unit": "rw3"
                },
                {
                  "avg_capacity": 2.011264516206958,
                  "avg_current": -0.313,
                  "avg_temperature": 21.4532,
                  "avg_voltage": 4.2,
                  "datetime": "2020-01-01 01:20:40",
                  "min_cycle": "484",
                  "unit": "rw3"
                },
                {
                  "avg_capacity": 2.0081559104178197,
                  "avg_current": -0.311,
                  "avg_temperature": 21.4532,
                  "avg_voltage": 4.2,
                  "datetime": "2020-01-01 01:20:50",
                  "min_cycle": "485",
                  "unit": "rw3"
                },
                {
                  "avg_capacity": 2.0101810651716456,
                  "avg_current": -0.308,
                  "avg_temperature": 21.43763,
                  "avg_voltage": 4.2,
                  "datetime": "2020-01-01 01:21:00",
                  "min_cycle": "486",
                  "unit": "rw3"
                },
                {
                  "avg_capacity": 2.009123063384328,
                  "avg_current": -0.305,
                  "avg_temperature": 21.42206,
                  "avg_voltage": 4.2,
                  "datetime": "2020-01-01 01:21:10",
                  "min_cycle": "487",
                  "unit": "rw3"
                },
                {
                  "avg_capacity": 2.008413451546405,
                  "avg_current": -0.305,
                  "avg_temperature": 21.40648,
                  "avg_voltage": 4.2,
                  "datetime": "2020-01-01 01:21:20",
                  "min_cycle": "488",
                  "unit": "rw3"
                },
                {
                  "avg_capacity": 2.0096657685612715,
                  "avg_current": -0.301,
                  "avg_temperature": 21.40648,
                  "avg_voltage": 4.2,
                  "datetime": "2020-01-01 01:21:30",
                  "min_cycle": "489",
                  "unit": "rw3"
                },
                {
                  "avg_capacity": 2.00879682119008,
                  "avg_current": -0.299,
                  "avg_temperature": 21.39091,
                  "avg_voltage": 4.2,
                  "datetime": "2020-01-01 01:21:40",
                  "min_cycle": "490",
                  "unit": "rw3"
                },
                {
                  "avg_capacity": 2.0086256827581432,
                  "avg_current": -0.298,
                  "avg_temperature": 21.39091,
                  "avg_voltage": 4.2,
                  "datetime": "2020-01-01 01:21:50",
                  "min_cycle": "491",
                  "unit": "rw3"
                },
                {
                  "avg_capacity": 2.0086917360895993,
                  "avg_current": -0.295,
                  "avg_temperature": 21.35976,
                  "avg_voltage": 4.2,
                  "datetime": "2020-01-01 01:22:00",
                  "min_cycle": "492",
                  "unit": "rw3"
                },
                {
                  "avg_capacity": 2.00852955343194,
                  "avg_current": -0.294,
                  "avg_temperature": 21.37534,
                  "avg_voltage": 4.2,
                  "datetime": "2020-01-01 01:22:10",
                  "min_cycle": "493",
                  "unit": "rw3"
                },
                {
                  "avg_capacity": 2.0096473214432056,
                  "avg_current": -0.292,
                  "avg_temperature": 21.35976,
                  "avg_voltage": 4.2,
                  "datetime": "2020-01-01 01:22:20",
                  "min_cycle": "494",
                  "unit": "rw3"
                },
                {
                  "avg_capacity": 2.0091001812082028,
                  "avg_current": -0.289,
                  "avg_temperature": 21.34419,
                  "avg_voltage": 4.2,
                  "datetime": "2020-01-01 01:22:30",
                  "min_cycle": "495",
                  "unit": "rw3"
                },
                {
                  "avg_capacity": 2.0083128816557436,
                  "avg_current": -0.287,
                  "avg_temperature": 21.34419,
                  "avg_voltage": 4.2,
                  "datetime": "2020-01-01 01:22:40",
                  "min_cycle": "496",
                  "unit": "rw3"
                },
                {
                  "avg_capacity": 2.0088245862862615,
                  "avg_current": -0.285,
                  "avg_temperature": 21.32862,
                  "avg_voltage": 4.2,
                  "datetime": "2020-01-01 01:22:50",
                  "min_cycle": "497",
                  "unit": "rw3"
                },
                {
                  "avg_capacity": 2.008695522664199,
                  "avg_current": -0.285,
                  "avg_temperature": 21.32862,
                  "avg_voltage": 4.2,
                  "datetime": "2020-01-01 01:23:00",
                  "min_cycle": "498",
                  "unit": "rw3"
                },
                {
                  "avg_capacity": 2.00854350441434,
                  "avg_current": -0.281,
                  "avg_temperature": 21.31304,
                  "avg_voltage": 4.2,
                  "datetime": "2020-01-01 01:23:10",
                  "min_cycle": "499",
                  "unit": "rw3"
                },
                {
                  "avg_capacity": 2.0073879027123045,
                  "avg_current": -0.281,
                  "avg_temperature": 21.29747,
                  "avg_voltage": 4.2,
                  "datetime": "2020-01-01 01:23:20",
                  "min_cycle": "500",
                  "unit": "rw3"
                },
                {
                  "avg_capacity": 2.0085625054867977,
                  "avg_current": -0.278,
                  "avg_temperature": 21.2819,
                  "avg_voltage": 4.2,
                  "datetime": "2020-01-01 01:23:30",
                  "min_cycle": "501",
                  "unit": "rw3"
                },
                {
                  "avg_capacity": 2.0097820627102934,
                  "avg_current": -0.275,
                  "avg_temperature": 21.26632,
                  "avg_voltage": 4.2,
                  "datetime": "2020-01-01 01:23:40",
                  "min_cycle": "502",
                  "unit": "rw3"
                },
                {
                  "avg_capacity": 2.008759147800784,
                  "avg_current": -0.274,
                  "avg_temperature": 21.2819,
                  "avg_voltage": 4.2,
                  "datetime": "2020-01-01 01:23:50",
                  "min_cycle": "503",
                  "unit": "rw3"
                },
                {
                  "avg_capacity": 2.009535576026192,
                  "avg_current": -0.273,
                  "avg_temperature": 21.26632,
                  "avg_voltage": 4.2,
                  "datetime": "2020-01-01 01:24:00",
                  "min_cycle": "504",
                  "unit": "rw3"
                },
                {
                  "avg_capacity": 2.008209747432038,
                  "avg_current": -0.271,
                  "avg_temperature": 21.26632,
                  "avg_voltage": 4.2,
                  "datetime": "2020-01-01 01:24:10",
                  "min_cycle": "505",
                  "unit": "rw3"
                },
                {
                  "avg_capacity": 2.0091871986564547,
                  "avg_current": -0.269,
                  "avg_temperature": 21.25075,
                  "avg_voltage": 4.2,
                  "datetime": "2020-01-01 01:24:20",
                  "min_cycle": "506",
                  "unit": "rw3"
                },
                {
                  "avg_capacity": 2.0079716182674754,
                  "avg_current": -0.267,
                  "avg_temperature": 21.23518,
                  "avg_voltage": 4.2,
                  "datetime": "2020-01-01 01:24:30",
                  "min_cycle": "507",
                  "unit": "rw3"
                },
                {
                  "avg_capacity": 2.0088361317888213,
                  "avg_current": -0.267,
                  "avg_temperature": 21.23518,
                  "avg_voltage": 4.2,
                  "datetime": "2020-01-01 01:24:40",
                  "min_cycle": "508",
                  "unit": "rw3"
                },
                {
                  "avg_capacity": 2.0081618758389603,
                  "avg_current": -0.264,
                  "avg_temperature": 21.2196,
                  "avg_voltage": 4.2,
                  "datetime": "2020-01-01 01:24:50",
                  "min_cycle": "509",
                  "unit": "rw3"
                },
                {
                  "avg_capacity": 2.009735809674159,
                  "avg_current": -0.262,
                  "avg_temperature": 21.2196,
                  "avg_voltage": 4.2,
                  "datetime": "2020-01-01 01:25:00",
                  "min_cycle": "510",
                  "unit": "rw3"
                },
                {
                  "avg_capacity": 2.008039420376567,
                  "avg_current": -0.261,
                  "avg_temperature": 21.2196,
                  "avg_voltage": 4.2,
                  "datetime": "2020-01-01 01:25:10",
                  "min_cycle": "511",
                  "unit": "rw3"
                },
                {
                  "avg_capacity": 2.009228628178983,
                  "avg_current": -0.259,
                  "avg_temperature": 21.20403,
                  "avg_voltage": 4.2,
                  "datetime": "2020-01-01 01:25:20",
                  "min_cycle": "512",
                  "unit": "rw3"
                },
                {
                  "avg_capacity": 2.0100167766099077,
                  "avg_current": -0.257,
                  "avg_temperature": 21.18846,
                  "avg_voltage": 4.2,
                  "datetime": "2020-01-01 01:25:30",
                  "min_cycle": "513",
                  "unit": "rw3"
                },
                {
                  "avg_capacity": 2.010247818505554,
                  "avg_current": -0.255,
                  "avg_temperature": 21.18846,
                  "avg_voltage": 4.2,
                  "datetime": "2020-01-01 01:25:40",
                  "min_cycle": "514",
                  "unit": "rw3"
                },
                {
                  "avg_capacity": 2.0067164570994076,
                  "avg_current": -0.254,
                  "avg_temperature": 21.17289,
                  "avg_voltage": 4.2,
                  "datetime": "2020-01-01 01:25:50",
                  "min_cycle": "515",
                  "unit": "rw3"
                },
                {
                  "avg_capacity": 2.009608213535595,
                  "avg_current": -0.253,
                  "avg_temperature": 21.15731,
                  "avg_voltage": 4.2,
                  "datetime": "2020-01-01 01:26:00",
                  "min_cycle": "516",
                  "unit": "rw3"
                },
                {
                  "avg_capacity": 2.010535756055964,
                  "avg_current": -0.251,
                  "avg_temperature": 21.15731,
                  "avg_voltage": 4.2,
                  "datetime": "2020-01-01 01:26:10",
                  "min_cycle": "517",
                  "unit": "rw3"
                },
                {
                  "avg_capacity": 2.0079012094557536,
                  "avg_current": -0.249,
                  "avg_temperature": 21.14174,
                  "avg_voltage": 4.2,
                  "datetime": "2020-01-01 01:26:20",
                  "min_cycle": "518",
                  "unit": "rw3"
                },
                {
                  "avg_capacity": 2.007486225382942,
                  "avg_current": -0.248,
                  "avg_temperature": 21.14174,
                  "avg_voltage": 4.2,
                  "datetime": "2020-01-01 01:26:30",
                  "min_cycle": "519",
                  "unit": "rw3"
                },
                {
                  "avg_capacity": 2.0084907913796908,
                  "avg_current": -0.246,
                  "avg_temperature": 21.12617,
                  "avg_voltage": 4.2,
                  "datetime": "2020-01-01 01:26:40",
                  "min_cycle": "520",
                  "unit": "rw3"
                },
                {
                  "avg_capacity": 2.0101220546609753,
                  "avg_current": -0.244,
                  "avg_temperature": 21.12617,
                  "avg_voltage": 4.2,
                  "datetime": "2020-01-01 01:26:50",
                  "min_cycle": "521",
                  "unit": "rw3"
                },
                {
                  "avg_capacity": 2.008171878456803,
                  "avg_current": -0.243,
                  "avg_temperature": 21.12617,
                  "avg_voltage": 4.2,
                  "datetime": "2020-01-01 01:27:00",
                  "min_cycle": "522",
                  "unit": "rw3"
                },
                {
                  "avg_capacity": 2.0105291179597784,
                  "avg_current": -0.24,
                  "avg_temperature": 21.11059,
                  "avg_voltage": 4.2,
                  "datetime": "2020-01-01 01:27:10",
                  "min_cycle": "523",
                  "unit": "rw3"
                },
                {
                  "avg_capacity": 2.010017279313262,
                  "avg_current": -0.24,
                  "avg_temperature": 21.11059,
                  "avg_voltage": 4.2,
                  "datetime": "2020-01-01 01:27:20",
                  "min_cycle": "524",
                  "unit": "rw3"
                },
                {
                  "avg_capacity": 2.008842535825702,
                  "avg_current": -0.238,
                  "avg_temperature": 21.09502,
                  "avg_voltage": 4.2,
                  "datetime": "2020-01-01 01:27:30",
                  "min_cycle": "525",
                  "unit": "rw3"
                },
                {
                  "avg_capacity": 2.0073216911523084,
                  "avg_current": -0.236,
                  "avg_temperature": 21.09502,
                  "avg_voltage": 4.2,
                  "datetime": "2020-01-01 01:27:40",
                  "min_cycle": "526",
                  "unit": "rw3"
                },
                {
                  "avg_capacity": 2.0079336540002286,
                  "avg_current": -0.236,
                  "avg_temperature": 21.09502,
                  "avg_voltage": 4.2,
                  "datetime": "2020-01-01 01:27:50",
                  "min_cycle": "527",
                  "unit": "rw3"
                },
                {
                  "avg_capacity": 2.0097490161533713,
                  "avg_current": -0.233,
                  "avg_temperature": 21.07945,
                  "avg_voltage": 4.2,
                  "datetime": "2020-01-01 01:28:00",
                  "min_cycle": "528",
                  "unit": "rw3"
                },
                {
                  "avg_capacity": 2.009188177946342,
                  "avg_current": -0.231,
                  "avg_temperature": 21.07945,
                  "avg_voltage": 4.2,
                  "datetime": "2020-01-01 01:28:10",
                  "min_cycle": "529",
                  "unit": "rw3"
                },
                {
                  "avg_capacity": 2.008226675980201,
                  "avg_current": -0.229,
                  "avg_temperature": 21.07945,
                  "avg_voltage": 4.2,
                  "datetime": "2020-01-01 01:28:20",
                  "min_cycle": "530",
                  "unit": "rw3"
                },
                {
                  "avg_capacity": 2.008201986430876,
                  "avg_current": -0.228,
                  "avg_temperature": 21.0483,
                  "avg_voltage": 4.2,
                  "datetime": "2020-01-01 01:28:30",
                  "min_cycle": "531",
                  "unit": "rw3"
                },
                {
                  "avg_capacity": 2.008629063629337,
                  "avg_current": -0.227,
                  "avg_temperature": 21.0483,
                  "avg_voltage": 4.2,
                  "datetime": "2020-01-01 01:28:40",
                  "min_cycle": "532",
                  "unit": "rw3"
                },
                {
                  "avg_capacity": 2.009178982443056,
                  "avg_current": -0.227,
                  "avg_temperature": 21.0483,
                  "avg_voltage": 4.2,
                  "datetime": "2020-01-01 01:28:50",
                  "min_cycle": "533",
                  "unit": "rw3"
                },
                {
                  "avg_capacity": 2.0086949160162972,
                  "avg_current": -0.224,
                  "avg_temperature": 21.03273,
                  "avg_voltage": 4.2,
                  "datetime": "2020-01-01 01:29:00",
                  "min_cycle": "534",
                  "unit": "rw3"
                },
                {
                  "avg_capacity": 2.0106828683444236,
                  "avg_current": -0.223,
                  "avg_temperature": 21.0483,
                  "avg_voltage": 4.2,
                  "datetime": "2020-01-01 01:29:10",
                  "min_cycle": "535",
                  "unit": "rw3"
                },
                {
                  "avg_capacity": 2.008277331894499,
                  "avg_current": -0.223,
                  "avg_temperature": 21.03273,
                  "avg_voltage": 4.2,
                  "datetime": "2020-01-01 01:29:20",
                  "min_cycle": "536",
                  "unit": "rw3"
                },
                {
                  "avg_capacity": 2.0104827699169805,
                  "avg_current": -0.221,
                  "avg_temperature": 21.01715,
                  "avg_voltage": 4.2,
                  "datetime": "2020-01-01 01:29:30",
                  "min_cycle": "537",
                  "unit": "rw3"
                },
                {
                  "avg_capacity": 2.0097554124082246,
                  "avg_current": -0.219,
                  "avg_temperature": 21.01715,
                  "avg_voltage": 4.2,
                  "datetime": "2020-01-01 01:29:40",
                  "min_cycle": "538",
                  "unit": "rw3"
                },
                {
                  "avg_capacity": 2.0087618934877267,
                  "avg_current": -0.217,
                  "avg_temperature": 21.00158,
                  "avg_voltage": 4.2,
                  "datetime": "2020-01-01 01:29:50",
                  "min_cycle": "539",
                  "unit": "rw3"
                },
                {
                  "avg_capacity": 2.00937260761473,
                  "avg_current": -0.215,
                  "avg_temperature": 20.97043,
                  "avg_voltage": 4.2,
                  "datetime": "2020-01-01 01:30:00",
                  "min_cycle": "540",
                  "unit": "rw3"
                },
                {
                  "avg_capacity": 2.008341361045653,
                  "avg_current": -0.215,
                  "avg_temperature": 20.95486,
                  "avg_voltage": 4.2,
                  "datetime": "2020-01-01 01:30:10",
                  "min_cycle": "541",
                  "unit": "rw3"
                },
                {
                  "avg_capacity": 2.0097594281553453,
                  "avg_current": -0.214,
                  "avg_temperature": 20.92371,
                  "avg_voltage": 4.2,
                  "datetime": "2020-01-01 01:30:20",
                  "min_cycle": "542",
                  "unit": "rw3"
                },
                {
                  "avg_capacity": 2.009624387658717,
                  "avg_current": -0.211,
                  "avg_temperature": 20.92371,
                  "avg_voltage": 4.2,
                  "datetime": "2020-01-01 01:30:30",
                  "min_cycle": "543",
                  "unit": "rw3"
                },
                {
                  "avg_capacity": 2.010222362030226,
                  "avg_current": -0.21,
                  "avg_temperature": 20.90814,
                  "avg_voltage": 4.2,
                  "datetime": "2020-01-01 01:30:40",
                  "min_cycle": "544",
                  "unit": "rw3"
                },
                {
                  "avg_capacity": 2.009144141579788,
                  "avg_current": -0.211,
                  "avg_temperature": 20.89257,
                  "avg_voltage": 4.2,
                  "datetime": "2020-01-01 01:30:50",
                  "min_cycle": "545",
                  "unit": "rw3"
                },
                {
                  "avg_capacity": 2.007051331625732,
                  "avg_current": -0.208,
                  "avg_temperature": 20.87699,
                  "avg_voltage": 4.2,
                  "datetime": "2020-01-01 01:31:00",
                  "min_cycle": "546",
                  "unit": "rw3"
                },
                {
                  "avg_capacity": 2.0086475228269425,
                  "avg_current": -0.206,
                  "avg_temperature": 20.86142,
                  "avg_voltage": 4.2,
                  "datetime": "2020-01-01 01:31:10",
                  "min_cycle": "547",
                  "unit": "rw3"
                },
                {
                  "avg_capacity": 2.007528139634788,
                  "avg_current": -0.205,
                  "avg_temperature": 20.84585,
                  "avg_voltage": 4.2,
                  "datetime": "2020-01-01 01:31:20",
                  "min_cycle": "548",
                  "unit": "rw3"
                },
                {
                  "avg_capacity": 2.0079604645405533,
                  "avg_current": -0.204,
                  "avg_temperature": 20.83027,
                  "avg_voltage": 4.2,
                  "datetime": "2020-01-01 01:31:30",
                  "min_cycle": "549",
                  "unit": "rw3"
                },
                {
                  "avg_capacity": 2.007742085670359,
                  "avg_current": -0.202,
                  "avg_temperature": 20.83027,
                  "avg_voltage": 4.2,
                  "datetime": "2020-01-01 01:31:40",
                  "min_cycle": "550",
                  "unit": "rw3"
                },
                {
                  "avg_capacity": 2.007689583946385,
                  "avg_current": -0.201,
                  "avg_temperature": 20.8147,
                  "avg_voltage": 4.2,
                  "datetime": "2020-01-01 01:31:50",
                  "min_cycle": "551",
                  "unit": "rw3"
                },
                {
                  "avg_capacity": 2.010265108299935,
                  "avg_current": -0.201,
                  "avg_temperature": 20.8147,
                  "avg_voltage": 4.2,
                  "datetime": "2020-01-01 01:32:00",
                  "min_cycle": "552",
                  "unit": "rw3"
                },
                {
                  "avg_capacity": 2.009810215708782,
                  "avg_current": -0.2,
                  "avg_temperature": 20.79913,
                  "avg_voltage": 4.2,
                  "datetime": "2020-01-01 01:32:10",
                  "min_cycle": "553",
                  "unit": "rw3"
                },
                {
                  "avg_capacity": 2.0068642117931677,
                  "avg_current": -0.197,
                  "avg_temperature": 20.79913,
                  "avg_voltage": 4.2,
                  "datetime": "2020-01-01 01:32:20",
                  "min_cycle": "554",
                  "unit": "rw3"
                },
                {
                  "avg_capacity": 2.0098427354012585,
                  "avg_current": -0.197,
                  "avg_temperature": 20.76798,
                  "avg_voltage": 4.2,
                  "datetime": "2020-01-01 01:32:30",
                  "min_cycle": "555",
                  "unit": "rw3"
                },
                {
                  "avg_capacity": 2.0092365892824664,
                  "avg_current": -0.196,
                  "avg_temperature": 20.76798,
                  "avg_voltage": 4.2,
                  "datetime": "2020-01-01 01:32:40",
                  "min_cycle": "556",
                  "unit": "rw3"
                },
                {
                  "avg_capacity": 2.0084281755089783,
                  "avg_current": -0.195,
                  "avg_temperature": 20.76798,
                  "avg_voltage": 4.2,
                  "datetime": "2020-01-01 01:32:50",
                  "min_cycle": "557",
                  "unit": "rw3"
                },
                {
                  "avg_capacity": 2.0103433794981345,
                  "avg_current": -0.192,
                  "avg_temperature": 20.76798,
                  "avg_voltage": 4.2,
                  "datetime": "2020-01-01 01:33:00",
                  "min_cycle": "558",
                  "unit": "rw3"
                },
                {
                  "avg_capacity": 2.008729626750201,
                  "avg_current": -0.192,
                  "avg_temperature": 20.76798,
                  "avg_voltage": 4.2,
                  "datetime": "2020-01-01 01:33:10",
                  "min_cycle": "559",
                  "unit": "rw3"
                },
                {
                  "avg_capacity": 2.0090391687843976,
                  "avg_current": -0.19,
                  "avg_temperature": 20.75241,
                  "avg_voltage": 4.2,
                  "datetime": "2020-01-01 01:33:20",
                  "min_cycle": "560",
                  "unit": "rw3"
                },
                {
                  "avg_capacity": 2.0081125113849394,
                  "avg_current": -0.19,
                  "avg_temperature": 20.76798,
                  "avg_voltage": 4.2,
                  "datetime": "2020-01-01 01:33:30",
                  "min_cycle": "561",
                  "unit": "rw3"
                },
                {
                  "avg_capacity": 2.008540141245426,
                  "avg_current": -0.188,
                  "avg_temperature": 20.75241,
                  "avg_voltage": 4.2,
                  "datetime": "2020-01-01 01:33:40",
                  "min_cycle": "562",
                  "unit": "rw3"
                },
                {
                  "avg_capacity": 2.0075278091017688,
                  "avg_current": -0.188,
                  "avg_temperature": 20.75241,
                  "avg_voltage": 4.2,
                  "datetime": "2020-01-01 01:33:50",
                  "min_cycle": "563",
                  "unit": "rw3"
                },
                {
                  "avg_capacity": 2.0089746672634177,
                  "avg_current": -0.186,
                  "avg_temperature": 20.75241,
                  "avg_voltage": 4.2,
                  "datetime": "2020-01-01 01:34:00",
                  "min_cycle": "564",
                  "unit": "rw3"
                },
                {
                  "avg_capacity": 2.009208177873957,
                  "avg_current": -0.185,
                  "avg_temperature": 20.76798,
                  "avg_voltage": 4.2,
                  "datetime": "2020-01-01 01:34:10",
                  "min_cycle": "565",
                  "unit": "rw3"
                },
                {
                  "avg_capacity": 2.0078207377680464,
                  "avg_current": -0.184,
                  "avg_temperature": 20.76798,
                  "avg_voltage": 4.2,
                  "datetime": "2020-01-01 01:34:20",
                  "min_cycle": "566",
                  "unit": "rw3"
                },
                {
                  "avg_capacity": 2.011811700285655,
                  "avg_current": -0.183,
                  "avg_temperature": 20.75241,
                  "avg_voltage": 4.2,
                  "datetime": "2020-01-01 01:34:30",
                  "min_cycle": "567",
                  "unit": "rw3"
                },
                {
                  "avg_capacity": 2.0102416318756853,
                  "avg_current": -0.182,
                  "avg_temperature": 20.75241,
                  "avg_voltage": 4.2,
                  "datetime": "2020-01-01 01:34:40",
                  "min_cycle": "568",
                  "unit": "rw3"
                },
                {
                  "avg_capacity": 2.0083875450176905,
                  "avg_current": -0.18,
                  "avg_temperature": 20.75241,
                  "avg_voltage": 4.2,
                  "datetime": "2020-01-01 01:34:50",
                  "min_cycle": "569",
                  "unit": "rw3"
                },
                {
                  "avg_capacity": 2.0103879919092797,
                  "avg_current": -0.179,
                  "avg_temperature": 20.73683,
                  "avg_voltage": 4.2,
                  "datetime": "2020-01-01 01:35:00",
                  "min_cycle": "570",
                  "unit": "rw3"
                },
                {
                  "avg_capacity": 2.0096810432935532,
                  "avg_current": -0.178,
                  "avg_temperature": 20.75241,
                  "avg_voltage": 4.2,
                  "datetime": "2020-01-01 01:35:10",
                  "min_cycle": "571",
                  "unit": "rw3"
                },
                {
                  "avg_capacity": 2.008694993304277,
                  "avg_current": -0.178,
                  "avg_temperature": 20.75241,
                  "avg_voltage": 4.2,
                  "datetime": "2020-01-01 01:35:20",
                  "min_cycle": "572",
                  "unit": "rw3"
                },
                {
                  "avg_capacity": 2.0086083515375304,
                  "avg_current": -0.176,
                  "avg_temperature": 20.75241,
                  "avg_voltage": 4.2,
                  "datetime": "2020-01-01 01:35:30",
                  "min_cycle": "573",
                  "unit": "rw3"
                },
                {
                  "avg_capacity": 2.008898248664751,
                  "avg_current": -0.175,
                  "avg_temperature": 20.73683,
                  "avg_voltage": 4.2,
                  "datetime": "2020-01-01 01:35:40",
                  "min_cycle": "574",
                  "unit": "rw3"
                },
                {
                  "avg_capacity": 2.00885605521318,
                  "avg_current": -0.174,
                  "avg_temperature": 20.73683,
                  "avg_voltage": 4.2,
                  "datetime": "2020-01-01 01:35:50",
                  "min_cycle": "575",
                  "unit": "rw3"
                },
                {
                  "avg_capacity": 2.0091997082633766,
                  "avg_current": -0.172,
                  "avg_temperature": 20.72126,
                  "avg_voltage": 4.2,
                  "datetime": "2020-01-01 01:36:00",
                  "min_cycle": "576",
                  "unit": "rw3"
                },
                {
                  "avg_capacity": 2.00977902277103,
                  "avg_current": -0.17,
                  "avg_temperature": 20.70569,
                  "avg_voltage": 4.2,
                  "datetime": "2020-01-01 01:36:10",
                  "min_cycle": "577",
                  "unit": "rw3"
                },
                {
                  "avg_capacity": 2.0082665169161613,
                  "avg_current": -0.17,
                  "avg_temperature": 20.69011,
                  "avg_voltage": 4.2,
                  "datetime": "2020-01-01 01:36:20",
                  "min_cycle": "578",
                  "unit": "rw3"
                },
                {
                  "avg_capacity": 2.0097956180725585,
                  "avg_current": -0.169,
                  "avg_temperature": 20.69011,
                  "avg_voltage": 4.2,
                  "datetime": "2020-01-01 01:36:30",
                  "min_cycle": "579",
                  "unit": "rw3"
                },
                {
                  "avg_capacity": 2.0088249498543247,
                  "avg_current": -0.169,
                  "avg_temperature": 20.67454,
                  "avg_voltage": 4.2,
                  "datetime": "2020-01-01 01:36:40",
                  "min_cycle": "580",
                  "unit": "rw3"
                },
                {
                  "avg_capacity": 2.0081395612507333,
                  "avg_current": -0.168,
                  "avg_temperature": 20.67454,
                  "avg_voltage": 4.2,
                  "datetime": "2020-01-01 01:36:50",
                  "min_cycle": "581",
                  "unit": "rw3"
                },
                {
                  "avg_capacity": 2.009670093092583,
                  "avg_current": -0.167,
                  "avg_temperature": 20.67454,
                  "avg_voltage": 4.2,
                  "datetime": "2020-01-01 01:37:00",
                  "min_cycle": "582",
                  "unit": "rw3"
                },
                {
                  "avg_capacity": 2.0096432892572706,
                  "avg_current": -0.165,
                  "avg_temperature": 20.67454,
                  "avg_voltage": 4.2,
                  "datetime": "2020-01-01 01:37:10",
                  "min_cycle": "583",
                  "unit": "rw3"
                },
                {
                  "avg_capacity": 2.010059079841511,
                  "avg_current": -0.165,
                  "avg_temperature": 20.67454,
                  "avg_voltage": 4.2,
                  "datetime": "2020-01-01 01:37:20",
                  "min_cycle": "584",
                  "unit": "rw3"
                },
                {
                  "avg_capacity": 2.009169604130085,
                  "avg_current": -0.165,
                  "avg_temperature": 20.65897,
                  "avg_voltage": 4.2,
                  "datetime": "2020-01-01 01:37:30",
                  "min_cycle": "585",
                  "unit": "rw3"
                },
                {
                  "avg_capacity": 2.0093282515569895,
                  "avg_current": -0.162,
                  "avg_temperature": 20.65897,
                  "avg_voltage": 4.2,
                  "datetime": "2020-01-01 01:37:40",
                  "min_cycle": "586",
                  "unit": "rw3"
                },
                {
                  "avg_capacity": 2.0084400277946783,
                  "avg_current": -0.163,
                  "avg_temperature": 20.65897,
                  "avg_voltage": 4.2,
                  "datetime": "2020-01-01 01:37:50",
                  "min_cycle": "587",
                  "unit": "rw3"
                },
                {
                  "avg_capacity": 2.0065200080812633,
                  "avg_current": -0.16,
                  "avg_temperature": 20.65897,
                  "avg_voltage": 4.2,
                  "datetime": "2020-01-01 01:38:00",
                  "min_cycle": "588",
                  "unit": "rw3"
                },
                {
                  "avg_capacity": 2.0087593658409664,
                  "avg_current": -0.16,
                  "avg_temperature": 20.65897,
                  "avg_voltage": 4.2,
                  "datetime": "2020-01-01 01:38:10",
                  "min_cycle": "589",
                  "unit": "rw3"
                },
                {
                  "avg_capacity": 2.0097103389291737,
                  "avg_current": -0.159,
                  "avg_temperature": 20.64339,
                  "avg_voltage": 4.2,
                  "datetime": "2020-01-01 01:38:20",
                  "min_cycle": "590",
                  "unit": "rw3"
                },
                {
                  "avg_capacity": 2.0086322791495648,
                  "avg_current": -0.157,
                  "avg_temperature": 20.64339,
                  "avg_voltage": 4.2,
                  "datetime": "2020-01-01 01:38:30",
                  "min_cycle": "591",
                  "unit": "rw3"
                },
                {
                  "avg_capacity": 2.009335070466597,
                  "avg_current": -0.157,
                  "avg_temperature": 20.64339,
                  "avg_voltage": 4.2,
                  "datetime": "2020-01-01 01:38:40",
                  "min_cycle": "592",
                  "unit": "rw3"
                },
                {
                  "avg_capacity": 2.009008379843857,
                  "avg_current": -0.156,
                  "avg_temperature": 20.64339,
                  "avg_voltage": 4.2,
                  "datetime": "2020-01-01 01:38:50",
                  "min_cycle": "593",
                  "unit": "rw3"
                },
                {
                  "avg_capacity": 2.0069300131780934,
                  "avg_current": -0.155,
                  "avg_temperature": 20.64339,
                  "avg_voltage": 4.2,
                  "datetime": "2020-01-01 01:39:00",
                  "min_cycle": "594",
                  "unit": "rw3"
                },
                {
                  "avg_capacity": 2.0067258113843005,
                  "avg_current": -0.155,
                  "avg_temperature": 20.62782,
                  "avg_voltage": 4.2,
                  "datetime": "2020-01-01 01:39:10",
                  "min_cycle": "595",
                  "unit": "rw3"
                },
                {
                  "avg_capacity": 2.0095518273818165,
                  "avg_current": -0.153,
                  "avg_temperature": 20.62782,
                  "avg_voltage": 4.2,
                  "datetime": "2020-01-01 01:39:20",
                  "min_cycle": "596",
                  "unit": "rw3"
                },
                {
                  "avg_capacity": 2.0080820229087593,
                  "avg_current": -0.154,
                  "avg_temperature": 20.62782,
                  "avg_voltage": 4.2,
                  "datetime": "2020-01-01 01:39:30",
                  "min_cycle": "597",
                  "unit": "rw3"
                },
                {
                  "avg_capacity": 2.008958808193492,
                  "avg_current": -0.152,
                  "avg_temperature": 20.61225,
                  "avg_voltage": 4.2,
                  "datetime": "2020-01-01 01:39:40",
                  "min_cycle": "598",
                  "unit": "rw3"
                },
                {
                  "avg_capacity": 2.0078718327966065,
                  "avg_current": -0.151,
                  "avg_temperature": 20.61225,
                  "avg_voltage": 4.2,
                  "datetime": "2020-01-01 01:39:50",
                  "min_cycle": "599",
                  "unit": "rw3"
                },
                {
                  "avg_capacity": 2.009880569344084,
                  "avg_current": -0.149,
                  "avg_temperature": 20.61225,
                  "avg_voltage": 4.2,
                  "datetime": "2020-01-01 01:40:00",
                  "min_cycle": "600",
                  "unit": "rw3"
                },
                {
                  "avg_capacity": 2.0099541366157654,
                  "avg_current": -0.149,
                  "avg_temperature": 20.61225,
                  "avg_voltage": 4.2,
                  "datetime": "2020-01-01 01:40:10",
                  "min_cycle": "601",
                  "unit": "rw3"
                },
                {
                  "avg_capacity": 2.0085544515104656,
                  "avg_current": -0.149,
                  "avg_temperature": 20.61225,
                  "avg_voltage": 4.2,
                  "datetime": "2020-01-01 01:40:20",
                  "min_cycle": "602",
                  "unit": "rw3"
                },
                {
                  "avg_capacity": 2.0106071788332964,
                  "avg_current": -0.147,
                  "avg_temperature": 20.59667,
                  "avg_voltage": 4.2,
                  "datetime": "2020-01-01 01:40:30",
                  "min_cycle": "603",
                  "unit": "rw3"
                },
                {
                  "avg_capacity": 2.009360189978708,
                  "avg_current": -0.146,
                  "avg_temperature": 20.61225,
                  "avg_voltage": 4.2,
                  "datetime": "2020-01-01 01:40:40",
                  "min_cycle": "604",
                  "unit": "rw3"
                },
                {
                  "avg_capacity": 2.0077940594513035,
                  "avg_current": -0.146,
                  "avg_temperature": 20.59667,
                  "avg_voltage": 4.2,
                  "datetime": "2020-01-01 01:40:50",
                  "min_cycle": "605",
                  "unit": "rw3"
                },
                {
                  "avg_capacity": 2.009773571611651,
                  "avg_current": -0.144,
                  "avg_temperature": 20.59667,
                  "avg_voltage": 4.2,
                  "datetime": "2020-01-01 01:41:00",
                  "min_cycle": "606",
                  "unit": "rw3"
                },
                {
                  "avg_capacity": 2.007340643161276,
                  "avg_current": -0.145,
                  "avg_temperature": 20.5811,
                  "avg_voltage": 4.2,
                  "datetime": "2020-01-01 01:41:10",
                  "min_cycle": "607",
                  "unit": "rw3"
                },
                {
                  "avg_capacity": 2.008989381416316,
                  "avg_current": -0.142,
                  "avg_temperature": 20.5811,
                  "avg_voltage": 4.2,
                  "datetime": "2020-01-01 01:41:20",
                  "min_cycle": "608",
                  "unit": "rw3"
                },
                {
                  "avg_capacity": 2.0079184557642185,
                  "avg_current": -0.141,
                  "avg_temperature": 20.56553,
                  "avg_voltage": 4.2,
                  "datetime": "2020-01-01 01:41:30",
                  "min_cycle": "609",
                  "unit": "rw3"
                },
                {
                  "avg_capacity": 2.0075100252768965,
                  "avg_current": -0.141,
                  "avg_temperature": 20.56553,
                  "avg_voltage": 4.2,
                  "datetime": "2020-01-01 01:41:40",
                  "min_cycle": "610",
                  "unit": "rw3"
                },
                {
                  "avg_capacity": 2.009608747662416,
                  "avg_current": -0.14,
                  "avg_temperature": 20.56553,
                  "avg_voltage": 4.2,
                  "datetime": "2020-01-01 01:41:50",
                  "min_cycle": "611",
                  "unit": "rw3"
                },
                {
                  "avg_capacity": 2.0093509074247162,
                  "avg_current": -0.139,
                  "avg_temperature": 20.56553,
                  "avg_voltage": 4.2,
                  "datetime": "2020-01-01 01:42:00",
                  "min_cycle": "612",
                  "unit": "rw3"
                },
                {
                  "avg_capacity": 2.0094827046561488,
                  "avg_current": -0.139,
                  "avg_temperature": 20.56553,
                  "avg_voltage": 4.2,
                  "datetime": "2020-01-01 01:42:10",
                  "min_cycle": "613",
                  "unit": "rw3"
                },
                {
                  "avg_capacity": 2.0088918025114855,
                  "avg_current": -0.138,
                  "avg_temperature": 20.54996,
                  "avg_voltage": 4.2,
                  "datetime": "2020-01-01 01:42:20",
                  "min_cycle": "614",
                  "unit": "rw3"
                },
                {
                  "avg_capacity": 2.0088768839466438,
                  "avg_current": -0.138,
                  "avg_temperature": 20.54996,
                  "avg_voltage": 4.2,
                  "datetime": "2020-01-01 01:42:30",
                  "min_cycle": "615",
                  "unit": "rw3"
                },
                {
                  "avg_capacity": 2.0092620086649875,
                  "avg_current": -0.137,
                  "avg_temperature": 20.54996,
                  "avg_voltage": 4.2,
                  "datetime": "2020-01-01 01:42:40",
                  "min_cycle": "616",
                  "unit": "rw3"
                },
                {
                  "avg_capacity": 2.0081966435954293,
                  "avg_current": -0.137,
                  "avg_temperature": 20.54996,
                  "avg_voltage": 4.2,
                  "datetime": "2020-01-01 01:42:50",
                  "min_cycle": "617",
                  "unit": "rw3"
                },
                {
                  "avg_capacity": 2.0106584110601893,
                  "avg_current": -0.135,
                  "avg_temperature": 20.53438,
                  "avg_voltage": 4.2,
                  "datetime": "2020-01-01 01:43:00",
                  "min_cycle": "618",
                  "unit": "rw3"
                },
                {
                  "avg_capacity": 2.0082534272078205,
                  "avg_current": -0.134,
                  "avg_temperature": 20.53438,
                  "avg_voltage": 4.2,
                  "datetime": "2020-01-01 01:43:10",
                  "min_cycle": "619",
                  "unit": "rw3"
                },
                {
                  "avg_capacity": 2.0081229884436422,
                  "avg_current": -0.135,
                  "avg_temperature": 20.53438,
                  "avg_voltage": 4.2,
                  "datetime": "2020-01-01 01:43:20",
                  "min_cycle": "620",
                  "unit": "rw3"
                },
                {
                  "avg_capacity": 2.0087511946712615,
                  "avg_current": -0.132,
                  "avg_temperature": 20.51881,
                  "avg_voltage": 4.2,
                  "datetime": "2020-01-01 01:43:30",
                  "min_cycle": "621",
                  "unit": "rw3"
                },
                {
                  "avg_capacity": 2.0076201033492573,
                  "avg_current": -0.132,
                  "avg_temperature": 20.51881,
                  "avg_voltage": 4.2,
                  "datetime": "2020-01-01 01:43:40",
                  "min_cycle": "622",
                  "unit": "rw3"
                },
                {
                  "avg_capacity": 2.007976653595623,
                  "avg_current": -0.132,
                  "avg_temperature": 20.51881,
                  "avg_voltage": 4.2,
                  "datetime": "2020-01-01 01:43:50",
                  "min_cycle": "623",
                  "unit": "rw3"
                },
                {
                  "avg_capacity": 2.0094876000169877,
                  "avg_current": -0.13,
                  "avg_temperature": 20.51881,
                  "avg_voltage": 4.2,
                  "datetime": "2020-01-01 01:44:00",
                  "min_cycle": "624",
                  "unit": "rw3"
                },
                {
                  "avg_capacity": 2.008275604179698,
                  "avg_current": -0.13,
                  "avg_temperature": 20.51881,
                  "avg_voltage": 4.2,
                  "datetime": "2020-01-01 01:44:10",
                  "min_cycle": "625",
                  "unit": "rw3"
                },
                {
                  "avg_capacity": 2.0094986411692846,
                  "avg_current": -0.128,
                  "avg_temperature": 20.50323,
                  "avg_voltage": 4.2,
                  "datetime": "2020-01-01 01:44:20",
                  "min_cycle": "626",
                  "unit": "rw3"
                },
                {
                  "avg_capacity": 2.0068054166456544,
                  "avg_current": -0.128,
                  "avg_temperature": 20.48766,
                  "avg_voltage": 4.2,
                  "datetime": "2020-01-01 01:44:30",
                  "min_cycle": "627",
                  "unit": "rw3"
                },
                {
                  "avg_capacity": 2.00992012157131,
                  "avg_current": -0.127,
                  "avg_temperature": 20.50323,
                  "avg_voltage": 4.2,
                  "datetime": "2020-01-01 01:44:40",
                  "min_cycle": "628",
                  "unit": "rw3"
                },
                {
                  "avg_capacity": 2.008474536063588,
                  "avg_current": -0.127,
                  "avg_temperature": 20.47209,
                  "avg_voltage": 4.2,
                  "datetime": "2020-01-01 01:44:50",
                  "min_cycle": "629",
                  "unit": "rw3"
                },
                {
                  "avg_capacity": 2.0090464980430984,
                  "avg_current": -0.125,
                  "avg_temperature": 20.48766,
                  "avg_voltage": 4.2,
                  "datetime": "2020-01-01 01:45:00",
                  "min_cycle": "630",
                  "unit": "rw3"
                },
                {
                  "avg_capacity": 2.0090268351032545,
                  "avg_current": -0.125,
                  "avg_temperature": 20.48766,
                  "avg_voltage": 4.2,
                  "datetime": "2020-01-01 01:45:10",
                  "min_cycle": "631",
                  "unit": "rw3"
                },
                {
                  "avg_capacity": 2.0077334774855795,
                  "avg_current": -0.124,
                  "avg_temperature": 20.48766,
                  "avg_voltage": 4.2,
                  "datetime": "2020-01-01 01:45:20",
                  "min_cycle": "632",
                  "unit": "rw3"
                },
                {
                  "avg_capacity": 2.008477258110761,
                  "avg_current": -0.122,
                  "avg_temperature": 20.48766,
                  "avg_voltage": 4.2,
                  "datetime": "2020-01-01 01:45:30",
                  "min_cycle": "633",
                  "unit": "rw3"
                },
                {
                  "avg_capacity": 2.0079728145835354,
                  "avg_current": -0.124,
                  "avg_temperature": 20.48766,
                  "avg_voltage": 4.2,
                  "datetime": "2020-01-01 01:45:40",
                  "min_cycle": "634",
                  "unit": "rw3"
                },
                {
                  "avg_capacity": 2.0093695304678305,
                  "avg_current": -0.122,
                  "avg_temperature": 20.48766,
                  "avg_voltage": 4.2,
                  "datetime": "2020-01-01 01:45:50",
                  "min_cycle": "635",
                  "unit": "rw3"
                },
                {
                  "avg_capacity": 2.007541006996144,
                  "avg_current": -0.121,
                  "avg_temperature": 20.48766,
                  "avg_voltage": 4.2,
                  "datetime": "2020-01-01 01:46:00",
                  "min_cycle": "636",
                  "unit": "rw3"
                },
                {
                  "avg_capacity": 2.0085464033253198,
                  "avg_current": -0.121,
                  "avg_temperature": 20.47209,
                  "avg_voltage": 4.2,
                  "datetime": "2020-01-01 01:46:10",
                  "min_cycle": "637",
                  "unit": "rw3"
                },
                {
                  "avg_capacity": 2.0082225635386988,
                  "avg_current": -0.121,
                  "avg_temperature": 20.47209,
                  "avg_voltage": 4.2,
                  "datetime": "2020-01-01 01:46:20",
                  "min_cycle": "638",
                  "unit": "rw3"
                },
                {
                  "avg_capacity": 2.009910788616689,
                  "avg_current": -0.119,
                  "avg_temperature": 20.47209,
                  "avg_voltage": 4.2,
                  "datetime": "2020-01-01 01:46:30",
                  "min_cycle": "639",
                  "unit": "rw3"
                },
                {
                  "avg_capacity": 2.0090524592379264,
                  "avg_current": -0.12,
                  "avg_temperature": 20.45652,
                  "avg_voltage": 4.2,
                  "datetime": "2020-01-01 01:46:40",
                  "min_cycle": "640",
                  "unit": "rw3"
                },
                {
                  "avg_capacity": 2.0080085170772217,
                  "avg_current": -0.117,
                  "avg_temperature": 20.47209,
                  "avg_voltage": 4.2,
                  "datetime": "2020-01-01 01:46:50",
                  "min_cycle": "641",
                  "unit": "rw3"
                },
                {
                  "avg_capacity": 2.009063335498932,
                  "avg_current": -0.117,
                  "avg_temperature": 20.47209,
                  "avg_voltage": 4.2,
                  "datetime": "2020-01-01 01:47:00",
                  "min_cycle": "642",
                  "unit": "rw3"
                },
                {
                  "avg_capacity": 2.0085996276656486,
                  "avg_current": -0.116,
                  "avg_temperature": 20.48766,
                  "avg_voltage": 4.2,
                  "datetime": "2020-01-01 01:47:10",
                  "min_cycle": "643",
                  "unit": "rw3"
                },
                {
                  "avg_capacity": 2.007187626496253,
                  "avg_current": -0.116,
                  "avg_temperature": 20.48766,
                  "avg_voltage": 4.2,
                  "datetime": "2020-01-01 01:47:20",
                  "min_cycle": "644",
                  "unit": "rw3"
                },
                {
                  "avg_capacity": 2.009592424018038,
                  "avg_current": -0.114,
                  "avg_temperature": 20.50323,
                  "avg_voltage": 4.2,
                  "datetime": "2020-01-01 01:47:30",
                  "min_cycle": "645",
                  "unit": "rw3"
                },
                {
                  "avg_capacity": 2.010309607025166,
                  "avg_current": -0.114,
                  "avg_temperature": 20.50323,
                  "avg_voltage": 4.2,
                  "datetime": "2020-01-01 01:47:40",
                  "min_cycle": "646",
                  "unit": "rw3"
                },
                {
                  "avg_capacity": 2.0100912915472935,
                  "avg_current": -0.114,
                  "avg_temperature": 20.50323,
                  "avg_voltage": 4.2,
                  "datetime": "2020-01-01 01:47:50",
                  "min_cycle": "647",
                  "unit": "rw3"
                },
                {
                  "avg_capacity": 2.008609799221222,
                  "avg_current": -0.113,
                  "avg_temperature": 20.50323,
                  "avg_voltage": 4.2,
                  "datetime": "2020-01-01 01:48:00",
                  "min_cycle": "648",
                  "unit": "rw3"
                },
                {
                  "avg_capacity": 2.009326268478265,
                  "avg_current": -0.112,
                  "avg_temperature": 20.51881,
                  "avg_voltage": 4.2,
                  "datetime": "2020-01-01 01:48:10",
                  "min_cycle": "649",
                  "unit": "rw3"
                },
                {
                  "avg_capacity": 2.008958992415449,
                  "avg_current": -0.111,
                  "avg_temperature": 20.51881,
                  "avg_voltage": 4.2,
                  "datetime": "2020-01-01 01:48:20",
                  "min_cycle": "650",
                  "unit": "rw3"
                },
                {
                  "avg_capacity": 2.008840602161833,
                  "avg_current": -0.111,
                  "avg_temperature": 20.51881,
                  "avg_voltage": 4.2,
                  "datetime": "2020-01-01 01:48:30",
                  "min_cycle": "651",
                  "unit": "rw3"
                },
                {
                  "avg_capacity": 2.0069166993295027,
                  "avg_current": -0.111,
                  "avg_temperature": 20.53438,
                  "avg_voltage": 4.2,
                  "datetime": "2020-01-01 01:48:40",
                  "min_cycle": "652",
                  "unit": "rw3"
                },
                {
                  "avg_capacity": 2.008739170997971,
                  "avg_current": -0.112,
                  "avg_temperature": 20.54996,
                  "avg_voltage": 4.2,
                  "datetime": "2020-01-01 01:48:50",
                  "min_cycle": "653",
                  "unit": "rw3"
                },
                {
                  "avg_capacity": 2.011316595932776,
                  "avg_current": -0.109,
                  "avg_temperature": 20.53438,
                  "avg_voltage": 4.2,
                  "datetime": "2020-01-01 01:49:00",
                  "min_cycle": "654",
                  "unit": "rw3"
                },
                {
                  "avg_capacity": 2.0078437750025397,
                  "avg_current": -0.11,
                  "avg_temperature": 20.54996,
                  "avg_voltage": 4.2,
                  "datetime": "2020-01-01 01:49:10",
                  "min_cycle": "655",
                  "unit": "rw3"
                },
                {
                  "avg_capacity": 2.0087669281977356,
                  "avg_current": -0.109,
                  "avg_temperature": 20.53438,
                  "avg_voltage": 4.2,
                  "datetime": "2020-01-01 01:49:20",
                  "min_cycle": "656",
                  "unit": "rw3"
                },
                {
                  "avg_capacity": 2.0089085589921827,
                  "avg_current": -0.108,
                  "avg_temperature": 20.53438,
                  "avg_voltage": 4.2,
                  "datetime": "2020-01-01 01:49:30",
                  "min_cycle": "657",
                  "unit": "rw3"
                },
                {
                  "avg_capacity": 2.008605353985369,
                  "avg_current": -0.107,
                  "avg_temperature": 20.53438,
                  "avg_voltage": 4.2,
                  "datetime": "2020-01-01 01:49:40",
                  "min_cycle": "658",
                  "unit": "rw3"
                },
                {
                  "avg_capacity": 2.0085809961134675,
                  "avg_current": -0.106,
                  "avg_temperature": 20.51881,
                  "avg_voltage": 4.2,
                  "datetime": "2020-01-01 01:49:50",
                  "min_cycle": "659",
                  "unit": "rw3"
                },
                {
                  "avg_capacity": 2.0078532376372378,
                  "avg_current": -0.107,
                  "avg_temperature": 20.51881,
                  "avg_voltage": 4.2,
                  "datetime": "2020-01-01 01:50:00",
                  "min_cycle": "660",
                  "unit": "rw3"
                },
                {
                  "avg_capacity": 2.0074855977514527,
                  "avg_current": -0.106,
                  "avg_temperature": 20.53438,
                  "avg_voltage": 4.2,
                  "datetime": "2020-01-01 01:50:10",
                  "min_cycle": "661",
                  "unit": "rw3"
                },
                {
                  "avg_capacity": 2.0093484740583336,
                  "avg_current": -0.105,
                  "avg_temperature": 20.53438,
                  "avg_voltage": 4.2,
                  "datetime": "2020-01-01 01:50:20",
                  "min_cycle": "662",
                  "unit": "rw3"
                },
                {
                  "avg_capacity": 2.009287159550074,
                  "avg_current": -0.104,
                  "avg_temperature": 20.53438,
                  "avg_voltage": 4.2,
                  "datetime": "2020-01-01 01:50:30",
                  "min_cycle": "663",
                  "unit": "rw3"
                },
                {
                  "avg_capacity": 2.008340909937258,
                  "avg_current": -0.103,
                  "avg_temperature": 20.51881,
                  "avg_voltage": 4.2,
                  "datetime": "2020-01-01 01:50:40",
                  "min_cycle": "664",
                  "unit": "rw3"
                },
                {
                  "avg_capacity": 2.00807532945485,
                  "avg_current": -0.102,
                  "avg_temperature": 20.53438,
                  "avg_voltage": 4.2,
                  "datetime": "2020-01-01 01:50:50",
                  "min_cycle": "665",
                  "unit": "rw3"
                },
                {
                  "avg_capacity": 2.0084379577733675,
                  "avg_current": -0.102,
                  "avg_temperature": 20.51881,
                  "avg_voltage": 4.2,
                  "datetime": "2020-01-01 01:51:00",
                  "min_cycle": "666",
                  "unit": "rw3"
                },
                {
                  "avg_capacity": 2.0084808777262837,
                  "avg_current": -0.102,
                  "avg_temperature": 20.51881,
                  "avg_voltage": 4.2,
                  "datetime": "2020-01-01 01:51:10",
                  "min_cycle": "667",
                  "unit": "rw3"
                },
                {
                  "avg_capacity": 2.0098066772814027,
                  "avg_current": -0.101,
                  "avg_temperature": 20.51881,
                  "avg_voltage": 4.2,
                  "datetime": "2020-01-01 01:51:20",
                  "min_cycle": "668",
                  "unit": "rw3"
                },
                {
                  "avg_capacity": 2.009150152993154,
                  "avg_current": -0.1,
                  "avg_temperature": 20.50323,
                  "avg_voltage": 4.2,
                  "datetime": "2020-01-01 01:51:30",
                  "min_cycle": "669",
                  "unit": "rw3"
                },
                {
                  "avg_capacity": 2.008305525724506,
                  "avg_current": -0.099,
                  "avg_temperature": 20.50323,
                  "avg_voltage": 4.2,
                  "datetime": "2020-01-01 01:51:40",
                  "min_cycle": "670",
                  "unit": "rw3"
                },
                {
                  "avg_capacity": 2.008286879892297,
                  "avg_current": -0.098,
                  "avg_temperature": 20.48766,
                  "avg_voltage": 4.2,
                  "datetime": "2020-01-01 01:51:50",
                  "min_cycle": "671",
                  "unit": "rw3"
                },
                {
                  "avg_capacity": 2.009182795932647,
                  "avg_current": -0.098,
                  "avg_temperature": 20.50323,
                  "avg_voltage": 4.2,
                  "datetime": "2020-01-01 01:52:00",
                  "min_cycle": "672",
                  "unit": "rw3"
                },
                {
                  "avg_capacity": 2.009137515395691,
                  "avg_current": -0.098,
                  "avg_temperature": 20.48766,
                  "avg_voltage": 4.2,
                  "datetime": "2020-01-01 01:52:10",
                  "min_cycle": "673",
                  "unit": "rw3"
                },
                {
                  "avg_capacity": 2.009663011921441,
                  "avg_current": -0.096,
                  "avg_temperature": 20.48766,
                  "avg_voltage": 4.2,
                  "datetime": "2020-01-01 01:52:20",
                  "min_cycle": "674",
                  "unit": "rw3"
                },
                {
                  "avg_capacity": 2.0085934967969146,
                  "avg_current": -0.096,
                  "avg_temperature": 20.47209,
                  "avg_voltage": 4.2,
                  "datetime": "2020-01-01 01:52:30",
                  "min_cycle": "675",
                  "unit": "rw3"
                },
                {
                  "avg_capacity": 2.0084087059225806,
                  "avg_current": -0.097,
                  "avg_temperature": 20.47209,
                  "avg_voltage": 4.2,
                  "datetime": "2020-01-01 01:52:40",
                  "min_cycle": "676",
                  "unit": "rw3"
                },
                {
                  "avg_capacity": 2.008983895561079,
                  "avg_current": -0.096,
                  "avg_temperature": 20.48766,
                  "avg_voltage": 4.2,
                  "datetime": "2020-01-01 01:52:50",
                  "min_cycle": "677",
                  "unit": "rw3"
                },
                {
                  "avg_capacity": 2.0099199926193183,
                  "avg_current": -0.096,
                  "avg_temperature": 20.48766,
                  "avg_voltage": 4.2,
                  "datetime": "2020-01-01 01:53:00",
                  "min_cycle": "678",
                  "unit": "rw3"
                },
                {
                  "avg_capacity": 2.0089777563890276,
                  "avg_current": -0.095,
                  "avg_temperature": 20.48766,
                  "avg_voltage": 4.2,
                  "datetime": "2020-01-01 01:53:10",
                  "min_cycle": "679",
                  "unit": "rw3"
                },
                {
                  "avg_capacity": 2.00729145254033,
                  "avg_current": -0.094,
                  "avg_temperature": 20.48766,
                  "avg_voltage": 4.2,
                  "datetime": "2020-01-01 01:53:20",
                  "min_cycle": "680",
                  "unit": "rw3"
                },
                {
                  "avg_capacity": 2.0083360161081307,
                  "avg_current": -0.094,
                  "avg_temperature": 20.50323,
                  "avg_voltage": 4.2,
                  "datetime": "2020-01-01 01:53:30",
                  "min_cycle": "681",
                  "unit": "rw3"
                },
                {
                  "avg_capacity": 2.0083447041443465,
                  "avg_current": -0.093,
                  "avg_temperature": 20.50323,
                  "avg_voltage": 4.2,
                  "datetime": "2020-01-01 01:53:40",
                  "min_cycle": "682",
                  "unit": "rw3"
                },
                {
                  "avg_capacity": 2.009798938597306,
                  "avg_current": -0.094,
                  "avg_temperature": 20.50323,
                  "avg_voltage": 4.2,
                  "datetime": "2020-01-01 01:53:50",
                  "min_cycle": "683",
                  "unit": "rw3"
                },
                {
                  "avg_capacity": 2.0100395602764998,
                  "avg_current": -0.093,
                  "avg_temperature": 20.50323,
                  "avg_voltage": 4.2,
                  "datetime": "2020-01-01 01:54:00",
                  "min_cycle": "684",
                  "unit": "rw3"
                },
                {
                  "avg_capacity": 2.008179599947224,
                  "avg_current": -0.093,
                  "avg_temperature": 20.47209,
                  "avg_voltage": 4.2,
                  "datetime": "2020-01-01 01:54:10",
                  "min_cycle": "685",
                  "unit": "rw3"
                },
                {
                  "avg_capacity": 2.0102085438416277,
                  "avg_current": -0.091,
                  "avg_temperature": 20.48766,
                  "avg_voltage": 4.2,
                  "datetime": "2020-01-01 01:54:20",
                  "min_cycle": "686",
                  "unit": "rw3"
                },
                {
                  "avg_capacity": 2.010328680009211,
                  "avg_current": -0.091,
                  "avg_temperature": 20.48766,
                  "avg_voltage": 4.2,
                  "datetime": "2020-01-01 01:54:30",
                  "min_cycle": "687",
                  "unit": "rw3"
                },
                {
                  "avg_capacity": 2.0083262079956983,
                  "avg_current": -0.091,
                  "avg_temperature": 20.47209,
                  "avg_voltage": 4.2,
                  "datetime": "2020-01-01 01:54:40",
                  "min_cycle": "688",
                  "unit": "rw3"
                },
                {
                  "avg_capacity": 2.008489798801527,
                  "avg_current": -0.091,
                  "avg_temperature": 20.47209,
                  "avg_voltage": 4.2,
                  "datetime": "2020-01-01 01:54:50",
                  "min_cycle": "689",
                  "unit": "rw3"
                },
                {
                  "avg_capacity": 2.008854977424214,
                  "avg_current": -0.09,
                  "avg_temperature": 20.47209,
                  "avg_voltage": 4.2,
                  "datetime": "2020-01-01 01:55:00",
                  "min_cycle": "690",
                  "unit": "rw3"
                },
                {
                  "avg_capacity": 2.009045650812259,
                  "avg_current": -0.09,
                  "avg_temperature": 20.47209,
                  "avg_voltage": 4.2,
                  "datetime": "2020-01-01 01:55:10",
                  "min_cycle": "691",
                  "unit": "rw3"
                },
                {
                  "avg_capacity": 2.009861536090761,
                  "avg_current": -0.089,
                  "avg_temperature": 20.47209,
                  "avg_voltage": 4.2,
                  "datetime": "2020-01-01 01:55:20",
                  "min_cycle": "692",
                  "unit": "rw3"
                },
                {
                  "avg_capacity": 2.00883262957131,
                  "avg_current": -0.088,
                  "avg_temperature": 20.47209,
                  "avg_voltage": 4.2,
                  "datetime": "2020-01-01 01:55:30",
                  "min_cycle": "693",
                  "unit": "rw3"
                },
                {
                  "avg_capacity": 2.0098923122251833,
                  "avg_current": -0.088,
                  "avg_temperature": 20.47209,
                  "avg_voltage": 4.2,
                  "datetime": "2020-01-01 01:55:40",
                  "min_cycle": "694",
                  "unit": "rw3"
                },
                {
                  "avg_capacity": 2.007294274422439,
                  "avg_current": -0.087,
                  "avg_temperature": 20.45652,
                  "avg_voltage": 4.2,
                  "datetime": "2020-01-01 01:55:50",
                  "min_cycle": "695",
                  "unit": "rw3"
                },
                {
                  "avg_capacity": 2.0092937981005377,
                  "avg_current": -0.085,
                  "avg_temperature": 20.44094,
                  "avg_voltage": 4.2,
                  "datetime": "2020-01-01 01:56:00",
                  "min_cycle": "696",
                  "unit": "rw3"
                },
                {
                  "avg_capacity": 2.0105037810822677,
                  "avg_current": -0.086,
                  "avg_temperature": 20.45652,
                  "avg_voltage": 4.2,
                  "datetime": "2020-01-01 01:56:10",
                  "min_cycle": "697",
                  "unit": "rw3"
                },
                {
                  "avg_capacity": 2.007365638368387,
                  "avg_current": -0.087,
                  "avg_temperature": 20.45652,
                  "avg_voltage": 4.2,
                  "datetime": "2020-01-01 01:56:20",
                  "min_cycle": "698",
                  "unit": "rw3"
                },
                {
                  "avg_capacity": 2.0076221460948043,
                  "avg_current": -0.086,
                  "avg_temperature": 20.45652,
                  "avg_voltage": 4.2,
                  "datetime": "2020-01-01 01:56:30",
                  "min_cycle": "699",
                  "unit": "rw3"
                },
                {
                  "avg_capacity": 2.011029510351735,
                  "avg_current": -0.085,
                  "avg_temperature": 20.45652,
                  "avg_voltage": 4.2,
                  "datetime": "2020-01-01 01:56:40",
                  "min_cycle": "700",
                  "unit": "rw3"
                },
                {
                  "avg_capacity": 2.009217888556897,
                  "avg_current": -0.084,
                  "avg_temperature": 20.47209,
                  "avg_voltage": 4.2,
                  "datetime": "2020-01-01 01:56:50",
                  "min_cycle": "701",
                  "unit": "rw3"
                },
                {
                  "avg_capacity": 2.008384235228955,
                  "avg_current": -0.083,
                  "avg_temperature": 20.48766,
                  "avg_voltage": 4.2,
                  "datetime": "2020-01-01 01:57:00",
                  "min_cycle": "702",
                  "unit": "rw3"
                },
                {
                  "avg_capacity": 2.009349885106003,
                  "avg_current": -0.084,
                  "avg_temperature": 20.47209,
                  "avg_voltage": 4.2,
                  "datetime": "2020-01-01 01:57:10",
                  "min_cycle": "703",
                  "unit": "rw3"
                },
                {
                  "avg_capacity": 2.008810761709763,
                  "avg_current": -0.082,
                  "avg_temperature": 20.45652,
                  "avg_voltage": 4.2,
                  "datetime": "2020-01-01 01:57:20",
                  "min_cycle": "704",
                  "unit": "rw3"
                },
                {
                  "avg_capacity": 2.007542310260372,
                  "avg_current": -0.083,
                  "avg_temperature": 20.47209,
                  "avg_voltage": 4.2,
                  "datetime": "2020-01-01 01:57:30",
                  "min_cycle": "705",
                  "unit": "rw3"
                },
                {
                  "avg_capacity": 2.0093452469659794,
                  "avg_current": -0.081,
                  "avg_temperature": 20.45652,
                  "avg_voltage": 4.2,
                  "datetime": "2020-01-01 01:57:40",
                  "min_cycle": "706",
                  "unit": "rw3"
                },
                {
                  "avg_capacity": 2.010776266244198,
                  "avg_current": -0.081,
                  "avg_temperature": 20.45652,
                  "avg_voltage": 4.2,
                  "datetime": "2020-01-01 01:57:50",
                  "min_cycle": "707",
                  "unit": "rw3"
                },
                {
                  "avg_capacity": 2.008338831300179,
                  "avg_current": -0.081,
                  "avg_temperature": 20.47209,
                  "avg_voltage": 4.2,
                  "datetime": "2020-01-01 01:58:00",
                  "min_cycle": "708",
                  "unit": "rw3"
                },
                {
                  "avg_capacity": 2.0099505072728863,
                  "avg_current": -0.082,
                  "avg_temperature": 20.45652,
                  "avg_voltage": 4.2,
                  "datetime": "2020-01-01 01:58:10",
                  "min_cycle": "709",
                  "unit": "rw3"
                },
                {
                  "avg_capacity": 2.0080206591845813,
                  "avg_current": -0.081,
                  "avg_temperature": 20.47209,
                  "avg_voltage": 4.2,
                  "datetime": "2020-01-01 01:58:20",
                  "min_cycle": "710",
                  "unit": "rw3"
                },
                {
                  "avg_capacity": 2.0090164159828356,
                  "avg_current": -0.08,
                  "avg_temperature": 20.48766,
                  "avg_voltage": 4.2,
                  "datetime": "2020-01-01 01:58:30",
                  "min_cycle": "711",
                  "unit": "rw3"
                },
                {
                  "avg_capacity": 2.0085666876848283,
                  "avg_current": -0.08,
                  "avg_temperature": 20.47209,
                  "avg_voltage": 4.2,
                  "datetime": "2020-01-01 01:58:40",
                  "min_cycle": "712",
                  "unit": "rw3"
                },
                {
                  "avg_capacity": 2.0072222294686735,
                  "avg_current": -0.079,
                  "avg_temperature": 20.47209,
                  "avg_voltage": 4.2,
                  "datetime": "2020-01-01 01:58:50",
                  "min_cycle": "713",
                  "unit": "rw3"
                },
                {
                  "avg_capacity": 2.0102080628891015,
                  "avg_current": -0.079,
                  "avg_temperature": 20.47209,
                  "avg_voltage": 4.2,
                  "datetime": "2020-01-01 01:59:00",
                  "min_cycle": "714",
                  "unit": "rw3"
                },
                {
                  "avg_capacity": 2.008082626364562,
                  "avg_current": -0.079,
                  "avg_temperature": 20.47209,
                  "avg_voltage": 4.2,
                  "datetime": "2020-01-01 01:59:10",
                  "min_cycle": "715",
                  "unit": "rw3"
                },
                {
                  "avg_capacity": 2.0085199528281357,
                  "avg_current": -0.077,
                  "avg_temperature": 20.47209,
                  "avg_voltage": 4.2,
                  "datetime": "2020-01-01 01:59:20",
                  "min_cycle": "716",
                  "unit": "rw3"
                },
                {
                  "avg_capacity": 2.009805802359595,
                  "avg_current": -0.079,
                  "avg_temperature": 20.45652,
                  "avg_voltage": 4.2,
                  "datetime": "2020-01-01 01:59:30",
                  "min_cycle": "717",
                  "unit": "rw3"
                },
                {
                  "avg_capacity": 2.0087830965052884,
                  "avg_current": -0.078,
                  "avg_temperature": 20.47209,
                  "avg_voltage": 4.2,
                  "datetime": "2020-01-01 01:59:40",
                  "min_cycle": "718",
                  "unit": "rw3"
                },
                {
                  "avg_capacity": 2.008852020534264,
                  "avg_current": -0.077,
                  "avg_temperature": 20.45652,
                  "avg_voltage": 4.2,
                  "datetime": "2020-01-01 01:59:50",
                  "min_cycle": "719",
                  "unit": "rw3"
                },
                {
                  "avg_capacity": 2.0112130631384497,
                  "avg_current": -0.076,
                  "avg_temperature": 20.47209,
                  "avg_voltage": 4.2,
                  "datetime": "2020-01-01 02:00:00",
                  "min_cycle": "720",
                  "unit": "rw3"
                },
                {
                  "avg_capacity": 2.0084332327321803,
                  "avg_current": -0.075,
                  "avg_temperature": 20.45652,
                  "avg_voltage": 4.2,
                  "datetime": "2020-01-01 02:00:10",
                  "min_cycle": "721",
                  "unit": "rw3"
                },
                {
                  "avg_capacity": 2.008231258577428,
                  "avg_current": -0.076,
                  "avg_temperature": 20.45652,
                  "avg_voltage": 4.2,
                  "datetime": "2020-01-01 02:00:20",
                  "min_cycle": "722",
                  "unit": "rw3"
                },
                {
                  "avg_capacity": 2.010618483048972,
                  "avg_current": -0.075,
                  "avg_temperature": 20.45652,
                  "avg_voltage": 4.2,
                  "datetime": "2020-01-01 02:00:30",
                  "min_cycle": "723",
                  "unit": "rw3"
                },
                {
                  "avg_capacity": 2.0095176277301,
                  "avg_current": -0.075,
                  "avg_temperature": 20.47209,
                  "avg_voltage": 4.2,
                  "datetime": "2020-01-01 02:00:40",
                  "min_cycle": "724",
                  "unit": "rw3"
                },
                {
                  "avg_capacity": 2.008715962443893,
                  "avg_current": -0.075,
                  "avg_temperature": 20.47209,
                  "avg_voltage": 4.2,
                  "datetime": "2020-01-01 02:00:50",
                  "min_cycle": "725",
                  "unit": "rw3"
                },
                {
                  "avg_capacity": 2.0099096678135364,
                  "avg_current": -0.074,
                  "avg_temperature": 20.47209,
                  "avg_voltage": 4.2,
                  "datetime": "2020-01-01 02:01:00",
                  "min_cycle": "726",
                  "unit": "rw3"
                },
                {
                  "avg_capacity": 2.0094327474804206,
                  "avg_current": -0.075,
                  "avg_temperature": 20.47209,
                  "avg_voltage": 4.2,
                  "datetime": "2020-01-01 02:01:10",
                  "min_cycle": "727",
                  "unit": "rw3"
                },
                {
                  "avg_capacity": 2.0109886685170233,
                  "avg_current": -0.074,
                  "avg_temperature": 20.47209,
                  "avg_voltage": 4.2,
                  "datetime": "2020-01-01 02:01:20",
                  "min_cycle": "728",
                  "unit": "rw3"
                },
                {
                  "avg_capacity": 2.00785489493867,
                  "avg_current": -0.073,
                  "avg_temperature": 20.47209,
                  "avg_voltage": 4.2,
                  "datetime": "2020-01-01 02:01:30",
                  "min_cycle": "729",
                  "unit": "rw3"
                },
                {
                  "avg_capacity": 2.0100819688117193,
                  "avg_current": -0.073,
                  "avg_temperature": 20.47209,
                  "avg_voltage": 4.2,
                  "datetime": "2020-01-01 02:01:40",
                  "min_cycle": "730",
                  "unit": "rw3"
                },
                {
                  "avg_capacity": 2.009652343064348,
                  "avg_current": -0.073,
                  "avg_temperature": 20.47209,
                  "avg_voltage": 4.2,
                  "datetime": "2020-01-01 02:01:50",
                  "min_cycle": "731",
                  "unit": "rw3"
                },
                {
                  "avg_capacity": 2.0074501602642334,
                  "avg_current": -0.072,
                  "avg_temperature": 20.47209,
                  "avg_voltage": 4.2,
                  "datetime": "2020-01-01 02:02:00",
                  "min_cycle": "732",
                  "unit": "rw3"
                },
                {
                  "avg_capacity": 2.0089455987451914,
                  "avg_current": -0.072,
                  "avg_temperature": 20.47209,
                  "avg_voltage": 4.2,
                  "datetime": "2020-01-01 02:02:10",
                  "min_cycle": "733",
                  "unit": "rw3"
                },
                {
                  "avg_capacity": 2.007697896553102,
                  "avg_current": -0.07,
                  "avg_temperature": 20.48766,
                  "avg_voltage": 4.2,
                  "datetime": "2020-01-01 02:02:20",
                  "min_cycle": "734",
                  "unit": "rw3"
                },
                {
                  "avg_capacity": 2.009663791161072,
                  "avg_current": -0.07,
                  "avg_temperature": 20.48766,
                  "avg_voltage": 4.2,
                  "datetime": "2020-01-01 02:02:30",
                  "min_cycle": "735",
                  "unit": "rw3"
                },
                {
                  "avg_capacity": 2.0094996883104272,
                  "avg_current": -0.07,
                  "avg_temperature": 20.48766,
                  "avg_voltage": 4.2,
                  "datetime": "2020-01-01 02:02:40",
                  "min_cycle": "736",
                  "unit": "rw3"
                },
                {
                  "avg_capacity": 2.0088821398344354,
                  "avg_current": -0.07,
                  "avg_temperature": 20.47209,
                  "avg_voltage": 4.2,
                  "datetime": "2020-01-01 02:02:50",
                  "min_cycle": "737",
                  "unit": "rw3"
                },
                {
                  "avg_capacity": 2.010597529853241,
                  "avg_current": -0.07,
                  "avg_temperature": 20.48766,
                  "avg_voltage": 4.2,
                  "datetime": "2020-01-01 02:03:00",
                  "min_cycle": "738",
                  "unit": "rw3"
                },
                {
                  "avg_capacity": 2.0081797586545225,
                  "avg_current": -0.07,
                  "avg_temperature": 20.48766,
                  "avg_voltage": 4.2,
                  "datetime": "2020-01-01 02:03:10",
                  "min_cycle": "739",
                  "unit": "rw3"
                },
                {
                  "avg_capacity": 2.0076736725084112,
                  "avg_current": -0.07,
                  "avg_temperature": 20.48766,
                  "avg_voltage": 4.2,
                  "datetime": "2020-01-01 02:03:20",
                  "min_cycle": "740",
                  "unit": "rw3"
                },
                {
                  "avg_capacity": 2.0097853093503137,
                  "avg_current": -0.069,
                  "avg_temperature": 20.48766,
                  "avg_voltage": 4.2,
                  "datetime": "2020-01-01 02:03:30",
                  "min_cycle": "741",
                  "unit": "rw3"
                },
                {
                  "avg_capacity": 2.011525557466296,
                  "avg_current": -0.069,
                  "avg_temperature": 20.48766,
                  "avg_voltage": 4.2,
                  "datetime": "2020-01-01 02:03:40",
                  "min_cycle": "742",
                  "unit": "rw3"
                },
                {
                  "avg_capacity": 2.0095226174386367,
                  "avg_current": -0.068,
                  "avg_temperature": 20.48766,
                  "avg_voltage": 4.2,
                  "datetime": "2020-01-01 02:03:50",
                  "min_cycle": "743",
                  "unit": "rw3"
                },
                {
                  "avg_capacity": 2.0075670882197136,
                  "avg_current": -0.068,
                  "avg_temperature": 20.48766,
                  "avg_voltage": 4.2,
                  "datetime": "2020-01-01 02:04:00",
                  "min_cycle": "744",
                  "unit": "rw3"
                },
                {
                  "avg_capacity": 2.0071714416716593,
                  "avg_current": -0.067,
                  "avg_temperature": 20.50323,
                  "avg_voltage": 4.2,
                  "datetime": "2020-01-01 02:04:10",
                  "min_cycle": "745",
                  "unit": "rw3"
                },
                {
                  "avg_capacity": 2.0097972271855795,
                  "avg_current": -0.066,
                  "avg_temperature": 20.50323,
                  "avg_voltage": 4.2,
                  "datetime": "2020-01-01 02:04:20",
                  "min_cycle": "746",
                  "unit": "rw3"
                },
                {
                  "avg_capacity": 2.0112919572585506,
                  "avg_current": -0.067,
                  "avg_temperature": 20.48766,
                  "avg_voltage": 4.2,
                  "datetime": "2020-01-01 02:04:30",
                  "min_cycle": "747",
                  "unit": "rw3"
                },
                {
                  "avg_capacity": 2.008813844114276,
                  "avg_current": -0.066,
                  "avg_temperature": 20.48766,
                  "avg_voltage": 4.2,
                  "datetime": "2020-01-01 02:04:40",
                  "min_cycle": "748",
                  "unit": "rw3"
                },
                {
                  "avg_capacity": 2.008932329555188,
                  "avg_current": -0.067,
                  "avg_temperature": 20.50323,
                  "avg_voltage": 4.2,
                  "datetime": "2020-01-01 02:04:50",
                  "min_cycle": "749",
                  "unit": "rw3"
                },
                {
                  "avg_capacity": 2.0080524803921325,
                  "avg_current": -0.065,
                  "avg_temperature": 20.50323,
                  "avg_voltage": 4.2,
                  "datetime": "2020-01-01 02:05:00",
                  "min_cycle": "750",
                  "unit": "rw3"
                },
                {
                  "avg_capacity": 2.007664581504942,
                  "avg_current": -0.066,
                  "avg_temperature": 20.50323,
                  "avg_voltage": 4.2,
                  "datetime": "2020-01-01 02:05:10",
                  "min_cycle": "751",
                  "unit": "rw3"
                },
                {
                  "avg_capacity": 2.0096250310180386,
                  "avg_current": -0.065,
                  "avg_temperature": 20.51881,
                  "avg_voltage": 4.2,
                  "datetime": "2020-01-01 02:05:20",
                  "min_cycle": "752",
                  "unit": "rw3"
                },
                {
                  "avg_capacity": 2.0091646102899348,
                  "avg_current": -0.063,
                  "avg_temperature": 20.53438,
                  "avg_voltage": 4.2,
                  "datetime": "2020-01-01 02:05:30",
                  "min_cycle": "753",
                  "unit": "rw3"
                },
                {
                  "avg_capacity": 2.0096848646811747,
                  "avg_current": -0.064,
                  "avg_temperature": 20.51881,
                  "avg_voltage": 4.2,
                  "datetime": "2020-01-01 02:05:40",
                  "min_cycle": "754",
                  "unit": "rw3"
                },
                {
                  "avg_capacity": 2.009389193323796,
                  "avg_current": -0.064,
                  "avg_temperature": 20.50323,
                  "avg_voltage": 4.2,
                  "datetime": "2020-01-01 02:05:50",
                  "min_cycle": "755",
                  "unit": "rw3"
                },
                {
                  "avg_capacity": 2.0083807915484955,
                  "avg_current": -0.063,
                  "avg_temperature": 20.51881,
                  "avg_voltage": 4.2,
                  "datetime": "2020-01-01 02:06:00",
                  "min_cycle": "756",
                  "unit": "rw3"
                },
                {
                  "avg_capacity": 2.0084695302791378,
                  "avg_current": -0.063,
                  "avg_temperature": 20.50323,
                  "avg_voltage": 4.2,
                  "datetime": "2020-01-01 02:06:10",
                  "min_cycle": "757",
                  "unit": "rw3"
                },
                {
                  "avg_capacity": 2.0111931252173396,
                  "avg_current": -0.064,
                  "avg_temperature": 20.51881,
                  "avg_voltage": 4.2,
                  "datetime": "2020-01-01 02:06:20",
                  "min_cycle": "758",
                  "unit": "rw3"
                },
                {
                  "avg_capacity": 2.0108758650099143,
                  "avg_current": -0.062,
                  "avg_temperature": 20.50323,
                  "avg_voltage": 4.2,
                  "datetime": "2020-01-01 02:06:30",
                  "min_cycle": "759",
                  "unit": "rw3"
                },
                {
                  "avg_capacity": 2.0072872952036436,
                  "avg_current": -0.063,
                  "avg_temperature": 20.51881,
                  "avg_voltage": 4.2,
                  "datetime": "2020-01-01 02:06:40",
                  "min_cycle": "760",
                  "unit": "rw3"
                },
                {
                  "avg_capacity": 2.0073420432897304,
                  "avg_current": -0.062,
                  "avg_temperature": 20.51881,
                  "avg_voltage": 4.2,
                  "datetime": "2020-01-01 02:06:50",
                  "min_cycle": "761",
                  "unit": "rw3"
                },
                {
                  "avg_capacity": 2.0099797048285764,
                  "avg_current": -0.061,
                  "avg_temperature": 20.51881,
                  "avg_voltage": 4.2,
                  "datetime": "2020-01-01 02:07:00",
                  "min_cycle": "762",
                  "unit": "rw3"
                },
                {
                  "avg_capacity": 2.0103971593341283,
                  "avg_current": -0.062,
                  "avg_temperature": 20.51881,
                  "avg_voltage": 4.2,
                  "datetime": "2020-01-01 02:07:10",
                  "min_cycle": "763",
                  "unit": "rw3"
                },
                {
                  "avg_capacity": 2.010382519822615,
                  "avg_current": -0.061,
                  "avg_temperature": 20.53438,
                  "avg_voltage": 4.2,
                  "datetime": "2020-01-01 02:07:20",
                  "min_cycle": "764",
                  "unit": "rw3"
                },
                {
                  "avg_capacity": 2.0094839466057337,
                  "avg_current": -0.061,
                  "avg_temperature": 20.53438,
                  "avg_voltage": 4.2,
                  "datetime": "2020-01-01 02:07:30",
                  "min_cycle": "765",
                  "unit": "rw3"
                },
                {
                  "avg_capacity": 2.009191258350813,
                  "avg_current": -0.061,
                  "avg_temperature": 20.53438,
                  "avg_voltage": 4.2,
                  "datetime": "2020-01-01 02:07:40",
                  "min_cycle": "766",
                  "unit": "rw3"
                },
                {
                  "avg_capacity": 2.0074801013636874,
                  "avg_current": -0.061,
                  "avg_temperature": 20.53438,
                  "avg_voltage": 4.2,
                  "datetime": "2020-01-01 02:07:50",
                  "min_cycle": "767",
                  "unit": "rw3"
                },
                {
                  "avg_capacity": 2.0088417774485494,
                  "avg_current": -0.06,
                  "avg_temperature": 20.54996,
                  "avg_voltage": 4.2,
                  "datetime": "2020-01-01 02:08:00",
                  "min_cycle": "768",
                  "unit": "rw3"
                },
                {
                  "avg_capacity": 2.0091524948188213,
                  "avg_current": -0.06,
                  "avg_temperature": 20.54996,
                  "avg_voltage": 4.2,
                  "datetime": "2020-01-01 02:08:10",
                  "min_cycle": "769",
                  "unit": "rw3"
                },
                {
                  "avg_capacity": 2.010250885698018,
                  "avg_current": -0.059,
                  "avg_temperature": 20.53438,
                  "avg_voltage": 4.2,
                  "datetime": "2020-01-01 02:08:20",
                  "min_cycle": "770",
                  "unit": "rw3"
                },
                {
                  "avg_capacity": 2.009208761827397,
                  "avg_current": -0.059,
                  "avg_temperature": 20.54996,
                  "avg_voltage": 4.2,
                  "datetime": "2020-01-01 02:08:30",
                  "min_cycle": "771",
                  "unit": "rw3"
                },
                {
                  "avg_capacity": 2.008361485285364,
                  "avg_current": -0.059,
                  "avg_temperature": 20.53438,
                  "avg_voltage": 4.2,
                  "datetime": "2020-01-01 02:08:40",
                  "min_cycle": "772",
                  "unit": "rw3"
                },
                {
                  "avg_capacity": 2.0100421084304556,
                  "avg_current": -0.059,
                  "avg_temperature": 20.51881,
                  "avg_voltage": 4.2,
                  "datetime": "2020-01-01 02:08:50",
                  "min_cycle": "773",
                  "unit": "rw3"
                },
                {
                  "avg_capacity": 2.0091412645874183,
                  "avg_current": -0.059,
                  "avg_temperature": 20.50323,
                  "avg_voltage": 4.2,
                  "datetime": "2020-01-01 02:09:00",
                  "min_cycle": "774",
                  "unit": "rw3"
                },
                {
                  "avg_capacity": 2.008312031409589,
                  "avg_current": -0.058,
                  "avg_temperature": 20.51881,
                  "avg_voltage": 4.2,
                  "datetime": "2020-01-01 02:09:10",
                  "min_cycle": "775",
                  "unit": "rw3"
                },
                {
                  "avg_capacity": 2.0087605578836474,
                  "avg_current": -0.057,
                  "avg_temperature": 20.50323,
                  "avg_voltage": 4.2,
                  "datetime": "2020-01-01 02:09:20",
                  "min_cycle": "776",
                  "unit": "rw3"
                },
                {
                  "avg_capacity": 2.0086492560992064,
                  "avg_current": -0.056,
                  "avg_temperature": 20.48766,
                  "avg_voltage": 4.2,
                  "datetime": "2020-01-01 02:09:30",
                  "min_cycle": "777",
                  "unit": "rw3"
                },
                {
                  "avg_capacity": 2.0067955832346613,
                  "avg_current": -0.056,
                  "avg_temperature": 20.48766,
                  "avg_voltage": 4.2,
                  "datetime": "2020-01-01 02:09:40",
                  "min_cycle": "778",
                  "unit": "rw3"
                },
                {
                  "avg_capacity": 2.008565438272673,
                  "avg_current": -0.057,
                  "avg_temperature": 20.48766,
                  "avg_voltage": 4.2,
                  "datetime": "2020-01-01 02:09:50",
                  "min_cycle": "779",
                  "unit": "rw3"
                },
                {
                  "avg_capacity": 2.0091837651840394,
                  "avg_current": -0.056,
                  "avg_temperature": 20.47209,
                  "avg_voltage": 4.2,
                  "datetime": "2020-01-01 02:10:00",
                  "min_cycle": "780",
                  "unit": "rw3"
                },
                {
                  "avg_capacity": 2.010836056794866,
                  "avg_current": -0.055,
                  "avg_temperature": 20.45652,
                  "avg_voltage": 4.2,
                  "datetime": "2020-01-01 02:10:10",
                  "min_cycle": "781",
                  "unit": "rw3"
                },
                {
                  "avg_capacity": 2.0104605272686706,
                  "avg_current": -0.054,
                  "avg_temperature": 20.45652,
                  "avg_voltage": 4.2,
                  "datetime": "2020-01-01 02:10:20",
                  "min_cycle": "782",
                  "unit": "rw3"
                },
                {
                  "avg_capacity": 2.0084542490610606,
                  "avg_current": -0.056,
                  "avg_temperature": 20.45652,
                  "avg_voltage": 4.2,
                  "datetime": "2020-01-01 02:10:30",
                  "min_cycle": "783",
                  "unit": "rw3"
                },
                {
                  "avg_capacity": 2.008747382883834,
                  "avg_current": -0.055,
                  "avg_temperature": 20.47209,
                  "avg_voltage": 4.2,
                  "datetime": "2020-01-01 02:10:40",
                  "min_cycle": "784",
                  "unit": "rw3"
                },
                {
                  "avg_capacity": 2.010366645153995,
                  "avg_current": -0.055,
                  "avg_temperature": 20.45652,
                  "avg_voltage": 4.2,
                  "datetime": "2020-01-01 02:10:50",
                  "min_cycle": "785",
                  "unit": "rw3"
                },
                {
                  "avg_capacity": 2.0091471691469964,
                  "avg_current": -0.054,
                  "avg_temperature": 20.45652,
                  "avg_voltage": 4.2,
                  "datetime": "2020-01-01 02:11:00",
                  "min_cycle": "786",
                  "unit": "rw3"
                },
                {
                  "avg_capacity": 2.009739392161647,
                  "avg_current": -0.053,
                  "avg_temperature": 20.47209,
                  "avg_voltage": 4.2,
                  "datetime": "2020-01-01 02:11:10",
                  "min_cycle": "787",
                  "unit": "rw3"
                },
                {
                  "avg_capacity": 2.009091008962041,
                  "avg_current": -0.054,
                  "avg_temperature": 20.45652,
                  "avg_voltage": 4.2,
                  "datetime": "2020-01-01 02:11:20",
                  "min_cycle": "788",
                  "unit": "rw3"
                },
                {
                  "avg_capacity": 2.006908385492588,
                  "avg_current": -0.055,
                  "avg_temperature": 20.45652,
                  "avg_voltage": 4.2,
                  "datetime": "2020-01-01 02:11:30",
                  "min_cycle": "789",
                  "unit": "rw3"
                },
                {
                  "avg_capacity": 2.007997660874725,
                  "avg_current": -0.053,
                  "avg_temperature": 20.45652,
                  "avg_voltage": 4.2,
                  "datetime": "2020-01-01 02:11:40",
                  "min_cycle": "790",
                  "unit": "rw3"
                },
                {
                  "avg_capacity": 2.0080332069070126,
                  "avg_current": -0.053,
                  "avg_temperature": 20.45652,
                  "avg_voltage": 4.2,
                  "datetime": "2020-01-01 02:11:50",
                  "min_cycle": "791",
                  "unit": "rw3"
                },
                {
                  "avg_capacity": 2.0083025368521707,
                  "avg_current": -0.052,
                  "avg_temperature": 20.45652,
                  "avg_voltage": 4.2,
                  "datetime": "2020-01-01 02:12:00",
                  "min_cycle": "792",
                  "unit": "rw3"
                },
                {
                  "avg_capacity": 2.0087616597227718,
                  "avg_current": -0.052,
                  "avg_temperature": 20.45652,
                  "avg_voltage": 4.2,
                  "datetime": "2020-01-01 02:12:10",
                  "min_cycle": "793",
                  "unit": "rw3"
                },
                {
                  "avg_capacity": 2.0088724888332217,
                  "avg_current": -0.053,
                  "avg_temperature": 20.45652,
                  "avg_voltage": 4.2,
                  "datetime": "2020-01-01 02:12:20",
                  "min_cycle": "794",
                  "unit": "rw3"
                },
                {
                  "avg_capacity": 2.0084724734149604,
                  "avg_current": -0.052,
                  "avg_temperature": 20.45652,
                  "avg_voltage": 4.2,
                  "datetime": "2020-01-01 02:12:30",
                  "min_cycle": "795",
                  "unit": "rw3"
                },
                {
                  "avg_capacity": 2.0078147902420693,
                  "avg_current": -0.053,
                  "avg_temperature": 20.47209,
                  "avg_voltage": 4.2,
                  "datetime": "2020-01-01 02:12:40",
                  "min_cycle": "796",
                  "unit": "rw3"
                },
                {
                  "avg_capacity": 2.008008423520757,
                  "avg_current": -0.052,
                  "avg_temperature": 20.47209,
                  "avg_voltage": 4.2,
                  "datetime": "2020-01-01 02:12:50",
                  "min_cycle": "797",
                  "unit": "rw3"
                },
                {
                  "avg_capacity": 2.0076493245684874,
                  "avg_current": -0.051,
                  "avg_temperature": 20.47209,
                  "avg_voltage": 4.2,
                  "datetime": "2020-01-01 02:13:00",
                  "min_cycle": "798",
                  "unit": "rw3"
                },
                {
                  "avg_capacity": 2.0089128807510725,
                  "avg_current": -0.052,
                  "avg_temperature": 20.47209,
                  "avg_voltage": 4.2,
                  "datetime": "2020-01-01 02:13:10",
                  "min_cycle": "799",
                  "unit": "rw3"
                },
                {
                  "avg_capacity": 2.007841656624127,
                  "avg_current": -0.051,
                  "avg_temperature": 20.48766,
                  "avg_voltage": 4.2,
                  "datetime": "2020-01-01 02:13:20",
                  "min_cycle": "800",
                  "unit": "rw3"
                },
                {
                  "avg_capacity": 2.0083577306953977,
                  "avg_current": -0.052,
                  "avg_temperature": 20.48766,
                  "avg_voltage": 4.2,
                  "datetime": "2020-01-01 02:13:30",
                  "min_cycle": "801",
                  "unit": "rw3"
                },
                {
                  "avg_capacity": 2.00858594766052,
                  "avg_current": -0.05,
                  "avg_temperature": 20.47209,
                  "avg_voltage": 4.2,
                  "datetime": "2020-01-01 02:13:40",
                  "min_cycle": "802",
                  "unit": "rw3"
                },
                {
                  "avg_capacity": 2.0099061990180984,
                  "avg_current": -0.049,
                  "avg_temperature": 20.47209,
                  "avg_voltage": 4.2,
                  "datetime": "2020-01-01 02:13:50",
                  "min_cycle": "803",
                  "unit": "rw3"
                },
                {
                  "avg_capacity": 2.0084270092523995,
                  "avg_current": -0.049,
                  "avg_temperature": 20.48766,
                  "avg_voltage": 4.2,
                  "datetime": "2020-01-01 02:14:00",
                  "min_cycle": "804",
                  "unit": "rw3"
                },
                {
                  "avg_capacity": 2.0096293259051023,
                  "avg_current": -0.05,
                  "avg_temperature": 20.48766,
                  "avg_voltage": 4.2,
                  "datetime": "2020-01-01 02:14:10",
                  "min_cycle": "805",
                  "unit": "rw3"
                },
                {
                  "avg_capacity": 2.009388317926597,
                  "avg_current": -0.049,
                  "avg_temperature": 20.50323,
                  "avg_voltage": 4.2,
                  "datetime": "2020-01-01 02:14:20",
                  "min_cycle": "806",
                  "unit": "rw3"
                },
                {
                  "avg_capacity": 2.00955533067574,
                  "avg_current": -0.049,
                  "avg_temperature": 20.48766,
                  "avg_voltage": 4.2,
                  "datetime": "2020-01-01 02:14:30",
                  "min_cycle": "807",
                  "unit": "rw3"
                },
                {
                  "avg_capacity": 2.011465652616365,
                  "avg_current": -0.049,
                  "avg_temperature": 20.48766,
                  "avg_voltage": 4.2,
                  "datetime": "2020-01-01 02:14:40",
                  "min_cycle": "808",
                  "unit": "rw3"
                },
                {
                  "avg_capacity": 2.0075591579198546,
                  "avg_current": -0.049,
                  "avg_temperature": 20.48766,
                  "avg_voltage": 4.2,
                  "datetime": "2020-01-01 02:14:50",
                  "min_cycle": "809",
                  "unit": "rw3"
                },
                {
                  "avg_capacity": 2.009041347228354,
                  "avg_current": -0.048,
                  "avg_temperature": 20.50323,
                  "avg_voltage": 4.2,
                  "datetime": "2020-01-01 02:15:00",
                  "min_cycle": "810",
                  "unit": "rw3"
                },
                {
                  "avg_capacity": 2.009413585642332,
                  "avg_current": -0.048,
                  "avg_temperature": 20.51881,
                  "avg_voltage": 4.2,
                  "datetime": "2020-01-01 02:15:10",
                  "min_cycle": "811",
                  "unit": "rw3"
                },
                {
                  "avg_capacity": 2.008294979466867,
                  "avg_current": -0.049,
                  "avg_temperature": 20.50323,
                  "avg_voltage": 4.2,
                  "datetime": "2020-01-01 02:15:20",
                  "min_cycle": "812",
                  "unit": "rw3"
                },
                {
                  "avg_capacity": 2.0071084832114447,
                  "avg_current": -0.048,
                  "avg_temperature": 20.50323,
                  "avg_voltage": 4.2,
                  "datetime": "2020-01-01 02:15:30",
                  "min_cycle": "813",
                  "unit": "rw3"
                },
                {
                  "avg_capacity": 2.0094623090353436,
                  "avg_current": -0.047,
                  "avg_temperature": 20.50323,
                  "avg_voltage": 4.2,
                  "datetime": "2020-01-01 02:15:40",
                  "min_cycle": "814",
                  "unit": "rw3"
                },
                {
                  "avg_capacity": 2.0075908675065035,
                  "avg_current": -0.047,
                  "avg_temperature": 20.50323,
                  "avg_voltage": 4.2,
                  "datetime": "2020-01-01 02:15:50",
                  "min_cycle": "815",
                  "unit": "rw3"
                },
                {
                  "avg_capacity": 2.0076220512267073,
                  "avg_current": -0.048,
                  "avg_temperature": 20.50323,
                  "avg_voltage": 4.2,
                  "datetime": "2020-01-01 02:16:00",
                  "min_cycle": "816",
                  "unit": "rw3"
                },
                {
                  "avg_capacity": 2.008792410733008,
                  "avg_current": -0.047,
                  "avg_temperature": 20.51881,
                  "avg_voltage": 4.2,
                  "datetime": "2020-01-01 02:16:10",
                  "min_cycle": "817",
                  "unit": "rw3"
                },
                {
                  "avg_capacity": 2.0090880066198347,
                  "avg_current": -0.048,
                  "avg_temperature": 20.50323,
                  "avg_voltage": 4.2,
                  "datetime": "2020-01-01 02:16:20",
                  "min_cycle": "818",
                  "unit": "rw3"
                },
                {
                  "avg_capacity": 2.0095139347848208,
                  "avg_current": -0.046,
                  "avg_temperature": 20.50323,
                  "avg_voltage": 4.2,
                  "datetime": "2020-01-01 02:16:30",
                  "min_cycle": "819",
                  "unit": "rw3"
                },
                {
                  "avg_capacity": 2.0088058202871024,
                  "avg_current": -0.046,
                  "avg_temperature": 20.50323,
                  "avg_voltage": 4.2,
                  "datetime": "2020-01-01 02:16:40",
                  "min_cycle": "820",
                  "unit": "rw3"
                },
                {
                  "avg_capacity": 2.010484986844172,
                  "avg_current": -0.047,
                  "avg_temperature": 20.50323,
                  "avg_voltage": 4.2,
                  "datetime": "2020-01-01 02:16:50",
                  "min_cycle": "821",
                  "unit": "rw3"
                },
                {
                  "avg_capacity": 2.0087273847091347,
                  "avg_current": -0.045,
                  "avg_temperature": 20.48766,
                  "avg_voltage": 4.2,
                  "datetime": "2020-01-01 02:17:00",
                  "min_cycle": "822",
                  "unit": "rw3"
                },
                {
                  "avg_capacity": 2.0105595189996404,
                  "avg_current": -0.047,
                  "avg_temperature": 20.50323,
                  "avg_voltage": 4.2,
                  "datetime": "2020-01-01 02:17:10",
                  "min_cycle": "823",
                  "unit": "rw3"
                },
                {
                  "avg_capacity": 2.0095956516932785,
                  "avg_current": -0.045,
                  "avg_temperature": 20.50323,
                  "avg_voltage": 4.2,
                  "datetime": "2020-01-01 02:17:20",
                  "min_cycle": "824",
                  "unit": "rw3"
                },
                {
                  "avg_capacity": 2.0082566863243976,
                  "avg_current": -0.045,
                  "avg_temperature": 20.51881,
                  "avg_voltage": 4.2,
                  "datetime": "2020-01-01 02:17:30",
                  "min_cycle": "825",
                  "unit": "rw3"
                },
                {
                  "avg_capacity": 2.0115896226892587,
                  "avg_current": -0.045,
                  "avg_temperature": 20.51881,
                  "avg_voltage": 4.2,
                  "datetime": "2020-01-01 02:17:40",
                  "min_cycle": "826",
                  "unit": "rw3"
                },
                {
                  "avg_capacity": 2.0077107817057898,
                  "avg_current": -0.044,
                  "avg_temperature": 20.53438,
                  "avg_voltage": 4.2,
                  "datetime": "2020-01-01 02:17:50",
                  "min_cycle": "827",
                  "unit": "rw3"
                },
                {
                  "avg_capacity": 2.0098831034728653,
                  "avg_current": -0.045,
                  "avg_temperature": 20.51881,
                  "avg_voltage": 4.2,
                  "datetime": "2020-01-01 02:18:00",
                  "min_cycle": "828",
                  "unit": "rw3"
                },
                {
                  "avg_capacity": 2.0085932046203623,
                  "avg_current": -0.045,
                  "avg_temperature": 20.51881,
                  "avg_voltage": 4.2,
                  "datetime": "2020-01-01 02:18:10",
                  "min_cycle": "829",
                  "unit": "rw3"
                },
                {
                  "avg_capacity": 2.007640478355573,
                  "avg_current": -0.044,
                  "avg_temperature": 20.51881,
                  "avg_voltage": 4.2,
                  "datetime": "2020-01-01 02:18:20",
                  "min_cycle": "830",
                  "unit": "rw3"
                },
                {
                  "avg_capacity": 2.0101087464418623,
                  "avg_current": -0.044,
                  "avg_temperature": 20.51881,
                  "avg_voltage": 4.2,
                  "datetime": "2020-01-01 02:18:30",
                  "min_cycle": "831",
                  "unit": "rw3"
                },
                {
                  "avg_capacity": 2.009289324878318,
                  "avg_current": -0.045,
                  "avg_temperature": 20.51881,
                  "avg_voltage": 4.2,
                  "datetime": "2020-01-01 02:18:40",
                  "min_cycle": "832",
                  "unit": "rw3"
                },
                {
                  "avg_capacity": 2.0082862390515395,
                  "avg_current": -0.043,
                  "avg_temperature": 20.51881,
                  "avg_voltage": 4.2,
                  "datetime": "2020-01-01 02:18:50",
                  "min_cycle": "833",
                  "unit": "rw3"
                },
                {
                  "avg_capacity": 2.008730628279743,
                  "avg_current": -0.044,
                  "avg_temperature": 20.53438,
                  "avg_voltage": 4.2,
                  "datetime": "2020-01-01 02:19:00",
                  "min_cycle": "834",
                  "unit": "rw3"
                },
                {
                  "avg_capacity": 2.009914573955919,
                  "avg_current": -0.044,
                  "avg_temperature": 20.51881,
                  "avg_voltage": 4.2,
                  "datetime": "2020-01-01 02:19:10",
                  "min_cycle": "835",
                  "unit": "rw3"
                },
                {
                  "avg_capacity": 2.0088979429853286,
                  "avg_current": -0.042,
                  "avg_temperature": 20.53438,
                  "avg_voltage": 4.2,
                  "datetime": "2020-01-01 02:19:20",
                  "min_cycle": "836",
                  "unit": "rw3"
                },
                {
                  "avg_capacity": 2.0064160348466022,
                  "avg_current": -0.042,
                  "avg_temperature": 20.53438,
                  "avg_voltage": 4.2,
                  "datetime": "2020-01-01 02:19:30",
                  "min_cycle": "837",
                  "unit": "rw3"
                },
                {
                  "avg_capacity": 2.008600353381467,
                  "avg_current": -0.042,
                  "avg_temperature": 20.53438,
                  "avg_voltage": 4.2,
                  "datetime": "2020-01-01 02:19:40",
                  "min_cycle": "838",
                  "unit": "rw3"
                },
                {
                  "avg_capacity": 2.0090648948272554,
                  "avg_current": -0.042,
                  "avg_temperature": 20.53438,
                  "avg_voltage": 4.2,
                  "datetime": "2020-01-01 02:19:50",
                  "min_cycle": "839",
                  "unit": "rw3"
                },
                {
                  "avg_capacity": 2.010440544119417,
                  "avg_current": -0.042,
                  "avg_temperature": 20.51881,
                  "avg_voltage": 4.2,
                  "datetime": "2020-01-01 02:20:00",
                  "min_cycle": "840",
                  "unit": "rw3"
                },
                {
                  "avg_capacity": 2.007855579549217,
                  "avg_current": -0.043,
                  "avg_temperature": 20.51881,
                  "avg_voltage": 4.2,
                  "datetime": "2020-01-01 02:20:10",
                  "min_cycle": "841",
                  "unit": "rw3"
                },
                {
                  "avg_capacity": 2.008855630076914,
                  "avg_current": -0.041,
                  "avg_temperature": 20.51881,
                  "avg_voltage": 4.2,
                  "datetime": "2020-01-01 02:20:20",
                  "min_cycle": "842",
                  "unit": "rw3"
                },
                {
                  "avg_capacity": 2.0074467013971025,
                  "avg_current": -0.041,
                  "avg_temperature": 20.51881,
                  "avg_voltage": 4.2,
                  "datetime": "2020-01-01 02:20:30",
                  "min_cycle": "843",
                  "unit": "rw3"
                },
                {
                  "avg_capacity": 2.010288893354273,
                  "avg_current": -0.04,
                  "avg_temperature": 20.51881,
                  "avg_voltage": 4.2,
                  "datetime": "2020-01-01 02:20:40",
                  "min_cycle": "844",
                  "unit": "rw3"
                },
                {
                  "avg_capacity": 2.0082007184418305,
                  "avg_current": -0.041,
                  "avg_temperature": 20.51881,
                  "avg_voltage": 4.2,
                  "datetime": "2020-01-01 02:20:50",
                  "min_cycle": "845",
                  "unit": "rw3"
                },
                {
                  "avg_capacity": 2.007552949881195,
                  "avg_current": -0.041,
                  "avg_temperature": 20.51881,
                  "avg_voltage": 4.2,
                  "datetime": "2020-01-01 02:21:00",
                  "min_cycle": "846",
                  "unit": "rw3"
                },
                {
                  "avg_capacity": 2.007555068251566,
                  "avg_current": -0.041,
                  "avg_temperature": 20.51881,
                  "avg_voltage": 4.2,
                  "datetime": "2020-01-01 02:21:10",
                  "min_cycle": "847",
                  "unit": "rw3"
                },
                {
                  "avg_capacity": 2.0105014836917348,
                  "avg_current": -0.039,
                  "avg_temperature": 20.51881,
                  "avg_voltage": 4.2,
                  "datetime": "2020-01-01 02:21:20",
                  "min_cycle": "848",
                  "unit": "rw3"
                },
                {
                  "avg_capacity": 2.008750475194084,
                  "avg_current": -0.041,
                  "avg_temperature": 20.50323,
                  "avg_voltage": 4.2,
                  "datetime": "2020-01-01 02:21:30",
                  "min_cycle": "849",
                  "unit": "rw3"
                },
                {
                  "avg_capacity": 2.008603224286771,
                  "avg_current": -0.04,
                  "avg_temperature": 20.51881,
                  "avg_voltage": 4.2,
                  "datetime": "2020-01-01 02:21:40",
                  "min_cycle": "850",
                  "unit": "rw3"
                },
                {
                  "avg_capacity": 2.0089993107096076,
                  "avg_current": -0.04,
                  "avg_temperature": 20.50323,
                  "avg_voltage": 4.2,
                  "datetime": "2020-01-01 02:21:50",
                  "min_cycle": "851",
                  "unit": "rw3"
                },
                {
                  "avg_capacity": 2.010685860621734,
                  "avg_current": -0.039,
                  "avg_temperature": 20.51881,
                  "avg_voltage": 4.2,
                  "datetime": "2020-01-01 02:22:00",
                  "min_cycle": "852",
                  "unit": "rw3"
                },
                {
                  "avg_capacity": 2.008210133205946,
                  "avg_current": -0.038,
                  "avg_temperature": 20.51881,
                  "avg_voltage": 4.2,
                  "datetime": "2020-01-01 02:22:10",
                  "min_cycle": "853",
                  "unit": "rw3"
                },
                {
                  "avg_capacity": 2.006957547961036,
                  "avg_current": -0.039,
                  "avg_temperature": 20.51881,
                  "avg_voltage": 4.2,
                  "datetime": "2020-01-01 02:22:20",
                  "min_cycle": "854",
                  "unit": "rw3"
                },
                {
                  "avg_capacity": 2.0112785563265523,
                  "avg_current": -0.039,
                  "avg_temperature": 20.51881,
                  "avg_voltage": 4.2,
                  "datetime": "2020-01-01 02:22:30",
                  "min_cycle": "855",
                  "unit": "rw3"
                },
                {
                  "avg_capacity": 2.0083207543740813,
                  "avg_current": -0.039,
                  "avg_temperature": 20.51881,
                  "avg_voltage": 4.2,
                  "datetime": "2020-01-01 02:22:40",
                  "min_cycle": "856",
                  "unit": "rw3"
                },
                {
                  "avg_capacity": 2.007801053467411,
                  "avg_current": -0.039,
                  "avg_temperature": 20.51881,
                  "avg_voltage": 4.2,
                  "datetime": "2020-01-01 02:22:50",
                  "min_cycle": "857",
                  "unit": "rw3"
                },
                {
                  "avg_capacity": 2.0095926745517643,
                  "avg_current": -0.038,
                  "avg_temperature": 20.51881,
                  "avg_voltage": 4.2,
                  "datetime": "2020-01-01 02:23:00",
                  "min_cycle": "858",
                  "unit": "rw3"
                },
                {
                  "avg_capacity": 2.009391879470536,
                  "avg_current": -0.038,
                  "avg_temperature": 20.51881,
                  "avg_voltage": 4.2,
                  "datetime": "2020-01-01 02:23:10",
                  "min_cycle": "859",
                  "unit": "rw3"
                },
                {
                  "avg_capacity": 2.008149296471317,
                  "avg_current": -0.038,
                  "avg_temperature": 20.51881,
                  "avg_voltage": 4.2,
                  "datetime": "2020-01-01 02:23:20",
                  "min_cycle": "860",
                  "unit": "rw3"
                },
                {
                  "avg_capacity": 2.0114560885571815,
                  "avg_current": -0.038,
                  "avg_temperature": 20.51881,
                  "avg_voltage": 4.2,
                  "datetime": "2020-01-01 02:23:30",
                  "min_cycle": "861",
                  "unit": "rw3"
                },
                {
                  "avg_capacity": 2.00921292501551,
                  "avg_current": -0.038,
                  "avg_temperature": 20.53438,
                  "avg_voltage": 4.2,
                  "datetime": "2020-01-01 02:23:40",
                  "min_cycle": "862",
                  "unit": "rw3"
                },
                {
                  "avg_capacity": 2.0088121841018465,
                  "avg_current": -0.038,
                  "avg_temperature": 20.51881,
                  "avg_voltage": 4.2,
                  "datetime": "2020-01-01 02:23:50",
                  "min_cycle": "863",
                  "unit": "rw3"
                },
                {
                  "avg_capacity": 2.0088057067906733,
                  "avg_current": -0.037,
                  "avg_temperature": 20.51881,
                  "avg_voltage": 4.2,
                  "datetime": "2020-01-01 02:24:00",
                  "min_cycle": "864",
                  "unit": "rw3"
                },
                {
                  "avg_capacity": 2.0086079130937353,
                  "avg_current": -0.037,
                  "avg_temperature": 20.51881,
                  "avg_voltage": 4.2,
                  "datetime": "2020-01-01 02:24:10",
                  "min_cycle": "865",
                  "unit": "rw3"
                },
                {
                  "avg_capacity": 2.0075620251393085,
                  "avg_current": -0.038,
                  "avg_temperature": 20.53438,
                  "avg_voltage": 4.2,
                  "datetime": "2020-01-01 02:24:20",
                  "min_cycle": "866",
                  "unit": "rw3"
                },
                {
                  "avg_capacity": 2.0111431146968517,
                  "avg_current": -0.037,
                  "avg_temperature": 20.53438,
                  "avg_voltage": 4.2,
                  "datetime": "2020-01-01 02:24:30",
                  "min_cycle": "867",
                  "unit": "rw3"
                },
                {
                  "avg_capacity": 2.0080830693115828,
                  "avg_current": -0.036,
                  "avg_temperature": 20.53438,
                  "avg_voltage": 4.2,
                  "datetime": "2020-01-01 02:24:40",
                  "min_cycle": "868",
                  "unit": "rw3"
                },
                {
                  "avg_capacity": 2.0069053828887276,
                  "avg_current": -0.035,
                  "avg_temperature": 20.53438,
                  "avg_voltage": 4.2,
                  "datetime": "2020-01-01 02:24:50",
                  "min_cycle": "869",
                  "unit": "rw3"
                },
                {
                  "avg_capacity": 2.007744176631992,
                  "avg_current": -0.037,
                  "avg_temperature": 20.51881,
                  "avg_voltage": 4.2,
                  "datetime": "2020-01-01 02:25:00",
                  "min_cycle": "870",
                  "unit": "rw3"
                },
                {
                  "avg_capacity": 2.0107154583135913,
                  "avg_current": -0.036,
                  "avg_temperature": 20.53438,
                  "avg_voltage": 4.2,
                  "datetime": "2020-01-01 02:25:10",
                  "min_cycle": "871",
                  "unit": "rw3"
                },
                {
                  "avg_capacity": 2.0075019795839513,
                  "avg_current": -0.036,
                  "avg_temperature": 20.53438,
                  "avg_voltage": 4.2,
                  "datetime": "2020-01-01 02:25:20",
                  "min_cycle": "872",
                  "unit": "rw3"
                },
                {
                  "avg_capacity": 2.0100103516160575,
                  "avg_current": -0.035,
                  "avg_temperature": 20.53438,
                  "avg_voltage": 4.2,
                  "datetime": "2020-01-01 02:25:30",
                  "min_cycle": "873",
                  "unit": "rw3"
                },
                {
                  "avg_capacity": 2.008888703864088,
                  "avg_current": -0.035,
                  "avg_temperature": 20.51881,
                  "avg_voltage": 4.2,
                  "datetime": "2020-01-01 02:25:40",
                  "min_cycle": "874",
                  "unit": "rw3"
                },
                {
                  "avg_capacity": 2.009593714530725,
                  "avg_current": -0.035,
                  "avg_temperature": 20.53438,
                  "avg_voltage": 4.2,
                  "datetime": "2020-01-01 02:25:50",
                  "min_cycle": "875",
                  "unit": "rw3"
                },
                {
                  "avg_capacity": 2.0068993336879664,
                  "avg_current": -0.035,
                  "avg_temperature": 20.53438,
                  "avg_voltage": 4.2,
                  "datetime": "2020-01-01 02:26:00",
                  "min_cycle": "876",
                  "unit": "rw3"
                },
                {
                  "avg_capacity": 2.0082744222394053,
                  "avg_current": -0.035,
                  "avg_temperature": 20.51881,
                  "avg_voltage": 4.2,
                  "datetime": "2020-01-01 02:26:10",
                  "min_cycle": "877",
                  "unit": "rw3"
                },
                {
                  "avg_capacity": 2.0098402241240207,
                  "avg_current": -0.036,
                  "avg_temperature": 20.53438,
                  "avg_voltage": 4.2,
                  "datetime": "2020-01-01 02:26:20",
                  "min_cycle": "878",
                  "unit": "rw3"
                },
                {
                  "avg_capacity": 2.0091595699790403,
                  "avg_current": -0.036,
                  "avg_temperature": 20.53438,
                  "avg_voltage": 4.2,
                  "datetime": "2020-01-01 02:26:30",
                  "min_cycle": "879",
                  "unit": "rw3"
                },
                {
                  "avg_capacity": 2.008009084449237,
                  "avg_current": -0.033,
                  "avg_temperature": 20.53438,
                  "avg_voltage": 4.2,
                  "datetime": "2020-01-01 02:26:40",
                  "min_cycle": "880",
                  "unit": "rw3"
                },
                {
                  "avg_capacity": 2.009438148946364,
                  "avg_current": -0.035,
                  "avg_temperature": 20.54996,
                  "avg_voltage": 4.2,
                  "datetime": "2020-01-01 02:26:50",
                  "min_cycle": "881",
                  "unit": "rw3"
                },
                {
                  "avg_capacity": 2.008930207346006,
                  "avg_current": -0.033,
                  "avg_temperature": 20.54996,
                  "avg_voltage": 4.2,
                  "datetime": "2020-01-01 02:27:00",
                  "min_cycle": "882",
                  "unit": "rw3"
                },
                {
                  "avg_capacity": 2.009325289739737,
                  "avg_current": -0.034,
                  "avg_temperature": 20.56553,
                  "avg_voltage": 4.2,
                  "datetime": "2020-01-01 02:27:10",
                  "min_cycle": "883",
                  "unit": "rw3"
                },
                {
                  "avg_capacity": 2.010257602525891,
                  "avg_current": -0.034,
                  "avg_temperature": 20.56553,
                  "avg_voltage": 4.2,
                  "datetime": "2020-01-01 02:27:20",
                  "min_cycle": "884",
                  "unit": "rw3"
                },
                {
                  "avg_capacity": 2.009507163546269,
                  "avg_current": -0.034,
                  "avg_temperature": 20.5811,
                  "avg_voltage": 4.2,
                  "datetime": "2020-01-01 02:27:30",
                  "min_cycle": "885",
                  "unit": "rw3"
                },
                {
                  "avg_capacity": 2.008599545103775,
                  "avg_current": -0.034,
                  "avg_temperature": 20.59667,
                  "avg_voltage": 4.2,
                  "datetime": "2020-01-01 02:27:40",
                  "min_cycle": "886",
                  "unit": "rw3"
                },
                {
                  "avg_capacity": 2.0082077085866232,
                  "avg_current": -0.034,
                  "avg_temperature": 20.59667,
                  "avg_voltage": 4.2,
                  "datetime": "2020-01-01 02:27:50",
                  "min_cycle": "887",
                  "unit": "rw3"
                },
                {
                  "avg_capacity": 2.0084537974059042,
                  "avg_current": -0.034,
                  "avg_temperature": 20.59667,
                  "avg_voltage": 4.2,
                  "datetime": "2020-01-01 02:28:00",
                  "min_cycle": "888",
                  "unit": "rw3"
                },
                {
                  "avg_capacity": 2.0089362648469464,
                  "avg_current": -0.033,
                  "avg_temperature": 20.59667,
                  "avg_voltage": 4.2,
                  "datetime": "2020-01-01 02:28:10",
                  "min_cycle": "889",
                  "unit": "rw3"
                },
                {
                  "avg_capacity": 2.007764271659151,
                  "avg_current": -0.033,
                  "avg_temperature": 20.59667,
                  "avg_voltage": 4.2,
                  "datetime": "2020-01-01 02:28:20",
                  "min_cycle": "890",
                  "unit": "rw3"
                },
                {
                  "avg_capacity": 2.0098722121657104,
                  "avg_current": -0.033,
                  "avg_temperature": 20.61225,
                  "avg_voltage": 4.2,
                  "datetime": "2020-01-01 02:28:30",
                  "min_cycle": "891",
                  "unit": "rw3"
                },
                {
                  "avg_capacity": 2.010265750533428,
                  "avg_current": -0.032,
                  "avg_temperature": 20.59667,
                  "avg_voltage": 4.2,
                  "datetime": "2020-01-01 02:28:40",
                  "min_cycle": "892",
                  "unit": "rw3"
                },
                {
                  "avg_capacity": 2.0083464224306073,
                  "avg_current": -0.032,
                  "avg_temperature": 20.61225,
                  "avg_voltage": 4.2,
                  "datetime": "2020-01-01 02:28:50",
                  "min_cycle": "893",
                  "unit": "rw3"
                },
                {
                  "avg_capacity": 2.0094228785024577,
                  "avg_current": -0.032,
                  "avg_temperature": 20.61225,
                  "avg_voltage": 4.2,
                  "datetime": "2020-01-01 02:29:00",
                  "min_cycle": "894",
                  "unit": "rw3"
                },
                {
                  "avg_capacity": 2.009491372141629,
                  "avg_current": -0.033,
                  "avg_temperature": 20.62782,
                  "avg_voltage": 4.2,
                  "datetime": "2020-01-01 02:29:10",
                  "min_cycle": "895",
                  "unit": "rw3"
                },
                {
                  "avg_capacity": 2.007772074630914,
                  "avg_current": -0.032,
                  "avg_temperature": 20.62782,
                  "avg_voltage": 4.2,
                  "datetime": "2020-01-01 02:29:20",
                  "min_cycle": "896",
                  "unit": "rw3"
                },
                {
                  "avg_capacity": 2.008428099381386,
                  "avg_current": -0.032,
                  "avg_temperature": 20.62782,
                  "avg_voltage": 4.2,
                  "datetime": "2020-01-01 02:29:30",
                  "min_cycle": "897",
                  "unit": "rw3"
                },
                {
                  "avg_capacity": 2.009168082371572,
                  "avg_current": -0.032,
                  "avg_temperature": 20.64339,
                  "avg_voltage": 4.2,
                  "datetime": "2020-01-01 02:29:40",
                  "min_cycle": "898",
                  "unit": "rw3"
                },
                {
                  "avg_capacity": 2.009767807437915,
                  "avg_current": -0.032,
                  "avg_temperature": 20.64339,
                  "avg_voltage": 4.2,
                  "datetime": "2020-01-01 02:29:50",
                  "min_cycle": "899",
                  "unit": "rw3"
                },
                {
                  "avg_capacity": 2.008543793495559,
                  "avg_current": -0.031,
                  "avg_temperature": 20.64339,
                  "avg_voltage": 4.2,
                  "datetime": "2020-01-01 02:30:00",
                  "min_cycle": "900",
                  "unit": "rw3"
                },
                {
                  "avg_capacity": 2.010125966651913,
                  "avg_current": -0.031,
                  "avg_temperature": 20.64339,
                  "avg_voltage": 4.2,
                  "datetime": "2020-01-01 02:30:10",
                  "min_cycle": "901",
                  "unit": "rw3"
                },
                {
                  "avg_capacity": 2.0092997019127563,
                  "avg_current": -0.031,
                  "avg_temperature": 20.64339,
                  "avg_voltage": 4.2,
                  "datetime": "2020-01-01 02:30:20",
                  "min_cycle": "902",
                  "unit": "rw3"
                },
                {
                  "avg_capacity": 2.0091911554507136,
                  "avg_current": -0.031,
                  "avg_temperature": 20.64339,
                  "avg_voltage": 4.2,
                  "datetime": "2020-01-01 02:30:30",
                  "min_cycle": "903",
                  "unit": "rw3"
                },
                {
                  "avg_capacity": 2.0090107105477726,
                  "avg_current": -0.03,
                  "avg_temperature": 20.64339,
                  "avg_voltage": 4.2,
                  "datetime": "2020-01-01 02:30:40",
                  "min_cycle": "904",
                  "unit": "rw3"
                },
                {
                  "avg_capacity": 2.0085952017960573,
                  "avg_current": -0.031,
                  "avg_temperature": 20.65897,
                  "avg_voltage": 4.2,
                  "datetime": "2020-01-01 02:30:50",
                  "min_cycle": "905",
                  "unit": "rw3"
                },
                {
                  "avg_capacity": 2.00803080258952,
                  "avg_current": -0.031,
                  "avg_temperature": 20.65897,
                  "avg_voltage": 4.2,
                  "datetime": "2020-01-01 02:31:00",
                  "min_cycle": "906",
                  "unit": "rw3"
                },
                {
                  "avg_capacity": 2.007411813965609,
                  "avg_current": -0.031,
                  "avg_temperature": 20.65897,
                  "avg_voltage": 4.2,
                  "datetime": "2020-01-01 02:31:10",
                  "min_cycle": "907",
                  "unit": "rw3"
                },
                {
                  "avg_capacity": 2.0078430808803374,
                  "avg_current": -0.031,
                  "avg_temperature": 20.67454,
                  "avg_voltage": 4.2,
                  "datetime": "2020-01-01 02:31:20",
                  "min_cycle": "908",
                  "unit": "rw3"
                },
                {
                  "avg_capacity": 2.0095840400491722,
                  "avg_current": -0.03,
                  "avg_temperature": 20.65897,
                  "avg_voltage": 4.2,
                  "datetime": "2020-01-01 02:31:30",
                  "min_cycle": "909",
                  "unit": "rw3"
                },
                {
                  "avg_capacity": 2.0092206521333558,
                  "avg_current": -0.031,
                  "avg_temperature": 20.65897,
                  "avg_voltage": 4.2,
                  "datetime": "2020-01-01 02:31:40",
                  "min_cycle": "910",
                  "unit": "rw3"
                },
                {
                  "avg_capacity": 2.008034006013759,
                  "avg_current": -0.03,
                  "avg_temperature": 20.65897,
                  "avg_voltage": 4.2,
                  "datetime": "2020-01-01 02:31:50",
                  "min_cycle": "911",
                  "unit": "rw3"
                },
                {
                  "avg_capacity": 2.0077716774328893,
                  "avg_current": -0.03,
                  "avg_temperature": 20.65897,
                  "avg_voltage": 4.2,
                  "datetime": "2020-01-01 02:32:00",
                  "min_cycle": "912",
                  "unit": "rw3"
                },
                {
                  "avg_capacity": 2.009253369637534,
                  "avg_current": -0.03,
                  "avg_temperature": 20.65897,
                  "avg_voltage": 4.2,
                  "datetime": "2020-01-01 02:32:10",
                  "min_cycle": "913",
                  "unit": "rw3"
                },
                {
                  "avg_capacity": 2.010692193445802,
                  "avg_current": -0.03,
                  "avg_temperature": 20.65897,
                  "avg_voltage": 4.2,
                  "datetime": "2020-01-01 02:32:20",
                  "min_cycle": "914",
                  "unit": "rw3"
                },
                {
                  "avg_capacity": 2.007717717811133,
                  "avg_current": -0.03,
                  "avg_temperature": 20.67454,
                  "avg_voltage": 4.2,
                  "datetime": "2020-01-01 02:32:30",
                  "min_cycle": "915",
                  "unit": "rw3"
                },
                {
                  "avg_capacity": 2.0091111528375456,
                  "avg_current": -0.03,
                  "avg_temperature": 20.67454,
                  "avg_voltage": 4.2,
                  "datetime": "2020-01-01 02:32:40",
                  "min_cycle": "916",
                  "unit": "rw3"
                },
                {
                  "avg_capacity": 2.0078691724291047,
                  "avg_current": -0.029,
                  "avg_temperature": 20.65897,
                  "avg_voltage": 4.2,
                  "datetime": "2020-01-01 02:32:50",
                  "min_cycle": "917",
                  "unit": "rw3"
                },
                {
                  "avg_capacity": 2.008253724609212,
                  "avg_current": -0.03,
                  "avg_temperature": 20.65897,
                  "avg_voltage": 4.2,
                  "datetime": "2020-01-01 02:33:00",
                  "min_cycle": "918",
                  "unit": "rw3"
                },
                {
                  "avg_capacity": 2.007531204932452,
                  "avg_current": -0.03,
                  "avg_temperature": 20.65897,
                  "avg_voltage": 4.2,
                  "datetime": "2020-01-01 02:33:10",
                  "min_cycle": "919",
                  "unit": "rw3"
                },
                {
                  "avg_capacity": 2.0086567126298935,
                  "avg_current": -0.028,
                  "avg_temperature": 20.65897,
                  "avg_voltage": 4.2,
                  "datetime": "2020-01-01 02:33:20",
                  "min_cycle": "920",
                  "unit": "rw3"
                },
                {
                  "avg_capacity": 2.0080854193773034,
                  "avg_current": -0.028,
                  "avg_temperature": 20.64339,
                  "avg_voltage": 4.2,
                  "datetime": "2020-01-01 02:33:30",
                  "min_cycle": "921",
                  "unit": "rw3"
                },
                {
                  "avg_capacity": 2.008805024675981,
                  "avg_current": -0.028,
                  "avg_temperature": 20.64339,
                  "avg_voltage": 4.2,
                  "datetime": "2020-01-01 02:33:40",
                  "min_cycle": "922",
                  "unit": "rw3"
                },
                {
                  "avg_capacity": 2.0085001054838947,
                  "avg_current": -0.027,
                  "avg_temperature": 20.64339,
                  "avg_voltage": 4.2,
                  "datetime": "2020-01-01 02:33:50",
                  "min_cycle": "923",
                  "unit": "rw3"
                },
                {
                  "avg_capacity": 2.0090637906442774,
                  "avg_current": -0.027,
                  "avg_temperature": 20.65897,
                  "avg_voltage": 4.2,
                  "datetime": "2020-01-01 02:34:00",
                  "min_cycle": "924",
                  "unit": "rw3"
                },
                {
                  "avg_capacity": 2.007155426784872,
                  "avg_current": -0.028,
                  "avg_temperature": 20.65897,
                  "avg_voltage": 4.2,
                  "datetime": "2020-01-01 02:34:10",
                  "min_cycle": "925",
                  "unit": "rw3"
                },
                {
                  "avg_capacity": 2.009280313569762,
                  "avg_current": -0.027,
                  "avg_temperature": 20.64339,
                  "avg_voltage": 4.2,
                  "datetime": "2020-01-01 02:34:20",
                  "min_cycle": "926",
                  "unit": "rw3"
                },
                {
                  "avg_capacity": 2.009690228212765,
                  "avg_current": -0.028,
                  "avg_temperature": 20.65897,
                  "avg_voltage": 4.2,
                  "datetime": "2020-01-01 02:34:30",
                  "min_cycle": "927",
                  "unit": "rw3"
                },
                {
                  "avg_capacity": 2.0092982799110874,
                  "avg_current": -0.028,
                  "avg_temperature": 20.64339,
                  "avg_voltage": 4.2,
                  "datetime": "2020-01-01 02:34:40",
                  "min_cycle": "928",
                  "unit": "rw3"
                },
                {
                  "avg_capacity": 2.009259926187496,
                  "avg_current": -0.028,
                  "avg_temperature": 20.65897,
                  "avg_voltage": 4.2,
                  "datetime": "2020-01-01 02:34:50",
                  "min_cycle": "929",
                  "unit": "rw3"
                },
                {
                  "avg_capacity": 2.0089764496399876,
                  "avg_current": -0.028,
                  "avg_temperature": 20.64339,
                  "avg_voltage": 4.2,
                  "datetime": "2020-01-01 02:35:00",
                  "min_cycle": "930",
                  "unit": "rw3"
                },
                {
                  "avg_capacity": 2.0079273987981705,
                  "avg_current": -0.028,
                  "avg_temperature": 20.65897,
                  "avg_voltage": 4.2,
                  "datetime": "2020-01-01 02:35:10",
                  "min_cycle": "931",
                  "unit": "rw3"
                },
                {
                  "avg_capacity": 2.008164107800653,
                  "avg_current": -0.027,
                  "avg_temperature": 20.65897,
                  "avg_voltage": 4.2,
                  "datetime": "2020-01-01 02:35:20",
                  "min_cycle": "932",
                  "unit": "rw3"
                },
                {
                  "avg_capacity": 2.009082936168097,
                  "avg_current": -0.027,
                  "avg_temperature": 20.65897,
                  "avg_voltage": 4.2,
                  "datetime": "2020-01-01 02:35:30",
                  "min_cycle": "933",
                  "unit": "rw3"
                },
                {
                  "avg_capacity": 2.0091170939790053,
                  "avg_current": -0.027,
                  "avg_temperature": 20.64339,
                  "avg_voltage": 4.2,
                  "datetime": "2020-01-01 02:35:40",
                  "min_cycle": "934",
                  "unit": "rw3"
                },
                {
                  "avg_capacity": 2.009660246428419,
                  "avg_current": -0.027,
                  "avg_temperature": 20.64339,
                  "avg_voltage": 4.2,
                  "datetime": "2020-01-01 02:35:50",
                  "min_cycle": "935",
                  "unit": "rw3"
                },
                {
                  "avg_capacity": 2.008995816962674,
                  "avg_current": -0.027,
                  "avg_temperature": 20.64339,
                  "avg_voltage": 4.2,
                  "datetime": "2020-01-01 02:36:00",
                  "min_cycle": "936",
                  "unit": "rw3"
                },
                {
                  "avg_capacity": 2.010031100129631,
                  "avg_current": -0.027,
                  "avg_temperature": 20.62782,
                  "avg_voltage": 4.2,
                  "datetime": "2020-01-01 02:36:10",
                  "min_cycle": "937",
                  "unit": "rw3"
                },
                {
                  "avg_capacity": 2.0095669977919797,
                  "avg_current": -0.026,
                  "avg_temperature": 20.64339,
                  "avg_voltage": 4.2,
                  "datetime": "2020-01-01 02:36:20",
                  "min_cycle": "938",
                  "unit": "rw3"
                },
                {
                  "avg_capacity": 2.0099778126183723,
                  "avg_current": -0.026,
                  "avg_temperature": 20.64339,
                  "avg_voltage": 4.2,
                  "datetime": "2020-01-01 02:36:30",
                  "min_cycle": "939",
                  "unit": "rw3"
                },
                {
                  "avg_capacity": 2.008225186376213,
                  "avg_current": -0.025,
                  "avg_temperature": 20.62782,
                  "avg_voltage": 4.2,
                  "datetime": "2020-01-01 02:36:40",
                  "min_cycle": "940",
                  "unit": "rw3"
                },
                {
                  "avg_capacity": 2.009487429596015,
                  "avg_current": -0.025,
                  "avg_temperature": 20.62782,
                  "avg_voltage": 4.2,
                  "datetime": "2020-01-01 02:36:50",
                  "min_cycle": "941",
                  "unit": "rw3"
                },
                {
                  "avg_capacity": 2.009619510781066,
                  "avg_current": -0.027,
                  "avg_temperature": 20.64339,
                  "avg_voltage": 4.2,
                  "datetime": "2020-01-01 02:37:00",
                  "min_cycle": "942",
                  "unit": "rw3"
                },
                {
                  "avg_capacity": 2.011379443296872,
                  "avg_current": -0.025,
                  "avg_temperature": 20.62782,
                  "avg_voltage": 4.2,
                  "datetime": "2020-01-01 02:37:10",
                  "min_cycle": "943",
                  "unit": "rw3"
                },
                {
                  "avg_capacity": 2.0093037550500923,
                  "avg_current": -0.026,
                  "avg_temperature": 20.64339,
                  "avg_voltage": 4.2,
                  "datetime": "2020-01-01 02:37:20",
                  "min_cycle": "944",
                  "unit": "rw3"
                },
                {
                  "avg_capacity": 2.0089106110609674,
                  "avg_current": -0.026,
                  "avg_temperature": 20.64339,
                  "avg_voltage": 4.2,
                  "datetime": "2020-01-01 02:37:30",
                  "min_cycle": "945",
                  "unit": "rw3"
                },
                {
                  "avg_capacity": 2.009960689138417,
                  "avg_current": -0.026,
                  "avg_temperature": 20.64339,
                  "avg_voltage": 4.2,
                  "datetime": "2020-01-01 02:37:40",
                  "min_cycle": "946",
                  "unit": "rw3"
                },
                {
                  "avg_capacity": 2.0085571915714535,
                  "avg_current": -0.025,
                  "avg_temperature": 20.64339,
                  "avg_voltage": 4.2,
                  "datetime": "2020-01-01 02:37:50",
                  "min_cycle": "947",
                  "unit": "rw3"
                },
                {
                  "avg_capacity": 2.0094538429479156,
                  "avg_current": -0.025,
                  "avg_temperature": 20.62782,
                  "avg_voltage": 4.2,
                  "datetime": "2020-01-01 02:38:00",
                  "min_cycle": "948",
                  "unit": "rw3"
                },
                {
                  "avg_capacity": 2.008544915426945,
                  "avg_current": -0.025,
                  "avg_temperature": 20.64339,
                  "avg_voltage": 4.2,
                  "datetime": "2020-01-01 02:38:10",
                  "min_cycle": "949",
                  "unit": "rw3"
                },
                {
                  "avg_capacity": 2.0097609259062517,
                  "avg_current": -0.025,
                  "avg_temperature": 20.64339,
                  "avg_voltage": 4.2,
                  "datetime": "2020-01-01 02:38:20",
                  "min_cycle": "950",
                  "unit": "rw3"
                },
                {
                  "avg_capacity": 2.0080447694920225,
                  "avg_current": -0.025,
                  "avg_temperature": 20.64339,
                  "avg_voltage": 4.2,
                  "datetime": "2020-01-01 02:38:30",
                  "min_cycle": "951",
                  "unit": "rw3"
                },
                {
                  "avg_capacity": 2.007846871223019,
                  "avg_current": -0.025,
                  "avg_temperature": 20.65897,
                  "avg_voltage": 4.2,
                  "datetime": "2020-01-01 02:38:40",
                  "min_cycle": "952",
                  "unit": "rw3"
                },
                {
                  "avg_capacity": 2.0068920292558627,
                  "avg_current": -0.023,
                  "avg_temperature": 20.67454,
                  "avg_voltage": 4.2,
                  "datetime": "2020-01-01 02:38:50",
                  "min_cycle": "953",
                  "unit": "rw3"
                },
                {
                  "avg_capacity": 2.0088616319885064,
                  "avg_current": -0.025,
                  "avg_temperature": 20.65897,
                  "avg_voltage": 4.2,
                  "datetime": "2020-01-01 02:39:00",
                  "min_cycle": "954",
                  "unit": "rw3"
                },
                {
                  "avg_capacity": 2.008519593496641,
                  "avg_current": -0.024,
                  "avg_temperature": 20.65897,
                  "avg_voltage": 4.2,
                  "datetime": "2020-01-01 02:39:10",
                  "min_cycle": "955",
                  "unit": "rw3"
                },
                {
                  "avg_capacity": 2.0064175514451015,
                  "avg_current": -0.025,
                  "avg_temperature": 20.65897,
                  "avg_voltage": 4.2,
                  "datetime": "2020-01-01 02:39:20",
                  "min_cycle": "956",
                  "unit": "rw3"
                },
                {
                  "avg_capacity": 2.0065937044548354,
                  "avg_current": -0.025,
                  "avg_temperature": 20.65897,
                  "avg_voltage": 4.2,
                  "datetime": "2020-01-01 02:39:30",
                  "min_cycle": "957",
                  "unit": "rw3"
                },
                {
                  "avg_capacity": 2.009322887390655,
                  "avg_current": -0.024,
                  "avg_temperature": 20.65897,
                  "avg_voltage": 4.2,
                  "datetime": "2020-01-01 02:39:40",
                  "min_cycle": "958",
                  "unit": "rw3"
                },
                {
                  "avg_capacity": 2.0081255059658694,
                  "avg_current": -0.024,
                  "avg_temperature": 20.65897,
                  "avg_voltage": 4.2,
                  "datetime": "2020-01-01 02:39:50",
                  "min_cycle": "959",
                  "unit": "rw3"
                },
                {
                  "avg_capacity": 2.0086939364667686,
                  "avg_current": -0.024,
                  "avg_temperature": 20.65897,
                  "avg_voltage": 4.2,
                  "datetime": "2020-01-01 02:40:00",
                  "min_cycle": "960",
                  "unit": "rw3"
                },
                {
                  "avg_capacity": 2.009960090498538,
                  "avg_current": -0.023,
                  "avg_temperature": 20.65897,
                  "avg_voltage": 4.2,
                  "datetime": "2020-01-01 02:40:10",
                  "min_cycle": "961",
                  "unit": "rw3"
                },
                {
                  "avg_capacity": 2.009461324308006,
                  "avg_current": -0.024,
                  "avg_temperature": 20.65897,
                  "avg_voltage": 4.2,
                  "datetime": "2020-01-01 02:40:20",
                  "min_cycle": "962",
                  "unit": "rw3"
                },
                {
                  "avg_capacity": 2.0085481787149067,
                  "avg_current": -0.024,
                  "avg_temperature": 20.65897,
                  "avg_voltage": 4.2,
                  "datetime": "2020-01-01 02:40:30",
                  "min_cycle": "963",
                  "unit": "rw3"
                },
                {
                  "avg_capacity": 2.0078771415605354,
                  "avg_current": -0.024,
                  "avg_temperature": 20.67454,
                  "avg_voltage": 4.2,
                  "datetime": "2020-01-01 02:40:40",
                  "min_cycle": "964",
                  "unit": "rw3"
                },
                {
                  "avg_capacity": 2.009283134028264,
                  "avg_current": -0.023,
                  "avg_temperature": 20.65897,
                  "avg_voltage": 4.2,
                  "datetime": "2020-01-01 02:40:50",
                  "min_cycle": "965",
                  "unit": "rw3"
                },
                {
                  "avg_capacity": 2.0109425096150972,
                  "avg_current": -0.023,
                  "avg_temperature": 20.65897,
                  "avg_voltage": 4.2,
                  "datetime": "2020-01-01 02:41:00",
                  "min_cycle": "966",
                  "unit": "rw3"
                },
                {
                  "avg_capacity": 2.0102237211069762,
                  "avg_current": -0.024,
                  "avg_temperature": 20.65897,
                  "avg_voltage": 4.2,
                  "datetime": "2020-01-01 02:41:10",
                  "min_cycle": "967",
                  "unit": "rw3"
                },
                {
                  "avg_capacity": 2.0086985377507043,
                  "avg_current": -0.023,
                  "avg_temperature": 20.65897,
                  "avg_voltage": 4.2,
                  "datetime": "2020-01-01 02:41:20",
                  "min_cycle": "968",
                  "unit": "rw3"
                },
                {
                  "avg_capacity": 2.009313940676943,
                  "avg_current": -0.023,
                  "avg_temperature": 20.67454,
                  "avg_voltage": 4.2,
                  "datetime": "2020-01-01 02:41:30",
                  "min_cycle": "969",
                  "unit": "rw3"
                },
                {
                  "avg_capacity": 2.0073522824994887,
                  "avg_current": -0.022,
                  "avg_temperature": 20.65897,
                  "avg_voltage": 4.2,
                  "datetime": "2020-01-01 02:41:40",
                  "min_cycle": "970",
                  "unit": "rw3"
                },
                {
                  "avg_capacity": 2.0073168480358112,
                  "avg_current": -0.023,
                  "avg_temperature": 20.65897,
                  "avg_voltage": 4.2,
                  "datetime": "2020-01-01 02:41:50",
                  "min_cycle": "971",
                  "unit": "rw3"
                },
                {
                  "avg_capacity": 2.008945800630989,
                  "avg_current": -0.023,
                  "avg_temperature": 20.64339,
                  "avg_voltage": 4.2,
                  "datetime": "2020-01-01 02:42:00",
                  "min_cycle": "972",
                  "unit": "rw3"
                },
                {
                  "avg_capacity": 2.0101046456986853,
                  "avg_current": -0.021,
                  "avg_temperature": 20.65897,
                  "avg_voltage": 4.2,
                  "datetime": "2020-01-01 02:42:10",
                  "min_cycle": "973",
                  "unit": "rw3"
                },
                {
                  "avg_capacity": 2.0101652301598536,
                  "avg_current": -0.022,
                  "avg_temperature": 20.65897,
                  "avg_voltage": 4.2,
                  "datetime": "2020-01-01 02:42:20",
                  "min_cycle": "974",
                  "unit": "rw3"
                },
                {
                  "avg_capacity": 2.0078169524607823,
                  "avg_current": -0.022,
                  "avg_temperature": 20.65897,
                  "avg_voltage": 4.2,
                  "datetime": "2020-01-01 02:42:30",
                  "min_cycle": "975",
                  "unit": "rw3"
                },
                {
                  "avg_capacity": 2.008584900079175,
                  "avg_current": -0.022,
                  "avg_temperature": 20.65897,
                  "avg_voltage": 4.2,
                  "datetime": "2020-01-01 02:42:40",
                  "min_cycle": "976",
                  "unit": "rw3"
                },
                {
                  "avg_capacity": 2.006830950141234,
                  "avg_current": -0.021,
                  "avg_temperature": 20.65897,
                  "avg_voltage": 4.2,
                  "datetime": "2020-01-01 02:42:50",
                  "min_cycle": "977",
                  "unit": "rw3"
                },
                {
                  "avg_capacity": 2.009144824652766,
                  "avg_current": -0.023,
                  "avg_temperature": 20.64339,
                  "avg_voltage": 4.2,
                  "datetime": "2020-01-01 02:43:00",
                  "min_cycle": "978",
                  "unit": "rw3"
                },
                {
                  "avg_capacity": 2.009174022408526,
                  "avg_current": -0.023,
                  "avg_temperature": 20.64339,
                  "avg_voltage": 4.2,
                  "datetime": "2020-01-01 02:43:10",
                  "min_cycle": "979",
                  "unit": "rw3"
                },
                {
                  "avg_capacity": 2.0104989496049726,
                  "avg_current": -0.022,
                  "avg_temperature": 20.65897,
                  "avg_voltage": 4.2,
                  "datetime": "2020-01-01 02:43:20",
                  "min_cycle": "980",
                  "unit": "rw3"
                },
                {
                  "avg_capacity": 2.0083857220570107,
                  "avg_current": -0.022,
                  "avg_temperature": 20.65897,
                  "avg_voltage": 4.2,
                  "datetime": "2020-01-01 02:43:30",
                  "min_cycle": "981",
                  "unit": "rw3"
                },
                {
                  "avg_capacity": 2.0096992178637727,
                  "avg_current": -0.022,
                  "avg_temperature": 20.67454,
                  "avg_voltage": 4.2,
                  "datetime": "2020-01-01 02:43:40",
                  "min_cycle": "982",
                  "unit": "rw3"
                },
                {
                  "avg_capacity": 2.0094150074851065,
                  "avg_current": -0.022,
                  "avg_temperature": 20.67454,
                  "avg_voltage": 4.2,
                  "datetime": "2020-01-01 02:43:50",
                  "min_cycle": "983",
                  "unit": "rw3"
                },
                {
                  "avg_capacity": 2.009824378868875,
                  "avg_current": -0.022,
                  "avg_temperature": 20.65897,
                  "avg_voltage": 4.2,
                  "datetime": "2020-01-01 02:44:00",
                  "min_cycle": "984",
                  "unit": "rw3"
                },
                {
                  "avg_capacity": 2.0104998789415243,
                  "avg_current": -0.022,
                  "avg_temperature": 20.67454,
                  "avg_voltage": 4.2,
                  "datetime": "2020-01-01 02:44:10",
                  "min_cycle": "985",
                  "unit": "rw3"
                },
                {
                  "avg_capacity": 2.0106108621802092,
                  "avg_current": -0.021,
                  "avg_temperature": 20.67454,
                  "avg_voltage": 4.2,
                  "datetime": "2020-01-01 02:44:20",
                  "min_cycle": "986",
                  "unit": "rw3"
                },
                {
                  "avg_capacity": 2.0073615076618228,
                  "avg_current": -0.022,
                  "avg_temperature": 20.67454,
                  "avg_voltage": 4.2,
                  "datetime": "2020-01-01 02:44:30",
                  "min_cycle": "987",
                  "unit": "rw3"
                },
                {
                  "avg_capacity": 2.008766450658929,
                  "avg_current": -0.022,
                  "avg_temperature": 20.67454,
                  "avg_voltage": 4.2,
                  "datetime": "2020-01-01 02:44:40",
                  "min_cycle": "988",
                  "unit": "rw3"
                },
                {
                  "avg_capacity": 2.0105613808655725,
                  "avg_current": -0.022,
                  "avg_temperature": 20.67454,
                  "avg_voltage": 4.2,
                  "datetime": "2020-01-01 02:44:50",
                  "min_cycle": "989",
                  "unit": "rw3"
                },
                {
                  "avg_capacity": 2.0085868021154165,
                  "avg_current": -0.02,
                  "avg_temperature": 20.67454,
                  "avg_voltage": 4.2,
                  "datetime": "2020-01-01 02:45:00",
                  "min_cycle": "990",
                  "unit": "rw3"
                },
                {
                  "avg_capacity": 2.009437714107103,
                  "avg_current": -0.021,
                  "avg_temperature": 20.69011,
                  "avg_voltage": 4.2,
                  "datetime": "2020-01-01 02:45:10",
                  "min_cycle": "991",
                  "unit": "rw3"
                },
                {
                  "avg_capacity": 2.009178986856501,
                  "avg_current": -0.02,
                  "avg_temperature": 20.67454,
                  "avg_voltage": 4.2,
                  "datetime": "2020-01-01 02:45:20",
                  "min_cycle": "992",
                  "unit": "rw3"
                },
                {
                  "avg_capacity": 2.008087333583943,
                  "avg_current": -0.02,
                  "avg_temperature": 20.67454,
                  "avg_voltage": 4.2,
                  "datetime": "2020-01-01 02:45:30",
                  "min_cycle": "993",
                  "unit": "rw3"
                },
                {
                  "avg_capacity": 2.009218814337134,
                  "avg_current": -0.021,
                  "avg_temperature": 20.67454,
                  "avg_voltage": 4.2,
                  "datetime": "2020-01-01 02:45:40",
                  "min_cycle": "994",
                  "unit": "rw3"
                },
                {
                  "avg_capacity": 2.0095415767033526,
                  "avg_current": -0.021,
                  "avg_temperature": 20.65897,
                  "avg_voltage": 4.2,
                  "datetime": "2020-01-01 02:45:50",
                  "min_cycle": "995",
                  "unit": "rw3"
                },
                {
                  "avg_capacity": 2.0098184535631973,
                  "avg_current": -0.02,
                  "avg_temperature": 20.65897,
                  "avg_voltage": 4.2,
                  "datetime": "2020-01-01 02:46:00",
                  "min_cycle": "996",
                  "unit": "rw3"
                },
                {
                  "avg_capacity": 2.009205186656789,
                  "avg_current": -0.02,
                  "avg_temperature": 20.67454,
                  "avg_voltage": 4.2,
                  "datetime": "2020-01-01 02:46:10",
                  "min_cycle": "997",
                  "unit": "rw3"
                },
                {
                  "avg_capacity": 2.0109523275446497,
                  "avg_current": -0.02,
                  "avg_temperature": 20.67454,
                  "avg_voltage": 4.2,
                  "datetime": "2020-01-01 02:46:20",
                  "min_cycle": "998",
                  "unit": "rw3"
                },
                {
                  "avg_capacity": 2.010324267803652,
                  "avg_current": -0.021,
                  "avg_temperature": 20.67454,
                  "avg_voltage": 4.2,
                  "datetime": "2020-01-01 02:46:30",
                  "min_cycle": "999",
                  "unit": "rw3"
                },
                {
                  "avg_capacity": 2.007752641823832,
                  "avg_current": -0.02,
                  "avg_temperature": 20.67454,
                  "avg_voltage": 4.2,
                  "datetime": "2020-01-01 02:46:40",
                  "min_cycle": "1000",
                  "unit": "rw3"
                }
              ],
              "schema": {
                "avg_capacity": "double",
                "avg_current": "double",
                "avg_temperature": "double",
                "avg_voltage": "double",
                "datetime": "string",
                "min_cycle": "string",
                "unit": "string"
              }
            }
          },
          "type": "Synapse.DataFrame"
        },
        "bf5c36cc-346b-46da-9cb3-29780d680295": {
          "persist_state": {
            "view": {
              "chartOptions": {
                "aggregationType": "count",
                "categoryFieldKeys": [
                  "unit"
                ],
                "chartType": "bar",
                "isStacked": false,
                "seriesFieldKeys": [
                  "unit"
                ]
              },
              "type": "details"
            }
          },
          "sync_state": {
            "isSummary": false,
            "language": "scala",
            "table": {
              "rows": [
                {
                  "capacity": "1.696223178861471",
                  "current": "2.499",
                  "cycle": "888038",
                  "datetime": "2020-02-04 04:49:06",
                  "temperature": "-4094.09814",
                  "time": "2954946.0000000023",
                  "unit": "rw3",
                  "voltage": "3.407"
                },
                {
                  "capacity": "1.6959617874394282",
                  "current": "0.0",
                  "cycle": "888039",
                  "datetime": "2020-02-04 04:49:06",
                  "temperature": "-4094.09814",
                  "time": "2954946.010000002",
                  "unit": "rw3",
                  "voltage": "3.599"
                },
                {
                  "capacity": "1.6957815853878864",
                  "current": "0.0",
                  "cycle": "888040",
                  "datetime": "2020-02-04 04:49:06",
                  "temperature": "-4094.09814",
                  "time": "2954946.2200000025",
                  "unit": "rw3",
                  "voltage": "3.627"
                },
                {
                  "capacity": "1.6965794915814851",
                  "current": "3.008",
                  "cycle": "888041",
                  "datetime": "2020-02-04 04:49:06",
                  "temperature": "-4094.09814",
                  "time": "2954946.2600000026",
                  "unit": "rw3",
                  "voltage": "3.375"
                },
                {
                  "capacity": "1.6952278331730763",
                  "current": "3.0",
                  "cycle": "888042",
                  "datetime": "2020-02-04 04:49:07",
                  "temperature": "-4094.09814",
                  "time": "2954947.2600000026",
                  "unit": "rw3",
                  "voltage": "3.363"
                }
              ],
              "schema": {
                "capacity": "string",
                "current": "string",
                "cycle": "string",
                "datetime": "string",
                "temperature": "string",
                "time": "string",
                "unit": "string",
                "voltage": "string"
              }
            }
          },
          "type": "Synapse.DataFrame"
        }
      },
      "version": "0.1"
    }
  },
  "nbformat": 4,
  "nbformat_minor": 2
}